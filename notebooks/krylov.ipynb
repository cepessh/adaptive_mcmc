{
 "cells": [
  {
   "cell_type": "code",
   "execution_count": 1,
   "id": "3510a86a-621f-4dda-9973-720e1d6631b6",
   "metadata": {},
   "outputs": [],
   "source": [
    "import numpy as np\n",
    "import matplotlib.pyplot as plt\n",
    "import pandas as pd"
   ]
  },
  {
   "cell_type": "markdown",
   "id": "21f7807c-955f-4517-b760-4e26d9c9ada5",
   "metadata": {},
   "source": [
    "### Tools"
   ]
  },
  {
   "cell_type": "code",
   "execution_count": null,
   "id": "c5bcfa33-fd99-42e8-bdda-ac55426049c0",
   "metadata": {},
   "outputs": [],
   "source": []
  },
  {
   "cell_type": "markdown",
   "id": "51200523-2a21-41d9-9927-85f357a2f8b7",
   "metadata": {},
   "source": [
    "### Target distribution"
   ]
  },
  {
   "cell_type": "code",
   "execution_count": null,
   "id": "8962ce82-b215-47ed-85a8-57842db9b5f4",
   "metadata": {},
   "outputs": [],
   "source": []
  },
  {
   "cell_type": "markdown",
   "id": "9b7c1b54-5d9a-47b9-a776-25c71978fa42",
   "metadata": {},
   "source": [
    "### MALA baseline"
   ]
  },
  {
   "cell_type": "code",
   "execution_count": null,
   "id": "0dc291a3-10fe-4868-8edc-17acab455dab",
   "metadata": {},
   "outputs": [],
   "source": []
  },
  {
   "cell_type": "markdown",
   "id": "d4bc561a-d22f-4fde-9c46-ebd1bf9e5318",
   "metadata": {},
   "source": [
    "### Original Linear HMC"
   ]
  },
  {
   "cell_type": "code",
   "execution_count": null,
   "id": "6b109e7f-8c07-4fea-8947-f91ad3504d06",
   "metadata": {},
   "outputs": [],
   "source": []
  },
  {
   "cell_type": "markdown",
   "id": "a6e56d02-b565-4a66-a31f-c78210f6cb73",
   "metadata": {},
   "source": [
    "### Krylov Linear HMC"
   ]
  },
  {
   "cell_type": "code",
   "execution_count": null,
   "id": "29afede1-cb84-44f0-9ec2-d988e65a97d2",
   "metadata": {},
   "outputs": [],
   "source": []
  }
 ],
 "metadata": {
  "kernelspec": {
   "display_name": "Python 3 (ipykernel)",
   "language": "python",
   "name": "python3"
  },
  "language_info": {
   "codemirror_mode": {
    "name": "ipython",
    "version": 3
   },
   "file_extension": ".py",
   "mimetype": "text/x-python",
   "name": "python",
   "nbconvert_exporter": "python",
   "pygments_lexer": "ipython3",
   "version": "3.12.0"
  }
 },
 "nbformat": 4,
 "nbformat_minor": 5
}
