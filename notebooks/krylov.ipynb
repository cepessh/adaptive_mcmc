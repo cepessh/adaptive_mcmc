{
 "cells": [
  {
   "cell_type": "code",
   "execution_count": 2,
   "id": "3510a86a-621f-4dda-9973-720e1d6631b6",
   "metadata": {},
   "outputs": [],
   "source": [
    "import numpy as np\n",
    "import matplotlib.pyplot as plt\n",
    "import pandas as pd"
   ]
  },
  {
   "cell_type": "markdown",
   "id": "21f7807c-955f-4517-b760-4e26d9c9ada5",
   "metadata": {},
   "source": [
    "### Tools"
   ]
  },
  {
   "cell_type": "markdown",
   "id": "51200523-2a21-41d9-9927-85f357a2f8b7",
   "metadata": {},
   "source": [
    "### Target distribution"
   ]
  },
  {
   "cell_type": "code",
   "execution_count": null,
   "id": "7a8c5271-c08f-46d8-9044-f050a2649183",
   "metadata": {},
   "outputs": [],
   "source": []
  },
  {
   "cell_type": "markdown",
   "id": "d4bc561a-d22f-4fde-9c46-ebd1bf9e5318",
   "metadata": {},
   "source": [
    "### Linear HMC baseline"
   ]
  },
  {
   "cell_type": "code",
   "execution_count": null,
   "id": "6b109e7f-8c07-4fea-8947-f91ad3504d06",
   "metadata": {},
   "outputs": [],
   "source": []
  },
  {
   "cell_type": "markdown",
   "id": "a6e56d02-b565-4a66-a31f-c78210f6cb73",
   "metadata": {},
   "source": [
    "### Linear HMC Krylov"
   ]
  },
  {
   "cell_type": "code",
   "execution_count": null,
   "id": "29afede1-cb84-44f0-9ec2-d988e65a97d2",
   "metadata": {},
   "outputs": [],
   "source": []
  }
 ],
 "metadata": {
  "kernelspec": {
   "display_name": "Python 3 (ipykernel)",
   "language": "python",
   "name": "python3"
  },
  "language_info": {
   "codemirror_mode": {
    "name": "ipython",
    "version": 3
   },
   "file_extension": ".py",
   "mimetype": "text/x-python",
   "name": "python",
   "nbconvert_exporter": "python",
   "pygments_lexer": "ipython3",
   "version": "3.11.7"
  }
 },
 "nbformat": 4,
 "nbformat_minor": 5
}
