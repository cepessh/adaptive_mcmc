{
 "cells": [
  {
   "cell_type": "code",
   "execution_count": 1,
   "id": "ca26255f-94fa-4cca-aafa-7244110bb174",
   "metadata": {},
   "outputs": [
    {
     "name": "stderr",
     "output_type": "stream",
     "text": [
      "2025-05-23 23:03:21.409758: E external/local_xla/xla/stream_executor/cuda/cuda_fft.cc:477] Unable to register cuFFT factory: Attempting to register factory for plugin cuFFT when one has already been registered\n",
      "WARNING: All log messages before absl::InitializeLog() is called are written to STDERR\n",
      "E0000 00:00:1748030601.420875    3968 cuda_dnn.cc:8310] Unable to register cuDNN factory: Attempting to register factory for plugin cuDNN when one has already been registered\n",
      "E0000 00:00:1748030601.423614    3968 cuda_blas.cc:1418] Unable to register cuBLAS factory: Attempting to register factory for plugin cuBLAS when one has already been registered\n"
     ]
    }
   ],
   "source": [
    "from copy import deepcopy\n",
    "import tqdm.notebook\n",
    "\n",
    "import jax.numpy as jnp\n",
    "import matplotlib.pyplot as plt\n",
    "\n",
    "import numpy as np\n",
    "import pandas as pd\n",
    "import torch\n",
    "\n",
    "from adaptive_mcmc.distributions.distribution import (\n",
    "    GaussianMixture,\n",
    "    FunnelDistribution,\n",
    "    Gaussian,\n",
    "    BananaDistribution,\n",
    ")\n",
    "from adaptive_mcmc.samplers import (\n",
    "    base_sampler,\n",
    "    mala,\n",
    "    fishermala,\n",
    "    hmc,\n",
    "    hmcadaptive,\n",
    ")\n",
    "from adaptive_mcmc.samplers.stopping_rule import NoStop\n",
    "from adaptive_mcmc.tools.benchmark import BenchmarkUtils\n",
    "from adaptive_mcmc.tools.metrics import compute_ess, compute_emd\n",
    "\n",
    "from typing import Tuple, Optional"
   ]
  },
  {
   "cell_type": "code",
   "execution_count": 2,
   "id": "1f316835-2bc2-4e0c-97fd-5143e78232e2",
   "metadata": {},
   "outputs": [],
   "source": [
    "seed = 123\n",
    "torch.manual_seed(seed)\n",
    "\n",
    "device = \"cpu\"\n",
    "\n",
    "hparams = {\n",
    "    \"mala\": {\n",
    "        \"common\": mala.MALACommonParams(\n",
    "            sigma=1e0,\n",
    "            sigma_lr=1e-2,    \n",
    "        ),\n",
    "    },\n",
    "    # \"fisher_mala\": {\n",
    "    #     \"common\": fishermala.FisherMALACommonParams(\n",
    "    #         dampening=100,\n",
    "    #         sigma=1e0,\n",
    "    #         sigma_lr=1e-2,\n",
    "    #     ),\n",
    "    # },\n",
    "    \"hmc_vanilla\": {\n",
    "        \"common\": hmc.HMCCommonParams(\n",
    "            lf_step_count=50,\n",
    "            lf_step_size=1e-1,\n",
    "            lf_step_size_max=5e-1,\n",
    "        ),\n",
    "        \"fixed\": hmc.HMCFixedParams(no_grad=True, stop_grad=False),\n",
    "    },\n",
    "    \"taylor_nograd\": {\n",
    "        \"common\": hmcadaptive.HMCAdaptiveCommonParams(\n",
    "            lf_step_count=50,\n",
    "            lf_step_size=1e-1,\n",
    "            lf_step_size_max=5e-1,\n",
    "            learning_rate=3e-4,\n",
    "            truncation_level_prob=0.5,\n",
    "            min_truncation_level=2,\n",
    "            entropy_weight=1e-1,\n",
    "            entropy_weight_min=1e-3,\n",
    "            entropy_weight_max=1e2,\n",
    "            penalty_weight_max=1e1,\n",
    "            penalty_weight=1e-3,\n",
    "            penalty_weight_adaptive_rate=1e-3,\n",
    "            clip_grad_value=1e1,\n",
    "        ),\n",
    "        \"fixed\": hmcadaptive.HMCAdaptiveFixedParams(\n",
    "            prec_init_scale=1e-9,\n",
    "            no_grad=True,\n",
    "            stop_grad=False,\n",
    "            backprop_method=\"approx\",\n",
    "            prec_type=\"tridiag\",\n",
    "            # iter_count=10000,\n",
    "            # scheduler_cls=hmcadaptive.WarmupCosineAnnealingScheduler\n",
    "        ),\n",
    "    },\n",
    "    \"lanczos_nograd\": {\n",
    "        \"common\": hmcadaptive.HMCAdaptiveCommonParams(\n",
    "            lf_step_count=50,\n",
    "            lf_step_size=1e-1,\n",
    "            lf_step_size_max=5e-1,\n",
    "            learning_rate=3e-4,\n",
    "            entropy_weight=1e-1,\n",
    "            entropy_weight_min=1e-3,\n",
    "            entropy_weight_max=1e2,\n",
    "            clip_grad_value=1e1,\n",
    "            lanczos_steps=8,\n",
    "            krylov_probe_vectors=1,\n",
    "            # iter_count=10000,\n",
    "            # scheduler_cls=hmcadaptive.WarmupCosineAnnealingScheduler\n",
    "        ),\n",
    "        \"fixed\": hmcadaptive.HMCAdaptiveFixedParams(\n",
    "            prec_init_scale=1e-9,\n",
    "            no_grad=True,\n",
    "            stop_grad=False,\n",
    "            backprop_method=\"approx\",\n",
    "            prec_type=\"tridiag\",\n",
    "            trace_method=hmcadaptive.TraceMethod.HUTCH_LANCZOS,\n",
    "            # iter_count=10000,\n",
    "            # scheduler_cls=hmcadaptive.WarmupCosineAnnealingScheduler\n",
    "        ),\n",
    "    },\n",
    "    # \"hmcadaptive_hutch_taylor\": {\n",
    "    #     \"common\": hmcadaptive.HMCAdaptiveCommonParams(\n",
    "    #         lf_step_count=25,\n",
    "    #         lf_step_size=0.1,\n",
    "    #         learning_rate=1e-3,\n",
    "    #         truncation_level_prob=0.5,\n",
    "    #         min_truncation_level=2,\n",
    "    #         entropy_weight=1e-1,\n",
    "    #         entropy_weight_min=1e-3,\n",
    "    #         entropy_weight_max=1e2,\n",
    "    #         penalty_weight_max=1e1,\n",
    "    #         penalty_weight=1e-3,\n",
    "    #         penalty_weight_adaptive_rate=1e-3,\n",
    "    #         clip_grad_value=1e1,\n",
    "    #     ),\n",
    "    #     \"fixed\": hmcadaptive.HMCAdaptiveFixedParams(\n",
    "    #         prec_init_scale=1e-1,\n",
    "    #         no_grad=False,\n",
    "    #         stop_grad=False,\n",
    "    #         prec_type=\"tridiag\",\n",
    "    #         # iter_count=10000,\n",
    "    #         # scheduler_cls=hmcadaptive.WarmupCosineAnnealingScheduler\n",
    "    #     ),\n",
    "    # },\n",
    "    # \"hmcadaptive_hutch_lanczos\": hmcadaptive.HMCAdaptiveParams(\n",
    "    #     lf_step_count=5,\n",
    "    #     lf_step_size=0.1,\n",
    "    #     learning_rate=1e-2,\n",
    "    #     entropy_weight=1e-1,\n",
    "    #     entropy_weight_min=1e-3,\n",
    "    #     entropy_weight_max=1e2,\n",
    "    #     clip_grad_value=1e6,\n",
    "    #     prec_init_scale=1e0,\n",
    "    #     trace_method=hmcadaptive.TraceMethod.HUTCH_LANCZOS,\n",
    "    #     lanczos_steps=4,\n",
    "    #     krylov_probe_vectors=1,\n",
    "    #     # iter_count=10000,\n",
    "    #     # scheduler_cls=hmcadaptive.WarmupCosineAnnealingScheduler\n",
    "    # ),\n",
    "    # \"hmcadaptive_noent\": hmcadaptive.HMCAdaptiveParams(\n",
    "    #     lf_step_count=5,\n",
    "    #     lf_step_size=0.1,\n",
    "    #     learning_rate=1e-4,\n",
    "    #     clip_grad_value=1e6,\n",
    "    #     prec_init_scale=1e0,\n",
    "    #     entropy_method=\"none\",\n",
    "    #     # iter_count=10000,\n",
    "    #     # scheduler_cls=hmcadaptive.WarmupCosineAnnealingScheduler\n",
    "    # ),\n",
    "    # \"hmcadaptive_fullent\": hmcadaptive.HMCAdaptiveParams(\n",
    "    #     lf_step_count=5,\n",
    "    #     lf_step_size=0.1,\n",
    "    #     learning_rate=1e-2,\n",
    "    #     entropy_weight=1e-1,\n",
    "    #     entropy_weight_min=1e-3,\n",
    "    #     entropy_weight_max=1e2,\n",
    "    #     clip_grad_value=1e6,\n",
    "    #     prec_init_scale=1e0,\n",
    "    #     trace_method=hmcadaptive.TraceMethod.HUTCH_LANCZOS,\n",
    "    #     lanczos_steps=4,\n",
    "    #     krylov_probe_vectors=1,\n",
    "    #     entropy_method=\"full\",\n",
    "    #     # iter_count=10000,\n",
    "    #     # scheduler_cls=hmcadaptive.WarmupCosineAnnealingScheduler\n",
    "    # ),\n",
    "}"
   ]
  },
  {
   "cell_type": "code",
   "execution_count": 3,
   "id": "283bd108-9f67-4c89-abe8-bcd94b294b49",
   "metadata": {},
   "outputs": [],
   "source": [
    "def get_random_GM(\n",
    "    gaussian_count: int,\n",
    "    dimension: int,\n",
    "    cube: float,\n",
    "    eps: float=5e-1,\n",
    "    scale: float=5.,\n",
    "):\n",
    "    true_means = torch.rand((gaussian_count, dimension)) * cube - cube / 2\n",
    "    scales = torch.rand((gaussian_count, dimension)) * scale\n",
    "\n",
    "    while True:\n",
    "        try:\n",
    "            true_covs = torch.rand((gaussian_count, dimension, dimension))\n",
    "            true_covs, _ = torch.linalg.qr(true_covs)\n",
    "        \n",
    "            true_covs = (\n",
    "                true_covs @ torch.diag_embed(scales) @ true_covs.permute(0, 2, 1) \n",
    "                + eps * torch.eye(dimension).unsqueeze(0)\n",
    "            )\n",
    "            \n",
    "            # true_covs = (\n",
    "            #     true_covs @ true_covs.permute(0, 2, 1) +\n",
    "            #     torch.eye(dimension).repeat(gaussian_count, 1, 1)\n",
    "            # )\n",
    "        \n",
    "            gm = GaussianMixture(\n",
    "                true_means,\n",
    "                true_covs,\n",
    "                torch.full((gaussian_count,), 1/gaussian_count, dtype=torch.float64)\n",
    "            )\n",
    "            break\n",
    "        except ValueError:\n",
    "            pass\n",
    "            \n",
    "    return gm, true_means"
   ]
  },
  {
   "cell_type": "code",
   "execution_count": 4,
   "id": "99e91164-74f4-4fee-9f0d-d34ae73e24b1",
   "metadata": {},
   "outputs": [],
   "source": [
    "def get_random_GM(\n",
    "    gaussian_count: int,\n",
    "    dimension: int,\n",
    "    cube: float,\n",
    "    eps: float = 5e-1,\n",
    "    scale: float = 1.0,\n",
    "    *,\n",
    "    seed: Optional[int] = None,\n",
    "    device: torch.device | str = \"cpu\",\n",
    "    dtype: torch.dtype = torch.float32,\n",
    ") -> Tuple[GaussianMixture, torch.Tensor]:\n",
    "    \"\"\"\n",
    "    Create a reproducible random Gaussian Mixture.\n",
    "\n",
    "    Parameters\n",
    "    ----------\n",
    "    gaussian_count : int      # number of components\n",
    "    dimension      : int      # dimensionality\n",
    "    cube           : float    # component means ∈ (-cube/2, cube/2)\n",
    "    eps            : float    # ε·I added to each covariance\n",
    "    scale          : float    # upper–bound on random eigen-scales\n",
    "    seed           : int|None # RNG seed for reproducibility\n",
    "    device         : str|torch.device\n",
    "    dtype          : torch.dtype\n",
    "\n",
    "    Returns\n",
    "    -------\n",
    "    gm          : GaussianMixture\n",
    "    true_means  : Tensor (gaussian_count, dimension)\n",
    "    \"\"\"\n",
    "    g = torch.Generator(device=device)\n",
    "    if seed is not None:\n",
    "        g.manual_seed(seed)\n",
    "\n",
    "    true_means = (\n",
    "        torch.rand((gaussian_count, dimension), generator=g, device=device, dtype=dtype)\n",
    "        * cube - cube/2\n",
    "    )\n",
    "\n",
    "    scales = torch.rand((gaussian_count, dimension), generator=g, device=device, dtype=dtype) * scale\n",
    "\n",
    "    while True:\n",
    "        try:\n",
    "            # Q = torch.rand((gaussian_count, dimension, dimension), generator=g, device=device, dtype=dtype)\n",
    "            # Q, _ = torch.linalg.qr(Q)\n",
    "            Q_list = []\n",
    "            for _ in range(gaussian_count):\n",
    "                q = torch.randn((dimension, dimension), generator=g, device=device, dtype=dtype)\n",
    "                q, _ = torch.linalg.qr(q)\n",
    "                Q_list.append(q)\n",
    "            \n",
    "            Q = torch.stack(Q_list, dim=0)  # shape: (gaussian_count, dimension, dimension)\n",
    "\n",
    "\n",
    "            true_covs = (\n",
    "                Q @ torch.diag_embed(scales) @ Q.transpose(-1, -2)\n",
    "                + eps * torch.eye(dimension, device=device, dtype=dtype).unsqueeze(0)\n",
    "            )\n",
    "\n",
    "            gm = GaussianMixture(\n",
    "                true_means,\n",
    "                true_covs,\n",
    "                torch.full((gaussian_count,), 1.0 / gaussian_count, device=device, dtype=dtype),\n",
    "            )\n",
    "            break\n",
    "        except ValueError:\n",
    "            continue\n",
    "\n",
    "    return gm, true_means"
   ]
  },
  {
   "cell_type": "code",
   "execution_count": 5,
   "id": "a7c4c7e8-ed6b-4c13-84ac-150fd70e171e",
   "metadata": {},
   "outputs": [],
   "source": [
    "def generate_simplex(d: int) -> torch.Tensor:\n",
    "    I = torch.eye(d)\n",
    "    \n",
    "    ones = torch.ones((d, d)) / (d+1)\n",
    "    v1d = I - ones\n",
    "    vdp1 = -torch.ones((1, d)) / (d+1)\n",
    "    return torch.cat([v1d, vdp1], dim=0)\n",
    "\n",
    "\n",
    "def get_toeplitz_GM(dimension: int, cube: float, rho: float=0.99, sigma: float=1.):\n",
    "    true_means = generate_simplex(dimension) * cube\n",
    "\n",
    "    inds = torch.arange(dimension)\n",
    "    power = torch.abs(inds.unsqueeze(0) - inds.unsqueeze(1))\n",
    "\n",
    "    true_covs = sigma ** 2 * rho ** power\n",
    "    true_covs = true_covs.repeat(dimension + 1, 1, 1)\n",
    "\n",
    "    gm = GaussianMixture(\n",
    "        true_means,\n",
    "        true_covs,\n",
    "        torch.ones(dimension + 1) / (dimension + 1)\n",
    "    )\n",
    "\n",
    "    return gm, true_means\n",
    "\n",
    "\n",
    "def get_toeplitz_gaussian(dimension: int,\n",
    "                          mean: float = None,\n",
    "                          rho: float = 0.99,\n",
    "                          sigma: float = 1.0) -> tuple:\n",
    "    if mean is None:\n",
    "        mean = torch.zeros(dimension)\n",
    "        \n",
    "    inds = torch.arange(dimension)\n",
    "    power = torch.abs(inds.unsqueeze(0) - inds.unsqueeze(1))\n",
    "    cov = (sigma ** 2) * (rho ** power)\n",
    "    \n",
    "    return Gaussian(mean=mean, cov=cov), mean.unsqueeze(0)\n",
    "\n",
    "\n",
    "def get_illcond_gaussian(dimension: int,\n",
    "                         mean: float = None,\n",
    "                         min_v: float = 1e-2,\n",
    "                         max_v: float = 1e2) -> tuple:\n",
    "    if mean is None:\n",
    "        mean = torch.zeros(dimension)\n",
    "    elif isinstance(mean, (float, int)):\n",
    "        mean = torch.full((dimension,), float(mean))\n",
    "    else:\n",
    "        mean = torch.tensor(mean, dtype=torch.float32)\n",
    "\n",
    "    # Create log-spaced eigenvalues (ill-conditioned spectrum)\n",
    "    eigvals = torch.logspace(torch.log10(torch.tensor(min_v)), \n",
    "                             torch.log10(torch.tensor(max_v)), \n",
    "                             steps=dimension)\n",
    "\n",
    "    # Construct diagonal covariance matrix\n",
    "    cov = torch.diag(eigvals)\n",
    "\n",
    "    return Gaussian(mean=mean, cov=cov), mean.unsqueeze(0)\n",
    "    \n",
    "\n",
    "def sample_se_covariance_torch(dimension, scale=4., noise=0.01, seed=None, device='cpu'):\n",
    "    if seed is not None:\n",
    "        torch.manual_seed(seed)\n",
    "\n",
    "    x = torch.linspace(0, scale, dimension)\n",
    "\n",
    "    x1 = x.unsqueeze(1)\n",
    "    x2 = x.unsqueeze(0)\n",
    "    dist_squared = (x1 - x2) ** 2\n",
    "\n",
    "    K = torch.exp(-0.5 * dist_squared / (0.1 * scale**2))\n",
    "\n",
    "    K += noise * torch.eye(dimension, device=device)\n",
    "\n",
    "    return x, K\n",
    "    \n",
    "def get_deterministic_gaussian_se(dimension: int,\n",
    "                                  mean: float = None,) -> tuple:\n",
    "    if mean is None:\n",
    "        mean = torch.zeros(dimension)\n",
    "        \n",
    "    _, cov = sample_se_covariance_torch(dimension)\n",
    "    \n",
    "    return Gaussian(mean=mean, cov=cov), mean.unsqueeze(0)\n",
    "\n",
    "def get_banana(dimension: int, b: float = 2.):\n",
    "    mean = torch.zeros(dimension)\n",
    "    return BananaDistribution(dimension, b), mean.unsqueeze(0)"
   ]
  },
  {
   "cell_type": "code",
   "execution_count": 6,
   "id": "fd8eb98c-ed23-44b4-94ec-147551f14352",
   "metadata": {},
   "outputs": [],
   "source": [
    "# dist = FunnelDistribution(32, scale=3)\n",
    "\n",
    "#dist, _ = get_toeplitz_gaussian(256, rho=0.95)\n",
    "# dist, _ = get_deterministic_gaussian_se(32)\n",
    "#dist, _ = get_illcond_gaussian(128)\n",
    "dist, _ = get_banana(32, b=10.)\n",
    "\n",
    "# dist, _ = get_random_GM(gaussian_count=25, dimension=32, cube=2., scale=2.,)\n",
    "# dist, _ = get_toeplitz_GM(dimension=32, cube=2., rho=0.9)\n",
    "\n",
    "\n",
    "samples = dist.sample(5000).detach().numpy()"
   ]
  },
  {
   "cell_type": "code",
   "execution_count": 7,
   "id": "d8c61397-4824-4940-8e47-a3eb5cb30787",
   "metadata": {
    "scrolled": true
   },
   "outputs": [
    {
     "data": {
      "text/plain": [
       "<matplotlib.collections.PathCollection at 0x75ef9da7cb60>"
      ]
     },
     "execution_count": 7,
     "metadata": {},
     "output_type": "execute_result"
    },
    {
     "data": {
      "image/png": "[encoded data removed]",
      "text/plain": [
       "<Figure size 640x480 with 1 Axes>"
      ]
     },
     "metadata": {},
     "output_type": "display_data"
    }
   ],
   "source": [
    "plt.scatter(samples[:, 0], samples[:, 1], alpha=0.1)"
   ]
  },
  {
   "cell_type": "code",
   "execution_count": 8,
   "id": "b6be8400-2209-4ad1-b746-5c0d104d0970",
   "metadata": {},
   "outputs": [],
   "source": [
    "def dist_factory(name, dimension, cube=2., scale=2., funnel_scale=3, gaussian_count=25, rho=0.95, sigma=1.,\n",
    "                 min_v=1e-3, max_v=1e3, bending=10.\n",
    "                ):\n",
    "    if name == \"random_gm\":\n",
    "        return get_random_GM(gaussian_count=gaussian_count, dimension=dimension, cube=cube, scale=scale)\n",
    "    elif name == \"toeplitz_gm\":\n",
    "        return get_toeplitz_GM(dimension, cube=cube, rho=rho, sigma=sigma)\n",
    "    elif name == \"toeplitz_gaussian\":\n",
    "        return get_toeplitz_gaussian(dimension, rho=rho, sigma=sigma)\n",
    "    elif name == \"deterministic_gaussian_se\":\n",
    "        return get_deterministic_gaussian_se(dimension)\n",
    "    elif name == \"funnel\":\n",
    "        return FunnelDistribution(dimension, scale=funnel_scale), torch.zeros(1, dimension)\n",
    "    elif name == \"illcond_gaussian\":\n",
    "        return get_illcond_gaussian(dimension, min_v=min_v, max_v=max_v)\n",
    "    elif name == \"banana\":\n",
    "        return get_banana(dimension, b=bending)"
   ]
  },
  {
   "cell_type": "code",
   "execution_count": 9,
   "id": "642b06c2-fb8d-43b6-8d11-391bec35a38e",
   "metadata": {},
   "outputs": [],
   "source": [
    "import pandas as pd\n",
    "from scipy.stats import norm\n",
    "from itertools import combinations\n",
    "\n",
    "\n",
    "def drop_static_chains(samples: torch.Tensor, eps: float = 0.0):\n",
    "    var_per_chain = samples.var(dim=0, unbiased=False)\n",
    "\n",
    "    static = (var_per_chain <= eps).all(dim=-1)\n",
    "    keep_mask = ~static\n",
    "\n",
    "    return samples[:, keep_mask, :], keep_mask.sum().item()\n",
    "\n",
    "\n",
    "def z_test(dim_stat):\n",
    "    all_results = {}\n",
    "    for dim, df in dim_stat.items():\n",
    "        recs = []\n",
    "        algs = df.columns\n",
    "        for A, B in combinations(reversed(algs), 2):\n",
    "    \n",
    "            mA, sA = df.loc['ess_mean', A], df.loc['ess_conf_sigma', A]\n",
    "            mB, sB = df.loc['ess_mean', B], df.loc['ess_conf_sigma', B]\n",
    "            z_ess = (mA - mB) / (sA**2 + sB**2)**0.5\n",
    "            p_ess = norm.sf(z_ess)\n",
    "    \n",
    "            tA, seA = df.loc['tv_mean', A], df.loc['tv_conf_sigma', A]\n",
    "            tB, seB = df.loc['tv_mean', B], df.loc['tv_conf_sigma', B]\n",
    "            z_tv = (tB - tA) / (seA**2 + seB**2)**0.5\n",
    "            p_tv = norm.sf(z_tv)\n",
    "            recs.append({\n",
    "                'alg_A': A, 'alg_B': B,\n",
    "                'z(ESS_A>B)': z_ess, 'p(ESS_A>B)': p_ess,\n",
    "                'z(TV_A<B)': z_tv,  'p(TV_A<B)': p_tv,\n",
    "            })\n",
    "        all_results[dim] = pd.DataFrame.from_records(recs)\n",
    "    return all_results\n",
    "\n",
    "\n",
    "def compute_results(hist_data, algs, dist_name=None):\n",
    "    dim_stat = {}\n",
    "\n",
    "    for dimension in tqdm.notebook.tqdm(dimensions, desc=\"dimension\"):\n",
    "        rows = []\n",
    "        for alg in tqdm.notebook.tqdm(algs, desc=\"alg\", leave=False):\n",
    "            obj = hist_data[dimension][alg]\n",
    "            cache = obj[\"cache\"]\n",
    "            pure_runtime = obj[\"pure_runtime\"]\n",
    "    \n",
    "            clean_samples, n_kept = drop_static_chains(cache.samples)\n",
    "    \n",
    "            metrics = BenchmarkUtils.compute_metrics(clean_samples,\n",
    "                                                     cache.true_samples)\n",
    "            metrics[\"runtime\"]      = pure_runtime\n",
    "            metrics[\"chains_kept\"]  = n_kept\n",
    "            rows.append(metrics)\n",
    "    \n",
    "        df = pd.DataFrame(rows, index=list(algs.keys())).T\n",
    "        dim_stat[dimension] = df\n",
    "        print(f\"\\ndim={dimension}, dist={dist_name}\\n\", df)\n",
    "        print(z_test(dim_stat))\n",
    "    \n",
    "    return dim_stat"
   ]
  },
  {
   "cell_type": "code",
   "execution_count": 10,
   "id": "b8ddf396-4588-424f-8a60-ce9af4ede051",
   "metadata": {
    "scrolled": true
   },
   "outputs": [],
   "source": [
    "def run_experiment(dist_name, log=[]):\n",
    "    hist_data = {}\n",
    "    runtime = {\n",
    "        dimension: dict()\n",
    "        for dimension in dimensions\n",
    "    }\n",
    "    pure_runtime = deepcopy(runtime)\n",
    "    distance_to_mass_points = 1.\n",
    "    \n",
    "    for dimension in tqdm.notebook.tqdm(dimensions):\n",
    "        print(\"Processing dimension\", dimension)\n",
    "        hist_data[dimension] = {}\n",
    "        target_dist, true_means = dist_factory(dist_name, dimension)\n",
    "        \n",
    "        # target_dist, true_means = get_random_GM(gaussian_count, dimension, cube)\n",
    "        # gm, true_means = get_deterministic_GM(dimension, cube)\n",
    "        # true_samples = gm.sample(sample_count)\n",
    "    \n",
    "        # target_dist = FunnelDistribution(dimension, scale=scale)\n",
    "        \n",
    "        # target_dist, _ = get_deterministic_gaussian(dimension, rho=0.8)\n",
    "        # target_dist, _ = get_deterministic_gaussian_se(dimension)\n",
    "    \n",
    "        # true_means = torch.zeros(1, dimension)\n",
    "        true_samples = target_dist.sample(sample_count)\n",
    "        \n",
    "        starting_points = BenchmarkUtils.generate_starting_points(\n",
    "            chain_count, dimension,\n",
    "            true_means,\n",
    "            distance_to_mass_points,\n",
    "        )\n",
    "    \n",
    "        common_params = base_sampler.CommonParams(\n",
    "            target_dist=target_dist,\n",
    "            starting_point=starting_points.clone(),\n",
    "            proposal_dist=torch.distributions.MultivariateNormal(\n",
    "                torch.zeros(dimension, device=device),\n",
    "                torch.eye(dimension, device=device),\n",
    "            ),\n",
    "        )\n",
    "    \n",
    "        for alg in algs:\n",
    "            print(\"-\" * 80)\n",
    "            base_meta_adj = hparams[alg][\"common\"].copy_update(common_params)\n",
    "            # if hasattr(base_meta_adj, \"sigma\"):\n",
    "            #     base_meta_adj.sigma /= dimension\n",
    "    \n",
    "            algs[alg].load_params(base_meta_adj)\n",
    "            algs[alg].load_true_samples(true_samples)\n",
    "            algs[alg].run()\n",
    "    \n",
    "            hist_data[dimension][alg] = {\n",
    "                \"cache\": algs[alg].pipeline.sample_blocks[-1].iteration.cache,\n",
    "                \"stop_data_hist\": algs[alg].pipeline.sample_blocks[-1].stop_data_hist,\n",
    "                \"runtime\": algs[alg].pipeline.runtime,\n",
    "                \"pure_runtime\": algs[alg].pipeline.pure_runtime,\n",
    "            }\n",
    "        print()\n",
    "\n",
    "    dim_stat = compute_results(hist_data, algs, dist_name)\n",
    "    log.append({\n",
    "        \"hist_data\": hist_data,\n",
    "        \"algs\": algs,\n",
    "        \"dist_name\": dist_name,\n",
    "        \"dim_stat\": dim_stat,\n",
    "    })"
   ]
  },
  {
   "cell_type": "code",
   "execution_count": 11,
   "id": "215295b0-772c-41f6-bb4d-69929bd09dc0",
   "metadata": {},
   "outputs": [],
   "source": [
    "def moving_average(x, window_size=10):\n",
    "    return np.convolve(x, np.ones(window_size)/window_size, mode='valid')\n",
    "\n",
    "def print_log(log):\n",
    "    for entry in log:\n",
    "        for dimension in dimensions:\n",
    "            print(f\"\\ndim={dimension}, dist={entry['dist_name']}\\n\", entry[\"dim_stat\"][dimension])"
   ]
  },
  {
   "cell_type": "code",
   "execution_count": 12,
   "id": "9dd0f50d-c4f0-4892-b48f-32095811d5a5",
   "metadata": {
    "editable": true,
    "slideshow": {
     "slide_type": ""
    },
    "tags": []
   },
   "outputs": [
    {
     "data": {
      "application/vnd.jupyter.widget-view+json": {
       "model_id": "009c45d8f42948239a781638d718f317",
       "version_major": 2,
       "version_minor": 0
      },
      "text/plain": [
       "  0%|          | 0/1 [00:00<?, ?it/s]"
      ]
     },
     "metadata": {},
     "output_type": "display_data"
    },
    {
     "name": "stdout",
     "output_type": "stream",
     "text": [
      "Processing dimension 256\n",
      "--------------------------------------------------------------------------------\n",
      "Running HMCAdaptiveHutchTaylorNoGrad\n",
      "number of blocks: 3\n",
      "processing block: 1\n"
     ]
    },
    {
     "data": {
      "application/vnd.jupyter.widget-view+json": {
       "model_id": "7b8b489f07734007818eeb215a1880b3",
       "version_major": 2,
       "version_minor": 0
      },
      "text/plain": [
       "  0%|          | 0/2500 [00:00<?, ?it/s]"
      ]
     },
     "metadata": {},
     "output_type": "display_data"
    },
    {
     "name": "stdout",
     "output_type": "stream",
     "text": [
      "step_size=0.05742177739739418\n",
      "max_step_size=0.4472898840904236\n",
      "broken_traj=256\n",
      "processing block: 2\n"
     ]
    },
    {
     "data": {
      "application/vnd.jupyter.widget-view+json": {
       "model_id": "a7e61b9619d648c09c70fefade9baccc",
       "version_major": 2,
       "version_minor": 0
      },
      "text/plain": [
       "  0%|          | 0/5000 [00:00<?, ?it/s]"
      ]
     },
     "metadata": {},
     "output_type": "display_data"
    },
    {
     "name": "stdout",
     "output_type": "stream",
     "text": [
      "step_size=0.05742177739739418\n",
      "max_step_size=0.4472898840904236\n",
      "broken_traj=256\n",
      "processing block: 3\n"
     ]
    },
    {
     "data": {
      "application/vnd.jupyter.widget-view+json": {
       "model_id": "64cfe094e6e4438ba037fdaac9b62a90",
       "version_major": 2,
       "version_minor": 0
      },
      "text/plain": [
       "  0%|          | 0/5000 [00:00<?, ?it/s]"
      ]
     },
     "metadata": {},
     "output_type": "display_data"
    },
    {
     "name": "stdout",
     "output_type": "stream",
     "text": [
      "step_size=0.05742177739739418\n",
      "max_step_size=0.4472898840904236\n",
      "broken_traj=256\n",
      "Runtime: 288.70s\n",
      "--------------------------------------------------------------------------------\n",
      "Running HMCAdaptiveHutchLanczosNoGrad\n",
      "number of blocks: 3\n",
      "processing block: 1\n"
     ]
    },
    {
     "data": {
      "application/vnd.jupyter.widget-view+json": {
       "model_id": "57e63d9201fc4b14a1655db0cf102f20",
       "version_major": 2,
       "version_minor": 0
      },
      "text/plain": [
       "  0%|          | 0/2500 [00:00<?, ?it/s]"
      ]
     },
     "metadata": {},
     "output_type": "display_data"
    },
    {
     "name": "stdout",
     "output_type": "stream",
     "text": [
      "step_size=0.05783791095018387\n",
      "max_step_size=0.45120862126350403\n",
      "broken_traj=245\n",
      "processing block: 2\n"
     ]
    },
    {
     "data": {
      "application/vnd.jupyter.widget-view+json": {
       "model_id": "960b101d6b1a44339b8d10ebd9e6cc6f",
       "version_major": 2,
       "version_minor": 0
      },
      "text/plain": [
       "  0%|          | 0/5000 [00:00<?, ?it/s]"
      ]
     },
     "metadata": {},
     "output_type": "display_data"
    },
    {
     "name": "stdout",
     "output_type": "stream",
     "text": [
      "step_size=0.05783791095018387\n",
      "max_step_size=0.45120862126350403\n",
      "broken_traj=245\n",
      "processing block: 3\n"
     ]
    },
    {
     "data": {
      "application/vnd.jupyter.widget-view+json": {
       "model_id": "014f3eda37ad4256a26bb6d7ad6710a4",
       "version_major": 2,
       "version_minor": 0
      },
      "text/plain": [
       "  0%|          | 0/5000 [00:00<?, ?it/s]"
      ]
     },
     "metadata": {},
     "output_type": "display_data"
    },
    {
     "name": "stdout",
     "output_type": "stream",
     "text": [
      "step_size=0.05783791095018387\n",
      "max_step_size=0.45120862126350403\n",
      "broken_traj=245\n",
      "Runtime: 315.61s\n",
      "\n"
     ]
    },
    {
     "data": {
      "application/vnd.jupyter.widget-view+json": {
       "model_id": "e58ecb6b10b140dd93a038e8c1985f45",
       "version_major": 2,
       "version_minor": 0
      },
      "text/plain": [
       "dimension:   0%|          | 0/1 [00:00<?, ?it/s]"
      ]
     },
     "metadata": {},
     "output_type": "display_data"
    },
    {
     "data": {
      "application/vnd.jupyter.widget-view+json": {
       "model_id": "4b1b718d7e364b599b244263f6f7725c",
       "version_major": 2,
       "version_minor": 0
      },
      "text/plain": [
       "alg:   0%|          | 0/2 [00:00<?, ?it/s]"
      ]
     },
     "metadata": {},
     "output_type": "display_data"
    },
    {
     "name": "stdout",
     "output_type": "stream",
     "text": [
      "\n",
      "dim=256, dist=funnel\n",
      "                 taylor_nograd  lanczos_nograd\n",
      "ess_mean             0.271086        0.337565\n",
      "ess_conf_sigma       0.035828        0.024384\n",
      "tv_mean              0.178244        0.167010\n",
      "tv_conf_sigma        0.017148        0.013224\n",
      "runtime            287.173114      314.322952\n",
      "chains_kept         28.000000       27.000000\n",
      "{256:             alg_A          alg_B  z(ESS_A>B)  p(ESS_A>B)  z(TV_A<B)  p(TV_A<B)\n",
      "0  lanczos_nograd  taylor_nograd    1.533947    0.062521   0.518787   0.301955}\n"
     ]
    },
    {
     "data": {
      "application/vnd.jupyter.widget-view+json": {
       "model_id": "37d566167356447680f062b3d737fc89",
       "version_major": 2,
       "version_minor": 0
      },
      "text/plain": [
       "  0%|          | 0/1 [00:00<?, ?it/s]"
      ]
     },
     "metadata": {},
     "output_type": "display_data"
    },
    {
     "name": "stdout",
     "output_type": "stream",
     "text": [
      "Processing dimension 256\n",
      "--------------------------------------------------------------------------------\n",
      "Running HMCAdaptiveHutchTaylorNoGrad\n",
      "number of blocks: 3\n",
      "processing block: 1\n"
     ]
    },
    {
     "data": {
      "application/vnd.jupyter.widget-view+json": {
       "model_id": "8651657ef9b54ae7b2c5f1092239fd80",
       "version_major": 2,
       "version_minor": 0
      },
      "text/plain": [
       "  0%|          | 0/2500 [00:00<?, ?it/s]"
      ]
     },
     "metadata": {},
     "output_type": "display_data"
    },
    {
     "name": "stdout",
     "output_type": "stream",
     "text": [
      "step_size=0.09999999403953552\n",
      "max_step_size=0.5\n",
      "broken_traj=0\n",
      "processing block: 2\n"
     ]
    },
    {
     "data": {
      "application/vnd.jupyter.widget-view+json": {
       "model_id": "e880efee02a54420bb547086d2d7d13f",
       "version_major": 2,
       "version_minor": 0
      },
      "text/plain": [
       "  0%|          | 0/5000 [00:00<?, ?it/s]"
      ]
     },
     "metadata": {},
     "output_type": "display_data"
    },
    {
     "name": "stdout",
     "output_type": "stream",
     "text": [
      "step_size=0.09999999403953552\n",
      "max_step_size=0.5\n",
      "broken_traj=0\n",
      "processing block: 3\n"
     ]
    },
    {
     "data": {
      "application/vnd.jupyter.widget-view+json": {
       "model_id": "726a734aa991445ca4a0af7962c1ac20",
       "version_major": 2,
       "version_minor": 0
      },
      "text/plain": [
       "  0%|          | 0/5000 [00:00<?, ?it/s]"
      ]
     },
     "metadata": {},
     "output_type": "display_data"
    },
    {
     "ename": "KeyboardInterrupt",
     "evalue": "",
     "output_type": "error",
     "traceback": [
      "\u001b[0;31m---------------------------------------------------------------------------\u001b[0m",
      "\u001b[0;31mKeyboardInterrupt\u001b[0m                         Traceback (most recent call last)",
      "Cell \u001b[0;32mIn[12], line 122\u001b[0m\n\u001b[1;32m     32\u001b[0m \u001b[38;5;28;01mfor\u001b[39;00m dist_name \u001b[38;5;129;01min\u001b[39;00m dist_names:\n\u001b[1;32m     33\u001b[0m     algs \u001b[38;5;241m=\u001b[39m {\n\u001b[1;32m     34\u001b[0m         \u001b[38;5;66;03m# \"mala\": mala.MALAVanilla(\u001b[39;00m\n\u001b[1;32m     35\u001b[0m         \u001b[38;5;66;03m#     pipeline=None,\u001b[39;00m\n\u001b[0;32m   (...)\u001b[0m\n\u001b[1;32m    120\u001b[0m         \u001b[38;5;66;03m# ),\u001b[39;00m\n\u001b[1;32m    121\u001b[0m     }\n\u001b[0;32m--> 122\u001b[0m     \u001b[43mrun_experiment\u001b[49m\u001b[43m(\u001b[49m\u001b[43mdist_name\u001b[49m\u001b[43m,\u001b[49m\u001b[43m \u001b[49m\u001b[43mlog\u001b[49m\u001b[38;5;241;43m=\u001b[39;49m\u001b[43mlog\u001b[49m\u001b[43m)\u001b[49m\n",
      "Cell \u001b[0;32mIn[10], line 50\u001b[0m, in \u001b[0;36mrun_experiment\u001b[0;34m(dist_name, log)\u001b[0m\n\u001b[1;32m     48\u001b[0m     algs[alg]\u001b[38;5;241m.\u001b[39mload_params(base_meta_adj)\n\u001b[1;32m     49\u001b[0m     algs[alg]\u001b[38;5;241m.\u001b[39mload_true_samples(true_samples)\n\u001b[0;32m---> 50\u001b[0m     \u001b[43malgs\u001b[49m\u001b[43m[\u001b[49m\u001b[43malg\u001b[49m\u001b[43m]\u001b[49m\u001b[38;5;241;43m.\u001b[39;49m\u001b[43mrun\u001b[49m\u001b[43m(\u001b[49m\u001b[43m)\u001b[49m\n\u001b[1;32m     52\u001b[0m     hist_data[dimension][alg] \u001b[38;5;241m=\u001b[39m {\n\u001b[1;32m     53\u001b[0m         \u001b[38;5;124m\"\u001b[39m\u001b[38;5;124mcache\u001b[39m\u001b[38;5;124m\"\u001b[39m: algs[alg]\u001b[38;5;241m.\u001b[39mpipeline\u001b[38;5;241m.\u001b[39msample_blocks[\u001b[38;5;241m-\u001b[39m\u001b[38;5;241m1\u001b[39m]\u001b[38;5;241m.\u001b[39miteration\u001b[38;5;241m.\u001b[39mcache,\n\u001b[1;32m     54\u001b[0m         \u001b[38;5;124m\"\u001b[39m\u001b[38;5;124mstop_data_hist\u001b[39m\u001b[38;5;124m\"\u001b[39m: algs[alg]\u001b[38;5;241m.\u001b[39mpipeline\u001b[38;5;241m.\u001b[39msample_blocks[\u001b[38;5;241m-\u001b[39m\u001b[38;5;241m1\u001b[39m]\u001b[38;5;241m.\u001b[39mstop_data_hist,\n\u001b[1;32m     55\u001b[0m         \u001b[38;5;124m\"\u001b[39m\u001b[38;5;124mruntime\u001b[39m\u001b[38;5;124m\"\u001b[39m: algs[alg]\u001b[38;5;241m.\u001b[39mpipeline\u001b[38;5;241m.\u001b[39mruntime,\n\u001b[1;32m     56\u001b[0m         \u001b[38;5;124m\"\u001b[39m\u001b[38;5;124mpure_runtime\u001b[39m\u001b[38;5;124m\"\u001b[39m: algs[alg]\u001b[38;5;241m.\u001b[39mpipeline\u001b[38;5;241m.\u001b[39mpure_runtime,\n\u001b[1;32m     57\u001b[0m     }\n\u001b[1;32m     58\u001b[0m \u001b[38;5;28mprint\u001b[39m()\n",
      "File \u001b[0;32m~/Projects/MML/ThesisCode/adaptive_mcmc/samplers/base_sampler.py:219\u001b[0m, in \u001b[0;36mAlgorithm.run\u001b[0;34m(self)\u001b[0m\n\u001b[1;32m    217\u001b[0m \u001b[38;5;28;01mdef\u001b[39;00m \u001b[38;5;21mrun\u001b[39m(\u001b[38;5;28mself\u001b[39m):\n\u001b[1;32m    218\u001b[0m     \u001b[38;5;28mprint\u001b[39m(\u001b[38;5;124m\"\u001b[39m\u001b[38;5;124mRunning\u001b[39m\u001b[38;5;124m\"\u001b[39m, \u001b[38;5;28mself\u001b[39m\u001b[38;5;241m.\u001b[39mname)\n\u001b[0;32m--> 219\u001b[0m     \u001b[38;5;28;43mself\u001b[39;49m\u001b[38;5;241;43m.\u001b[39;49m\u001b[43mpipeline\u001b[49m\u001b[38;5;241;43m.\u001b[39;49m\u001b[43mrun\u001b[49m\u001b[43m(\u001b[49m\u001b[43m)\u001b[49m\n",
      "File \u001b[0;32m~/Projects/MML/ThesisCode/adaptive_mcmc/samplers/base_sampler.py:116\u001b[0m, in \u001b[0;36mtrack_runtime.<locals>.wrapper\u001b[0;34m(self, *args, **kwargs)\u001b[0m\n\u001b[1;32m    113\u001b[0m \u001b[38;5;129m@wraps\u001b[39m(func)\n\u001b[1;32m    114\u001b[0m \u001b[38;5;28;01mdef\u001b[39;00m \u001b[38;5;21mwrapper\u001b[39m(\u001b[38;5;28mself\u001b[39m, \u001b[38;5;241m*\u001b[39margs, \u001b[38;5;241m*\u001b[39m\u001b[38;5;241m*\u001b[39mkwargs):\n\u001b[1;32m    115\u001b[0m     start_time \u001b[38;5;241m=\u001b[39m time\u001b[38;5;241m.\u001b[39mperf_counter()\n\u001b[0;32m--> 116\u001b[0m     result \u001b[38;5;241m=\u001b[39m \u001b[43mfunc\u001b[49m\u001b[43m(\u001b[49m\u001b[38;5;28;43mself\u001b[39;49m\u001b[43m,\u001b[49m\u001b[43m \u001b[49m\u001b[38;5;241;43m*\u001b[39;49m\u001b[43margs\u001b[49m\u001b[43m,\u001b[49m\u001b[43m \u001b[49m\u001b[38;5;241;43m*\u001b[39;49m\u001b[38;5;241;43m*\u001b[39;49m\u001b[43mkwargs\u001b[49m\u001b[43m)\u001b[49m\n\u001b[1;32m    117\u001b[0m     end_time \u001b[38;5;241m=\u001b[39m time\u001b[38;5;241m.\u001b[39mperf_counter()\n\u001b[1;32m    118\u001b[0m     runtime \u001b[38;5;241m=\u001b[39m end_time \u001b[38;5;241m-\u001b[39m start_time\n",
      "File \u001b[0;32m~/Projects/MML/ThesisCode/adaptive_mcmc/samplers/base_sampler.py:200\u001b[0m, in \u001b[0;36mPipeline.run\u001b[0;34m(self, cache, params)\u001b[0m\n\u001b[1;32m    197\u001b[0m \u001b[38;5;28;01mfor\u001b[39;00m block_index, block \u001b[38;5;129;01min\u001b[39;00m \u001b[38;5;28menumerate\u001b[39m(\u001b[38;5;28mself\u001b[39m\u001b[38;5;241m.\u001b[39msample_blocks):\n\u001b[1;32m    198\u001b[0m     \u001b[38;5;28mprint\u001b[39m(\u001b[38;5;124m\"\u001b[39m\u001b[38;5;124mprocessing block:\u001b[39m\u001b[38;5;124m\"\u001b[39m, block_index \u001b[38;5;241m+\u001b[39m \u001b[38;5;241m1\u001b[39m)\n\u001b[0;32m--> 200\u001b[0m     cache, params \u001b[38;5;241m=\u001b[39m \u001b[43mblock\u001b[49m\u001b[38;5;241;43m.\u001b[39;49m\u001b[43mrun\u001b[49m\u001b[43m(\u001b[49m\u001b[43mcache\u001b[49m\u001b[43m,\u001b[49m\u001b[43m \u001b[49m\u001b[43mparams\u001b[49m\u001b[43m)\u001b[49m\n\u001b[1;32m    202\u001b[0m     \u001b[38;5;28;01mif\u001b[39;00m block\u001b[38;5;241m.\u001b[39mcallback \u001b[38;5;129;01mis\u001b[39;00m \u001b[38;5;129;01mnot\u001b[39;00m \u001b[38;5;28;01mNone\u001b[39;00m:\n\u001b[1;32m    203\u001b[0m         block\u001b[38;5;241m.\u001b[39mcallback()\n",
      "File \u001b[0;32m~/Projects/MML/ThesisCode/adaptive_mcmc/samplers/base_sampler.py:157\u001b[0m, in \u001b[0;36mSampleBlock.run\u001b[0;34m(self, cache, common_params, progress)\u001b[0m\n\u001b[1;32m    155\u001b[0m \u001b[38;5;28;01mfor\u001b[39;00m iter_step \u001b[38;5;129;01min\u001b[39;00m bar:\n\u001b[1;32m    156\u001b[0m     start_time \u001b[38;5;241m=\u001b[39m time\u001b[38;5;241m.\u001b[39mperf_counter()\n\u001b[0;32m--> 157\u001b[0m     \u001b[38;5;28;43mself\u001b[39;49m\u001b[38;5;241;43m.\u001b[39;49m\u001b[43miteration\u001b[49m\u001b[38;5;241;43m.\u001b[39;49m\u001b[43mrun\u001b[49m\u001b[43m(\u001b[49m\u001b[43m)\u001b[49m\n\u001b[1;32m    158\u001b[0m     \u001b[38;5;28mself\u001b[39m\u001b[38;5;241m.\u001b[39mpure_runtime \u001b[38;5;241m+\u001b[39m\u001b[38;5;241m=\u001b[39m time\u001b[38;5;241m.\u001b[39mperf_counter() \u001b[38;5;241m-\u001b[39m start_time\n\u001b[1;32m    160\u001b[0m     \u001b[38;5;28;01mif\u001b[39;00m \u001b[38;5;28mself\u001b[39m\u001b[38;5;241m.\u001b[39mstopping_rule \u001b[38;5;129;01mand\u001b[39;00m (iter_step \u001b[38;5;241m+\u001b[39m \u001b[38;5;241m1\u001b[39m) \u001b[38;5;241m%\u001b[39m \u001b[38;5;28mself\u001b[39m\u001b[38;5;241m.\u001b[39mprobe_period \u001b[38;5;241m==\u001b[39m \u001b[38;5;241m0\u001b[39m:\n",
      "File \u001b[0;32m~/Projects/MML/ThesisCode/adaptive_mcmc/samplers/hmc.py:302\u001b[0m, in \u001b[0;36mHMCIter.run\u001b[0;34m(self)\u001b[0m\n\u001b[1;32m    301\u001b[0m \u001b[38;5;28;01mdef\u001b[39;00m \u001b[38;5;21mrun\u001b[39m(\u001b[38;5;28mself\u001b[39m):\n\u001b[0;32m--> 302\u001b[0m     \u001b[38;5;28;43mself\u001b[39;49m\u001b[38;5;241;43m.\u001b[39;49m\u001b[43m_run_iter\u001b[49m\u001b[43m(\u001b[49m\u001b[43mprec\u001b[49m\u001b[38;5;241;43m=\u001b[39;49m\u001b[38;5;28;43mself\u001b[39;49m\u001b[38;5;241;43m.\u001b[39;49m\u001b[43mcache\u001b[49m\u001b[38;5;241;43m.\u001b[39;49m\u001b[43mprec\u001b[49m\u001b[43m)\u001b[49m\n",
      "File \u001b[0;32m~/Projects/MML/ThesisCode/adaptive_mcmc/samplers/hmc.py:247\u001b[0m, in \u001b[0;36mHMCIter._run_iter\u001b[0;34m(self, prec, noise_grad)\u001b[0m\n\u001b[1;32m    243\u001b[0m context \u001b[38;5;241m=\u001b[39m torch\u001b[38;5;241m.\u001b[39mno_grad() \u001b[38;5;28;01mif\u001b[39;00m \u001b[38;5;28mself\u001b[39m\u001b[38;5;241m.\u001b[39mfixed_params\u001b[38;5;241m.\u001b[39mno_grad \u001b[38;5;28;01melse\u001b[39;00m nullcontext()\n\u001b[1;32m    245\u001b[0m noise \u001b[38;5;241m=\u001b[39m \u001b[38;5;28mself\u001b[39m\u001b[38;5;241m.\u001b[39mcommon_params\u001b[38;5;241m.\u001b[39mproposal_dist\u001b[38;5;241m.\u001b[39msample(\u001b[38;5;28mself\u001b[39m\u001b[38;5;241m.\u001b[39mcache\u001b[38;5;241m.\u001b[39mpoint\u001b[38;5;241m.\u001b[39mshape[:\u001b[38;5;241m-\u001b[39m\u001b[38;5;241m1\u001b[39m])\u001b[38;5;241m.\u001b[39mrequires_grad_(noise_grad)\n\u001b[0;32m--> 247\u001b[0m _, trajectory \u001b[38;5;241m=\u001b[39m \u001b[38;5;28;43mself\u001b[39;49m\u001b[38;5;241;43m.\u001b[39;49m\u001b[43m_eval_trajectory\u001b[49m\u001b[43m(\u001b[49m\u001b[43mnoise\u001b[49m\u001b[43m,\u001b[49m\u001b[43m \u001b[49m\u001b[43mprec\u001b[49m\u001b[43m,\u001b[49m\u001b[43m \u001b[49m\u001b[43mcontext\u001b[49m\u001b[43m)\u001b[49m\n\u001b[1;32m    249\u001b[0m \u001b[38;5;28;01mwith\u001b[39;00m context:\n\u001b[1;32m    250\u001b[0m     trajectory[\u001b[38;5;241m0\u001b[39m][\u001b[38;5;124m\"\u001b[39m\u001b[38;5;124mnoise\u001b[39m\u001b[38;5;124m\"\u001b[39m] \u001b[38;5;241m=\u001b[39m noise\n",
      "File \u001b[0;32m~/Projects/MML/ThesisCode/adaptive_mcmc/samplers/hmc.py:210\u001b[0m, in \u001b[0;36mHMCIter._eval_trajectory\u001b[0;34m(self, noise, prec, context)\u001b[0m\n\u001b[1;32m    203\u001b[0m         p \u001b[38;5;241m=\u001b[39m torch\u001b[38;5;241m.\u001b[39mlinalg\u001b[38;5;241m.\u001b[39msolve_triangular(\n\u001b[1;32m    204\u001b[0m             prec\u001b[38;5;241m.\u001b[39mtranspose(\u001b[38;5;241m-\u001b[39m\u001b[38;5;241m2\u001b[39m, \u001b[38;5;241m-\u001b[39m\u001b[38;5;241m1\u001b[39m),\n\u001b[1;32m    205\u001b[0m             noise\u001b[38;5;241m.\u001b[39munsqueeze(\u001b[38;5;241m-\u001b[39m\u001b[38;5;241m1\u001b[39m),\n\u001b[1;32m    206\u001b[0m             upper\u001b[38;5;241m=\u001b[39m\u001b[38;5;28;01mTrue\u001b[39;00m,\n\u001b[1;32m    207\u001b[0m         )\u001b[38;5;241m.\u001b[39msqueeze(\u001b[38;5;241m-\u001b[39m\u001b[38;5;241m1\u001b[39m)\n\u001b[1;32m    209\u001b[0m \u001b[38;5;28;01mwhile\u001b[39;00m trajectory \u001b[38;5;129;01mis\u001b[39;00m \u001b[38;5;28;01mNone\u001b[39;00m:\n\u001b[0;32m--> 210\u001b[0m     trajectory, mask \u001b[38;5;241m=\u001b[39m \u001b[38;5;28;43mself\u001b[39;49m\u001b[38;5;241;43m.\u001b[39;49m\u001b[43mlf_intergrator\u001b[49m\u001b[38;5;241;43m.\u001b[39;49m\u001b[43mrun\u001b[49m\u001b[43m(\u001b[49m\n\u001b[1;32m    211\u001b[0m \u001b[43m        \u001b[49m\u001b[43mq\u001b[49m\u001b[38;5;241;43m=\u001b[39;49m\u001b[38;5;28;43mself\u001b[39;49m\u001b[38;5;241;43m.\u001b[39;49m\u001b[43mcache\u001b[49m\u001b[38;5;241;43m.\u001b[39;49m\u001b[43mpoint\u001b[49m\u001b[43m,\u001b[49m\n\u001b[1;32m    212\u001b[0m \u001b[43m        \u001b[49m\u001b[43mp\u001b[49m\u001b[38;5;241;43m=\u001b[39;49m\u001b[43mp\u001b[49m\u001b[43m,\u001b[49m\n\u001b[1;32m    213\u001b[0m \u001b[43m        \u001b[49m\u001b[43mgradq\u001b[49m\u001b[38;5;241;43m=\u001b[39;49m\u001b[38;5;28;43mself\u001b[39;49m\u001b[38;5;241;43m.\u001b[39;49m\u001b[43mcache\u001b[49m\u001b[38;5;241;43m.\u001b[39;49m\u001b[43mgrad\u001b[49m\u001b[43m,\u001b[49m\n\u001b[1;32m    214\u001b[0m \u001b[43m        \u001b[49m\u001b[43mmatvec_minv\u001b[49m\u001b[38;5;241;43m=\u001b[39;49m\u001b[38;5;28;43mself\u001b[39;49m\u001b[38;5;241;43m.\u001b[39;49m\u001b[43mmatvec_minv\u001b[49m\u001b[43m,\u001b[49m\n\u001b[1;32m    215\u001b[0m \u001b[43m        \u001b[49m\u001b[43mtarget_dist\u001b[49m\u001b[38;5;241;43m=\u001b[39;49m\u001b[38;5;28;43mself\u001b[39;49m\u001b[38;5;241;43m.\u001b[39;49m\u001b[43mcommon_params\u001b[49m\u001b[38;5;241;43m.\u001b[39;49m\u001b[43mtarget_dist\u001b[49m\u001b[43m,\u001b[49m\n\u001b[1;32m    216\u001b[0m \u001b[43m        \u001b[49m\u001b[43mstep_count\u001b[49m\u001b[38;5;241;43m=\u001b[39;49m\u001b[38;5;28;43mself\u001b[39;49m\u001b[38;5;241;43m.\u001b[39;49m\u001b[43mcommon_params\u001b[49m\u001b[38;5;241;43m.\u001b[39;49m\u001b[43mlf_step_count\u001b[49m\u001b[43m,\u001b[49m\n\u001b[1;32m    217\u001b[0m \u001b[43m        \u001b[49m\u001b[43mstep_size\u001b[49m\u001b[38;5;241;43m=\u001b[39;49m\u001b[38;5;28;43mself\u001b[39;49m\u001b[38;5;241;43m.\u001b[39;49m\u001b[43mcommon_params\u001b[49m\u001b[38;5;241;43m.\u001b[39;49m\u001b[43mlf_step_size\u001b[49m\u001b[43m,\u001b[49m\n\u001b[1;32m    218\u001b[0m \u001b[43m        \u001b[49m\u001b[43mstop_grad\u001b[49m\u001b[38;5;241;43m=\u001b[39;49m\u001b[38;5;28;43mself\u001b[39;49m\u001b[38;5;241;43m.\u001b[39;49m\u001b[43mfixed_params\u001b[49m\u001b[38;5;241;43m.\u001b[39;49m\u001b[43mstop_grad\u001b[49m\u001b[43m,\u001b[49m\n\u001b[1;32m    219\u001b[0m \u001b[43m        \u001b[49m\u001b[43mno_grad\u001b[49m\u001b[38;5;241;43m=\u001b[39;49m\u001b[38;5;28;43mself\u001b[39;49m\u001b[38;5;241;43m.\u001b[39;49m\u001b[43mfixed_params\u001b[49m\u001b[38;5;241;43m.\u001b[39;49m\u001b[43mno_grad\u001b[49m\u001b[43m,\u001b[49m\n\u001b[1;32m    220\u001b[0m \u001b[43m    \u001b[49m\u001b[43m)\u001b[49m\n\u001b[1;32m    222\u001b[0m     \u001b[38;5;28;01mif\u001b[39;00m trajectory \u001b[38;5;129;01mis\u001b[39;00m \u001b[38;5;28;01mNone\u001b[39;00m:\n\u001b[1;32m    223\u001b[0m         \u001b[38;5;28mself\u001b[39m\u001b[38;5;241m.\u001b[39mcache\u001b[38;5;241m.\u001b[39mbroken_trajectory_count \u001b[38;5;241m+\u001b[39m\u001b[38;5;241m=\u001b[39m \u001b[38;5;241m1\u001b[39m\n",
      "File \u001b[0;32m~/Projects/MML/ThesisCode/adaptive_mcmc/samplers/hmc.py:87\u001b[0m, in \u001b[0;36mLeapfrog.run\u001b[0;34m(self, q, p, gradq, matvec_minv, target_dist, step_count, step_size, stop_grad, no_grad, keep_trajectory)\u001b[0m\n\u001b[1;32m     85\u001b[0m \u001b[38;5;28;01mfor\u001b[39;00m step \u001b[38;5;129;01min\u001b[39;00m \u001b[38;5;28mrange\u001b[39m(step_count):\n\u001b[1;32m     86\u001b[0m     \u001b[38;5;28;01mtry\u001b[39;00m:\n\u001b[0;32m---> 87\u001b[0m         ret \u001b[38;5;241m=\u001b[39m \u001b[38;5;28;43mself\u001b[39;49m\u001b[38;5;241;43m.\u001b[39;49m\u001b[43mstep\u001b[49m\u001b[43m(\u001b[49m\n\u001b[1;32m     88\u001b[0m \u001b[43m            \u001b[49m\u001b[43mq_prev\u001b[49m\u001b[38;5;241;43m=\u001b[39;49m\u001b[43mret\u001b[49m\u001b[43m[\u001b[49m\u001b[38;5;124;43m\"\u001b[39;49m\u001b[38;5;124;43mq\u001b[39;49m\u001b[38;5;124;43m\"\u001b[39;49m\u001b[43m]\u001b[49m\u001b[43m,\u001b[49m\u001b[43m \u001b[49m\u001b[43mp_prev\u001b[49m\u001b[38;5;241;43m=\u001b[39;49m\u001b[43mret\u001b[49m\u001b[43m[\u001b[49m\u001b[38;5;124;43m\"\u001b[39;49m\u001b[38;5;124;43mp\u001b[39;49m\u001b[38;5;124;43m\"\u001b[39;49m\u001b[43m]\u001b[49m\u001b[43m,\u001b[49m\u001b[43m \u001b[49m\u001b[43mgradq_prev\u001b[49m\u001b[38;5;241;43m=\u001b[39;49m\u001b[43mret\u001b[49m\u001b[43m[\u001b[49m\u001b[38;5;124;43m\"\u001b[39;49m\u001b[38;5;124;43mgradq\u001b[39;49m\u001b[38;5;124;43m\"\u001b[39;49m\u001b[43m]\u001b[49m\u001b[43m,\u001b[49m\n\u001b[1;32m     89\u001b[0m \u001b[43m            \u001b[49m\u001b[43mmatvec_minv\u001b[49m\u001b[38;5;241;43m=\u001b[39;49m\u001b[43mmatvec_minv\u001b[49m\u001b[43m,\u001b[49m\u001b[43m \u001b[49m\u001b[43mtarget_dist\u001b[49m\u001b[38;5;241;43m=\u001b[39;49m\u001b[43mtarget_dist\u001b[49m\u001b[43m,\u001b[49m\u001b[43m \u001b[49m\u001b[43mstep_size\u001b[49m\u001b[38;5;241;43m=\u001b[39;49m\u001b[43mstep_size\u001b[49m\u001b[43m,\u001b[49m\n\u001b[1;32m     90\u001b[0m \u001b[43m            \u001b[49m\u001b[43mstop_grad\u001b[49m\u001b[38;5;241;43m=\u001b[39;49m\u001b[43mstop_grad\u001b[49m\u001b[43m,\u001b[49m\u001b[43m \u001b[49m\u001b[43mno_grad\u001b[49m\u001b[38;5;241;43m=\u001b[39;49m\u001b[43mno_grad\u001b[49m\u001b[43m,\u001b[49m\n\u001b[1;32m     91\u001b[0m \u001b[43m        \u001b[49m\u001b[43m)\u001b[49m\n\u001b[1;32m     93\u001b[0m         \u001b[38;5;28;01mwith\u001b[39;00m torch\u001b[38;5;241m.\u001b[39mno_grad():\n\u001b[1;32m     94\u001b[0m             mask \u001b[38;5;241m=\u001b[39m (\u001b[38;5;241m~\u001b[39mtorch\u001b[38;5;241m.\u001b[39misfinite(ret[\u001b[38;5;124m\"\u001b[39m\u001b[38;5;124mq\u001b[39m\u001b[38;5;124m\"\u001b[39m]))\u001b[38;5;241m.\u001b[39many(dim\u001b[38;5;241m=\u001b[39m\u001b[38;5;241m-\u001b[39m\u001b[38;5;241m1\u001b[39m)\n",
      "File \u001b[0;32m~/Projects/MML/ThesisCode/adaptive_mcmc/samplers/hmc.py:60\u001b[0m, in \u001b[0;36mLeapfrog.step\u001b[0;34m(self, q_prev, p_prev, gradq_prev, matvec_minv, target_dist, step_size, stop_grad, no_grad)\u001b[0m\n\u001b[1;32m     56\u001b[0m     q_next \u001b[38;5;241m=\u001b[39m q_prev \u001b[38;5;241m+\u001b[39m step_size \u001b[38;5;241m*\u001b[39m matvec_minv(p_half)\n\u001b[1;32m     58\u001b[0m q_next \u001b[38;5;241m=\u001b[39m q_next\u001b[38;5;241m.\u001b[39mrequires_grad_(\u001b[38;5;28;01mTrue\u001b[39;00m)\n\u001b[0;32m---> 60\u001b[0m logq_next \u001b[38;5;241m=\u001b[39m \u001b[43mtarget_dist\u001b[49m\u001b[38;5;241;43m.\u001b[39;49m\u001b[43mlog_prob\u001b[49m\u001b[43m(\u001b[49m\u001b[43mq_next\u001b[49m\u001b[43m)\u001b[49m\n\u001b[1;32m     61\u001b[0m gradq_next \u001b[38;5;241m=\u001b[39m torch\u001b[38;5;241m.\u001b[39mautograd\u001b[38;5;241m.\u001b[39mgrad(logq_next\u001b[38;5;241m.\u001b[39msum(), q_next, retain_graph\u001b[38;5;241m=\u001b[39m\u001b[38;5;129;01mnot\u001b[39;00m no_grad)[\u001b[38;5;241m0\u001b[39m]\n\u001b[1;32m     63\u001b[0m \u001b[38;5;28;01mif\u001b[39;00m no_grad:\n",
      "File \u001b[0;32m~/Projects/MML/ThesisCode/adaptive_mcmc/distributions/distribution.py:100\u001b[0m, in \u001b[0;36mGaussianMixture.log_prob\u001b[0;34m(self, z)\u001b[0m\n\u001b[1;32m     90\u001b[0m \u001b[38;5;28;01mdef\u001b[39;00m \u001b[38;5;21mlog_prob\u001b[39m(\u001b[38;5;28mself\u001b[39m, z: Tensor) \u001b[38;5;241m-\u001b[39m\u001b[38;5;241m>\u001b[39m Tensor:\n\u001b[1;32m     91\u001b[0m \u001b[38;5;250m    \u001b[39m\u001b[38;5;124;03m\"\"\"\u001b[39;00m\n\u001b[1;32m     92\u001b[0m \u001b[38;5;124;03m    Computes the log probability of data under the Gaussian mixture.\u001b[39;00m\n\u001b[1;32m     93\u001b[0m \n\u001b[0;32m   (...)\u001b[0m\n\u001b[1;32m     98\u001b[0m \u001b[38;5;124;03m        Tensor: Log probabilities of the input data.\u001b[39;00m\n\u001b[1;32m     99\u001b[0m \u001b[38;5;124;03m    \"\"\"\u001b[39;00m\n\u001b[0;32m--> 100\u001b[0m     logs \u001b[38;5;241m=\u001b[39m \u001b[38;5;28;43mself\u001b[39;49m\u001b[38;5;241;43m.\u001b[39;49m\u001b[43mgaussians\u001b[49m\u001b[38;5;241;43m.\u001b[39;49m\u001b[43mlog_prob\u001b[49m\u001b[43m(\u001b[49m\u001b[43mz\u001b[49m\u001b[38;5;241;43m.\u001b[39;49m\u001b[43munsqueeze\u001b[49m\u001b[43m(\u001b[49m\u001b[38;5;241;43m-\u001b[39;49m\u001b[38;5;241;43m2\u001b[39;49m\u001b[43m)\u001b[49m\u001b[43m)\u001b[49m \u001b[38;5;241m+\u001b[39m torch\u001b[38;5;241m.\u001b[39mlog(\u001b[38;5;28mself\u001b[39m\u001b[38;5;241m.\u001b[39mweights)\n\u001b[1;32m    102\u001b[0m     \u001b[38;5;28;01mreturn\u001b[39;00m torch\u001b[38;5;241m.\u001b[39mlogsumexp(logs, dim\u001b[38;5;241m=\u001b[39m\u001b[38;5;241m1\u001b[39m)\n",
      "File \u001b[0;32m~/.pyenv/versions/3.12.0/envs/thesis/lib/python3.12/site-packages/torch/distributions/multivariate_normal.py:249\u001b[0m, in \u001b[0;36mMultivariateNormal.log_prob\u001b[0;34m(self, value)\u001b[0m\n\u001b[1;32m    247\u001b[0m \u001b[38;5;28;01mdef\u001b[39;00m \u001b[38;5;21mlog_prob\u001b[39m(\u001b[38;5;28mself\u001b[39m, value):\n\u001b[1;32m    248\u001b[0m     \u001b[38;5;28;01mif\u001b[39;00m \u001b[38;5;28mself\u001b[39m\u001b[38;5;241m.\u001b[39m_validate_args:\n\u001b[0;32m--> 249\u001b[0m         \u001b[38;5;28;43mself\u001b[39;49m\u001b[38;5;241;43m.\u001b[39;49m\u001b[43m_validate_sample\u001b[49m\u001b[43m(\u001b[49m\u001b[43mvalue\u001b[49m\u001b[43m)\u001b[49m\n\u001b[1;32m    250\u001b[0m     diff \u001b[38;5;241m=\u001b[39m value \u001b[38;5;241m-\u001b[39m \u001b[38;5;28mself\u001b[39m\u001b[38;5;241m.\u001b[39mloc\n\u001b[1;32m    251\u001b[0m     M \u001b[38;5;241m=\u001b[39m _batch_mahalanobis(\u001b[38;5;28mself\u001b[39m\u001b[38;5;241m.\u001b[39m_unbroadcasted_scale_tril, diff)\n",
      "File \u001b[0;32m~/.pyenv/versions/3.12.0/envs/thesis/lib/python3.12/site-packages/torch/distributions/distribution.py:299\u001b[0m, in \u001b[0;36mDistribution._validate_sample\u001b[0;34m(self, value)\u001b[0m\n\u001b[1;32m    297\u001b[0m actual_shape \u001b[38;5;241m=\u001b[39m value\u001b[38;5;241m.\u001b[39msize()\n\u001b[1;32m    298\u001b[0m expected_shape \u001b[38;5;241m=\u001b[39m \u001b[38;5;28mself\u001b[39m\u001b[38;5;241m.\u001b[39m_batch_shape \u001b[38;5;241m+\u001b[39m \u001b[38;5;28mself\u001b[39m\u001b[38;5;241m.\u001b[39m_event_shape\n\u001b[0;32m--> 299\u001b[0m \u001b[38;5;28;01mfor\u001b[39;00m i, j \u001b[38;5;129;01min\u001b[39;00m \u001b[38;5;28mzip\u001b[39m(\u001b[38;5;28;43mreversed\u001b[39;49m\u001b[43m(\u001b[49m\u001b[43mactual_shape\u001b[49m\u001b[43m)\u001b[49m, \u001b[38;5;28mreversed\u001b[39m(expected_shape)):\n\u001b[1;32m    300\u001b[0m     \u001b[38;5;28;01mif\u001b[39;00m i \u001b[38;5;241m!=\u001b[39m \u001b[38;5;241m1\u001b[39m \u001b[38;5;129;01mand\u001b[39;00m j \u001b[38;5;241m!=\u001b[39m \u001b[38;5;241m1\u001b[39m \u001b[38;5;129;01mand\u001b[39;00m i \u001b[38;5;241m!=\u001b[39m j:\n\u001b[1;32m    301\u001b[0m         \u001b[38;5;28;01mraise\u001b[39;00m \u001b[38;5;167;01mValueError\u001b[39;00m(\n\u001b[1;32m    302\u001b[0m             \u001b[38;5;124mf\u001b[39m\u001b[38;5;124m\"\u001b[39m\u001b[38;5;124mValue is not broadcastable with batch_shape+event_shape: \u001b[39m\u001b[38;5;132;01m{\u001b[39;00mactual_shape\u001b[38;5;132;01m}\u001b[39;00m\u001b[38;5;124m vs \u001b[39m\u001b[38;5;132;01m{\u001b[39;00mexpected_shape\u001b[38;5;132;01m}\u001b[39;00m\u001b[38;5;124m.\u001b[39m\u001b[38;5;124m\"\u001b[39m\n\u001b[1;32m    303\u001b[0m         )\n",
      "\u001b[0;31mKeyboardInterrupt\u001b[0m: "
     ]
    }
   ],
   "source": [
    "chain_count = 30\n",
    "sample_count = 5000\n",
    "sample_iter_limit = 5000\n",
    "burn_in_iter_count = 5000\n",
    "step_size_burn_in_iter_count = 2500\n",
    "probe_period = 250000\n",
    "\n",
    "tv_threshold = 0.05\n",
    "tail_count_cap = 1000\n",
    "# stopping_rule = TVStop(threshold=tv_threshold, density_probe_count=1000,\n",
    "#                        projection_count=25, tail_count_cap=tail_count_cap)\n",
    "\n",
    "stopping_rule = NoStop(\n",
    "    density_probe_count=500,\n",
    "    projection_count=25,\n",
    "    tail_count_cap=tail_count_cap,\n",
    ")\n",
    "\n",
    "\n",
    "dist_names = [\n",
    "    # \"toeplitz_gm\",\n",
    "    # \"toeplitz_gaussian\",\n",
    "    \"funnel\",\n",
    "    \"random_gm\",\n",
    "    \"illcond_gaussian\",\n",
    "    \"banana\",\n",
    "]\n",
    "\n",
    "dimensions = [8, 16, 32, 64, 128, 256]\n",
    "log = []\n",
    "\n",
    "for dist_name in dist_names:\n",
    "    algs = {\n",
    "        \"mala\": mala.MALAVanilla(\n",
    "            pipeline=None,\n",
    "            name=\"MALA\",\n",
    "            sigma_burn_in_params=hparams[\"mala\"][\"common\"].copy(),\n",
    "            sigma_burn_in_iter_count=burn_in_iter_count + step_size_burn_in_iter_count,\n",
    "            sample_iter_count=sample_iter_limit,\n",
    "            stopping_rule=stopping_rule,\n",
    "            probe_period=probe_period,\n",
    "        ),\n",
    "        # \"fisher_mala\": fishermala.FisherMALAVanilla(\n",
    "        #     pipeline=None,\n",
    "        #     name=\"FisherMALA\",\n",
    "        #     sigma_burn_in_iter_count=step_size_burn_in_iter_count,\n",
    "        #     #common_params=hparams[\"fisher_mala\"][\"common\"].copy(),\n",
    "        #     #fixed_params=hparams[\"fisher_mala\"][\"fixed\"],\n",
    "        #     prec_burn_in_iter_count=burn_in_iter_count,\n",
    "        #     sample_iter_count=sample_iter_limit,\n",
    "        #     stopping_rule=stopping_rule,\n",
    "        #     probe_period=probe_period,\n",
    "        # ),\n",
    "        \"hmc_vanilla\": hmc.HMCVanilla(\n",
    "            pipeline=None,\n",
    "            name=\"HMCVanilla\",\n",
    "            common_params=hparams[\"hmc_vanilla\"][\"common\"].copy(),\n",
    "            fixed_params=hparams[\"hmc_vanilla\"][\"fixed\"],\n",
    "            step_size_burn_in_iter_count=step_size_burn_in_iter_count,\n",
    "            sample_iter_count=sample_iter_limit,\n",
    "            burn_in_iter_count=burn_in_iter_count,\n",
    "            stopping_rule=stopping_rule,\n",
    "            probe_period=probe_period,\n",
    "            mask_adapt_step_size_required=[False, False, False],\n",
    "        ),\n",
    "        \"taylor_nograd\": hmcadaptive.HMCAdaptive(\n",
    "            pipeline=None,\n",
    "            name=\"HMCAdaptiveHutchTaylorNoGrad\",\n",
    "            common_params=hparams[\"taylor_nograd\"][\"common\"].copy(),\n",
    "            fixed_params=hparams[\"taylor_nograd\"][\"fixed\"],\n",
    "            step_size_burn_in_iter_count=step_size_burn_in_iter_count,\n",
    "            sample_iter_count=sample_iter_limit,\n",
    "            burn_in_iter_count=burn_in_iter_count,\n",
    "            stopping_rule=stopping_rule,\n",
    "            probe_period=probe_period,\n",
    "            mask_adapt_step_size_required=[False, False, False],\n",
    "        ),\n",
    "        \"lanczos_nograd\": hmcadaptive.HMCAdaptive(\n",
    "            pipeline=None,\n",
    "            name=\"HMCAdaptiveHutchLanczosNoGrad\",\n",
    "            common_params=hparams[\"lanczos_nograd\"][\"common\"].copy(),\n",
    "            fixed_params=hparams[\"lanczos_nograd\"][\"fixed\"],\n",
    "            step_size_burn_in_iter_count=step_size_burn_in_iter_count,\n",
    "            sample_iter_count=sample_iter_limit,\n",
    "            burn_in_iter_count=burn_in_iter_count,\n",
    "            stopping_rule=stopping_rule,\n",
    "            probe_period=probe_period,\n",
    "            mask_adapt_step_size_required=[False, False, False],\n",
    "        ),\n",
    "        # \"hmcadaptive_hutch_taylor\": hmcadaptive.HMCAdaptive(\n",
    "        #     pipeline=None,\n",
    "        #     name=\"HMCAdaptiveHutchTaylor\",\n",
    "        #     common_params=hparams[\"hmcadaptive_hutch_taylor\"][\"common\"].copy(),\n",
    "        #     fixed_params=hparams[\"hmcadaptive_hutch_taylor\"][\"fixed\"],\n",
    "        #     step_size_burn_in_iter_count=step_size_burn_in_iter_count,\n",
    "        #     sample_iter_count=sample_iter_limit,\n",
    "        #     burn_in_iter_count=burn_in_iter_count,\n",
    "        #     stopping_rule=stopping_rule,\n",
    "        #     probe_period=probe_period,\n",
    "        # ),\n",
    "        # \"hmcadaptive_fullent\": hmcadaptive.HMCAdaptive(\n",
    "        #     pipeline=None,\n",
    "        #     name=\"HMCAdaptiveFullEnt\",\n",
    "        #     params=hparams[\"hmcadaptive_fullent\"].copy(),\n",
    "        #     step_size_burn_in_iter_count=step_size_burn_in_iter_count,\n",
    "        #     sample_iter_count=sample_iter_limit,\n",
    "        #     burn_in_iter_count=burn_in_iter_count,\n",
    "        #     stopping_rule=stopping_rule,\n",
    "        #     probe_period=probe_period,\n",
    "        # ),\n",
    "        # \"hmcadaptive_noent\": hmcadaptive.HMCAdaptive(\n",
    "        #     pipeline=None,\n",
    "        #     name=\"HMCAdaptiveNoEnt\",\n",
    "        #     params=hparams[\"hmcadaptive_noent\"].copy(),\n",
    "        #     step_size_burn_in_iter_count=step_size_burn_in_iter_count,\n",
    "        #     sample_iter_count=sample_iter_limit,\n",
    "        #     burn_in_iter_count=burn_in_iter_count,\n",
    "        #     stopping_rule=stopping_rule,\n",
    "        #     probe_period=probe_period,\n",
    "        # ),\n",
    "    }\n",
    "    run_experiment(dist_name, log=log)"
   ]
  },
  {
   "cell_type": "code",
   "execution_count": null,
   "id": "fc3df7c4-32ba-4573-a4c7-973049bbd666",
   "metadata": {},
   "outputs": [],
   "source": [
    "import cloudpickle"
   ]
  },
  {
   "cell_type": "code",
   "execution_count": null,
   "id": "7158dea3-1cd9-4fb7-a222-2fc525358089",
   "metadata": {},
   "outputs": [],
   "source": [
    "# with open(\"exp_3.pkl\", \"wb\") as f:\n",
    "#     cloudpickle.dump(log, f)"
   ]
  },
  {
   "cell_type": "code",
   "execution_count": null,
   "id": "b9d34943-f01a-47a7-a569-467f1275fb9a",
   "metadata": {},
   "outputs": [],
   "source": [
    "plt.plot(\n",
    "    moving_average(\n",
    "        algs[\"taylor_nograd\"].pipeline.sample_blocks[-1].iteration.cache.grad_norm\n",
    "    ),\n",
    ")\n",
    "plt.title(\"taylor_nograd\")"
   ]
  },
  {
   "cell_type": "code",
   "execution_count": null,
   "id": "e2a11194-e43d-45f7-8f66-5018da3e14d8",
   "metadata": {},
   "outputs": [],
   "source": [
    "plt.plot(\n",
    "    moving_average(\n",
    "        algs[\"lanczos_nograd\"].pipeline.sample_blocks[-1].iteration.cache.grad_norm\n",
    "    ),\n",
    ")\n",
    "plt.title(\"lanczos_nograd\")"
   ]
  },
  {
   "cell_type": "code",
   "execution_count": null,
   "id": "534184de-5316-4325-8178-90b1ca297f7a",
   "metadata": {},
   "outputs": [],
   "source": []
  },
  {
   "cell_type": "code",
   "execution_count": null,
   "id": "353af9d1-705c-49fb-8f4e-9d8b2821cb38",
   "metadata": {},
   "outputs": [],
   "source": [
    "print_log(log)"
   ]
  },
  {
   "cell_type": "code",
   "execution_count": null,
   "id": "d8ce4dd2-da65-4a66-ae2d-c8487fe9f3d3",
   "metadata": {},
   "outputs": [],
   "source": [
    "print_log(log)"
   ]
  },
  {
   "cell_type": "code",
   "execution_count": null,
   "id": "6db9dc51-e60c-4d3d-a0b6-7d9d680acd59",
   "metadata": {},
   "outputs": [],
   "source": [
    "print_log(log)"
   ]
  },
  {
   "cell_type": "code",
   "execution_count": null,
   "id": "fd0840e1-3e3b-4409-861a-82ac043d7ced",
   "metadata": {},
   "outputs": [],
   "source": [
    "plt.plot(log[0][\"hist_data\"][dimension][alg][\"cache\"].grad_norm)"
   ]
  },
  {
   "cell_type": "code",
   "execution_count": null,
   "id": "08799256-dbc2-42d2-8d94-01366c95c152",
   "metadata": {},
   "outputs": [],
   "source": [
    "\n",
    "plt.figure(figsize=(10, 6))\n",
    "window = 100  # adjust as needed\n",
    "\n",
    "for dimension in dimensions:\n",
    "    for alg in algs:\n",
    "        raw = log[0][\"hist_data\"][dimension][alg][\"cache\"].accept_prob_hist\n",
    "        smoothed = moving_average(np.array(raw), window_size=window)\n",
    "        label = f\"{alg} (dim={dimension})\"\n",
    "        plt.plot(smoothed, label=label, alpha=0.8)\n",
    "\n",
    "plt.xlabel(\"Iteration\")\n",
    "plt.ylabel(\"Smoothed Acceptance Probability\")\n",
    "plt.title(f\"Moving Average (window={window}) of Acceptance Probabilities\")\n",
    "plt.ylim(0, 1)\n",
    "plt.grid(True)\n",
    "plt.legend()\n",
    "plt.tight_layout()\n",
    "plt.show()\n"
   ]
  },
  {
   "cell_type": "code",
   "execution_count": null,
   "id": "b379a960-e1de-453b-b9a1-ab67873e6a94",
   "metadata": {},
   "outputs": [],
   "source": [
    "def moving_average(x, window_size=10):\n",
    "    return np.convolve(x, np.ones(window_size)/window_size, mode='valid')\n",
    "\n",
    "plt.figure(figsize=(10, 6))\n",
    "window = 100  # adjust as needed\n",
    "\n",
    "for dimension in dimensions:\n",
    "    for alg in algs:\n",
    "        raw = log[0][\"hist_data\"][dimension][alg][\"cache\"].accept_prob_hist\n",
    "        smoothed = moving_average(np.array(raw), window_size=window)\n",
    "        label = f\"{alg} (dim={dimension})\"\n",
    "        plt.plot(smoothed, label=label, alpha=0.8)\n",
    "\n",
    "plt.xlabel(\"Iteration\")\n",
    "plt.ylabel(\"Smoothed Acceptance Probability\")\n",
    "plt.title(f\"Moving Average (window={window}) of Acceptance Probabilities\")\n",
    "plt.ylim(0, 1)\n",
    "plt.grid(True)\n",
    "plt.legend()\n",
    "plt.tight_layout()\n",
    "plt.show()\n"
   ]
  },
  {
   "cell_type": "code",
   "execution_count": null,
   "id": "dc2fbb9f-32be-419f-93b0-12e01936661e",
   "metadata": {},
   "outputs": [],
   "source": [
    "dim_stat = {}\n",
    "for dimension in tqdm.notebook.tqdm(dimensions):\n",
    "    df = []\n",
    "    for alg in tqdm.notebook.tqdm(algs):\n",
    "        df.append(\n",
    "            BenchmarkUtils.compute_metrics(\n",
    "                hist_data[dimension][alg][0].samples,\n",
    "                hist_data[dimension][alg][0].true_samples,\n",
    "            )\n",
    "        )\n",
    "        df[-1][\"runtime\"] = pure_runtime[dimension][alg]\n",
    "    df = pd.DataFrame(df)\n",
    "    df = df.T\n",
    "    df.columns = list(algs.keys())\n",
    "\n",
    "    dim_stat[dimension] = df\n",
    "    print(f\"dim={dimension}\", df)"
   ]
  },
  {
   "cell_type": "code",
   "execution_count": null,
   "id": "70c8c259-5acd-4800-a9c3-ddaca105a190",
   "metadata": {},
   "outputs": [],
   "source": [
    "algs[\"hmc_vanilla\"].pipeline.sample_blocks[-1].iteration.params.lf_step_size"
   ]
  },
  {
   "cell_type": "code",
   "execution_count": null,
   "id": "be119006-2a1b-4333-b4fa-cdf43b4fb1cd",
   "metadata": {},
   "outputs": [],
   "source": [
    "algs[\"hmc_vanilla\"].pipeline.sample_blocks[-1]"
   ]
  },
  {
   "cell_type": "code",
   "execution_count": null,
   "id": "b1d2a2b3-392b-4160-9ce1-f4e19f08fbd5",
   "metadata": {},
   "outputs": [],
   "source": [
    "BenchmarkUtils.create_plot(\n",
    "    algs[\"mala\"].pipeline.sample_blocks[-1].iteration.cache.samples[:, [0], :],\n",
    "    algs[\"mala\"].pipeline.sample_blocks[-1].iteration.cache.true_samples\n",
    ")"
   ]
  },
  {
   "cell_type": "code",
   "execution_count": null,
   "id": "23f62dbf-ad9b-453a-bef7-b1681eb00ca3",
   "metadata": {},
   "outputs": [],
   "source": [
    "BenchmarkUtils.create_plot(\n",
    "    algs[\"fisher_mala\"].pipeline.sample_blocks[-1].iteration.cache.samples[:, [0], :],\n",
    "    algs[\"fisher_mala\"].pipeline.sample_blocks[-1].iteration.cache.true_samples\n",
    ")"
   ]
  },
  {
   "cell_type": "code",
   "execution_count": null,
   "id": "c8651ec8-1a6e-4473-9a22-1ca81eb0bebb",
   "metadata": {},
   "outputs": [],
   "source": [
    "BenchmarkUtils.create_plot(\n",
    "    log[0][\"hist_data\"][4][\"fisher_mala\"][\"cache\"].samples[:, :, :],\n",
    "    log[0][\"hist_data\"][4][\"fisher_mala\"][\"cache\"].true_samples,\n",
    ")"
   ]
  },
  {
   "cell_type": "code",
   "execution_count": null,
   "id": "fca6b74a-b593-4834-a607-f2524453fabc",
   "metadata": {},
   "outputs": [],
   "source": [
    "BenchmarkUtils.create_plot(\n",
    "    log[0][\"hist_data\"][256][\"mala\"][\"cache\"].samples[:, [2], :],\n",
    "    log[0][\"hist_data\"][256][\"mala\"][\"cache\"].true_samples,\n",
    ")"
   ]
  },
  {
   "cell_type": "code",
   "execution_count": null,
   "id": "4610b9ff-031f-460a-bd6f-31a2c3386680",
   "metadata": {},
   "outputs": [],
   "source": [
    "print(f\"{' ' * 30}HMC\")\n",
    "BenchmarkUtils.create_plot(\n",
    "    log[0][\"hist_data\"][256][\"hmc_vanilla\"][\"cache\"].samples[:, [1], :],\n",
    "    log[0][\"hist_data\"][256][\"hmc_vanilla\"][\"cache\"].true_samples,\n",
    ")"
   ]
  },
  {
   "cell_type": "code",
   "execution_count": null,
   "id": "941af931-68e6-4b26-96ef-5b5578e12f43",
   "metadata": {},
   "outputs": [],
   "source": []
  },
  {
   "cell_type": "code",
   "execution_count": null,
   "id": "f2faa5c9-f3e8-4b8c-9996-ee4cc68cf2f8",
   "metadata": {},
   "outputs": [],
   "source": [
    "print(f\"{' ' * 30}HMC Taylor\")\n",
    "BenchmarkUtils.create_plot(\n",
    "    log[0][\"hist_data\"][256][\"taylor_nograd\"][\"cache\"].samples[:, [1], :],\n",
    "    log[0][\"hist_data\"][256][\"taylor_nograd\"][\"cache\"].true_samples,\n",
    ")"
   ]
  },
  {
   "cell_type": "code",
   "execution_count": null,
   "id": "662e601f-32cf-4e93-a221-c2bec0babef9",
   "metadata": {},
   "outputs": [],
   "source": []
  },
  {
   "cell_type": "code",
   "execution_count": null,
   "id": "bbd6a731-27d5-4cff-acab-df9daad8a66a",
   "metadata": {},
   "outputs": [],
   "source": [
    "print(f\"{' ' * 30}HMC Lanczos\")\n",
    "BenchmarkUtils.create_plot(\n",
    "    log[0][\"hist_data\"][256][\"lanczos_nograd\"][\"cache\"].samples[:, [1], :],\n",
    "    log[0][\"hist_data\"][256][\"lanczos_nograd\"][\"cache\"].true_samples,\n",
    ")"
   ]
  },
  {
   "cell_type": "code",
   "execution_count": null,
   "id": "2dc56102-6c10-40a6-be19-5dfa810e9762",
   "metadata": {},
   "outputs": [],
   "source": [
    "BenchmarkUtils.create_plot(\n",
    "    algs[\"hmc_vanilla\"].pipeline.sample_blocks[-1].iteration.cache.samples[:, [2], :],\n",
    "    algs[\"hmc_vanilla\"].pipeline.sample_blocks[-1].iteration.cache.true_samples\n",
    ")"
   ]
  },
  {
   "cell_type": "code",
   "execution_count": null,
   "id": "4f6e6229-2657-4ffa-b15f-c568464f3564",
   "metadata": {},
   "outputs": [],
   "source": []
  },
  {
   "cell_type": "code",
   "execution_count": null,
   "id": "fc3ce7c8-6afb-46d5-99ee-84298bee004c",
   "metadata": {},
   "outputs": [],
   "source": [
    "BenchmarkUtils.create_plot(\n",
    "    algs[\"hmc_vanilla\"].pipeline.sample_blocks[-1].iteration.cache.samples[:, [2], :],\n",
    "    algs[\"hmc_vanilla\"].pipeline.sample_blocks[-1].iteration.cache.true_samples\n",
    ")"
   ]
  },
  {
   "cell_type": "code",
   "execution_count": null,
   "id": "f139b701-ff5a-4d9c-99f2-693514a48d36",
   "metadata": {},
   "outputs": [],
   "source": []
  },
  {
   "cell_type": "code",
   "execution_count": null,
   "id": "492ce214-b3f8-4e01-b757-f220d46bad58",
   "metadata": {},
   "outputs": [],
   "source": []
  },
  {
   "cell_type": "code",
   "execution_count": null,
   "id": "197851c1-ef94-471b-8f88-1dfa5f7aa27e",
   "metadata": {},
   "outputs": [],
   "source": [
    "BenchmarkUtils.create_plot(\n",
    "    algs[\"hmcadaptive_hutch_taylor\"].pipeline.sample_blocks[0].iteration.cache.samples[:, [2], :],\n",
    "    algs[\"hmcadaptive_hutch_taylor\"].pipeline.sample_blocks[-1].iteration.cache.true_samples\n",
    ")"
   ]
  },
  {
   "cell_type": "code",
   "execution_count": null,
   "id": "dd3a08aa-531b-4e92-967d-15941c853823",
   "metadata": {},
   "outputs": [],
   "source": [
    "BenchmarkUtils.create_plot(\n",
    "    algs[\"hmcadaptive_hutch_lanczos\"].pipeline.sample_blocks[-1].iteration.cache.samples[:, [0], :],\n",
    "    algs[\"hmcadaptive_hutch_lanczos\"].pipeline.sample_blocks[-1].iteration.cache.true_samples\n",
    ")"
   ]
  },
  {
   "cell_type": "code",
   "execution_count": null,
   "id": "c41a4f4b-a23c-44f3-a36e-86c9db69379d",
   "metadata": {},
   "outputs": [],
   "source": [
    "BenchmarkUtils.create_plot(\n",
    "    algs[\"hmcadaptive_fullent\"].pipeline.sample_blocks[-1].iteration.cache.samples[:, [1], :],\n",
    "    algs[\"hmcadaptive_fullent\"].pipeline.sample_blocks[-1].iteration.cache.true_samples\n",
    ")"
   ]
  },
  {
   "cell_type": "code",
   "execution_count": null,
   "id": "90e00839-8cf9-4eb4-a3d8-50f483508288",
   "metadata": {},
   "outputs": [],
   "source": []
  },
  {
   "cell_type": "code",
   "execution_count": null,
   "id": "cb166a5b-973b-4681-8a27-a8ab80279ede",
   "metadata": {},
   "outputs": [],
   "source": [
    "tv_threshold = 0.05"
   ]
  },
  {
   "cell_type": "code",
   "execution_count": null,
   "id": "35f27e81-e102-4496-9304-c72eb6dd1613",
   "metadata": {},
   "outputs": [],
   "source": [
    "pure_runtime"
   ]
  },
  {
   "cell_type": "code",
   "execution_count": null,
   "id": "55a62015-e364-4cca-a061-20e569039223",
   "metadata": {},
   "outputs": [],
   "source": [
    "runtime"
   ]
  },
  {
   "cell_type": "code",
   "execution_count": null,
   "id": "10129bb9-fa3b-450b-8a18-120fe2b82ee0",
   "metadata": {},
   "outputs": [],
   "source": [
    "fig, axes = plt.subplots(\n",
    "    nrows=len(dimensions),\n",
    "    ncols=2,\n",
    "    figsize=(13, 4 * len(dimensions),)\n",
    ")\n",
    "fig.suptitle(\n",
    "    f\"at most {tail_count_cap} last samples, burn-in={burn_in_iter_count}, \"\n",
    "    f\"chain_count={chain_count}, \"\n",
    "    f\"TV threshold={tv_threshold}\\n\" +\n",
    "    f\"mixture of {gaussian_count} gaussians with \"\n",
    "    \"random means and covariance matrices\"\n",
    ")\n",
    "\n",
    "for dim_ind in range(len(dimensions)):\n",
    "    for alg_ind, alg in enumerate(algs.keys()):\n",
    "\n",
    "        ticks_count = len(hist_data[dimensions[dim_ind]][alg][1])\n",
    "        xticks = probe_period * jnp.arange(1, ticks_count + 1)\n",
    "\n",
    "        axes[dim_ind, alg_ind].plot(\n",
    "            xticks,\n",
    "            [\n",
    "                entry[\"tv_mean\"]\n",
    "                for entry in hist_data[dimensions[dim_ind]][alg][1]\n",
    "            ],\n",
    "            label=\"TV mean\"\n",
    "        )\n",
    "        axes[dim_ind, alg_ind].fill_between(\n",
    "            xticks,\n",
    "            [\n",
    "                entry[\"tv_mean\"] - 2 * entry[\"tv_std\"]\n",
    "                for entry in hist_data[dimensions[dim_ind]][alg][1]\n",
    "            ],\n",
    "            [\n",
    "                entry[\"tv_mean\"] + 2 * entry[\"tv_std\"]\n",
    "                for entry in hist_data[dimensions[dim_ind]][alg][1]\n",
    "            ],\n",
    "            alpha=0.1,\n",
    "            label=\"95% CI\"\n",
    "        )\n",
    "        axes[dim_ind, alg_ind].axhline(tv_threshold, color=\"r\", linestyle=\"dashed\")\n",
    "        axes[dim_ind, alg_ind].set_title(f\"{alg}, dim={dimensions[dim_ind]}\")\n",
    "        if dim_ind + 1 == len(dimensions):\n",
    "            axes[dim_ind, alg_ind].set_xlabel(\"iteration\")\n",
    "        axes[dim_ind, alg_ind].set_ylabel(\"TV\")\n",
    "        axes[dim_ind, alg_ind].legend()"
   ]
  },
  {
   "cell_type": "code",
   "execution_count": null,
   "id": "8a6ff13a-0a74-4f14-b417-c53ca628ea95",
   "metadata": {},
   "outputs": [],
   "source": [
    "BenchmarkUtils.compute_metrics(\n",
    "    algs[\"mala\"].pipeline.sample_blocks[-1].iteration.cache.samples,\n",
    "    algs[\"mala\"].pipeline.sample_blocks[-1].iteration.cache.true_samples\n",
    ")"
   ]
  },
  {
   "cell_type": "code",
   "execution_count": null,
   "id": "f6cdc433-bb7d-458f-af21-1b3fef3cad21",
   "metadata": {},
   "outputs": [],
   "source": [
    "BenchmarkUtils.compute_metrics(\n",
    "    algs[\"fisher_mala\"].pipeline.sample_blocks[-1].iteration.cache.samples,\n",
    "    algs[\"fisher_mala\"].pipeline.sample_blocks[-1].iteration.cache.true_samples\n",
    ")"
   ]
  },
  {
   "cell_type": "code",
   "execution_count": null,
   "id": "67144eea-084e-426d-8bf5-c690cc8bf1a5",
   "metadata": {},
   "outputs": [],
   "source": [
    "BenchmarkUtils.compute_metrics(\n",
    "    algs[\"hmc_vanilla\"].pipeline.sample_blocks[-1].iteration.cache.samples,\n",
    "    algs[\"hmc_vanilla\"].pipeline.sample_blocks[-1].iteration.cache.true_samples\n",
    ")"
   ]
  },
  {
   "cell_type": "code",
   "execution_count": null,
   "id": "cb6b7cba-6c88-4f16-afcc-417223994b22",
   "metadata": {},
   "outputs": [],
   "source": [
    "BenchmarkUtils.compute_metrics(\n",
    "    algs[\"hmcadaptive_hutch\"].pipeline.sample_blocks[-1].iteration.cache.samples,\n",
    "    algs[\"hmcadaptive_hutch\"].pipeline.sample_blocks[-1].iteration.cache.true_samples\n",
    ")"
   ]
  },
  {
   "cell_type": "code",
   "execution_count": null,
   "id": "54d63ebd-e4e6-4c18-8485-1d0de06ce627",
   "metadata": {},
   "outputs": [],
   "source": [
    "algs[\"fisher_mala\"].pipeline.sample_blocks[-1].iteration.params.sigma_prec"
   ]
  },
  {
   "cell_type": "code",
   "execution_count": null,
   "id": "5a07a753-7276-41fe-bf1f-0dab34742f2b",
   "metadata": {},
   "outputs": [],
   "source": [
    "algs[\"lanczos_nograd\"].pipeline.sample_blocks[-1].iteration.common_params.entropy_weight.squeeze()"
   ]
  },
  {
   "cell_type": "code",
   "execution_count": null,
   "id": "979fb9fc-1b64-4f08-a550-a8eff9105245",
   "metadata": {},
   "outputs": [],
   "source": [
    "algs[\"hmcadaptive_hutch_taylor\"].pipeline.sample_blocks[-1].iteration.common_params.entropy_weight.squeeze()"
   ]
  },
  {
   "cell_type": "code",
   "execution_count": null,
   "id": "20d3fa6c-fcd9-4b93-a88e-467d4c0ebffe",
   "metadata": {},
   "outputs": [],
   "source": [
    "algs[\"taylor_nograd\"].pipeline.sample_blocks[-1].iteration.common_params.entropy_weight.squeeze()"
   ]
  },
  {
   "cell_type": "code",
   "execution_count": null,
   "id": "f5e4c85b-a287-4021-afc8-a13de41195bc",
   "metadata": {},
   "outputs": [],
   "source": [
    "algs[\"hmcadaptive_fullent\"].pipeline.sample_blocks[-1].iteration.params.entropy_weight.squeeze()"
   ]
  },
  {
   "cell_type": "code",
   "execution_count": null,
   "id": "78e93069-acf2-4466-a81a-c2eba9953ac7",
   "metadata": {},
   "outputs": [],
   "source": [
    "algs[\"hmcadaptive_hutch_taylor\"].pipeline.sample_blocks[-1].iteration.params.penalty_weight.squeeze()"
   ]
  },
  {
   "cell_type": "code",
   "execution_count": null,
   "id": "d15d77d0-799d-483c-99fb-71c92c349548",
   "metadata": {},
   "outputs": [],
   "source": [
    "prec = algs[\"fisher_mala\"].pipeline.sample_blocks[-1].iteration.params.prec[1].detach().numpy()\n",
    "minv = prec @ prec.T"
   ]
  },
  {
   "cell_type": "code",
   "execution_count": null,
   "id": "04277212-a134-44a0-8ae3-584376bcc2bd",
   "metadata": {},
   "outputs": [],
   "source": [
    "prec = algs[\"hmcadaptive_hutch_taylor\"].pipeline.sample_blocks[-1].iteration.cache.prec_params.make_prec()[1].detach().numpy()\n",
    "minv = prec @ prec.T"
   ]
  },
  {
   "cell_type": "code",
   "execution_count": null,
   "id": "ab3b0136-de75-44ff-90e1-b09b073f0063",
   "metadata": {},
   "outputs": [],
   "source": [
    "algs[\"hmcadaptive_hutch_lanczos\"].pipeline.sample_blocks[1].iteration.params.lf_step_size"
   ]
  },
  {
   "cell_type": "code",
   "execution_count": null,
   "id": "6406bbfe-722f-4ba2-9d71-e39a40138cb0",
   "metadata": {},
   "outputs": [],
   "source": [
    "algs[\"hmcadaptive_hutch_taylor\"].pipeline.sample_blocks[0].iteration.params.lf_step_size"
   ]
  },
  {
   "cell_type": "code",
   "execution_count": null,
   "id": "ee884514-7a7b-44bc-87b5-aec3ba5a6a59",
   "metadata": {},
   "outputs": [],
   "source": [
    "minv"
   ]
  },
  {
   "cell_type": "code",
   "execution_count": null,
   "id": "08631321-e51b-4fc5-b43d-15359b0bbd71",
   "metadata": {},
   "outputs": [],
   "source": [
    "prec = algs[\"taylor_nograd\"].pipeline.sample_blocks[-1].iteration.cache.prec_params.make_prec()[1].detach().numpy()\n",
    "minv = prec @ prec.T\n",
    "plt.imshow(minv)"
   ]
  },
  {
   "cell_type": "code",
   "execution_count": null,
   "id": "c284bea5-92fe-4d6a-8422-775428e9c499",
   "metadata": {},
   "outputs": [],
   "source": [
    "diff = minv - minv_l"
   ]
  },
  {
   "cell_type": "code",
   "execution_count": null,
   "id": "5bbb054f-ffc7-4d1e-b779-e020f55f31c2",
   "metadata": {},
   "outputs": [],
   "source": [
    "plt.hist(diff[range(len(diff)), range(len(diff))])"
   ]
  },
  {
   "cell_type": "code",
   "execution_count": null,
   "id": "82e60aaf-b26a-405f-8033-1cc4ab54f6f0",
   "metadata": {},
   "outputs": [],
   "source": [
    "prec = algs[\"hmcadaptive_hutch_taylor\"].pipeline.sample_blocks[-1].iteration.cache.prec_params.make_prec()[1].detach().numpy()\n",
    "minv = prec @ prec.T\n",
    "plt.imshow(minv)"
   ]
  },
  {
   "cell_type": "code",
   "execution_count": null,
   "id": "0a38cc5a-f94b-47bd-bf41-0410825617d3",
   "metadata": {},
   "outputs": [],
   "source": [
    "prec = algs[\"fisher_mala\"].pipeline.sample_blocks[-1].iteration.cache.prec[1].detach().numpy()\n",
    "minv_l = prec @ prec.T\n",
    "plt.imshow(minv_l)"
   ]
  },
  {
   "cell_type": "code",
   "execution_count": null,
   "id": "992cab78-60ec-4383-b78e-f0cd633958ab",
   "metadata": {},
   "outputs": [],
   "source": [
    "minv_l"
   ]
  },
  {
   "cell_type": "code",
   "execution_count": null,
   "id": "2ab51f09-9d9b-4ada-8560-3ab223d7d10b",
   "metadata": {},
   "outputs": [],
   "source": [
    "prec = algs[\"lanczos_nograd\"].pipeline.sample_blocks[-1].iteration.cache.prec_params.make_prec()[1].detach().numpy()\n",
    "minv_l = prec @ prec.T\n",
    "plt.imshow(minv_l)"
   ]
  },
  {
   "cell_type": "code",
   "execution_count": null,
   "id": "e5568224-c767-420e-8add-c733fd8d8fd8",
   "metadata": {},
   "outputs": [],
   "source": [
    "minv_l"
   ]
  },
  {
   "cell_type": "code",
   "execution_count": null,
   "id": "985b80a9-5232-4eed-a8c2-07218f2421c0",
   "metadata": {},
   "outputs": [],
   "source": [
    "prec = algs[\"hmcadaptive_fullent\"].pipeline.sample_blocks[-1].iteration.cache.prec[19].detach().numpy()\n",
    "minv = prec @ prec.T\n",
    "plt.imshow(minv)"
   ]
  },
  {
   "cell_type": "code",
   "execution_count": null,
   "id": "667ec0f3-d584-4f96-a6b0-30f5aadd815d",
   "metadata": {},
   "outputs": [],
   "source": [
    "minv"
   ]
  },
  {
   "cell_type": "code",
   "execution_count": null,
   "id": "8523c44e-17ac-47ad-aea1-105e2c258c95",
   "metadata": {},
   "outputs": [],
   "source": [
    "prec = algs[\"hmcadaptive_noent\"].pipeline.sample_blocks[-1].iteration.cache.prec[1].detach().numpy()\n",
    "minv = prec @ prec.T\n",
    "plt.imshow(minv)"
   ]
  },
  {
   "cell_type": "code",
   "execution_count": null,
   "id": "7587af9e-dda7-4cb9-a9fb-270ffadf3b3d",
   "metadata": {},
   "outputs": [],
   "source": [
    "BenchmarkUtils.compute_metrics(\n",
    "    algs[\"hmcadaptive_hutch\"].pipeline.sample_blocks[-1].iteration.cache.samples,\n",
    "    algs[\"hmcadaptive_hutch\"].pipeline.sample_blocks[-1].iteration.cache.true_samples,\n",
    ")"
   ]
  },
  {
   "cell_type": "code",
   "execution_count": null,
   "id": "05d39474-2286-4277-bdb0-7b0ec14b4e4f",
   "metadata": {},
   "outputs": [],
   "source": [
    "BenchmarkUtils.compute_metrics(\n",
    "    algs[\"hmcadaptive_hutch\"].pipeline.sample_blocks[-1].iteration.cache.samples,\n",
    "    algs[\"hmcadaptive_hutch\"].pipeline.sample_blocks[-1].iteration.cache.true_samples,\n",
    ")"
   ]
  },
  {
   "cell_type": "markdown",
   "id": "567fa5c1-48cc-4472-bde8-0538aae1cc17",
   "metadata": {},
   "source": [
    "### Reference"
   ]
  },
  {
   "cell_type": "code",
   "execution_count": null,
   "id": "f414f8fd-3fe3-4eef-aa49-4dfd95883327",
   "metadata": {},
   "outputs": [],
   "source": [
    "BenchmarkUtils.compute_metrics(\n",
    "    algs[\"fisher_mala\"].pipeline.sample_blocks[-1].iteration.cache.samples,\n",
    "    algs[\"fisher_mala\"].pipeline.sample_blocks[-1].iteration.cache.true_samples\n",
    ")"
   ]
  },
  {
   "cell_type": "code",
   "execution_count": null,
   "id": "44757f5e-3a5f-4c3f-b7b6-36c68f06dd9d",
   "metadata": {},
   "outputs": [],
   "source": [
    "BenchmarkUtils.compute_metrics(\n",
    "    algs[\"mala\"].pipeline.sample_blocks[-1].iteration.cache.samples,\n",
    "    algs[\"mala\"].pipeline.sample_blocks[-1].iteration.cache.true_samples\n",
    ")"
   ]
  },
  {
   "cell_type": "code",
   "execution_count": null,
   "id": "ea243954-183b-48d6-ac64-5d98320a1919",
   "metadata": {},
   "outputs": [],
   "source": []
  }
 ],
 "metadata": {
  "kernelspec": {
   "display_name": "Python 3 (ipykernel)",
   "language": "python",
   "name": "python3"
  },
  "language_info": {
   "codemirror_mode": {
    "name": "ipython",
    "version": 3
   },
   "file_extension": ".py",
   "mimetype": "text/x-python",
   "name": "python",
   "nbconvert_exporter": "python",
   "pygments_lexer": "ipython3",
   "version": "3.12.0"
  }
 },
 "nbformat": 4,
 "nbformat_minor": 5
}
