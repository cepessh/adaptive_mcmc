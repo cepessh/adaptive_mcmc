{
 "cells": [
  {
   "cell_type": "code",
   "execution_count": 1,
   "id": "ca26255f-94fa-4cca-aafa-7244110bb174",
   "metadata": {},
   "outputs": [
    {
     "name": "stderr",
     "output_type": "stream",
     "text": [
      "2025-05-18 19:12:35.716425: E external/local_xla/xla/stream_executor/cuda/cuda_fft.cc:477] Unable to register cuFFT factory: Attempting to register factory for plugin cuFFT when one has already been registered\n",
      "WARNING: All log messages before absl::InitializeLog() is called are written to STDERR\n",
      "E0000 00:00:1747584755.726613   15560 cuda_dnn.cc:8310] Unable to register cuDNN factory: Attempting to register factory for plugin cuDNN when one has already been registered\n",
      "E0000 00:00:1747584755.729320   15560 cuda_blas.cc:1418] Unable to register cuBLAS factory: Attempting to register factory for plugin cuBLAS when one has already been registered\n"
     ]
    }
   ],
   "source": [
    "from copy import deepcopy\n",
    "import tqdm\n",
    "\n",
    "import jax.numpy as jnp\n",
    "import matplotlib.pyplot as plt\n",
    "\n",
    "import numpy as np\n",
    "import pandas as pd\n",
    "import torch\n",
    "\n",
    "from adaptive_mcmc.distributions.distribution import GaussianMixture, FunnelDistribution, Gaussian\n",
    "from adaptive_mcmc.samplers import (\n",
    "    base_sampler,\n",
    "    # mala,\n",
    "    # fishermala,\n",
    "    hmc,\n",
    "    hmcadaptive,\n",
    ")\n",
    "from adaptive_mcmc.samplers.stopping_rule import NoStop\n",
    "from adaptive_mcmc.tools.benchmark import BenchmarkUtils\n",
    "from adaptive_mcmc.tools.metrics import compute_ess, compute_emd\n",
    "\n",
    "from typing import Tuple, Optional"
   ]
  },
  {
   "cell_type": "code",
   "execution_count": 23,
   "id": "1f316835-2bc2-4e0c-97fd-5143e78232e2",
   "metadata": {},
   "outputs": [],
   "source": [
    "seed = 123\n",
    "torch.manual_seed(seed)\n",
    "\n",
    "device = \"cpu\"\n",
    "\n",
    "hparams = {\n",
    "    # \"mala\": mala.MALAParams(\n",
    "    #     sigma=1.0,\n",
    "    #     sigma_lr=0.015,\n",
    "    #     target_acceptance=0.574,\n",
    "    #     device=device,\n",
    "    # ),\n",
    "    # \"fisher_mala\": fishermala.FisherMALAParams(dampening=10.),\n",
    "    \"hmc_vanilla\": {\n",
    "        \"common\": hmc.HMCCommonParams(lf_step_count=10, lf_step_size=0.1),\n",
    "        \"fixed\": hmc.HMCFixedParams(no_grad=True, stop_grad=False),\n",
    "    },\n",
    "    \"hmcadaptive_hutch_taylor\": {\n",
    "        \"common\": hmcadaptive.HMCAdaptiveCommonParams(\n",
    "            lf_step_count=10,\n",
    "            lf_step_size=0.1,\n",
    "            learning_rate=5e-3,\n",
    "            truncation_level_prob=0.5,\n",
    "            min_truncation_level=2,\n",
    "            entropy_weight=1e-1,\n",
    "            entropy_weight_max=1e2,\n",
    "            penalty_weight_max=1e1,\n",
    "            penalty_weight=1e-3,\n",
    "            penalty_weight_adaptive_rate=1e-3,\n",
    "            clip_grad_value=1e6,\n",
    "        ),\n",
    "        \"fixed\": hmcadaptive.HMCAdaptiveFixedParams(\n",
    "            prec_init_scale=1e-1,\n",
    "            no_grad=False,\n",
    "            stop_grad=False,\n",
    "            prec_type=\"tridiag\",\n",
    "            # iter_count=10000,\n",
    "            # scheduler_cls=hmcadaptive.WarmupCosineAnnealingScheduler\n",
    "        ),\n",
    "    },\n",
    "    \"hmcadaptive_hutch_taylor_nograd\": {\n",
    "        \"common\": hmcadaptive.HMCAdaptiveCommonParams(\n",
    "            lf_step_count=10,\n",
    "            lf_step_size=0.1,\n",
    "            learning_rate=5e-3,\n",
    "            truncation_level_prob=0.5,\n",
    "            min_truncation_level=2,\n",
    "            entropy_weight=1e-1,\n",
    "            entropy_weight_max=1e2,\n",
    "            penalty_weight_max=1e1,\n",
    "            penalty_weight=1e-3,\n",
    "            penalty_weight_adaptive_rate=1e-3,\n",
    "            clip_grad_value=1e6,\n",
    "        ),\n",
    "        \"fixed\": hmcadaptive.HMCAdaptiveFixedParams(\n",
    "            prec_init_scale=1e-1,\n",
    "            no_grad=True,\n",
    "            stop_grad=False,\n",
    "            backprop_method=\"approx\",\n",
    "            prec_type=\"tridiag\",\n",
    "            # iter_count=10000,\n",
    "            # scheduler_cls=hmcadaptive.WarmupCosineAnnealingScheduler\n",
    "        ),\n",
    "    },\n",
    "    # \"hmcadaptive_hutch_lanczos\": hmcadaptive.HMCAdaptiveParams(\n",
    "    #     lf_step_count=5,\n",
    "    #     lf_step_size=0.1,\n",
    "    #     learning_rate=1e-2,\n",
    "    #     entropy_weight=1e-1,\n",
    "    #     entropy_weight_min=1e-3,\n",
    "    #     entropy_weight_max=1e2,\n",
    "    #     clip_grad_value=1e6,\n",
    "    #     prec_init_scale=1e0,\n",
    "    #     trace_method=hmcadaptive.TraceMethod.HUTCH_LANCZOS,\n",
    "    #     lanczos_steps=4,\n",
    "    #     krylov_probe_vectors=1,\n",
    "    #     # iter_count=10000,\n",
    "    #     # scheduler_cls=hmcadaptive.WarmupCosineAnnealingScheduler\n",
    "    # ),\n",
    "    # \"hmcadaptive_noent\": hmcadaptive.HMCAdaptiveParams(\n",
    "    #     lf_step_count=5,\n",
    "    #     lf_step_size=0.1,\n",
    "    #     learning_rate=1e-4,\n",
    "    #     clip_grad_value=1e6,\n",
    "    #     prec_init_scale=1e0,\n",
    "    #     entropy_method=\"none\",\n",
    "    #     # iter_count=10000,\n",
    "    #     # scheduler_cls=hmcadaptive.WarmupCosineAnnealingScheduler\n",
    "    # ),\n",
    "    # \"hmcadaptive_fullent\": hmcadaptive.HMCAdaptiveParams(\n",
    "    #     lf_step_count=5,\n",
    "    #     lf_step_size=0.1,\n",
    "    #     learning_rate=1e-2,\n",
    "    #     entropy_weight=1e-1,\n",
    "    #     entropy_weight_min=1e-3,\n",
    "    #     entropy_weight_max=1e2,\n",
    "    #     clip_grad_value=1e6,\n",
    "    #     prec_init_scale=1e0,\n",
    "    #     trace_method=hmcadaptive.TraceMethod.HUTCH_LANCZOS,\n",
    "    #     lanczos_steps=4,\n",
    "    #     krylov_probe_vectors=1,\n",
    "    #     entropy_method=\"full\",\n",
    "    #     # iter_count=10000,\n",
    "    #     # scheduler_cls=hmcadaptive.WarmupCosineAnnealingScheduler\n",
    "    # ),\n",
    "}"
   ]
  },
  {
   "cell_type": "code",
   "execution_count": 24,
   "id": "e7247927-47ed-45ef-aaee-0d19e21b69db",
   "metadata": {},
   "outputs": [],
   "source": [
    "chain_count = 50\n",
    "dimensions = [32] #[8, 16, 32, 64] #8, 16, 32, 64] #, 32] #[8, 16, 32, 64] #, 128] #, 256]\n",
    "gaussian_count = 5\n",
    "tv_threshold = 0.05\n",
    "sample_count = 5000\n",
    "sample_iter_limit = 5000\n",
    "burn_in_iter_count = 2500\n",
    "step_size_burn_in_iter_count = 500\n",
    "probe_period = 25000\n",
    "tail_count_cap = 1000\n",
    "\n",
    "# stopping_rule = TVStop(threshold=tv_threshold, density_probe_count=1000,\n",
    "#                        projection_count=25, tail_count_cap=tail_count_cap)\n",
    "\n",
    "stopping_rule = NoStop(density_probe_count=500,\n",
    "                       projection_count=25,\n",
    "                       tail_count_cap=tail_count_cap\n",
    "                      )"
   ]
  },
  {
   "cell_type": "code",
   "execution_count": 25,
   "id": "283bd108-9f67-4c89-abe8-bcd94b294b49",
   "metadata": {},
   "outputs": [],
   "source": [
    "def get_random_GM(\n",
    "    gaussian_count: int,\n",
    "    dimension: int,\n",
    "    cube: float,\n",
    "    eps: float=5e-1,\n",
    "    scale: float=5.,\n",
    "):\n",
    "    true_means = torch.rand((gaussian_count, dimension)) * cube - cube / 2\n",
    "    scales = torch.rand((gaussian_count, dimension)) * scale\n",
    "\n",
    "    while True:\n",
    "        try:\n",
    "            true_covs = torch.rand((gaussian_count, dimension, dimension))\n",
    "            true_covs, _ = torch.linalg.qr(true_covs)\n",
    "        \n",
    "            true_covs = (\n",
    "                true_covs @ torch.diag_embed(scales) @ true_covs.permute(0, 2, 1) \n",
    "                + eps * torch.eye(dimension).unsqueeze(0)\n",
    "            )\n",
    "            \n",
    "            # true_covs = (\n",
    "            #     true_covs @ true_covs.permute(0, 2, 1) +\n",
    "            #     torch.eye(dimension).repeat(gaussian_count, 1, 1)\n",
    "            # )\n",
    "        \n",
    "            gm = GaussianMixture(\n",
    "                true_means,\n",
    "                true_covs,\n",
    "                torch.full((gaussian_count,), 1/gaussian_count, dtype=torch.float64)\n",
    "            )\n",
    "            break\n",
    "        except ValueError:\n",
    "            pass\n",
    "            \n",
    "    return gm, true_means"
   ]
  },
  {
   "cell_type": "code",
   "execution_count": 26,
   "id": "99e91164-74f4-4fee-9f0d-d34ae73e24b1",
   "metadata": {},
   "outputs": [],
   "source": [
    "def get_random_GM(\n",
    "    gaussian_count: int,\n",
    "    dimension: int,\n",
    "    cube: float,\n",
    "    eps: float = 5e-1,\n",
    "    scale: float = 1.0,\n",
    "    *,\n",
    "    seed: Optional[int] = None,\n",
    "    device: torch.device | str = \"cpu\",\n",
    "    dtype: torch.dtype = torch.float32,\n",
    ") -> Tuple[GaussianMixture, torch.Tensor]:\n",
    "    \"\"\"\n",
    "    Create a reproducible random Gaussian Mixture.\n",
    "\n",
    "    Parameters\n",
    "    ----------\n",
    "    gaussian_count : int      # number of components\n",
    "    dimension      : int      # dimensionality\n",
    "    cube           : float    # component means ∈ (-cube/2, cube/2)\n",
    "    eps            : float    # ε·I added to each covariance\n",
    "    scale          : float    # upper–bound on random eigen-scales\n",
    "    seed           : int|None # RNG seed for reproducibility\n",
    "    device         : str|torch.device\n",
    "    dtype          : torch.dtype\n",
    "\n",
    "    Returns\n",
    "    -------\n",
    "    gm          : GaussianMixture\n",
    "    true_means  : Tensor (gaussian_count, dimension)\n",
    "    \"\"\"\n",
    "    g = torch.Generator(device=device)\n",
    "    if seed is not None:\n",
    "        g.manual_seed(seed)\n",
    "\n",
    "    true_means = (\n",
    "        torch.rand((gaussian_count, dimension), generator=g, device=device, dtype=dtype)\n",
    "        * cube - cube/2\n",
    "    )\n",
    "\n",
    "    scales = torch.rand((gaussian_count, dimension), generator=g, device=device, dtype=dtype) * scale\n",
    "\n",
    "    while True:\n",
    "        try:\n",
    "            Q = torch.rand((gaussian_count, dimension, dimension), generator=g, device=device, dtype=dtype)\n",
    "            Q, _ = torch.linalg.qr(Q)\n",
    "\n",
    "            true_covs = (\n",
    "                Q @ torch.diag_embed(scales) @ Q.transpose(-1, -2)\n",
    "                + eps * torch.eye(dimension, device=device, dtype=dtype).unsqueeze(0)\n",
    "            )\n",
    "\n",
    "            gm = GaussianMixture(\n",
    "                true_means,\n",
    "                true_covs,\n",
    "                torch.full((gaussian_count,), 1.0 / gaussian_count, device=device, dtype=dtype),\n",
    "            )\n",
    "            break\n",
    "        except ValueError:\n",
    "            continue\n",
    "\n",
    "    return gm, true_means"
   ]
  },
  {
   "cell_type": "code",
   "execution_count": 27,
   "id": "a7c4c7e8-ed6b-4c13-84ac-150fd70e171e",
   "metadata": {},
   "outputs": [],
   "source": [
    "def generate_simplex(d: int) -> torch.Tensor:\n",
    "    I = torch.eye(d)\n",
    "    \n",
    "    ones = torch.ones((d, d)) / (d+1)\n",
    "    v1d = I - ones\n",
    "    vdp1 = -torch.ones((1, d)) / (d+1)\n",
    "    return torch.cat([v1d, vdp1], dim=0)\n",
    "\n",
    "\n",
    "def get_toeplitz_GM(dimension: int, cube: float, rho: float=0.99, sigma: float=1.):\n",
    "    true_means = generate_simplex(dimension) * cube\n",
    "\n",
    "    inds = torch.arange(dimension)\n",
    "    power = torch.abs(inds.unsqueeze(0) - inds.unsqueeze(1))\n",
    "\n",
    "    true_covs = sigma ** 2 * rho ** power\n",
    "    true_covs = true_covs.repeat(dimension + 1, 1, 1)\n",
    "\n",
    "    gm = GaussianMixture(\n",
    "        true_means,\n",
    "        true_covs,\n",
    "        torch.ones(dimension + 1) / (dimension + 1)\n",
    "    )\n",
    "\n",
    "    return gm, true_means\n",
    "\n",
    "\n",
    "def get_toeplitz_gaussian(dimension: int,\n",
    "                          mean: float = None,\n",
    "                          rho: float = 0.99,\n",
    "                          sigma: float = 1.0) -> tuple:\n",
    "    if mean is None:\n",
    "        mean = torch.zeros(dimension)\n",
    "        \n",
    "    inds = torch.arange(dimension)\n",
    "    power = torch.abs(inds.unsqueeze(0) - inds.unsqueeze(1))\n",
    "    cov = (sigma ** 2) * (rho ** power)\n",
    "    \n",
    "    return Gaussian(mean=mean, cov=cov), mean.unsqueeze(0)\n",
    "\n",
    "\n",
    "def sample_se_covariance_torch(dimension, scale=4., noise=0.01, seed=None, device='cpu'):\n",
    "    if seed is not None:\n",
    "        torch.manual_seed(seed)\n",
    "\n",
    "    x = torch.linspace(0, scale, dimension)\n",
    "\n",
    "    x1 = x.unsqueeze(1)\n",
    "    x2 = x.unsqueeze(0)\n",
    "    dist_squared = (x1 - x2) ** 2\n",
    "\n",
    "    K = torch.exp(-0.5 * dist_squared / (0.1 * scale**2))\n",
    "\n",
    "    K += noise * torch.eye(dimension, device=device)\n",
    "\n",
    "    return x, K\n",
    "    \n",
    "def get_deterministic_gaussian_se(dimension: int,\n",
    "                                  mean: float = None,) -> tuple:\n",
    "    if mean is None:\n",
    "        mean = torch.zeros(dimension)\n",
    "        \n",
    "    _, cov = sample_se_covariance_torch(dimension)\n",
    "    \n",
    "    return Gaussian(mean=mean, cov=cov), mean.unsqueeze(0)"
   ]
  },
  {
   "cell_type": "code",
   "execution_count": 28,
   "id": "fd8eb98c-ed23-44b4-94ec-147551f14352",
   "metadata": {},
   "outputs": [],
   "source": [
    "# dist = FunnelDistribution(32, scale=2.)\n",
    "\n",
    "#dist, _ = get_toeplitz_gaussian(256, rho=0.95)\n",
    "# dist, _ = get_deterministic_gaussian_se(32)\n",
    "\n",
    "dist, _ = get_random_GM(gaussian_count=5, dimension=64, cube=15., scale=100.,)\n",
    "# dist, _ = get_toeplitz_GM(dimension=32, cube=2., rho=0.9)\n",
    "\n",
    "\n",
    "samples = dist.sample(5000).detach().numpy()"
   ]
  },
  {
   "cell_type": "code",
   "execution_count": 29,
   "id": "d8c61397-4824-4940-8e47-a3eb5cb30787",
   "metadata": {
    "scrolled": true
   },
   "outputs": [
    {
     "data": {
      "text/plain": [
       "<matplotlib.collections.PathCollection at 0x77879df532c0>"
      ]
     },
     "execution_count": 29,
     "metadata": {},
     "output_type": "execute_result"
    },
    {
     "data": {
      "image/png": "[encoded data removed]",
      "text/plain": [
       "<Figure size 640x480 with 1 Axes>"
      ]
     },
     "metadata": {},
     "output_type": "display_data"
    }
   ],
   "source": [
    "plt.scatter(samples[:, 0], samples[:, 1], alpha=0.1)"
   ]
  },
  {
   "cell_type": "code",
   "execution_count": 30,
   "id": "b6be8400-2209-4ad1-b746-5c0d104d0970",
   "metadata": {},
   "outputs": [],
   "source": [
    "def dist_factory(name, dimension, cube=15., scale=100., funnel_scale=2., gaussian_count=5, rho=0.95, sigma=1.):\n",
    "    if name == \"random_gm\":\n",
    "        return get_random_GM(gaussian_count=gaussian_count, dimension=dimension, cube=cube, scale=scale)\n",
    "    elif name == \"toeplitz_gm\":\n",
    "        return get_toeplitz_GM(dimension, cube=cube, rho=rho, sigma=sigma)\n",
    "    elif name == \"toeplitz_gaussian\":\n",
    "        return get_toeplitz_gaussian(dimension, rho=rho, sigma=sigma)\n",
    "    elif name == \"deterministic_gaussian_se\":\n",
    "        return get_deterministic_gaussian_se(dimension)\n",
    "    elif name == \"funnel\":\n",
    "        return FunnelDistribution(dimension, scale=funnel_scale), torch.zeros(1, dimension)"
   ]
  },
  {
   "cell_type": "code",
   "execution_count": 31,
   "id": "642b06c2-fb8d-43b6-8d11-391bec35a38e",
   "metadata": {},
   "outputs": [],
   "source": [
    "def drop_static_chains(samples: torch.Tensor, eps: float = 0.0):\n",
    "    var_per_chain = samples.var(dim=0, unbiased=False)\n",
    "\n",
    "    static = (var_per_chain <= eps).all(dim=-1)\n",
    "    keep_mask = ~static\n",
    "\n",
    "    return samples[:, keep_mask, :], keep_mask.sum().item()\n",
    "\n",
    "def compute_results(hist_data, algs, dist_name=None):\n",
    "    dim_stat = {}\n",
    "\n",
    "    for dimension in tqdm.notebook.tqdm(dimensions, desc=\"dimension\"):\n",
    "        rows = []\n",
    "        for alg in tqdm.notebook.tqdm(algs, desc=\"alg\", leave=False):\n",
    "            obj = hist_data[dimension][alg]\n",
    "            cache = obj[\"cache\"]\n",
    "            pure_runtime = obj[\"pure_runtime\"]\n",
    "    \n",
    "            clean_samples, n_kept = drop_static_chains(cache.samples)\n",
    "    \n",
    "            metrics = BenchmarkUtils.compute_metrics(clean_samples,\n",
    "                                                     cache.true_samples)\n",
    "            metrics[\"runtime\"]      = pure_runtime\n",
    "            metrics[\"chains_kept\"]  = n_kept\n",
    "            rows.append(metrics)\n",
    "    \n",
    "        df = pd.DataFrame(rows, index=list(algs.keys())).T\n",
    "        dim_stat[dimension] = df\n",
    "        print(f\"\\ndim={dimension}, dist={dist_name}\\n\", df)\n",
    "    \n",
    "    return dim_stat"
   ]
  },
  {
   "cell_type": "code",
   "execution_count": 32,
   "id": "b8ddf396-4588-424f-8a60-ce9af4ede051",
   "metadata": {
    "scrolled": true
   },
   "outputs": [],
   "source": [
    "def run_experiment(dist_name, log=[]):\n",
    "    hist_data = {}\n",
    "    runtime = {\n",
    "        dimension: dict()\n",
    "        for dimension in dimensions\n",
    "    }\n",
    "    pure_runtime = deepcopy(runtime)\n",
    "    distance_to_mass_points = 1.\n",
    "    \n",
    "    for dimension in tqdm.notebook.tqdm(dimensions):\n",
    "        print(\"Processing dimension\", dimension)\n",
    "        hist_data[dimension] = {}\n",
    "        target_dist, true_means = dist_factory(dist_name, dimension)\n",
    "        \n",
    "        # target_dist, true_means = get_random_GM(gaussian_count, dimension, cube)\n",
    "        # gm, true_means = get_deterministic_GM(dimension, cube)\n",
    "        # true_samples = gm.sample(sample_count)\n",
    "    \n",
    "        # target_dist = FunnelDistribution(dimension, scale=scale)\n",
    "        \n",
    "        # target_dist, _ = get_deterministic_gaussian(dimension, rho=0.8)\n",
    "        # target_dist, _ = get_deterministic_gaussian_se(dimension)\n",
    "    \n",
    "        # true_means = torch.zeros(1, dimension)\n",
    "        true_samples = target_dist.sample(sample_count)\n",
    "        \n",
    "        starting_points = BenchmarkUtils.generate_starting_points(\n",
    "            chain_count, dimension,\n",
    "            true_means,\n",
    "            distance_to_mass_points,\n",
    "        )\n",
    "    \n",
    "        common_params = base_sampler.CommonParams(\n",
    "            target_dist=target_dist,\n",
    "            starting_point=starting_points.clone(),\n",
    "            proposal_dist=torch.distributions.MultivariateNormal(\n",
    "                torch.zeros(dimension, device=device),\n",
    "                torch.eye(dimension, device=device),\n",
    "            ),\n",
    "        )\n",
    "    \n",
    "        for alg in algs:\n",
    "            print(\"-\" * 80)\n",
    "            base_meta_adj = hparams[alg][\"common\"].copy_update(common_params)\n",
    "            if hasattr(base_meta_adj, \"sigma\"):\n",
    "                base_meta_adj.sigma /= dimension\n",
    "    \n",
    "            algs[alg].load_params(base_meta_adj)\n",
    "            algs[alg].load_true_samples(true_samples)\n",
    "            algs[alg].run()\n",
    "    \n",
    "            hist_data[dimension][alg] = {\n",
    "                \"cache\": algs[alg].pipeline.sample_blocks[-1].iteration.cache,\n",
    "                \"stop_data_hist\": algs[alg].pipeline.sample_blocks[-1].stop_data_hist,\n",
    "                \"runtime\": algs[alg].pipeline.runtime,\n",
    "                \"pure_runtime\": algs[alg].pipeline.pure_runtime,\n",
    "            }\n",
    "        print()\n",
    "\n",
    "    dim_stat = compute_results(hist_data, algs, dist_name)\n",
    "    log.append({\n",
    "        \"hist_data\": hist_data,\n",
    "        \"algs\": algs,\n",
    "        \"dist_name\": dist_name,\n",
    "        \"dim_stat\": dim_stat,\n",
    "    })"
   ]
  },
  {
   "cell_type": "code",
   "execution_count": 33,
   "id": "215295b0-772c-41f6-bb4d-69929bd09dc0",
   "metadata": {},
   "outputs": [],
   "source": [
    "def print_log(log):\n",
    "    for entry in log:\n",
    "        for dimension in dimensions:\n",
    "            print(f\"\\ndim={dimension}, dist={entry['dist_name']}\\n\", entry[\"dim_stat\"][dimension])"
   ]
  },
  {
   "cell_type": "code",
   "execution_count": 34,
   "id": "9dd0f50d-c4f0-4892-b48f-32095811d5a5",
   "metadata": {
    "editable": true,
    "slideshow": {
     "slide_type": ""
    },
    "tags": []
   },
   "outputs": [
    {
     "data": {
      "application/vnd.jupyter.widget-view+json": {
       "model_id": "dd9b588bc569413d810c9c24980fd7ec",
       "version_major": 2,
       "version_minor": 0
      },
      "text/plain": [
       "  0%|          | 0/1 [00:00<?, ?it/s]"
      ]
     },
     "metadata": {},
     "output_type": "display_data"
    },
    {
     "name": "stdout",
     "output_type": "stream",
     "text": [
      "Processing dimension 64\n",
      "--------------------------------------------------------------------------------\n",
      "Running HMCVanilla\n",
      "number of blocks: 2\n",
      "processing block: 1\n"
     ]
    },
    {
     "data": {
      "application/vnd.jupyter.widget-view+json": {
       "model_id": "d67463b415f24bd3aa7d66b91378916f",
       "version_major": 2,
       "version_minor": 0
      },
      "text/plain": [
       "  0%|          | 0/2500 [00:00<?, ?it/s]"
      ]
     },
     "metadata": {},
     "output_type": "display_data"
    },
    {
     "name": "stdout",
     "output_type": "stream",
     "text": [
      "step_size=2.281785488128662\n",
      "processing block: 2\n"
     ]
    },
    {
     "data": {
      "application/vnd.jupyter.widget-view+json": {
       "model_id": "f7f86b60f8b34799a693780ea5c392cf",
       "version_major": 2,
       "version_minor": 0
      },
      "text/plain": [
       "  0%|          | 0/5000 [00:00<?, ?it/s]"
      ]
     },
     "metadata": {},
     "output_type": "display_data"
    },
    {
     "name": "stdout",
     "output_type": "stream",
     "text": [
      "step_size=2.286910057067871\n",
      "Runtime: 33.78s\n",
      "--------------------------------------------------------------------------------\n",
      "Running HMCAdaptiveHutchTaylor\n",
      "number of blocks: 2\n",
      "processing block: 1\n"
     ]
    },
    {
     "data": {
      "application/vnd.jupyter.widget-view+json": {
       "model_id": "f686d8d6295a4cd68615986309a869b7",
       "version_major": 2,
       "version_minor": 0
      },
      "text/plain": [
       "  0%|          | 0/2500 [00:00<?, ?it/s]"
      ]
     },
     "metadata": {},
     "output_type": "display_data"
    },
    {
     "name": "stdout",
     "output_type": "stream",
     "text": [
      "step_size=8.780608177185059\n",
      "processing block: 2\n"
     ]
    },
    {
     "data": {
      "application/vnd.jupyter.widget-view+json": {
       "model_id": "34ea6b00e50e4fa49c22732835823cbd",
       "version_major": 2,
       "version_minor": 0
      },
      "text/plain": [
       "  0%|          | 0/5000 [00:00<?, ?it/s]"
      ]
     },
     "metadata": {},
     "output_type": "display_data"
    },
    {
     "name": "stdout",
     "output_type": "stream",
     "text": [
      "step_size=9.047990798950195\n",
      "Runtime: 120.54s\n",
      "--------------------------------------------------------------------------------\n",
      "Running HMCAdaptiveHutchTaylorNoGrad\n",
      "number of blocks: 2\n",
      "processing block: 1\n"
     ]
    },
    {
     "data": {
      "application/vnd.jupyter.widget-view+json": {
       "model_id": "5308dfabffcf4e03b392cf7fe91b56da",
       "version_major": 2,
       "version_minor": 0
      },
      "text/plain": [
       "  0%|          | 0/2500 [00:00<?, ?it/s]"
      ]
     },
     "metadata": {},
     "output_type": "display_data"
    },
    {
     "name": "stdout",
     "output_type": "stream",
     "text": [
      "step_size=2.2375595569610596\n",
      "processing block: 2\n"
     ]
    },
    {
     "data": {
      "application/vnd.jupyter.widget-view+json": {
       "model_id": "908af6ea172c45df9a3cc3439ade85f1",
       "version_major": 2,
       "version_minor": 0
      },
      "text/plain": [
       "  0%|          | 0/5000 [00:00<?, ?it/s]"
      ]
     },
     "metadata": {},
     "output_type": "display_data"
    },
    {
     "name": "stdout",
     "output_type": "stream",
     "text": [
      "step_size=2.2920005321502686\n",
      "Runtime: 100.34s\n",
      "\n"
     ]
    },
    {
     "data": {
      "application/vnd.jupyter.widget-view+json": {
       "model_id": "7d848df680254d6f842c0d59bdae66db",
       "version_major": 2,
       "version_minor": 0
      },
      "text/plain": [
       "dimension:   0%|          | 0/1 [00:00<?, ?it/s]"
      ]
     },
     "metadata": {},
     "output_type": "display_data"
    },
    {
     "data": {
      "application/vnd.jupyter.widget-view+json": {
       "model_id": "175a600bfeda47d0b9cbd6a477516d18",
       "version_major": 2,
       "version_minor": 0
      },
      "text/plain": [
       "alg:   0%|          | 0/3 [00:00<?, ?it/s]"
      ]
     },
     "metadata": {},
     "output_type": "display_data"
    },
    {
     "name": "stdout",
     "output_type": "stream",
     "text": [
      "\n",
      "dim=64, dist=random_gm\n",
      "                 hmc_vanilla hmcadaptive_hutch_taylor  \\\n",
      "ess_mean           0.695948                 0.355169   \n",
      "ess_conf_sigma     0.025434                 0.036202   \n",
      "tv_mean          0.17570697               0.17336302   \n",
      "tv_conf_sigma   0.015420482              0.015667003   \n",
      "runtime           33.623397               120.043435   \n",
      "chains_kept              50                       50   \n",
      "\n",
      "               hmcadaptive_hutch_taylor_nograd  \n",
      "ess_mean                              0.650565  \n",
      "ess_conf_sigma                        0.031672  \n",
      "tv_mean                             0.17319031  \n",
      "tv_conf_sigma                      0.015540817  \n",
      "runtime                              99.927667  \n",
      "chains_kept                                 50  \n"
     ]
    }
   ],
   "source": [
    "dist_names = [\n",
    "    #\"toeplitz_gm\",\n",
    "    #\"toeplitz_gaussian\",\n",
    "    #\"funnel\",\n",
    "    \"random_gm\",\n",
    "]\n",
    "\n",
    "dimensions = [64] #[8, 16, 32]\n",
    "log = []\n",
    "\n",
    "for dist_name in dist_names:\n",
    "    algs = {\n",
    "        # \"mala\": mala.MALAVanilla(\n",
    "        #     pipeline=None,\n",
    "        #     name=\"MALA\",\n",
    "        #     sigma_burn_in_params=hparams[\"mala\"].copy(),\n",
    "        #     sigma_burn_in_iter_count=burn_in_iter_count,\n",
    "        #     sample_iter_count=sample_iter_limit,\n",
    "        #     stopping_rule=stopping_rule,\n",
    "        #     probe_period=probe_period,\n",
    "        # ),\n",
    "        # \"fisher_mala\": fishermala.FisherMALAVanilla(\n",
    "        #     pipeline=None,\n",
    "        #     name=\"FisherMALA\",\n",
    "        #     sigma_burn_in_params=hparams[\"fisher_mala\"].copy(),\n",
    "        #     sigma_burn_in_iter_count=500,\n",
    "        #     prec_burn_in_params=hparams[\"fisher_mala\"].copy(),\n",
    "        #     prec_burn_in_iter_count=burn_in_iter_count - 500,\n",
    "        #     sample_iter_count=sample_iter_limit,\n",
    "        #     stopping_rule=stopping_rule,\n",
    "        #     probe_period=probe_period,\n",
    "        # ),\n",
    "        \"hmc_vanilla\": hmc.HMCVanilla(\n",
    "            pipeline=None,\n",
    "            name=\"HMCVanilla\",\n",
    "            common_params=hparams[\"hmc_vanilla\"][\"common\"].copy(),\n",
    "            fixed_params=hparams[\"hmc_vanilla\"][\"fixed\"],\n",
    "            step_size_burn_in_iter_count=step_size_burn_in_iter_count,\n",
    "            sample_iter_count=sample_iter_limit,\n",
    "            burn_in_iter_count=burn_in_iter_count,\n",
    "            stopping_rule=stopping_rule,\n",
    "            probe_period=probe_period,\n",
    "        ),\n",
    "        \"hmcadaptive_hutch_taylor\": hmcadaptive.HMCAdaptive(\n",
    "            pipeline=None,\n",
    "            name=\"HMCAdaptiveHutchTaylor\",\n",
    "            common_params=hparams[\"hmcadaptive_hutch_taylor\"][\"common\"].copy(),\n",
    "            fixed_params=hparams[\"hmcadaptive_hutch_taylor\"][\"fixed\"],\n",
    "            step_size_burn_in_iter_count=step_size_burn_in_iter_count,\n",
    "            sample_iter_count=sample_iter_limit,\n",
    "            burn_in_iter_count=burn_in_iter_count,\n",
    "            stopping_rule=stopping_rule,\n",
    "            probe_period=probe_period,\n",
    "        ),\n",
    "        \"hmcadaptive_hutch_taylor_nograd\": hmcadaptive.HMCAdaptive(\n",
    "            pipeline=None,\n",
    "            name=\"HMCAdaptiveHutchTaylorNoGrad\",\n",
    "            common_params=hparams[\"hmcadaptive_hutch_taylor_nograd\"][\"common\"].copy(),\n",
    "            fixed_params=hparams[\"hmcadaptive_hutch_taylor_nograd\"][\"fixed\"],\n",
    "            step_size_burn_in_iter_count=step_size_burn_in_iter_count,\n",
    "            sample_iter_count=sample_iter_limit,\n",
    "            burn_in_iter_count=burn_in_iter_count,\n",
    "            stopping_rule=stopping_rule,\n",
    "            probe_period=probe_period,\n",
    "        ),\n",
    "        # \"hmcadaptive_hutch_lanczos\": hmcadaptive.HMCAdaptive(\n",
    "        #     pipeline=None,\n",
    "        #     name=\"HMCAdaptiveHutchLanczos\",\n",
    "        #     params=hparams[\"hmcadaptive_hutch_lanczos\"].copy(),\n",
    "        #     step_size_burn_in_iter_count=step_size_burn_in_iter_count,\n",
    "        #     sample_iter_count=sample_iter_limit,\n",
    "        #     burn_in_iter_count=burn_in_iter_count,\n",
    "        #     stopping_rule=stopping_rule,\n",
    "        #     probe_period=probe_period,\n",
    "        # ),\n",
    "        # \"hmcadaptive_fullent\": hmcadaptive.HMCAdaptive(\n",
    "        #     pipeline=None,\n",
    "        #     name=\"HMCAdaptiveFullEnt\",\n",
    "        #     params=hparams[\"hmcadaptive_fullent\"].copy(),\n",
    "        #     step_size_burn_in_iter_count=step_size_burn_in_iter_count,\n",
    "        #     sample_iter_count=sample_iter_limit,\n",
    "        #     burn_in_iter_count=burn_in_iter_count,\n",
    "        #     stopping_rule=stopping_rule,\n",
    "        #     probe_period=probe_period,\n",
    "        # ),\n",
    "        # \"hmcadaptive_noent\": hmcadaptive.HMCAdaptive(\n",
    "        #     pipeline=None,\n",
    "        #     name=\"HMCAdaptiveNoEnt\",\n",
    "        #     params=hparams[\"hmcadaptive_noent\"].copy(),\n",
    "        #     step_size_burn_in_iter_count=step_size_burn_in_iter_count,\n",
    "        #     sample_iter_count=sample_iter_limit,\n",
    "        #     burn_in_iter_count=burn_in_iter_count,\n",
    "        #     stopping_rule=stopping_rule,\n",
    "        #     probe_period=probe_period,\n",
    "        # ),\n",
    "    }\n",
    "    run_experiment(dist_name, log=log)"
   ]
  },
  {
   "cell_type": "code",
   "execution_count": null,
   "id": "0f990e9e-a20e-4932-a43e-191320c28d5a",
   "metadata": {},
   "outputs": [],
   "source": []
  },
  {
   "cell_type": "code",
   "execution_count": null,
   "id": "17f7cdda-aa21-4bc1-a67c-ce9df677aad3",
   "metadata": {},
   "outputs": [],
   "source": []
  },
  {
   "cell_type": "code",
   "execution_count": null,
   "id": "beaeb33b-0b11-46a9-8ee4-b14cb6e68398",
   "metadata": {},
   "outputs": [],
   "source": []
  },
  {
   "cell_type": "code",
   "execution_count": null,
   "id": "d8ce4dd2-da65-4a66-ae2d-c8487fe9f3d3",
   "metadata": {},
   "outputs": [],
   "source": [
    "print_log(log)"
   ]
  },
  {
   "cell_type": "code",
   "execution_count": null,
   "id": "6db9dc51-e60c-4d3d-a0b6-7d9d680acd59",
   "metadata": {},
   "outputs": [],
   "source": [
    "print_log(log)"
   ]
  },
  {
   "cell_type": "code",
   "execution_count": null,
   "id": "b379a960-e1de-453b-b9a1-ab67873e6a94",
   "metadata": {},
   "outputs": [],
   "source": [
    "def moving_average(x, window_size=10):\n",
    "    return np.convolve(x, np.ones(window_size)/window_size, mode='valid')\n",
    "\n",
    "plt.figure(figsize=(10, 6))\n",
    "window = 100  # adjust as needed\n",
    "\n",
    "for dimension in dimensions:\n",
    "    for alg in algs:\n",
    "        raw = log[0][\"hist_data\"][dimension][alg][\"cache\"].accept_prob_hist\n",
    "        smoothed = moving_average(np.array(raw), window_size=window)\n",
    "        label = f\"{alg} (dim={dimension})\"\n",
    "        plt.plot(smoothed, label=label, alpha=0.8)\n",
    "\n",
    "plt.xlabel(\"Iteration\")\n",
    "plt.ylabel(\"Smoothed Acceptance Probability\")\n",
    "plt.title(f\"Moving Average (window={window}) of Acceptance Probabilities\")\n",
    "plt.ylim(0, 1)\n",
    "plt.grid(True)\n",
    "plt.legend()\n",
    "plt.tight_layout()\n",
    "plt.show()\n"
   ]
  },
  {
   "cell_type": "code",
   "execution_count": null,
   "id": "dc2fbb9f-32be-419f-93b0-12e01936661e",
   "metadata": {},
   "outputs": [],
   "source": [
    "dim_stat = {}\n",
    "for dimension in tqdm.notebook.tqdm(dimensions):\n",
    "    df = []\n",
    "    for alg in tqdm.notebook.tqdm(algs):\n",
    "        df.append(\n",
    "            BenchmarkUtils.compute_metrics(\n",
    "                hist_data[dimension][alg][0].samples,\n",
    "                hist_data[dimension][alg][0].true_samples,\n",
    "            )\n",
    "        )\n",
    "        df[-1][\"runtime\"] = pure_runtime[dimension][alg]\n",
    "    df = pd.DataFrame(df)\n",
    "    df = df.T\n",
    "    df.columns = list(algs.keys())\n",
    "\n",
    "    dim_stat[dimension] = df\n",
    "    print(f\"dim={dimension}\", df)"
   ]
  },
  {
   "cell_type": "code",
   "execution_count": null,
   "id": "70c8c259-5acd-4800-a9c3-ddaca105a190",
   "metadata": {},
   "outputs": [],
   "source": [
    "algs[\"hmc_vanilla\"].pipeline.sample_blocks[-1].iteration.params.lf_step_size"
   ]
  },
  {
   "cell_type": "code",
   "execution_count": null,
   "id": "be119006-2a1b-4333-b4fa-cdf43b4fb1cd",
   "metadata": {},
   "outputs": [],
   "source": [
    "algs[\"hmc_vanilla\"].pipeline.sample_blocks[-1]"
   ]
  },
  {
   "cell_type": "code",
   "execution_count": null,
   "id": "b1d2a2b3-392b-4160-9ce1-f4e19f08fbd5",
   "metadata": {},
   "outputs": [],
   "source": [
    "BenchmarkUtils.create_plot(\n",
    "    algs[\"mala\"].pipeline.sample_blocks[-1].iteration.cache.samples[:, [0], :],\n",
    "    algs[\"mala\"].pipeline.sample_blocks[-1].iteration.cache.true_samples\n",
    ")"
   ]
  },
  {
   "cell_type": "code",
   "execution_count": null,
   "id": "23f62dbf-ad9b-453a-bef7-b1681eb00ca3",
   "metadata": {},
   "outputs": [],
   "source": [
    "BenchmarkUtils.create_plot(\n",
    "    algs[\"fisher_mala\"].pipeline.sample_blocks[-1].iteration.cache.samples[:, [0], :],\n",
    "    algs[\"fisher_mala\"].pipeline.sample_blocks[-1].iteration.cache.true_samples\n",
    ")"
   ]
  },
  {
   "cell_type": "code",
   "execution_count": null,
   "id": "4610b9ff-031f-460a-bd6f-31a2c3386680",
   "metadata": {},
   "outputs": [],
   "source": [
    "BenchmarkUtils.create_plot(\n",
    "    log[0][\"hist_data\"][dimensions[-1]][\"hmc_vanilla\"][\"cache\"].samples[:, [0], :],\n",
    "    log[0][\"hist_data\"][dimensions[-1]][\"hmc_vanilla\"][\"cache\"].true_samples,\n",
    ")"
   ]
  },
  {
   "cell_type": "code",
   "execution_count": null,
   "id": "941af931-68e6-4b26-96ef-5b5578e12f43",
   "metadata": {},
   "outputs": [],
   "source": []
  },
  {
   "cell_type": "code",
   "execution_count": null,
   "id": "f2faa5c9-f3e8-4b8c-9996-ee4cc68cf2f8",
   "metadata": {},
   "outputs": [],
   "source": [
    "BenchmarkUtils.create_plot(\n",
    "    log[0][\"hist_data\"][dimensions[-1]][\"hmcadaptive_hutch_taylor\"][\"cache\"].samples[:, [1], :],\n",
    "    log[0][\"hist_data\"][dimensions[-1]][\"hmcadaptive_hutch_taylor\"][\"cache\"].true_samples,\n",
    ")"
   ]
  },
  {
   "cell_type": "code",
   "execution_count": null,
   "id": "844aab5d-30bf-408a-a7e9-d1c7a2bac3e9",
   "metadata": {},
   "outputs": [],
   "source": []
  },
  {
   "cell_type": "code",
   "execution_count": null,
   "id": "bbd6a731-27d5-4cff-acab-df9daad8a66a",
   "metadata": {},
   "outputs": [],
   "source": [
    "BenchmarkUtils.create_plot(\n",
    "    log[0][\"hist_data\"][dimensions[-1]][\"hmcadaptive_hutch_lanczos\"][\"cache\"].samples[:, [0], :],\n",
    "    log[0][\"hist_data\"][dimensions[-1]][\"hmcadaptive_hutch_lanczos\"][\"cache\"].true_samples,\n",
    ")"
   ]
  },
  {
   "cell_type": "code",
   "execution_count": null,
   "id": "2dc56102-6c10-40a6-be19-5dfa810e9762",
   "metadata": {},
   "outputs": [],
   "source": [
    "BenchmarkUtils.create_plot(\n",
    "    algs[\"hmc_vanilla\"].pipeline.sample_blocks[-1].iteration.cache.samples[:, [2], :],\n",
    "    algs[\"hmc_vanilla\"].pipeline.sample_blocks[-1].iteration.cache.true_samples\n",
    ")"
   ]
  },
  {
   "cell_type": "code",
   "execution_count": null,
   "id": "4f6e6229-2657-4ffa-b15f-c568464f3564",
   "metadata": {},
   "outputs": [],
   "source": []
  },
  {
   "cell_type": "code",
   "execution_count": null,
   "id": "fc3ce7c8-6afb-46d5-99ee-84298bee004c",
   "metadata": {},
   "outputs": [],
   "source": [
    "BenchmarkUtils.create_plot(\n",
    "    algs[\"hmc_vanilla\"].pipeline.sample_blocks[-1].iteration.cache.samples[:, [2], :],\n",
    "    algs[\"hmc_vanilla\"].pipeline.sample_blocks[-1].iteration.cache.true_samples\n",
    ")"
   ]
  },
  {
   "cell_type": "code",
   "execution_count": null,
   "id": "f139b701-ff5a-4d9c-99f2-693514a48d36",
   "metadata": {},
   "outputs": [],
   "source": []
  },
  {
   "cell_type": "code",
   "execution_count": null,
   "id": "492ce214-b3f8-4e01-b757-f220d46bad58",
   "metadata": {},
   "outputs": [],
   "source": []
  },
  {
   "cell_type": "code",
   "execution_count": null,
   "id": "197851c1-ef94-471b-8f88-1dfa5f7aa27e",
   "metadata": {},
   "outputs": [],
   "source": [
    "BenchmarkUtils.create_plot(\n",
    "    algs[\"hmcadaptive_hutch_taylor\"].pipeline.sample_blocks[0].iteration.cache.samples[:, [2], :],\n",
    "    algs[\"hmcadaptive_hutch_taylor\"].pipeline.sample_blocks[-1].iteration.cache.true_samples\n",
    ")"
   ]
  },
  {
   "cell_type": "code",
   "execution_count": null,
   "id": "dd3a08aa-531b-4e92-967d-15941c853823",
   "metadata": {},
   "outputs": [],
   "source": [
    "BenchmarkUtils.create_plot(\n",
    "    algs[\"hmcadaptive_hutch_lanczos\"].pipeline.sample_blocks[-1].iteration.cache.samples[:, [0], :],\n",
    "    algs[\"hmcadaptive_hutch_lanczos\"].pipeline.sample_blocks[-1].iteration.cache.true_samples\n",
    ")"
   ]
  },
  {
   "cell_type": "code",
   "execution_count": null,
   "id": "c41a4f4b-a23c-44f3-a36e-86c9db69379d",
   "metadata": {},
   "outputs": [],
   "source": [
    "BenchmarkUtils.create_plot(\n",
    "    algs[\"hmcadaptive_fullent\"].pipeline.sample_blocks[-1].iteration.cache.samples[:, [1], :],\n",
    "    algs[\"hmcadaptive_fullent\"].pipeline.sample_blocks[-1].iteration.cache.true_samples\n",
    ")"
   ]
  },
  {
   "cell_type": "code",
   "execution_count": null,
   "id": "90e00839-8cf9-4eb4-a3d8-50f483508288",
   "metadata": {},
   "outputs": [],
   "source": []
  },
  {
   "cell_type": "code",
   "execution_count": null,
   "id": "cb166a5b-973b-4681-8a27-a8ab80279ede",
   "metadata": {},
   "outputs": [],
   "source": [
    "tv_threshold = 0.05"
   ]
  },
  {
   "cell_type": "code",
   "execution_count": null,
   "id": "35f27e81-e102-4496-9304-c72eb6dd1613",
   "metadata": {},
   "outputs": [],
   "source": [
    "pure_runtime"
   ]
  },
  {
   "cell_type": "code",
   "execution_count": null,
   "id": "55a62015-e364-4cca-a061-20e569039223",
   "metadata": {},
   "outputs": [],
   "source": [
    "runtime"
   ]
  },
  {
   "cell_type": "code",
   "execution_count": null,
   "id": "10129bb9-fa3b-450b-8a18-120fe2b82ee0",
   "metadata": {},
   "outputs": [],
   "source": [
    "fig, axes = plt.subplots(\n",
    "    nrows=len(dimensions),\n",
    "    ncols=2,\n",
    "    figsize=(13, 4 * len(dimensions),)\n",
    ")\n",
    "fig.suptitle(\n",
    "    f\"at most {tail_count_cap} last samples, burn-in={burn_in_iter_count}, \"\n",
    "    f\"chain_count={chain_count}, \"\n",
    "    f\"TV threshold={tv_threshold}\\n\" +\n",
    "    f\"mixture of {gaussian_count} gaussians with \"\n",
    "    \"random means and covariance matrices\"\n",
    ")\n",
    "\n",
    "for dim_ind in range(len(dimensions)):\n",
    "    for alg_ind, alg in enumerate(algs.keys()):\n",
    "\n",
    "        ticks_count = len(hist_data[dimensions[dim_ind]][alg][1])\n",
    "        xticks = probe_period * jnp.arange(1, ticks_count + 1)\n",
    "\n",
    "        axes[dim_ind, alg_ind].plot(\n",
    "            xticks,\n",
    "            [\n",
    "                entry[\"tv_mean\"]\n",
    "                for entry in hist_data[dimensions[dim_ind]][alg][1]\n",
    "            ],\n",
    "            label=\"TV mean\"\n",
    "        )\n",
    "        axes[dim_ind, alg_ind].fill_between(\n",
    "            xticks,\n",
    "            [\n",
    "                entry[\"tv_mean\"] - 2 * entry[\"tv_std\"]\n",
    "                for entry in hist_data[dimensions[dim_ind]][alg][1]\n",
    "            ],\n",
    "            [\n",
    "                entry[\"tv_mean\"] + 2 * entry[\"tv_std\"]\n",
    "                for entry in hist_data[dimensions[dim_ind]][alg][1]\n",
    "            ],\n",
    "            alpha=0.1,\n",
    "            label=\"95% CI\"\n",
    "        )\n",
    "        axes[dim_ind, alg_ind].axhline(tv_threshold, color=\"r\", linestyle=\"dashed\")\n",
    "        axes[dim_ind, alg_ind].set_title(f\"{alg}, dim={dimensions[dim_ind]}\")\n",
    "        if dim_ind + 1 == len(dimensions):\n",
    "            axes[dim_ind, alg_ind].set_xlabel(\"iteration\")\n",
    "        axes[dim_ind, alg_ind].set_ylabel(\"TV\")\n",
    "        axes[dim_ind, alg_ind].legend()"
   ]
  },
  {
   "cell_type": "code",
   "execution_count": null,
   "id": "8a6ff13a-0a74-4f14-b417-c53ca628ea95",
   "metadata": {},
   "outputs": [],
   "source": [
    "BenchmarkUtils.compute_metrics(\n",
    "    algs[\"mala\"].pipeline.sample_blocks[-1].iteration.cache.samples,\n",
    "    algs[\"mala\"].pipeline.sample_blocks[-1].iteration.cache.true_samples\n",
    ")"
   ]
  },
  {
   "cell_type": "code",
   "execution_count": null,
   "id": "f6cdc433-bb7d-458f-af21-1b3fef3cad21",
   "metadata": {},
   "outputs": [],
   "source": [
    "BenchmarkUtils.compute_metrics(\n",
    "    algs[\"fisher_mala\"].pipeline.sample_blocks[-1].iteration.cache.samples,\n",
    "    algs[\"fisher_mala\"].pipeline.sample_blocks[-1].iteration.cache.true_samples\n",
    ")"
   ]
  },
  {
   "cell_type": "code",
   "execution_count": null,
   "id": "67144eea-084e-426d-8bf5-c690cc8bf1a5",
   "metadata": {},
   "outputs": [],
   "source": [
    "BenchmarkUtils.compute_metrics(\n",
    "    algs[\"hmc_vanilla\"].pipeline.sample_blocks[-1].iteration.cache.samples,\n",
    "    algs[\"hmc_vanilla\"].pipeline.sample_blocks[-1].iteration.cache.true_samples\n",
    ")"
   ]
  },
  {
   "cell_type": "code",
   "execution_count": null,
   "id": "cb6b7cba-6c88-4f16-afcc-417223994b22",
   "metadata": {},
   "outputs": [],
   "source": [
    "BenchmarkUtils.compute_metrics(\n",
    "    algs[\"hmcadaptive_hutch\"].pipeline.sample_blocks[-1].iteration.cache.samples,\n",
    "    algs[\"hmcadaptive_hutch\"].pipeline.sample_blocks[-1].iteration.cache.true_samples\n",
    ")"
   ]
  },
  {
   "cell_type": "code",
   "execution_count": null,
   "id": "54d63ebd-e4e6-4c18-8485-1d0de06ce627",
   "metadata": {},
   "outputs": [],
   "source": [
    "algs[\"fisher_mala\"].pipeline.sample_blocks[-1].iteration.params.sigma_prec"
   ]
  },
  {
   "cell_type": "code",
   "execution_count": null,
   "id": "5a07a753-7276-41fe-bf1f-0dab34742f2b",
   "metadata": {},
   "outputs": [],
   "source": [
    "algs[\"hmcadaptive_hutch_lanczos\"].pipeline.sample_blocks[-1].iteration.params.entropy_weight.squeeze()"
   ]
  },
  {
   "cell_type": "code",
   "execution_count": 42,
   "id": "979fb9fc-1b64-4f08-a550-a8eff9105245",
   "metadata": {},
   "outputs": [
    {
     "data": {
      "text/plain": [
       "tensor([ 9.1077, 11.2923,  9.5969,  8.7322,  7.4800,  8.6095, 11.6882,  7.6693,\n",
       "        11.5048,  7.7814, 12.9042, 10.0449,  7.4176,  9.8329,  8.6048,  9.4966,\n",
       "         8.9260,  8.0409,  8.4428,  7.2259,  7.3858, 10.6067,  8.4122,  9.4165,\n",
       "        10.8671,  9.2834,  8.7622,  5.9654,  7.6098,  6.6188, 11.2610,  9.5440,\n",
       "         8.6336, 11.9168,  7.3534,  7.3879,  8.7754,  8.4670, 13.2808,  4.8773,\n",
       "         8.5895,  5.2037,  7.2129, 11.8160,  8.8215,  8.9257,  9.1529, 10.0153,\n",
       "        10.0537, 11.7842])"
      ]
     },
     "execution_count": 42,
     "metadata": {},
     "output_type": "execute_result"
    }
   ],
   "source": [
    "algs[\"hmcadaptive_hutch_taylor\"].pipeline.sample_blocks[-1].iteration.common_params.entropy_weight.squeeze()"
   ]
  },
  {
   "cell_type": "code",
   "execution_count": 43,
   "id": "20d3fa6c-fcd9-4b93-a88e-467d4c0ebffe",
   "metadata": {},
   "outputs": [
    {
     "data": {
      "text/plain": [
       "tensor([2.4837, 2.5464, 2.5257, 1.6746, 3.0570, 1.3180, 2.5477, 3.0349, 2.5455,\n",
       "        2.9784, 2.6089, 2.4800, 2.9036, 1.6441, 2.5243, 2.4239, 3.0717, 2.3569,\n",
       "        1.3821, 3.0893, 3.0712, 2.5791, 1.3456, 2.9969, 2.6990, 1.6608, 1.3447,\n",
       "        1.3115, 3.0879, 1.3776, 2.4955, 2.6017, 1.4049, 2.5521, 3.2031, 2.9738,\n",
       "        2.3133, 1.6072, 1.6853, 1.3431, 1.6818, 1.3840, 2.9104, 2.5412, 1.6954,\n",
       "        1.6389, 2.6001, 2.3484, 2.4431, 2.5056])"
      ]
     },
     "execution_count": 43,
     "metadata": {},
     "output_type": "execute_result"
    }
   ],
   "source": [
    "algs[\"hmcadaptive_hutch_taylor_nograd\"].pipeline.sample_blocks[-1].iteration.common_params.entropy_weight.squeeze()"
   ]
  },
  {
   "cell_type": "code",
   "execution_count": null,
   "id": "f5e4c85b-a287-4021-afc8-a13de41195bc",
   "metadata": {},
   "outputs": [],
   "source": [
    "algs[\"hmcadaptive_fullent\"].pipeline.sample_blocks[-1].iteration.params.entropy_weight.squeeze()"
   ]
  },
  {
   "cell_type": "code",
   "execution_count": null,
   "id": "78e93069-acf2-4466-a81a-c2eba9953ac7",
   "metadata": {},
   "outputs": [],
   "source": [
    "algs[\"hmcadaptive_hutch_taylor\"].pipeline.sample_blocks[-1].iteration.params.penalty_weight.squeeze()"
   ]
  },
  {
   "cell_type": "code",
   "execution_count": null,
   "id": "d15d77d0-799d-483c-99fb-71c92c349548",
   "metadata": {},
   "outputs": [],
   "source": [
    "prec = algs[\"fisher_mala\"].pipeline.sample_blocks[-1].iteration.params.prec[1].detach().numpy()\n",
    "minv = prec @ prec.T"
   ]
  },
  {
   "cell_type": "code",
   "execution_count": 37,
   "id": "04277212-a134-44a0-8ae3-584376bcc2bd",
   "metadata": {},
   "outputs": [],
   "source": [
    "prec = algs[\"hmcadaptive_hutch_taylor\"].pipeline.sample_blocks[-1].iteration.cache.prec_params.make_prec()[1].detach().numpy()\n",
    "minv = prec @ prec.T"
   ]
  },
  {
   "cell_type": "code",
   "execution_count": null,
   "id": "ab3b0136-de75-44ff-90e1-b09b073f0063",
   "metadata": {},
   "outputs": [],
   "source": [
    "algs[\"hmcadaptive_hutch_lanczos\"].pipeline.sample_blocks[1].iteration.params.lf_step_size"
   ]
  },
  {
   "cell_type": "code",
   "execution_count": null,
   "id": "6406bbfe-722f-4ba2-9d71-e39a40138cb0",
   "metadata": {},
   "outputs": [],
   "source": [
    "algs[\"hmcadaptive_hutch_taylor\"].pipeline.sample_blocks[0].iteration.params.lf_step_size"
   ]
  },
  {
   "cell_type": "code",
   "execution_count": null,
   "id": "ee884514-7a7b-44bc-87b5-aec3ba5a6a59",
   "metadata": {},
   "outputs": [],
   "source": [
    "minv"
   ]
  },
  {
   "cell_type": "code",
   "execution_count": 38,
   "id": "08631321-e51b-4fc5-b43d-15359b0bbd71",
   "metadata": {},
   "outputs": [
    {
     "data": {
      "text/plain": [
       "<matplotlib.image.AxesImage at 0x778760759d60>"
      ]
     },
     "execution_count": 38,
     "metadata": {},
     "output_type": "execute_result"
    },
    {
     "data": {
      "image/png": "[encoded data removed]",
      "text/plain": [
       "<Figure size 640x480 with 1 Axes>"
      ]
     },
     "metadata": {},
     "output_type": "display_data"
    }
   ],
   "source": [
    "prec = algs[\"hmcadaptive_hutch_taylor_nograd\"].pipeline.sample_blocks[-1].iteration.cache.prec_params.make_prec()[1].detach().numpy()\n",
    "minv = prec @ prec.T\n",
    "plt.imshow(minv)"
   ]
  },
  {
   "cell_type": "code",
   "execution_count": 39,
   "id": "82e60aaf-b26a-405f-8033-1cc4ab54f6f0",
   "metadata": {},
   "outputs": [
    {
     "data": {
      "text/plain": [
       "<matplotlib.image.AxesImage at 0x778767f6abd0>"
      ]
     },
     "execution_count": 39,
     "metadata": {},
     "output_type": "execute_result"
    },
    {
     "data": {
      "image/png": "[encoded data removed]",
      "text/plain": [
       "<Figure size 640x480 with 1 Axes>"
      ]
     },
     "metadata": {},
     "output_type": "display_data"
    }
   ],
   "source": [
    "prec = algs[\"hmcadaptive_hutch_taylor\"].pipeline.sample_blocks[-1].iteration.cache.prec_params.make_prec()[1].detach().numpy()\n",
    "minv = prec @ prec.T\n",
    "plt.imshow(minv)"
   ]
  },
  {
   "cell_type": "code",
   "execution_count": null,
   "id": "2ab51f09-9d9b-4ada-8560-3ab223d7d10b",
   "metadata": {},
   "outputs": [],
   "source": [
    "prec = algs[\"hmcadaptive_hutch_lanczos\"].pipeline.sample_blocks[-1].iteration.cache.prec[1].detach().numpy()\n",
    "minv = prec @ prec.T\n",
    "plt.imshow(minv)"
   ]
  },
  {
   "cell_type": "code",
   "execution_count": null,
   "id": "985b80a9-5232-4eed-a8c2-07218f2421c0",
   "metadata": {},
   "outputs": [],
   "source": [
    "prec = algs[\"hmcadaptive_fullent\"].pipeline.sample_blocks[-1].iteration.cache.prec[19].detach().numpy()\n",
    "minv = prec @ prec.T\n",
    "plt.imshow(minv)"
   ]
  },
  {
   "cell_type": "code",
   "execution_count": null,
   "id": "667ec0f3-d584-4f96-a6b0-30f5aadd815d",
   "metadata": {},
   "outputs": [],
   "source": [
    "minv"
   ]
  },
  {
   "cell_type": "code",
   "execution_count": null,
   "id": "8523c44e-17ac-47ad-aea1-105e2c258c95",
   "metadata": {},
   "outputs": [],
   "source": [
    "prec = algs[\"hmcadaptive_noent\"].pipeline.sample_blocks[-1].iteration.cache.prec[1].detach().numpy()\n",
    "minv = prec @ prec.T\n",
    "plt.imshow(minv)"
   ]
  },
  {
   "cell_type": "code",
   "execution_count": null,
   "id": "7587af9e-dda7-4cb9-a9fb-270ffadf3b3d",
   "metadata": {},
   "outputs": [],
   "source": [
    "BenchmarkUtils.compute_metrics(\n",
    "    algs[\"hmcadaptive_hutch\"].pipeline.sample_blocks[-1].iteration.cache.samples,\n",
    "    algs[\"hmcadaptive_hutch\"].pipeline.sample_blocks[-1].iteration.cache.true_samples,\n",
    ")"
   ]
  },
  {
   "cell_type": "code",
   "execution_count": null,
   "id": "05d39474-2286-4277-bdb0-7b0ec14b4e4f",
   "metadata": {},
   "outputs": [],
   "source": [
    "BenchmarkUtils.compute_metrics(\n",
    "    algs[\"hmcadaptive_hutch\"].pipeline.sample_blocks[-1].iteration.cache.samples,\n",
    "    algs[\"hmcadaptive_hutch\"].pipeline.sample_blocks[-1].iteration.cache.true_samples,\n",
    ")"
   ]
  },
  {
   "cell_type": "markdown",
   "id": "567fa5c1-48cc-4472-bde8-0538aae1cc17",
   "metadata": {},
   "source": [
    "### Reference"
   ]
  },
  {
   "cell_type": "code",
   "execution_count": null,
   "id": "f414f8fd-3fe3-4eef-aa49-4dfd95883327",
   "metadata": {},
   "outputs": [],
   "source": [
    "BenchmarkUtils.compute_metrics(\n",
    "    algs[\"fisher_mala\"].pipeline.sample_blocks[-1].iteration.cache.samples,\n",
    "    algs[\"fisher_mala\"].pipeline.sample_blocks[-1].iteration.cache.true_samples\n",
    ")"
   ]
  },
  {
   "cell_type": "code",
   "execution_count": null,
   "id": "44757f5e-3a5f-4c3f-b7b6-36c68f06dd9d",
   "metadata": {},
   "outputs": [],
   "source": [
    "BenchmarkUtils.compute_metrics(\n",
    "    algs[\"mala\"].pipeline.sample_blocks[-1].iteration.cache.samples,\n",
    "    algs[\"mala\"].pipeline.sample_blocks[-1].iteration.cache.true_samples\n",
    ")"
   ]
  },
  {
   "cell_type": "code",
   "execution_count": null,
   "id": "ea243954-183b-48d6-ac64-5d98320a1919",
   "metadata": {},
   "outputs": [],
   "source": []
  }
 ],
 "metadata": {
  "kernelspec": {
   "display_name": "Python 3 (ipykernel)",
   "language": "python",
   "name": "python3"
  },
  "language_info": {
   "codemirror_mode": {
    "name": "ipython",
    "version": 3
   },
   "file_extension": ".py",
   "mimetype": "text/x-python",
   "name": "python",
   "nbconvert_exporter": "python",
   "pygments_lexer": "ipython3",
   "version": "3.12.0"
  }
 },
 "nbformat": 4,
 "nbformat_minor": 5
}
