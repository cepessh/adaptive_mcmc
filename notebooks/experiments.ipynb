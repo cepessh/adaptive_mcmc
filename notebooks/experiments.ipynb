{
 "cells": [
  {
   "cell_type": "code",
   "execution_count": 1,
   "id": "ca26255f-94fa-4cca-aafa-7244110bb174",
   "metadata": {},
   "outputs": [
    {
     "name": "stderr",
     "output_type": "stream",
     "text": [
      "2025-05-23 02:49:48.906073: E external/local_xla/xla/stream_executor/cuda/cuda_fft.cc:477] Unable to register cuFFT factory: Attempting to register factory for plugin cuFFT when one has already been registered\n",
      "WARNING: All log messages before absl::InitializeLog() is called are written to STDERR\n",
      "E0000 00:00:1747957788.916411   20481 cuda_dnn.cc:8310] Unable to register cuDNN factory: Attempting to register factory for plugin cuDNN when one has already been registered\n",
      "E0000 00:00:1747957788.919433   20481 cuda_blas.cc:1418] Unable to register cuBLAS factory: Attempting to register factory for plugin cuBLAS when one has already been registered\n"
     ]
    }
   ],
   "source": [
    "from copy import deepcopy\n",
    "import tqdm.notebook\n",
    "\n",
    "import jax.numpy as jnp\n",
    "import matplotlib.pyplot as plt\n",
    "\n",
    "import numpy as np\n",
    "import pandas as pd\n",
    "import torch\n",
    "\n",
    "from adaptive_mcmc.distributions.distribution import GaussianMixture, FunnelDistribution, Gaussian\n",
    "from adaptive_mcmc.samplers import (\n",
    "    base_sampler,\n",
    "    # mala,\n",
    "    # fishermala,\n",
    "    hmc,\n",
    "    hmcadaptive,\n",
    ")\n",
    "from adaptive_mcmc.samplers.stopping_rule import NoStop\n",
    "from adaptive_mcmc.tools.benchmark import BenchmarkUtils\n",
    "from adaptive_mcmc.tools.metrics import compute_ess, compute_emd\n",
    "\n",
    "from typing import Tuple, Optional"
   ]
  },
  {
   "cell_type": "code",
   "execution_count": 2,
   "id": "1f316835-2bc2-4e0c-97fd-5143e78232e2",
   "metadata": {},
   "outputs": [],
   "source": [
    "seed = 123\n",
    "torch.manual_seed(seed)\n",
    "\n",
    "device = \"cpu\"\n",
    "\n",
    "hparams = {\n",
    "    # \"mala\": mala.MALAParams(\n",
    "    #     sigma=1.0,\n",
    "    #     sigma_lr=0.015,\n",
    "    #     target_acceptance=0.574,\n",
    "    #     device=device,\n",
    "    # ),\n",
    "    # \"fisher_mala\": fishermala.FisherMALAParams(dampening=10.),\n",
    "    \"hmc_vanilla\": {\n",
    "        \"common\": hmc.HMCCommonParams(\n",
    "            lf_step_count=50,\n",
    "            lf_step_size=5e-2,\n",
    "            lf_step_size_max=5e-1,\n",
    "        ),\n",
    "        \"fixed\": hmc.HMCFixedParams(no_grad=True, stop_grad=False),\n",
    "    },\n",
    "    \"taylor_nograd\": {\n",
    "        \"common\": hmcadaptive.HMCAdaptiveCommonParams(\n",
    "            lf_step_count=50,\n",
    "            lf_step_size=5e-2,\n",
    "            lf_step_size_max=5e-1,\n",
    "            learning_rate=3e-4,\n",
    "            truncation_level_prob=0.5,\n",
    "            min_truncation_level=2,\n",
    "            entropy_weight=1e-1,\n",
    "            entropy_weight_min=1e-3,\n",
    "            entropy_weight_max=1e2,\n",
    "            penalty_weight_max=1e1,\n",
    "            penalty_weight=1e-3,\n",
    "            penalty_weight_adaptive_rate=1e-3,\n",
    "            clip_grad_value=1e1,\n",
    "        ),\n",
    "        \"fixed\": hmcadaptive.HMCAdaptiveFixedParams(\n",
    "            prec_init_scale=1e-9,\n",
    "            no_grad=True,\n",
    "            stop_grad=False,\n",
    "            backprop_method=\"approx\",\n",
    "            prec_type=\"tridiag\",\n",
    "            # iter_count=10000,\n",
    "            # scheduler_cls=hmcadaptive.WarmupCosineAnnealingScheduler\n",
    "        ),\n",
    "    },\n",
    "    \"lanczos_nograd\": {\n",
    "        \"common\": hmcadaptive.HMCAdaptiveCommonParams(\n",
    "            lf_step_count=50,\n",
    "            lf_step_size=5e-2,\n",
    "            lf_step_size_max=5e-1,\n",
    "            learning_rate=3e-4,\n",
    "            entropy_weight=1e-1,\n",
    "            entropy_weight_min=1e-3,\n",
    "            entropy_weight_max=1e2,\n",
    "            clip_grad_value=1e1,\n",
    "            lanczos_steps=8,\n",
    "            krylov_probe_vectors=1,\n",
    "            # iter_count=10000,\n",
    "            # scheduler_cls=hmcadaptive.WarmupCosineAnnealingScheduler\n",
    "        ),\n",
    "        \"fixed\": hmcadaptive.HMCAdaptiveFixedParams(\n",
    "            prec_init_scale=1e-9,\n",
    "            no_grad=True,\n",
    "            stop_grad=False,\n",
    "            backprop_method=\"approx\",\n",
    "            prec_type=\"tridiag\",\n",
    "            trace_method=hmcadaptive.TraceMethod.HUTCH_LANCZOS,\n",
    "            # iter_count=10000,\n",
    "            # scheduler_cls=hmcadaptive.WarmupCosineAnnealingScheduler\n",
    "        ),\n",
    "    },\n",
    "    # \"hmcadaptive_hutch_taylor\": {\n",
    "    #     \"common\": hmcadaptive.HMCAdaptiveCommonParams(\n",
    "    #         lf_step_count=25,\n",
    "    #         lf_step_size=0.1,\n",
    "    #         learning_rate=1e-3,\n",
    "    #         truncation_level_prob=0.5,\n",
    "    #         min_truncation_level=2,\n",
    "    #         entropy_weight=1e-1,\n",
    "    #         entropy_weight_min=1e-3,\n",
    "    #         entropy_weight_max=1e2,\n",
    "    #         penalty_weight_max=1e1,\n",
    "    #         penalty_weight=1e-3,\n",
    "    #         penalty_weight_adaptive_rate=1e-3,\n",
    "    #         clip_grad_value=1e1,\n",
    "    #     ),\n",
    "    #     \"fixed\": hmcadaptive.HMCAdaptiveFixedParams(\n",
    "    #         prec_init_scale=1e-1,\n",
    "    #         no_grad=False,\n",
    "    #         stop_grad=False,\n",
    "    #         prec_type=\"tridiag\",\n",
    "    #         # iter_count=10000,\n",
    "    #         # scheduler_cls=hmcadaptive.WarmupCosineAnnealingScheduler\n",
    "    #     ),\n",
    "    # },\n",
    "    # \"hmcadaptive_hutch_lanczos\": hmcadaptive.HMCAdaptiveParams(\n",
    "    #     lf_step_count=5,\n",
    "    #     lf_step_size=0.1,\n",
    "    #     learning_rate=1e-2,\n",
    "    #     entropy_weight=1e-1,\n",
    "    #     entropy_weight_min=1e-3,\n",
    "    #     entropy_weight_max=1e2,\n",
    "    #     clip_grad_value=1e6,\n",
    "    #     prec_init_scale=1e0,\n",
    "    #     trace_method=hmcadaptive.TraceMethod.HUTCH_LANCZOS,\n",
    "    #     lanczos_steps=4,\n",
    "    #     krylov_probe_vectors=1,\n",
    "    #     # iter_count=10000,\n",
    "    #     # scheduler_cls=hmcadaptive.WarmupCosineAnnealingScheduler\n",
    "    # ),\n",
    "    # \"hmcadaptive_noent\": hmcadaptive.HMCAdaptiveParams(\n",
    "    #     lf_step_count=5,\n",
    "    #     lf_step_size=0.1,\n",
    "    #     learning_rate=1e-4,\n",
    "    #     clip_grad_value=1e6,\n",
    "    #     prec_init_scale=1e0,\n",
    "    #     entropy_method=\"none\",\n",
    "    #     # iter_count=10000,\n",
    "    #     # scheduler_cls=hmcadaptive.WarmupCosineAnnealingScheduler\n",
    "    # ),\n",
    "    # \"hmcadaptive_fullent\": hmcadaptive.HMCAdaptiveParams(\n",
    "    #     lf_step_count=5,\n",
    "    #     lf_step_size=0.1,\n",
    "    #     learning_rate=1e-2,\n",
    "    #     entropy_weight=1e-1,\n",
    "    #     entropy_weight_min=1e-3,\n",
    "    #     entropy_weight_max=1e2,\n",
    "    #     clip_grad_value=1e6,\n",
    "    #     prec_init_scale=1e0,\n",
    "    #     trace_method=hmcadaptive.TraceMethod.HUTCH_LANCZOS,\n",
    "    #     lanczos_steps=4,\n",
    "    #     krylov_probe_vectors=1,\n",
    "    #     entropy_method=\"full\",\n",
    "    #     # iter_count=10000,\n",
    "    #     # scheduler_cls=hmcadaptive.WarmupCosineAnnealingScheduler\n",
    "    # ),\n",
    "}"
   ]
  },
  {
   "cell_type": "code",
   "execution_count": 3,
   "id": "283bd108-9f67-4c89-abe8-bcd94b294b49",
   "metadata": {},
   "outputs": [],
   "source": [
    "def get_random_GM(\n",
    "    gaussian_count: int,\n",
    "    dimension: int,\n",
    "    cube: float,\n",
    "    eps: float=5e-1,\n",
    "    scale: float=5.,\n",
    "):\n",
    "    true_means = torch.rand((gaussian_count, dimension)) * cube - cube / 2\n",
    "    scales = torch.rand((gaussian_count, dimension)) * scale\n",
    "\n",
    "    while True:\n",
    "        try:\n",
    "            true_covs = torch.rand((gaussian_count, dimension, dimension))\n",
    "            true_covs, _ = torch.linalg.qr(true_covs)\n",
    "        \n",
    "            true_covs = (\n",
    "                true_covs @ torch.diag_embed(scales) @ true_covs.permute(0, 2, 1) \n",
    "                + eps * torch.eye(dimension).unsqueeze(0)\n",
    "            )\n",
    "            \n",
    "            # true_covs = (\n",
    "            #     true_covs @ true_covs.permute(0, 2, 1) +\n",
    "            #     torch.eye(dimension).repeat(gaussian_count, 1, 1)\n",
    "            # )\n",
    "        \n",
    "            gm = GaussianMixture(\n",
    "                true_means,\n",
    "                true_covs,\n",
    "                torch.full((gaussian_count,), 1/gaussian_count, dtype=torch.float64)\n",
    "            )\n",
    "            break\n",
    "        except ValueError:\n",
    "            pass\n",
    "            \n",
    "    return gm, true_means"
   ]
  },
  {
   "cell_type": "code",
   "execution_count": 4,
   "id": "99e91164-74f4-4fee-9f0d-d34ae73e24b1",
   "metadata": {},
   "outputs": [],
   "source": [
    "def get_random_GM(\n",
    "    gaussian_count: int,\n",
    "    dimension: int,\n",
    "    cube: float,\n",
    "    eps: float = 5e-1,\n",
    "    scale: float = 1.0,\n",
    "    *,\n",
    "    seed: Optional[int] = None,\n",
    "    device: torch.device | str = \"cpu\",\n",
    "    dtype: torch.dtype = torch.float32,\n",
    ") -> Tuple[GaussianMixture, torch.Tensor]:\n",
    "    \"\"\"\n",
    "    Create a reproducible random Gaussian Mixture.\n",
    "\n",
    "    Parameters\n",
    "    ----------\n",
    "    gaussian_count : int      # number of components\n",
    "    dimension      : int      # dimensionality\n",
    "    cube           : float    # component means ∈ (-cube/2, cube/2)\n",
    "    eps            : float    # ε·I added to each covariance\n",
    "    scale          : float    # upper–bound on random eigen-scales\n",
    "    seed           : int|None # RNG seed for reproducibility\n",
    "    device         : str|torch.device\n",
    "    dtype          : torch.dtype\n",
    "\n",
    "    Returns\n",
    "    -------\n",
    "    gm          : GaussianMixture\n",
    "    true_means  : Tensor (gaussian_count, dimension)\n",
    "    \"\"\"\n",
    "    g = torch.Generator(device=device)\n",
    "    if seed is not None:\n",
    "        g.manual_seed(seed)\n",
    "\n",
    "    true_means = (\n",
    "        torch.rand((gaussian_count, dimension), generator=g, device=device, dtype=dtype)\n",
    "        * cube - cube/2\n",
    "    )\n",
    "\n",
    "    scales = torch.rand((gaussian_count, dimension), generator=g, device=device, dtype=dtype) * scale\n",
    "\n",
    "    while True:\n",
    "        try:\n",
    "            # Q = torch.rand((gaussian_count, dimension, dimension), generator=g, device=device, dtype=dtype)\n",
    "            # Q, _ = torch.linalg.qr(Q)\n",
    "            Q_list = []\n",
    "            for _ in range(gaussian_count):\n",
    "                q = torch.randn((dimension, dimension), generator=g, device=device, dtype=dtype)\n",
    "                q, _ = torch.linalg.qr(q)\n",
    "                Q_list.append(q)\n",
    "            \n",
    "            Q = torch.stack(Q_list, dim=0)  # shape: (gaussian_count, dimension, dimension)\n",
    "\n",
    "\n",
    "            true_covs = (\n",
    "                Q @ torch.diag_embed(scales) @ Q.transpose(-1, -2)\n",
    "                + eps * torch.eye(dimension, device=device, dtype=dtype).unsqueeze(0)\n",
    "            )\n",
    "\n",
    "            gm = GaussianMixture(\n",
    "                true_means,\n",
    "                true_covs,\n",
    "                torch.full((gaussian_count,), 1.0 / gaussian_count, device=device, dtype=dtype),\n",
    "            )\n",
    "            break\n",
    "        except ValueError:\n",
    "            continue\n",
    "\n",
    "    return gm, true_means"
   ]
  },
  {
   "cell_type": "code",
   "execution_count": 5,
   "id": "a7c4c7e8-ed6b-4c13-84ac-150fd70e171e",
   "metadata": {},
   "outputs": [],
   "source": [
    "def generate_simplex(d: int) -> torch.Tensor:\n",
    "    I = torch.eye(d)\n",
    "    \n",
    "    ones = torch.ones((d, d)) / (d+1)\n",
    "    v1d = I - ones\n",
    "    vdp1 = -torch.ones((1, d)) / (d+1)\n",
    "    return torch.cat([v1d, vdp1], dim=0)\n",
    "\n",
    "\n",
    "def get_toeplitz_GM(dimension: int, cube: float, rho: float=0.99, sigma: float=1.):\n",
    "    true_means = generate_simplex(dimension) * cube\n",
    "\n",
    "    inds = torch.arange(dimension)\n",
    "    power = torch.abs(inds.unsqueeze(0) - inds.unsqueeze(1))\n",
    "\n",
    "    true_covs = sigma ** 2 * rho ** power\n",
    "    true_covs = true_covs.repeat(dimension + 1, 1, 1)\n",
    "\n",
    "    gm = GaussianMixture(\n",
    "        true_means,\n",
    "        true_covs,\n",
    "        torch.ones(dimension + 1) / (dimension + 1)\n",
    "    )\n",
    "\n",
    "    return gm, true_means\n",
    "\n",
    "\n",
    "def get_toeplitz_gaussian(dimension: int,\n",
    "                          mean: float = None,\n",
    "                          rho: float = 0.99,\n",
    "                          sigma: float = 1.0) -> tuple:\n",
    "    if mean is None:\n",
    "        mean = torch.zeros(dimension)\n",
    "        \n",
    "    inds = torch.arange(dimension)\n",
    "    power = torch.abs(inds.unsqueeze(0) - inds.unsqueeze(1))\n",
    "    cov = (sigma ** 2) * (rho ** power)\n",
    "    \n",
    "    return Gaussian(mean=mean, cov=cov), mean.unsqueeze(0)\n",
    "\n",
    "\n",
    "def get_illcond_gaussian(dimension: int,\n",
    "                         mean: float = None,\n",
    "                         min_v: float = 1e-2,\n",
    "                         max_v: float = 1e2) -> tuple:\n",
    "    if mean is None:\n",
    "        mean = torch.zeros(dimension)\n",
    "    elif isinstance(mean, (float, int)):\n",
    "        mean = torch.full((dimension,), float(mean))\n",
    "    else:\n",
    "        mean = torch.tensor(mean, dtype=torch.float32)\n",
    "\n",
    "    # Create log-spaced eigenvalues (ill-conditioned spectrum)\n",
    "    eigvals = torch.logspace(torch.log10(torch.tensor(min_v)), \n",
    "                             torch.log10(torch.tensor(max_v)), \n",
    "                             steps=dimension)\n",
    "\n",
    "    # Construct diagonal covariance matrix\n",
    "    cov = torch.diag(eigvals)\n",
    "\n",
    "    return Gaussian(mean=mean, cov=cov), mean.unsqueeze(0)\n",
    "    \n",
    "\n",
    "def sample_se_covariance_torch(dimension, scale=4., noise=0.01, seed=None, device='cpu'):\n",
    "    if seed is not None:\n",
    "        torch.manual_seed(seed)\n",
    "\n",
    "    x = torch.linspace(0, scale, dimension)\n",
    "\n",
    "    x1 = x.unsqueeze(1)\n",
    "    x2 = x.unsqueeze(0)\n",
    "    dist_squared = (x1 - x2) ** 2\n",
    "\n",
    "    K = torch.exp(-0.5 * dist_squared / (0.1 * scale**2))\n",
    "\n",
    "    K += noise * torch.eye(dimension, device=device)\n",
    "\n",
    "    return x, K\n",
    "    \n",
    "def get_deterministic_gaussian_se(dimension: int,\n",
    "                                  mean: float = None,) -> tuple:\n",
    "    if mean is None:\n",
    "        mean = torch.zeros(dimension)\n",
    "        \n",
    "    _, cov = sample_se_covariance_torch(dimension)\n",
    "    \n",
    "    return Gaussian(mean=mean, cov=cov), mean.unsqueeze(0)"
   ]
  },
  {
   "cell_type": "code",
   "execution_count": 6,
   "id": "fd8eb98c-ed23-44b4-94ec-147551f14352",
   "metadata": {},
   "outputs": [],
   "source": [
    "# dist = FunnelDistribution(32, scale=3)\n",
    "\n",
    "#dist, _ = get_toeplitz_gaussian(256, rho=0.95)\n",
    "# dist, _ = get_deterministic_gaussian_se(32)\n",
    "dist, _ = get_illcond_gaussian(128)\n",
    "\n",
    "# dist, _ = get_random_GM(gaussian_count=25, dimension=32, cube=2., scale=2.,)\n",
    "# dist, _ = get_toeplitz_GM(dimension=32, cube=2., rho=0.9)\n",
    "\n",
    "\n",
    "samples = dist.sample(5000).detach().numpy()"
   ]
  },
  {
   "cell_type": "code",
   "execution_count": 7,
   "id": "d8c61397-4824-4940-8e47-a3eb5cb30787",
   "metadata": {
    "scrolled": true
   },
   "outputs": [
    {
     "data": {
      "text/plain": [
       "<matplotlib.collections.PathCollection at 0x7a29f06395e0>"
      ]
     },
     "execution_count": 7,
     "metadata": {},
     "output_type": "execute_result"
    },
    {
     "data": {
      "image/png": "[encoded data removed]",
      "text/plain": [
       "<Figure size 640x480 with 1 Axes>"
      ]
     },
     "metadata": {},
     "output_type": "display_data"
    }
   ],
   "source": [
    "plt.scatter(samples[:, -2], samples[:, -1], alpha=0.1)"
   ]
  },
  {
   "cell_type": "code",
   "execution_count": 8,
   "id": "b6be8400-2209-4ad1-b746-5c0d104d0970",
   "metadata": {},
   "outputs": [],
   "source": [
    "def dist_factory(name, dimension, cube=2., scale=2., funnel_scale=3, gaussian_count=25, rho=0.95, sigma=1.,\n",
    "                 min_v=1e-2, max_v=1e2,\n",
    "                ):\n",
    "    if name == \"random_gm\":\n",
    "        return get_random_GM(gaussian_count=gaussian_count, dimension=dimension, cube=cube, scale=scale)\n",
    "    elif name == \"toeplitz_gm\":\n",
    "        return get_toeplitz_GM(dimension, cube=cube, rho=rho, sigma=sigma)\n",
    "    elif name == \"toeplitz_gaussian\":\n",
    "        return get_toeplitz_gaussian(dimension, rho=rho, sigma=sigma)\n",
    "    elif name == \"deterministic_gaussian_se\":\n",
    "        return get_deterministic_gaussian_se(dimension)\n",
    "    elif name == \"funnel\":\n",
    "        return FunnelDistribution(dimension, scale=funnel_scale), torch.zeros(1, dimension)\n",
    "    elif name == \"illcond_gaussian\":\n",
    "        return get_illcond_gaussian(dimension, min_v=min_v, max_v=max_v)"
   ]
  },
  {
   "cell_type": "code",
   "execution_count": 9,
   "id": "642b06c2-fb8d-43b6-8d11-391bec35a38e",
   "metadata": {},
   "outputs": [],
   "source": [
    "import pandas as pd\n",
    "from scipy.stats import norm\n",
    "from itertools import combinations\n",
    "\n",
    "\n",
    "def drop_static_chains(samples: torch.Tensor, eps: float = 0.0):\n",
    "    var_per_chain = samples.var(dim=0, unbiased=False)\n",
    "\n",
    "    static = (var_per_chain <= eps).all(dim=-1)\n",
    "    keep_mask = ~static\n",
    "\n",
    "    return samples[:, keep_mask, :], keep_mask.sum().item()\n",
    "\n",
    "\n",
    "def z_test(dim_stat):\n",
    "    all_results = {}\n",
    "    for dim, df in dim_stat.items():\n",
    "        recs = []\n",
    "        algs = df.columns\n",
    "        for A, B in combinations(reversed(algs), 2):\n",
    "    \n",
    "            mA, sA = df.loc['ess_mean', A], df.loc['ess_conf_sigma', A]\n",
    "            mB, sB = df.loc['ess_mean', B], df.loc['ess_conf_sigma', B]\n",
    "            z_ess = (mA - mB) / (sA**2 + sB**2)**0.5\n",
    "            p_ess = norm.sf(z_ess)\n",
    "    \n",
    "            tA, seA = df.loc['tv_mean', A], df.loc['tv_conf_sigma', A]\n",
    "            tB, seB = df.loc['tv_mean', B], df.loc['tv_conf_sigma', B]\n",
    "            z_tv = (tB - tA) / (seA**2 + seB**2)**0.5\n",
    "            p_tv = norm.sf(z_tv)\n",
    "            recs.append({\n",
    "                'alg_A': A, 'alg_B': B,\n",
    "                'z(ESS_A>B)': z_ess, 'p(ESS_A>B)': p_ess,\n",
    "                'z(TV_A<B)': z_tv,  'p(TV_A<B)': p_tv,\n",
    "            })\n",
    "        all_results[dim] = pd.DataFrame.from_records(recs)\n",
    "    return all_results\n",
    "\n",
    "\n",
    "def compute_results(hist_data, algs, dist_name=None):\n",
    "    dim_stat = {}\n",
    "\n",
    "    for dimension in tqdm.notebook.tqdm(dimensions, desc=\"dimension\"):\n",
    "        rows = []\n",
    "        for alg in tqdm.notebook.tqdm(algs, desc=\"alg\", leave=False):\n",
    "            obj = hist_data[dimension][alg]\n",
    "            cache = obj[\"cache\"]\n",
    "            pure_runtime = obj[\"pure_runtime\"]\n",
    "    \n",
    "            clean_samples, n_kept = drop_static_chains(cache.samples)\n",
    "    \n",
    "            metrics = BenchmarkUtils.compute_metrics(clean_samples,\n",
    "                                                     cache.true_samples)\n",
    "            metrics[\"runtime\"]      = pure_runtime\n",
    "            metrics[\"chains_kept\"]  = n_kept\n",
    "            rows.append(metrics)\n",
    "    \n",
    "        df = pd.DataFrame(rows, index=list(algs.keys())).T\n",
    "        dim_stat[dimension] = df\n",
    "        print(f\"\\ndim={dimension}, dist={dist_name}\\n\", df)\n",
    "        print(z_test(dim_stat))\n",
    "    \n",
    "    return dim_stat"
   ]
  },
  {
   "cell_type": "code",
   "execution_count": 10,
   "id": "b8ddf396-4588-424f-8a60-ce9af4ede051",
   "metadata": {
    "scrolled": true
   },
   "outputs": [],
   "source": [
    "def run_experiment(dist_name, log=[]):\n",
    "    hist_data = {}\n",
    "    runtime = {\n",
    "        dimension: dict()\n",
    "        for dimension in dimensions\n",
    "    }\n",
    "    pure_runtime = deepcopy(runtime)\n",
    "    distance_to_mass_points = 1.\n",
    "    \n",
    "    for dimension in tqdm.notebook.tqdm(dimensions):\n",
    "        print(\"Processing dimension\", dimension)\n",
    "        hist_data[dimension] = {}\n",
    "        target_dist, true_means = dist_factory(dist_name, dimension)\n",
    "        \n",
    "        # target_dist, true_means = get_random_GM(gaussian_count, dimension, cube)\n",
    "        # gm, true_means = get_deterministic_GM(dimension, cube)\n",
    "        # true_samples = gm.sample(sample_count)\n",
    "    \n",
    "        # target_dist = FunnelDistribution(dimension, scale=scale)\n",
    "        \n",
    "        # target_dist, _ = get_deterministic_gaussian(dimension, rho=0.8)\n",
    "        # target_dist, _ = get_deterministic_gaussian_se(dimension)\n",
    "    \n",
    "        # true_means = torch.zeros(1, dimension)\n",
    "        true_samples = target_dist.sample(sample_count)\n",
    "        \n",
    "        starting_points = BenchmarkUtils.generate_starting_points(\n",
    "            chain_count, dimension,\n",
    "            true_means,\n",
    "            distance_to_mass_points,\n",
    "        )\n",
    "    \n",
    "        common_params = base_sampler.CommonParams(\n",
    "            target_dist=target_dist,\n",
    "            starting_point=starting_points.clone(),\n",
    "            proposal_dist=torch.distributions.MultivariateNormal(\n",
    "                torch.zeros(dimension, device=device),\n",
    "                torch.eye(dimension, device=device),\n",
    "            ),\n",
    "        )\n",
    "    \n",
    "        for alg in algs:\n",
    "            print(\"-\" * 80)\n",
    "            base_meta_adj = hparams[alg][\"common\"].copy_update(common_params)\n",
    "            if hasattr(base_meta_adj, \"sigma\"):\n",
    "                base_meta_adj.sigma /= dimension\n",
    "    \n",
    "            algs[alg].load_params(base_meta_adj)\n",
    "            algs[alg].load_true_samples(true_samples)\n",
    "            algs[alg].run()\n",
    "    \n",
    "            hist_data[dimension][alg] = {\n",
    "                \"cache\": algs[alg].pipeline.sample_blocks[-1].iteration.cache,\n",
    "                \"stop_data_hist\": algs[alg].pipeline.sample_blocks[-1].stop_data_hist,\n",
    "                \"runtime\": algs[alg].pipeline.runtime,\n",
    "                \"pure_runtime\": algs[alg].pipeline.pure_runtime,\n",
    "            }\n",
    "        print()\n",
    "\n",
    "    dim_stat = compute_results(hist_data, algs, dist_name)\n",
    "    log.append({\n",
    "        \"hist_data\": hist_data,\n",
    "        \"algs\": algs,\n",
    "        \"dist_name\": dist_name,\n",
    "        \"dim_stat\": dim_stat,\n",
    "    })"
   ]
  },
  {
   "cell_type": "code",
   "execution_count": 11,
   "id": "215295b0-772c-41f6-bb4d-69929bd09dc0",
   "metadata": {},
   "outputs": [],
   "source": [
    "def moving_average(x, window_size=10):\n",
    "    return np.convolve(x, np.ones(window_size)/window_size, mode='valid')\n",
    "\n",
    "def print_log(log):\n",
    "    for entry in log:\n",
    "        for dimension in dimensions:\n",
    "            print(f\"\\ndim={dimension}, dist={entry['dist_name']}\\n\", entry[\"dim_stat\"][dimension])"
   ]
  },
  {
   "cell_type": "code",
   "execution_count": 12,
   "id": "9dd0f50d-c4f0-4892-b48f-32095811d5a5",
   "metadata": {
    "editable": true,
    "slideshow": {
     "slide_type": ""
    },
    "tags": []
   },
   "outputs": [
    {
     "data": {
      "application/vnd.jupyter.widget-view+json": {
       "model_id": "70c379c762914f6a8f6fcbbd45f82606",
       "version_major": 2,
       "version_minor": 0
      },
      "text/plain": [
       "  0%|          | 0/6 [00:00<?, ?it/s]"
      ]
     },
     "metadata": {},
     "output_type": "display_data"
    },
    {
     "name": "stdout",
     "output_type": "stream",
     "text": [
      "Processing dimension 8\n",
      "--------------------------------------------------------------------------------\n",
      "Running HMCVanilla\n",
      "number of blocks: 3\n",
      "processing block: 1\n"
     ]
    },
    {
     "data": {
      "application/vnd.jupyter.widget-view+json": {
       "model_id": "051ccc471f114325b8ccc05d6b68fd2b",
       "version_major": 2,
       "version_minor": 0
      },
      "text/plain": [
       "  0%|          | 0/2500 [00:00<?, ?it/s]"
      ]
     },
     "metadata": {},
     "output_type": "display_data"
    },
    {
     "name": "stdout",
     "output_type": "stream",
     "text": [
      "step_size=0.25448864698410034\n",
      "max_step_size=0.5\n",
      "broken_traj=0\n",
      "processing block: 2\n"
     ]
    },
    {
     "data": {
      "application/vnd.jupyter.widget-view+json": {
       "model_id": "a69dbbc086114972bcfbe0bad4dc7341",
       "version_major": 2,
       "version_minor": 0
      },
      "text/plain": [
       "  0%|          | 0/5000 [00:00<?, ?it/s]"
      ]
     },
     "metadata": {},
     "output_type": "display_data"
    },
    {
     "name": "stdout",
     "output_type": "stream",
     "text": [
      "step_size=0.25448864698410034\n",
      "max_step_size=0.5\n",
      "broken_traj=0\n",
      "processing block: 3\n"
     ]
    },
    {
     "data": {
      "application/vnd.jupyter.widget-view+json": {
       "model_id": "9935672a35e44dfca58f86ca08ca5a6c",
       "version_major": 2,
       "version_minor": 0
      },
      "text/plain": [
       "  0%|          | 0/5000 [00:00<?, ?it/s]"
      ]
     },
     "metadata": {},
     "output_type": "display_data"
    },
    {
     "name": "stdout",
     "output_type": "stream",
     "text": [
      "step_size=0.25545090436935425\n",
      "max_step_size=0.5\n",
      "broken_traj=0\n",
      "Runtime: 162.93s\n",
      "--------------------------------------------------------------------------------\n",
      "Running HMCAdaptiveHutchTaylorNoGrad\n",
      "number of blocks: 3\n",
      "processing block: 1\n"
     ]
    },
    {
     "data": {
      "application/vnd.jupyter.widget-view+json": {
       "model_id": "61061026468b4302b96fe2a35c59cb01",
       "version_major": 2,
       "version_minor": 0
      },
      "text/plain": [
       "  0%|          | 0/2500 [00:00<?, ?it/s]"
      ]
     },
     "metadata": {},
     "output_type": "display_data"
    },
    {
     "name": "stdout",
     "output_type": "stream",
     "text": [
      "step_size=0.25361916422843933\n",
      "max_step_size=0.5\n",
      "broken_traj=0\n",
      "processing block: 2\n"
     ]
    },
    {
     "data": {
      "application/vnd.jupyter.widget-view+json": {
       "model_id": "531b1d5afb1949e595f6956487b66ed0",
       "version_major": 2,
       "version_minor": 0
      },
      "text/plain": [
       "  0%|          | 0/5000 [00:00<?, ?it/s]"
      ]
     },
     "metadata": {},
     "output_type": "display_data"
    },
    {
     "name": "stdout",
     "output_type": "stream",
     "text": [
      "step_size=0.25361916422843933\n",
      "max_step_size=0.5\n",
      "broken_traj=0\n",
      "processing block: 3\n"
     ]
    },
    {
     "data": {
      "application/vnd.jupyter.widget-view+json": {
       "model_id": "1aac93c6cdc243b896dc17b71284cd4d",
       "version_major": 2,
       "version_minor": 0
      },
      "text/plain": [
       "  0%|          | 0/5000 [00:00<?, ?it/s]"
      ]
     },
     "metadata": {},
     "output_type": "display_data"
    },
    {
     "name": "stdout",
     "output_type": "stream",
     "text": [
      "step_size=0.49976545572280884\n",
      "max_step_size=0.5\n",
      "broken_traj=0\n",
      "Runtime: 250.19s\n",
      "--------------------------------------------------------------------------------\n",
      "Running HMCAdaptiveHutchLanczosNoGrad\n",
      "number of blocks: 3\n",
      "processing block: 1\n"
     ]
    },
    {
     "data": {
      "application/vnd.jupyter.widget-view+json": {
       "model_id": "b99bc72c898048b587cfed1a2be83c25",
       "version_major": 2,
       "version_minor": 0
      },
      "text/plain": [
       "  0%|          | 0/2500 [00:00<?, ?it/s]"
      ]
     },
     "metadata": {},
     "output_type": "display_data"
    },
    {
     "name": "stdout",
     "output_type": "stream",
     "text": [
      "step_size=0.25702276825904846\n",
      "max_step_size=0.5\n",
      "broken_traj=0\n",
      "processing block: 2\n"
     ]
    },
    {
     "data": {
      "application/vnd.jupyter.widget-view+json": {
       "model_id": "488220f6a4964391b904e7099e285c18",
       "version_major": 2,
       "version_minor": 0
      },
      "text/plain": [
       "  0%|          | 0/5000 [00:00<?, ?it/s]"
      ]
     },
     "metadata": {},
     "output_type": "display_data"
    },
    {
     "name": "stdout",
     "output_type": "stream",
     "text": [
      "step_size=0.25702276825904846\n",
      "max_step_size=0.5\n",
      "broken_traj=0\n",
      "processing block: 3\n"
     ]
    },
    {
     "data": {
      "application/vnd.jupyter.widget-view+json": {
       "model_id": "570e59b640384d4a8a0bb65a608841c4",
       "version_major": 2,
       "version_minor": 0
      },
      "text/plain": [
       "  0%|          | 0/5000 [00:00<?, ?it/s]"
      ]
     },
     "metadata": {},
     "output_type": "display_data"
    },
    {
     "name": "stdout",
     "output_type": "stream",
     "text": [
      "step_size=0.47116848826408386\n",
      "max_step_size=0.5\n",
      "broken_traj=0\n",
      "Runtime: 268.29s\n",
      "\n",
      "Processing dimension 16\n",
      "--------------------------------------------------------------------------------\n",
      "Running HMCVanilla\n",
      "number of blocks: 3\n",
      "processing block: 1\n"
     ]
    },
    {
     "data": {
      "application/vnd.jupyter.widget-view+json": {
       "model_id": "8c8dc5dc045f4a2a9c9efb6d3b8be442",
       "version_major": 2,
       "version_minor": 0
      },
      "text/plain": [
       "  0%|          | 0/2500 [00:00<?, ?it/s]"
      ]
     },
     "metadata": {},
     "output_type": "display_data"
    },
    {
     "name": "stdout",
     "output_type": "stream",
     "text": [
      "step_size=0.21705880761146545\n",
      "max_step_size=0.5\n",
      "broken_traj=0\n",
      "processing block: 2\n"
     ]
    },
    {
     "data": {
      "application/vnd.jupyter.widget-view+json": {
       "model_id": "d9341c5d4ff84559bbbd364b6a3841b4",
       "version_major": 2,
       "version_minor": 0
      },
      "text/plain": [
       "  0%|          | 0/5000 [00:00<?, ?it/s]"
      ]
     },
     "metadata": {},
     "output_type": "display_data"
    },
    {
     "name": "stdout",
     "output_type": "stream",
     "text": [
      "step_size=0.21705880761146545\n",
      "max_step_size=0.5\n",
      "broken_traj=0\n",
      "processing block: 3\n"
     ]
    },
    {
     "data": {
      "application/vnd.jupyter.widget-view+json": {
       "model_id": "25569015b7ac4034b86aa5fd9132056c",
       "version_major": 2,
       "version_minor": 0
      },
      "text/plain": [
       "  0%|          | 0/5000 [00:00<?, ?it/s]"
      ]
     },
     "metadata": {},
     "output_type": "display_data"
    },
    {
     "name": "stdout",
     "output_type": "stream",
     "text": [
      "step_size=0.2135019600391388\n",
      "max_step_size=0.5\n",
      "broken_traj=0\n",
      "Runtime: 160.00s\n",
      "--------------------------------------------------------------------------------\n",
      "Running HMCAdaptiveHutchTaylorNoGrad\n",
      "number of blocks: 3\n",
      "processing block: 1\n"
     ]
    },
    {
     "data": {
      "application/vnd.jupyter.widget-view+json": {
       "model_id": "52bfc6bd8f824aa1af3b9af5d02e6446",
       "version_major": 2,
       "version_minor": 0
      },
      "text/plain": [
       "  0%|          | 0/2500 [00:00<?, ?it/s]"
      ]
     },
     "metadata": {},
     "output_type": "display_data"
    },
    {
     "name": "stdout",
     "output_type": "stream",
     "text": [
      "step_size=0.220021054148674\n",
      "max_step_size=0.5\n",
      "broken_traj=0\n",
      "processing block: 2\n"
     ]
    },
    {
     "data": {
      "application/vnd.jupyter.widget-view+json": {
       "model_id": "b7a420b655a947d58039639068431575",
       "version_major": 2,
       "version_minor": 0
      },
      "text/plain": [
       "  0%|          | 0/5000 [00:00<?, ?it/s]"
      ]
     },
     "metadata": {},
     "output_type": "display_data"
    },
    {
     "name": "stdout",
     "output_type": "stream",
     "text": [
      "step_size=0.220021054148674\n",
      "max_step_size=0.5\n",
      "broken_traj=0\n",
      "processing block: 3\n"
     ]
    },
    {
     "data": {
      "application/vnd.jupyter.widget-view+json": {
       "model_id": "e3456075d3b34dfd9ec0a22320f20586",
       "version_major": 2,
       "version_minor": 0
      },
      "text/plain": [
       "  0%|          | 0/5000 [00:00<?, ?it/s]"
      ]
     },
     "metadata": {},
     "output_type": "display_data"
    },
    {
     "name": "stdout",
     "output_type": "stream",
     "text": [
      "step_size=0.4951425790786743\n",
      "max_step_size=0.5\n",
      "broken_traj=0\n",
      "Runtime: 250.23s\n",
      "--------------------------------------------------------------------------------\n",
      "Running HMCAdaptiveHutchLanczosNoGrad\n",
      "number of blocks: 3\n",
      "processing block: 1\n"
     ]
    },
    {
     "data": {
      "application/vnd.jupyter.widget-view+json": {
       "model_id": "7e512d1d32ac49abb2115c81d0513051",
       "version_major": 2,
       "version_minor": 0
      },
      "text/plain": [
       "  0%|          | 0/2500 [00:00<?, ?it/s]"
      ]
     },
     "metadata": {},
     "output_type": "display_data"
    },
    {
     "name": "stdout",
     "output_type": "stream",
     "text": [
      "step_size=0.21216082572937012\n",
      "max_step_size=0.5\n",
      "broken_traj=0\n",
      "processing block: 2\n"
     ]
    },
    {
     "data": {
      "application/vnd.jupyter.widget-view+json": {
       "model_id": "d958808c7d244a06b81298d8c5fd1c48",
       "version_major": 2,
       "version_minor": 0
      },
      "text/plain": [
       "  0%|          | 0/5000 [00:00<?, ?it/s]"
      ]
     },
     "metadata": {},
     "output_type": "display_data"
    },
    {
     "name": "stdout",
     "output_type": "stream",
     "text": [
      "step_size=0.21216082572937012\n",
      "max_step_size=0.5\n",
      "broken_traj=0\n",
      "processing block: 3\n"
     ]
    },
    {
     "data": {
      "application/vnd.jupyter.widget-view+json": {
       "model_id": "098f73e898af4f7e9d76bab0e2409c5f",
       "version_major": 2,
       "version_minor": 0
      },
      "text/plain": [
       "  0%|          | 0/5000 [00:00<?, ?it/s]"
      ]
     },
     "metadata": {},
     "output_type": "display_data"
    },
    {
     "name": "stdout",
     "output_type": "stream",
     "text": [
      "step_size=0.33268386125564575\n",
      "max_step_size=0.5\n",
      "broken_traj=0\n",
      "Runtime: 268.02s\n",
      "\n",
      "Processing dimension 32\n",
      "--------------------------------------------------------------------------------\n",
      "Running HMCVanilla\n",
      "number of blocks: 3\n",
      "processing block: 1\n"
     ]
    },
    {
     "data": {
      "application/vnd.jupyter.widget-view+json": {
       "model_id": "9b5580563f164ec1a1b6f76a44f0d746",
       "version_major": 2,
       "version_minor": 0
      },
      "text/plain": [
       "  0%|          | 0/2500 [00:00<?, ?it/s]"
      ]
     },
     "metadata": {},
     "output_type": "display_data"
    },
    {
     "name": "stdout",
     "output_type": "stream",
     "text": [
      "step_size=0.18293248116970062\n",
      "max_step_size=0.5\n",
      "broken_traj=0\n",
      "processing block: 2\n"
     ]
    },
    {
     "data": {
      "application/vnd.jupyter.widget-view+json": {
       "model_id": "0a5778e23a0a4b9a86df16d9010503ba",
       "version_major": 2,
       "version_minor": 0
      },
      "text/plain": [
       "  0%|          | 0/5000 [00:00<?, ?it/s]"
      ]
     },
     "metadata": {},
     "output_type": "display_data"
    },
    {
     "name": "stdout",
     "output_type": "stream",
     "text": [
      "step_size=0.18293248116970062\n",
      "max_step_size=0.5\n",
      "broken_traj=0\n",
      "processing block: 3\n"
     ]
    },
    {
     "data": {
      "application/vnd.jupyter.widget-view+json": {
       "model_id": "fb3df2c892064b368a690c51e12083c2",
       "version_major": 2,
       "version_minor": 0
      },
      "text/plain": [
       "  0%|          | 0/5000 [00:00<?, ?it/s]"
      ]
     },
     "metadata": {},
     "output_type": "display_data"
    },
    {
     "name": "stdout",
     "output_type": "stream",
     "text": [
      "step_size=0.18207311630249023\n",
      "max_step_size=0.5\n",
      "broken_traj=0\n",
      "Runtime: 164.99s\n",
      "--------------------------------------------------------------------------------\n",
      "Running HMCAdaptiveHutchTaylorNoGrad\n",
      "number of blocks: 3\n",
      "processing block: 1\n"
     ]
    },
    {
     "data": {
      "application/vnd.jupyter.widget-view+json": {
       "model_id": "8fa2632b54854996a12c0643ba476959",
       "version_major": 2,
       "version_minor": 0
      },
      "text/plain": [
       "  0%|          | 0/2500 [00:00<?, ?it/s]"
      ]
     },
     "metadata": {},
     "output_type": "display_data"
    },
    {
     "name": "stdout",
     "output_type": "stream",
     "text": [
      "step_size=0.18207308650016785\n",
      "max_step_size=0.5\n",
      "broken_traj=0\n",
      "processing block: 2\n"
     ]
    },
    {
     "data": {
      "application/vnd.jupyter.widget-view+json": {
       "model_id": "3b630809fac84e8ab1cea347bde27440",
       "version_major": 2,
       "version_minor": 0
      },
      "text/plain": [
       "  0%|          | 0/5000 [00:00<?, ?it/s]"
      ]
     },
     "metadata": {},
     "output_type": "display_data"
    },
    {
     "name": "stdout",
     "output_type": "stream",
     "text": [
      "step_size=0.18207308650016785\n",
      "max_step_size=0.5\n",
      "broken_traj=0\n",
      "processing block: 3\n"
     ]
    },
    {
     "data": {
      "application/vnd.jupyter.widget-view+json": {
       "model_id": "92c626b2cc89491e9299ff11e3c30f45",
       "version_major": 2,
       "version_minor": 0
      },
      "text/plain": [
       "  0%|          | 0/5000 [00:00<?, ?it/s]"
      ]
     },
     "metadata": {},
     "output_type": "display_data"
    },
    {
     "name": "stdout",
     "output_type": "stream",
     "text": [
      "step_size=0.3667367994785309\n",
      "max_step_size=0.5\n",
      "broken_traj=0\n",
      "Runtime: 258.58s\n",
      "--------------------------------------------------------------------------------\n",
      "Running HMCAdaptiveHutchLanczosNoGrad\n",
      "number of blocks: 3\n",
      "processing block: 1\n"
     ]
    },
    {
     "data": {
      "application/vnd.jupyter.widget-view+json": {
       "model_id": "9e4cfbe265c94e5b957fd9925d3808bd",
       "version_major": 2,
       "version_minor": 0
      },
      "text/plain": [
       "  0%|          | 0/2500 [00:00<?, ?it/s]"
      ]
     },
     "metadata": {},
     "output_type": "display_data"
    },
    {
     "name": "stdout",
     "output_type": "stream",
     "text": [
      "step_size=0.18296359479427338\n",
      "max_step_size=0.5\n",
      "broken_traj=0\n",
      "processing block: 2\n"
     ]
    },
    {
     "data": {
      "application/vnd.jupyter.widget-view+json": {
       "model_id": "177e13209b3d4ccfa9645320da56cda0",
       "version_major": 2,
       "version_minor": 0
      },
      "text/plain": [
       "  0%|          | 0/5000 [00:00<?, ?it/s]"
      ]
     },
     "metadata": {},
     "output_type": "display_data"
    },
    {
     "name": "stdout",
     "output_type": "stream",
     "text": [
      "step_size=0.18296359479427338\n",
      "max_step_size=0.5\n",
      "broken_traj=0\n",
      "processing block: 3\n"
     ]
    },
    {
     "data": {
      "application/vnd.jupyter.widget-view+json": {
       "model_id": "6fb80aadedf64279b3264324e80bdf10",
       "version_major": 2,
       "version_minor": 0
      },
      "text/plain": [
       "  0%|          | 0/5000 [00:00<?, ?it/s]"
      ]
     },
     "metadata": {},
     "output_type": "display_data"
    },
    {
     "name": "stdout",
     "output_type": "stream",
     "text": [
      "step_size=0.24685801565647125\n",
      "max_step_size=0.5\n",
      "broken_traj=0\n",
      "Runtime: 278.00s\n",
      "\n",
      "Processing dimension 64\n",
      "--------------------------------------------------------------------------------\n",
      "Running HMCVanilla\n",
      "number of blocks: 3\n",
      "processing block: 1\n"
     ]
    },
    {
     "data": {
      "application/vnd.jupyter.widget-view+json": {
       "model_id": "e79e56cccd9b4a2f8e824960caf4d361",
       "version_major": 2,
       "version_minor": 0
      },
      "text/plain": [
       "  0%|          | 0/2500 [00:00<?, ?it/s]"
      ]
     },
     "metadata": {},
     "output_type": "display_data"
    },
    {
     "name": "stdout",
     "output_type": "stream",
     "text": [
      "step_size=0.15569968521595\n",
      "max_step_size=0.5\n",
      "broken_traj=0\n",
      "processing block: 2\n"
     ]
    },
    {
     "data": {
      "application/vnd.jupyter.widget-view+json": {
       "model_id": "e4a7d905c02b4d75a56b35cf189a39f3",
       "version_major": 2,
       "version_minor": 0
      },
      "text/plain": [
       "  0%|          | 0/5000 [00:00<?, ?it/s]"
      ]
     },
     "metadata": {},
     "output_type": "display_data"
    },
    {
     "name": "stdout",
     "output_type": "stream",
     "text": [
      "step_size=0.15569968521595\n",
      "max_step_size=0.5\n",
      "broken_traj=0\n",
      "processing block: 3\n"
     ]
    },
    {
     "data": {
      "application/vnd.jupyter.widget-view+json": {
       "model_id": "99e056d0383342d6a2ffeb75317208a2",
       "version_major": 2,
       "version_minor": 0
      },
      "text/plain": [
       "  0%|          | 0/5000 [00:00<?, ?it/s]"
      ]
     },
     "metadata": {},
     "output_type": "display_data"
    },
    {
     "name": "stdout",
     "output_type": "stream",
     "text": [
      "step_size=0.15721243619918823\n",
      "max_step_size=0.5\n",
      "broken_traj=0\n",
      "Runtime: 177.40s\n",
      "--------------------------------------------------------------------------------\n",
      "Running HMCAdaptiveHutchTaylorNoGrad\n",
      "number of blocks: 3\n",
      "processing block: 1\n"
     ]
    },
    {
     "data": {
      "application/vnd.jupyter.widget-view+json": {
       "model_id": "6b2b8e53a79c4476abcc2174dfc52f21",
       "version_major": 2,
       "version_minor": 0
      },
      "text/plain": [
       "  0%|          | 0/2500 [00:00<?, ?it/s]"
      ]
     },
     "metadata": {},
     "output_type": "display_data"
    },
    {
     "name": "stdout",
     "output_type": "stream",
     "text": [
      "step_size=0.15785054862499237\n",
      "max_step_size=0.5\n",
      "broken_traj=0\n",
      "processing block: 2\n"
     ]
    },
    {
     "data": {
      "application/vnd.jupyter.widget-view+json": {
       "model_id": "bc1794cc13e44735825bb66e713499e3",
       "version_major": 2,
       "version_minor": 0
      },
      "text/plain": [
       "  0%|          | 0/5000 [00:00<?, ?it/s]"
      ]
     },
     "metadata": {},
     "output_type": "display_data"
    },
    {
     "name": "stdout",
     "output_type": "stream",
     "text": [
      "step_size=0.15785054862499237\n",
      "max_step_size=0.5\n",
      "broken_traj=0\n",
      "processing block: 3\n"
     ]
    },
    {
     "data": {
      "application/vnd.jupyter.widget-view+json": {
       "model_id": "13aac566c5384889879b2f19332db190",
       "version_major": 2,
       "version_minor": 0
      },
      "text/plain": [
       "  0%|          | 0/5000 [00:00<?, ?it/s]"
      ]
     },
     "metadata": {},
     "output_type": "display_data"
    },
    {
     "name": "stdout",
     "output_type": "stream",
     "text": [
      "step_size=0.2553848326206207\n",
      "max_step_size=0.5\n",
      "broken_traj=0\n",
      "Runtime: 277.93s\n",
      "--------------------------------------------------------------------------------\n",
      "Running HMCAdaptiveHutchLanczosNoGrad\n",
      "number of blocks: 3\n",
      "processing block: 1\n"
     ]
    },
    {
     "data": {
      "application/vnd.jupyter.widget-view+json": {
       "model_id": "243f48694ab14be09e3e38d3aeca159d",
       "version_major": 2,
       "version_minor": 0
      },
      "text/plain": [
       "  0%|          | 0/2500 [00:00<?, ?it/s]"
      ]
     },
     "metadata": {},
     "output_type": "display_data"
    },
    {
     "name": "stdout",
     "output_type": "stream",
     "text": [
      "step_size=0.16004519164562225\n",
      "max_step_size=0.5\n",
      "broken_traj=0\n",
      "processing block: 2\n"
     ]
    },
    {
     "data": {
      "application/vnd.jupyter.widget-view+json": {
       "model_id": "110d3d8b3edb4085b6ff1c487fe7eccd",
       "version_major": 2,
       "version_minor": 0
      },
      "text/plain": [
       "  0%|          | 0/5000 [00:00<?, ?it/s]"
      ]
     },
     "metadata": {},
     "output_type": "display_data"
    },
    {
     "name": "stdout",
     "output_type": "stream",
     "text": [
      "step_size=0.16004519164562225\n",
      "max_step_size=0.5\n",
      "broken_traj=0\n",
      "processing block: 3\n"
     ]
    },
    {
     "data": {
      "application/vnd.jupyter.widget-view+json": {
       "model_id": "f0aca1cd39b34392b00a7a0175685b42",
       "version_major": 2,
       "version_minor": 0
      },
      "text/plain": [
       "  0%|          | 0/5000 [00:00<?, ?it/s]"
      ]
     },
     "metadata": {},
     "output_type": "display_data"
    },
    {
     "name": "stdout",
     "output_type": "stream",
     "text": [
      "step_size=0.1931435614824295\n",
      "max_step_size=0.5\n",
      "broken_traj=0\n",
      "Runtime: 297.57s\n",
      "\n",
      "Processing dimension 128\n",
      "--------------------------------------------------------------------------------\n",
      "Running HMCVanilla\n",
      "number of blocks: 3\n",
      "processing block: 1\n"
     ]
    },
    {
     "data": {
      "application/vnd.jupyter.widget-view+json": {
       "model_id": "65713c2c8bbb432ba36e7d48b802bd2a",
       "version_major": 2,
       "version_minor": 0
      },
      "text/plain": [
       "  0%|          | 0/2500 [00:00<?, ?it/s]"
      ]
     },
     "metadata": {},
     "output_type": "display_data"
    },
    {
     "name": "stdout",
     "output_type": "stream",
     "text": [
      "step_size=0.1306627243757248\n",
      "max_step_size=0.5\n",
      "broken_traj=0\n",
      "processing block: 2\n"
     ]
    },
    {
     "data": {
      "application/vnd.jupyter.widget-view+json": {
       "model_id": "09c105a4c2c44d58ae74adda0ed6fd35",
       "version_major": 2,
       "version_minor": 0
      },
      "text/plain": [
       "  0%|          | 0/5000 [00:00<?, ?it/s]"
      ]
     },
     "metadata": {},
     "output_type": "display_data"
    },
    {
     "name": "stdout",
     "output_type": "stream",
     "text": [
      "step_size=0.1306627243757248\n",
      "max_step_size=0.5\n",
      "broken_traj=0\n",
      "processing block: 3\n"
     ]
    },
    {
     "data": {
      "application/vnd.jupyter.widget-view+json": {
       "model_id": "97d34ff480244e2c97eb9b5778f51bdf",
       "version_major": 2,
       "version_minor": 0
      },
      "text/plain": [
       "  0%|          | 0/5000 [00:00<?, ?it/s]"
      ]
     },
     "metadata": {},
     "output_type": "display_data"
    },
    {
     "name": "stdout",
     "output_type": "stream",
     "text": [
      "step_size=0.1365141123533249\n",
      "max_step_size=0.5\n",
      "broken_traj=0\n",
      "Runtime: 193.03s\n",
      "--------------------------------------------------------------------------------\n",
      "Running HMCAdaptiveHutchTaylorNoGrad\n",
      "number of blocks: 3\n",
      "processing block: 1\n"
     ]
    },
    {
     "data": {
      "application/vnd.jupyter.widget-view+json": {
       "model_id": "e68e606ac9e443d797937327bb93cc25",
       "version_major": 2,
       "version_minor": 0
      },
      "text/plain": [
       "  0%|          | 0/2500 [00:00<?, ?it/s]"
      ]
     },
     "metadata": {},
     "output_type": "display_data"
    },
    {
     "name": "stdout",
     "output_type": "stream",
     "text": [
      "step_size=0.13574489951133728\n",
      "max_step_size=0.5\n",
      "broken_traj=0\n",
      "processing block: 2\n"
     ]
    },
    {
     "data": {
      "application/vnd.jupyter.widget-view+json": {
       "model_id": "462da097ab3c40438b5e284b5250da9a",
       "version_major": 2,
       "version_minor": 0
      },
      "text/plain": [
       "  0%|          | 0/5000 [00:00<?, ?it/s]"
      ]
     },
     "metadata": {},
     "output_type": "display_data"
    },
    {
     "name": "stdout",
     "output_type": "stream",
     "text": [
      "step_size=0.13574489951133728\n",
      "max_step_size=0.5\n",
      "broken_traj=0\n",
      "processing block: 3\n"
     ]
    },
    {
     "data": {
      "application/vnd.jupyter.widget-view+json": {
       "model_id": "fa5300f0344b478aa558d2cc44eda536",
       "version_major": 2,
       "version_minor": 0
      },
      "text/plain": [
       "  0%|          | 0/5000 [00:00<?, ?it/s]"
      ]
     },
     "metadata": {},
     "output_type": "display_data"
    },
    {
     "name": "stdout",
     "output_type": "stream",
     "text": [
      "step_size=0.18278470635414124\n",
      "max_step_size=0.5\n",
      "broken_traj=0\n",
      "Runtime: 304.94s\n",
      "--------------------------------------------------------------------------------\n",
      "Running HMCAdaptiveHutchLanczosNoGrad\n",
      "number of blocks: 3\n",
      "processing block: 1\n"
     ]
    },
    {
     "data": {
      "application/vnd.jupyter.widget-view+json": {
       "model_id": "3b10d891a12947bbb9857cc5c22009a0",
       "version_major": 2,
       "version_minor": 0
      },
      "text/plain": [
       "  0%|          | 0/2500 [00:00<?, ?it/s]"
      ]
     },
     "metadata": {},
     "output_type": "display_data"
    },
    {
     "name": "stdout",
     "output_type": "stream",
     "text": [
      "step_size=0.13057300448417664\n",
      "max_step_size=0.5\n",
      "broken_traj=0\n",
      "processing block: 2\n"
     ]
    },
    {
     "data": {
      "application/vnd.jupyter.widget-view+json": {
       "model_id": "56f15ac0334d4b138988e83fd3ea5415",
       "version_major": 2,
       "version_minor": 0
      },
      "text/plain": [
       "  0%|          | 0/5000 [00:00<?, ?it/s]"
      ]
     },
     "metadata": {},
     "output_type": "display_data"
    },
    {
     "name": "stdout",
     "output_type": "stream",
     "text": [
      "step_size=0.13057300448417664\n",
      "max_step_size=0.5\n",
      "broken_traj=0\n",
      "processing block: 3\n"
     ]
    },
    {
     "data": {
      "application/vnd.jupyter.widget-view+json": {
       "model_id": "1dd21eaed58d46f8a844370e63732a6d",
       "version_major": 2,
       "version_minor": 0
      },
      "text/plain": [
       "  0%|          | 0/5000 [00:00<?, ?it/s]"
      ]
     },
     "metadata": {},
     "output_type": "display_data"
    },
    {
     "name": "stdout",
     "output_type": "stream",
     "text": [
      "step_size=0.13537313044071198\n",
      "max_step_size=0.5\n",
      "broken_traj=0\n",
      "Runtime: 328.16s\n",
      "\n",
      "Processing dimension 256\n",
      "--------------------------------------------------------------------------------\n",
      "Running HMCVanilla\n",
      "number of blocks: 3\n",
      "processing block: 1\n"
     ]
    },
    {
     "data": {
      "application/vnd.jupyter.widget-view+json": {
       "model_id": "e5889b0f10204c329783ec1ef4dc7913",
       "version_major": 2,
       "version_minor": 0
      },
      "text/plain": [
       "  0%|          | 0/2500 [00:00<?, ?it/s]"
      ]
     },
     "metadata": {},
     "output_type": "display_data"
    },
    {
     "name": "stdout",
     "output_type": "stream",
     "text": [
      "step_size=0.11116395145654678\n",
      "max_step_size=0.5\n",
      "broken_traj=0\n",
      "processing block: 2\n"
     ]
    },
    {
     "data": {
      "application/vnd.jupyter.widget-view+json": {
       "model_id": "46a2c5f3e1d2466bb68b7cc5fa9bc8ed",
       "version_major": 2,
       "version_minor": 0
      },
      "text/plain": [
       "  0%|          | 0/5000 [00:00<?, ?it/s]"
      ]
     },
     "metadata": {},
     "output_type": "display_data"
    },
    {
     "name": "stdout",
     "output_type": "stream",
     "text": [
      "step_size=0.11116395145654678\n",
      "max_step_size=0.5\n",
      "broken_traj=0\n",
      "processing block: 3\n"
     ]
    },
    {
     "data": {
      "application/vnd.jupyter.widget-view+json": {
       "model_id": "316fe9c7b7a54bf9ac90fbe746e8f2cb",
       "version_major": 2,
       "version_minor": 0
      },
      "text/plain": [
       "  0%|          | 0/5000 [00:00<?, ?it/s]"
      ]
     },
     "metadata": {},
     "output_type": "display_data"
    },
    {
     "name": "stdout",
     "output_type": "stream",
     "text": [
      "step_size=0.1158507764339447\n",
      "max_step_size=0.5\n",
      "broken_traj=0\n",
      "Runtime: 244.03s\n",
      "--------------------------------------------------------------------------------\n",
      "Running HMCAdaptiveHutchTaylorNoGrad\n",
      "number of blocks: 3\n",
      "processing block: 1\n"
     ]
    },
    {
     "data": {
      "application/vnd.jupyter.widget-view+json": {
       "model_id": "c20f964d884b4a96961c9a43effc7150",
       "version_major": 2,
       "version_minor": 0
      },
      "text/plain": [
       "  0%|          | 0/2500 [00:00<?, ?it/s]"
      ]
     },
     "metadata": {},
     "output_type": "display_data"
    },
    {
     "name": "stdout",
     "output_type": "stream",
     "text": [
      "step_size=0.11309221386909485\n",
      "max_step_size=0.5\n",
      "broken_traj=0\n",
      "processing block: 2\n"
     ]
    },
    {
     "data": {
      "application/vnd.jupyter.widget-view+json": {
       "model_id": "6b03349c5d094696b61d9ca6e31fd9b0",
       "version_major": 2,
       "version_minor": 0
      },
      "text/plain": [
       "  0%|          | 0/5000 [00:00<?, ?it/s]"
      ]
     },
     "metadata": {},
     "output_type": "display_data"
    },
    {
     "name": "stdout",
     "output_type": "stream",
     "text": [
      "step_size=0.11309221386909485\n",
      "max_step_size=0.5\n",
      "broken_traj=0\n",
      "processing block: 3\n"
     ]
    },
    {
     "data": {
      "application/vnd.jupyter.widget-view+json": {
       "model_id": "d7e79b15ee4d49e48871f4769f8fea9d",
       "version_major": 2,
       "version_minor": 0
      },
      "text/plain": [
       "  0%|          | 0/5000 [00:00<?, ?it/s]"
      ]
     },
     "metadata": {},
     "output_type": "display_data"
    },
    {
     "name": "stdout",
     "output_type": "stream",
     "text": [
      "step_size=0.12745288014411926\n",
      "max_step_size=0.5\n",
      "broken_traj=0\n",
      "Runtime: 384.56s\n",
      "--------------------------------------------------------------------------------\n",
      "Running HMCAdaptiveHutchLanczosNoGrad\n",
      "number of blocks: 3\n",
      "processing block: 1\n"
     ]
    },
    {
     "data": {
      "application/vnd.jupyter.widget-view+json": {
       "model_id": "4a74a9e3160b40d284e819b3062fbc92",
       "version_major": 2,
       "version_minor": 0
      },
      "text/plain": [
       "  0%|          | 0/2500 [00:00<?, ?it/s]"
      ]
     },
     "metadata": {},
     "output_type": "display_data"
    },
    {
     "name": "stdout",
     "output_type": "stream",
     "text": [
      "step_size=0.1146654337644577\n",
      "max_step_size=0.5\n",
      "broken_traj=0\n",
      "processing block: 2\n"
     ]
    },
    {
     "data": {
      "application/vnd.jupyter.widget-view+json": {
       "model_id": "c87eb11593e340549343eda4e90aff29",
       "version_major": 2,
       "version_minor": 0
      },
      "text/plain": [
       "  0%|          | 0/5000 [00:00<?, ?it/s]"
      ]
     },
     "metadata": {},
     "output_type": "display_data"
    },
    {
     "name": "stdout",
     "output_type": "stream",
     "text": [
      "step_size=0.1146654337644577\n",
      "max_step_size=0.5\n",
      "broken_traj=0\n",
      "processing block: 3\n"
     ]
    },
    {
     "data": {
      "application/vnd.jupyter.widget-view+json": {
       "model_id": "15c3dde7c47148bba549d8b6cd218ae9",
       "version_major": 2,
       "version_minor": 0
      },
      "text/plain": [
       "  0%|          | 0/5000 [00:00<?, ?it/s]"
      ]
     },
     "metadata": {},
     "output_type": "display_data"
    },
    {
     "name": "stdout",
     "output_type": "stream",
     "text": [
      "step_size=0.11507480591535568\n",
      "max_step_size=0.5\n",
      "broken_traj=0\n",
      "Runtime: 415.37s\n",
      "\n"
     ]
    },
    {
     "data": {
      "application/vnd.jupyter.widget-view+json": {
       "model_id": "aecaa82b2ec2400f965eeb93f88f167e",
       "version_major": 2,
       "version_minor": 0
      },
      "text/plain": [
       "dimension:   0%|          | 0/6 [00:00<?, ?it/s]"
      ]
     },
     "metadata": {},
     "output_type": "display_data"
    },
    {
     "data": {
      "application/vnd.jupyter.widget-view+json": {
       "model_id": "e91cc16fb12b45e49e1845fb08163d0c",
       "version_major": 2,
       "version_minor": 0
      },
      "text/plain": [
       "alg:   0%|          | 0/3 [00:00<?, ?it/s]"
      ]
     },
     "metadata": {},
     "output_type": "display_data"
    },
    {
     "name": "stdout",
     "output_type": "stream",
     "text": [
      "\n",
      "dim=8, dist=toeplitz_gaussian\n",
      "                 hmc_vanilla  taylor_nograd  lanczos_nograd\n",
      "ess_mean           0.513984       0.261027        0.453840\n",
      "ess_conf_sigma     0.005119       0.011942        0.011946\n",
      "tv_mean            0.006937       0.008591        0.007074\n",
      "tv_conf_sigma      0.000836       0.000988        0.000795\n",
      "runtime          162.206427     248.754778      267.311623\n",
      "chains_kept       30.000000      30.000000       30.000000\n",
      "{8:             alg_A          alg_B  z(ESS_A>B)    p(ESS_A>B)  z(TV_A<B)  \\\n",
      "0  lanczos_nograd  taylor_nograd   11.414946  1.760619e-30   1.195766   \n",
      "1  lanczos_nograd    hmc_vanilla   -4.627576  9.999982e-01  -0.119270   \n",
      "2   taylor_nograd    hmc_vanilla  -19.469255  1.000000e+00  -1.278132   \n",
      "\n",
      "   p(TV_A<B)  \n",
      "0   0.115894  \n",
      "1   0.547469  \n",
      "2   0.899398  }\n"
     ]
    },
    {
     "data": {
      "application/vnd.jupyter.widget-view+json": {
       "model_id": "86714799c12241ba9d706618e0f8ded7",
       "version_major": 2,
       "version_minor": 0
      },
      "text/plain": [
       "alg:   0%|          | 0/3 [00:00<?, ?it/s]"
      ]
     },
     "metadata": {},
     "output_type": "display_data"
    },
    {
     "name": "stdout",
     "output_type": "stream",
     "text": [
      "\n",
      "dim=16, dist=toeplitz_gaussian\n",
      "                 hmc_vanilla  taylor_nograd  lanczos_nograd\n",
      "ess_mean           0.788382       0.545581        0.346348\n",
      "ess_conf_sigma     0.005597       0.035193        0.008399\n",
      "tv_mean            0.014480       0.008804        0.009077\n",
      "tv_conf_sigma      0.002614       0.001055        0.001052\n",
      "runtime          159.398611     249.373696      267.118730\n",
      "chains_kept       30.000000      30.000000       30.000000\n",
      "{8:             alg_A          alg_B  z(ESS_A>B)    p(ESS_A>B)  z(TV_A<B)  \\\n",
      "0  lanczos_nograd  taylor_nograd   11.414946  1.760619e-30   1.195766   \n",
      "1  lanczos_nograd    hmc_vanilla   -4.627576  9.999982e-01  -0.119270   \n",
      "2   taylor_nograd    hmc_vanilla  -19.469255  1.000000e+00  -1.278132   \n",
      "\n",
      "   p(TV_A<B)  \n",
      "0   0.115894  \n",
      "1   0.547469  \n",
      "2   0.899398  , 16:             alg_A          alg_B  z(ESS_A>B)  p(ESS_A>B)  z(TV_A<B)  p(TV_A<B)\n",
      "0  lanczos_nograd  taylor_nograd   -5.506544         1.0  -0.183108   0.572643\n",
      "1  lanczos_nograd    hmc_vanilla  -43.795601         1.0   1.917587   0.027582\n",
      "2   taylor_nograd    hmc_vanilla   -6.813535         1.0   2.013504   0.022031}\n"
     ]
    },
    {
     "data": {
      "application/vnd.jupyter.widget-view+json": {
       "model_id": "6fba9e2fcbee4b33832c9981540aefdd",
       "version_major": 2,
       "version_minor": 0
      },
      "text/plain": [
       "alg:   0%|          | 0/3 [00:00<?, ?it/s]"
      ]
     },
     "metadata": {},
     "output_type": "display_data"
    },
    {
     "name": "stdout",
     "output_type": "stream",
     "text": [
      "\n",
      "dim=32, dist=toeplitz_gaussian\n",
      "                 hmc_vanilla  taylor_nograd  lanczos_nograd\n",
      "ess_mean           0.617690       0.311446        0.394137\n",
      "ess_conf_sigma     0.011309       0.007761        0.011458\n",
      "tv_mean            0.010011       0.014916        0.018160\n",
      "tv_conf_sigma      0.001173       0.002052        0.002344\n",
      "runtime          164.387693     257.698819      277.047651\n",
      "chains_kept       30.000000      30.000000       30.000000\n",
      "{8:             alg_A          alg_B  z(ESS_A>B)    p(ESS_A>B)  z(TV_A<B)  \\\n",
      "0  lanczos_nograd  taylor_nograd   11.414946  1.760619e-30   1.195766   \n",
      "1  lanczos_nograd    hmc_vanilla   -4.627576  9.999982e-01  -0.119270   \n",
      "2   taylor_nograd    hmc_vanilla  -19.469255  1.000000e+00  -1.278132   \n",
      "\n",
      "   p(TV_A<B)  \n",
      "0   0.115894  \n",
      "1   0.547469  \n",
      "2   0.899398  , 16:             alg_A          alg_B  z(ESS_A>B)  p(ESS_A>B)  z(TV_A<B)  p(TV_A<B)\n",
      "0  lanczos_nograd  taylor_nograd   -5.506544         1.0  -0.183108   0.572643\n",
      "1  lanczos_nograd    hmc_vanilla  -43.795601         1.0   1.917587   0.027582\n",
      "2   taylor_nograd    hmc_vanilla   -6.813535         1.0   2.013504   0.022031, 32:             alg_A          alg_B  z(ESS_A>B)    p(ESS_A>B)  z(TV_A<B)  \\\n",
      "0  lanczos_nograd  taylor_nograd    5.975429  1.147429e-09  -1.041410   \n",
      "1  lanczos_nograd    hmc_vanilla  -13.886087  1.000000e+00  -3.108947   \n",
      "2   taylor_nograd    hmc_vanilla  -22.327366  1.000000e+00  -2.075490   \n",
      "\n",
      "   p(TV_A<B)  \n",
      "0   0.851157  \n",
      "1   0.999061  \n",
      "2   0.981029  }\n"
     ]
    },
    {
     "data": {
      "application/vnd.jupyter.widget-view+json": {
       "model_id": "ddb4c85431324fda86f052985a805f3d",
       "version_major": 2,
       "version_minor": 0
      },
      "text/plain": [
       "alg:   0%|          | 0/3 [00:00<?, ?it/s]"
      ]
     },
     "metadata": {},
     "output_type": "display_data"
    },
    {
     "name": "stdout",
     "output_type": "stream",
     "text": [
      "\n",
      "dim=64, dist=toeplitz_gaussian\n",
      "                 hmc_vanilla  taylor_nograd  lanczos_nograd\n",
      "ess_mean           0.567593       0.621317        0.668453\n",
      "ess_conf_sigma     0.004978       0.007173        0.008318\n",
      "tv_mean            0.009338       0.010070        0.009810\n",
      "tv_conf_sigma      0.000920       0.001149        0.001191\n",
      "runtime          176.768437     277.013992      296.438658\n",
      "chains_kept       30.000000      30.000000       30.000000\n",
      "{8:             alg_A          alg_B  z(ESS_A>B)    p(ESS_A>B)  z(TV_A<B)  \\\n",
      "0  lanczos_nograd  taylor_nograd   11.414946  1.760619e-30   1.195766   \n",
      "1  lanczos_nograd    hmc_vanilla   -4.627576  9.999982e-01  -0.119270   \n",
      "2   taylor_nograd    hmc_vanilla  -19.469255  1.000000e+00  -1.278132   \n",
      "\n",
      "   p(TV_A<B)  \n",
      "0   0.115894  \n",
      "1   0.547469  \n",
      "2   0.899398  , 16:             alg_A          alg_B  z(ESS_A>B)  p(ESS_A>B)  z(TV_A<B)  p(TV_A<B)\n",
      "0  lanczos_nograd  taylor_nograd   -5.506544         1.0  -0.183108   0.572643\n",
      "1  lanczos_nograd    hmc_vanilla  -43.795601         1.0   1.917587   0.027582\n",
      "2   taylor_nograd    hmc_vanilla   -6.813535         1.0   2.013504   0.022031, 32:             alg_A          alg_B  z(ESS_A>B)    p(ESS_A>B)  z(TV_A<B)  \\\n",
      "0  lanczos_nograd  taylor_nograd    5.975429  1.147429e-09  -1.041410   \n",
      "1  lanczos_nograd    hmc_vanilla  -13.886087  1.000000e+00  -3.108947   \n",
      "2   taylor_nograd    hmc_vanilla  -22.327366  1.000000e+00  -2.075490   \n",
      "\n",
      "   p(TV_A<B)  \n",
      "0   0.851157  \n",
      "1   0.999061  \n",
      "2   0.981029  , 64:             alg_A          alg_B  z(ESS_A>B)    p(ESS_A>B)  z(TV_A<B)  \\\n",
      "0  lanczos_nograd  taylor_nograd    4.291478  8.874393e-06   0.157361   \n",
      "1  lanczos_nograd    hmc_vanilla   10.405066  1.175465e-25  -0.313747   \n",
      "2   taylor_nograd    hmc_vanilla    6.152966  3.802346e-10  -0.497697   \n",
      "\n",
      "   p(TV_A<B)  \n",
      "0   0.437480  \n",
      "1   0.623143  \n",
      "2   0.690651  }\n"
     ]
    },
    {
     "data": {
      "application/vnd.jupyter.widget-view+json": {
       "model_id": "8b741a03ef7048a0a3702c4256b747ed",
       "version_major": 2,
       "version_minor": 0
      },
      "text/plain": [
       "alg:   0%|          | 0/3 [00:00<?, ?it/s]"
      ]
     },
     "metadata": {},
     "output_type": "display_data"
    },
    {
     "name": "stdout",
     "output_type": "stream",
     "text": [
      "\n",
      "dim=128, dist=toeplitz_gaussian\n",
      "                 hmc_vanilla  taylor_nograd  lanczos_nograd\n",
      "ess_mean           0.428555       0.654236        0.612047\n",
      "ess_conf_sigma     0.002767       0.004190        0.003971\n",
      "tv_mean            0.009112       0.009936        0.008911\n",
      "tv_conf_sigma      0.000874       0.001002        0.000816\n",
      "runtime          192.274623     303.758994      326.918585\n",
      "chains_kept       30.000000      30.000000       30.000000\n",
      "{8:             alg_A          alg_B  z(ESS_A>B)    p(ESS_A>B)  z(TV_A<B)  \\\n",
      "0  lanczos_nograd  taylor_nograd   11.414946  1.760619e-30   1.195766   \n",
      "1  lanczos_nograd    hmc_vanilla   -4.627576  9.999982e-01  -0.119270   \n",
      "2   taylor_nograd    hmc_vanilla  -19.469255  1.000000e+00  -1.278132   \n",
      "\n",
      "   p(TV_A<B)  \n",
      "0   0.115894  \n",
      "1   0.547469  \n",
      "2   0.899398  , 16:             alg_A          alg_B  z(ESS_A>B)  p(ESS_A>B)  z(TV_A<B)  p(TV_A<B)\n",
      "0  lanczos_nograd  taylor_nograd   -5.506544         1.0  -0.183108   0.572643\n",
      "1  lanczos_nograd    hmc_vanilla  -43.795601         1.0   1.917587   0.027582\n",
      "2   taylor_nograd    hmc_vanilla   -6.813535         1.0   2.013504   0.022031, 32:             alg_A          alg_B  z(ESS_A>B)    p(ESS_A>B)  z(TV_A<B)  \\\n",
      "0  lanczos_nograd  taylor_nograd    5.975429  1.147429e-09  -1.041410   \n",
      "1  lanczos_nograd    hmc_vanilla  -13.886087  1.000000e+00  -3.108947   \n",
      "2   taylor_nograd    hmc_vanilla  -22.327366  1.000000e+00  -2.075490   \n",
      "\n",
      "   p(TV_A<B)  \n",
      "0   0.851157  \n",
      "1   0.999061  \n",
      "2   0.981029  , 64:             alg_A          alg_B  z(ESS_A>B)    p(ESS_A>B)  z(TV_A<B)  \\\n",
      "0  lanczos_nograd  taylor_nograd    4.291478  8.874393e-06   0.157361   \n",
      "1  lanczos_nograd    hmc_vanilla   10.405066  1.175465e-25  -0.313747   \n",
      "2   taylor_nograd    hmc_vanilla    6.152966  3.802346e-10  -0.497697   \n",
      "\n",
      "   p(TV_A<B)  \n",
      "0   0.437480  \n",
      "1   0.623143  \n",
      "2   0.690651  , 128:             alg_A          alg_B  z(ESS_A>B)  p(ESS_A>B)  z(TV_A<B)  p(TV_A<B)\n",
      "0  lanczos_nograd  taylor_nograd   -7.308553         1.0   0.793200   0.213831\n",
      "1  lanczos_nograd    hmc_vanilla   37.915120         0.0   0.167934   0.433317\n",
      "2   taylor_nograd    hmc_vanilla   44.948142         0.0  -0.619913   0.732342}\n"
     ]
    },
    {
     "data": {
      "application/vnd.jupyter.widget-view+json": {
       "model_id": "82a3736868314125aa6ea0229a8f2d5e",
       "version_major": 2,
       "version_minor": 0
      },
      "text/plain": [
       "alg:   0%|          | 0/3 [00:00<?, ?it/s]"
      ]
     },
     "metadata": {},
     "output_type": "display_data"
    },
    {
     "name": "stdout",
     "output_type": "stream",
     "text": [
      "\n",
      "dim=256, dist=toeplitz_gaussian\n",
      "                 hmc_vanilla  taylor_nograd  lanczos_nograd\n",
      "ess_mean           0.319540       0.563073        0.477555\n",
      "ess_conf_sigma     0.002152       0.003155        0.003050\n",
      "tv_mean            0.009464       0.009187        0.009242\n",
      "tv_conf_sigma      0.000964       0.000882        0.000895\n",
      "runtime          243.089978     383.190408      413.918382\n",
      "chains_kept       30.000000      30.000000       30.000000\n",
      "{8:             alg_A          alg_B  z(ESS_A>B)    p(ESS_A>B)  z(TV_A<B)  \\\n",
      "0  lanczos_nograd  taylor_nograd   11.414946  1.760619e-30   1.195766   \n",
      "1  lanczos_nograd    hmc_vanilla   -4.627576  9.999982e-01  -0.119270   \n",
      "2   taylor_nograd    hmc_vanilla  -19.469255  1.000000e+00  -1.278132   \n",
      "\n",
      "   p(TV_A<B)  \n",
      "0   0.115894  \n",
      "1   0.547469  \n",
      "2   0.899398  , 16:             alg_A          alg_B  z(ESS_A>B)  p(ESS_A>B)  z(TV_A<B)  p(TV_A<B)\n",
      "0  lanczos_nograd  taylor_nograd   -5.506544         1.0  -0.183108   0.572643\n",
      "1  lanczos_nograd    hmc_vanilla  -43.795601         1.0   1.917587   0.027582\n",
      "2   taylor_nograd    hmc_vanilla   -6.813535         1.0   2.013504   0.022031, 32:             alg_A          alg_B  z(ESS_A>B)    p(ESS_A>B)  z(TV_A<B)  \\\n",
      "0  lanczos_nograd  taylor_nograd    5.975429  1.147429e-09  -1.041410   \n",
      "1  lanczos_nograd    hmc_vanilla  -13.886087  1.000000e+00  -3.108947   \n",
      "2   taylor_nograd    hmc_vanilla  -22.327366  1.000000e+00  -2.075490   \n",
      "\n",
      "   p(TV_A<B)  \n",
      "0   0.851157  \n",
      "1   0.999061  \n",
      "2   0.981029  , 64:             alg_A          alg_B  z(ESS_A>B)    p(ESS_A>B)  z(TV_A<B)  \\\n",
      "0  lanczos_nograd  taylor_nograd    4.291478  8.874393e-06   0.157361   \n",
      "1  lanczos_nograd    hmc_vanilla   10.405066  1.175465e-25  -0.313747   \n",
      "2   taylor_nograd    hmc_vanilla    6.152966  3.802346e-10  -0.497697   \n",
      "\n",
      "   p(TV_A<B)  \n",
      "0   0.437480  \n",
      "1   0.623143  \n",
      "2   0.690651  , 128:             alg_A          alg_B  z(ESS_A>B)  p(ESS_A>B)  z(TV_A<B)  p(TV_A<B)\n",
      "0  lanczos_nograd  taylor_nograd   -7.308553         1.0   0.793200   0.213831\n",
      "1  lanczos_nograd    hmc_vanilla   37.915120         0.0   0.167934   0.433317\n",
      "2   taylor_nograd    hmc_vanilla   44.948142         0.0  -0.619913   0.732342, 256:             alg_A          alg_B  z(ESS_A>B)  p(ESS_A>B)  z(TV_A<B)  p(TV_A<B)\n",
      "0  lanczos_nograd  taylor_nograd  -19.487886         1.0  -0.044385   0.517701\n",
      "1  lanczos_nograd    hmc_vanilla   42.333628         0.0   0.168358   0.433151\n",
      "2   taylor_nograd    hmc_vanilla   63.761910         0.0   0.212165   0.415989}\n"
     ]
    },
    {
     "data": {
      "application/vnd.jupyter.widget-view+json": {
       "model_id": "82c891cfbefb464abf9f7166dd389d2b",
       "version_major": 2,
       "version_minor": 0
      },
      "text/plain": [
       "  0%|          | 0/6 [00:00<?, ?it/s]"
      ]
     },
     "metadata": {},
     "output_type": "display_data"
    },
    {
     "name": "stdout",
     "output_type": "stream",
     "text": [
      "Processing dimension 8\n",
      "--------------------------------------------------------------------------------\n",
      "Running HMCVanilla\n",
      "number of blocks: 3\n",
      "processing block: 1\n"
     ]
    },
    {
     "data": {
      "application/vnd.jupyter.widget-view+json": {
       "model_id": "4191eadc3f824ee2aa345a89d9bcb333",
       "version_major": 2,
       "version_minor": 0
      },
      "text/plain": [
       "  0%|          | 0/2500 [00:00<?, ?it/s]"
      ]
     },
     "metadata": {},
     "output_type": "display_data"
    },
    {
     "name": "stdout",
     "output_type": "stream",
     "text": [
      "step_size=0.30226752161979675\n",
      "max_step_size=0.3093436062335968\n",
      "broken_traj=1414\n",
      "processing block: 2\n"
     ]
    },
    {
     "data": {
      "application/vnd.jupyter.widget-view+json": {
       "model_id": "82dc2a0d6a444803bea70da79e0dd0ac",
       "version_major": 2,
       "version_minor": 0
      },
      "text/plain": [
       "  0%|          | 0/5000 [00:00<?, ?it/s]"
      ]
     },
     "metadata": {},
     "output_type": "display_data"
    },
    {
     "name": "stdout",
     "output_type": "stream",
     "text": [
      "step_size=0.1657666265964508\n",
      "max_step_size=0.27470654249191284\n",
      "broken_traj=1764\n",
      "processing block: 3\n"
     ]
    },
    {
     "data": {
      "application/vnd.jupyter.widget-view+json": {
       "model_id": "5ef6c882b45a42f19c5cd748316a17b8",
       "version_major": 2,
       "version_minor": 0
      },
      "text/plain": [
       "  0%|          | 0/5000 [00:00<?, ?it/s]"
      ]
     },
     "metadata": {},
     "output_type": "display_data"
    },
    {
     "name": "stdout",
     "output_type": "stream",
     "text": [
      "step_size=0.22496725618839264\n",
      "max_step_size=0.22930651903152466\n",
      "broken_traj=2285\n",
      "Runtime: 147.71s\n",
      "--------------------------------------------------------------------------------\n",
      "Running HMCAdaptiveHutchTaylorNoGrad\n",
      "number of blocks: 3\n",
      "processing block: 1\n"
     ]
    },
    {
     "data": {
      "application/vnd.jupyter.widget-view+json": {
       "model_id": "7956b772d6174da48c83fe5b425a966d",
       "version_major": 2,
       "version_minor": 0
      },
      "text/plain": [
       "  0%|          | 0/2500 [00:00<?, ?it/s]"
      ]
     },
     "metadata": {},
     "output_type": "display_data"
    },
    {
     "name": "stdout",
     "output_type": "stream",
     "text": [
      "step_size=0.31064456701278687\n",
      "max_step_size=0.31797701120376587\n",
      "broken_traj=1341\n",
      "processing block: 2\n"
     ]
    },
    {
     "data": {
      "application/vnd.jupyter.widget-view+json": {
       "model_id": "4f5df6763a654a34880ef9027403827a",
       "version_major": 2,
       "version_minor": 0
      },
      "text/plain": [
       "  0%|          | 0/5000 [00:00<?, ?it/s]"
      ]
     },
     "metadata": {},
     "output_type": "display_data"
    },
    {
     "name": "stdout",
     "output_type": "stream",
     "text": [
      "step_size=0.2252510040998459\n",
      "max_step_size=0.297338604927063\n",
      "broken_traj=1531\n",
      "processing block: 3\n"
     ]
    },
    {
     "data": {
      "application/vnd.jupyter.widget-view+json": {
       "model_id": "22de73dd7e69474692ba3bce003481c9",
       "version_major": 2,
       "version_minor": 0
      },
      "text/plain": [
       "  0%|          | 0/5000 [00:00<?, ?it/s]"
      ]
     },
     "metadata": {},
     "output_type": "display_data"
    },
    {
     "name": "stdout",
     "output_type": "stream",
     "text": [
      "step_size=0.2931375503540039\n",
      "max_step_size=0.2943830192089081\n",
      "broken_traj=1563\n",
      "Runtime: 225.84s\n",
      "--------------------------------------------------------------------------------\n",
      "Running HMCAdaptiveHutchLanczosNoGrad\n",
      "number of blocks: 3\n",
      "processing block: 1\n"
     ]
    },
    {
     "data": {
      "application/vnd.jupyter.widget-view+json": {
       "model_id": "8c071ffbb53c44ae9ec7ea9786bad6f6",
       "version_major": 2,
       "version_minor": 0
      },
      "text/plain": [
       "  0%|          | 0/2500 [00:00<?, ?it/s]"
      ]
     },
     "metadata": {},
     "output_type": "display_data"
    },
    {
     "name": "stdout",
     "output_type": "stream",
     "text": [
      "step_size=0.3059358596801758\n",
      "max_step_size=0.31028708815574646\n",
      "broken_traj=1401\n",
      "processing block: 2\n"
     ]
    },
    {
     "data": {
      "application/vnd.jupyter.widget-view+json": {
       "model_id": "48df2cc03aed44e2ba74ef0aa6f37745",
       "version_major": 2,
       "version_minor": 0
      },
      "text/plain": [
       "  0%|          | 0/5000 [00:00<?, ?it/s]"
      ]
     },
     "metadata": {},
     "output_type": "display_data"
    },
    {
     "name": "stdout",
     "output_type": "stream",
     "text": [
      "step_size=0.20087821781635284\n",
      "max_step_size=0.28433704376220703\n",
      "broken_traj=1659\n",
      "processing block: 3\n"
     ]
    },
    {
     "data": {
      "application/vnd.jupyter.widget-view+json": {
       "model_id": "844ccef3ac734d4bbcbbf5ac8714da25",
       "version_major": 2,
       "version_minor": 0
      },
      "text/plain": [
       "  0%|          | 0/5000 [00:00<?, ?it/s]"
      ]
     },
     "metadata": {},
     "output_type": "display_data"
    },
    {
     "name": "stdout",
     "output_type": "stream",
     "text": [
      "step_size=0.24726776778697968\n",
      "max_step_size=0.25031235814094543\n",
      "broken_traj=2041\n",
      "Runtime: 250.23s\n",
      "\n",
      "Processing dimension 16\n",
      "--------------------------------------------------------------------------------\n",
      "Running HMCVanilla\n",
      "number of blocks: 3\n",
      "processing block: 1\n"
     ]
    },
    {
     "data": {
      "application/vnd.jupyter.widget-view+json": {
       "model_id": "c794674b3adc43d5aaa05983f0f3c9f6",
       "version_major": 2,
       "version_minor": 0
      },
      "text/plain": [
       "  0%|          | 0/2500 [00:00<?, ?it/s]"
      ]
     },
     "metadata": {},
     "output_type": "display_data"
    },
    {
     "name": "stdout",
     "output_type": "stream",
     "text": [
      "step_size=0.31070008873939514\n",
      "max_step_size=0.32853907346725464\n",
      "broken_traj=1229\n",
      "processing block: 2\n"
     ]
    },
    {
     "data": {
      "application/vnd.jupyter.widget-view+json": {
       "model_id": "c27a14de939d4dd3b90a8755277ac48c",
       "version_major": 2,
       "version_minor": 0
      },
      "text/plain": [
       "  0%|          | 0/5000 [00:00<?, ?it/s]"
      ]
     },
     "metadata": {},
     "output_type": "display_data"
    },
    {
     "name": "stdout",
     "output_type": "stream",
     "text": [
      "step_size=0.20514510571956635\n",
      "max_step_size=0.302457720041275\n",
      "broken_traj=1471\n",
      "processing block: 3\n"
     ]
    },
    {
     "data": {
      "application/vnd.jupyter.widget-view+json": {
       "model_id": "affb1a28501940d38332bd25c0feaafa",
       "version_major": 2,
       "version_minor": 0
      },
      "text/plain": [
       "  0%|          | 0/5000 [00:00<?, ?it/s]"
      ]
     },
     "metadata": {},
     "output_type": "display_data"
    },
    {
     "name": "stdout",
     "output_type": "stream",
     "text": [
      "step_size=0.27026990056037903\n",
      "max_step_size=0.2765033543109894\n",
      "broken_traj=1732\n",
      "Runtime: 145.24s\n",
      "--------------------------------------------------------------------------------\n",
      "Running HMCAdaptiveHutchTaylorNoGrad\n",
      "number of blocks: 3\n",
      "processing block: 1\n"
     ]
    },
    {
     "data": {
      "application/vnd.jupyter.widget-view+json": {
       "model_id": "79b17418e566411fbe0d6f30fe7b503c",
       "version_major": 2,
       "version_minor": 0
      },
      "text/plain": [
       "  0%|          | 0/2500 [00:00<?, ?it/s]"
      ]
     },
     "metadata": {},
     "output_type": "display_data"
    },
    {
     "name": "stdout",
     "output_type": "stream",
     "text": [
      "step_size=0.31822627782821655\n",
      "max_step_size=0.32821136713027954\n",
      "broken_traj=1232\n",
      "processing block: 2\n"
     ]
    },
    {
     "data": {
      "application/vnd.jupyter.widget-view+json": {
       "model_id": "5721c22fa6514a10a81bbf6a9dfbe54f",
       "version_major": 2,
       "version_minor": 0
      },
      "text/plain": [
       "  0%|          | 0/5000 [00:00<?, ?it/s]"
      ]
     },
     "metadata": {},
     "output_type": "display_data"
    },
    {
     "name": "stdout",
     "output_type": "stream",
     "text": [
      "step_size=0.2728027403354645\n",
      "max_step_size=0.317947655916214\n",
      "broken_traj=1322\n",
      "processing block: 3\n"
     ]
    },
    {
     "data": {
      "application/vnd.jupyter.widget-view+json": {
       "model_id": "dbeecd7b94934309a750209c3eb8777c",
       "version_major": 2,
       "version_minor": 0
      },
      "text/plain": [
       "  0%|          | 0/5000 [00:00<?, ?it/s]"
      ]
     },
     "metadata": {},
     "output_type": "display_data"
    },
    {
     "name": "stdout",
     "output_type": "stream",
     "text": [
      "step_size=0.3097151815891266\n",
      "max_step_size=0.317947655916214\n",
      "broken_traj=1322\n",
      "Runtime: 227.56s\n",
      "--------------------------------------------------------------------------------\n",
      "Running HMCAdaptiveHutchLanczosNoGrad\n",
      "number of blocks: 3\n",
      "processing block: 1\n"
     ]
    },
    {
     "data": {
      "application/vnd.jupyter.widget-view+json": {
       "model_id": "f143f54cbc894f71a8dc63e95deb4d59",
       "version_major": 2,
       "version_minor": 0
      },
      "text/plain": [
       "  0%|          | 0/2500 [00:00<?, ?it/s]"
      ]
     },
     "metadata": {},
     "output_type": "display_data"
    },
    {
     "name": "stdout",
     "output_type": "stream",
     "text": [
      "step_size=0.3210003972053528\n",
      "max_step_size=0.3320273756980896\n",
      "broken_traj=1180\n",
      "processing block: 2\n"
     ]
    },
    {
     "data": {
      "application/vnd.jupyter.widget-view+json": {
       "model_id": "c4cf252c23f749d99255b975ab6b298a",
       "version_major": 2,
       "version_minor": 0
      },
      "text/plain": [
       "  0%|          | 0/5000 [00:00<?, ?it/s]"
      ]
     },
     "metadata": {},
     "output_type": "display_data"
    },
    {
     "name": "stdout",
     "output_type": "stream",
     "text": [
      "step_size=0.26807451248168945\n",
      "max_step_size=0.3204641044139862\n",
      "broken_traj=1285\n",
      "processing block: 3\n"
     ]
    },
    {
     "data": {
      "application/vnd.jupyter.widget-view+json": {
       "model_id": "1848f32f09694bfea3188f8a3fca4488",
       "version_major": 2,
       "version_minor": 0
      },
      "text/plain": [
       "  0%|          | 0/5000 [00:00<?, ?it/s]"
      ]
     },
     "metadata": {},
     "output_type": "display_data"
    },
    {
     "name": "stdout",
     "output_type": "stream",
     "text": [
      "step_size=0.3133906126022339\n",
      "max_step_size=0.31991127133369446\n",
      "broken_traj=1292\n",
      "Runtime: 250.28s\n",
      "\n",
      "Processing dimension 32\n",
      "--------------------------------------------------------------------------------\n",
      "Running HMCVanilla\n",
      "number of blocks: 3\n",
      "processing block: 1\n"
     ]
    },
    {
     "data": {
      "application/vnd.jupyter.widget-view+json": {
       "model_id": "73c8930ff98a41c5b6f545061c69518b",
       "version_major": 2,
       "version_minor": 0
      },
      "text/plain": [
       "  0%|          | 0/2500 [00:00<?, ?it/s]"
      ]
     },
     "metadata": {},
     "output_type": "display_data"
    },
    {
     "name": "stdout",
     "output_type": "stream",
     "text": [
      "step_size=0.2702094316482544\n",
      "max_step_size=0.2773136794567108\n",
      "broken_traj=1717\n",
      "processing block: 2\n"
     ]
    },
    {
     "data": {
      "application/vnd.jupyter.widget-view+json": {
       "model_id": "11718ef313cd41ce9b4601595e8e13a7",
       "version_major": 2,
       "version_minor": 0
      },
      "text/plain": [
       "  0%|          | 0/5000 [00:00<?, ?it/s]"
      ]
     },
     "metadata": {},
     "output_type": "display_data"
    },
    {
     "name": "stdout",
     "output_type": "stream",
     "text": [
      "step_size=0.19192448258399963\n",
      "max_step_size=0.2593008875846863\n",
      "broken_traj=1919\n",
      "processing block: 3\n"
     ]
    },
    {
     "data": {
      "application/vnd.jupyter.widget-view+json": {
       "model_id": "d49d4c87d8304ace9f64b85dda2c8b95",
       "version_major": 2,
       "version_minor": 0
      },
      "text/plain": [
       "  0%|          | 0/5000 [00:00<?, ?it/s]"
      ]
     },
     "metadata": {},
     "output_type": "display_data"
    },
    {
     "name": "stdout",
     "output_type": "stream",
     "text": [
      "step_size=0.2405392974615097\n",
      "max_step_size=0.24835285544395447\n",
      "broken_traj=2043\n",
      "Runtime: 158.34s\n",
      "--------------------------------------------------------------------------------\n",
      "Running HMCAdaptiveHutchTaylorNoGrad\n",
      "number of blocks: 3\n",
      "processing block: 1\n"
     ]
    },
    {
     "data": {
      "application/vnd.jupyter.widget-view+json": {
       "model_id": "785f89ab96984043bd0a7f1f42d2465a",
       "version_major": 2,
       "version_minor": 0
      },
      "text/plain": [
       "  0%|          | 0/2500 [00:00<?, ?it/s]"
      ]
     },
     "metadata": {},
     "output_type": "display_data"
    },
    {
     "name": "stdout",
     "output_type": "stream",
     "text": [
      "step_size=0.26863113045692444\n",
      "max_step_size=0.2768895924091339\n",
      "broken_traj=1715\n",
      "processing block: 2\n"
     ]
    },
    {
     "data": {
      "application/vnd.jupyter.widget-view+json": {
       "model_id": "0a805f867a3345c5af4253a736927bfe",
       "version_major": 2,
       "version_minor": 0
      },
      "text/plain": [
       "  0%|          | 0/5000 [00:00<?, ?it/s]"
      ]
     },
     "metadata": {},
     "output_type": "display_data"
    },
    {
     "name": "stdout",
     "output_type": "stream",
     "text": [
      "step_size=0.2537827789783478\n",
      "max_step_size=0.2740917205810547\n",
      "broken_traj=1749\n",
      "processing block: 3\n"
     ]
    },
    {
     "data": {
      "application/vnd.jupyter.widget-view+json": {
       "model_id": "982632f4009f45ddb4e3f9a4801cb2ea",
       "version_major": 2,
       "version_minor": 0
      },
      "text/plain": [
       "  0%|          | 0/5000 [00:00<?, ?it/s]"
      ]
     },
     "metadata": {},
     "output_type": "display_data"
    },
    {
     "name": "stdout",
     "output_type": "stream",
     "text": [
      "step_size=0.26536375284194946\n",
      "max_step_size=0.2740917205810547\n",
      "broken_traj=1749\n",
      "Runtime: 240.36s\n",
      "--------------------------------------------------------------------------------\n",
      "Running HMCAdaptiveHutchLanczosNoGrad\n",
      "number of blocks: 3\n",
      "processing block: 1\n"
     ]
    },
    {
     "data": {
      "application/vnd.jupyter.widget-view+json": {
       "model_id": "97b293e15f414cf6a5c1f545204ca489",
       "version_major": 2,
       "version_minor": 0
      },
      "text/plain": [
       "  0%|          | 0/2500 [00:00<?, ?it/s]"
      ]
     },
     "metadata": {},
     "output_type": "display_data"
    },
    {
     "name": "stdout",
     "output_type": "stream",
     "text": [
      "step_size=0.264219731092453\n",
      "max_step_size=0.27598774433135986\n",
      "broken_traj=1714\n",
      "processing block: 2\n"
     ]
    },
    {
     "data": {
      "application/vnd.jupyter.widget-view+json": {
       "model_id": "9f3aba02905348a5ae0da3ab62913c48",
       "version_major": 2,
       "version_minor": 0
      },
      "text/plain": [
       "  0%|          | 0/5000 [00:00<?, ?it/s]"
      ]
     },
     "metadata": {},
     "output_type": "display_data"
    },
    {
     "name": "stdout",
     "output_type": "stream",
     "text": [
      "step_size=0.24610835313796997\n",
      "max_step_size=0.2718140780925751\n",
      "broken_traj=1755\n",
      "processing block: 3\n"
     ]
    },
    {
     "data": {
      "application/vnd.jupyter.widget-view+json": {
       "model_id": "76d92526387145a3aaf4ccad824fbc9e",
       "version_major": 2,
       "version_minor": 0
      },
      "text/plain": [
       "  0%|          | 0/5000 [00:00<?, ?it/s]"
      ]
     },
     "metadata": {},
     "output_type": "display_data"
    },
    {
     "name": "stdout",
     "output_type": "stream",
     "text": [
      "step_size=0.26606935262680054\n",
      "max_step_size=0.2718140780925751\n",
      "broken_traj=1755\n",
      "Runtime: 264.71s\n",
      "\n",
      "Processing dimension 64\n",
      "--------------------------------------------------------------------------------\n",
      "Running HMCVanilla\n",
      "number of blocks: 3\n",
      "processing block: 1\n"
     ]
    },
    {
     "data": {
      "application/vnd.jupyter.widget-view+json": {
       "model_id": "e41680d2b8f940fa81105bb49903ddbd",
       "version_major": 2,
       "version_minor": 0
      },
      "text/plain": [
       "  0%|          | 0/2500 [00:00<?, ?it/s]"
      ]
     },
     "metadata": {},
     "output_type": "display_data"
    },
    {
     "name": "stdout",
     "output_type": "stream",
     "text": [
      "step_size=0.20249146223068237\n",
      "max_step_size=0.22286231815814972\n",
      "broken_traj=2330\n",
      "processing block: 2\n"
     ]
    },
    {
     "data": {
      "application/vnd.jupyter.widget-view+json": {
       "model_id": "2fefb017e75348a1bbfffd60d130bcd6",
       "version_major": 2,
       "version_minor": 0
      },
      "text/plain": [
       "  0%|          | 0/5000 [00:00<?, ?it/s]"
      ]
     },
     "metadata": {},
     "output_type": "display_data"
    },
    {
     "name": "stdout",
     "output_type": "stream",
     "text": [
      "step_size=0.1629444807767868\n",
      "max_step_size=0.21412642300128937\n",
      "broken_traj=2452\n",
      "processing block: 3\n"
     ]
    },
    {
     "data": {
      "application/vnd.jupyter.widget-view+json": {
       "model_id": "6630f866d7d54902a3238e2785311b65",
       "version_major": 2,
       "version_minor": 0
      },
      "text/plain": [
       "  0%|          | 0/5000 [00:00<?, ?it/s]"
      ]
     },
     "metadata": {},
     "output_type": "display_data"
    },
    {
     "name": "stdout",
     "output_type": "stream",
     "text": [
      "step_size=0.1982785165309906\n",
      "max_step_size=0.20317158102989197\n",
      "broken_traj=2596\n",
      "Runtime: 169.32s\n",
      "--------------------------------------------------------------------------------\n",
      "Running HMCAdaptiveHutchTaylorNoGrad\n",
      "number of blocks: 3\n",
      "processing block: 1\n"
     ]
    },
    {
     "data": {
      "application/vnd.jupyter.widget-view+json": {
       "model_id": "b847cb4da24d4410bdf664c8333fbf0f",
       "version_major": 2,
       "version_minor": 0
      },
      "text/plain": [
       "  0%|          | 0/2500 [00:00<?, ?it/s]"
      ]
     },
     "metadata": {},
     "output_type": "display_data"
    },
    {
     "name": "stdout",
     "output_type": "stream",
     "text": [
      "step_size=0.21090291440486908\n",
      "max_step_size=0.22182098031044006\n",
      "broken_traj=2345\n",
      "processing block: 2\n"
     ]
    },
    {
     "data": {
      "application/vnd.jupyter.widget-view+json": {
       "model_id": "faa3026254154d2698708d913e67ad00",
       "version_major": 2,
       "version_minor": 0
      },
      "text/plain": [
       "  0%|          | 0/5000 [00:00<?, ?it/s]"
      ]
     },
     "metadata": {},
     "output_type": "display_data"
    },
    {
     "name": "stdout",
     "output_type": "stream",
     "text": [
      "step_size=0.20075558125972748\n",
      "max_step_size=0.21961651742458344\n",
      "broken_traj=2375\n",
      "processing block: 3\n"
     ]
    },
    {
     "data": {
      "application/vnd.jupyter.widget-view+json": {
       "model_id": "ba040c2b6c54428794cc8fca04e51b24",
       "version_major": 2,
       "version_minor": 0
      },
      "text/plain": [
       "  0%|          | 0/5000 [00:00<?, ?it/s]"
      ]
     },
     "metadata": {},
     "output_type": "display_data"
    },
    {
     "name": "stdout",
     "output_type": "stream",
     "text": [
      "step_size=0.2138521522283554\n",
      "max_step_size=0.21961651742458344\n",
      "broken_traj=2375\n",
      "Runtime: 255.85s\n",
      "--------------------------------------------------------------------------------\n",
      "Running HMCAdaptiveHutchLanczosNoGrad\n",
      "number of blocks: 3\n",
      "processing block: 1\n"
     ]
    },
    {
     "data": {
      "application/vnd.jupyter.widget-view+json": {
       "model_id": "dfe73439a59e4049b8c1e838ce3d34c2",
       "version_major": 2,
       "version_minor": 0
      },
      "text/plain": [
       "  0%|          | 0/2500 [00:00<?, ?it/s]"
      ]
     },
     "metadata": {},
     "output_type": "display_data"
    },
    {
     "name": "stdout",
     "output_type": "stream",
     "text": [
      "step_size=0.21517805755138397\n",
      "max_step_size=0.22373105585575104\n",
      "broken_traj=2334\n",
      "processing block: 2\n"
     ]
    },
    {
     "data": {
      "application/vnd.jupyter.widget-view+json": {
       "model_id": "f267aff2de754708a105bea04830c8c5",
       "version_major": 2,
       "version_minor": 0
      },
      "text/plain": [
       "  0%|          | 0/5000 [00:00<?, ?it/s]"
      ]
     },
     "metadata": {},
     "output_type": "display_data"
    },
    {
     "name": "stdout",
     "output_type": "stream",
     "text": [
      "step_size=0.2049555480480194\n",
      "max_step_size=0.22147251665592194\n",
      "broken_traj=2362\n",
      "processing block: 3\n"
     ]
    },
    {
     "data": {
      "application/vnd.jupyter.widget-view+json": {
       "model_id": "b5610484248948b1b96740a448cea399",
       "version_major": 2,
       "version_minor": 0
      },
      "text/plain": [
       "  0%|          | 0/5000 [00:00<?, ?it/s]"
      ]
     },
     "metadata": {},
     "output_type": "display_data"
    },
    {
     "name": "stdout",
     "output_type": "stream",
     "text": [
      "step_size=0.2174062579870224\n",
      "max_step_size=0.22147251665592194\n",
      "broken_traj=2362\n",
      "Runtime: 281.54s\n",
      "\n",
      "Processing dimension 128\n",
      "--------------------------------------------------------------------------------\n",
      "Running HMCVanilla\n",
      "number of blocks: 3\n",
      "processing block: 1\n"
     ]
    },
    {
     "data": {
      "application/vnd.jupyter.widget-view+json": {
       "model_id": "272f71e4b2f542f9bfe62ad873f5a886",
       "version_major": 2,
       "version_minor": 0
      },
      "text/plain": [
       "  0%|          | 0/2500 [00:00<?, ?it/s]"
      ]
     },
     "metadata": {},
     "output_type": "display_data"
    },
    {
     "name": "stdout",
     "output_type": "stream",
     "text": [
      "step_size=0.17880748212337494\n",
      "max_step_size=0.2173348069190979\n",
      "broken_traj=2497\n",
      "processing block: 2\n"
     ]
    },
    {
     "data": {
      "application/vnd.jupyter.widget-view+json": {
       "model_id": "8fc8b9ac513b49d7826f86fb3262fd52",
       "version_major": 2,
       "version_minor": 0
      },
      "text/plain": [
       "  0%|          | 0/5000 [00:00<?, ?it/s]"
      ]
     },
     "metadata": {},
     "output_type": "display_data"
    },
    {
     "name": "stdout",
     "output_type": "stream",
     "text": [
      "step_size=0.1429302841424942\n",
      "max_step_size=0.20830367505550385\n",
      "broken_traj=2627\n",
      "processing block: 3\n"
     ]
    },
    {
     "data": {
      "application/vnd.jupyter.widget-view+json": {
       "model_id": "0e45c19aa21b4947ba080ba8b48439a8",
       "version_major": 2,
       "version_minor": 0
      },
      "text/plain": [
       "  0%|          | 0/5000 [00:00<?, ?it/s]"
      ]
     },
     "metadata": {},
     "output_type": "display_data"
    },
    {
     "name": "stdout",
     "output_type": "stream",
     "text": [
      "step_size=0.1594218909740448\n",
      "max_step_size=0.1598794311285019\n",
      "broken_traj=3303\n",
      "Runtime: 182.11s\n",
      "--------------------------------------------------------------------------------\n",
      "Running HMCAdaptiveHutchTaylorNoGrad\n",
      "number of blocks: 3\n",
      "processing block: 1\n"
     ]
    },
    {
     "data": {
      "application/vnd.jupyter.widget-view+json": {
       "model_id": "3a4158c4f4964f4a92e5c447cc527bc2",
       "version_major": 2,
       "version_minor": 0
      },
      "text/plain": [
       "  0%|          | 0/2500 [00:00<?, ?it/s]"
      ]
     },
     "metadata": {},
     "output_type": "display_data"
    },
    {
     "name": "stdout",
     "output_type": "stream",
     "text": [
      "step_size=0.18057797849178314\n",
      "max_step_size=0.20323418080806732\n",
      "broken_traj=2656\n",
      "processing block: 2\n"
     ]
    },
    {
     "data": {
      "application/vnd.jupyter.widget-view+json": {
       "model_id": "599667f8e5214335807ebc1a5e29c8a4",
       "version_major": 2,
       "version_minor": 0
      },
      "text/plain": [
       "  0%|          | 0/5000 [00:00<?, ?it/s]"
      ]
     },
     "metadata": {},
     "output_type": "display_data"
    },
    {
     "name": "stdout",
     "output_type": "stream",
     "text": [
      "step_size=0.16875003278255463\n",
      "max_step_size=0.20082688331604004\n",
      "broken_traj=2694\n",
      "processing block: 3\n"
     ]
    },
    {
     "data": {
      "application/vnd.jupyter.widget-view+json": {
       "model_id": "a497a0665af74df4a089c0ec62597c68",
       "version_major": 2,
       "version_minor": 0
      },
      "text/plain": [
       "  0%|          | 0/5000 [00:00<?, ?it/s]"
      ]
     },
     "metadata": {},
     "output_type": "display_data"
    },
    {
     "name": "stdout",
     "output_type": "stream",
     "text": [
      "step_size=0.19612501561641693\n",
      "max_step_size=0.20082688331604004\n",
      "broken_traj=2694\n",
      "Runtime: 276.37s\n",
      "--------------------------------------------------------------------------------\n",
      "Running HMCAdaptiveHutchLanczosNoGrad\n",
      "number of blocks: 3\n",
      "processing block: 1\n"
     ]
    },
    {
     "data": {
      "application/vnd.jupyter.widget-view+json": {
       "model_id": "aeb9d3f094c2498db76a34ee02c33143",
       "version_major": 2,
       "version_minor": 0
      },
      "text/plain": [
       "  0%|          | 0/2500 [00:00<?, ?it/s]"
      ]
     },
     "metadata": {},
     "output_type": "display_data"
    },
    {
     "name": "stdout",
     "output_type": "stream",
     "text": [
      "step_size=0.18137750029563904\n",
      "max_step_size=0.20142768323421478\n",
      "broken_traj=2675\n",
      "processing block: 2\n"
     ]
    },
    {
     "data": {
      "application/vnd.jupyter.widget-view+json": {
       "model_id": "9112551c7b474dfba59078057fe8eaab",
       "version_major": 2,
       "version_minor": 0
      },
      "text/plain": [
       "  0%|          | 0/5000 [00:00<?, ?it/s]"
      ]
     },
     "metadata": {},
     "output_type": "display_data"
    },
    {
     "name": "stdout",
     "output_type": "stream",
     "text": [
      "step_size=0.16849571466445923\n",
      "max_step_size=0.19878989458084106\n",
      "broken_traj=2717\n",
      "processing block: 3\n"
     ]
    },
    {
     "data": {
      "application/vnd.jupyter.widget-view+json": {
       "model_id": "ae803f9362534345a586ee0cbf5a1de5",
       "version_major": 2,
       "version_minor": 0
      },
      "text/plain": [
       "  0%|          | 0/5000 [00:00<?, ?it/s]"
      ]
     },
     "metadata": {},
     "output_type": "display_data"
    },
    {
     "name": "stdout",
     "output_type": "stream",
     "text": [
      "step_size=0.18149353563785553\n",
      "max_step_size=0.19878989458084106\n",
      "broken_traj=2717\n",
      "Runtime: 306.86s\n",
      "\n",
      "Processing dimension 256\n",
      "--------------------------------------------------------------------------------\n",
      "Running HMCVanilla\n",
      "number of blocks: 3\n",
      "processing block: 1\n"
     ]
    },
    {
     "data": {
      "application/vnd.jupyter.widget-view+json": {
       "model_id": "96ce3f62530e4e6db66f47d1b2c6b815",
       "version_major": 2,
       "version_minor": 0
      },
      "text/plain": [
       "  0%|          | 0/2500 [00:00<?, ?it/s]"
      ]
     },
     "metadata": {},
     "output_type": "display_data"
    },
    {
     "name": "stdout",
     "output_type": "stream",
     "text": [
      "step_size=0.12422403693199158\n",
      "max_step_size=0.2499845176935196\n",
      "broken_traj=2256\n",
      "processing block: 2\n"
     ]
    },
    {
     "data": {
      "application/vnd.jupyter.widget-view+json": {
       "model_id": "56f064b51283427daddfff6b3aac38d3",
       "version_major": 2,
       "version_minor": 0
      },
      "text/plain": [
       "  0%|          | 0/5000 [00:00<?, ?it/s]"
      ]
     },
     "metadata": {},
     "output_type": "display_data"
    },
    {
     "name": "stdout",
     "output_type": "stream",
     "text": [
      "step_size=0.10787077993154526\n",
      "max_step_size=0.2439591884613037\n",
      "broken_traj=2334\n",
      "processing block: 3\n"
     ]
    },
    {
     "data": {
      "application/vnd.jupyter.widget-view+json": {
       "model_id": "ba1ed080944c46d4a6865f8efdb267a4",
       "version_major": 2,
       "version_minor": 0
      },
      "text/plain": [
       "  0%|          | 0/5000 [00:00<?, ?it/s]"
      ]
     },
     "metadata": {},
     "output_type": "display_data"
    },
    {
     "name": "stdout",
     "output_type": "stream",
     "text": [
      "step_size=0.128115713596344\n",
      "max_step_size=0.13469460606575012\n",
      "broken_traj=3783\n",
      "Runtime: 210.49s\n",
      "--------------------------------------------------------------------------------\n",
      "Running HMCAdaptiveHutchTaylorNoGrad\n",
      "number of blocks: 3\n",
      "processing block: 1\n"
     ]
    },
    {
     "data": {
      "application/vnd.jupyter.widget-view+json": {
       "model_id": "39305ccd2c0747e191a9889293adb5f1",
       "version_major": 2,
       "version_minor": 0
      },
      "text/plain": [
       "  0%|          | 0/2500 [00:00<?, ?it/s]"
      ]
     },
     "metadata": {},
     "output_type": "display_data"
    },
    {
     "name": "stdout",
     "output_type": "stream",
     "text": [
      "step_size=0.12012254446744919\n",
      "max_step_size=0.2463470846414566\n",
      "broken_traj=2349\n",
      "processing block: 2\n"
     ]
    },
    {
     "data": {
      "application/vnd.jupyter.widget-view+json": {
       "model_id": "ccd01f8a60454f3c92bcff4122b5b00f",
       "version_major": 2,
       "version_minor": 0
      },
      "text/plain": [
       "  0%|          | 0/5000 [00:00<?, ?it/s]"
      ]
     },
     "metadata": {},
     "output_type": "display_data"
    },
    {
     "name": "stdout",
     "output_type": "stream",
     "text": [
      "step_size=0.11572610586881638\n",
      "max_step_size=0.24493926763534546\n",
      "broken_traj=2368\n",
      "processing block: 3\n"
     ]
    },
    {
     "data": {
      "application/vnd.jupyter.widget-view+json": {
       "model_id": "076d025b709a479689aef1becd8fd0ad",
       "version_major": 2,
       "version_minor": 0
      },
      "text/plain": [
       "  0%|          | 0/5000 [00:00<?, ?it/s]"
      ]
     },
     "metadata": {},
     "output_type": "display_data"
    },
    {
     "name": "stdout",
     "output_type": "stream",
     "text": [
      "step_size=0.20237381756305695\n",
      "max_step_size=0.22824160754680634\n",
      "broken_traj=2495\n",
      "Runtime: 313.21s\n",
      "--------------------------------------------------------------------------------\n",
      "Running HMCAdaptiveHutchLanczosNoGrad\n",
      "number of blocks: 3\n",
      "processing block: 1\n"
     ]
    },
    {
     "data": {
      "application/vnd.jupyter.widget-view+json": {
       "model_id": "b8176aee12564b95a1ae5c96c33353ac",
       "version_major": 2,
       "version_minor": 0
      },
      "text/plain": [
       "  0%|          | 0/2500 [00:00<?, ?it/s]"
      ]
     },
     "metadata": {},
     "output_type": "display_data"
    },
    {
     "name": "stdout",
     "output_type": "stream",
     "text": [
      "step_size=0.12263397872447968\n",
      "max_step_size=0.23484817147254944\n",
      "broken_traj=2459\n",
      "processing block: 2\n"
     ]
    },
    {
     "data": {
      "application/vnd.jupyter.widget-view+json": {
       "model_id": "8374964a7155445a9c7ef1ee8f1701b7",
       "version_major": 2,
       "version_minor": 0
      },
      "text/plain": [
       "  0%|          | 0/5000 [00:00<?, ?it/s]"
      ]
     },
     "metadata": {},
     "output_type": "display_data"
    },
    {
     "name": "stdout",
     "output_type": "stream",
     "text": [
      "step_size=0.11763852089643478\n",
      "max_step_size=0.2331651747226715\n",
      "broken_traj=2481\n",
      "processing block: 3\n"
     ]
    },
    {
     "data": {
      "application/vnd.jupyter.widget-view+json": {
       "model_id": "c8790e02aa1b49de966077d9ac126edd",
       "version_major": 2,
       "version_minor": 0
      },
      "text/plain": [
       "  0%|          | 0/5000 [00:00<?, ?it/s]"
      ]
     },
     "metadata": {},
     "output_type": "display_data"
    },
    {
     "name": "stdout",
     "output_type": "stream",
     "text": [
      "step_size=0.17047105729579926\n",
      "max_step_size=0.19574975967407227\n",
      "broken_traj=2854\n",
      "Runtime: 352.00s\n",
      "\n"
     ]
    },
    {
     "data": {
      "application/vnd.jupyter.widget-view+json": {
       "model_id": "96f45d98e7584345a9b18036289d3d2f",
       "version_major": 2,
       "version_minor": 0
      },
      "text/plain": [
       "dimension:   0%|          | 0/6 [00:00<?, ?it/s]"
      ]
     },
     "metadata": {},
     "output_type": "display_data"
    },
    {
     "data": {
      "application/vnd.jupyter.widget-view+json": {
       "model_id": "0523bc8b27be4da88e821bd5057e701f",
       "version_major": 2,
       "version_minor": 0
      },
      "text/plain": [
       "alg:   0%|          | 0/3 [00:00<?, ?it/s]"
      ]
     },
     "metadata": {},
     "output_type": "display_data"
    },
    {
     "name": "stdout",
     "output_type": "stream",
     "text": [
      "\n",
      "dim=8, dist=funnel\n",
      "                 hmc_vanilla  taylor_nograd  lanczos_nograd\n",
      "ess_mean           0.367812       0.279235        0.372674\n",
      "ess_conf_sigma     0.032698       0.027681        0.032721\n",
      "tv_mean            0.080678       0.079229        0.081794\n",
      "tv_conf_sigma      0.005767       0.004978        0.005584\n",
      "runtime          147.163792     225.003660      249.299088\n",
      "chains_kept       30.000000      30.000000       30.000000\n",
      "{8:             alg_A          alg_B  z(ESS_A>B)  p(ESS_A>B)  z(TV_A<B)  p(TV_A<B)\n",
      "0  lanczos_nograd  taylor_nograd    2.180164    0.014623  -0.342856   0.634147\n",
      "1  lanczos_nograd    hmc_vanilla    0.105119    0.458141  -0.139049   0.555294\n",
      "2   taylor_nograd    hmc_vanilla   -2.067552    0.980659   0.190158   0.424593}\n"
     ]
    },
    {
     "data": {
      "application/vnd.jupyter.widget-view+json": {
       "model_id": "1cadabcebfa644f3b087ca90dd7605f2",
       "version_major": 2,
       "version_minor": 0
      },
      "text/plain": [
       "alg:   0%|          | 0/3 [00:00<?, ?it/s]"
      ]
     },
     "metadata": {},
     "output_type": "display_data"
    },
    {
     "name": "stdout",
     "output_type": "stream",
     "text": [
      "\n",
      "dim=16, dist=funnel\n",
      "                 hmc_vanilla  taylor_nograd  lanczos_nograd\n",
      "ess_mean           0.491862       0.360422        0.376806\n",
      "ess_conf_sigma     0.031591       0.032868        0.035644\n",
      "tv_mean            0.071758       0.075204        0.068962\n",
      "tv_conf_sigma      0.003934       0.005696        0.004031\n",
      "runtime          144.704451     226.697040      249.359480\n",
      "chains_kept       30.000000      30.000000       30.000000\n",
      "{8:             alg_A          alg_B  z(ESS_A>B)  p(ESS_A>B)  z(TV_A<B)  p(TV_A<B)\n",
      "0  lanczos_nograd  taylor_nograd    2.180164    0.014623  -0.342856   0.634147\n",
      "1  lanczos_nograd    hmc_vanilla    0.105119    0.458141  -0.139049   0.555294\n",
      "2   taylor_nograd    hmc_vanilla   -2.067552    0.980659   0.190158   0.424593, 16:             alg_A          alg_B  z(ESS_A>B)  p(ESS_A>B)  z(TV_A<B)  p(TV_A<B)\n",
      "0  lanczos_nograd  taylor_nograd    0.337935    0.367706   0.894490   0.185530\n",
      "1  lanczos_nograd    hmc_vanilla   -2.415674    0.992147   0.496339   0.309828\n",
      "2   taylor_nograd    hmc_vanilla   -2.883181    0.998032  -0.497794   0.690686}\n"
     ]
    },
    {
     "data": {
      "application/vnd.jupyter.widget-view+json": {
       "model_id": "646e37b3cfa74563adcf32163566811a",
       "version_major": 2,
       "version_minor": 0
      },
      "text/plain": [
       "alg:   0%|          | 0/3 [00:00<?, ?it/s]"
      ]
     },
     "metadata": {},
     "output_type": "display_data"
    },
    {
     "name": "stdout",
     "output_type": "stream",
     "text": [
      "\n",
      "dim=32, dist=funnel\n",
      "                 hmc_vanilla  taylor_nograd  lanczos_nograd\n",
      "ess_mean           0.398725       0.327946        0.360079\n",
      "ess_conf_sigma     0.039212       0.035338        0.035056\n",
      "tv_mean            0.075138       0.071793        0.086615\n",
      "tv_conf_sigma      0.005134       0.003477        0.006233\n",
      "runtime          157.752346     239.445935      263.742458\n",
      "chains_kept       30.000000      30.000000       30.000000\n",
      "{8:             alg_A          alg_B  z(ESS_A>B)  p(ESS_A>B)  z(TV_A<B)  p(TV_A<B)\n",
      "0  lanczos_nograd  taylor_nograd    2.180164    0.014623  -0.342856   0.634147\n",
      "1  lanczos_nograd    hmc_vanilla    0.105119    0.458141  -0.139049   0.555294\n",
      "2   taylor_nograd    hmc_vanilla   -2.067552    0.980659   0.190158   0.424593, 16:             alg_A          alg_B  z(ESS_A>B)  p(ESS_A>B)  z(TV_A<B)  p(TV_A<B)\n",
      "0  lanczos_nograd  taylor_nograd    0.337935    0.367706   0.894490   0.185530\n",
      "1  lanczos_nograd    hmc_vanilla   -2.415674    0.992147   0.496339   0.309828\n",
      "2   taylor_nograd    hmc_vanilla   -2.883181    0.998032  -0.497794   0.690686, 32:             alg_A          alg_B  z(ESS_A>B)  p(ESS_A>B)  z(TV_A<B)  p(TV_A<B)\n",
      "0  lanczos_nograd  taylor_nograd    0.645556    0.259283  -2.076561   0.981079\n",
      "1  lanczos_nograd    hmc_vanilla   -0.734744    0.768752  -1.421160   0.922365\n",
      "2   taylor_nograd    hmc_vanilla   -1.340877    0.910020   0.539380   0.294812}\n"
     ]
    },
    {
     "data": {
      "application/vnd.jupyter.widget-view+json": {
       "model_id": "36bcda1ec28a4fcbb46fb509ff2884f9",
       "version_major": 2,
       "version_minor": 0
      },
      "text/plain": [
       "alg:   0%|          | 0/3 [00:00<?, ?it/s]"
      ]
     },
     "metadata": {},
     "output_type": "display_data"
    },
    {
     "name": "stdout",
     "output_type": "stream",
     "text": [
      "\n",
      "dim=64, dist=funnel\n",
      "                 hmc_vanilla  taylor_nograd  lanczos_nograd\n",
      "ess_mean           0.374297       0.342227        0.347116\n",
      "ess_conf_sigma     0.037613       0.029601        0.025834\n",
      "tv_mean            0.089318       0.088392        0.086077\n",
      "tv_conf_sigma      0.006638       0.006411        0.006744\n",
      "runtime          168.697186     254.903678      280.521268\n",
      "chains_kept       30.000000      30.000000       30.000000\n",
      "{8:             alg_A          alg_B  z(ESS_A>B)  p(ESS_A>B)  z(TV_A<B)  p(TV_A<B)\n",
      "0  lanczos_nograd  taylor_nograd    2.180164    0.014623  -0.342856   0.634147\n",
      "1  lanczos_nograd    hmc_vanilla    0.105119    0.458141  -0.139049   0.555294\n",
      "2   taylor_nograd    hmc_vanilla   -2.067552    0.980659   0.190158   0.424593, 16:             alg_A          alg_B  z(ESS_A>B)  p(ESS_A>B)  z(TV_A<B)  p(TV_A<B)\n",
      "0  lanczos_nograd  taylor_nograd    0.337935    0.367706   0.894490   0.185530\n",
      "1  lanczos_nograd    hmc_vanilla   -2.415674    0.992147   0.496339   0.309828\n",
      "2   taylor_nograd    hmc_vanilla   -2.883181    0.998032  -0.497794   0.690686, 32:             alg_A          alg_B  z(ESS_A>B)  p(ESS_A>B)  z(TV_A<B)  p(TV_A<B)\n",
      "0  lanczos_nograd  taylor_nograd    0.645556    0.259283  -2.076561   0.981079\n",
      "1  lanczos_nograd    hmc_vanilla   -0.734744    0.768752  -1.421160   0.922365\n",
      "2   taylor_nograd    hmc_vanilla   -1.340877    0.910020   0.539380   0.294812, 64:             alg_A          alg_B  z(ESS_A>B)  p(ESS_A>B)  z(TV_A<B)  p(TV_A<B)\n",
      "0  lanczos_nograd  taylor_nograd    0.124458    0.450476   0.248876   0.401728\n",
      "1  lanczos_nograd    hmc_vanilla   -0.595671    0.724302   0.342545   0.365970\n",
      "2   taylor_nograd    hmc_vanilla   -0.670032    0.748581   0.100304   0.460052}\n"
     ]
    },
    {
     "data": {
      "application/vnd.jupyter.widget-view+json": {
       "model_id": "c138ebd9de9b4a10bc54ca4153890b7a",
       "version_major": 2,
       "version_minor": 0
      },
      "text/plain": [
       "alg:   0%|          | 0/3 [00:00<?, ?it/s]"
      ]
     },
     "metadata": {},
     "output_type": "display_data"
    },
    {
     "name": "stdout",
     "output_type": "stream",
     "text": [
      "\n",
      "dim=128, dist=funnel\n",
      "                 hmc_vanilla  taylor_nograd  lanczos_nograd\n",
      "ess_mean           0.424754       0.337691        0.361284\n",
      "ess_conf_sigma     0.029597       0.026845        0.025323\n",
      "tv_mean            0.122210       0.137041        0.132885\n",
      "tv_conf_sigma      0.010035       0.012271        0.008877\n",
      "runtime          181.422723     275.347867      305.566977\n",
      "chains_kept       30.000000      30.000000       30.000000\n",
      "{8:             alg_A          alg_B  z(ESS_A>B)  p(ESS_A>B)  z(TV_A<B)  p(TV_A<B)\n",
      "0  lanczos_nograd  taylor_nograd    2.180164    0.014623  -0.342856   0.634147\n",
      "1  lanczos_nograd    hmc_vanilla    0.105119    0.458141  -0.139049   0.555294\n",
      "2   taylor_nograd    hmc_vanilla   -2.067552    0.980659   0.190158   0.424593, 16:             alg_A          alg_B  z(ESS_A>B)  p(ESS_A>B)  z(TV_A<B)  p(TV_A<B)\n",
      "0  lanczos_nograd  taylor_nograd    0.337935    0.367706   0.894490   0.185530\n",
      "1  lanczos_nograd    hmc_vanilla   -2.415674    0.992147   0.496339   0.309828\n",
      "2   taylor_nograd    hmc_vanilla   -2.883181    0.998032  -0.497794   0.690686, 32:             alg_A          alg_B  z(ESS_A>B)  p(ESS_A>B)  z(TV_A<B)  p(TV_A<B)\n",
      "0  lanczos_nograd  taylor_nograd    0.645556    0.259283  -2.076561   0.981079\n",
      "1  lanczos_nograd    hmc_vanilla   -0.734744    0.768752  -1.421160   0.922365\n",
      "2   taylor_nograd    hmc_vanilla   -1.340877    0.910020   0.539380   0.294812, 64:             alg_A          alg_B  z(ESS_A>B)  p(ESS_A>B)  z(TV_A<B)  p(TV_A<B)\n",
      "0  lanczos_nograd  taylor_nograd    0.124458    0.450476   0.248876   0.401728\n",
      "1  lanczos_nograd    hmc_vanilla   -0.595671    0.724302   0.342545   0.365970\n",
      "2   taylor_nograd    hmc_vanilla   -0.670032    0.748581   0.100304   0.460052, 128:             alg_A          alg_B  z(ESS_A>B)  p(ESS_A>B)  z(TV_A<B)  p(TV_A<B)\n",
      "0  lanczos_nograd  taylor_nograd    0.639307    0.261312   0.274407   0.391886\n",
      "1  lanczos_nograd    hmc_vanilla   -1.629472    0.948393  -0.796776   0.787209\n",
      "2   taylor_nograd    hmc_vanilla   -2.178876    0.985330  -0.935619   0.825265}\n"
     ]
    },
    {
     "data": {
      "application/vnd.jupyter.widget-view+json": {
       "model_id": "7542f988fbf3432c9c68866bf7f7e0c3",
       "version_major": 2,
       "version_minor": 0
      },
      "text/plain": [
       "alg:   0%|          | 0/3 [00:00<?, ?it/s]"
      ]
     },
     "metadata": {},
     "output_type": "display_data"
    },
    {
     "name": "stdout",
     "output_type": "stream",
     "text": [
      "\n",
      "dim=256, dist=funnel\n",
      "                 hmc_vanilla  taylor_nograd  lanczos_nograd\n",
      "ess_mean           0.294035       0.366050        0.391093\n",
      "ess_conf_sigma     0.039217       0.025829        0.029941\n",
      "tv_mean            0.161853       0.156756        0.153118\n",
      "tv_conf_sigma      0.014372       0.016294        0.017091\n",
      "runtime          209.692966     312.014819      350.588082\n",
      "chains_kept       30.000000      30.000000       30.000000\n",
      "{8:             alg_A          alg_B  z(ESS_A>B)  p(ESS_A>B)  z(TV_A<B)  p(TV_A<B)\n",
      "0  lanczos_nograd  taylor_nograd    2.180164    0.014623  -0.342856   0.634147\n",
      "1  lanczos_nograd    hmc_vanilla    0.105119    0.458141  -0.139049   0.555294\n",
      "2   taylor_nograd    hmc_vanilla   -2.067552    0.980659   0.190158   0.424593, 16:             alg_A          alg_B  z(ESS_A>B)  p(ESS_A>B)  z(TV_A<B)  p(TV_A<B)\n",
      "0  lanczos_nograd  taylor_nograd    0.337935    0.367706   0.894490   0.185530\n",
      "1  lanczos_nograd    hmc_vanilla   -2.415674    0.992147   0.496339   0.309828\n",
      "2   taylor_nograd    hmc_vanilla   -2.883181    0.998032  -0.497794   0.690686, 32:             alg_A          alg_B  z(ESS_A>B)  p(ESS_A>B)  z(TV_A<B)  p(TV_A<B)\n",
      "0  lanczos_nograd  taylor_nograd    0.645556    0.259283  -2.076561   0.981079\n",
      "1  lanczos_nograd    hmc_vanilla   -0.734744    0.768752  -1.421160   0.922365\n",
      "2   taylor_nograd    hmc_vanilla   -1.340877    0.910020   0.539380   0.294812, 64:             alg_A          alg_B  z(ESS_A>B)  p(ESS_A>B)  z(TV_A<B)  p(TV_A<B)\n",
      "0  lanczos_nograd  taylor_nograd    0.124458    0.450476   0.248876   0.401728\n",
      "1  lanczos_nograd    hmc_vanilla   -0.595671    0.724302   0.342545   0.365970\n",
      "2   taylor_nograd    hmc_vanilla   -0.670032    0.748581   0.100304   0.460052, 128:             alg_A          alg_B  z(ESS_A>B)  p(ESS_A>B)  z(TV_A<B)  p(TV_A<B)\n",
      "0  lanczos_nograd  taylor_nograd    0.639307    0.261312   0.274407   0.391886\n",
      "1  lanczos_nograd    hmc_vanilla   -1.629472    0.948393  -0.796776   0.787209\n",
      "2   taylor_nograd    hmc_vanilla   -2.178876    0.985330  -0.935619   0.825265, 256:             alg_A          alg_B  z(ESS_A>B)  p(ESS_A>B)  z(TV_A<B)  p(TV_A<B)\n",
      "0  lanczos_nograd  taylor_nograd    0.633311    0.263265   0.154044   0.438787\n",
      "1  lanczos_nograd    hmc_vanilla    1.967099    0.024586   0.391142   0.347846\n",
      "2   taylor_nograd    hmc_vanilla    1.533583    0.062566   0.234593   0.407262}\n"
     ]
    },
    {
     "data": {
      "application/vnd.jupyter.widget-view+json": {
       "model_id": "15da9c3a44d44bacb1a4e363b21c9748",
       "version_major": 2,
       "version_minor": 0
      },
      "text/plain": [
       "  0%|          | 0/6 [00:00<?, ?it/s]"
      ]
     },
     "metadata": {},
     "output_type": "display_data"
    },
    {
     "name": "stdout",
     "output_type": "stream",
     "text": [
      "Processing dimension 8\n",
      "--------------------------------------------------------------------------------\n",
      "Running HMCVanilla\n",
      "number of blocks: 3\n",
      "processing block: 1\n"
     ]
    },
    {
     "data": {
      "application/vnd.jupyter.widget-view+json": {
       "model_id": "c5ac9a52855f4064aa072d29f23b0da9",
       "version_major": 2,
       "version_minor": 0
      },
      "text/plain": [
       "  0%|          | 0/2500 [00:00<?, ?it/s]"
      ]
     },
     "metadata": {},
     "output_type": "display_data"
    },
    {
     "name": "stdout",
     "output_type": "stream",
     "text": [
      "step_size=0.5\n",
      "max_step_size=0.5\n",
      "broken_traj=0\n",
      "processing block: 2\n"
     ]
    },
    {
     "data": {
      "application/vnd.jupyter.widget-view+json": {
       "model_id": "822aa48d79fc483ea4c21d3239186628",
       "version_major": 2,
       "version_minor": 0
      },
      "text/plain": [
       "  0%|          | 0/5000 [00:00<?, ?it/s]"
      ]
     },
     "metadata": {},
     "output_type": "display_data"
    },
    {
     "name": "stdout",
     "output_type": "stream",
     "text": [
      "step_size=0.5\n",
      "max_step_size=0.5\n",
      "broken_traj=0\n",
      "processing block: 3\n"
     ]
    },
    {
     "data": {
      "application/vnd.jupyter.widget-view+json": {
       "model_id": "ae831b4bd4524b0181d1b627d45f8357",
       "version_major": 2,
       "version_minor": 0
      },
      "text/plain": [
       "  0%|          | 0/5000 [00:00<?, ?it/s]"
      ]
     },
     "metadata": {},
     "output_type": "display_data"
    },
    {
     "name": "stdout",
     "output_type": "stream",
     "text": [
      "step_size=0.5\n",
      "max_step_size=0.5\n",
      "broken_traj=0\n",
      "Runtime: 242.89s\n",
      "--------------------------------------------------------------------------------\n",
      "Running HMCAdaptiveHutchTaylorNoGrad\n",
      "number of blocks: 3\n",
      "processing block: 1\n"
     ]
    },
    {
     "data": {
      "application/vnd.jupyter.widget-view+json": {
       "model_id": "1b756adb595a46dea586bb33b64e617c",
       "version_major": 2,
       "version_minor": 0
      },
      "text/plain": [
       "  0%|          | 0/2500 [00:00<?, ?it/s]"
      ]
     },
     "metadata": {},
     "output_type": "display_data"
    },
    {
     "name": "stdout",
     "output_type": "stream",
     "text": [
      "step_size=0.49999648332595825\n",
      "max_step_size=0.5\n",
      "broken_traj=0\n",
      "processing block: 2\n"
     ]
    },
    {
     "data": {
      "application/vnd.jupyter.widget-view+json": {
       "model_id": "ca76efb747754294ae92fbf4d86bf997",
       "version_major": 2,
       "version_minor": 0
      },
      "text/plain": [
       "  0%|          | 0/5000 [00:00<?, ?it/s]"
      ]
     },
     "metadata": {},
     "output_type": "display_data"
    },
    {
     "name": "stdout",
     "output_type": "stream",
     "text": [
      "step_size=0.49999648332595825\n",
      "max_step_size=0.5\n",
      "broken_traj=0\n",
      "processing block: 3\n"
     ]
    },
    {
     "data": {
      "application/vnd.jupyter.widget-view+json": {
       "model_id": "f6e6862315844f0d9d173fdfacf047dd",
       "version_major": 2,
       "version_minor": 0
      },
      "text/plain": [
       "  0%|          | 0/5000 [00:00<?, ?it/s]"
      ]
     },
     "metadata": {},
     "output_type": "display_data"
    },
    {
     "name": "stdout",
     "output_type": "stream",
     "text": [
      "step_size=0.5\n",
      "max_step_size=0.5\n",
      "broken_traj=0\n",
      "Runtime: 382.55s\n",
      "--------------------------------------------------------------------------------\n",
      "Running HMCAdaptiveHutchLanczosNoGrad\n",
      "number of blocks: 3\n",
      "processing block: 1\n"
     ]
    },
    {
     "data": {
      "application/vnd.jupyter.widget-view+json": {
       "model_id": "18aada9ca2be424f8510abca6e2f67cd",
       "version_major": 2,
       "version_minor": 0
      },
      "text/plain": [
       "  0%|          | 0/2500 [00:00<?, ?it/s]"
      ]
     },
     "metadata": {},
     "output_type": "display_data"
    },
    {
     "name": "stdout",
     "output_type": "stream",
     "text": [
      "step_size=0.5\n",
      "max_step_size=0.5\n",
      "broken_traj=0\n",
      "processing block: 2\n"
     ]
    },
    {
     "data": {
      "application/vnd.jupyter.widget-view+json": {
       "model_id": "ae91b58beef24e9abd45d01bf3c28556",
       "version_major": 2,
       "version_minor": 0
      },
      "text/plain": [
       "  0%|          | 0/5000 [00:00<?, ?it/s]"
      ]
     },
     "metadata": {},
     "output_type": "display_data"
    },
    {
     "name": "stdout",
     "output_type": "stream",
     "text": [
      "step_size=0.5\n",
      "max_step_size=0.5\n",
      "broken_traj=0\n",
      "processing block: 3\n"
     ]
    },
    {
     "data": {
      "application/vnd.jupyter.widget-view+json": {
       "model_id": "0d932695830946e7abad78aa97b01cc3",
       "version_major": 2,
       "version_minor": 0
      },
      "text/plain": [
       "  0%|          | 0/5000 [00:00<?, ?it/s]"
      ]
     },
     "metadata": {},
     "output_type": "display_data"
    },
    {
     "name": "stdout",
     "output_type": "stream",
     "text": [
      "step_size=0.5\n",
      "max_step_size=0.5\n",
      "broken_traj=0\n",
      "Runtime: 414.32s\n",
      "\n",
      "Processing dimension 16\n",
      "--------------------------------------------------------------------------------\n",
      "Running HMCVanilla\n",
      "number of blocks: 3\n",
      "processing block: 1\n"
     ]
    },
    {
     "data": {
      "application/vnd.jupyter.widget-view+json": {
       "model_id": "88a9cfeca893463e98e77a6f1794e420",
       "version_major": 2,
       "version_minor": 0
      },
      "text/plain": [
       "  0%|          | 0/2500 [00:00<?, ?it/s]"
      ]
     },
     "metadata": {},
     "output_type": "display_data"
    },
    {
     "name": "stdout",
     "output_type": "stream",
     "text": [
      "step_size=0.4999445676803589\n",
      "max_step_size=0.5\n",
      "broken_traj=0\n",
      "processing block: 2\n"
     ]
    },
    {
     "data": {
      "application/vnd.jupyter.widget-view+json": {
       "model_id": "c4c50a2eca7441c6bf3d850110dec714",
       "version_major": 2,
       "version_minor": 0
      },
      "text/plain": [
       "  0%|          | 0/5000 [00:00<?, ?it/s]"
      ]
     },
     "metadata": {},
     "output_type": "display_data"
    },
    {
     "name": "stdout",
     "output_type": "stream",
     "text": [
      "step_size=0.4999445676803589\n",
      "max_step_size=0.5\n",
      "broken_traj=0\n",
      "processing block: 3\n"
     ]
    },
    {
     "data": {
      "application/vnd.jupyter.widget-view+json": {
       "model_id": "e67191f448274a028fe1a3f927242657",
       "version_major": 2,
       "version_minor": 0
      },
      "text/plain": [
       "  0%|          | 0/5000 [00:00<?, ?it/s]"
      ]
     },
     "metadata": {},
     "output_type": "display_data"
    },
    {
     "name": "stdout",
     "output_type": "stream",
     "text": [
      "step_size=0.5\n",
      "max_step_size=0.5\n",
      "broken_traj=0\n",
      "Runtime: 255.79s\n",
      "--------------------------------------------------------------------------------\n",
      "Running HMCAdaptiveHutchTaylorNoGrad\n",
      "number of blocks: 3\n",
      "processing block: 1\n"
     ]
    },
    {
     "data": {
      "application/vnd.jupyter.widget-view+json": {
       "model_id": "5d3c65f8a68d497da2ce0a841e031d41",
       "version_major": 2,
       "version_minor": 0
      },
      "text/plain": [
       "  0%|          | 0/2500 [00:00<?, ?it/s]"
      ]
     },
     "metadata": {},
     "output_type": "display_data"
    },
    {
     "name": "stdout",
     "output_type": "stream",
     "text": [
      "step_size=0.5\n",
      "max_step_size=0.5\n",
      "broken_traj=0\n",
      "processing block: 2\n"
     ]
    },
    {
     "data": {
      "application/vnd.jupyter.widget-view+json": {
       "model_id": "ce4a371d698f4884880d594cdd0a4cae",
       "version_major": 2,
       "version_minor": 0
      },
      "text/plain": [
       "  0%|          | 0/5000 [00:00<?, ?it/s]"
      ]
     },
     "metadata": {},
     "output_type": "display_data"
    },
    {
     "name": "stdout",
     "output_type": "stream",
     "text": [
      "step_size=0.5\n",
      "max_step_size=0.5\n",
      "broken_traj=0\n",
      "processing block: 3\n"
     ]
    },
    {
     "data": {
      "application/vnd.jupyter.widget-view+json": {
       "model_id": "d451710b1d874195a1e0c9727d6408b6",
       "version_major": 2,
       "version_minor": 0
      },
      "text/plain": [
       "  0%|          | 0/5000 [00:00<?, ?it/s]"
      ]
     },
     "metadata": {},
     "output_type": "display_data"
    },
    {
     "name": "stdout",
     "output_type": "stream",
     "text": [
      "step_size=0.5\n",
      "max_step_size=0.5\n",
      "broken_traj=0\n",
      "Runtime: 404.04s\n",
      "--------------------------------------------------------------------------------\n",
      "Running HMCAdaptiveHutchLanczosNoGrad\n",
      "number of blocks: 3\n",
      "processing block: 1\n"
     ]
    },
    {
     "data": {
      "application/vnd.jupyter.widget-view+json": {
       "model_id": "01de0c177482457b95eae26697171559",
       "version_major": 2,
       "version_minor": 0
      },
      "text/plain": [
       "  0%|          | 0/2500 [00:00<?, ?it/s]"
      ]
     },
     "metadata": {},
     "output_type": "display_data"
    },
    {
     "name": "stdout",
     "output_type": "stream",
     "text": [
      "step_size=0.5\n",
      "max_step_size=0.5\n",
      "broken_traj=0\n",
      "processing block: 2\n"
     ]
    },
    {
     "data": {
      "application/vnd.jupyter.widget-view+json": {
       "model_id": "ce864d40840a4b138e01a60fc3e2b252",
       "version_major": 2,
       "version_minor": 0
      },
      "text/plain": [
       "  0%|          | 0/5000 [00:00<?, ?it/s]"
      ]
     },
     "metadata": {},
     "output_type": "display_data"
    },
    {
     "name": "stdout",
     "output_type": "stream",
     "text": [
      "step_size=0.5\n",
      "max_step_size=0.5\n",
      "broken_traj=0\n",
      "processing block: 3\n"
     ]
    },
    {
     "data": {
      "application/vnd.jupyter.widget-view+json": {
       "model_id": "7f1275158d9b48c0823ea4a3027bdc61",
       "version_major": 2,
       "version_minor": 0
      },
      "text/plain": [
       "  0%|          | 0/5000 [00:00<?, ?it/s]"
      ]
     },
     "metadata": {},
     "output_type": "display_data"
    },
    {
     "name": "stdout",
     "output_type": "stream",
     "text": [
      "step_size=0.5\n",
      "max_step_size=0.5\n",
      "broken_traj=0\n",
      "Runtime: 440.82s\n",
      "\n",
      "Processing dimension 32\n",
      "--------------------------------------------------------------------------------\n",
      "Running HMCVanilla\n",
      "number of blocks: 3\n",
      "processing block: 1\n"
     ]
    },
    {
     "data": {
      "application/vnd.jupyter.widget-view+json": {
       "model_id": "03fe12a2b56e440c9ef182ac5856d64f",
       "version_major": 2,
       "version_minor": 0
      },
      "text/plain": [
       "  0%|          | 0/2500 [00:00<?, ?it/s]"
      ]
     },
     "metadata": {},
     "output_type": "display_data"
    },
    {
     "name": "stdout",
     "output_type": "stream",
     "text": [
      "step_size=0.49963733553886414\n",
      "max_step_size=0.5\n",
      "broken_traj=0\n",
      "processing block: 2\n"
     ]
    },
    {
     "data": {
      "application/vnd.jupyter.widget-view+json": {
       "model_id": "0842aef6b4684ba68767c4a77294d963",
       "version_major": 2,
       "version_minor": 0
      },
      "text/plain": [
       "  0%|          | 0/5000 [00:00<?, ?it/s]"
      ]
     },
     "metadata": {},
     "output_type": "display_data"
    },
    {
     "name": "stdout",
     "output_type": "stream",
     "text": [
      "step_size=0.49963733553886414\n",
      "max_step_size=0.5\n",
      "broken_traj=0\n",
      "processing block: 3\n"
     ]
    },
    {
     "data": {
      "application/vnd.jupyter.widget-view+json": {
       "model_id": "32b81949d92d486d943fca6830373069",
       "version_major": 2,
       "version_minor": 0
      },
      "text/plain": [
       "  0%|          | 0/5000 [00:00<?, ?it/s]"
      ]
     },
     "metadata": {},
     "output_type": "display_data"
    },
    {
     "name": "stdout",
     "output_type": "stream",
     "text": [
      "step_size=0.4993501603603363\n",
      "max_step_size=0.5\n",
      "broken_traj=0\n",
      "Runtime: 304.96s\n",
      "--------------------------------------------------------------------------------\n",
      "Running HMCAdaptiveHutchTaylorNoGrad\n",
      "number of blocks: 3\n",
      "processing block: 1\n"
     ]
    },
    {
     "data": {
      "application/vnd.jupyter.widget-view+json": {
       "model_id": "86454465d2cf4d9180faaa911b6dea49",
       "version_major": 2,
       "version_minor": 0
      },
      "text/plain": [
       "  0%|          | 0/2500 [00:00<?, ?it/s]"
      ]
     },
     "metadata": {},
     "output_type": "display_data"
    },
    {
     "name": "stdout",
     "output_type": "stream",
     "text": [
      "step_size=0.4996991753578186\n",
      "max_step_size=0.5\n",
      "broken_traj=0\n",
      "processing block: 2\n"
     ]
    },
    {
     "data": {
      "application/vnd.jupyter.widget-view+json": {
       "model_id": "93afa38b314545849e2b17651c53e658",
       "version_major": 2,
       "version_minor": 0
      },
      "text/plain": [
       "  0%|          | 0/5000 [00:00<?, ?it/s]"
      ]
     },
     "metadata": {},
     "output_type": "display_data"
    },
    {
     "name": "stdout",
     "output_type": "stream",
     "text": [
      "step_size=0.4996991753578186\n",
      "max_step_size=0.5\n",
      "broken_traj=0\n",
      "processing block: 3\n"
     ]
    },
    {
     "data": {
      "application/vnd.jupyter.widget-view+json": {
       "model_id": "83af72c37f30409dbd169d4fd676b963",
       "version_major": 2,
       "version_minor": 0
      },
      "text/plain": [
       "  0%|          | 0/5000 [00:00<?, ?it/s]"
      ]
     },
     "metadata": {},
     "output_type": "display_data"
    },
    {
     "name": "stdout",
     "output_type": "stream",
     "text": [
      "step_size=0.5\n",
      "max_step_size=0.5\n",
      "broken_traj=0\n",
      "Runtime: 482.72s\n",
      "--------------------------------------------------------------------------------\n",
      "Running HMCAdaptiveHutchLanczosNoGrad\n",
      "number of blocks: 3\n",
      "processing block: 1\n"
     ]
    },
    {
     "data": {
      "application/vnd.jupyter.widget-view+json": {
       "model_id": "8b5814e0fc994737b4ee0a7870ab89c5",
       "version_major": 2,
       "version_minor": 0
      },
      "text/plain": [
       "  0%|          | 0/2500 [00:00<?, ?it/s]"
      ]
     },
     "metadata": {},
     "output_type": "display_data"
    },
    {
     "name": "stdout",
     "output_type": "stream",
     "text": [
      "step_size=0.4993985593318939\n",
      "max_step_size=0.5\n",
      "broken_traj=0\n",
      "processing block: 2\n"
     ]
    },
    {
     "data": {
      "application/vnd.jupyter.widget-view+json": {
       "model_id": "788ab8d4b80a4684aa8f0976d31a4b28",
       "version_major": 2,
       "version_minor": 0
      },
      "text/plain": [
       "  0%|          | 0/5000 [00:00<?, ?it/s]"
      ]
     },
     "metadata": {},
     "output_type": "display_data"
    },
    {
     "name": "stdout",
     "output_type": "stream",
     "text": [
      "step_size=0.4993985593318939\n",
      "max_step_size=0.5\n",
      "broken_traj=0\n",
      "processing block: 3\n"
     ]
    },
    {
     "data": {
      "application/vnd.jupyter.widget-view+json": {
       "model_id": "af2dc8921e1e4a2ab3501c5dab204965",
       "version_major": 2,
       "version_minor": 0
      },
      "text/plain": [
       "  0%|          | 0/5000 [00:00<?, ?it/s]"
      ]
     },
     "metadata": {},
     "output_type": "display_data"
    },
    {
     "name": "stdout",
     "output_type": "stream",
     "text": [
      "step_size=0.49921903014183044\n",
      "max_step_size=0.5\n",
      "broken_traj=0\n",
      "Runtime: 527.02s\n",
      "\n",
      "Processing dimension 64\n",
      "--------------------------------------------------------------------------------\n",
      "Running HMCVanilla\n",
      "number of blocks: 3\n",
      "processing block: 1\n"
     ]
    },
    {
     "data": {
      "application/vnd.jupyter.widget-view+json": {
       "model_id": "b8553fa71591462d9dadf0261e2c583b",
       "version_major": 2,
       "version_minor": 0
      },
      "text/plain": [
       "  0%|          | 0/2500 [00:00<?, ?it/s]"
      ]
     },
     "metadata": {},
     "output_type": "display_data"
    },
    {
     "name": "stdout",
     "output_type": "stream",
     "text": [
      "step_size=0.4985291659832001\n",
      "max_step_size=0.5\n",
      "broken_traj=0\n",
      "processing block: 2\n"
     ]
    },
    {
     "data": {
      "application/vnd.jupyter.widget-view+json": {
       "model_id": "d91917f6186245f8a3a9979f0dbd9818",
       "version_major": 2,
       "version_minor": 0
      },
      "text/plain": [
       "  0%|          | 0/5000 [00:00<?, ?it/s]"
      ]
     },
     "metadata": {},
     "output_type": "display_data"
    },
    {
     "name": "stdout",
     "output_type": "stream",
     "text": [
      "step_size=0.4985291659832001\n",
      "max_step_size=0.5\n",
      "broken_traj=0\n",
      "processing block: 3\n"
     ]
    },
    {
     "data": {
      "application/vnd.jupyter.widget-view+json": {
       "model_id": "7557997e0ce04c6f99415789f0d43e77",
       "version_major": 2,
       "version_minor": 0
      },
      "text/plain": [
       "  0%|          | 0/5000 [00:00<?, ?it/s]"
      ]
     },
     "metadata": {},
     "output_type": "display_data"
    },
    {
     "name": "stdout",
     "output_type": "stream",
     "text": [
      "step_size=0.4998823404312134\n",
      "max_step_size=0.5\n",
      "broken_traj=0\n",
      "Runtime: 429.02s\n",
      "--------------------------------------------------------------------------------\n",
      "Running HMCAdaptiveHutchTaylorNoGrad\n",
      "number of blocks: 3\n",
      "processing block: 1\n"
     ]
    },
    {
     "data": {
      "application/vnd.jupyter.widget-view+json": {
       "model_id": "d1db828986174e3b93cfd9107df8b23f",
       "version_major": 2,
       "version_minor": 0
      },
      "text/plain": [
       "  0%|          | 0/2500 [00:00<?, ?it/s]"
      ]
     },
     "metadata": {},
     "output_type": "display_data"
    },
    {
     "name": "stdout",
     "output_type": "stream",
     "text": [
      "step_size=0.49869775772094727\n",
      "max_step_size=0.5\n",
      "broken_traj=0\n",
      "processing block: 2\n"
     ]
    },
    {
     "data": {
      "application/vnd.jupyter.widget-view+json": {
       "model_id": "291144664dd3466683fa3d80cb3d1ced",
       "version_major": 2,
       "version_minor": 0
      },
      "text/plain": [
       "  0%|          | 0/5000 [00:00<?, ?it/s]"
      ]
     },
     "metadata": {},
     "output_type": "display_data"
    },
    {
     "name": "stdout",
     "output_type": "stream",
     "text": [
      "step_size=0.49869775772094727\n",
      "max_step_size=0.5\n",
      "broken_traj=0\n",
      "processing block: 3\n"
     ]
    },
    {
     "data": {
      "application/vnd.jupyter.widget-view+json": {
       "model_id": "507a1b006aa64124a9c47508fd0c2afc",
       "version_major": 2,
       "version_minor": 0
      },
      "text/plain": [
       "  0%|          | 0/5000 [00:00<?, ?it/s]"
      ]
     },
     "metadata": {},
     "output_type": "display_data"
    },
    {
     "name": "stdout",
     "output_type": "stream",
     "text": [
      "step_size=0.49997690320014954\n",
      "max_step_size=0.5\n",
      "broken_traj=0\n",
      "Runtime: 669.93s\n",
      "--------------------------------------------------------------------------------\n",
      "Running HMCAdaptiveHutchLanczosNoGrad\n",
      "number of blocks: 3\n",
      "processing block: 1\n"
     ]
    },
    {
     "data": {
      "application/vnd.jupyter.widget-view+json": {
       "model_id": "8b0e080013224793b99f11fd10381d18",
       "version_major": 2,
       "version_minor": 0
      },
      "text/plain": [
       "  0%|          | 0/2500 [00:00<?, ?it/s]"
      ]
     },
     "metadata": {},
     "output_type": "display_data"
    },
    {
     "name": "stdout",
     "output_type": "stream",
     "text": [
      "step_size=0.4993880093097687\n",
      "max_step_size=0.5\n",
      "broken_traj=0\n",
      "processing block: 2\n"
     ]
    },
    {
     "data": {
      "application/vnd.jupyter.widget-view+json": {
       "model_id": "f59dcb552fc04fbaaa26bd9fdd5559da",
       "version_major": 2,
       "version_minor": 0
      },
      "text/plain": [
       "  0%|          | 0/5000 [00:00<?, ?it/s]"
      ]
     },
     "metadata": {},
     "output_type": "display_data"
    },
    {
     "name": "stdout",
     "output_type": "stream",
     "text": [
      "step_size=0.4993880093097687\n",
      "max_step_size=0.5\n",
      "broken_traj=0\n",
      "processing block: 3\n"
     ]
    },
    {
     "data": {
      "application/vnd.jupyter.widget-view+json": {
       "model_id": "8208a71822634502986dd1e0b4b129ab",
       "version_major": 2,
       "version_minor": 0
      },
      "text/plain": [
       "  0%|          | 0/5000 [00:00<?, ?it/s]"
      ]
     },
     "metadata": {},
     "output_type": "display_data"
    },
    {
     "name": "stdout",
     "output_type": "stream",
     "text": [
      "step_size=0.4997715353965759\n",
      "max_step_size=0.5\n",
      "broken_traj=0\n",
      "Runtime: 733.09s\n",
      "\n",
      "Processing dimension 128\n",
      "--------------------------------------------------------------------------------\n",
      "Running HMCVanilla\n",
      "number of blocks: 3\n",
      "processing block: 1\n"
     ]
    },
    {
     "data": {
      "application/vnd.jupyter.widget-view+json": {
       "model_id": "98bb7fc2e802496eba305e1e4ece8130",
       "version_major": 2,
       "version_minor": 0
      },
      "text/plain": [
       "  0%|          | 0/2500 [00:00<?, ?it/s]"
      ]
     },
     "metadata": {},
     "output_type": "display_data"
    },
    {
     "name": "stdout",
     "output_type": "stream",
     "text": [
      "step_size=0.49925658106803894\n",
      "max_step_size=0.5\n",
      "broken_traj=0\n",
      "processing block: 2\n"
     ]
    },
    {
     "data": {
      "application/vnd.jupyter.widget-view+json": {
       "model_id": "2e017701132a4ee280043e8e57b6a023",
       "version_major": 2,
       "version_minor": 0
      },
      "text/plain": [
       "  0%|          | 0/5000 [00:00<?, ?it/s]"
      ]
     },
     "metadata": {},
     "output_type": "display_data"
    },
    {
     "name": "stdout",
     "output_type": "stream",
     "text": [
      "step_size=0.49925658106803894\n",
      "max_step_size=0.5\n",
      "broken_traj=0\n",
      "processing block: 3\n"
     ]
    },
    {
     "data": {
      "application/vnd.jupyter.widget-view+json": {
       "model_id": "4497fca764e34906ac39a2499daf68ec",
       "version_major": 2,
       "version_minor": 0
      },
      "text/plain": [
       "  0%|          | 0/5000 [00:00<?, ?it/s]"
      ]
     },
     "metadata": {},
     "output_type": "display_data"
    },
    {
     "name": "stdout",
     "output_type": "stream",
     "text": [
      "step_size=0.49890485405921936\n",
      "max_step_size=0.5\n",
      "broken_traj=0\n",
      "Runtime: 663.70s\n",
      "--------------------------------------------------------------------------------\n",
      "Running HMCAdaptiveHutchTaylorNoGrad\n",
      "number of blocks: 3\n",
      "processing block: 1\n"
     ]
    },
    {
     "data": {
      "application/vnd.jupyter.widget-view+json": {
       "model_id": "a254a489f674496d9b116abbfb873542",
       "version_major": 2,
       "version_minor": 0
      },
      "text/plain": [
       "  0%|          | 0/2500 [00:00<?, ?it/s]"
      ]
     },
     "metadata": {},
     "output_type": "display_data"
    },
    {
     "name": "stdout",
     "output_type": "stream",
     "text": [
      "step_size=0.4988861083984375\n",
      "max_step_size=0.5\n",
      "broken_traj=0\n",
      "processing block: 2\n"
     ]
    },
    {
     "data": {
      "application/vnd.jupyter.widget-view+json": {
       "model_id": "e00db6e8024340ac968a68e28a093617",
       "version_major": 2,
       "version_minor": 0
      },
      "text/plain": [
       "  0%|          | 0/5000 [00:00<?, ?it/s]"
      ]
     },
     "metadata": {},
     "output_type": "display_data"
    },
    {
     "name": "stdout",
     "output_type": "stream",
     "text": [
      "step_size=0.4988861083984375\n",
      "max_step_size=0.5\n",
      "broken_traj=0\n",
      "processing block: 3\n"
     ]
    },
    {
     "data": {
      "application/vnd.jupyter.widget-view+json": {
       "model_id": "9eae8646ff6e4429bd6d142fddee216a",
       "version_major": 2,
       "version_minor": 0
      },
      "text/plain": [
       "  0%|          | 0/5000 [00:00<?, ?it/s]"
      ]
     },
     "metadata": {},
     "output_type": "display_data"
    },
    {
     "name": "stdout",
     "output_type": "stream",
     "text": [
      "step_size=0.49970436096191406\n",
      "max_step_size=0.5\n",
      "broken_traj=0\n",
      "Runtime: 1038.15s\n",
      "--------------------------------------------------------------------------------\n",
      "Running HMCAdaptiveHutchLanczosNoGrad\n",
      "number of blocks: 3\n",
      "processing block: 1\n"
     ]
    },
    {
     "data": {
      "application/vnd.jupyter.widget-view+json": {
       "model_id": "156f614326bf44eeb291c1a12cd4c703",
       "version_major": 2,
       "version_minor": 0
      },
      "text/plain": [
       "  0%|          | 0/2500 [00:00<?, ?it/s]"
      ]
     },
     "metadata": {},
     "output_type": "display_data"
    },
    {
     "name": "stdout",
     "output_type": "stream",
     "text": [
      "step_size=0.4968043267726898\n",
      "max_step_size=0.5\n",
      "broken_traj=0\n",
      "processing block: 2\n"
     ]
    },
    {
     "data": {
      "application/vnd.jupyter.widget-view+json": {
       "model_id": "3223267f8ad74ff1b602da2b7a219bae",
       "version_major": 2,
       "version_minor": 0
      },
      "text/plain": [
       "  0%|          | 0/5000 [00:00<?, ?it/s]"
      ]
     },
     "metadata": {},
     "output_type": "display_data"
    },
    {
     "name": "stdout",
     "output_type": "stream",
     "text": [
      "step_size=0.4968043267726898\n",
      "max_step_size=0.5\n",
      "broken_traj=0\n",
      "processing block: 3\n"
     ]
    },
    {
     "data": {
      "application/vnd.jupyter.widget-view+json": {
       "model_id": "71846d1b137a48ee8c79303f58e895b9",
       "version_major": 2,
       "version_minor": 0
      },
      "text/plain": [
       "  0%|          | 0/5000 [00:00<?, ?it/s]"
      ]
     },
     "metadata": {},
     "output_type": "display_data"
    },
    {
     "name": "stdout",
     "output_type": "stream",
     "text": [
      "step_size=0.49889829754829407\n",
      "max_step_size=0.5\n",
      "broken_traj=0\n",
      "Runtime: 1120.58s\n",
      "\n",
      "Processing dimension 256\n",
      "--------------------------------------------------------------------------------\n",
      "Running HMCVanilla\n",
      "number of blocks: 3\n",
      "processing block: 1\n"
     ]
    },
    {
     "data": {
      "application/vnd.jupyter.widget-view+json": {
       "model_id": "b32dd6ea85ed4e4e83323194a9cc7317",
       "version_major": 2,
       "version_minor": 0
      },
      "text/plain": [
       "  0%|          | 0/2500 [00:00<?, ?it/s]"
      ]
     },
     "metadata": {},
     "output_type": "display_data"
    },
    {
     "name": "stdout",
     "output_type": "stream",
     "text": [
      "step_size=0.49334990978240967\n",
      "max_step_size=0.5\n",
      "broken_traj=0\n",
      "processing block: 2\n"
     ]
    },
    {
     "data": {
      "application/vnd.jupyter.widget-view+json": {
       "model_id": "be5371f5796447d79b56ad3aa56dce9e",
       "version_major": 2,
       "version_minor": 0
      },
      "text/plain": [
       "  0%|          | 0/5000 [00:00<?, ?it/s]"
      ]
     },
     "metadata": {},
     "output_type": "display_data"
    },
    {
     "name": "stdout",
     "output_type": "stream",
     "text": [
      "step_size=0.49334990978240967\n",
      "max_step_size=0.5\n",
      "broken_traj=0\n",
      "processing block: 3\n"
     ]
    },
    {
     "data": {
      "application/vnd.jupyter.widget-view+json": {
       "model_id": "e29adf8bee954c7f898df9f19f203e7f",
       "version_major": 2,
       "version_minor": 0
      },
      "text/plain": [
       "  0%|          | 0/5000 [00:00<?, ?it/s]"
      ]
     },
     "metadata": {},
     "output_type": "display_data"
    },
    {
     "name": "stdout",
     "output_type": "stream",
     "text": [
      "step_size=0.4950975477695465\n",
      "max_step_size=0.5\n",
      "broken_traj=0\n",
      "Runtime: 1450.16s\n",
      "--------------------------------------------------------------------------------\n",
      "Running HMCAdaptiveHutchTaylorNoGrad\n",
      "number of blocks: 3\n",
      "processing block: 1\n"
     ]
    },
    {
     "data": {
      "application/vnd.jupyter.widget-view+json": {
       "model_id": "beaec2bd7ced470abc8af9f62660283d",
       "version_major": 2,
       "version_minor": 0
      },
      "text/plain": [
       "  0%|          | 0/2500 [00:00<?, ?it/s]"
      ]
     },
     "metadata": {},
     "output_type": "display_data"
    },
    {
     "name": "stdout",
     "output_type": "stream",
     "text": [
      "step_size=0.49649372696876526\n",
      "max_step_size=0.5\n",
      "broken_traj=0\n",
      "processing block: 2\n"
     ]
    },
    {
     "data": {
      "application/vnd.jupyter.widget-view+json": {
       "model_id": "fe8113488e4d40f0abd1994bfe847cb7",
       "version_major": 2,
       "version_minor": 0
      },
      "text/plain": [
       "  0%|          | 0/5000 [00:00<?, ?it/s]"
      ]
     },
     "metadata": {},
     "output_type": "display_data"
    },
    {
     "name": "stdout",
     "output_type": "stream",
     "text": [
      "step_size=0.49649372696876526\n",
      "max_step_size=0.5\n",
      "broken_traj=0\n",
      "processing block: 3\n"
     ]
    },
    {
     "data": {
      "application/vnd.jupyter.widget-view+json": {
       "model_id": "2d88f8ccd76e42d09198ad3eb654ab17",
       "version_major": 2,
       "version_minor": 0
      },
      "text/plain": [
       "  0%|          | 0/5000 [00:00<?, ?it/s]"
      ]
     },
     "metadata": {},
     "output_type": "display_data"
    },
    {
     "name": "stdout",
     "output_type": "stream",
     "text": [
      "step_size=0.49912941455841064\n",
      "max_step_size=0.5\n",
      "broken_traj=0\n",
      "Runtime: 2243.89s\n",
      "--------------------------------------------------------------------------------\n",
      "Running HMCAdaptiveHutchLanczosNoGrad\n",
      "number of blocks: 3\n",
      "processing block: 1\n"
     ]
    },
    {
     "data": {
      "application/vnd.jupyter.widget-view+json": {
       "model_id": "65447cadf8e74e39b6b09830ca0f0279",
       "version_major": 2,
       "version_minor": 0
      },
      "text/plain": [
       "  0%|          | 0/2500 [00:00<?, ?it/s]"
      ]
     },
     "metadata": {},
     "output_type": "display_data"
    },
    {
     "name": "stdout",
     "output_type": "stream",
     "text": [
      "step_size=0.4928186535835266\n",
      "max_step_size=0.5\n",
      "broken_traj=0\n",
      "processing block: 2\n"
     ]
    },
    {
     "data": {
      "application/vnd.jupyter.widget-view+json": {
       "model_id": "502fb01908a34d63b789d2925e143aff",
       "version_major": 2,
       "version_minor": 0
      },
      "text/plain": [
       "  0%|          | 0/5000 [00:00<?, ?it/s]"
      ]
     },
     "metadata": {},
     "output_type": "display_data"
    },
    {
     "name": "stdout",
     "output_type": "stream",
     "text": [
      "step_size=0.4928186535835266\n",
      "max_step_size=0.5\n",
      "broken_traj=0\n",
      "processing block: 3\n"
     ]
    },
    {
     "data": {
      "application/vnd.jupyter.widget-view+json": {
       "model_id": "f98a1a2209174422b38a8398a8529ec1",
       "version_major": 2,
       "version_minor": 0
      },
      "text/plain": [
       "  0%|          | 0/5000 [00:00<?, ?it/s]"
      ]
     },
     "metadata": {},
     "output_type": "display_data"
    },
    {
     "name": "stdout",
     "output_type": "stream",
     "text": [
      "step_size=0.49701255559921265\n",
      "max_step_size=0.5\n",
      "broken_traj=0\n",
      "Runtime: 2445.32s\n",
      "\n"
     ]
    },
    {
     "data": {
      "application/vnd.jupyter.widget-view+json": {
       "model_id": "30bb61cf2acc42588853b82c92e80927",
       "version_major": 2,
       "version_minor": 0
      },
      "text/plain": [
       "dimension:   0%|          | 0/6 [00:00<?, ?it/s]"
      ]
     },
     "metadata": {},
     "output_type": "display_data"
    },
    {
     "data": {
      "application/vnd.jupyter.widget-view+json": {
       "model_id": "11aa6e4f23ce448bb364c97f0d6b74a2",
       "version_major": 2,
       "version_minor": 0
      },
      "text/plain": [
       "alg:   0%|          | 0/3 [00:00<?, ?it/s]"
      ]
     },
     "metadata": {},
     "output_type": "display_data"
    },
    {
     "name": "stdout",
     "output_type": "stream",
     "text": [
      "\n",
      "dim=8, dist=random_gm\n",
      "                 hmc_vanilla  taylor_nograd  lanczos_nograd\n",
      "ess_mean           0.564887       0.290892        0.518385\n",
      "ess_conf_sigma     0.002312       0.001761        0.003364\n",
      "tv_mean            0.009382       0.011215        0.009517\n",
      "tv_conf_sigma      0.000806       0.000984        0.000791\n",
      "runtime          242.019890     381.247605      412.583056\n",
      "chains_kept       30.000000      30.000000       30.000000\n",
      "{8:             alg_A          alg_B  z(ESS_A>B)  p(ESS_A>B)  z(TV_A<B)  p(TV_A<B)\n",
      "0  lanczos_nograd  taylor_nograd   59.914887         0.0   1.344973   0.089317\n",
      "1  lanczos_nograd    hmc_vanilla  -11.392620         1.0  -0.119218   0.547449\n",
      "2   taylor_nograd    hmc_vanilla  -94.270767         1.0  -1.440716   0.925168}\n"
     ]
    },
    {
     "data": {
      "application/vnd.jupyter.widget-view+json": {
       "model_id": "07a60c68ebd54f81b0f2fd5c20482185",
       "version_major": 2,
       "version_minor": 0
      },
      "text/plain": [
       "alg:   0%|          | 0/3 [00:00<?, ?it/s]"
      ]
     },
     "metadata": {},
     "output_type": "display_data"
    },
    {
     "name": "stdout",
     "output_type": "stream",
     "text": [
      "\n",
      "dim=16, dist=random_gm\n",
      "                 hmc_vanilla  taylor_nograd  lanczos_nograd\n",
      "ess_mean           0.810220       0.508076        0.819089\n",
      "ess_conf_sigma     0.002114       0.001934        0.002699\n",
      "tv_mean            0.008249       0.009618        0.008396\n",
      "tv_conf_sigma      0.000610       0.000855        0.000670\n",
      "runtime          254.849285     402.719102      439.006576\n",
      "chains_kept       30.000000      30.000000       30.000000\n",
      "{8:             alg_A          alg_B  z(ESS_A>B)  p(ESS_A>B)  z(TV_A<B)  p(TV_A<B)\n",
      "0  lanczos_nograd  taylor_nograd   59.914887         0.0   1.344973   0.089317\n",
      "1  lanczos_nograd    hmc_vanilla  -11.392620         1.0  -0.119218   0.547449\n",
      "2   taylor_nograd    hmc_vanilla  -94.270767         1.0  -1.440716   0.925168, 16:             alg_A          alg_B  z(ESS_A>B)  p(ESS_A>B)  z(TV_A<B)  p(TV_A<B)\n",
      "0  lanczos_nograd  taylor_nograd   93.659573    0.000000   1.124086   0.130488\n",
      "1  lanczos_nograd    hmc_vanilla    2.586986    0.004841  -0.162452   0.564525\n",
      "2   taylor_nograd    hmc_vanilla -105.463027    1.000000  -1.302995   0.903712}\n"
     ]
    },
    {
     "data": {
      "application/vnd.jupyter.widget-view+json": {
       "model_id": "f56aefafe3124ac5a498394de6bfc081",
       "version_major": 2,
       "version_minor": 0
      },
      "text/plain": [
       "alg:   0%|          | 0/3 [00:00<?, ?it/s]"
      ]
     },
     "metadata": {},
     "output_type": "display_data"
    },
    {
     "name": "stdout",
     "output_type": "stream",
     "text": [
      "\n",
      "dim=32, dist=random_gm\n",
      "                 hmc_vanilla  taylor_nograd  lanczos_nograd\n",
      "ess_mean           0.788111       0.723011        0.770261\n",
      "ess_conf_sigma     0.001466       0.001597        0.001091\n",
      "tv_mean            0.008579       0.008789        0.008973\n",
      "tv_conf_sigma      0.000745       0.000709        0.000759\n",
      "runtime          303.937383     480.891397      525.015445\n",
      "chains_kept       30.000000      30.000000       30.000000\n",
      "{8:             alg_A          alg_B  z(ESS_A>B)  p(ESS_A>B)  z(TV_A<B)  p(TV_A<B)\n",
      "0  lanczos_nograd  taylor_nograd   59.914887         0.0   1.344973   0.089317\n",
      "1  lanczos_nograd    hmc_vanilla  -11.392620         1.0  -0.119218   0.547449\n",
      "2   taylor_nograd    hmc_vanilla  -94.270767         1.0  -1.440716   0.925168, 16:             alg_A          alg_B  z(ESS_A>B)  p(ESS_A>B)  z(TV_A<B)  p(TV_A<B)\n",
      "0  lanczos_nograd  taylor_nograd   93.659573    0.000000   1.124086   0.130488\n",
      "1  lanczos_nograd    hmc_vanilla    2.586986    0.004841  -0.162452   0.564525\n",
      "2   taylor_nograd    hmc_vanilla -105.463027    1.000000  -1.302995   0.903712, 32:             alg_A          alg_B  z(ESS_A>B)     p(ESS_A>B)  z(TV_A<B)  \\\n",
      "0  lanczos_nograd  taylor_nograd   24.428394  4.270243e-132  -0.177034   \n",
      "1  lanczos_nograd    hmc_vanilla   -9.768554   1.000000e+00  -0.370275   \n",
      "2   taylor_nograd    hmc_vanilla  -30.028313   1.000000e+00  -0.204006   \n",
      "\n",
      "   p(TV_A<B)  \n",
      "0   0.570259  \n",
      "1   0.644411  \n",
      "2   0.580826  }\n"
     ]
    },
    {
     "data": {
      "application/vnd.jupyter.widget-view+json": {
       "model_id": "c0ac1e98426b41dfa9737adc390b993b",
       "version_major": 2,
       "version_minor": 0
      },
      "text/plain": [
       "alg:   0%|          | 0/3 [00:00<?, ?it/s]"
      ]
     },
     "metadata": {},
     "output_type": "display_data"
    },
    {
     "name": "stdout",
     "output_type": "stream",
     "text": [
      "\n",
      "dim=64, dist=random_gm\n",
      "                 hmc_vanilla  taylor_nograd  lanczos_nograd\n",
      "ess_mean           0.531710       0.347096        0.671682\n",
      "ess_conf_sigma     0.001870       0.001344        0.002505\n",
      "tv_mean            0.010311       0.011627        0.009338\n",
      "tv_conf_sigma      0.000929       0.001043        0.000761\n",
      "runtime          427.320245     667.720586      730.650223\n",
      "chains_kept       30.000000      30.000000       30.000000\n",
      "{8:             alg_A          alg_B  z(ESS_A>B)  p(ESS_A>B)  z(TV_A<B)  p(TV_A<B)\n",
      "0  lanczos_nograd  taylor_nograd   59.914887         0.0   1.344973   0.089317\n",
      "1  lanczos_nograd    hmc_vanilla  -11.392620         1.0  -0.119218   0.547449\n",
      "2   taylor_nograd    hmc_vanilla  -94.270767         1.0  -1.440716   0.925168, 16:             alg_A          alg_B  z(ESS_A>B)  p(ESS_A>B)  z(TV_A<B)  p(TV_A<B)\n",
      "0  lanczos_nograd  taylor_nograd   93.659573    0.000000   1.124086   0.130488\n",
      "1  lanczos_nograd    hmc_vanilla    2.586986    0.004841  -0.162452   0.564525\n",
      "2   taylor_nograd    hmc_vanilla -105.463027    1.000000  -1.302995   0.903712, 32:             alg_A          alg_B  z(ESS_A>B)     p(ESS_A>B)  z(TV_A<B)  \\\n",
      "0  lanczos_nograd  taylor_nograd   24.428394  4.270243e-132  -0.177034   \n",
      "1  lanczos_nograd    hmc_vanilla   -9.768554   1.000000e+00  -0.370275   \n",
      "2   taylor_nograd    hmc_vanilla  -30.028313   1.000000e+00  -0.204006   \n",
      "\n",
      "   p(TV_A<B)  \n",
      "0   0.570259  \n",
      "1   0.644411  \n",
      "2   0.580826  , 64:             alg_A          alg_B  z(ESS_A>B)  p(ESS_A>B)  z(TV_A<B)  p(TV_A<B)\n",
      "0  lanczos_nograd  taylor_nograd  114.172612         0.0   1.772152   0.038185\n",
      "1  lanczos_nograd    hmc_vanilla   44.772995         0.0   0.809481   0.209119\n",
      "2   taylor_nograd    hmc_vanilla  -80.146119         1.0  -0.942486   0.827028}\n"
     ]
    },
    {
     "data": {
      "application/vnd.jupyter.widget-view+json": {
       "model_id": "63bb8ebdd7c6430f90426fd3006f83a0",
       "version_major": 2,
       "version_minor": 0
      },
      "text/plain": [
       "alg:   0%|          | 0/3 [00:00<?, ?it/s]"
      ]
     },
     "metadata": {},
     "output_type": "display_data"
    },
    {
     "name": "stdout",
     "output_type": "stream",
     "text": [
      "\n",
      "dim=128, dist=random_gm\n",
      "                 hmc_vanilla  taylor_nograd  lanczos_nograd\n",
      "ess_mean           0.047505       0.031763        0.052876\n",
      "ess_conf_sigma     0.000740       0.000608        0.001194\n",
      "tv_mean            0.036717       0.047122        0.036736\n",
      "tv_conf_sigma      0.004244       0.005767        0.004590\n",
      "runtime          660.919699    1033.824702     1116.140137\n",
      "chains_kept       30.000000      30.000000       30.000000\n",
      "{8:             alg_A          alg_B  z(ESS_A>B)  p(ESS_A>B)  z(TV_A<B)  p(TV_A<B)\n",
      "0  lanczos_nograd  taylor_nograd   59.914887         0.0   1.344973   0.089317\n",
      "1  lanczos_nograd    hmc_vanilla  -11.392620         1.0  -0.119218   0.547449\n",
      "2   taylor_nograd    hmc_vanilla  -94.270767         1.0  -1.440716   0.925168, 16:             alg_A          alg_B  z(ESS_A>B)  p(ESS_A>B)  z(TV_A<B)  p(TV_A<B)\n",
      "0  lanczos_nograd  taylor_nograd   93.659573    0.000000   1.124086   0.130488\n",
      "1  lanczos_nograd    hmc_vanilla    2.586986    0.004841  -0.162452   0.564525\n",
      "2   taylor_nograd    hmc_vanilla -105.463027    1.000000  -1.302995   0.903712, 32:             alg_A          alg_B  z(ESS_A>B)     p(ESS_A>B)  z(TV_A<B)  \\\n",
      "0  lanczos_nograd  taylor_nograd   24.428394  4.270243e-132  -0.177034   \n",
      "1  lanczos_nograd    hmc_vanilla   -9.768554   1.000000e+00  -0.370275   \n",
      "2   taylor_nograd    hmc_vanilla  -30.028313   1.000000e+00  -0.204006   \n",
      "\n",
      "   p(TV_A<B)  \n",
      "0   0.570259  \n",
      "1   0.644411  \n",
      "2   0.580826  , 64:             alg_A          alg_B  z(ESS_A>B)  p(ESS_A>B)  z(TV_A<B)  p(TV_A<B)\n",
      "0  lanczos_nograd  taylor_nograd  114.172612         0.0   1.772152   0.038185\n",
      "1  lanczos_nograd    hmc_vanilla   44.772995         0.0   0.809481   0.209119\n",
      "2   taylor_nograd    hmc_vanilla  -80.146119         1.0  -0.942486   0.827028, 128:             alg_A          alg_B  z(ESS_A>B)    p(ESS_A>B)  z(TV_A<B)  \\\n",
      "0  lanczos_nograd  taylor_nograd   15.756704  3.088602e-56   1.409085   \n",
      "1  lanczos_nograd    hmc_vanilla    3.824149  6.561237e-05  -0.003067   \n",
      "2   taylor_nograd    hmc_vanilla  -16.433936  1.000000e+00  -1.453149   \n",
      "\n",
      "   p(TV_A<B)  \n",
      "0   0.079405  \n",
      "1   0.501224  \n",
      "2   0.926909  }\n"
     ]
    },
    {
     "data": {
      "application/vnd.jupyter.widget-view+json": {
       "model_id": "3ff1379199b74ff5b183d3607b330dd7",
       "version_major": 2,
       "version_minor": 0
      },
      "text/plain": [
       "alg:   0%|          | 0/3 [00:00<?, ?it/s]"
      ]
     },
     "metadata": {},
     "output_type": "display_data"
    },
    {
     "name": "stdout",
     "output_type": "stream",
     "text": [
      "\n",
      "dim=256, dist=random_gm\n",
      "                 hmc_vanilla  taylor_nograd  lanczos_nograd\n",
      "ess_mean           0.286790       0.097542        0.423608\n",
      "ess_conf_sigma     0.006929       0.003658        0.010137\n",
      "tv_mean            0.117985       0.121359        0.108232\n",
      "tv_conf_sigma      0.014604       0.015408        0.014397\n",
      "runtime         1444.454320    2238.142788     2438.989277\n",
      "chains_kept       30.000000      30.000000       30.000000\n",
      "{8:             alg_A          alg_B  z(ESS_A>B)  p(ESS_A>B)  z(TV_A<B)  p(TV_A<B)\n",
      "0  lanczos_nograd  taylor_nograd   59.914887         0.0   1.344973   0.089317\n",
      "1  lanczos_nograd    hmc_vanilla  -11.392620         1.0  -0.119218   0.547449\n",
      "2   taylor_nograd    hmc_vanilla  -94.270767         1.0  -1.440716   0.925168, 16:             alg_A          alg_B  z(ESS_A>B)  p(ESS_A>B)  z(TV_A<B)  p(TV_A<B)\n",
      "0  lanczos_nograd  taylor_nograd   93.659573    0.000000   1.124086   0.130488\n",
      "1  lanczos_nograd    hmc_vanilla    2.586986    0.004841  -0.162452   0.564525\n",
      "2   taylor_nograd    hmc_vanilla -105.463027    1.000000  -1.302995   0.903712, 32:             alg_A          alg_B  z(ESS_A>B)     p(ESS_A>B)  z(TV_A<B)  \\\n",
      "0  lanczos_nograd  taylor_nograd   24.428394  4.270243e-132  -0.177034   \n",
      "1  lanczos_nograd    hmc_vanilla   -9.768554   1.000000e+00  -0.370275   \n",
      "2   taylor_nograd    hmc_vanilla  -30.028313   1.000000e+00  -0.204006   \n",
      "\n",
      "   p(TV_A<B)  \n",
      "0   0.570259  \n",
      "1   0.644411  \n",
      "2   0.580826  , 64:             alg_A          alg_B  z(ESS_A>B)  p(ESS_A>B)  z(TV_A<B)  p(TV_A<B)\n",
      "0  lanczos_nograd  taylor_nograd  114.172612         0.0   1.772152   0.038185\n",
      "1  lanczos_nograd    hmc_vanilla   44.772995         0.0   0.809481   0.209119\n",
      "2   taylor_nograd    hmc_vanilla  -80.146119         1.0  -0.942486   0.827028, 128:             alg_A          alg_B  z(ESS_A>B)    p(ESS_A>B)  z(TV_A<B)  \\\n",
      "0  lanczos_nograd  taylor_nograd   15.756704  3.088602e-56   1.409085   \n",
      "1  lanczos_nograd    hmc_vanilla    3.824149  6.561237e-05  -0.003067   \n",
      "2   taylor_nograd    hmc_vanilla  -16.433936  1.000000e+00  -1.453149   \n",
      "\n",
      "   p(TV_A<B)  \n",
      "0   0.079405  \n",
      "1   0.501224  \n",
      "2   0.926909  , 256:             alg_A          alg_B  z(ESS_A>B)     p(ESS_A>B)  z(TV_A<B)  \\\n",
      "0  lanczos_nograd  taylor_nograd   30.255424  2.213456e-201   0.622507   \n",
      "1  lanczos_nograd    hmc_vanilla   11.142609   3.890302e-29   0.475556   \n",
      "2   taylor_nograd    hmc_vanilla  -24.153539   1.000000e+00  -0.158953   \n",
      "\n",
      "   p(TV_A<B)  \n",
      "0   0.266804  \n",
      "1   0.317195  \n",
      "2   0.563147  }\n"
     ]
    },
    {
     "data": {
      "application/vnd.jupyter.widget-view+json": {
       "model_id": "44954b69b24541b08fde63cd13ecaa15",
       "version_major": 2,
       "version_minor": 0
      },
      "text/plain": [
       "  0%|          | 0/6 [00:00<?, ?it/s]"
      ]
     },
     "metadata": {},
     "output_type": "display_data"
    },
    {
     "name": "stdout",
     "output_type": "stream",
     "text": [
      "Processing dimension 8\n",
      "--------------------------------------------------------------------------------\n",
      "Running HMCVanilla\n",
      "number of blocks: 3\n",
      "processing block: 1\n"
     ]
    },
    {
     "data": {
      "application/vnd.jupyter.widget-view+json": {
       "model_id": "1c80d9850020475d9489000d17d0926b",
       "version_major": 2,
       "version_minor": 0
      },
      "text/plain": [
       "  0%|          | 0/2500 [00:00<?, ?it/s]"
      ]
     },
     "metadata": {},
     "output_type": "display_data"
    },
    {
     "name": "stdout",
     "output_type": "stream",
     "text": [
      "step_size=0.1776004433631897\n",
      "max_step_size=0.5\n",
      "broken_traj=0\n",
      "processing block: 2\n"
     ]
    },
    {
     "data": {
      "application/vnd.jupyter.widget-view+json": {
       "model_id": "5e58411495b741a4986c79a6772de167",
       "version_major": 2,
       "version_minor": 0
      },
      "text/plain": [
       "  0%|          | 0/5000 [00:00<?, ?it/s]"
      ]
     },
     "metadata": {},
     "output_type": "display_data"
    },
    {
     "name": "stdout",
     "output_type": "stream",
     "text": [
      "step_size=0.1776004433631897\n",
      "max_step_size=0.5\n",
      "broken_traj=0\n",
      "processing block: 3\n"
     ]
    },
    {
     "data": {
      "application/vnd.jupyter.widget-view+json": {
       "model_id": "a3382486dcfd40c483ad2baf598acd5d",
       "version_major": 2,
       "version_minor": 0
      },
      "text/plain": [
       "  0%|          | 0/5000 [00:00<?, ?it/s]"
      ]
     },
     "metadata": {},
     "output_type": "display_data"
    },
    {
     "name": "stdout",
     "output_type": "stream",
     "text": [
      "step_size=0.1804504245519638\n",
      "max_step_size=0.5\n",
      "broken_traj=0\n",
      "Runtime: 158.11s\n",
      "--------------------------------------------------------------------------------\n",
      "Running HMCAdaptiveHutchTaylorNoGrad\n",
      "number of blocks: 3\n",
      "processing block: 1\n"
     ]
    },
    {
     "data": {
      "application/vnd.jupyter.widget-view+json": {
       "model_id": "35b12c8e8ded4463983ad4267696b403",
       "version_major": 2,
       "version_minor": 0
      },
      "text/plain": [
       "  0%|          | 0/2500 [00:00<?, ?it/s]"
      ]
     },
     "metadata": {},
     "output_type": "display_data"
    },
    {
     "name": "stdout",
     "output_type": "stream",
     "text": [
      "step_size=0.17926235496997833\n",
      "max_step_size=0.5\n",
      "broken_traj=0\n",
      "processing block: 2\n"
     ]
    },
    {
     "data": {
      "application/vnd.jupyter.widget-view+json": {
       "model_id": "565853bfeeb84f3bb0a2c36c95a4d8c5",
       "version_major": 2,
       "version_minor": 0
      },
      "text/plain": [
       "  0%|          | 0/5000 [00:00<?, ?it/s]"
      ]
     },
     "metadata": {},
     "output_type": "display_data"
    },
    {
     "name": "stdout",
     "output_type": "stream",
     "text": [
      "step_size=0.17926235496997833\n",
      "max_step_size=0.5\n",
      "broken_traj=0\n",
      "processing block: 3\n"
     ]
    },
    {
     "data": {
      "application/vnd.jupyter.widget-view+json": {
       "model_id": "d2d583bb7a0446b198a0f05bb513536a",
       "version_major": 2,
       "version_minor": 0
      },
      "text/plain": [
       "  0%|          | 0/5000 [00:00<?, ?it/s]"
      ]
     },
     "metadata": {},
     "output_type": "display_data"
    },
    {
     "name": "stdout",
     "output_type": "stream",
     "text": [
      "step_size=0.4986741840839386\n",
      "max_step_size=0.5\n",
      "broken_traj=0\n",
      "Runtime: 248.43s\n",
      "--------------------------------------------------------------------------------\n",
      "Running HMCAdaptiveHutchLanczosNoGrad\n",
      "number of blocks: 3\n",
      "processing block: 1\n"
     ]
    },
    {
     "data": {
      "application/vnd.jupyter.widget-view+json": {
       "model_id": "7b66558b79284ce6acf35a688d44dcfc",
       "version_major": 2,
       "version_minor": 0
      },
      "text/plain": [
       "  0%|          | 0/2500 [00:00<?, ?it/s]"
      ]
     },
     "metadata": {},
     "output_type": "display_data"
    },
    {
     "name": "stdout",
     "output_type": "stream",
     "text": [
      "step_size=0.18184933066368103\n",
      "max_step_size=0.5\n",
      "broken_traj=0\n",
      "processing block: 2\n"
     ]
    },
    {
     "data": {
      "application/vnd.jupyter.widget-view+json": {
       "model_id": "53058da64db342b1a8678869322f9718",
       "version_major": 2,
       "version_minor": 0
      },
      "text/plain": [
       "  0%|          | 0/5000 [00:00<?, ?it/s]"
      ]
     },
     "metadata": {},
     "output_type": "display_data"
    },
    {
     "name": "stdout",
     "output_type": "stream",
     "text": [
      "step_size=0.18184933066368103\n",
      "max_step_size=0.5\n",
      "broken_traj=0\n",
      "processing block: 3\n"
     ]
    },
    {
     "data": {
      "application/vnd.jupyter.widget-view+json": {
       "model_id": "4458335291be488c9d6f779b870c526c",
       "version_major": 2,
       "version_minor": 0
      },
      "text/plain": [
       "  0%|          | 0/5000 [00:00<?, ?it/s]"
      ]
     },
     "metadata": {},
     "output_type": "display_data"
    },
    {
     "name": "stdout",
     "output_type": "stream",
     "text": [
      "step_size=0.3443519175052643\n",
      "max_step_size=0.5\n",
      "broken_traj=0\n",
      "Runtime: 265.53s\n",
      "\n",
      "Processing dimension 16\n",
      "--------------------------------------------------------------------------------\n",
      "Running HMCVanilla\n",
      "number of blocks: 3\n",
      "processing block: 1\n"
     ]
    },
    {
     "data": {
      "application/vnd.jupyter.widget-view+json": {
       "model_id": "499a9d4d2a97414fa3910d3ee9313641",
       "version_major": 2,
       "version_minor": 0
      },
      "text/plain": [
       "  0%|          | 0/2500 [00:00<?, ?it/s]"
      ]
     },
     "metadata": {},
     "output_type": "display_data"
    },
    {
     "name": "stdout",
     "output_type": "stream",
     "text": [
      "step_size=0.17461206018924713\n",
      "max_step_size=0.5\n",
      "broken_traj=0\n",
      "processing block: 2\n"
     ]
    },
    {
     "data": {
      "application/vnd.jupyter.widget-view+json": {
       "model_id": "3f7c56e203d647099dcd7903e9833856",
       "version_major": 2,
       "version_minor": 0
      },
      "text/plain": [
       "  0%|          | 0/5000 [00:00<?, ?it/s]"
      ]
     },
     "metadata": {},
     "output_type": "display_data"
    },
    {
     "name": "stdout",
     "output_type": "stream",
     "text": [
      "step_size=0.17461206018924713\n",
      "max_step_size=0.5\n",
      "broken_traj=0\n",
      "processing block: 3\n"
     ]
    },
    {
     "data": {
      "application/vnd.jupyter.widget-view+json": {
       "model_id": "2070535f850d427faeb1d460d5b209a1",
       "version_major": 2,
       "version_minor": 0
      },
      "text/plain": [
       "  0%|          | 0/5000 [00:00<?, ?it/s]"
      ]
     },
     "metadata": {},
     "output_type": "display_data"
    },
    {
     "name": "stdout",
     "output_type": "stream",
     "text": [
      "step_size=0.17623379826545715\n",
      "max_step_size=0.5\n",
      "broken_traj=0\n",
      "Runtime: 160.07s\n",
      "--------------------------------------------------------------------------------\n",
      "Running HMCAdaptiveHutchTaylorNoGrad\n",
      "number of blocks: 3\n",
      "processing block: 1\n"
     ]
    },
    {
     "data": {
      "application/vnd.jupyter.widget-view+json": {
       "model_id": "7e6fcf08432b43528316ef5101500d2c",
       "version_major": 2,
       "version_minor": 0
      },
      "text/plain": [
       "  0%|          | 0/2500 [00:00<?, ?it/s]"
      ]
     },
     "metadata": {},
     "output_type": "display_data"
    },
    {
     "name": "stdout",
     "output_type": "stream",
     "text": [
      "step_size=0.17396625876426697\n",
      "max_step_size=0.5\n",
      "broken_traj=0\n",
      "processing block: 2\n"
     ]
    },
    {
     "data": {
      "application/vnd.jupyter.widget-view+json": {
       "model_id": "fd962407ffdb46bea2d45325b043e65a",
       "version_major": 2,
       "version_minor": 0
      },
      "text/plain": [
       "  0%|          | 0/5000 [00:00<?, ?it/s]"
      ]
     },
     "metadata": {},
     "output_type": "display_data"
    },
    {
     "name": "stdout",
     "output_type": "stream",
     "text": [
      "step_size=0.17396625876426697\n",
      "max_step_size=0.5\n",
      "broken_traj=0\n",
      "processing block: 3\n"
     ]
    },
    {
     "data": {
      "application/vnd.jupyter.widget-view+json": {
       "model_id": "73ae2e1e94dd42cba65bfa6da89ca2d8",
       "version_major": 2,
       "version_minor": 0
      },
      "text/plain": [
       "  0%|          | 0/5000 [00:00<?, ?it/s]"
      ]
     },
     "metadata": {},
     "output_type": "display_data"
    },
    {
     "name": "stdout",
     "output_type": "stream",
     "text": [
      "step_size=0.49029046297073364\n",
      "max_step_size=0.5\n",
      "broken_traj=0\n",
      "Runtime: 252.21s\n",
      "--------------------------------------------------------------------------------\n",
      "Running HMCAdaptiveHutchLanczosNoGrad\n",
      "number of blocks: 3\n",
      "processing block: 1\n"
     ]
    },
    {
     "data": {
      "application/vnd.jupyter.widget-view+json": {
       "model_id": "a2139ba1a48240139f9dff183507da8b",
       "version_major": 2,
       "version_minor": 0
      },
      "text/plain": [
       "  0%|          | 0/2500 [00:00<?, ?it/s]"
      ]
     },
     "metadata": {},
     "output_type": "display_data"
    },
    {
     "name": "stdout",
     "output_type": "stream",
     "text": [
      "step_size=0.17447419464588165\n",
      "max_step_size=0.5\n",
      "broken_traj=0\n",
      "processing block: 2\n"
     ]
    },
    {
     "data": {
      "application/vnd.jupyter.widget-view+json": {
       "model_id": "088a28180512465982b32c45643508ce",
       "version_major": 2,
       "version_minor": 0
      },
      "text/plain": [
       "  0%|          | 0/5000 [00:00<?, ?it/s]"
      ]
     },
     "metadata": {},
     "output_type": "display_data"
    },
    {
     "name": "stdout",
     "output_type": "stream",
     "text": [
      "step_size=0.17447419464588165\n",
      "max_step_size=0.5\n",
      "broken_traj=0\n",
      "processing block: 3\n"
     ]
    },
    {
     "data": {
      "application/vnd.jupyter.widget-view+json": {
       "model_id": "4bddaa768c334d1fb87ac113dc23fc5e",
       "version_major": 2,
       "version_minor": 0
      },
      "text/plain": [
       "  0%|          | 0/5000 [00:00<?, ?it/s]"
      ]
     },
     "metadata": {},
     "output_type": "display_data"
    },
    {
     "name": "stdout",
     "output_type": "stream",
     "text": [
      "step_size=0.30276599526405334\n",
      "max_step_size=0.5\n",
      "broken_traj=0\n",
      "Runtime: 269.74s\n",
      "\n",
      "Processing dimension 32\n",
      "--------------------------------------------------------------------------------\n",
      "Running HMCVanilla\n",
      "number of blocks: 3\n",
      "processing block: 1\n"
     ]
    },
    {
     "data": {
      "application/vnd.jupyter.widget-view+json": {
       "model_id": "31bd4c1b28984b398e87f78869714ca8",
       "version_major": 2,
       "version_minor": 0
      },
      "text/plain": [
       "  0%|          | 0/2500 [00:00<?, ?it/s]"
      ]
     },
     "metadata": {},
     "output_type": "display_data"
    },
    {
     "name": "stdout",
     "output_type": "stream",
     "text": [
      "step_size=0.16344109177589417\n",
      "max_step_size=0.5\n",
      "broken_traj=0\n",
      "processing block: 2\n"
     ]
    },
    {
     "data": {
      "application/vnd.jupyter.widget-view+json": {
       "model_id": "c74c17d5bcc342858094f46a3f1571b3",
       "version_major": 2,
       "version_minor": 0
      },
      "text/plain": [
       "  0%|          | 0/5000 [00:00<?, ?it/s]"
      ]
     },
     "metadata": {},
     "output_type": "display_data"
    },
    {
     "name": "stdout",
     "output_type": "stream",
     "text": [
      "step_size=0.16344109177589417\n",
      "max_step_size=0.5\n",
      "broken_traj=0\n",
      "processing block: 3\n"
     ]
    },
    {
     "data": {
      "application/vnd.jupyter.widget-view+json": {
       "model_id": "735b6ddf622d4ec2b6a0a7fec04d949c",
       "version_major": 2,
       "version_minor": 0
      },
      "text/plain": [
       "  0%|          | 0/5000 [00:00<?, ?it/s]"
      ]
     },
     "metadata": {},
     "output_type": "display_data"
    },
    {
     "name": "stdout",
     "output_type": "stream",
     "text": [
      "step_size=0.16226822137832642\n",
      "max_step_size=0.5\n",
      "broken_traj=0\n",
      "Runtime: 166.11s\n",
      "--------------------------------------------------------------------------------\n",
      "Running HMCAdaptiveHutchTaylorNoGrad\n",
      "number of blocks: 3\n",
      "processing block: 1\n"
     ]
    },
    {
     "data": {
      "application/vnd.jupyter.widget-view+json": {
       "model_id": "ebce54889edf496788097567c5042ff7",
       "version_major": 2,
       "version_minor": 0
      },
      "text/plain": [
       "  0%|          | 0/2500 [00:00<?, ?it/s]"
      ]
     },
     "metadata": {},
     "output_type": "display_data"
    },
    {
     "name": "stdout",
     "output_type": "stream",
     "text": [
      "step_size=0.16089576482772827\n",
      "max_step_size=0.5\n",
      "broken_traj=0\n",
      "processing block: 2\n"
     ]
    },
    {
     "data": {
      "application/vnd.jupyter.widget-view+json": {
       "model_id": "a950a26b58d04d77aa3abf1d74023cc3",
       "version_major": 2,
       "version_minor": 0
      },
      "text/plain": [
       "  0%|          | 0/5000 [00:00<?, ?it/s]"
      ]
     },
     "metadata": {},
     "output_type": "display_data"
    },
    {
     "name": "stdout",
     "output_type": "stream",
     "text": [
      "step_size=0.16089576482772827\n",
      "max_step_size=0.5\n",
      "broken_traj=0\n",
      "processing block: 3\n"
     ]
    },
    {
     "data": {
      "application/vnd.jupyter.widget-view+json": {
       "model_id": "43533b1f5c2044bd84fc025296b678a1",
       "version_major": 2,
       "version_minor": 0
      },
      "text/plain": [
       "  0%|          | 0/5000 [00:00<?, ?it/s]"
      ]
     },
     "metadata": {},
     "output_type": "display_data"
    },
    {
     "name": "stdout",
     "output_type": "stream",
     "text": [
      "step_size=0.4128822386264801\n",
      "max_step_size=0.5\n",
      "broken_traj=0\n",
      "Runtime: 260.38s\n",
      "--------------------------------------------------------------------------------\n",
      "Running HMCAdaptiveHutchLanczosNoGrad\n",
      "number of blocks: 3\n",
      "processing block: 1\n"
     ]
    },
    {
     "data": {
      "application/vnd.jupyter.widget-view+json": {
       "model_id": "72ec9e5becb74a85979829f5e571ab88",
       "version_major": 2,
       "version_minor": 0
      },
      "text/plain": [
       "  0%|          | 0/2500 [00:00<?, ?it/s]"
      ]
     },
     "metadata": {},
     "output_type": "display_data"
    },
    {
     "name": "stdout",
     "output_type": "stream",
     "text": [
      "step_size=0.16198068857192993\n",
      "max_step_size=0.5\n",
      "broken_traj=0\n",
      "processing block: 2\n"
     ]
    },
    {
     "data": {
      "application/vnd.jupyter.widget-view+json": {
       "model_id": "5fc409b299464ca3a90c1b63b3c395bc",
       "version_major": 2,
       "version_minor": 0
      },
      "text/plain": [
       "  0%|          | 0/5000 [00:00<?, ?it/s]"
      ]
     },
     "metadata": {},
     "output_type": "display_data"
    },
    {
     "name": "stdout",
     "output_type": "stream",
     "text": [
      "step_size=0.16198068857192993\n",
      "max_step_size=0.5\n",
      "broken_traj=0\n",
      "processing block: 3\n"
     ]
    },
    {
     "data": {
      "application/vnd.jupyter.widget-view+json": {
       "model_id": "227915459bf2405fb06aa92e09ed9eb8",
       "version_major": 2,
       "version_minor": 0
      },
      "text/plain": [
       "  0%|          | 0/5000 [00:00<?, ?it/s]"
      ]
     },
     "metadata": {},
     "output_type": "display_data"
    },
    {
     "name": "stdout",
     "output_type": "stream",
     "text": [
      "step_size=0.24578380584716797\n",
      "max_step_size=0.5\n",
      "broken_traj=0\n",
      "Runtime: 279.12s\n",
      "\n",
      "Processing dimension 64\n",
      "--------------------------------------------------------------------------------\n",
      "Running HMCVanilla\n",
      "number of blocks: 3\n",
      "processing block: 1\n"
     ]
    },
    {
     "data": {
      "application/vnd.jupyter.widget-view+json": {
       "model_id": "d1efd331a1f64203ae0b8f82828052c1",
       "version_major": 2,
       "version_minor": 0
      },
      "text/plain": [
       "  0%|          | 0/2500 [00:00<?, ?it/s]"
      ]
     },
     "metadata": {},
     "output_type": "display_data"
    },
    {
     "name": "stdout",
     "output_type": "stream",
     "text": [
      "step_size=0.14412234723567963\n",
      "max_step_size=0.5\n",
      "broken_traj=0\n",
      "processing block: 2\n"
     ]
    },
    {
     "data": {
      "application/vnd.jupyter.widget-view+json": {
       "model_id": "ec76085e86b14fee9e123c55b516a7ef",
       "version_major": 2,
       "version_minor": 0
      },
      "text/plain": [
       "  0%|          | 0/5000 [00:00<?, ?it/s]"
      ]
     },
     "metadata": {},
     "output_type": "display_data"
    },
    {
     "name": "stdout",
     "output_type": "stream",
     "text": [
      "step_size=0.14412234723567963\n",
      "max_step_size=0.5\n",
      "broken_traj=0\n",
      "processing block: 3\n"
     ]
    },
    {
     "data": {
      "application/vnd.jupyter.widget-view+json": {
       "model_id": "b903f8d053f545dba2166224ab90819c",
       "version_major": 2,
       "version_minor": 0
      },
      "text/plain": [
       "  0%|          | 0/5000 [00:00<?, ?it/s]"
      ]
     },
     "metadata": {},
     "output_type": "display_data"
    },
    {
     "name": "stdout",
     "output_type": "stream",
     "text": [
      "step_size=0.1470424234867096\n",
      "max_step_size=0.5\n",
      "broken_traj=0\n",
      "Runtime: 177.13s\n",
      "--------------------------------------------------------------------------------\n",
      "Running HMCAdaptiveHutchTaylorNoGrad\n",
      "number of blocks: 3\n",
      "processing block: 1\n"
     ]
    },
    {
     "data": {
      "application/vnd.jupyter.widget-view+json": {
       "model_id": "f5b36d1298934560a7a39850987dfaac",
       "version_major": 2,
       "version_minor": 0
      },
      "text/plain": [
       "  0%|          | 0/2500 [00:00<?, ?it/s]"
      ]
     },
     "metadata": {},
     "output_type": "display_data"
    },
    {
     "name": "stdout",
     "output_type": "stream",
     "text": [
      "step_size=0.14696915447711945\n",
      "max_step_size=0.5\n",
      "broken_traj=0\n",
      "processing block: 2\n"
     ]
    },
    {
     "data": {
      "application/vnd.jupyter.widget-view+json": {
       "model_id": "a3ac71f8e97349069f621db7d9d17640",
       "version_major": 2,
       "version_minor": 0
      },
      "text/plain": [
       "  0%|          | 0/5000 [00:00<?, ?it/s]"
      ]
     },
     "metadata": {},
     "output_type": "display_data"
    },
    {
     "name": "stdout",
     "output_type": "stream",
     "text": [
      "step_size=0.14696915447711945\n",
      "max_step_size=0.5\n",
      "broken_traj=0\n",
      "processing block: 3\n"
     ]
    },
    {
     "data": {
      "application/vnd.jupyter.widget-view+json": {
       "model_id": "a5bee30a0cd049978895bc99a9ca1e5c",
       "version_major": 2,
       "version_minor": 0
      },
      "text/plain": [
       "  0%|          | 0/5000 [00:00<?, ?it/s]"
      ]
     },
     "metadata": {},
     "output_type": "display_data"
    },
    {
     "name": "stdout",
     "output_type": "stream",
     "text": [
      "step_size=0.3175603747367859\n",
      "max_step_size=0.5\n",
      "broken_traj=0\n",
      "Runtime: 278.03s\n",
      "--------------------------------------------------------------------------------\n",
      "Running HMCAdaptiveHutchLanczosNoGrad\n",
      "number of blocks: 3\n",
      "processing block: 1\n"
     ]
    },
    {
     "data": {
      "application/vnd.jupyter.widget-view+json": {
       "model_id": "26fbaf856f794df89ca78cb4ece92cf6",
       "version_major": 2,
       "version_minor": 0
      },
      "text/plain": [
       "  0%|          | 0/2500 [00:00<?, ?it/s]"
      ]
     },
     "metadata": {},
     "output_type": "display_data"
    },
    {
     "name": "stdout",
     "output_type": "stream",
     "text": [
      "step_size=0.14496640861034393\n",
      "max_step_size=0.5\n",
      "broken_traj=0\n",
      "processing block: 2\n"
     ]
    },
    {
     "data": {
      "application/vnd.jupyter.widget-view+json": {
       "model_id": "790b0b2481d041919a68ba959c89c83d",
       "version_major": 2,
       "version_minor": 0
      },
      "text/plain": [
       "  0%|          | 0/5000 [00:00<?, ?it/s]"
      ]
     },
     "metadata": {},
     "output_type": "display_data"
    },
    {
     "name": "stdout",
     "output_type": "stream",
     "text": [
      "step_size=0.14496640861034393\n",
      "max_step_size=0.5\n",
      "broken_traj=0\n",
      "processing block: 3\n"
     ]
    },
    {
     "data": {
      "application/vnd.jupyter.widget-view+json": {
       "model_id": "0f8e3356f25b4890bf6a5f4754b56440",
       "version_major": 2,
       "version_minor": 0
      },
      "text/plain": [
       "  0%|          | 0/5000 [00:00<?, ?it/s]"
      ]
     },
     "metadata": {},
     "output_type": "display_data"
    },
    {
     "name": "stdout",
     "output_type": "stream",
     "text": [
      "step_size=0.1926298439502716\n",
      "max_step_size=0.5\n",
      "broken_traj=0\n",
      "Runtime: 298.09s\n",
      "\n",
      "Processing dimension 128\n",
      "--------------------------------------------------------------------------------\n",
      "Running HMCVanilla\n",
      "number of blocks: 3\n",
      "processing block: 1\n"
     ]
    },
    {
     "data": {
      "application/vnd.jupyter.widget-view+json": {
       "model_id": "5b16e12f06064c7392a0c9cee1d13909",
       "version_major": 2,
       "version_minor": 0
      },
      "text/plain": [
       "  0%|          | 0/2500 [00:00<?, ?it/s]"
      ]
     },
     "metadata": {},
     "output_type": "display_data"
    },
    {
     "name": "stdout",
     "output_type": "stream",
     "text": [
      "step_size=0.12652702629566193\n",
      "max_step_size=0.5\n",
      "broken_traj=0\n",
      "processing block: 2\n"
     ]
    },
    {
     "data": {
      "application/vnd.jupyter.widget-view+json": {
       "model_id": "74ef0585cc354ae39d521d1e9ded67ec",
       "version_major": 2,
       "version_minor": 0
      },
      "text/plain": [
       "  0%|          | 0/5000 [00:00<?, ?it/s]"
      ]
     },
     "metadata": {},
     "output_type": "display_data"
    },
    {
     "name": "stdout",
     "output_type": "stream",
     "text": [
      "step_size=0.12652702629566193\n",
      "max_step_size=0.5\n",
      "broken_traj=0\n",
      "processing block: 3\n"
     ]
    },
    {
     "data": {
      "application/vnd.jupyter.widget-view+json": {
       "model_id": "f2146f16e499496ebfbc8b15942efb74",
       "version_major": 2,
       "version_minor": 0
      },
      "text/plain": [
       "  0%|          | 0/5000 [00:00<?, ?it/s]"
      ]
     },
     "metadata": {},
     "output_type": "display_data"
    },
    {
     "name": "stdout",
     "output_type": "stream",
     "text": [
      "step_size=0.12889792025089264\n",
      "max_step_size=0.5\n",
      "broken_traj=0\n",
      "Runtime: 193.09s\n",
      "--------------------------------------------------------------------------------\n",
      "Running HMCAdaptiveHutchTaylorNoGrad\n",
      "number of blocks: 3\n",
      "processing block: 1\n"
     ]
    },
    {
     "data": {
      "application/vnd.jupyter.widget-view+json": {
       "model_id": "de6f040d4fa642d79e0a055f8b3d884b",
       "version_major": 2,
       "version_minor": 0
      },
      "text/plain": [
       "  0%|          | 0/2500 [00:00<?, ?it/s]"
      ]
     },
     "metadata": {},
     "output_type": "display_data"
    },
    {
     "name": "stdout",
     "output_type": "stream",
     "text": [
      "step_size=0.12818047404289246\n",
      "max_step_size=0.5\n",
      "broken_traj=0\n",
      "processing block: 2\n"
     ]
    },
    {
     "data": {
      "application/vnd.jupyter.widget-view+json": {
       "model_id": "e71612983ce8464bb24b6a4a18f640ac",
       "version_major": 2,
       "version_minor": 0
      },
      "text/plain": [
       "  0%|          | 0/5000 [00:00<?, ?it/s]"
      ]
     },
     "metadata": {},
     "output_type": "display_data"
    },
    {
     "name": "stdout",
     "output_type": "stream",
     "text": [
      "step_size=0.12818047404289246\n",
      "max_step_size=0.5\n",
      "broken_traj=0\n",
      "processing block: 3\n"
     ]
    },
    {
     "data": {
      "application/vnd.jupyter.widget-view+json": {
       "model_id": "2154580224a44dfb8f75f7fbb29426e4",
       "version_major": 2,
       "version_minor": 0
      },
      "text/plain": [
       "  0%|          | 0/5000 [00:00<?, ?it/s]"
      ]
     },
     "metadata": {},
     "output_type": "display_data"
    },
    {
     "name": "stdout",
     "output_type": "stream",
     "text": [
      "step_size=0.22539347410202026\n",
      "max_step_size=0.5\n",
      "broken_traj=0\n",
      "Runtime: 303.22s\n",
      "--------------------------------------------------------------------------------\n",
      "Running HMCAdaptiveHutchLanczosNoGrad\n",
      "number of blocks: 3\n",
      "processing block: 1\n"
     ]
    },
    {
     "data": {
      "application/vnd.jupyter.widget-view+json": {
       "model_id": "02c46f5d65c947e4bee515b13d425843",
       "version_major": 2,
       "version_minor": 0
      },
      "text/plain": [
       "  0%|          | 0/2500 [00:00<?, ?it/s]"
      ]
     },
     "metadata": {},
     "output_type": "display_data"
    },
    {
     "name": "stdout",
     "output_type": "stream",
     "text": [
      "step_size=0.12972702085971832\n",
      "max_step_size=0.5\n",
      "broken_traj=0\n",
      "processing block: 2\n"
     ]
    },
    {
     "data": {
      "application/vnd.jupyter.widget-view+json": {
       "model_id": "0f619548a42a4d119c635f9e671083dc",
       "version_major": 2,
       "version_minor": 0
      },
      "text/plain": [
       "  0%|          | 0/5000 [00:00<?, ?it/s]"
      ]
     },
     "metadata": {},
     "output_type": "display_data"
    },
    {
     "name": "stdout",
     "output_type": "stream",
     "text": [
      "step_size=0.12972702085971832\n",
      "max_step_size=0.5\n",
      "broken_traj=0\n",
      "processing block: 3\n"
     ]
    },
    {
     "data": {
      "application/vnd.jupyter.widget-view+json": {
       "model_id": "13d40fdd4bd541ed90fc855a757d6753",
       "version_major": 2,
       "version_minor": 0
      },
      "text/plain": [
       "  0%|          | 0/5000 [00:00<?, ?it/s]"
      ]
     },
     "metadata": {},
     "output_type": "display_data"
    },
    {
     "name": "stdout",
     "output_type": "stream",
     "text": [
      "step_size=0.1534050852060318\n",
      "max_step_size=0.5\n",
      "broken_traj=0\n",
      "Runtime: 325.00s\n",
      "\n",
      "Processing dimension 256\n",
      "--------------------------------------------------------------------------------\n",
      "Running HMCVanilla\n",
      "number of blocks: 3\n",
      "processing block: 1\n"
     ]
    },
    {
     "data": {
      "application/vnd.jupyter.widget-view+json": {
       "model_id": "84cc910908f94fe48407149a261142c3",
       "version_major": 2,
       "version_minor": 0
      },
      "text/plain": [
       "  0%|          | 0/2500 [00:00<?, ?it/s]"
      ]
     },
     "metadata": {},
     "output_type": "display_data"
    },
    {
     "name": "stdout",
     "output_type": "stream",
     "text": [
      "step_size=0.10975782573223114\n",
      "max_step_size=0.5\n",
      "broken_traj=0\n",
      "processing block: 2\n"
     ]
    },
    {
     "data": {
      "application/vnd.jupyter.widget-view+json": {
       "model_id": "37bd22d696204b4082646b533e7f8564",
       "version_major": 2,
       "version_minor": 0
      },
      "text/plain": [
       "  0%|          | 0/5000 [00:00<?, ?it/s]"
      ]
     },
     "metadata": {},
     "output_type": "display_data"
    },
    {
     "name": "stdout",
     "output_type": "stream",
     "text": [
      "step_size=0.10975782573223114\n",
      "max_step_size=0.5\n",
      "broken_traj=0\n",
      "processing block: 3\n"
     ]
    },
    {
     "data": {
      "application/vnd.jupyter.widget-view+json": {
       "model_id": "4dbb6e866d5c480aad6f1dfc6bd1dfed",
       "version_major": 2,
       "version_minor": 0
      },
      "text/plain": [
       "  0%|          | 0/5000 [00:00<?, ?it/s]"
      ]
     },
     "metadata": {},
     "output_type": "display_data"
    },
    {
     "name": "stdout",
     "output_type": "stream",
     "text": [
      "step_size=0.110369011759758\n",
      "max_step_size=0.5\n",
      "broken_traj=0\n",
      "Runtime: 239.95s\n",
      "--------------------------------------------------------------------------------\n",
      "Running HMCAdaptiveHutchTaylorNoGrad\n",
      "number of blocks: 3\n",
      "processing block: 1\n"
     ]
    },
    {
     "data": {
      "application/vnd.jupyter.widget-view+json": {
       "model_id": "4541d290342f482faa317d07ba81e4df",
       "version_major": 2,
       "version_minor": 0
      },
      "text/plain": [
       "  0%|          | 0/2500 [00:00<?, ?it/s]"
      ]
     },
     "metadata": {},
     "output_type": "display_data"
    },
    {
     "name": "stdout",
     "output_type": "stream",
     "text": [
      "step_size=0.10872174054384232\n",
      "max_step_size=0.5\n",
      "broken_traj=0\n",
      "processing block: 2\n"
     ]
    },
    {
     "data": {
      "application/vnd.jupyter.widget-view+json": {
       "model_id": "71ddd94a59a94b48b23b8724d75fe218",
       "version_major": 2,
       "version_minor": 0
      },
      "text/plain": [
       "  0%|          | 0/5000 [00:00<?, ?it/s]"
      ]
     },
     "metadata": {},
     "output_type": "display_data"
    },
    {
     "name": "stdout",
     "output_type": "stream",
     "text": [
      "step_size=0.10872174054384232\n",
      "max_step_size=0.5\n",
      "broken_traj=0\n",
      "processing block: 3\n"
     ]
    },
    {
     "data": {
      "application/vnd.jupyter.widget-view+json": {
       "model_id": "c8a0901ba87345e9b04b20b17c4dad17",
       "version_major": 2,
       "version_minor": 0
      },
      "text/plain": [
       "  0%|          | 0/5000 [00:00<?, ?it/s]"
      ]
     },
     "metadata": {},
     "output_type": "display_data"
    },
    {
     "name": "stdout",
     "output_type": "stream",
     "text": [
      "step_size=0.15614666044712067\n",
      "max_step_size=0.5\n",
      "broken_traj=0\n",
      "Runtime: 379.88s\n",
      "--------------------------------------------------------------------------------\n",
      "Running HMCAdaptiveHutchLanczosNoGrad\n",
      "number of blocks: 3\n",
      "processing block: 1\n"
     ]
    },
    {
     "data": {
      "application/vnd.jupyter.widget-view+json": {
       "model_id": "9de1da4259e44985bfa8e723e80f14c9",
       "version_major": 2,
       "version_minor": 0
      },
      "text/plain": [
       "  0%|          | 0/2500 [00:00<?, ?it/s]"
      ]
     },
     "metadata": {},
     "output_type": "display_data"
    },
    {
     "name": "stdout",
     "output_type": "stream",
     "text": [
      "step_size=0.11051330715417862\n",
      "max_step_size=0.5\n",
      "broken_traj=0\n",
      "processing block: 2\n"
     ]
    },
    {
     "data": {
      "application/vnd.jupyter.widget-view+json": {
       "model_id": "7185301dd736489e9e843fd181278328",
       "version_major": 2,
       "version_minor": 0
      },
      "text/plain": [
       "  0%|          | 0/5000 [00:00<?, ?it/s]"
      ]
     },
     "metadata": {},
     "output_type": "display_data"
    },
    {
     "name": "stdout",
     "output_type": "stream",
     "text": [
      "step_size=0.11051330715417862\n",
      "max_step_size=0.5\n",
      "broken_traj=0\n",
      "processing block: 3\n"
     ]
    },
    {
     "data": {
      "application/vnd.jupyter.widget-view+json": {
       "model_id": "9cfa9ee29f274164a7a60358d1d6738d",
       "version_major": 2,
       "version_minor": 0
      },
      "text/plain": [
       "  0%|          | 0/5000 [00:00<?, ?it/s]"
      ]
     },
     "metadata": {},
     "output_type": "display_data"
    },
    {
     "name": "stdout",
     "output_type": "stream",
     "text": [
      "step_size=0.11403178423643112\n",
      "max_step_size=0.5\n",
      "broken_traj=0\n",
      "Runtime: 407.38s\n",
      "\n"
     ]
    },
    {
     "data": {
      "application/vnd.jupyter.widget-view+json": {
       "model_id": "70303544c40b4ec18f9c9b5dc0f922fb",
       "version_major": 2,
       "version_minor": 0
      },
      "text/plain": [
       "dimension:   0%|          | 0/6 [00:00<?, ?it/s]"
      ]
     },
     "metadata": {},
     "output_type": "display_data"
    },
    {
     "data": {
      "application/vnd.jupyter.widget-view+json": {
       "model_id": "739dac79e63c47f9ba233d9a3e3743f9",
       "version_major": 2,
       "version_minor": 0
      },
      "text/plain": [
       "alg:   0%|          | 0/3 [00:00<?, ?it/s]"
      ]
     },
     "metadata": {},
     "output_type": "display_data"
    },
    {
     "name": "stdout",
     "output_type": "stream",
     "text": [
      "\n",
      "dim=8, dist=illcond_gaussian\n",
      "                 hmc_vanilla  taylor_nograd  lanczos_nograd\n",
      "ess_mean           0.402759       0.553284        0.655326\n",
      "ess_conf_sigma     0.001420       0.010827        0.003581\n",
      "tv_mean            0.021251       0.016839        0.020107\n",
      "tv_conf_sigma      0.001892       0.001270        0.001408\n",
      "runtime          157.558502     247.592480      264.676075\n",
      "chains_kept       30.000000      30.000000       30.000000\n",
      "{8:             alg_A          alg_B  z(ESS_A>B)    p(ESS_A>B)  z(TV_A<B)  \\\n",
      "0  lanczos_nograd  taylor_nograd    8.948415  1.803121e-19  -1.723305   \n",
      "1  lanczos_nograd    hmc_vanilla   65.561029  0.000000e+00   0.484852   \n",
      "2   taylor_nograd    hmc_vanilla   13.785108  1.566486e-43   1.935999   \n",
      "\n",
      "   p(TV_A<B)  \n",
      "0   0.957583  \n",
      "1   0.313891  \n",
      "2   0.026434  }\n"
     ]
    },
    {
     "data": {
      "application/vnd.jupyter.widget-view+json": {
       "model_id": "b2f2cfba19e244a08e6d086d72f70480",
       "version_major": 2,
       "version_minor": 0
      },
      "text/plain": [
       "alg:   0%|          | 0/3 [00:00<?, ?it/s]"
      ]
     },
     "metadata": {},
     "output_type": "display_data"
    },
    {
     "name": "stdout",
     "output_type": "stream",
     "text": [
      "\n",
      "dim=16, dist=illcond_gaussian\n",
      "                 hmc_vanilla  taylor_nograd  lanczos_nograd\n",
      "ess_mean           0.504716       0.602060        0.568148\n",
      "ess_conf_sigma     0.001572       0.010125        0.004755\n",
      "tv_mean            0.020131       0.036299        0.022779\n",
      "tv_conf_sigma      0.001540       0.004313        0.001893\n",
      "runtime          159.502828     251.370957      268.856697\n",
      "chains_kept       30.000000      30.000000       30.000000\n",
      "{8:             alg_A          alg_B  z(ESS_A>B)    p(ESS_A>B)  z(TV_A<B)  \\\n",
      "0  lanczos_nograd  taylor_nograd    8.948415  1.803121e-19  -1.723305   \n",
      "1  lanczos_nograd    hmc_vanilla   65.561029  0.000000e+00   0.484852   \n",
      "2   taylor_nograd    hmc_vanilla   13.785108  1.566486e-43   1.935999   \n",
      "\n",
      "   p(TV_A<B)  \n",
      "0   0.957583  \n",
      "1   0.313891  \n",
      "2   0.026434  , 16:             alg_A          alg_B  z(ESS_A>B)    p(ESS_A>B)  z(TV_A<B)  \\\n",
      "0  lanczos_nograd  taylor_nograd   -3.031660  9.987839e-01   2.870672   \n",
      "1  lanczos_nograd    hmc_vanilla   12.665380  4.598689e-37  -1.085329   \n",
      "2   taylor_nograd    hmc_vanilla    9.500469  1.044736e-21  -3.530822   \n",
      "\n",
      "   p(TV_A<B)  \n",
      "0   0.002048  \n",
      "1   0.861112  \n",
      "2   0.999793  }\n"
     ]
    },
    {
     "data": {
      "application/vnd.jupyter.widget-view+json": {
       "model_id": "fc618e1aed724cc08e915add52c1736d",
       "version_major": 2,
       "version_minor": 0
      },
      "text/plain": [
       "alg:   0%|          | 0/3 [00:00<?, ?it/s]"
      ]
     },
     "metadata": {},
     "output_type": "display_data"
    },
    {
     "name": "stdout",
     "output_type": "stream",
     "text": [
      "\n",
      "dim=32, dist=illcond_gaussian\n",
      "                 hmc_vanilla  taylor_nograd  lanczos_nograd\n",
      "ess_mean           0.535514       0.522858        0.506945\n",
      "ess_conf_sigma     0.001180       0.003025        0.003171\n",
      "tv_mean            0.021604       0.023170        0.021261\n",
      "tv_conf_sigma      0.001444       0.001665        0.001186\n",
      "runtime          165.524292     259.517421      278.156906\n",
      "chains_kept       30.000000      30.000000       30.000000\n",
      "{8:             alg_A          alg_B  z(ESS_A>B)    p(ESS_A>B)  z(TV_A<B)  \\\n",
      "0  lanczos_nograd  taylor_nograd    8.948415  1.803121e-19  -1.723305   \n",
      "1  lanczos_nograd    hmc_vanilla   65.561029  0.000000e+00   0.484852   \n",
      "2   taylor_nograd    hmc_vanilla   13.785108  1.566486e-43   1.935999   \n",
      "\n",
      "   p(TV_A<B)  \n",
      "0   0.957583  \n",
      "1   0.313891  \n",
      "2   0.026434  , 16:             alg_A          alg_B  z(ESS_A>B)    p(ESS_A>B)  z(TV_A<B)  \\\n",
      "0  lanczos_nograd  taylor_nograd   -3.031660  9.987839e-01   2.870672   \n",
      "1  lanczos_nograd    hmc_vanilla   12.665380  4.598689e-37  -1.085329   \n",
      "2   taylor_nograd    hmc_vanilla    9.500469  1.044736e-21  -3.530822   \n",
      "\n",
      "   p(TV_A<B)  \n",
      "0   0.002048  \n",
      "1   0.861112  \n",
      "2   0.999793  , 32:             alg_A          alg_B  z(ESS_A>B)  p(ESS_A>B)  z(TV_A<B)  p(TV_A<B)\n",
      "0  lanczos_nograd  taylor_nograd   -3.630895    0.999859   0.933606   0.175254\n",
      "1  lanczos_nograd    hmc_vanilla   -8.443601    1.000000   0.183130   0.427348\n",
      "2   taylor_nograd    hmc_vanilla   -3.897971    0.999951  -0.710780   0.761390}\n"
     ]
    },
    {
     "data": {
      "application/vnd.jupyter.widget-view+json": {
       "model_id": "df1cc110443645a38d5fda551161e570",
       "version_major": 2,
       "version_minor": 0
      },
      "text/plain": [
       "alg:   0%|          | 0/3 [00:00<?, ?it/s]"
      ]
     },
     "metadata": {},
     "output_type": "display_data"
    },
    {
     "name": "stdout",
     "output_type": "stream",
     "text": [
      "\n",
      "dim=64, dist=illcond_gaussian\n",
      "                 hmc_vanilla  taylor_nograd  lanczos_nograd\n",
      "ess_mean           0.503812       0.491307        0.478432\n",
      "ess_conf_sigma     0.001394       0.002544        0.002305\n",
      "tv_mean            0.021153       0.020813        0.019491\n",
      "tv_conf_sigma      0.001443       0.001219        0.001088\n",
      "runtime          176.515224     277.147188      297.030074\n",
      "chains_kept       30.000000      30.000000       30.000000\n",
      "{8:             alg_A          alg_B  z(ESS_A>B)    p(ESS_A>B)  z(TV_A<B)  \\\n",
      "0  lanczos_nograd  taylor_nograd    8.948415  1.803121e-19  -1.723305   \n",
      "1  lanczos_nograd    hmc_vanilla   65.561029  0.000000e+00   0.484852   \n",
      "2   taylor_nograd    hmc_vanilla   13.785108  1.566486e-43   1.935999   \n",
      "\n",
      "   p(TV_A<B)  \n",
      "0   0.957583  \n",
      "1   0.313891  \n",
      "2   0.026434  , 16:             alg_A          alg_B  z(ESS_A>B)    p(ESS_A>B)  z(TV_A<B)  \\\n",
      "0  lanczos_nograd  taylor_nograd   -3.031660  9.987839e-01   2.870672   \n",
      "1  lanczos_nograd    hmc_vanilla   12.665380  4.598689e-37  -1.085329   \n",
      "2   taylor_nograd    hmc_vanilla    9.500469  1.044736e-21  -3.530822   \n",
      "\n",
      "   p(TV_A<B)  \n",
      "0   0.002048  \n",
      "1   0.861112  \n",
      "2   0.999793  , 32:             alg_A          alg_B  z(ESS_A>B)  p(ESS_A>B)  z(TV_A<B)  p(TV_A<B)\n",
      "0  lanczos_nograd  taylor_nograd   -3.630895    0.999859   0.933606   0.175254\n",
      "1  lanczos_nograd    hmc_vanilla   -8.443601    1.000000   0.183130   0.427348\n",
      "2   taylor_nograd    hmc_vanilla   -3.897971    0.999951  -0.710780   0.761390, 64:             alg_A          alg_B  z(ESS_A>B)  p(ESS_A>B)  z(TV_A<B)  p(TV_A<B)\n",
      "0  lanczos_nograd  taylor_nograd   -3.750995    0.999912   0.809285   0.209175\n",
      "1  lanczos_nograd    hmc_vanilla   -9.424102    1.000000   0.919508   0.178915\n",
      "2   taylor_nograd    hmc_vanilla   -4.311513    0.999992   0.179850   0.428635}\n"
     ]
    },
    {
     "data": {
      "application/vnd.jupyter.widget-view+json": {
       "model_id": "fb0f0bc0e14444418bc29aac38988f8e",
       "version_major": 2,
       "version_minor": 0
      },
      "text/plain": [
       "alg:   0%|          | 0/3 [00:00<?, ?it/s]"
      ]
     },
     "metadata": {},
     "output_type": "display_data"
    },
    {
     "name": "stdout",
     "output_type": "stream",
     "text": [
      "\n",
      "dim=128, dist=illcond_gaussian\n",
      "                 hmc_vanilla  taylor_nograd  lanczos_nograd\n",
      "ess_mean           0.482406       0.474242        0.459710\n",
      "ess_conf_sigma     0.001166       0.001680        0.002079\n",
      "tv_mean            0.022355       0.020167        0.020153\n",
      "tv_conf_sigma      0.001385       0.001140        0.001134\n",
      "runtime          192.363732     302.097770      323.819201\n",
      "chains_kept       30.000000      30.000000       30.000000\n",
      "{8:             alg_A          alg_B  z(ESS_A>B)    p(ESS_A>B)  z(TV_A<B)  \\\n",
      "0  lanczos_nograd  taylor_nograd    8.948415  1.803121e-19  -1.723305   \n",
      "1  lanczos_nograd    hmc_vanilla   65.561029  0.000000e+00   0.484852   \n",
      "2   taylor_nograd    hmc_vanilla   13.785108  1.566486e-43   1.935999   \n",
      "\n",
      "   p(TV_A<B)  \n",
      "0   0.957583  \n",
      "1   0.313891  \n",
      "2   0.026434  , 16:             alg_A          alg_B  z(ESS_A>B)    p(ESS_A>B)  z(TV_A<B)  \\\n",
      "0  lanczos_nograd  taylor_nograd   -3.031660  9.987839e-01   2.870672   \n",
      "1  lanczos_nograd    hmc_vanilla   12.665380  4.598689e-37  -1.085329   \n",
      "2   taylor_nograd    hmc_vanilla    9.500469  1.044736e-21  -3.530822   \n",
      "\n",
      "   p(TV_A<B)  \n",
      "0   0.002048  \n",
      "1   0.861112  \n",
      "2   0.999793  , 32:             alg_A          alg_B  z(ESS_A>B)  p(ESS_A>B)  z(TV_A<B)  p(TV_A<B)\n",
      "0  lanczos_nograd  taylor_nograd   -3.630895    0.999859   0.933606   0.175254\n",
      "1  lanczos_nograd    hmc_vanilla   -8.443601    1.000000   0.183130   0.427348\n",
      "2   taylor_nograd    hmc_vanilla   -3.897971    0.999951  -0.710780   0.761390, 64:             alg_A          alg_B  z(ESS_A>B)  p(ESS_A>B)  z(TV_A<B)  p(TV_A<B)\n",
      "0  lanczos_nograd  taylor_nograd   -3.750995    0.999912   0.809285   0.209175\n",
      "1  lanczos_nograd    hmc_vanilla   -9.424102    1.000000   0.919508   0.178915\n",
      "2   taylor_nograd    hmc_vanilla   -4.311513    0.999992   0.179850   0.428635, 128:             alg_A          alg_B  z(ESS_A>B)  p(ESS_A>B)  z(TV_A<B)  p(TV_A<B)\n",
      "0  lanczos_nograd  taylor_nograd   -5.436771    1.000000   0.009042   0.496393\n",
      "1  lanczos_nograd    hmc_vanilla   -9.522079    1.000000   1.229734   0.109398\n",
      "2   taylor_nograd    hmc_vanilla   -3.993495    0.999967   1.219185   0.111387}\n"
     ]
    },
    {
     "data": {
      "application/vnd.jupyter.widget-view+json": {
       "model_id": "5faba4ad2cd84ba1b8073d4e305ea21e",
       "version_major": 2,
       "version_minor": 0
      },
      "text/plain": [
       "alg:   0%|          | 0/3 [00:00<?, ?it/s]"
      ]
     },
     "metadata": {},
     "output_type": "display_data"
    },
    {
     "name": "stdout",
     "output_type": "stream",
     "text": [
      "\n",
      "dim=256, dist=illcond_gaussian\n",
      "                 hmc_vanilla  taylor_nograd  lanczos_nograd\n",
      "ess_mean           0.460276       0.454329        0.442395\n",
      "ess_conf_sigma     0.001495       0.001832        0.002354\n",
      "tv_mean            0.023512       0.020425        0.022688\n",
      "tv_conf_sigma      0.001563       0.001130        0.001486\n",
      "runtime          239.059087     378.550099      406.046630\n",
      "chains_kept       30.000000      30.000000       30.000000\n",
      "{8:             alg_A          alg_B  z(ESS_A>B)    p(ESS_A>B)  z(TV_A<B)  \\\n",
      "0  lanczos_nograd  taylor_nograd    8.948415  1.803121e-19  -1.723305   \n",
      "1  lanczos_nograd    hmc_vanilla   65.561029  0.000000e+00   0.484852   \n",
      "2   taylor_nograd    hmc_vanilla   13.785108  1.566486e-43   1.935999   \n",
      "\n",
      "   p(TV_A<B)  \n",
      "0   0.957583  \n",
      "1   0.313891  \n",
      "2   0.026434  , 16:             alg_A          alg_B  z(ESS_A>B)    p(ESS_A>B)  z(TV_A<B)  \\\n",
      "0  lanczos_nograd  taylor_nograd   -3.031660  9.987839e-01   2.870672   \n",
      "1  lanczos_nograd    hmc_vanilla   12.665380  4.598689e-37  -1.085329   \n",
      "2   taylor_nograd    hmc_vanilla    9.500469  1.044736e-21  -3.530822   \n",
      "\n",
      "   p(TV_A<B)  \n",
      "0   0.002048  \n",
      "1   0.861112  \n",
      "2   0.999793  , 32:             alg_A          alg_B  z(ESS_A>B)  p(ESS_A>B)  z(TV_A<B)  p(TV_A<B)\n",
      "0  lanczos_nograd  taylor_nograd   -3.630895    0.999859   0.933606   0.175254\n",
      "1  lanczos_nograd    hmc_vanilla   -8.443601    1.000000   0.183130   0.427348\n",
      "2   taylor_nograd    hmc_vanilla   -3.897971    0.999951  -0.710780   0.761390, 64:             alg_A          alg_B  z(ESS_A>B)  p(ESS_A>B)  z(TV_A<B)  p(TV_A<B)\n",
      "0  lanczos_nograd  taylor_nograd   -3.750995    0.999912   0.809285   0.209175\n",
      "1  lanczos_nograd    hmc_vanilla   -9.424102    1.000000   0.919508   0.178915\n",
      "2   taylor_nograd    hmc_vanilla   -4.311513    0.999992   0.179850   0.428635, 128:             alg_A          alg_B  z(ESS_A>B)  p(ESS_A>B)  z(TV_A<B)  p(TV_A<B)\n",
      "0  lanczos_nograd  taylor_nograd   -5.436771    1.000000   0.009042   0.496393\n",
      "1  lanczos_nograd    hmc_vanilla   -9.522079    1.000000   1.229734   0.109398\n",
      "2   taylor_nograd    hmc_vanilla   -3.993495    0.999967   1.219185   0.111387, 256:             alg_A          alg_B  z(ESS_A>B)  p(ESS_A>B)  z(TV_A<B)  p(TV_A<B)\n",
      "0  lanczos_nograd  taylor_nograd   -4.000512    0.999968  -1.211946   0.887233\n",
      "1  lanczos_nograd    hmc_vanilla   -6.411497    1.000000   0.382247   0.351139\n",
      "2   taylor_nograd    hmc_vanilla   -2.514648    0.994042   1.600483   0.054746}\n"
     ]
    }
   ],
   "source": [
    "chain_count = 30\n",
    "sample_count = 5000\n",
    "sample_iter_limit = 5000\n",
    "burn_in_iter_count = 5000\n",
    "step_size_burn_in_iter_count = 2500\n",
    "probe_period = 250000\n",
    "\n",
    "tv_threshold = 0.05\n",
    "tail_count_cap = 1000\n",
    "# stopping_rule = TVStop(threshold=tv_threshold, density_probe_count=1000,\n",
    "#                        projection_count=25, tail_count_cap=tail_count_cap)\n",
    "\n",
    "stopping_rule = NoStop(\n",
    "    density_probe_count=500,\n",
    "    projection_count=25,\n",
    "    tail_count_cap=tail_count_cap,\n",
    ")\n",
    "\n",
    "\n",
    "dist_names = [\n",
    "    #\"toeplitz_gm\",\n",
    "    \"toeplitz_gaussian\",\n",
    "    \"funnel\",\n",
    "    \"random_gm\",\n",
    "    \"illcond_gaussian\",\n",
    "]\n",
    "\n",
    "dimensions = [8, 16, 32, 64, 128, 256]\n",
    "log = []\n",
    "\n",
    "for dist_name in dist_names:\n",
    "    algs = {\n",
    "        # \"mala\": mala.MALAVanilla(\n",
    "        #     pipeline=None,\n",
    "        #     name=\"MALA\",\n",
    "        #     sigma_burn_in_params=hparams[\"mala\"].copy(),\n",
    "        #     sigma_burn_in_iter_count=burn_in_iter_count,\n",
    "        #     sample_iter_count=sample_iter_limit,\n",
    "        #     stopping_rule=stopping_rule,\n",
    "        #     probe_period=probe_period,\n",
    "        # ),\n",
    "        # \"fisher_mala\": fishermala.FisherMALAVanilla(\n",
    "        #     pipeline=None,\n",
    "        #     name=\"FisherMALA\",\n",
    "        #     sigma_burn_in_params=hparams[\"fisher_mala\"].copy(),\n",
    "        #     sigma_burn_in_iter_count=500,\n",
    "        #     prec_burn_in_params=hparams[\"fisher_mala\"].copy(),\n",
    "        #     prec_burn_in_iter_count=burn_in_iter_count - 500,\n",
    "        #     sample_iter_count=sample_iter_limit,\n",
    "        #     stopping_rule=stopping_rule,\n",
    "        #     probe_period=probe_period,\n",
    "        # ),\n",
    "        \"hmc_vanilla\": hmc.HMCVanilla(\n",
    "            pipeline=None,\n",
    "            name=\"HMCVanilla\",\n",
    "            common_params=hparams[\"hmc_vanilla\"][\"common\"].copy(),\n",
    "            fixed_params=hparams[\"hmc_vanilla\"][\"fixed\"],\n",
    "            step_size_burn_in_iter_count=step_size_burn_in_iter_count,\n",
    "            sample_iter_count=sample_iter_limit,\n",
    "            burn_in_iter_count=burn_in_iter_count,\n",
    "            stopping_rule=stopping_rule,\n",
    "            probe_period=probe_period,\n",
    "        ),\n",
    "        \"taylor_nograd\": hmcadaptive.HMCAdaptive(\n",
    "            pipeline=None,\n",
    "            name=\"HMCAdaptiveHutchTaylorNoGrad\",\n",
    "            common_params=hparams[\"taylor_nograd\"][\"common\"].copy(),\n",
    "            fixed_params=hparams[\"taylor_nograd\"][\"fixed\"],\n",
    "            step_size_burn_in_iter_count=step_size_burn_in_iter_count,\n",
    "            sample_iter_count=sample_iter_limit,\n",
    "            burn_in_iter_count=burn_in_iter_count,\n",
    "            stopping_rule=stopping_rule,\n",
    "            probe_period=probe_period,\n",
    "        ),\n",
    "        \"lanczos_nograd\": hmcadaptive.HMCAdaptive(\n",
    "            pipeline=None,\n",
    "            name=\"HMCAdaptiveHutchLanczosNoGrad\",\n",
    "            common_params=hparams[\"lanczos_nograd\"][\"common\"].copy(),\n",
    "            fixed_params=hparams[\"lanczos_nograd\"][\"fixed\"],\n",
    "            step_size_burn_in_iter_count=step_size_burn_in_iter_count,\n",
    "            sample_iter_count=sample_iter_limit,\n",
    "            burn_in_iter_count=burn_in_iter_count,\n",
    "            stopping_rule=stopping_rule,\n",
    "            probe_period=probe_period,\n",
    "        ),\n",
    "        # \"hmcadaptive_hutch_taylor\": hmcadaptive.HMCAdaptive(\n",
    "        #     pipeline=None,\n",
    "        #     name=\"HMCAdaptiveHutchTaylor\",\n",
    "        #     common_params=hparams[\"hmcadaptive_hutch_taylor\"][\"common\"].copy(),\n",
    "        #     fixed_params=hparams[\"hmcadaptive_hutch_taylor\"][\"fixed\"],\n",
    "        #     step_size_burn_in_iter_count=step_size_burn_in_iter_count,\n",
    "        #     sample_iter_count=sample_iter_limit,\n",
    "        #     burn_in_iter_count=burn_in_iter_count,\n",
    "        #     stopping_rule=stopping_rule,\n",
    "        #     probe_period=probe_period,\n",
    "        # ),\n",
    "        # \"hmcadaptive_fullent\": hmcadaptive.HMCAdaptive(\n",
    "        #     pipeline=None,\n",
    "        #     name=\"HMCAdaptiveFullEnt\",\n",
    "        #     params=hparams[\"hmcadaptive_fullent\"].copy(),\n",
    "        #     step_size_burn_in_iter_count=step_size_burn_in_iter_count,\n",
    "        #     sample_iter_count=sample_iter_limit,\n",
    "        #     burn_in_iter_count=burn_in_iter_count,\n",
    "        #     stopping_rule=stopping_rule,\n",
    "        #     probe_period=probe_period,\n",
    "        # ),\n",
    "        # \"hmcadaptive_noent\": hmcadaptive.HMCAdaptive(\n",
    "        #     pipeline=None,\n",
    "        #     name=\"HMCAdaptiveNoEnt\",\n",
    "        #     params=hparams[\"hmcadaptive_noent\"].copy(),\n",
    "        #     step_size_burn_in_iter_count=step_size_burn_in_iter_count,\n",
    "        #     sample_iter_count=sample_iter_limit,\n",
    "        #     burn_in_iter_count=burn_in_iter_count,\n",
    "        #     stopping_rule=stopping_rule,\n",
    "        #     probe_period=probe_period,\n",
    "        # ),\n",
    "    }\n",
    "    run_experiment(dist_name, log=log)"
   ]
  },
  {
   "cell_type": "code",
   "execution_count": 13,
   "id": "fc3df7c4-32ba-4573-a4c7-973049bbd666",
   "metadata": {},
   "outputs": [],
   "source": [
    "import cloudpickle"
   ]
  },
  {
   "cell_type": "code",
   "execution_count": 14,
   "id": "7158dea3-1cd9-4fb7-a222-2fc525358089",
   "metadata": {},
   "outputs": [],
   "source": [
    "# with open(\"exp_2.pkl\", \"wb\") as f:\n",
    "#     cloudpickle.dump(log, f)"
   ]
  },
  {
   "cell_type": "code",
   "execution_count": 15,
   "id": "b9d34943-f01a-47a7-a569-467f1275fb9a",
   "metadata": {},
   "outputs": [
    {
     "data": {
      "text/plain": [
       "Text(0.5, 1.0, 'taylor_nograd')"
      ]
     },
     "execution_count": 15,
     "metadata": {},
     "output_type": "execute_result"
    },
    {
     "data": {
      "image/png": "[encoded data removed]",
      "text/plain": [
       "<Figure size 640x480 with 1 Axes>"
      ]
     },
     "metadata": {},
     "output_type": "display_data"
    }
   ],
   "source": [
    "plt.plot(\n",
    "    moving_average(\n",
    "        algs[\"taylor_nograd\"].pipeline.sample_blocks[-1].iteration.cache.grad_norm\n",
    "    ),\n",
    ")\n",
    "plt.title(\"taylor_nograd\")"
   ]
  },
  {
   "cell_type": "code",
   "execution_count": 16,
   "id": "e2a11194-e43d-45f7-8f66-5018da3e14d8",
   "metadata": {},
   "outputs": [
    {
     "data": {
      "text/plain": [
       "Text(0.5, 1.0, 'lanczos_nograd')"
      ]
     },
     "execution_count": 16,
     "metadata": {},
     "output_type": "execute_result"
    },
    {
     "data": {
      "image/png": "[encoded data removed]",
      "text/plain": [
       "<Figure size 640x480 with 1 Axes>"
      ]
     },
     "metadata": {},
     "output_type": "display_data"
    }
   ],
   "source": [
    "plt.plot(\n",
    "    moving_average(\n",
    "        algs[\"lanczos_nograd\"].pipeline.sample_blocks[-1].iteration.cache.grad_norm\n",
    "    ),\n",
    ")\n",
    "plt.title(\"lanczos_nograd\")"
   ]
  },
  {
   "cell_type": "code",
   "execution_count": null,
   "id": "534184de-5316-4325-8178-90b1ca297f7a",
   "metadata": {},
   "outputs": [],
   "source": []
  },
  {
   "cell_type": "code",
   "execution_count": 17,
   "id": "353af9d1-705c-49fb-8f4e-9d8b2821cb38",
   "metadata": {},
   "outputs": [
    {
     "name": "stdout",
     "output_type": "stream",
     "text": [
      "\n",
      "dim=8, dist=toeplitz_gaussian\n",
      "                 hmc_vanilla  taylor_nograd  lanczos_nograd\n",
      "ess_mean           0.513984       0.261027        0.453840\n",
      "ess_conf_sigma     0.005119       0.011942        0.011946\n",
      "tv_mean            0.006937       0.008591        0.007074\n",
      "tv_conf_sigma      0.000836       0.000988        0.000795\n",
      "runtime          162.206427     248.754778      267.311623\n",
      "chains_kept       30.000000      30.000000       30.000000\n",
      "\n",
      "dim=16, dist=toeplitz_gaussian\n",
      "                 hmc_vanilla  taylor_nograd  lanczos_nograd\n",
      "ess_mean           0.788382       0.545581        0.346348\n",
      "ess_conf_sigma     0.005597       0.035193        0.008399\n",
      "tv_mean            0.014480       0.008804        0.009077\n",
      "tv_conf_sigma      0.002614       0.001055        0.001052\n",
      "runtime          159.398611     249.373696      267.118730\n",
      "chains_kept       30.000000      30.000000       30.000000\n",
      "\n",
      "dim=32, dist=toeplitz_gaussian\n",
      "                 hmc_vanilla  taylor_nograd  lanczos_nograd\n",
      "ess_mean           0.617690       0.311446        0.394137\n",
      "ess_conf_sigma     0.011309       0.007761        0.011458\n",
      "tv_mean            0.010011       0.014916        0.018160\n",
      "tv_conf_sigma      0.001173       0.002052        0.002344\n",
      "runtime          164.387693     257.698819      277.047651\n",
      "chains_kept       30.000000      30.000000       30.000000\n",
      "\n",
      "dim=64, dist=toeplitz_gaussian\n",
      "                 hmc_vanilla  taylor_nograd  lanczos_nograd\n",
      "ess_mean           0.567593       0.621317        0.668453\n",
      "ess_conf_sigma     0.004978       0.007173        0.008318\n",
      "tv_mean            0.009338       0.010070        0.009810\n",
      "tv_conf_sigma      0.000920       0.001149        0.001191\n",
      "runtime          176.768437     277.013992      296.438658\n",
      "chains_kept       30.000000      30.000000       30.000000\n",
      "\n",
      "dim=128, dist=toeplitz_gaussian\n",
      "                 hmc_vanilla  taylor_nograd  lanczos_nograd\n",
      "ess_mean           0.428555       0.654236        0.612047\n",
      "ess_conf_sigma     0.002767       0.004190        0.003971\n",
      "tv_mean            0.009112       0.009936        0.008911\n",
      "tv_conf_sigma      0.000874       0.001002        0.000816\n",
      "runtime          192.274623     303.758994      326.918585\n",
      "chains_kept       30.000000      30.000000       30.000000\n",
      "\n",
      "dim=256, dist=toeplitz_gaussian\n",
      "                 hmc_vanilla  taylor_nograd  lanczos_nograd\n",
      "ess_mean           0.319540       0.563073        0.477555\n",
      "ess_conf_sigma     0.002152       0.003155        0.003050\n",
      "tv_mean            0.009464       0.009187        0.009242\n",
      "tv_conf_sigma      0.000964       0.000882        0.000895\n",
      "runtime          243.089978     383.190408      413.918382\n",
      "chains_kept       30.000000      30.000000       30.000000\n",
      "\n",
      "dim=8, dist=funnel\n",
      "                 hmc_vanilla  taylor_nograd  lanczos_nograd\n",
      "ess_mean           0.367812       0.279235        0.372674\n",
      "ess_conf_sigma     0.032698       0.027681        0.032721\n",
      "tv_mean            0.080678       0.079229        0.081794\n",
      "tv_conf_sigma      0.005767       0.004978        0.005584\n",
      "runtime          147.163792     225.003660      249.299088\n",
      "chains_kept       30.000000      30.000000       30.000000\n",
      "\n",
      "dim=16, dist=funnel\n",
      "                 hmc_vanilla  taylor_nograd  lanczos_nograd\n",
      "ess_mean           0.491862       0.360422        0.376806\n",
      "ess_conf_sigma     0.031591       0.032868        0.035644\n",
      "tv_mean            0.071758       0.075204        0.068962\n",
      "tv_conf_sigma      0.003934       0.005696        0.004031\n",
      "runtime          144.704451     226.697040      249.359480\n",
      "chains_kept       30.000000      30.000000       30.000000\n",
      "\n",
      "dim=32, dist=funnel\n",
      "                 hmc_vanilla  taylor_nograd  lanczos_nograd\n",
      "ess_mean           0.398725       0.327946        0.360079\n",
      "ess_conf_sigma     0.039212       0.035338        0.035056\n",
      "tv_mean            0.075138       0.071793        0.086615\n",
      "tv_conf_sigma      0.005134       0.003477        0.006233\n",
      "runtime          157.752346     239.445935      263.742458\n",
      "chains_kept       30.000000      30.000000       30.000000\n",
      "\n",
      "dim=64, dist=funnel\n",
      "                 hmc_vanilla  taylor_nograd  lanczos_nograd\n",
      "ess_mean           0.374297       0.342227        0.347116\n",
      "ess_conf_sigma     0.037613       0.029601        0.025834\n",
      "tv_mean            0.089318       0.088392        0.086077\n",
      "tv_conf_sigma      0.006638       0.006411        0.006744\n",
      "runtime          168.697186     254.903678      280.521268\n",
      "chains_kept       30.000000      30.000000       30.000000\n",
      "\n",
      "dim=128, dist=funnel\n",
      "                 hmc_vanilla  taylor_nograd  lanczos_nograd\n",
      "ess_mean           0.424754       0.337691        0.361284\n",
      "ess_conf_sigma     0.029597       0.026845        0.025323\n",
      "tv_mean            0.122210       0.137041        0.132885\n",
      "tv_conf_sigma      0.010035       0.012271        0.008877\n",
      "runtime          181.422723     275.347867      305.566977\n",
      "chains_kept       30.000000      30.000000       30.000000\n",
      "\n",
      "dim=256, dist=funnel\n",
      "                 hmc_vanilla  taylor_nograd  lanczos_nograd\n",
      "ess_mean           0.294035       0.366050        0.391093\n",
      "ess_conf_sigma     0.039217       0.025829        0.029941\n",
      "tv_mean            0.161853       0.156756        0.153118\n",
      "tv_conf_sigma      0.014372       0.016294        0.017091\n",
      "runtime          209.692966     312.014819      350.588082\n",
      "chains_kept       30.000000      30.000000       30.000000\n",
      "\n",
      "dim=8, dist=random_gm\n",
      "                 hmc_vanilla  taylor_nograd  lanczos_nograd\n",
      "ess_mean           0.564887       0.290892        0.518385\n",
      "ess_conf_sigma     0.002312       0.001761        0.003364\n",
      "tv_mean            0.009382       0.011215        0.009517\n",
      "tv_conf_sigma      0.000806       0.000984        0.000791\n",
      "runtime          242.019890     381.247605      412.583056\n",
      "chains_kept       30.000000      30.000000       30.000000\n",
      "\n",
      "dim=16, dist=random_gm\n",
      "                 hmc_vanilla  taylor_nograd  lanczos_nograd\n",
      "ess_mean           0.810220       0.508076        0.819089\n",
      "ess_conf_sigma     0.002114       0.001934        0.002699\n",
      "tv_mean            0.008249       0.009618        0.008396\n",
      "tv_conf_sigma      0.000610       0.000855        0.000670\n",
      "runtime          254.849285     402.719102      439.006576\n",
      "chains_kept       30.000000      30.000000       30.000000\n",
      "\n",
      "dim=32, dist=random_gm\n",
      "                 hmc_vanilla  taylor_nograd  lanczos_nograd\n",
      "ess_mean           0.788111       0.723011        0.770261\n",
      "ess_conf_sigma     0.001466       0.001597        0.001091\n",
      "tv_mean            0.008579       0.008789        0.008973\n",
      "tv_conf_sigma      0.000745       0.000709        0.000759\n",
      "runtime          303.937383     480.891397      525.015445\n",
      "chains_kept       30.000000      30.000000       30.000000\n",
      "\n",
      "dim=64, dist=random_gm\n",
      "                 hmc_vanilla  taylor_nograd  lanczos_nograd\n",
      "ess_mean           0.531710       0.347096        0.671682\n",
      "ess_conf_sigma     0.001870       0.001344        0.002505\n",
      "tv_mean            0.010311       0.011627        0.009338\n",
      "tv_conf_sigma      0.000929       0.001043        0.000761\n",
      "runtime          427.320245     667.720586      730.650223\n",
      "chains_kept       30.000000      30.000000       30.000000\n",
      "\n",
      "dim=128, dist=random_gm\n",
      "                 hmc_vanilla  taylor_nograd  lanczos_nograd\n",
      "ess_mean           0.047505       0.031763        0.052876\n",
      "ess_conf_sigma     0.000740       0.000608        0.001194\n",
      "tv_mean            0.036717       0.047122        0.036736\n",
      "tv_conf_sigma      0.004244       0.005767        0.004590\n",
      "runtime          660.919699    1033.824702     1116.140137\n",
      "chains_kept       30.000000      30.000000       30.000000\n",
      "\n",
      "dim=256, dist=random_gm\n",
      "                 hmc_vanilla  taylor_nograd  lanczos_nograd\n",
      "ess_mean           0.286790       0.097542        0.423608\n",
      "ess_conf_sigma     0.006929       0.003658        0.010137\n",
      "tv_mean            0.117985       0.121359        0.108232\n",
      "tv_conf_sigma      0.014604       0.015408        0.014397\n",
      "runtime         1444.454320    2238.142788     2438.989277\n",
      "chains_kept       30.000000      30.000000       30.000000\n",
      "\n",
      "dim=8, dist=illcond_gaussian\n",
      "                 hmc_vanilla  taylor_nograd  lanczos_nograd\n",
      "ess_mean           0.402759       0.553284        0.655326\n",
      "ess_conf_sigma     0.001420       0.010827        0.003581\n",
      "tv_mean            0.021251       0.016839        0.020107\n",
      "tv_conf_sigma      0.001892       0.001270        0.001408\n",
      "runtime          157.558502     247.592480      264.676075\n",
      "chains_kept       30.000000      30.000000       30.000000\n",
      "\n",
      "dim=16, dist=illcond_gaussian\n",
      "                 hmc_vanilla  taylor_nograd  lanczos_nograd\n",
      "ess_mean           0.504716       0.602060        0.568148\n",
      "ess_conf_sigma     0.001572       0.010125        0.004755\n",
      "tv_mean            0.020131       0.036299        0.022779\n",
      "tv_conf_sigma      0.001540       0.004313        0.001893\n",
      "runtime          159.502828     251.370957      268.856697\n",
      "chains_kept       30.000000      30.000000       30.000000\n",
      "\n",
      "dim=32, dist=illcond_gaussian\n",
      "                 hmc_vanilla  taylor_nograd  lanczos_nograd\n",
      "ess_mean           0.535514       0.522858        0.506945\n",
      "ess_conf_sigma     0.001180       0.003025        0.003171\n",
      "tv_mean            0.021604       0.023170        0.021261\n",
      "tv_conf_sigma      0.001444       0.001665        0.001186\n",
      "runtime          165.524292     259.517421      278.156906\n",
      "chains_kept       30.000000      30.000000       30.000000\n",
      "\n",
      "dim=64, dist=illcond_gaussian\n",
      "                 hmc_vanilla  taylor_nograd  lanczos_nograd\n",
      "ess_mean           0.503812       0.491307        0.478432\n",
      "ess_conf_sigma     0.001394       0.002544        0.002305\n",
      "tv_mean            0.021153       0.020813        0.019491\n",
      "tv_conf_sigma      0.001443       0.001219        0.001088\n",
      "runtime          176.515224     277.147188      297.030074\n",
      "chains_kept       30.000000      30.000000       30.000000\n",
      "\n",
      "dim=128, dist=illcond_gaussian\n",
      "                 hmc_vanilla  taylor_nograd  lanczos_nograd\n",
      "ess_mean           0.482406       0.474242        0.459710\n",
      "ess_conf_sigma     0.001166       0.001680        0.002079\n",
      "tv_mean            0.022355       0.020167        0.020153\n",
      "tv_conf_sigma      0.001385       0.001140        0.001134\n",
      "runtime          192.363732     302.097770      323.819201\n",
      "chains_kept       30.000000      30.000000       30.000000\n",
      "\n",
      "dim=256, dist=illcond_gaussian\n",
      "                 hmc_vanilla  taylor_nograd  lanczos_nograd\n",
      "ess_mean           0.460276       0.454329        0.442395\n",
      "ess_conf_sigma     0.001495       0.001832        0.002354\n",
      "tv_mean            0.023512       0.020425        0.022688\n",
      "tv_conf_sigma      0.001563       0.001130        0.001486\n",
      "runtime          239.059087     378.550099      406.046630\n",
      "chains_kept       30.000000      30.000000       30.000000\n"
     ]
    }
   ],
   "source": [
    "print_log(log)"
   ]
  },
  {
   "cell_type": "code",
   "execution_count": 18,
   "id": "d8ce4dd2-da65-4a66-ae2d-c8487fe9f3d3",
   "metadata": {},
   "outputs": [
    {
     "name": "stdout",
     "output_type": "stream",
     "text": [
      "\n",
      "dim=8, dist=toeplitz_gaussian\n",
      "                 hmc_vanilla  taylor_nograd  lanczos_nograd\n",
      "ess_mean           0.513984       0.261027        0.453840\n",
      "ess_conf_sigma     0.005119       0.011942        0.011946\n",
      "tv_mean            0.006937       0.008591        0.007074\n",
      "tv_conf_sigma      0.000836       0.000988        0.000795\n",
      "runtime          162.206427     248.754778      267.311623\n",
      "chains_kept       30.000000      30.000000       30.000000\n",
      "\n",
      "dim=16, dist=toeplitz_gaussian\n",
      "                 hmc_vanilla  taylor_nograd  lanczos_nograd\n",
      "ess_mean           0.788382       0.545581        0.346348\n",
      "ess_conf_sigma     0.005597       0.035193        0.008399\n",
      "tv_mean            0.014480       0.008804        0.009077\n",
      "tv_conf_sigma      0.002614       0.001055        0.001052\n",
      "runtime          159.398611     249.373696      267.118730\n",
      "chains_kept       30.000000      30.000000       30.000000\n",
      "\n",
      "dim=32, dist=toeplitz_gaussian\n",
      "                 hmc_vanilla  taylor_nograd  lanczos_nograd\n",
      "ess_mean           0.617690       0.311446        0.394137\n",
      "ess_conf_sigma     0.011309       0.007761        0.011458\n",
      "tv_mean            0.010011       0.014916        0.018160\n",
      "tv_conf_sigma      0.001173       0.002052        0.002344\n",
      "runtime          164.387693     257.698819      277.047651\n",
      "chains_kept       30.000000      30.000000       30.000000\n",
      "\n",
      "dim=64, dist=toeplitz_gaussian\n",
      "                 hmc_vanilla  taylor_nograd  lanczos_nograd\n",
      "ess_mean           0.567593       0.621317        0.668453\n",
      "ess_conf_sigma     0.004978       0.007173        0.008318\n",
      "tv_mean            0.009338       0.010070        0.009810\n",
      "tv_conf_sigma      0.000920       0.001149        0.001191\n",
      "runtime          176.768437     277.013992      296.438658\n",
      "chains_kept       30.000000      30.000000       30.000000\n",
      "\n",
      "dim=128, dist=toeplitz_gaussian\n",
      "                 hmc_vanilla  taylor_nograd  lanczos_nograd\n",
      "ess_mean           0.428555       0.654236        0.612047\n",
      "ess_conf_sigma     0.002767       0.004190        0.003971\n",
      "tv_mean            0.009112       0.009936        0.008911\n",
      "tv_conf_sigma      0.000874       0.001002        0.000816\n",
      "runtime          192.274623     303.758994      326.918585\n",
      "chains_kept       30.000000      30.000000       30.000000\n",
      "\n",
      "dim=256, dist=toeplitz_gaussian\n",
      "                 hmc_vanilla  taylor_nograd  lanczos_nograd\n",
      "ess_mean           0.319540       0.563073        0.477555\n",
      "ess_conf_sigma     0.002152       0.003155        0.003050\n",
      "tv_mean            0.009464       0.009187        0.009242\n",
      "tv_conf_sigma      0.000964       0.000882        0.000895\n",
      "runtime          243.089978     383.190408      413.918382\n",
      "chains_kept       30.000000      30.000000       30.000000\n",
      "\n",
      "dim=8, dist=funnel\n",
      "                 hmc_vanilla  taylor_nograd  lanczos_nograd\n",
      "ess_mean           0.367812       0.279235        0.372674\n",
      "ess_conf_sigma     0.032698       0.027681        0.032721\n",
      "tv_mean            0.080678       0.079229        0.081794\n",
      "tv_conf_sigma      0.005767       0.004978        0.005584\n",
      "runtime          147.163792     225.003660      249.299088\n",
      "chains_kept       30.000000      30.000000       30.000000\n",
      "\n",
      "dim=16, dist=funnel\n",
      "                 hmc_vanilla  taylor_nograd  lanczos_nograd\n",
      "ess_mean           0.491862       0.360422        0.376806\n",
      "ess_conf_sigma     0.031591       0.032868        0.035644\n",
      "tv_mean            0.071758       0.075204        0.068962\n",
      "tv_conf_sigma      0.003934       0.005696        0.004031\n",
      "runtime          144.704451     226.697040      249.359480\n",
      "chains_kept       30.000000      30.000000       30.000000\n",
      "\n",
      "dim=32, dist=funnel\n",
      "                 hmc_vanilla  taylor_nograd  lanczos_nograd\n",
      "ess_mean           0.398725       0.327946        0.360079\n",
      "ess_conf_sigma     0.039212       0.035338        0.035056\n",
      "tv_mean            0.075138       0.071793        0.086615\n",
      "tv_conf_sigma      0.005134       0.003477        0.006233\n",
      "runtime          157.752346     239.445935      263.742458\n",
      "chains_kept       30.000000      30.000000       30.000000\n",
      "\n",
      "dim=64, dist=funnel\n",
      "                 hmc_vanilla  taylor_nograd  lanczos_nograd\n",
      "ess_mean           0.374297       0.342227        0.347116\n",
      "ess_conf_sigma     0.037613       0.029601        0.025834\n",
      "tv_mean            0.089318       0.088392        0.086077\n",
      "tv_conf_sigma      0.006638       0.006411        0.006744\n",
      "runtime          168.697186     254.903678      280.521268\n",
      "chains_kept       30.000000      30.000000       30.000000\n",
      "\n",
      "dim=128, dist=funnel\n",
      "                 hmc_vanilla  taylor_nograd  lanczos_nograd\n",
      "ess_mean           0.424754       0.337691        0.361284\n",
      "ess_conf_sigma     0.029597       0.026845        0.025323\n",
      "tv_mean            0.122210       0.137041        0.132885\n",
      "tv_conf_sigma      0.010035       0.012271        0.008877\n",
      "runtime          181.422723     275.347867      305.566977\n",
      "chains_kept       30.000000      30.000000       30.000000\n",
      "\n",
      "dim=256, dist=funnel\n",
      "                 hmc_vanilla  taylor_nograd  lanczos_nograd\n",
      "ess_mean           0.294035       0.366050        0.391093\n",
      "ess_conf_sigma     0.039217       0.025829        0.029941\n",
      "tv_mean            0.161853       0.156756        0.153118\n",
      "tv_conf_sigma      0.014372       0.016294        0.017091\n",
      "runtime          209.692966     312.014819      350.588082\n",
      "chains_kept       30.000000      30.000000       30.000000\n",
      "\n",
      "dim=8, dist=random_gm\n",
      "                 hmc_vanilla  taylor_nograd  lanczos_nograd\n",
      "ess_mean           0.564887       0.290892        0.518385\n",
      "ess_conf_sigma     0.002312       0.001761        0.003364\n",
      "tv_mean            0.009382       0.011215        0.009517\n",
      "tv_conf_sigma      0.000806       0.000984        0.000791\n",
      "runtime          242.019890     381.247605      412.583056\n",
      "chains_kept       30.000000      30.000000       30.000000\n",
      "\n",
      "dim=16, dist=random_gm\n",
      "                 hmc_vanilla  taylor_nograd  lanczos_nograd\n",
      "ess_mean           0.810220       0.508076        0.819089\n",
      "ess_conf_sigma     0.002114       0.001934        0.002699\n",
      "tv_mean            0.008249       0.009618        0.008396\n",
      "tv_conf_sigma      0.000610       0.000855        0.000670\n",
      "runtime          254.849285     402.719102      439.006576\n",
      "chains_kept       30.000000      30.000000       30.000000\n",
      "\n",
      "dim=32, dist=random_gm\n",
      "                 hmc_vanilla  taylor_nograd  lanczos_nograd\n",
      "ess_mean           0.788111       0.723011        0.770261\n",
      "ess_conf_sigma     0.001466       0.001597        0.001091\n",
      "tv_mean            0.008579       0.008789        0.008973\n",
      "tv_conf_sigma      0.000745       0.000709        0.000759\n",
      "runtime          303.937383     480.891397      525.015445\n",
      "chains_kept       30.000000      30.000000       30.000000\n",
      "\n",
      "dim=64, dist=random_gm\n",
      "                 hmc_vanilla  taylor_nograd  lanczos_nograd\n",
      "ess_mean           0.531710       0.347096        0.671682\n",
      "ess_conf_sigma     0.001870       0.001344        0.002505\n",
      "tv_mean            0.010311       0.011627        0.009338\n",
      "tv_conf_sigma      0.000929       0.001043        0.000761\n",
      "runtime          427.320245     667.720586      730.650223\n",
      "chains_kept       30.000000      30.000000       30.000000\n",
      "\n",
      "dim=128, dist=random_gm\n",
      "                 hmc_vanilla  taylor_nograd  lanczos_nograd\n",
      "ess_mean           0.047505       0.031763        0.052876\n",
      "ess_conf_sigma     0.000740       0.000608        0.001194\n",
      "tv_mean            0.036717       0.047122        0.036736\n",
      "tv_conf_sigma      0.004244       0.005767        0.004590\n",
      "runtime          660.919699    1033.824702     1116.140137\n",
      "chains_kept       30.000000      30.000000       30.000000\n",
      "\n",
      "dim=256, dist=random_gm\n",
      "                 hmc_vanilla  taylor_nograd  lanczos_nograd\n",
      "ess_mean           0.286790       0.097542        0.423608\n",
      "ess_conf_sigma     0.006929       0.003658        0.010137\n",
      "tv_mean            0.117985       0.121359        0.108232\n",
      "tv_conf_sigma      0.014604       0.015408        0.014397\n",
      "runtime         1444.454320    2238.142788     2438.989277\n",
      "chains_kept       30.000000      30.000000       30.000000\n",
      "\n",
      "dim=8, dist=illcond_gaussian\n",
      "                 hmc_vanilla  taylor_nograd  lanczos_nograd\n",
      "ess_mean           0.402759       0.553284        0.655326\n",
      "ess_conf_sigma     0.001420       0.010827        0.003581\n",
      "tv_mean            0.021251       0.016839        0.020107\n",
      "tv_conf_sigma      0.001892       0.001270        0.001408\n",
      "runtime          157.558502     247.592480      264.676075\n",
      "chains_kept       30.000000      30.000000       30.000000\n",
      "\n",
      "dim=16, dist=illcond_gaussian\n",
      "                 hmc_vanilla  taylor_nograd  lanczos_nograd\n",
      "ess_mean           0.504716       0.602060        0.568148\n",
      "ess_conf_sigma     0.001572       0.010125        0.004755\n",
      "tv_mean            0.020131       0.036299        0.022779\n",
      "tv_conf_sigma      0.001540       0.004313        0.001893\n",
      "runtime          159.502828     251.370957      268.856697\n",
      "chains_kept       30.000000      30.000000       30.000000\n",
      "\n",
      "dim=32, dist=illcond_gaussian\n",
      "                 hmc_vanilla  taylor_nograd  lanczos_nograd\n",
      "ess_mean           0.535514       0.522858        0.506945\n",
      "ess_conf_sigma     0.001180       0.003025        0.003171\n",
      "tv_mean            0.021604       0.023170        0.021261\n",
      "tv_conf_sigma      0.001444       0.001665        0.001186\n",
      "runtime          165.524292     259.517421      278.156906\n",
      "chains_kept       30.000000      30.000000       30.000000\n",
      "\n",
      "dim=64, dist=illcond_gaussian\n",
      "                 hmc_vanilla  taylor_nograd  lanczos_nograd\n",
      "ess_mean           0.503812       0.491307        0.478432\n",
      "ess_conf_sigma     0.001394       0.002544        0.002305\n",
      "tv_mean            0.021153       0.020813        0.019491\n",
      "tv_conf_sigma      0.001443       0.001219        0.001088\n",
      "runtime          176.515224     277.147188      297.030074\n",
      "chains_kept       30.000000      30.000000       30.000000\n",
      "\n",
      "dim=128, dist=illcond_gaussian\n",
      "                 hmc_vanilla  taylor_nograd  lanczos_nograd\n",
      "ess_mean           0.482406       0.474242        0.459710\n",
      "ess_conf_sigma     0.001166       0.001680        0.002079\n",
      "tv_mean            0.022355       0.020167        0.020153\n",
      "tv_conf_sigma      0.001385       0.001140        0.001134\n",
      "runtime          192.363732     302.097770      323.819201\n",
      "chains_kept       30.000000      30.000000       30.000000\n",
      "\n",
      "dim=256, dist=illcond_gaussian\n",
      "                 hmc_vanilla  taylor_nograd  lanczos_nograd\n",
      "ess_mean           0.460276       0.454329        0.442395\n",
      "ess_conf_sigma     0.001495       0.001832        0.002354\n",
      "tv_mean            0.023512       0.020425        0.022688\n",
      "tv_conf_sigma      0.001563       0.001130        0.001486\n",
      "runtime          239.059087     378.550099      406.046630\n",
      "chains_kept       30.000000      30.000000       30.000000\n"
     ]
    }
   ],
   "source": [
    "print_log(log)"
   ]
  },
  {
   "cell_type": "code",
   "execution_count": 19,
   "id": "6db9dc51-e60c-4d3d-a0b6-7d9d680acd59",
   "metadata": {},
   "outputs": [
    {
     "name": "stdout",
     "output_type": "stream",
     "text": [
      "\n",
      "dim=8, dist=toeplitz_gaussian\n",
      "                 hmc_vanilla  taylor_nograd  lanczos_nograd\n",
      "ess_mean           0.513984       0.261027        0.453840\n",
      "ess_conf_sigma     0.005119       0.011942        0.011946\n",
      "tv_mean            0.006937       0.008591        0.007074\n",
      "tv_conf_sigma      0.000836       0.000988        0.000795\n",
      "runtime          162.206427     248.754778      267.311623\n",
      "chains_kept       30.000000      30.000000       30.000000\n",
      "\n",
      "dim=16, dist=toeplitz_gaussian\n",
      "                 hmc_vanilla  taylor_nograd  lanczos_nograd\n",
      "ess_mean           0.788382       0.545581        0.346348\n",
      "ess_conf_sigma     0.005597       0.035193        0.008399\n",
      "tv_mean            0.014480       0.008804        0.009077\n",
      "tv_conf_sigma      0.002614       0.001055        0.001052\n",
      "runtime          159.398611     249.373696      267.118730\n",
      "chains_kept       30.000000      30.000000       30.000000\n",
      "\n",
      "dim=32, dist=toeplitz_gaussian\n",
      "                 hmc_vanilla  taylor_nograd  lanczos_nograd\n",
      "ess_mean           0.617690       0.311446        0.394137\n",
      "ess_conf_sigma     0.011309       0.007761        0.011458\n",
      "tv_mean            0.010011       0.014916        0.018160\n",
      "tv_conf_sigma      0.001173       0.002052        0.002344\n",
      "runtime          164.387693     257.698819      277.047651\n",
      "chains_kept       30.000000      30.000000       30.000000\n",
      "\n",
      "dim=64, dist=toeplitz_gaussian\n",
      "                 hmc_vanilla  taylor_nograd  lanczos_nograd\n",
      "ess_mean           0.567593       0.621317        0.668453\n",
      "ess_conf_sigma     0.004978       0.007173        0.008318\n",
      "tv_mean            0.009338       0.010070        0.009810\n",
      "tv_conf_sigma      0.000920       0.001149        0.001191\n",
      "runtime          176.768437     277.013992      296.438658\n",
      "chains_kept       30.000000      30.000000       30.000000\n",
      "\n",
      "dim=128, dist=toeplitz_gaussian\n",
      "                 hmc_vanilla  taylor_nograd  lanczos_nograd\n",
      "ess_mean           0.428555       0.654236        0.612047\n",
      "ess_conf_sigma     0.002767       0.004190        0.003971\n",
      "tv_mean            0.009112       0.009936        0.008911\n",
      "tv_conf_sigma      0.000874       0.001002        0.000816\n",
      "runtime          192.274623     303.758994      326.918585\n",
      "chains_kept       30.000000      30.000000       30.000000\n",
      "\n",
      "dim=256, dist=toeplitz_gaussian\n",
      "                 hmc_vanilla  taylor_nograd  lanczos_nograd\n",
      "ess_mean           0.319540       0.563073        0.477555\n",
      "ess_conf_sigma     0.002152       0.003155        0.003050\n",
      "tv_mean            0.009464       0.009187        0.009242\n",
      "tv_conf_sigma      0.000964       0.000882        0.000895\n",
      "runtime          243.089978     383.190408      413.918382\n",
      "chains_kept       30.000000      30.000000       30.000000\n",
      "\n",
      "dim=8, dist=funnel\n",
      "                 hmc_vanilla  taylor_nograd  lanczos_nograd\n",
      "ess_mean           0.367812       0.279235        0.372674\n",
      "ess_conf_sigma     0.032698       0.027681        0.032721\n",
      "tv_mean            0.080678       0.079229        0.081794\n",
      "tv_conf_sigma      0.005767       0.004978        0.005584\n",
      "runtime          147.163792     225.003660      249.299088\n",
      "chains_kept       30.000000      30.000000       30.000000\n",
      "\n",
      "dim=16, dist=funnel\n",
      "                 hmc_vanilla  taylor_nograd  lanczos_nograd\n",
      "ess_mean           0.491862       0.360422        0.376806\n",
      "ess_conf_sigma     0.031591       0.032868        0.035644\n",
      "tv_mean            0.071758       0.075204        0.068962\n",
      "tv_conf_sigma      0.003934       0.005696        0.004031\n",
      "runtime          144.704451     226.697040      249.359480\n",
      "chains_kept       30.000000      30.000000       30.000000\n",
      "\n",
      "dim=32, dist=funnel\n",
      "                 hmc_vanilla  taylor_nograd  lanczos_nograd\n",
      "ess_mean           0.398725       0.327946        0.360079\n",
      "ess_conf_sigma     0.039212       0.035338        0.035056\n",
      "tv_mean            0.075138       0.071793        0.086615\n",
      "tv_conf_sigma      0.005134       0.003477        0.006233\n",
      "runtime          157.752346     239.445935      263.742458\n",
      "chains_kept       30.000000      30.000000       30.000000\n",
      "\n",
      "dim=64, dist=funnel\n",
      "                 hmc_vanilla  taylor_nograd  lanczos_nograd\n",
      "ess_mean           0.374297       0.342227        0.347116\n",
      "ess_conf_sigma     0.037613       0.029601        0.025834\n",
      "tv_mean            0.089318       0.088392        0.086077\n",
      "tv_conf_sigma      0.006638       0.006411        0.006744\n",
      "runtime          168.697186     254.903678      280.521268\n",
      "chains_kept       30.000000      30.000000       30.000000\n",
      "\n",
      "dim=128, dist=funnel\n",
      "                 hmc_vanilla  taylor_nograd  lanczos_nograd\n",
      "ess_mean           0.424754       0.337691        0.361284\n",
      "ess_conf_sigma     0.029597       0.026845        0.025323\n",
      "tv_mean            0.122210       0.137041        0.132885\n",
      "tv_conf_sigma      0.010035       0.012271        0.008877\n",
      "runtime          181.422723     275.347867      305.566977\n",
      "chains_kept       30.000000      30.000000       30.000000\n",
      "\n",
      "dim=256, dist=funnel\n",
      "                 hmc_vanilla  taylor_nograd  lanczos_nograd\n",
      "ess_mean           0.294035       0.366050        0.391093\n",
      "ess_conf_sigma     0.039217       0.025829        0.029941\n",
      "tv_mean            0.161853       0.156756        0.153118\n",
      "tv_conf_sigma      0.014372       0.016294        0.017091\n",
      "runtime          209.692966     312.014819      350.588082\n",
      "chains_kept       30.000000      30.000000       30.000000\n",
      "\n",
      "dim=8, dist=random_gm\n",
      "                 hmc_vanilla  taylor_nograd  lanczos_nograd\n",
      "ess_mean           0.564887       0.290892        0.518385\n",
      "ess_conf_sigma     0.002312       0.001761        0.003364\n",
      "tv_mean            0.009382       0.011215        0.009517\n",
      "tv_conf_sigma      0.000806       0.000984        0.000791\n",
      "runtime          242.019890     381.247605      412.583056\n",
      "chains_kept       30.000000      30.000000       30.000000\n",
      "\n",
      "dim=16, dist=random_gm\n",
      "                 hmc_vanilla  taylor_nograd  lanczos_nograd\n",
      "ess_mean           0.810220       0.508076        0.819089\n",
      "ess_conf_sigma     0.002114       0.001934        0.002699\n",
      "tv_mean            0.008249       0.009618        0.008396\n",
      "tv_conf_sigma      0.000610       0.000855        0.000670\n",
      "runtime          254.849285     402.719102      439.006576\n",
      "chains_kept       30.000000      30.000000       30.000000\n",
      "\n",
      "dim=32, dist=random_gm\n",
      "                 hmc_vanilla  taylor_nograd  lanczos_nograd\n",
      "ess_mean           0.788111       0.723011        0.770261\n",
      "ess_conf_sigma     0.001466       0.001597        0.001091\n",
      "tv_mean            0.008579       0.008789        0.008973\n",
      "tv_conf_sigma      0.000745       0.000709        0.000759\n",
      "runtime          303.937383     480.891397      525.015445\n",
      "chains_kept       30.000000      30.000000       30.000000\n",
      "\n",
      "dim=64, dist=random_gm\n",
      "                 hmc_vanilla  taylor_nograd  lanczos_nograd\n",
      "ess_mean           0.531710       0.347096        0.671682\n",
      "ess_conf_sigma     0.001870       0.001344        0.002505\n",
      "tv_mean            0.010311       0.011627        0.009338\n",
      "tv_conf_sigma      0.000929       0.001043        0.000761\n",
      "runtime          427.320245     667.720586      730.650223\n",
      "chains_kept       30.000000      30.000000       30.000000\n",
      "\n",
      "dim=128, dist=random_gm\n",
      "                 hmc_vanilla  taylor_nograd  lanczos_nograd\n",
      "ess_mean           0.047505       0.031763        0.052876\n",
      "ess_conf_sigma     0.000740       0.000608        0.001194\n",
      "tv_mean            0.036717       0.047122        0.036736\n",
      "tv_conf_sigma      0.004244       0.005767        0.004590\n",
      "runtime          660.919699    1033.824702     1116.140137\n",
      "chains_kept       30.000000      30.000000       30.000000\n",
      "\n",
      "dim=256, dist=random_gm\n",
      "                 hmc_vanilla  taylor_nograd  lanczos_nograd\n",
      "ess_mean           0.286790       0.097542        0.423608\n",
      "ess_conf_sigma     0.006929       0.003658        0.010137\n",
      "tv_mean            0.117985       0.121359        0.108232\n",
      "tv_conf_sigma      0.014604       0.015408        0.014397\n",
      "runtime         1444.454320    2238.142788     2438.989277\n",
      "chains_kept       30.000000      30.000000       30.000000\n",
      "\n",
      "dim=8, dist=illcond_gaussian\n",
      "                 hmc_vanilla  taylor_nograd  lanczos_nograd\n",
      "ess_mean           0.402759       0.553284        0.655326\n",
      "ess_conf_sigma     0.001420       0.010827        0.003581\n",
      "tv_mean            0.021251       0.016839        0.020107\n",
      "tv_conf_sigma      0.001892       0.001270        0.001408\n",
      "runtime          157.558502     247.592480      264.676075\n",
      "chains_kept       30.000000      30.000000       30.000000\n",
      "\n",
      "dim=16, dist=illcond_gaussian\n",
      "                 hmc_vanilla  taylor_nograd  lanczos_nograd\n",
      "ess_mean           0.504716       0.602060        0.568148\n",
      "ess_conf_sigma     0.001572       0.010125        0.004755\n",
      "tv_mean            0.020131       0.036299        0.022779\n",
      "tv_conf_sigma      0.001540       0.004313        0.001893\n",
      "runtime          159.502828     251.370957      268.856697\n",
      "chains_kept       30.000000      30.000000       30.000000\n",
      "\n",
      "dim=32, dist=illcond_gaussian\n",
      "                 hmc_vanilla  taylor_nograd  lanczos_nograd\n",
      "ess_mean           0.535514       0.522858        0.506945\n",
      "ess_conf_sigma     0.001180       0.003025        0.003171\n",
      "tv_mean            0.021604       0.023170        0.021261\n",
      "tv_conf_sigma      0.001444       0.001665        0.001186\n",
      "runtime          165.524292     259.517421      278.156906\n",
      "chains_kept       30.000000      30.000000       30.000000\n",
      "\n",
      "dim=64, dist=illcond_gaussian\n",
      "                 hmc_vanilla  taylor_nograd  lanczos_nograd\n",
      "ess_mean           0.503812       0.491307        0.478432\n",
      "ess_conf_sigma     0.001394       0.002544        0.002305\n",
      "tv_mean            0.021153       0.020813        0.019491\n",
      "tv_conf_sigma      0.001443       0.001219        0.001088\n",
      "runtime          176.515224     277.147188      297.030074\n",
      "chains_kept       30.000000      30.000000       30.000000\n",
      "\n",
      "dim=128, dist=illcond_gaussian\n",
      "                 hmc_vanilla  taylor_nograd  lanczos_nograd\n",
      "ess_mean           0.482406       0.474242        0.459710\n",
      "ess_conf_sigma     0.001166       0.001680        0.002079\n",
      "tv_mean            0.022355       0.020167        0.020153\n",
      "tv_conf_sigma      0.001385       0.001140        0.001134\n",
      "runtime          192.363732     302.097770      323.819201\n",
      "chains_kept       30.000000      30.000000       30.000000\n",
      "\n",
      "dim=256, dist=illcond_gaussian\n",
      "                 hmc_vanilla  taylor_nograd  lanczos_nograd\n",
      "ess_mean           0.460276       0.454329        0.442395\n",
      "ess_conf_sigma     0.001495       0.001832        0.002354\n",
      "tv_mean            0.023512       0.020425        0.022688\n",
      "tv_conf_sigma      0.001563       0.001130        0.001486\n",
      "runtime          239.059087     378.550099      406.046630\n",
      "chains_kept       30.000000      30.000000       30.000000\n"
     ]
    }
   ],
   "source": [
    "print_log(log)"
   ]
  },
  {
   "cell_type": "code",
   "execution_count": 20,
   "id": "fd0840e1-3e3b-4409-861a-82ac043d7ced",
   "metadata": {},
   "outputs": [
    {
     "ename": "NameError",
     "evalue": "name 'dimension' is not defined",
     "output_type": "error",
     "traceback": [
      "\u001b[0;31m---------------------------------------------------------------------------\u001b[0m",
      "\u001b[0;31mNameError\u001b[0m                                 Traceback (most recent call last)",
      "Cell \u001b[0;32mIn[20], line 1\u001b[0m\n\u001b[0;32m----> 1\u001b[0m plt\u001b[38;5;241m.\u001b[39mplot(log[\u001b[38;5;241m0\u001b[39m][\u001b[38;5;124m\"\u001b[39m\u001b[38;5;124mhist_data\u001b[39m\u001b[38;5;124m\"\u001b[39m][\u001b[43mdimension\u001b[49m][alg][\u001b[38;5;124m\"\u001b[39m\u001b[38;5;124mcache\u001b[39m\u001b[38;5;124m\"\u001b[39m]\u001b[38;5;241m.\u001b[39mgrad_norm)\n",
      "\u001b[0;31mNameError\u001b[0m: name 'dimension' is not defined"
     ]
    }
   ],
   "source": [
    "plt.plot(log[0][\"hist_data\"][dimension][alg][\"cache\"].grad_norm)"
   ]
  },
  {
   "cell_type": "code",
   "execution_count": null,
   "id": "08799256-dbc2-42d2-8d94-01366c95c152",
   "metadata": {},
   "outputs": [],
   "source": [
    "\n",
    "plt.figure(figsize=(10, 6))\n",
    "window = 100  # adjust as needed\n",
    "\n",
    "for dimension in dimensions:\n",
    "    for alg in algs:\n",
    "        raw = log[0][\"hist_data\"][dimension][alg][\"cache\"].accept_prob_hist\n",
    "        smoothed = moving_average(np.array(raw), window_size=window)\n",
    "        label = f\"{alg} (dim={dimension})\"\n",
    "        plt.plot(smoothed, label=label, alpha=0.8)\n",
    "\n",
    "plt.xlabel(\"Iteration\")\n",
    "plt.ylabel(\"Smoothed Acceptance Probability\")\n",
    "plt.title(f\"Moving Average (window={window}) of Acceptance Probabilities\")\n",
    "plt.ylim(0, 1)\n",
    "plt.grid(True)\n",
    "plt.legend()\n",
    "plt.tight_layout()\n",
    "plt.show()\n"
   ]
  },
  {
   "cell_type": "code",
   "execution_count": null,
   "id": "b379a960-e1de-453b-b9a1-ab67873e6a94",
   "metadata": {},
   "outputs": [],
   "source": [
    "def moving_average(x, window_size=10):\n",
    "    return np.convolve(x, np.ones(window_size)/window_size, mode='valid')\n",
    "\n",
    "plt.figure(figsize=(10, 6))\n",
    "window = 100  # adjust as needed\n",
    "\n",
    "for dimension in dimensions:\n",
    "    for alg in algs:\n",
    "        raw = log[0][\"hist_data\"][dimension][alg][\"cache\"].accept_prob_hist\n",
    "        smoothed = moving_average(np.array(raw), window_size=window)\n",
    "        label = f\"{alg} (dim={dimension})\"\n",
    "        plt.plot(smoothed, label=label, alpha=0.8)\n",
    "\n",
    "plt.xlabel(\"Iteration\")\n",
    "plt.ylabel(\"Smoothed Acceptance Probability\")\n",
    "plt.title(f\"Moving Average (window={window}) of Acceptance Probabilities\")\n",
    "plt.ylim(0, 1)\n",
    "plt.grid(True)\n",
    "plt.legend()\n",
    "plt.tight_layout()\n",
    "plt.show()\n"
   ]
  },
  {
   "cell_type": "code",
   "execution_count": null,
   "id": "dc2fbb9f-32be-419f-93b0-12e01936661e",
   "metadata": {},
   "outputs": [],
   "source": [
    "dim_stat = {}\n",
    "for dimension in tqdm.notebook.tqdm(dimensions):\n",
    "    df = []\n",
    "    for alg in tqdm.notebook.tqdm(algs):\n",
    "        df.append(\n",
    "            BenchmarkUtils.compute_metrics(\n",
    "                hist_data[dimension][alg][0].samples,\n",
    "                hist_data[dimension][alg][0].true_samples,\n",
    "            )\n",
    "        )\n",
    "        df[-1][\"runtime\"] = pure_runtime[dimension][alg]\n",
    "    df = pd.DataFrame(df)\n",
    "    df = df.T\n",
    "    df.columns = list(algs.keys())\n",
    "\n",
    "    dim_stat[dimension] = df\n",
    "    print(f\"dim={dimension}\", df)"
   ]
  },
  {
   "cell_type": "code",
   "execution_count": null,
   "id": "70c8c259-5acd-4800-a9c3-ddaca105a190",
   "metadata": {},
   "outputs": [],
   "source": [
    "algs[\"hmc_vanilla\"].pipeline.sample_blocks[-1].iteration.params.lf_step_size"
   ]
  },
  {
   "cell_type": "code",
   "execution_count": null,
   "id": "be119006-2a1b-4333-b4fa-cdf43b4fb1cd",
   "metadata": {},
   "outputs": [],
   "source": [
    "algs[\"hmc_vanilla\"].pipeline.sample_blocks[-1]"
   ]
  },
  {
   "cell_type": "code",
   "execution_count": null,
   "id": "b1d2a2b3-392b-4160-9ce1-f4e19f08fbd5",
   "metadata": {},
   "outputs": [],
   "source": [
    "BenchmarkUtils.create_plot(\n",
    "    algs[\"mala\"].pipeline.sample_blocks[-1].iteration.cache.samples[:, [0], :],\n",
    "    algs[\"mala\"].pipeline.sample_blocks[-1].iteration.cache.true_samples\n",
    ")"
   ]
  },
  {
   "cell_type": "code",
   "execution_count": null,
   "id": "23f62dbf-ad9b-453a-bef7-b1681eb00ca3",
   "metadata": {},
   "outputs": [],
   "source": [
    "BenchmarkUtils.create_plot(\n",
    "    algs[\"fisher_mala\"].pipeline.sample_blocks[-1].iteration.cache.samples[:, [0], :],\n",
    "    algs[\"fisher_mala\"].pipeline.sample_blocks[-1].iteration.cache.true_samples\n",
    ")"
   ]
  },
  {
   "cell_type": "code",
   "execution_count": null,
   "id": "4610b9ff-031f-460a-bd6f-31a2c3386680",
   "metadata": {},
   "outputs": [],
   "source": [
    "print(f\"{' ' * 30}HMC\")\n",
    "BenchmarkUtils.create_plot(\n",
    "    log[0][\"hist_data\"][100][\"hmc_vanilla\"][\"cache\"].samples[:, :, :],\n",
    "    log[0][\"hist_data\"][100][\"hmc_vanilla\"][\"cache\"].true_samples,\n",
    ")"
   ]
  },
  {
   "cell_type": "code",
   "execution_count": null,
   "id": "941af931-68e6-4b26-96ef-5b5578e12f43",
   "metadata": {},
   "outputs": [],
   "source": []
  },
  {
   "cell_type": "code",
   "execution_count": null,
   "id": "f2faa5c9-f3e8-4b8c-9996-ee4cc68cf2f8",
   "metadata": {},
   "outputs": [],
   "source": [
    "print(f\"{' ' * 30}HMC Taylor\")\n",
    "BenchmarkUtils.create_plot(\n",
    "    log[0][\"hist_data\"][32][\"taylor_nograd\"][\"cache\"].samples[:, :, :],\n",
    "    log[0][\"hist_data\"][32][\"taylor_nograd\"][\"cache\"].true_samples,\n",
    ")"
   ]
  },
  {
   "cell_type": "code",
   "execution_count": null,
   "id": "662e601f-32cf-4e93-a221-c2bec0babef9",
   "metadata": {},
   "outputs": [],
   "source": []
  },
  {
   "cell_type": "code",
   "execution_count": null,
   "id": "bbd6a731-27d5-4cff-acab-df9daad8a66a",
   "metadata": {},
   "outputs": [],
   "source": [
    "print(f\"{' ' * 30}HMC Lanczos\")\n",
    "BenchmarkUtils.create_plot(\n",
    "    log[0][\"hist_data\"][32][\"lanczos_nograd\"][\"cache\"].samples[:, :, :],\n",
    "    log[0][\"hist_data\"][32][\"lanczos_nograd\"][\"cache\"].true_samples,\n",
    ")"
   ]
  },
  {
   "cell_type": "code",
   "execution_count": null,
   "id": "2dc56102-6c10-40a6-be19-5dfa810e9762",
   "metadata": {},
   "outputs": [],
   "source": [
    "BenchmarkUtils.create_plot(\n",
    "    algs[\"hmc_vanilla\"].pipeline.sample_blocks[-1].iteration.cache.samples[:, [2], :],\n",
    "    algs[\"hmc_vanilla\"].pipeline.sample_blocks[-1].iteration.cache.true_samples\n",
    ")"
   ]
  },
  {
   "cell_type": "code",
   "execution_count": null,
   "id": "4f6e6229-2657-4ffa-b15f-c568464f3564",
   "metadata": {},
   "outputs": [],
   "source": []
  },
  {
   "cell_type": "code",
   "execution_count": null,
   "id": "fc3ce7c8-6afb-46d5-99ee-84298bee004c",
   "metadata": {},
   "outputs": [],
   "source": [
    "BenchmarkUtils.create_plot(\n",
    "    algs[\"hmc_vanilla\"].pipeline.sample_blocks[-1].iteration.cache.samples[:, [2], :],\n",
    "    algs[\"hmc_vanilla\"].pipeline.sample_blocks[-1].iteration.cache.true_samples\n",
    ")"
   ]
  },
  {
   "cell_type": "code",
   "execution_count": null,
   "id": "f139b701-ff5a-4d9c-99f2-693514a48d36",
   "metadata": {},
   "outputs": [],
   "source": []
  },
  {
   "cell_type": "code",
   "execution_count": null,
   "id": "492ce214-b3f8-4e01-b757-f220d46bad58",
   "metadata": {},
   "outputs": [],
   "source": []
  },
  {
   "cell_type": "code",
   "execution_count": null,
   "id": "197851c1-ef94-471b-8f88-1dfa5f7aa27e",
   "metadata": {},
   "outputs": [],
   "source": [
    "BenchmarkUtils.create_plot(\n",
    "    algs[\"hmcadaptive_hutch_taylor\"].pipeline.sample_blocks[0].iteration.cache.samples[:, [2], :],\n",
    "    algs[\"hmcadaptive_hutch_taylor\"].pipeline.sample_blocks[-1].iteration.cache.true_samples\n",
    ")"
   ]
  },
  {
   "cell_type": "code",
   "execution_count": null,
   "id": "dd3a08aa-531b-4e92-967d-15941c853823",
   "metadata": {},
   "outputs": [],
   "source": [
    "BenchmarkUtils.create_plot(\n",
    "    algs[\"hmcadaptive_hutch_lanczos\"].pipeline.sample_blocks[-1].iteration.cache.samples[:, [0], :],\n",
    "    algs[\"hmcadaptive_hutch_lanczos\"].pipeline.sample_blocks[-1].iteration.cache.true_samples\n",
    ")"
   ]
  },
  {
   "cell_type": "code",
   "execution_count": null,
   "id": "c41a4f4b-a23c-44f3-a36e-86c9db69379d",
   "metadata": {},
   "outputs": [],
   "source": [
    "BenchmarkUtils.create_plot(\n",
    "    algs[\"hmcadaptive_fullent\"].pipeline.sample_blocks[-1].iteration.cache.samples[:, [1], :],\n",
    "    algs[\"hmcadaptive_fullent\"].pipeline.sample_blocks[-1].iteration.cache.true_samples\n",
    ")"
   ]
  },
  {
   "cell_type": "code",
   "execution_count": null,
   "id": "90e00839-8cf9-4eb4-a3d8-50f483508288",
   "metadata": {},
   "outputs": [],
   "source": []
  },
  {
   "cell_type": "code",
   "execution_count": null,
   "id": "cb166a5b-973b-4681-8a27-a8ab80279ede",
   "metadata": {},
   "outputs": [],
   "source": [
    "tv_threshold = 0.05"
   ]
  },
  {
   "cell_type": "code",
   "execution_count": null,
   "id": "35f27e81-e102-4496-9304-c72eb6dd1613",
   "metadata": {},
   "outputs": [],
   "source": [
    "pure_runtime"
   ]
  },
  {
   "cell_type": "code",
   "execution_count": null,
   "id": "55a62015-e364-4cca-a061-20e569039223",
   "metadata": {},
   "outputs": [],
   "source": [
    "runtime"
   ]
  },
  {
   "cell_type": "code",
   "execution_count": null,
   "id": "10129bb9-fa3b-450b-8a18-120fe2b82ee0",
   "metadata": {},
   "outputs": [],
   "source": [
    "fig, axes = plt.subplots(\n",
    "    nrows=len(dimensions),\n",
    "    ncols=2,\n",
    "    figsize=(13, 4 * len(dimensions),)\n",
    ")\n",
    "fig.suptitle(\n",
    "    f\"at most {tail_count_cap} last samples, burn-in={burn_in_iter_count}, \"\n",
    "    f\"chain_count={chain_count}, \"\n",
    "    f\"TV threshold={tv_threshold}\\n\" +\n",
    "    f\"mixture of {gaussian_count} gaussians with \"\n",
    "    \"random means and covariance matrices\"\n",
    ")\n",
    "\n",
    "for dim_ind in range(len(dimensions)):\n",
    "    for alg_ind, alg in enumerate(algs.keys()):\n",
    "\n",
    "        ticks_count = len(hist_data[dimensions[dim_ind]][alg][1])\n",
    "        xticks = probe_period * jnp.arange(1, ticks_count + 1)\n",
    "\n",
    "        axes[dim_ind, alg_ind].plot(\n",
    "            xticks,\n",
    "            [\n",
    "                entry[\"tv_mean\"]\n",
    "                for entry in hist_data[dimensions[dim_ind]][alg][1]\n",
    "            ],\n",
    "            label=\"TV mean\"\n",
    "        )\n",
    "        axes[dim_ind, alg_ind].fill_between(\n",
    "            xticks,\n",
    "            [\n",
    "                entry[\"tv_mean\"] - 2 * entry[\"tv_std\"]\n",
    "                for entry in hist_data[dimensions[dim_ind]][alg][1]\n",
    "            ],\n",
    "            [\n",
    "                entry[\"tv_mean\"] + 2 * entry[\"tv_std\"]\n",
    "                for entry in hist_data[dimensions[dim_ind]][alg][1]\n",
    "            ],\n",
    "            alpha=0.1,\n",
    "            label=\"95% CI\"\n",
    "        )\n",
    "        axes[dim_ind, alg_ind].axhline(tv_threshold, color=\"r\", linestyle=\"dashed\")\n",
    "        axes[dim_ind, alg_ind].set_title(f\"{alg}, dim={dimensions[dim_ind]}\")\n",
    "        if dim_ind + 1 == len(dimensions):\n",
    "            axes[dim_ind, alg_ind].set_xlabel(\"iteration\")\n",
    "        axes[dim_ind, alg_ind].set_ylabel(\"TV\")\n",
    "        axes[dim_ind, alg_ind].legend()"
   ]
  },
  {
   "cell_type": "code",
   "execution_count": null,
   "id": "8a6ff13a-0a74-4f14-b417-c53ca628ea95",
   "metadata": {},
   "outputs": [],
   "source": [
    "BenchmarkUtils.compute_metrics(\n",
    "    algs[\"mala\"].pipeline.sample_blocks[-1].iteration.cache.samples,\n",
    "    algs[\"mala\"].pipeline.sample_blocks[-1].iteration.cache.true_samples\n",
    ")"
   ]
  },
  {
   "cell_type": "code",
   "execution_count": null,
   "id": "f6cdc433-bb7d-458f-af21-1b3fef3cad21",
   "metadata": {},
   "outputs": [],
   "source": [
    "BenchmarkUtils.compute_metrics(\n",
    "    algs[\"fisher_mala\"].pipeline.sample_blocks[-1].iteration.cache.samples,\n",
    "    algs[\"fisher_mala\"].pipeline.sample_blocks[-1].iteration.cache.true_samples\n",
    ")"
   ]
  },
  {
   "cell_type": "code",
   "execution_count": null,
   "id": "67144eea-084e-426d-8bf5-c690cc8bf1a5",
   "metadata": {},
   "outputs": [],
   "source": [
    "BenchmarkUtils.compute_metrics(\n",
    "    algs[\"hmc_vanilla\"].pipeline.sample_blocks[-1].iteration.cache.samples,\n",
    "    algs[\"hmc_vanilla\"].pipeline.sample_blocks[-1].iteration.cache.true_samples\n",
    ")"
   ]
  },
  {
   "cell_type": "code",
   "execution_count": null,
   "id": "cb6b7cba-6c88-4f16-afcc-417223994b22",
   "metadata": {},
   "outputs": [],
   "source": [
    "BenchmarkUtils.compute_metrics(\n",
    "    algs[\"hmcadaptive_hutch\"].pipeline.sample_blocks[-1].iteration.cache.samples,\n",
    "    algs[\"hmcadaptive_hutch\"].pipeline.sample_blocks[-1].iteration.cache.true_samples\n",
    ")"
   ]
  },
  {
   "cell_type": "code",
   "execution_count": null,
   "id": "54d63ebd-e4e6-4c18-8485-1d0de06ce627",
   "metadata": {},
   "outputs": [],
   "source": [
    "algs[\"fisher_mala\"].pipeline.sample_blocks[-1].iteration.params.sigma_prec"
   ]
  },
  {
   "cell_type": "code",
   "execution_count": null,
   "id": "5a07a753-7276-41fe-bf1f-0dab34742f2b",
   "metadata": {},
   "outputs": [],
   "source": [
    "algs[\"lanczos_nograd\"].pipeline.sample_blocks[-1].iteration.common_params.entropy_weight.squeeze()"
   ]
  },
  {
   "cell_type": "code",
   "execution_count": null,
   "id": "979fb9fc-1b64-4f08-a550-a8eff9105245",
   "metadata": {},
   "outputs": [],
   "source": [
    "algs[\"hmcadaptive_hutch_taylor\"].pipeline.sample_blocks[-1].iteration.common_params.entropy_weight.squeeze()"
   ]
  },
  {
   "cell_type": "code",
   "execution_count": null,
   "id": "20d3fa6c-fcd9-4b93-a88e-467d4c0ebffe",
   "metadata": {},
   "outputs": [],
   "source": [
    "algs[\"taylor_nograd\"].pipeline.sample_blocks[-1].iteration.common_params.entropy_weight.squeeze()"
   ]
  },
  {
   "cell_type": "code",
   "execution_count": null,
   "id": "f5e4c85b-a287-4021-afc8-a13de41195bc",
   "metadata": {},
   "outputs": [],
   "source": [
    "algs[\"hmcadaptive_fullent\"].pipeline.sample_blocks[-1].iteration.params.entropy_weight.squeeze()"
   ]
  },
  {
   "cell_type": "code",
   "execution_count": null,
   "id": "78e93069-acf2-4466-a81a-c2eba9953ac7",
   "metadata": {},
   "outputs": [],
   "source": [
    "algs[\"hmcadaptive_hutch_taylor\"].pipeline.sample_blocks[-1].iteration.params.penalty_weight.squeeze()"
   ]
  },
  {
   "cell_type": "code",
   "execution_count": null,
   "id": "d15d77d0-799d-483c-99fb-71c92c349548",
   "metadata": {},
   "outputs": [],
   "source": [
    "prec = algs[\"fisher_mala\"].pipeline.sample_blocks[-1].iteration.params.prec[1].detach().numpy()\n",
    "minv = prec @ prec.T"
   ]
  },
  {
   "cell_type": "code",
   "execution_count": null,
   "id": "04277212-a134-44a0-8ae3-584376bcc2bd",
   "metadata": {},
   "outputs": [],
   "source": [
    "prec = algs[\"hmcadaptive_hutch_taylor\"].pipeline.sample_blocks[-1].iteration.cache.prec_params.make_prec()[1].detach().numpy()\n",
    "minv = prec @ prec.T"
   ]
  },
  {
   "cell_type": "code",
   "execution_count": null,
   "id": "ab3b0136-de75-44ff-90e1-b09b073f0063",
   "metadata": {},
   "outputs": [],
   "source": [
    "algs[\"hmcadaptive_hutch_lanczos\"].pipeline.sample_blocks[1].iteration.params.lf_step_size"
   ]
  },
  {
   "cell_type": "code",
   "execution_count": null,
   "id": "6406bbfe-722f-4ba2-9d71-e39a40138cb0",
   "metadata": {},
   "outputs": [],
   "source": [
    "algs[\"hmcadaptive_hutch_taylor\"].pipeline.sample_blocks[0].iteration.params.lf_step_size"
   ]
  },
  {
   "cell_type": "code",
   "execution_count": null,
   "id": "ee884514-7a7b-44bc-87b5-aec3ba5a6a59",
   "metadata": {},
   "outputs": [],
   "source": [
    "minv"
   ]
  },
  {
   "cell_type": "code",
   "execution_count": null,
   "id": "08631321-e51b-4fc5-b43d-15359b0bbd71",
   "metadata": {},
   "outputs": [],
   "source": [
    "prec = algs[\"taylor_nograd\"].pipeline.sample_blocks[-1].iteration.cache.prec_params.make_prec()[1].detach().numpy()\n",
    "minv = prec @ prec.T\n",
    "plt.imshow(minv)"
   ]
  },
  {
   "cell_type": "code",
   "execution_count": null,
   "id": "c284bea5-92fe-4d6a-8422-775428e9c499",
   "metadata": {},
   "outputs": [],
   "source": [
    "diff = minv - minv_l"
   ]
  },
  {
   "cell_type": "code",
   "execution_count": null,
   "id": "5bbb054f-ffc7-4d1e-b779-e020f55f31c2",
   "metadata": {},
   "outputs": [],
   "source": [
    "plt.hist(diff[range(len(diff)), range(len(diff))])"
   ]
  },
  {
   "cell_type": "code",
   "execution_count": null,
   "id": "82e60aaf-b26a-405f-8033-1cc4ab54f6f0",
   "metadata": {},
   "outputs": [],
   "source": [
    "prec = algs[\"hmcadaptive_hutch_taylor\"].pipeline.sample_blocks[-1].iteration.cache.prec_params.make_prec()[1].detach().numpy()\n",
    "minv = prec @ prec.T\n",
    "plt.imshow(minv)"
   ]
  },
  {
   "cell_type": "code",
   "execution_count": null,
   "id": "2ab51f09-9d9b-4ada-8560-3ab223d7d10b",
   "metadata": {},
   "outputs": [],
   "source": [
    "prec = algs[\"lanczos_nograd\"].pipeline.sample_blocks[-1].iteration.cache.prec_params.make_prec()[1].detach().numpy()\n",
    "minv_l = prec @ prec.T\n",
    "plt.imshow(minv_l)"
   ]
  },
  {
   "cell_type": "code",
   "execution_count": null,
   "id": "e5568224-c767-420e-8add-c733fd8d8fd8",
   "metadata": {},
   "outputs": [],
   "source": [
    "minv_l"
   ]
  },
  {
   "cell_type": "code",
   "execution_count": null,
   "id": "985b80a9-5232-4eed-a8c2-07218f2421c0",
   "metadata": {},
   "outputs": [],
   "source": [
    "prec = algs[\"hmcadaptive_fullent\"].pipeline.sample_blocks[-1].iteration.cache.prec[19].detach().numpy()\n",
    "minv = prec @ prec.T\n",
    "plt.imshow(minv)"
   ]
  },
  {
   "cell_type": "code",
   "execution_count": null,
   "id": "667ec0f3-d584-4f96-a6b0-30f5aadd815d",
   "metadata": {},
   "outputs": [],
   "source": [
    "minv"
   ]
  },
  {
   "cell_type": "code",
   "execution_count": null,
   "id": "8523c44e-17ac-47ad-aea1-105e2c258c95",
   "metadata": {},
   "outputs": [],
   "source": [
    "prec = algs[\"hmcadaptive_noent\"].pipeline.sample_blocks[-1].iteration.cache.prec[1].detach().numpy()\n",
    "minv = prec @ prec.T\n",
    "plt.imshow(minv)"
   ]
  },
  {
   "cell_type": "code",
   "execution_count": null,
   "id": "7587af9e-dda7-4cb9-a9fb-270ffadf3b3d",
   "metadata": {},
   "outputs": [],
   "source": [
    "BenchmarkUtils.compute_metrics(\n",
    "    algs[\"hmcadaptive_hutch\"].pipeline.sample_blocks[-1].iteration.cache.samples,\n",
    "    algs[\"hmcadaptive_hutch\"].pipeline.sample_blocks[-1].iteration.cache.true_samples,\n",
    ")"
   ]
  },
  {
   "cell_type": "code",
   "execution_count": null,
   "id": "05d39474-2286-4277-bdb0-7b0ec14b4e4f",
   "metadata": {},
   "outputs": [],
   "source": [
    "BenchmarkUtils.compute_metrics(\n",
    "    algs[\"hmcadaptive_hutch\"].pipeline.sample_blocks[-1].iteration.cache.samples,\n",
    "    algs[\"hmcadaptive_hutch\"].pipeline.sample_blocks[-1].iteration.cache.true_samples,\n",
    ")"
   ]
  },
  {
   "cell_type": "markdown",
   "id": "567fa5c1-48cc-4472-bde8-0538aae1cc17",
   "metadata": {},
   "source": [
    "### Reference"
   ]
  },
  {
   "cell_type": "code",
   "execution_count": null,
   "id": "f414f8fd-3fe3-4eef-aa49-4dfd95883327",
   "metadata": {},
   "outputs": [],
   "source": [
    "BenchmarkUtils.compute_metrics(\n",
    "    algs[\"fisher_mala\"].pipeline.sample_blocks[-1].iteration.cache.samples,\n",
    "    algs[\"fisher_mala\"].pipeline.sample_blocks[-1].iteration.cache.true_samples\n",
    ")"
   ]
  },
  {
   "cell_type": "code",
   "execution_count": null,
   "id": "44757f5e-3a5f-4c3f-b7b6-36c68f06dd9d",
   "metadata": {},
   "outputs": [],
   "source": [
    "BenchmarkUtils.compute_metrics(\n",
    "    algs[\"mala\"].pipeline.sample_blocks[-1].iteration.cache.samples,\n",
    "    algs[\"mala\"].pipeline.sample_blocks[-1].iteration.cache.true_samples\n",
    ")"
   ]
  },
  {
   "cell_type": "code",
   "execution_count": null,
   "id": "ea243954-183b-48d6-ac64-5d98320a1919",
   "metadata": {},
   "outputs": [],
   "source": []
  }
 ],
 "metadata": {
  "kernelspec": {
   "display_name": "Python 3 (ipykernel)",
   "language": "python",
   "name": "python3"
  },
  "language_info": {
   "codemirror_mode": {
    "name": "ipython",
    "version": 3
   },
   "file_extension": ".py",
   "mimetype": "text/x-python",
   "name": "python",
   "nbconvert_exporter": "python",
   "pygments_lexer": "ipython3",
   "version": "3.12.0"
  }
 },
 "nbformat": 4,
 "nbformat_minor": 5
}
