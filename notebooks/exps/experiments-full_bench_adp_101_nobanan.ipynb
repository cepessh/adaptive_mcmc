{
 "cells": [
  {
   "cell_type": "code",
   "execution_count": 1,
   "id": "ca26255f-94fa-4cca-aafa-7244110bb174",
   "metadata": {},
   "outputs": [
    {
     "name": "stderr",
     "output_type": "stream",
     "text": [
      "2025-05-25 00:30:09.476473: E external/local_xla/xla/stream_executor/cuda/cuda_fft.cc:477] Unable to register cuFFT factory: Attempting to register factory for plugin cuFFT when one has already been registered\n",
      "WARNING: All log messages before absl::InitializeLog() is called are written to STDERR\n",
      "E0000 00:00:1748122209.487824   31024 cuda_dnn.cc:8310] Unable to register cuDNN factory: Attempting to register factory for plugin cuDNN when one has already been registered\n",
      "E0000 00:00:1748122209.490924   31024 cuda_blas.cc:1418] Unable to register cuBLAS factory: Attempting to register factory for plugin cuBLAS when one has already been registered\n"
     ]
    }
   ],
   "source": [
    "from copy import deepcopy\n",
    "import tqdm.notebook\n",
    "\n",
    "import jax.numpy as jnp\n",
    "import matplotlib.pyplot as plt\n",
    "\n",
    "import numpy as np\n",
    "import pandas as pd\n",
    "import torch\n",
    "\n",
    "from adaptive_mcmc.distributions.distribution import (\n",
    "    GaussianMixture,\n",
    "    FunnelDistribution,\n",
    "    Gaussian,\n",
    "    BananaDistribution,\n",
    ")\n",
    "from adaptive_mcmc.samplers import (\n",
    "    base_sampler,\n",
    "    mala,\n",
    "    fishermala,\n",
    "    hmc,\n",
    "    hmcadaptive,\n",
    ")\n",
    "from adaptive_mcmc.samplers.stopping_rule import NoStop\n",
    "from adaptive_mcmc.tools.benchmark import BenchmarkUtils\n",
    "from adaptive_mcmc.tools.metrics import compute_ess, compute_emd\n",
    "\n",
    "from typing import Tuple, Optional"
   ]
  },
  {
   "cell_type": "code",
   "execution_count": 2,
   "id": "1f316835-2bc2-4e0c-97fd-5143e78232e2",
   "metadata": {},
   "outputs": [],
   "source": [
    "seed = 123\n",
    "torch.manual_seed(seed)\n",
    "\n",
    "device = \"cpu\"\n",
    "\n",
    "hparams = {\n",
    "    \"mala\": {\n",
    "        \"common\": mala.MALACommonParams(\n",
    "            sigma=1e0,\n",
    "            sigma_lr=1e-2,    \n",
    "        ),\n",
    "    },\n",
    "    # \"fisher_mala\": {\n",
    "    #     \"common\": fishermala.FisherMALACommonParams(\n",
    "    #         dampening=100,\n",
    "    #         sigma=1e0,\n",
    "    #         sigma_lr=1e-2,\n",
    "    #     ),\n",
    "    # },\n",
    "    \"hmc_vanilla\": {\n",
    "        \"common\": hmc.HMCCommonParams(\n",
    "            lf_step_count=50,\n",
    "            lf_step_size=1e-1,\n",
    "            lf_step_size_max=5e-1,\n",
    "            #lf_step_size_adaptive_bad_traj_period=7,\n",
    "        ),\n",
    "        \"fixed\": hmc.HMCFixedParams(no_grad=True, stop_grad=False),\n",
    "    },\n",
    "    \"taylor_nograd\": {\n",
    "        \"common\": hmcadaptive.HMCAdaptiveCommonParams(\n",
    "            lf_step_count=50,\n",
    "            lf_step_size=1e-1,\n",
    "            lf_step_size_max=5e-1,\n",
    "            #lf_step_size_adaptive_bad_traj_period=7,\n",
    "            learning_rate=3e-4,\n",
    "            truncation_level_prob=0.5,\n",
    "            min_truncation_level=2,\n",
    "            entropy_weight=1e-1,\n",
    "            entropy_weight_min=1e-3,\n",
    "            entropy_weight_max=1e2,\n",
    "            penalty_weight_max=1e1,\n",
    "            penalty_weight=1e-3,\n",
    "            penalty_weight_adaptive_rate=1e-3,\n",
    "            clip_grad_value=1e1,\n",
    "        ),\n",
    "        \"fixed\": hmcadaptive.HMCAdaptiveFixedParams(\n",
    "            prec_init_scale=1e-9,\n",
    "            no_grad=True,\n",
    "            stop_grad=False,\n",
    "            backprop_method=\"approx\",\n",
    "            prec_type=\"tridiag\",\n",
    "            # iter_count=10000,\n",
    "            # scheduler_cls=hmcadaptive.WarmupCosineAnnealingScheduler\n",
    "        ),\n",
    "    },\n",
    "    \"lanczos_nograd\": {\n",
    "        \"common\": hmcadaptive.HMCAdaptiveCommonParams(\n",
    "            lf_step_count=50,\n",
    "            lf_step_size=1e-1,\n",
    "            lf_step_size_max=5e-1,\n",
    "            #lf_step_size_adaptive_bad_traj_period=7,\n",
    "            learning_rate=3e-4,\n",
    "            entropy_weight=1e-1,\n",
    "            entropy_weight_min=1e-3,\n",
    "            entropy_weight_max=1e2,\n",
    "            clip_grad_value=1e1,\n",
    "            lanczos_steps=8,\n",
    "            krylov_probe_vectors=1,\n",
    "            # iter_count=10000,\n",
    "            # scheduler_cls=hmcadaptive.WarmupCosineAnnealingScheduler\n",
    "        ),\n",
    "        \"fixed\": hmcadaptive.HMCAdaptiveFixedParams(\n",
    "            prec_init_scale=1e-9,\n",
    "            no_grad=True,\n",
    "            stop_grad=False,\n",
    "            backprop_method=\"approx\",\n",
    "            prec_type=\"tridiag\",\n",
    "            trace_method=hmcadaptive.TraceMethod.HUTCH_LANCZOS,\n",
    "            # iter_count=10000,\n",
    "            # scheduler_cls=hmcadaptive.WarmupCosineAnnealingScheduler\n",
    "        ),\n",
    "    },\n",
    "    # \"hmcadaptive_hutch_taylor\": {\n",
    "    #     \"common\": hmcadaptive.HMCAdaptiveCommonParams(\n",
    "    #         lf_step_count=25,\n",
    "    #         lf_step_size=0.1,\n",
    "    #         learning_rate=1e-3,\n",
    "    #         truncation_level_prob=0.5,\n",
    "    #         min_truncation_level=2,\n",
    "    #         entropy_weight=1e-1,\n",
    "    #         entropy_weight_min=1e-3,\n",
    "    #         entropy_weight_max=1e2,\n",
    "    #         penalty_weight_max=1e1,\n",
    "    #         penalty_weight=1e-3,\n",
    "    #         penalty_weight_adaptive_rate=1e-3,\n",
    "    #         clip_grad_value=1e1,\n",
    "    #     ),\n",
    "    #     \"fixed\": hmcadaptive.HMCAdaptiveFixedParams(\n",
    "    #         prec_init_scale=1e-1,\n",
    "    #         no_grad=False,\n",
    "    #         stop_grad=False,\n",
    "    #         prec_type=\"tridiag\",\n",
    "    #         # iter_count=10000,\n",
    "    #         # scheduler_cls=hmcadaptive.WarmupCosineAnnealingScheduler\n",
    "    #     ),\n",
    "    # },\n",
    "    # \"hmcadaptive_hutch_lanczos\": hmcadaptive.HMCAdaptiveParams(\n",
    "    #     lf_step_count=5,\n",
    "    #     lf_step_size=0.1,\n",
    "    #     learning_rate=1e-2,\n",
    "    #     entropy_weight=1e-1,\n",
    "    #     entropy_weight_min=1e-3,\n",
    "    #     entropy_weight_max=1e2,\n",
    "    #     clip_grad_value=1e6,\n",
    "    #     prec_init_scale=1e0,\n",
    "    #     trace_method=hmcadaptive.TraceMethod.HUTCH_LANCZOS,\n",
    "    #     lanczos_steps=4,\n",
    "    #     krylov_probe_vectors=1,\n",
    "    #     # iter_count=10000,\n",
    "    #     # scheduler_cls=hmcadaptive.WarmupCosineAnnealingScheduler\n",
    "    # ),\n",
    "    # \"hmcadaptive_noent\": hmcadaptive.HMCAdaptiveParams(\n",
    "    #     lf_step_count=5,\n",
    "    #     lf_step_size=0.1,\n",
    "    #     learning_rate=1e-4,\n",
    "    #     clip_grad_value=1e6,\n",
    "    #     prec_init_scale=1e0,\n",
    "    #     entropy_method=\"none\",\n",
    "    #     # iter_count=10000,\n",
    "    #     # scheduler_cls=hmcadaptive.WarmupCosineAnnealingScheduler\n",
    "    # ),\n",
    "    # \"hmcadaptive_fullent\": hmcadaptive.HMCAdaptiveParams(\n",
    "    #     lf_step_count=5,\n",
    "    #     lf_step_size=0.1,\n",
    "    #     learning_rate=1e-2,\n",
    "    #     entropy_weight=1e-1,\n",
    "    #     entropy_weight_min=1e-3,\n",
    "    #     entropy_weight_max=1e2,\n",
    "    #     clip_grad_value=1e6,\n",
    "    #     prec_init_scale=1e0,\n",
    "    #     trace_method=hmcadaptive.TraceMethod.HUTCH_LANCZOS,\n",
    "    #     lanczos_steps=4,\n",
    "    #     krylov_probe_vectors=1,\n",
    "    #     entropy_method=\"full\",\n",
    "    #     # iter_count=10000,\n",
    "    #     # scheduler_cls=hmcadaptive.WarmupCosineAnnealingScheduler\n",
    "    # ),\n",
    "}"
   ]
  },
  {
   "cell_type": "code",
   "execution_count": 3,
   "id": "283bd108-9f67-4c89-abe8-bcd94b294b49",
   "metadata": {},
   "outputs": [],
   "source": [
    "def get_random_GM(\n",
    "    gaussian_count: int,\n",
    "    dimension: int,\n",
    "    cube: float,\n",
    "    eps: float=5e-1,\n",
    "    scale: float=5.,\n",
    "):\n",
    "    true_means = torch.rand((gaussian_count, dimension)) * cube - cube / 2\n",
    "    scales = torch.rand((gaussian_count, dimension)) * scale\n",
    "\n",
    "    while True:\n",
    "        try:\n",
    "            true_covs = torch.rand((gaussian_count, dimension, dimension))\n",
    "            true_covs, _ = torch.linalg.qr(true_covs)\n",
    "        \n",
    "            true_covs = (\n",
    "                true_covs @ torch.diag_embed(scales) @ true_covs.permute(0, 2, 1) \n",
    "                + eps * torch.eye(dimension).unsqueeze(0)\n",
    "            )\n",
    "            \n",
    "            # true_covs = (\n",
    "            #     true_covs @ true_covs.permute(0, 2, 1) +\n",
    "            #     torch.eye(dimension).repeat(gaussian_count, 1, 1)\n",
    "            # )\n",
    "        \n",
    "            gm = GaussianMixture(\n",
    "                true_means,\n",
    "                true_covs,\n",
    "                torch.full((gaussian_count,), 1/gaussian_count, dtype=torch.float64)\n",
    "            )\n",
    "            break\n",
    "        except ValueError:\n",
    "            pass\n",
    "            \n",
    "    return gm, true_means"
   ]
  },
  {
   "cell_type": "code",
   "execution_count": 4,
   "id": "99e91164-74f4-4fee-9f0d-d34ae73e24b1",
   "metadata": {},
   "outputs": [],
   "source": [
    "def get_random_GM(\n",
    "    gaussian_count: int,\n",
    "    dimension: int,\n",
    "    cube: float,\n",
    "    eps: float = 5e-1,\n",
    "    scale: float = 1.0,\n",
    "    *,\n",
    "    seed: Optional[int] = None,\n",
    "    device: torch.device | str = \"cpu\",\n",
    "    dtype: torch.dtype = torch.float32,\n",
    ") -> Tuple[GaussianMixture, torch.Tensor]:\n",
    "    \"\"\"\n",
    "    Create a reproducible random Gaussian Mixture.\n",
    "\n",
    "    Parameters\n",
    "    ----------\n",
    "    gaussian_count : int      # number of components\n",
    "    dimension      : int      # dimensionality\n",
    "    cube           : float    # component means ∈ (-cube/2, cube/2)\n",
    "    eps            : float    # ε·I added to each covariance\n",
    "    scale          : float    # upper–bound on random eigen-scales\n",
    "    seed           : int|None # RNG seed for reproducibility\n",
    "    device         : str|torch.device\n",
    "    dtype          : torch.dtype\n",
    "\n",
    "    Returns\n",
    "    -------\n",
    "    gm          : GaussianMixture\n",
    "    true_means  : Tensor (gaussian_count, dimension)\n",
    "    \"\"\"\n",
    "    g = torch.Generator(device=device)\n",
    "    if seed is not None:\n",
    "        g.manual_seed(seed)\n",
    "\n",
    "    true_means = (\n",
    "        torch.rand((gaussian_count, dimension), generator=g, device=device, dtype=dtype)\n",
    "        * cube - cube/2\n",
    "    )\n",
    "\n",
    "    scales = torch.rand((gaussian_count, dimension), generator=g, device=device, dtype=dtype) * scale\n",
    "\n",
    "    while True:\n",
    "        try:\n",
    "            # Q = torch.rand((gaussian_count, dimension, dimension), generator=g, device=device, dtype=dtype)\n",
    "            # Q, _ = torch.linalg.qr(Q)\n",
    "            Q_list = []\n",
    "            for _ in range(gaussian_count):\n",
    "                q = torch.randn((dimension, dimension), generator=g, device=device, dtype=dtype)\n",
    "                q, _ = torch.linalg.qr(q)\n",
    "                Q_list.append(q)\n",
    "            \n",
    "            Q = torch.stack(Q_list, dim=0)  # shape: (gaussian_count, dimension, dimension)\n",
    "\n",
    "\n",
    "            true_covs = (\n",
    "                Q @ torch.diag_embed(scales) @ Q.transpose(-1, -2)\n",
    "                + eps * torch.eye(dimension, device=device, dtype=dtype).unsqueeze(0)\n",
    "            )\n",
    "\n",
    "            gm = GaussianMixture(\n",
    "                true_means,\n",
    "                true_covs,\n",
    "                torch.full((gaussian_count,), 1.0 / gaussian_count, device=device, dtype=dtype),\n",
    "            )\n",
    "            break\n",
    "        except ValueError:\n",
    "            continue\n",
    "\n",
    "    return gm, true_means"
   ]
  },
  {
   "cell_type": "code",
   "execution_count": 5,
   "id": "a7c4c7e8-ed6b-4c13-84ac-150fd70e171e",
   "metadata": {},
   "outputs": [],
   "source": [
    "def generate_simplex(d: int) -> torch.Tensor:\n",
    "    I = torch.eye(d)\n",
    "    \n",
    "    ones = torch.ones((d, d)) / (d+1)\n",
    "    v1d = I - ones\n",
    "    vdp1 = -torch.ones((1, d)) / (d+1)\n",
    "    return torch.cat([v1d, vdp1], dim=0)\n",
    "\n",
    "\n",
    "def get_toeplitz_GM(dimension: int, cube: float, rho: float=0.99, sigma: float=1.):\n",
    "    true_means = generate_simplex(dimension) * cube\n",
    "\n",
    "    inds = torch.arange(dimension)\n",
    "    power = torch.abs(inds.unsqueeze(0) - inds.unsqueeze(1))\n",
    "\n",
    "    true_covs = sigma ** 2 * rho ** power\n",
    "    true_covs = true_covs.repeat(dimension + 1, 1, 1)\n",
    "\n",
    "    gm = GaussianMixture(\n",
    "        true_means,\n",
    "        true_covs,\n",
    "        torch.ones(dimension + 1) / (dimension + 1)\n",
    "    )\n",
    "\n",
    "    return gm, true_means\n",
    "\n",
    "\n",
    "def get_toeplitz_gaussian(dimension: int,\n",
    "                          mean: float = None,\n",
    "                          rho: float = 0.99,\n",
    "                          sigma: float = 1.0) -> tuple:\n",
    "    if mean is None:\n",
    "        mean = torch.zeros(dimension)\n",
    "        \n",
    "    inds = torch.arange(dimension)\n",
    "    power = torch.abs(inds.unsqueeze(0) - inds.unsqueeze(1))\n",
    "    cov = (sigma ** 2) * (rho ** power)\n",
    "    \n",
    "    return Gaussian(mean=mean, cov=cov), mean.unsqueeze(0)\n",
    "\n",
    "\n",
    "def get_illcond_gaussian(dimension: int,\n",
    "                         mean: float = None,\n",
    "                         min_v: float = 1e-2,\n",
    "                         max_v: float = 1e2) -> tuple:\n",
    "    if mean is None:\n",
    "        mean = torch.zeros(dimension)\n",
    "    elif isinstance(mean, (float, int)):\n",
    "        mean = torch.full((dimension,), float(mean))\n",
    "    else:\n",
    "        mean = torch.tensor(mean, dtype=torch.float32)\n",
    "\n",
    "    # Create log-spaced eigenvalues (ill-conditioned spectrum)\n",
    "    eigvals = torch.logspace(torch.log10(torch.tensor(min_v)), \n",
    "                             torch.log10(torch.tensor(max_v)), \n",
    "                             steps=dimension)\n",
    "\n",
    "    # Construct diagonal covariance matrix\n",
    "    cov = torch.diag(eigvals)\n",
    "\n",
    "    return Gaussian(mean=mean, cov=cov), mean.unsqueeze(0)\n",
    "    \n",
    "\n",
    "def sample_se_covariance_torch(dimension, scale=4., noise=0.01, seed=None, device='cpu'):\n",
    "    if seed is not None:\n",
    "        torch.manual_seed(seed)\n",
    "\n",
    "    x = torch.linspace(0, scale, dimension)\n",
    "\n",
    "    x1 = x.unsqueeze(1)\n",
    "    x2 = x.unsqueeze(0)\n",
    "    dist_squared = (x1 - x2) ** 2\n",
    "\n",
    "    K = torch.exp(-0.5 * dist_squared / (0.1 * scale**2))\n",
    "\n",
    "    K += noise * torch.eye(dimension, device=device)\n",
    "\n",
    "    return x, K\n",
    "    \n",
    "def get_deterministic_gaussian_se(dimension: int,\n",
    "                                  mean: float = None,) -> tuple:\n",
    "    if mean is None:\n",
    "        mean = torch.zeros(dimension)\n",
    "        \n",
    "    _, cov = sample_se_covariance_torch(dimension)\n",
    "    \n",
    "    return Gaussian(mean=mean, cov=cov), mean.unsqueeze(0)\n",
    "\n",
    "def get_banana(dimension: int, b: float = 2.):\n",
    "    mean = torch.zeros(dimension)\n",
    "    return BananaDistribution(dimension, b), mean.unsqueeze(0)"
   ]
  },
  {
   "cell_type": "code",
   "execution_count": 6,
   "id": "fd8eb98c-ed23-44b4-94ec-147551f14352",
   "metadata": {},
   "outputs": [],
   "source": [
    "# dist = FunnelDistribution(32, scale=3)\n",
    "\n",
    "#dist, _ = get_toeplitz_gaussian(256, rho=0.95)\n",
    "# dist, _ = get_deterministic_gaussian_se(32)\n",
    "#dist, _ = get_illcond_gaussian(128)\n",
    "dist, _ = get_banana(32, b=20.)\n",
    "\n",
    "# dist, _ = get_random_GM(gaussian_count=25, dimension=32, cube=2., scale=2.,)\n",
    "# dist, _ = get_toeplitz_GM(dimension=32, cube=2., rho=0.9)\n",
    "\n",
    "\n",
    "samples = dist.sample(5000).detach().numpy()"
   ]
  },
  {
   "cell_type": "code",
   "execution_count": 7,
   "id": "d8c61397-4824-4940-8e47-a3eb5cb30787",
   "metadata": {
    "scrolled": true
   },
   "outputs": [
    {
     "data": {
      "text/plain": [
       "<matplotlib.collections.PathCollection at 0x7cedbdabb380>"
      ]
     },
     "execution_count": 7,
     "metadata": {},
     "output_type": "execute_result"
    },
    {
     "data": {
      "image/png": "[encoded data removed]",
      "text/plain": [
       "<Figure size 640x480 with 1 Axes>"
      ]
     },
     "metadata": {},
     "output_type": "display_data"
    }
   ],
   "source": [
    "plt.scatter(samples[:, 0], samples[:, 1], alpha=0.1)"
   ]
  },
  {
   "cell_type": "code",
   "execution_count": 8,
   "id": "b6be8400-2209-4ad1-b746-5c0d104d0970",
   "metadata": {},
   "outputs": [],
   "source": [
    "def dist_factory(name, dimension, cube=2., scale=2., funnel_scale=3, gaussian_count=25, rho=0.95, sigma=1.,\n",
    "                 min_v=1e-3, max_v=1e3, bending=20.\n",
    "                ):\n",
    "    if name == \"random_gm\":\n",
    "        return get_random_GM(gaussian_count=gaussian_count, dimension=dimension, cube=cube, scale=scale)\n",
    "    elif name == \"toeplitz_gm\":\n",
    "        return get_toeplitz_GM(dimension, cube=cube, rho=rho, sigma=sigma)\n",
    "    elif name == \"toeplitz_gaussian\":\n",
    "        return get_toeplitz_gaussian(dimension, rho=rho, sigma=sigma)\n",
    "    elif name == \"deterministic_gaussian_se\":\n",
    "        return get_deterministic_gaussian_se(dimension)\n",
    "    elif name == \"funnel\":\n",
    "        return FunnelDistribution(dimension, scale=funnel_scale), torch.zeros(1, dimension)\n",
    "    elif name == \"illcond_gaussian\":\n",
    "        return get_illcond_gaussian(dimension, min_v=min_v, max_v=max_v)\n",
    "    elif name == \"banana\":\n",
    "        return get_banana(dimension, b=bending)"
   ]
  },
  {
   "cell_type": "code",
   "execution_count": 9,
   "id": "642b06c2-fb8d-43b6-8d11-391bec35a38e",
   "metadata": {},
   "outputs": [],
   "source": [
    "import pandas as pd\n",
    "from scipy.stats import norm\n",
    "from itertools import combinations\n",
    "\n",
    "\n",
    "def drop_static_chains(samples: torch.Tensor, eps: float = 0.0):\n",
    "    var_per_chain = samples.var(dim=0, unbiased=False)\n",
    "\n",
    "    static = (var_per_chain <= eps).all(dim=-1)\n",
    "    keep_mask = ~static\n",
    "\n",
    "    return samples[:, keep_mask, :], keep_mask.sum().item()\n",
    "\n",
    "\n",
    "def z_test(dim_stat):\n",
    "    all_results = {}\n",
    "    for dim, df in dim_stat.items():\n",
    "        recs = []\n",
    "        algs = df.columns\n",
    "        for A, B in combinations(reversed(algs), 2):\n",
    "    \n",
    "            mA, sA = df.loc['ess_mean', A], df.loc['ess_conf_sigma', A]\n",
    "            mB, sB = df.loc['ess_mean', B], df.loc['ess_conf_sigma', B]\n",
    "            z_ess = (mA - mB) / (sA**2 + sB**2)**0.5\n",
    "            p_ess = norm.sf(z_ess)\n",
    "    \n",
    "            tA, seA = df.loc['tv_mean', A], df.loc['tv_conf_sigma', A]\n",
    "            tB, seB = df.loc['tv_mean', B], df.loc['tv_conf_sigma', B]\n",
    "            z_tv = (tB - tA) / (seA**2 + seB**2)**0.5\n",
    "            p_tv = norm.sf(z_tv)\n",
    "            recs.append({\n",
    "                'alg_A': A, 'alg_B': B,\n",
    "                'z(ESS_A>B)': z_ess, 'p(ESS_A>B)': p_ess,\n",
    "                'z(TV_A<B)': z_tv,  'p(TV_A<B)': p_tv,\n",
    "            })\n",
    "        all_results[dim] = pd.DataFrame.from_records(recs)\n",
    "    return all_results\n",
    "\n",
    "\n",
    "def compute_results(hist_data, algs, dist_name=None):\n",
    "    dim_stat = {}\n",
    "\n",
    "    for dimension in tqdm.notebook.tqdm(dimensions, desc=\"dimension\"):\n",
    "        rows = []\n",
    "        for alg in tqdm.notebook.tqdm(algs, desc=\"alg\", leave=False):\n",
    "            obj = hist_data[dimension][alg]\n",
    "            cache = obj[\"cache\"]\n",
    "            pure_runtime = obj[\"pure_runtime\"]\n",
    "    \n",
    "            clean_samples, n_kept = drop_static_chains(cache.samples)\n",
    "    \n",
    "            metrics = BenchmarkUtils.compute_metrics(clean_samples,\n",
    "                                                     cache.true_samples)\n",
    "            metrics[\"runtime\"]      = pure_runtime\n",
    "            metrics[\"chains_kept\"]  = n_kept\n",
    "            rows.append(metrics)\n",
    "    \n",
    "        df = pd.DataFrame(rows, index=list(algs.keys())).T\n",
    "        dim_stat[dimension] = df\n",
    "        print(f\"\\ndim={dimension}, dist={dist_name}\\n\", df)\n",
    "        print(z_test(dim_stat))\n",
    "    \n",
    "    return dim_stat"
   ]
  },
  {
   "cell_type": "code",
   "execution_count": 10,
   "id": "b8ddf396-4588-424f-8a60-ce9af4ede051",
   "metadata": {
    "scrolled": true
   },
   "outputs": [],
   "source": [
    "def run_experiment(dist_name, log=[]):\n",
    "    hist_data = {}\n",
    "    loge = {\n",
    "        \"hist_data\": hist_data,\n",
    "        \"algs\": algs,\n",
    "        \"dist_name\": dist_name,\n",
    "        \"dim_stat\": None,\n",
    "    }\n",
    "    log.append(loge)\n",
    "    runtime = {\n",
    "        dimension: dict()\n",
    "        for dimension in dimensions\n",
    "    }\n",
    "    pure_runtime = deepcopy(runtime)\n",
    "    distance_to_mass_points = 1.\n",
    "    \n",
    "    for dimension in tqdm.notebook.tqdm(dimensions):\n",
    "        print(\"Processing dimension\", dimension)\n",
    "        hist_data[dimension] = {}\n",
    "        target_dist, true_means = dist_factory(dist_name, dimension)\n",
    "        \n",
    "        # target_dist, true_means = get_random_GM(gaussian_count, dimension, cube)\n",
    "        # gm, true_means = get_deterministic_GM(dimension, cube)\n",
    "        # true_samples = gm.sample(sample_count)\n",
    "    \n",
    "        # target_dist = FunnelDistribution(dimension, scale=scale)\n",
    "        \n",
    "        # target_dist, _ = get_deterministic_gaussian(dimension, rho=0.8)\n",
    "        # target_dist, _ = get_deterministic_gaussian_se(dimension)\n",
    "    \n",
    "        # true_means = torch.zeros(1, dimension)\n",
    "        true_samples = target_dist.sample(sample_count)\n",
    "        \n",
    "        starting_points = BenchmarkUtils.generate_starting_points(\n",
    "            chain_count, dimension,\n",
    "            true_means,\n",
    "            distance_to_mass_points,\n",
    "        )\n",
    "    \n",
    "        common_params = base_sampler.CommonParams(\n",
    "            target_dist=target_dist,\n",
    "            starting_point=starting_points.clone(),\n",
    "            proposal_dist=torch.distributions.MultivariateNormal(\n",
    "                torch.zeros(dimension, device=device),\n",
    "                torch.eye(dimension, device=device),\n",
    "            ),\n",
    "        )\n",
    "    \n",
    "        for alg in algs:\n",
    "            print(\"-\" * 80)\n",
    "            base_meta_adj = hparams[alg][\"common\"].copy_update(common_params)\n",
    "            # if hasattr(base_meta_adj, \"sigma\"):\n",
    "            #     base_meta_adj.sigma /= dimension\n",
    "    \n",
    "            algs[alg].load_params(base_meta_adj)\n",
    "            algs[alg].load_true_samples(true_samples)\n",
    "            algs[alg].run()\n",
    "    \n",
    "            loge[\"hist_data\"][dimension][alg] = {\n",
    "                \"cache\": algs[alg].pipeline.sample_blocks[-1].iteration.cache,\n",
    "                \"stop_data_hist\": algs[alg].pipeline.sample_blocks[-1].stop_data_hist,\n",
    "                \"runtime\": algs[alg].pipeline.runtime,\n",
    "                \"pure_runtime\": algs[alg].pipeline.pure_runtime,\n",
    "            }\n",
    "        print()\n",
    "    \n",
    "    dim_stat = compute_results(hist_data, algs, dist_name)\n",
    "    loge[\"dim_stat\"] = dim_stat"
   ]
  },
  {
   "cell_type": "code",
   "execution_count": 11,
   "id": "215295b0-772c-41f6-bb4d-69929bd09dc0",
   "metadata": {},
   "outputs": [],
   "source": [
    "def moving_average(x, window_size=10):\n",
    "    return np.convolve(x, np.ones(window_size)/window_size, mode='valid')\n",
    "\n",
    "def print_log(log):\n",
    "    for entry in log:\n",
    "        for dimension in dimensions:\n",
    "            print(f\"\\ndim={dimension}, dist={entry['dist_name']}\\n\", entry[\"dim_stat\"][dimension])"
   ]
  },
  {
   "cell_type": "code",
   "execution_count": 12,
   "id": "9dd0f50d-c4f0-4892-b48f-32095811d5a5",
   "metadata": {
    "editable": true,
    "slideshow": {
     "slide_type": ""
    },
    "tags": []
   },
   "outputs": [
    {
     "data": {
      "application/vnd.jupyter.widget-view+json": {
       "model_id": "e2655e26814e453cb185c57d0c066425",
       "version_major": 2,
       "version_minor": 0
      },
      "text/plain": [
       "  0%|          | 0/6 [00:00<?, ?it/s]"
      ]
     },
     "metadata": {},
     "output_type": "display_data"
    },
    {
     "name": "stdout",
     "output_type": "stream",
     "text": [
      "Processing dimension 8\n",
      "--------------------------------------------------------------------------------\n",
      "Running HMCVanilla\n",
      "number of blocks: 3\n",
      "processing block: 1\n"
     ]
    },
    {
     "data": {
      "application/vnd.jupyter.widget-view+json": {
       "model_id": "70ff1c711106445794d39660a1cf0144",
       "version_major": 2,
       "version_minor": 0
      },
      "text/plain": [
       "  0%|          | 0/2500 [00:00<?, ?it/s]"
      ]
     },
     "metadata": {},
     "output_type": "display_data"
    },
    {
     "name": "stdout",
     "output_type": "stream",
     "text": [
      "step_size=0.30060094594955444\n",
      "max_step_size=0.3131302297115326\n",
      "broken_traj=1376\n",
      "processing block: 2\n"
     ]
    },
    {
     "data": {
      "application/vnd.jupyter.widget-view+json": {
       "model_id": "7b8a88fc05b44f8eb2982ffe43f5e9c8",
       "version_major": 2,
       "version_minor": 0
      },
      "text/plain": [
       "  0%|          | 0/5000 [00:00<?, ?it/s]"
      ]
     },
     "metadata": {},
     "output_type": "display_data"
    },
    {
     "name": "stdout",
     "output_type": "stream",
     "text": [
      "step_size=0.15733543038368225\n",
      "max_step_size=0.2754693329334259\n",
      "broken_traj=1752\n",
      "processing block: 3\n"
     ]
    },
    {
     "data": {
      "application/vnd.jupyter.widget-view+json": {
       "model_id": "507deafbebcf486cbf285df6a32650cf",
       "version_major": 2,
       "version_minor": 0
      },
      "text/plain": [
       "  0%|          | 0/5000 [00:00<?, ?it/s]"
      ]
     },
     "metadata": {},
     "output_type": "display_data"
    },
    {
     "name": "stdout",
     "output_type": "stream",
     "text": [
      "step_size=0.22740496695041656\n",
      "max_step_size=0.2282056212425232\n",
      "broken_traj=2295\n",
      "Runtime: 149.25s\n",
      "--------------------------------------------------------------------------------\n",
      "Running HMCAdaptiveHutchTaylorNoGrad\n",
      "number of blocks: 3\n",
      "processing block: 1\n"
     ]
    },
    {
     "data": {
      "application/vnd.jupyter.widget-view+json": {
       "model_id": "9723027205c4491fae82ef0df4335ead",
       "version_major": 2,
       "version_minor": 0
      },
      "text/plain": [
       "  0%|          | 0/2500 [00:00<?, ?it/s]"
      ]
     },
     "metadata": {},
     "output_type": "display_data"
    },
    {
     "name": "stdout",
     "output_type": "stream",
     "text": [
      "step_size=0.3051062822341919\n",
      "max_step_size=0.31191548705101013\n",
      "broken_traj=1381\n",
      "processing block: 2\n"
     ]
    },
    {
     "data": {
      "application/vnd.jupyter.widget-view+json": {
       "model_id": "f4a12066bda04c99bb713ae8e44a080f",
       "version_major": 2,
       "version_minor": 0
      },
      "text/plain": [
       "  0%|          | 0/5000 [00:00<?, ?it/s]"
      ]
     },
     "metadata": {},
     "output_type": "display_data"
    },
    {
     "name": "stdout",
     "output_type": "stream",
     "text": [
      "step_size=0.2283099740743637\n",
      "max_step_size=0.29458749294281006\n",
      "broken_traj=1554\n",
      "processing block: 3\n"
     ]
    },
    {
     "data": {
      "application/vnd.jupyter.widget-view+json": {
       "model_id": "e071feb506d44417b682d798917abf10",
       "version_major": 2,
       "version_minor": 0
      },
      "text/plain": [
       "  0%|          | 0/5000 [00:00<?, ?it/s]"
      ]
     },
     "metadata": {},
     "output_type": "display_data"
    },
    {
     "name": "stdout",
     "output_type": "stream",
     "text": [
      "step_size=0.2903265655040741\n",
      "max_step_size=0.2904854714870453\n",
      "broken_traj=1592\n",
      "Runtime: 227.68s\n",
      "--------------------------------------------------------------------------------\n",
      "Running HMCAdaptiveHutchLanczosNoGrad\n",
      "number of blocks: 3\n",
      "processing block: 1\n"
     ]
    },
    {
     "data": {
      "application/vnd.jupyter.widget-view+json": {
       "model_id": "7bb69f631a7e4963bc94d8a31230a0c6",
       "version_major": 2,
       "version_minor": 0
      },
      "text/plain": [
       "  0%|          | 0/2500 [00:00<?, ?it/s]"
      ]
     },
     "metadata": {},
     "output_type": "display_data"
    },
    {
     "name": "stdout",
     "output_type": "stream",
     "text": [
      "step_size=0.31326618790626526\n",
      "max_step_size=0.3181523382663727\n",
      "broken_traj=1328\n",
      "processing block: 2\n"
     ]
    },
    {
     "data": {
      "application/vnd.jupyter.widget-view+json": {
       "model_id": "e7c5500b7bea4e5aac4a5b3928ca33c6",
       "version_major": 2,
       "version_minor": 0
      },
      "text/plain": [
       "  0%|          | 0/5000 [00:00<?, ?it/s]"
      ]
     },
     "metadata": {},
     "output_type": "display_data"
    },
    {
     "name": "stdout",
     "output_type": "stream",
     "text": [
      "step_size=0.21119575202465057\n",
      "max_step_size=0.29385313391685486\n",
      "broken_traj=1562\n",
      "processing block: 3\n"
     ]
    },
    {
     "data": {
      "application/vnd.jupyter.widget-view+json": {
       "model_id": "ad22d8066304433fa7ee717c190a1bb6",
       "version_major": 2,
       "version_minor": 0
      },
      "text/plain": [
       "  0%|          | 0/5000 [00:00<?, ?it/s]"
      ]
     },
     "metadata": {},
     "output_type": "display_data"
    },
    {
     "name": "stdout",
     "output_type": "stream",
     "text": [
      "step_size=0.2550927698612213\n",
      "max_step_size=0.2597380578517914\n",
      "broken_traj=1928\n",
      "Runtime: 246.30s\n",
      "\n",
      "Processing dimension 16\n",
      "--------------------------------------------------------------------------------\n",
      "Running HMCVanilla\n",
      "number of blocks: 3\n",
      "processing block: 1\n"
     ]
    },
    {
     "data": {
      "application/vnd.jupyter.widget-view+json": {
       "model_id": "4e2a30af796b48aea75a1d7bfb72fd05",
       "version_major": 2,
       "version_minor": 0
      },
      "text/plain": [
       "  0%|          | 0/2500 [00:00<?, ?it/s]"
      ]
     },
     "metadata": {},
     "output_type": "display_data"
    },
    {
     "name": "stdout",
     "output_type": "stream",
     "text": [
      "step_size=0.3082488179206848\n",
      "max_step_size=0.32787710428237915\n",
      "broken_traj=1228\n",
      "processing block: 2\n"
     ]
    },
    {
     "data": {
      "application/vnd.jupyter.widget-view+json": {
       "model_id": "ddd4d31cc10d41b89aeea4cee1f4eeca",
       "version_major": 2,
       "version_minor": 0
      },
      "text/plain": [
       "  0%|          | 0/5000 [00:00<?, ?it/s]"
      ]
     },
     "metadata": {},
     "output_type": "display_data"
    },
    {
     "name": "stdout",
     "output_type": "stream",
     "text": [
      "step_size=0.194009467959404\n",
      "max_step_size=0.2994670867919922\n",
      "broken_traj=1493\n",
      "processing block: 3\n"
     ]
    },
    {
     "data": {
      "application/vnd.jupyter.widget-view+json": {
       "model_id": "f9b0d4370ce2463c9a633badd8448bf7",
       "version_major": 2,
       "version_minor": 0
      },
      "text/plain": [
       "  0%|          | 0/5000 [00:00<?, ?it/s]"
      ]
     },
     "metadata": {},
     "output_type": "display_data"
    },
    {
     "name": "stdout",
     "output_type": "stream",
     "text": [
      "step_size=0.2687875032424927\n",
      "max_step_size=0.2767050862312317\n",
      "broken_traj=1722\n",
      "Runtime: 142.90s\n",
      "--------------------------------------------------------------------------------\n",
      "Running HMCAdaptiveHutchTaylorNoGrad\n",
      "number of blocks: 3\n",
      "processing block: 1\n"
     ]
    },
    {
     "data": {
      "application/vnd.jupyter.widget-view+json": {
       "model_id": "922223f084144fd6a62b81124d584815",
       "version_major": 2,
       "version_minor": 0
      },
      "text/plain": [
       "  0%|          | 0/2500 [00:00<?, ?it/s]"
      ]
     },
     "metadata": {},
     "output_type": "display_data"
    },
    {
     "name": "stdout",
     "output_type": "stream",
     "text": [
      "step_size=0.3225317895412445\n",
      "max_step_size=0.32902607321739197\n",
      "broken_traj=1205\n",
      "processing block: 2\n"
     ]
    },
    {
     "data": {
      "application/vnd.jupyter.widget-view+json": {
       "model_id": "d8c47e45c10f4a15aed1043f3a4acd58",
       "version_major": 2,
       "version_minor": 0
      },
      "text/plain": [
       "  0%|          | 0/5000 [00:00<?, ?it/s]"
      ]
     },
     "metadata": {},
     "output_type": "display_data"
    },
    {
     "name": "stdout",
     "output_type": "stream",
     "text": [
      "step_size=0.2767353951931\n",
      "max_step_size=0.31899356842041016\n",
      "broken_traj=1296\n",
      "processing block: 3\n"
     ]
    },
    {
     "data": {
      "application/vnd.jupyter.widget-view+json": {
       "model_id": "8c00ae5604b9410ab341fbb8cc6da861",
       "version_major": 2,
       "version_minor": 0
      },
      "text/plain": [
       "  0%|          | 0/5000 [00:00<?, ?it/s]"
      ]
     },
     "metadata": {},
     "output_type": "display_data"
    },
    {
     "name": "stdout",
     "output_type": "stream",
     "text": [
      "step_size=0.31781959533691406\n",
      "max_step_size=0.31899356842041016\n",
      "broken_traj=1296\n",
      "Runtime: 225.78s\n",
      "--------------------------------------------------------------------------------\n",
      "Running HMCAdaptiveHutchLanczosNoGrad\n",
      "number of blocks: 3\n",
      "processing block: 1\n"
     ]
    },
    {
     "data": {
      "application/vnd.jupyter.widget-view+json": {
       "model_id": "e5213cdecadd4533bac012948c6839d9",
       "version_major": 2,
       "version_minor": 0
      },
      "text/plain": [
       "  0%|          | 0/2500 [00:00<?, ?it/s]"
      ]
     },
     "metadata": {},
     "output_type": "display_data"
    },
    {
     "name": "stdout",
     "output_type": "stream",
     "text": [
      "step_size=0.32404354214668274\n",
      "max_step_size=0.3316724896430969\n",
      "broken_traj=1202\n",
      "processing block: 2\n"
     ]
    },
    {
     "data": {
      "application/vnd.jupyter.widget-view+json": {
       "model_id": "cbef1ab8379c454693f8d2d479c034fd",
       "version_major": 2,
       "version_minor": 0
      },
      "text/plain": [
       "  0%|          | 0/5000 [00:00<?, ?it/s]"
      ]
     },
     "metadata": {},
     "output_type": "display_data"
    },
    {
     "name": "stdout",
     "output_type": "stream",
     "text": [
      "step_size=0.26780951023101807\n",
      "max_step_size=0.3194883167743683\n",
      "broken_traj=1314\n",
      "processing block: 3\n"
     ]
    },
    {
     "data": {
      "application/vnd.jupyter.widget-view+json": {
       "model_id": "c205b99c2f3d424386dbe3ad3d6b6100",
       "version_major": 2,
       "version_minor": 0
      },
      "text/plain": [
       "  0%|          | 0/5000 [00:00<?, ?it/s]"
      ]
     },
     "metadata": {},
     "output_type": "display_data"
    },
    {
     "name": "stdout",
     "output_type": "stream",
     "text": [
      "step_size=0.3163454830646515\n",
      "max_step_size=0.31671980023384094\n",
      "broken_traj=1336\n",
      "Runtime: 248.12s\n",
      "\n",
      "Processing dimension 32\n",
      "--------------------------------------------------------------------------------\n",
      "Running HMCVanilla\n",
      "number of blocks: 3\n",
      "processing block: 1\n"
     ]
    },
    {
     "data": {
      "application/vnd.jupyter.widget-view+json": {
       "model_id": "ea385eb74e6348e8a5ed19c887c3bf7b",
       "version_major": 2,
       "version_minor": 0
      },
      "text/plain": [
       "  0%|          | 0/2500 [00:00<?, ?it/s]"
      ]
     },
     "metadata": {},
     "output_type": "display_data"
    },
    {
     "name": "stdout",
     "output_type": "stream",
     "text": [
      "step_size=0.27084237337112427\n",
      "max_step_size=0.2760152220726013\n",
      "broken_traj=1713\n",
      "processing block: 2\n"
     ]
    },
    {
     "data": {
      "application/vnd.jupyter.widget-view+json": {
       "model_id": "6ae9e5fa4c9b4533ac4a16696c6b4b45",
       "version_major": 2,
       "version_minor": 0
      },
      "text/plain": [
       "  0%|          | 0/5000 [00:00<?, ?it/s]"
      ]
     },
     "metadata": {},
     "output_type": "display_data"
    },
    {
     "name": "stdout",
     "output_type": "stream",
     "text": [
      "step_size=0.19503720104694366\n",
      "max_step_size=0.2585233747959137\n",
      "broken_traj=1907\n",
      "processing block: 3\n"
     ]
    },
    {
     "data": {
      "application/vnd.jupyter.widget-view+json": {
       "model_id": "c744a8adaf054b7a9e4fd51e387c7982",
       "version_major": 2,
       "version_minor": 0
      },
      "text/plain": [
       "  0%|          | 0/5000 [00:00<?, ?it/s]"
      ]
     },
     "metadata": {},
     "output_type": "display_data"
    },
    {
     "name": "stdout",
     "output_type": "stream",
     "text": [
      "step_size=0.24093391001224518\n",
      "max_step_size=0.2471754550933838\n",
      "broken_traj=2035\n",
      "Runtime: 158.59s\n",
      "--------------------------------------------------------------------------------\n",
      "Running HMCAdaptiveHutchTaylorNoGrad\n",
      "number of blocks: 3\n",
      "processing block: 1\n"
     ]
    },
    {
     "data": {
      "application/vnd.jupyter.widget-view+json": {
       "model_id": "af79a04c33b84a41bcd2e0e2ccf24381",
       "version_major": 2,
       "version_minor": 0
      },
      "text/plain": [
       "  0%|          | 0/2500 [00:00<?, ?it/s]"
      ]
     },
     "metadata": {},
     "output_type": "display_data"
    },
    {
     "name": "stdout",
     "output_type": "stream",
     "text": [
      "step_size=0.2690824568271637\n",
      "max_step_size=0.2742091119289398\n",
      "broken_traj=1729\n",
      "processing block: 2\n"
     ]
    },
    {
     "data": {
      "application/vnd.jupyter.widget-view+json": {
       "model_id": "594e62f0199344118ab21e5a97a08b04",
       "version_major": 2,
       "version_minor": 0
      },
      "text/plain": [
       "  0%|          | 0/5000 [00:00<?, ?it/s]"
      ]
     },
     "metadata": {},
     "output_type": "display_data"
    },
    {
     "name": "stdout",
     "output_type": "stream",
     "text": [
      "step_size=0.2510131895542145\n",
      "max_step_size=0.270059198141098\n",
      "broken_traj=1770\n",
      "processing block: 3\n"
     ]
    },
    {
     "data": {
      "application/vnd.jupyter.widget-view+json": {
       "model_id": "2bb3a454010b4c7984607b08bae8a246",
       "version_major": 2,
       "version_minor": 0
      },
      "text/plain": [
       "  0%|          | 0/5000 [00:00<?, ?it/s]"
      ]
     },
     "metadata": {},
     "output_type": "display_data"
    },
    {
     "name": "stdout",
     "output_type": "stream",
     "text": [
      "step_size=0.2558935880661011\n",
      "max_step_size=0.270059198141098\n",
      "broken_traj=1770\n",
      "Runtime: 240.90s\n",
      "--------------------------------------------------------------------------------\n",
      "Running HMCAdaptiveHutchLanczosNoGrad\n",
      "number of blocks: 3\n",
      "processing block: 1\n"
     ]
    },
    {
     "data": {
      "application/vnd.jupyter.widget-view+json": {
       "model_id": "54d1e66a86c34051a4085950733b3810",
       "version_major": 2,
       "version_minor": 0
      },
      "text/plain": [
       "  0%|          | 0/2500 [00:00<?, ?it/s]"
      ]
     },
     "metadata": {},
     "output_type": "display_data"
    },
    {
     "name": "stdout",
     "output_type": "stream",
     "text": [
      "step_size=0.2600758373737335\n",
      "max_step_size=0.27496737241744995\n",
      "broken_traj=1724\n",
      "processing block: 2\n"
     ]
    },
    {
     "data": {
      "application/vnd.jupyter.widget-view+json": {
       "model_id": "3c50ce194ffc4c36af27cad83ffc48d4",
       "version_major": 2,
       "version_minor": 0
      },
      "text/plain": [
       "  0%|          | 0/5000 [00:00<?, ?it/s]"
      ]
     },
     "metadata": {},
     "output_type": "display_data"
    },
    {
     "name": "stdout",
     "output_type": "stream",
     "text": [
      "step_size=0.24151143431663513\n",
      "max_step_size=0.2708660662174225\n",
      "broken_traj=1767\n",
      "processing block: 3\n"
     ]
    },
    {
     "data": {
      "application/vnd.jupyter.widget-view+json": {
       "model_id": "319de307ac894c0a88ec8a6afec1f401",
       "version_major": 2,
       "version_minor": 0
      },
      "text/plain": [
       "  0%|          | 0/5000 [00:00<?, ?it/s]"
      ]
     },
     "metadata": {},
     "output_type": "display_data"
    },
    {
     "name": "stdout",
     "output_type": "stream",
     "text": [
      "step_size=0.2646217346191406\n",
      "max_step_size=0.2695139944553375\n",
      "broken_traj=1783\n",
      "Runtime: 265.54s\n",
      "\n",
      "Processing dimension 64\n",
      "--------------------------------------------------------------------------------\n",
      "Running HMCVanilla\n",
      "number of blocks: 3\n",
      "processing block: 1\n"
     ]
    },
    {
     "data": {
      "application/vnd.jupyter.widget-view+json": {
       "model_id": "5bf19bee9880499aa1d7812d0efe4eb7",
       "version_major": 2,
       "version_minor": 0
      },
      "text/plain": [
       "  0%|          | 0/2500 [00:00<?, ?it/s]"
      ]
     },
     "metadata": {},
     "output_type": "display_data"
    },
    {
     "name": "stdout",
     "output_type": "stream",
     "text": [
      "step_size=0.21386823058128357\n",
      "max_step_size=0.22303716838359833\n",
      "broken_traj=2336\n",
      "processing block: 2\n"
     ]
    },
    {
     "data": {
      "application/vnd.jupyter.widget-view+json": {
       "model_id": "8fd2e6d10d5c4dcabcb40dcdae324b0a",
       "version_major": 2,
       "version_minor": 0
      },
      "text/plain": [
       "  0%|          | 0/5000 [00:00<?, ?it/s]"
      ]
     },
     "metadata": {},
     "output_type": "display_data"
    },
    {
     "name": "stdout",
     "output_type": "stream",
     "text": [
      "step_size=0.17252546548843384\n",
      "max_step_size=0.21366897225379944\n",
      "broken_traj=2461\n",
      "processing block: 3\n"
     ]
    },
    {
     "data": {
      "application/vnd.jupyter.widget-view+json": {
       "model_id": "412fc900f14e49be96387dde536cf4e1",
       "version_major": 2,
       "version_minor": 0
      },
      "text/plain": [
       "  0%|          | 0/5000 [00:00<?, ?it/s]"
      ]
     },
     "metadata": {},
     "output_type": "display_data"
    },
    {
     "name": "stdout",
     "output_type": "stream",
     "text": [
      "step_size=0.20351429283618927\n",
      "max_step_size=0.20430587232112885\n",
      "broken_traj=2593\n",
      "Runtime: 168.95s\n",
      "--------------------------------------------------------------------------------\n",
      "Running HMCAdaptiveHutchTaylorNoGrad\n",
      "number of blocks: 3\n",
      "processing block: 1\n"
     ]
    },
    {
     "data": {
      "application/vnd.jupyter.widget-view+json": {
       "model_id": "0645dce01dd642ec9bffa9c345cb9c70",
       "version_major": 2,
       "version_minor": 0
      },
      "text/plain": [
       "  0%|          | 0/2500 [00:00<?, ?it/s]"
      ]
     },
     "metadata": {},
     "output_type": "display_data"
    },
    {
     "name": "stdout",
     "output_type": "stream",
     "text": [
      "step_size=0.21003249287605286\n",
      "max_step_size=0.22178034484386444\n",
      "broken_traj=2335\n",
      "processing block: 2\n"
     ]
    },
    {
     "data": {
      "application/vnd.jupyter.widget-view+json": {
       "model_id": "26b841045cda4cc3a83323524b137c4c",
       "version_major": 2,
       "version_minor": 0
      },
      "text/plain": [
       "  0%|          | 0/5000 [00:00<?, ?it/s]"
      ]
     },
     "metadata": {},
     "output_type": "display_data"
    },
    {
     "name": "stdout",
     "output_type": "stream",
     "text": [
      "step_size=0.20174500346183777\n",
      "max_step_size=0.22029298543930054\n",
      "broken_traj=2358\n",
      "processing block: 3\n"
     ]
    },
    {
     "data": {
      "application/vnd.jupyter.widget-view+json": {
       "model_id": "1e894452590541eca57a35d3e051223f",
       "version_major": 2,
       "version_minor": 0
      },
      "text/plain": [
       "  0%|          | 0/5000 [00:00<?, ?it/s]"
      ]
     },
     "metadata": {},
     "output_type": "display_data"
    },
    {
     "name": "stdout",
     "output_type": "stream",
     "text": [
      "step_size=0.21265874803066254\n",
      "max_step_size=0.22029298543930054\n",
      "broken_traj=2358\n",
      "Runtime: 257.09s\n",
      "--------------------------------------------------------------------------------\n",
      "Running HMCAdaptiveHutchLanczosNoGrad\n",
      "number of blocks: 3\n",
      "processing block: 1\n"
     ]
    },
    {
     "data": {
      "application/vnd.jupyter.widget-view+json": {
       "model_id": "85b01ccf9bb6452d9e4f1ad6f3be372a",
       "version_major": 2,
       "version_minor": 0
      },
      "text/plain": [
       "  0%|          | 0/2500 [00:00<?, ?it/s]"
      ]
     },
     "metadata": {},
     "output_type": "display_data"
    },
    {
     "name": "stdout",
     "output_type": "stream",
     "text": [
      "step_size=0.22282765805721283\n",
      "max_step_size=0.2239433228969574\n",
      "broken_traj=2323\n",
      "processing block: 2\n"
     ]
    },
    {
     "data": {
      "application/vnd.jupyter.widget-view+json": {
       "model_id": "3a9dc8665e9b423a8f7434143ae1d5e0",
       "version_major": 2,
       "version_minor": 0
      },
      "text/plain": [
       "  0%|          | 0/5000 [00:00<?, ?it/s]"
      ]
     },
     "metadata": {},
     "output_type": "display_data"
    },
    {
     "name": "stdout",
     "output_type": "stream",
     "text": [
      "step_size=0.21234051883220673\n",
      "max_step_size=0.22170408070087433\n",
      "broken_traj=2352\n",
      "processing block: 3\n"
     ]
    },
    {
     "data": {
      "application/vnd.jupyter.widget-view+json": {
       "model_id": "aa7671aeb88c4d5ba01d3df9952843c9",
       "version_major": 2,
       "version_minor": 0
      },
      "text/plain": [
       "  0%|          | 0/5000 [00:00<?, ?it/s]"
      ]
     },
     "metadata": {},
     "output_type": "display_data"
    },
    {
     "name": "stdout",
     "output_type": "stream",
     "text": [
      "step_size=0.2102224975824356\n",
      "max_step_size=0.22170408070087433\n",
      "broken_traj=2352\n",
      "Runtime: 282.18s\n",
      "\n",
      "Processing dimension 128\n",
      "--------------------------------------------------------------------------------\n",
      "Running HMCVanilla\n",
      "number of blocks: 3\n",
      "processing block: 1\n"
     ]
    },
    {
     "data": {
      "application/vnd.jupyter.widget-view+json": {
       "model_id": "11c1b47a35844d43af354cae7ffa19dc",
       "version_major": 2,
       "version_minor": 0
      },
      "text/plain": [
       "  0%|          | 0/2500 [00:00<?, ?it/s]"
      ]
     },
     "metadata": {},
     "output_type": "display_data"
    },
    {
     "name": "stdout",
     "output_type": "stream",
     "text": [
      "step_size=0.17426125705242157\n",
      "max_step_size=0.20588384568691254\n",
      "broken_traj=2602\n",
      "processing block: 2\n"
     ]
    },
    {
     "data": {
      "application/vnd.jupyter.widget-view+json": {
       "model_id": "5800aaa936a24b59bfb5a5129e062f3c",
       "version_major": 2,
       "version_minor": 0
      },
      "text/plain": [
       "  0%|          | 0/5000 [00:00<?, ?it/s]"
      ]
     },
     "metadata": {},
     "output_type": "display_data"
    },
    {
     "name": "stdout",
     "output_type": "stream",
     "text": [
      "step_size=0.14089225232601166\n",
      "max_step_size=0.1977284997701645\n",
      "broken_traj=2720\n",
      "processing block: 3\n"
     ]
    },
    {
     "data": {
      "application/vnd.jupyter.widget-view+json": {
       "model_id": "b06f22f9f664477e9154014c8eeaa2f0",
       "version_major": 2,
       "version_minor": 0
      },
      "text/plain": [
       "  0%|          | 0/5000 [00:00<?, ?it/s]"
      ]
     },
     "metadata": {},
     "output_type": "display_data"
    },
    {
     "name": "stdout",
     "output_type": "stream",
     "text": [
      "step_size=0.1542970836162567\n",
      "max_step_size=0.15992198884487152\n",
      "broken_traj=3281\n",
      "Runtime: 184.65s\n",
      "--------------------------------------------------------------------------------\n",
      "Running HMCAdaptiveHutchTaylorNoGrad\n",
      "number of blocks: 3\n",
      "processing block: 1\n"
     ]
    },
    {
     "data": {
      "application/vnd.jupyter.widget-view+json": {
       "model_id": "77086d62aa784ced811d312fcac45f28",
       "version_major": 2,
       "version_minor": 0
      },
      "text/plain": [
       "  0%|          | 0/2500 [00:00<?, ?it/s]"
      ]
     },
     "metadata": {},
     "output_type": "display_data"
    },
    {
     "name": "stdout",
     "output_type": "stream",
     "text": [
      "step_size=0.17872844636440277\n",
      "max_step_size=0.20166689157485962\n",
      "broken_traj=2689\n",
      "processing block: 2\n"
     ]
    },
    {
     "data": {
      "application/vnd.jupyter.widget-view+json": {
       "model_id": "2a2739652f5343c88e1236ea601250dc",
       "version_major": 2,
       "version_minor": 0
      },
      "text/plain": [
       "  0%|          | 0/5000 [00:00<?, ?it/s]"
      ]
     },
     "metadata": {},
     "output_type": "display_data"
    },
    {
     "name": "stdout",
     "output_type": "stream",
     "text": [
      "step_size=0.16749557852745056\n",
      "max_step_size=0.19868779182434082\n",
      "broken_traj=2725\n",
      "processing block: 3\n"
     ]
    },
    {
     "data": {
      "application/vnd.jupyter.widget-view+json": {
       "model_id": "ad82407a73d948cf9323b630cbd81141",
       "version_major": 2,
       "version_minor": 0
      },
      "text/plain": [
       "  0%|          | 0/5000 [00:00<?, ?it/s]"
      ]
     },
     "metadata": {},
     "output_type": "display_data"
    },
    {
     "name": "stdout",
     "output_type": "stream",
     "text": [
      "step_size=0.1915183812379837\n",
      "max_step_size=0.19868779182434082\n",
      "broken_traj=2725\n",
      "Runtime: 279.00s\n",
      "--------------------------------------------------------------------------------\n",
      "Running HMCAdaptiveHutchLanczosNoGrad\n",
      "number of blocks: 3\n",
      "processing block: 1\n"
     ]
    },
    {
     "data": {
      "application/vnd.jupyter.widget-view+json": {
       "model_id": "953d9c22f7f74ff9ad7d3e4b8f8a68ea",
       "version_major": 2,
       "version_minor": 0
      },
      "text/plain": [
       "  0%|          | 0/2500 [00:00<?, ?it/s]"
      ]
     },
     "metadata": {},
     "output_type": "display_data"
    },
    {
     "name": "stdout",
     "output_type": "stream",
     "text": [
      "step_size=0.1783377230167389\n",
      "max_step_size=0.1914786994457245\n",
      "broken_traj=2788\n",
      "processing block: 2\n"
     ]
    },
    {
     "data": {
      "application/vnd.jupyter.widget-view+json": {
       "model_id": "afbb176adc434895930d1c1341247003",
       "version_major": 2,
       "version_minor": 0
      },
      "text/plain": [
       "  0%|          | 0/5000 [00:00<?, ?it/s]"
      ]
     },
     "metadata": {},
     "output_type": "display_data"
    },
    {
     "name": "stdout",
     "output_type": "stream",
     "text": [
      "step_size=0.16673603653907776\n",
      "max_step_size=0.18878234922885895\n",
      "broken_traj=2826\n",
      "processing block: 3\n"
     ]
    },
    {
     "data": {
      "application/vnd.jupyter.widget-view+json": {
       "model_id": "9ae87ae9241d4e41841232000be572f1",
       "version_major": 2,
       "version_minor": 0
      },
      "text/plain": [
       "  0%|          | 0/5000 [00:00<?, ?it/s]"
      ]
     },
     "metadata": {},
     "output_type": "display_data"
    },
    {
     "name": "stdout",
     "output_type": "stream",
     "text": [
      "step_size=0.18369759619235992\n",
      "max_step_size=0.18878234922885895\n",
      "broken_traj=2826\n",
      "Runtime: 308.70s\n",
      "\n",
      "Processing dimension 256\n",
      "--------------------------------------------------------------------------------\n",
      "Running HMCVanilla\n",
      "number of blocks: 3\n",
      "processing block: 1\n"
     ]
    },
    {
     "data": {
      "application/vnd.jupyter.widget-view+json": {
       "model_id": "583703a2ea49421fa758d23d663ea36f",
       "version_major": 2,
       "version_minor": 0
      },
      "text/plain": [
       "  0%|          | 0/2500 [00:00<?, ?it/s]"
      ]
     },
     "metadata": {},
     "output_type": "display_data"
    },
    {
     "name": "stdout",
     "output_type": "stream",
     "text": [
      "step_size=0.11670594662427902\n",
      "max_step_size=0.2628284990787506\n",
      "broken_traj=2019\n",
      "processing block: 2\n"
     ]
    },
    {
     "data": {
      "application/vnd.jupyter.widget-view+json": {
       "model_id": "7ea07a2911684f2a898474aec64ba753",
       "version_major": 2,
       "version_minor": 0
      },
      "text/plain": [
       "  0%|          | 0/5000 [00:00<?, ?it/s]"
      ]
     },
     "metadata": {},
     "output_type": "display_data"
    },
    {
     "name": "stdout",
     "output_type": "stream",
     "text": [
      "step_size=0.1063769981265068\n",
      "max_step_size=0.2583844065666199\n",
      "broken_traj=2067\n",
      "processing block: 3\n"
     ]
    },
    {
     "data": {
      "application/vnd.jupyter.widget-view+json": {
       "model_id": "d7d20ae5632b4148b926e877f981c19d",
       "version_major": 2,
       "version_minor": 0
      },
      "text/plain": [
       "  0%|          | 0/5000 [00:00<?, ?it/s]"
      ]
     },
     "metadata": {},
     "output_type": "display_data"
    },
    {
     "name": "stdout",
     "output_type": "stream",
     "text": [
      "step_size=0.12679509818553925\n",
      "max_step_size=0.13442875444889069\n",
      "broken_traj=3722\n",
      "Runtime: 212.30s\n",
      "--------------------------------------------------------------------------------\n",
      "Running HMCAdaptiveHutchTaylorNoGrad\n",
      "number of blocks: 3\n",
      "processing block: 1\n"
     ]
    },
    {
     "data": {
      "application/vnd.jupyter.widget-view+json": {
       "model_id": "52a0bb3f1cab4d8c956a94cd124103fc",
       "version_major": 2,
       "version_minor": 0
      },
      "text/plain": [
       "  0%|          | 0/2500 [00:00<?, ?it/s]"
      ]
     },
     "metadata": {},
     "output_type": "display_data"
    },
    {
     "name": "stdout",
     "output_type": "stream",
     "text": [
      "step_size=0.12762299180030823\n",
      "max_step_size=0.2571655511856079\n",
      "broken_traj=2140\n",
      "processing block: 2\n"
     ]
    },
    {
     "data": {
      "application/vnd.jupyter.widget-view+json": {
       "model_id": "e8729c09ea174a7481f2d7aa4596e28b",
       "version_major": 2,
       "version_minor": 0
      },
      "text/plain": [
       "  0%|          | 0/5000 [00:00<?, ?it/s]"
      ]
     },
     "metadata": {},
     "output_type": "display_data"
    },
    {
     "name": "stdout",
     "output_type": "stream",
     "text": [
      "step_size=0.12347676604986191\n",
      "max_step_size=0.2561210095882416\n",
      "broken_traj=2158\n",
      "processing block: 3\n"
     ]
    },
    {
     "data": {
      "application/vnd.jupyter.widget-view+json": {
       "model_id": "006193b6077047a9a57ca2cf27010fb3",
       "version_major": 2,
       "version_minor": 0
      },
      "text/plain": [
       "  0%|          | 0/5000 [00:00<?, ?it/s]"
      ]
     },
     "metadata": {},
     "output_type": "display_data"
    },
    {
     "name": "stdout",
     "output_type": "stream",
     "text": [
      "step_size=0.21146507561206818\n",
      "max_step_size=0.2519662082195282\n",
      "broken_traj=2185\n",
      "Runtime: 313.54s\n",
      "--------------------------------------------------------------------------------\n",
      "Running HMCAdaptiveHutchLanczosNoGrad\n",
      "number of blocks: 3\n",
      "processing block: 1\n"
     ]
    },
    {
     "data": {
      "application/vnd.jupyter.widget-view+json": {
       "model_id": "3b47ac74d644446897b108dbde7796b9",
       "version_major": 2,
       "version_minor": 0
      },
      "text/plain": [
       "  0%|          | 0/2500 [00:00<?, ?it/s]"
      ]
     },
     "metadata": {},
     "output_type": "display_data"
    },
    {
     "name": "stdout",
     "output_type": "stream",
     "text": [
      "step_size=0.13757744431495667\n",
      "max_step_size=0.23431621491909027\n",
      "broken_traj=2262\n",
      "processing block: 2\n"
     ]
    },
    {
     "data": {
      "application/vnd.jupyter.widget-view+json": {
       "model_id": "a8bb11fc06034d25a305fe2823c93674",
       "version_major": 2,
       "version_minor": 0
      },
      "text/plain": [
       "  0%|          | 0/5000 [00:00<?, ?it/s]"
      ]
     },
     "metadata": {},
     "output_type": "display_data"
    },
    {
     "name": "stdout",
     "output_type": "stream",
     "text": [
      "step_size=0.13290290534496307\n",
      "max_step_size=0.2330809384584427\n",
      "broken_traj=2282\n",
      "processing block: 3\n"
     ]
    },
    {
     "data": {
      "application/vnd.jupyter.widget-view+json": {
       "model_id": "35075ce73b01456bbef463c4c67bab10",
       "version_major": 2,
       "version_minor": 0
      },
      "text/plain": [
       "  0%|          | 0/5000 [00:00<?, ?it/s]"
      ]
     },
     "metadata": {},
     "output_type": "display_data"
    },
    {
     "name": "stdout",
     "output_type": "stream",
     "text": [
      "step_size=0.19235020875930786\n",
      "max_step_size=0.22234274446964264\n",
      "broken_traj=2377\n",
      "Runtime: 348.07s\n",
      "\n"
     ]
    },
    {
     "data": {
      "application/vnd.jupyter.widget-view+json": {
       "model_id": "ef3783b26cb243a7ae32d18c5a995e2b",
       "version_major": 2,
       "version_minor": 0
      },
      "text/plain": [
       "dimension:   0%|          | 0/6 [00:00<?, ?it/s]"
      ]
     },
     "metadata": {},
     "output_type": "display_data"
    },
    {
     "data": {
      "application/vnd.jupyter.widget-view+json": {
       "model_id": "ab77d159053340f39db8154405a718be",
       "version_major": 2,
       "version_minor": 0
      },
      "text/plain": [
       "alg:   0%|          | 0/3 [00:00<?, ?it/s]"
      ]
     },
     "metadata": {},
     "output_type": "display_data"
    },
    {
     "name": "stdout",
     "output_type": "stream",
     "text": [
      "\n",
      "dim=8, dist=funnel\n",
      "                 hmc_vanilla  taylor_nograd  lanczos_nograd\n",
      "ess_mean           0.342284       0.320596        0.416649\n",
      "ess_conf_sigma     0.029175       0.028133        0.039440\n",
      "tv_mean            0.085239       0.069880        0.074748\n",
      "tv_conf_sigma      0.004777       0.004413        0.006019\n",
      "runtime          148.651990     226.331241      245.359711\n",
      "chains_kept       30.000000      30.000000       30.000000\n",
      "{8:             alg_A          alg_B  z(ESS_A>B)  p(ESS_A>B)  z(TV_A<B)  p(TV_A<B)\n",
      "0  lanczos_nograd  taylor_nograd    1.982664    0.023702  -0.652287   0.742892\n",
      "1  lanczos_nograd    hmc_vanilla    1.515829    0.064781   1.365251   0.086087\n",
      "2   taylor_nograd    hmc_vanilla   -0.535107    0.703712   2.361672   0.009096}\n"
     ]
    },
    {
     "data": {
      "application/vnd.jupyter.widget-view+json": {
       "model_id": "de398024cabc4632b619c833128cfd87",
       "version_major": 2,
       "version_minor": 0
      },
      "text/plain": [
       "alg:   0%|          | 0/3 [00:00<?, ?it/s]"
      ]
     },
     "metadata": {},
     "output_type": "display_data"
    },
    {
     "name": "stdout",
     "output_type": "stream",
     "text": [
      "\n",
      "dim=16, dist=funnel\n",
      "                 hmc_vanilla  taylor_nograd  lanczos_nograd\n",
      "ess_mean           0.455800       0.349065        0.374049\n",
      "ess_conf_sigma     0.032762       0.030311        0.041354\n",
      "tv_mean            0.068217       0.074943        0.073221\n",
      "tv_conf_sigma      0.003269       0.005410        0.004272\n",
      "runtime          142.333083     224.879872      247.175021\n",
      "chains_kept       30.000000      30.000000       30.000000\n",
      "{8:             alg_A          alg_B  z(ESS_A>B)  p(ESS_A>B)  z(TV_A<B)  p(TV_A<B)\n",
      "0  lanczos_nograd  taylor_nograd    1.982664    0.023702  -0.652287   0.742892\n",
      "1  lanczos_nograd    hmc_vanilla    1.515829    0.064781   1.365251   0.086087\n",
      "2   taylor_nograd    hmc_vanilla   -0.535107    0.703712   2.361672   0.009096, 16:             alg_A          alg_B  z(ESS_A>B)  p(ESS_A>B)  z(TV_A<B)  p(TV_A<B)\n",
      "0  lanczos_nograd  taylor_nograd    0.487279    0.313030   0.249841   0.401355\n",
      "1  lanczos_nograd    hmc_vanilla   -1.549506    0.939370  -0.930185   0.823862\n",
      "2   taylor_nograd    hmc_vanilla   -2.391404    0.991608  -1.064009   0.856338}\n"
     ]
    },
    {
     "data": {
      "application/vnd.jupyter.widget-view+json": {
       "model_id": "5d5ce592f49e458c89281683fa1c0cbc",
       "version_major": 2,
       "version_minor": 0
      },
      "text/plain": [
       "alg:   0%|          | 0/3 [00:00<?, ?it/s]"
      ]
     },
     "metadata": {},
     "output_type": "display_data"
    },
    {
     "name": "stdout",
     "output_type": "stream",
     "text": [
      "\n",
      "dim=32, dist=funnel\n",
      "                 hmc_vanilla  taylor_nograd  lanczos_nograd\n",
      "ess_mean           0.398348       0.326946        0.433709\n",
      "ess_conf_sigma     0.040611       0.034397        0.029327\n",
      "tv_mean            0.080407       0.075956        0.079885\n",
      "tv_conf_sigma      0.004427       0.005160        0.005695\n",
      "runtime          157.944978     239.938679      264.512402\n",
      "chains_kept       30.000000      30.000000       30.000000\n",
      "{8:             alg_A          alg_B  z(ESS_A>B)  p(ESS_A>B)  z(TV_A<B)  p(TV_A<B)\n",
      "0  lanczos_nograd  taylor_nograd    1.982664    0.023702  -0.652287   0.742892\n",
      "1  lanczos_nograd    hmc_vanilla    1.515829    0.064781   1.365251   0.086087\n",
      "2   taylor_nograd    hmc_vanilla   -0.535107    0.703712   2.361672   0.009096, 16:             alg_A          alg_B  z(ESS_A>B)  p(ESS_A>B)  z(TV_A<B)  p(TV_A<B)\n",
      "0  lanczos_nograd  taylor_nograd    0.487279    0.313030   0.249841   0.401355\n",
      "1  lanczos_nograd    hmc_vanilla   -1.549506    0.939370  -0.930185   0.823862\n",
      "2   taylor_nograd    hmc_vanilla   -2.391404    0.991608  -1.064009   0.856338, 32:             alg_A          alg_B  z(ESS_A>B)  p(ESS_A>B)  z(TV_A<B)  p(TV_A<B)\n",
      "0  lanczos_nograd  taylor_nograd    2.361923    0.009090  -0.511188   0.695390\n",
      "1  lanczos_nograd    hmc_vanilla    0.705912    0.240121   0.072399   0.471142\n",
      "2   taylor_nograd    hmc_vanilla   -1.341625    0.910141   0.654656   0.256345}\n"
     ]
    },
    {
     "data": {
      "application/vnd.jupyter.widget-view+json": {
       "model_id": "6455bbcb10584757a73c7cf4af2b1b07",
       "version_major": 2,
       "version_minor": 0
      },
      "text/plain": [
       "alg:   0%|          | 0/3 [00:00<?, ?it/s]"
      ]
     },
     "metadata": {},
     "output_type": "display_data"
    },
    {
     "name": "stdout",
     "output_type": "stream",
     "text": [
      "\n",
      "dim=64, dist=funnel\n",
      "                 hmc_vanilla  taylor_nograd  lanczos_nograd\n",
      "ess_mean           0.378383       0.335944        0.335208\n",
      "ess_conf_sigma     0.034956       0.034759        0.032524\n",
      "tv_mean            0.091222       0.089048        0.089302\n",
      "tv_conf_sigma      0.006199       0.009070        0.008076\n",
      "runtime          168.283647     256.097755      281.131919\n",
      "chains_kept       30.000000      30.000000       30.000000\n",
      "{8:             alg_A          alg_B  z(ESS_A>B)  p(ESS_A>B)  z(TV_A<B)  p(TV_A<B)\n",
      "0  lanczos_nograd  taylor_nograd    1.982664    0.023702  -0.652287   0.742892\n",
      "1  lanczos_nograd    hmc_vanilla    1.515829    0.064781   1.365251   0.086087\n",
      "2   taylor_nograd    hmc_vanilla   -0.535107    0.703712   2.361672   0.009096, 16:             alg_A          alg_B  z(ESS_A>B)  p(ESS_A>B)  z(TV_A<B)  p(TV_A<B)\n",
      "0  lanczos_nograd  taylor_nograd    0.487279    0.313030   0.249841   0.401355\n",
      "1  lanczos_nograd    hmc_vanilla   -1.549506    0.939370  -0.930185   0.823862\n",
      "2   taylor_nograd    hmc_vanilla   -2.391404    0.991608  -1.064009   0.856338, 32:             alg_A          alg_B  z(ESS_A>B)  p(ESS_A>B)  z(TV_A<B)  p(TV_A<B)\n",
      "0  lanczos_nograd  taylor_nograd    2.361923    0.009090  -0.511188   0.695390\n",
      "1  lanczos_nograd    hmc_vanilla    0.705912    0.240121   0.072399   0.471142\n",
      "2   taylor_nograd    hmc_vanilla   -1.341625    0.910141   0.654656   0.256345, 64:             alg_A          alg_B  z(ESS_A>B)  p(ESS_A>B)  z(TV_A<B)  p(TV_A<B)\n",
      "0  lanczos_nograd  taylor_nograd   -0.015459    0.506167  -0.020927   0.508348\n",
      "1  lanczos_nograd    hmc_vanilla   -0.904235    0.817065   0.188628   0.425192\n",
      "2   taylor_nograd    hmc_vanilla   -0.860894    0.805352   0.197944   0.421544}\n"
     ]
    },
    {
     "data": {
      "application/vnd.jupyter.widget-view+json": {
       "model_id": "5b0806ca2e89444f81ee1b714d1eb37e",
       "version_major": 2,
       "version_minor": 0
      },
      "text/plain": [
       "alg:   0%|          | 0/3 [00:00<?, ?it/s]"
      ]
     },
     "metadata": {},
     "output_type": "display_data"
    },
    {
     "name": "stdout",
     "output_type": "stream",
     "text": [
      "\n",
      "dim=128, dist=funnel\n",
      "                 hmc_vanilla  taylor_nograd  lanczos_nograd\n",
      "ess_mean           0.323472       0.330443        0.366803\n",
      "ess_conf_sigma     0.032855       0.028817        0.029979\n",
      "tv_mean            0.119390       0.125392        0.118922\n",
      "tv_conf_sigma      0.011790       0.009824        0.013984\n",
      "runtime          183.911039     277.930945      307.366570\n",
      "chains_kept       30.000000      30.000000       30.000000\n",
      "{8:             alg_A          alg_B  z(ESS_A>B)  p(ESS_A>B)  z(TV_A<B)  p(TV_A<B)\n",
      "0  lanczos_nograd  taylor_nograd    1.982664    0.023702  -0.652287   0.742892\n",
      "1  lanczos_nograd    hmc_vanilla    1.515829    0.064781   1.365251   0.086087\n",
      "2   taylor_nograd    hmc_vanilla   -0.535107    0.703712   2.361672   0.009096, 16:             alg_A          alg_B  z(ESS_A>B)  p(ESS_A>B)  z(TV_A<B)  p(TV_A<B)\n",
      "0  lanczos_nograd  taylor_nograd    0.487279    0.313030   0.249841   0.401355\n",
      "1  lanczos_nograd    hmc_vanilla   -1.549506    0.939370  -0.930185   0.823862\n",
      "2   taylor_nograd    hmc_vanilla   -2.391404    0.991608  -1.064009   0.856338, 32:             alg_A          alg_B  z(ESS_A>B)  p(ESS_A>B)  z(TV_A<B)  p(TV_A<B)\n",
      "0  lanczos_nograd  taylor_nograd    2.361923    0.009090  -0.511188   0.695390\n",
      "1  lanczos_nograd    hmc_vanilla    0.705912    0.240121   0.072399   0.471142\n",
      "2   taylor_nograd    hmc_vanilla   -1.341625    0.910141   0.654656   0.256345, 64:             alg_A          alg_B  z(ESS_A>B)  p(ESS_A>B)  z(TV_A<B)  p(TV_A<B)\n",
      "0  lanczos_nograd  taylor_nograd   -0.015459    0.506167  -0.020927   0.508348\n",
      "1  lanczos_nograd    hmc_vanilla   -0.904235    0.817065   0.188628   0.425192\n",
      "2   taylor_nograd    hmc_vanilla   -0.860894    0.805352   0.197944   0.421544, 128:             alg_A          alg_B  z(ESS_A>B)  p(ESS_A>B)  z(TV_A<B)  p(TV_A<B)\n",
      "0  lanczos_nograd  taylor_nograd    0.874405    0.190949   0.378608   0.352490\n",
      "1  lanczos_nograd    hmc_vanilla    0.974228    0.164972   0.025581   0.489796\n",
      "2   taylor_nograd    hmc_vanilla    0.159503    0.436636  -0.391128   0.652149}\n"
     ]
    },
    {
     "data": {
      "application/vnd.jupyter.widget-view+json": {
       "model_id": "0ea6e7c5b6bd4b7ba94c122a45630844",
       "version_major": 2,
       "version_minor": 0
      },
      "text/plain": [
       "alg:   0%|          | 0/3 [00:00<?, ?it/s]"
      ]
     },
     "metadata": {},
     "output_type": "display_data"
    },
    {
     "name": "stdout",
     "output_type": "stream",
     "text": [
      "\n",
      "dim=256, dist=funnel\n",
      "                 hmc_vanilla  taylor_nograd  lanczos_nograd\n",
      "ess_mean           0.367077       0.383353        0.399913\n",
      "ess_conf_sigma     0.040350       0.027963        0.029555\n",
      "tv_mean            0.191970       0.183459        0.166396\n",
      "tv_conf_sigma      0.023106       0.013660        0.017180\n",
      "runtime          211.455676     312.311889      346.656656\n",
      "chains_kept       30.000000      30.000000       30.000000\n",
      "{8:             alg_A          alg_B  z(ESS_A>B)  p(ESS_A>B)  z(TV_A<B)  p(TV_A<B)\n",
      "0  lanczos_nograd  taylor_nograd    1.982664    0.023702  -0.652287   0.742892\n",
      "1  lanczos_nograd    hmc_vanilla    1.515829    0.064781   1.365251   0.086087\n",
      "2   taylor_nograd    hmc_vanilla   -0.535107    0.703712   2.361672   0.009096, 16:             alg_A          alg_B  z(ESS_A>B)  p(ESS_A>B)  z(TV_A<B)  p(TV_A<B)\n",
      "0  lanczos_nograd  taylor_nograd    0.487279    0.313030   0.249841   0.401355\n",
      "1  lanczos_nograd    hmc_vanilla   -1.549506    0.939370  -0.930185   0.823862\n",
      "2   taylor_nograd    hmc_vanilla   -2.391404    0.991608  -1.064009   0.856338, 32:             alg_A          alg_B  z(ESS_A>B)  p(ESS_A>B)  z(TV_A<B)  p(TV_A<B)\n",
      "0  lanczos_nograd  taylor_nograd    2.361923    0.009090  -0.511188   0.695390\n",
      "1  lanczos_nograd    hmc_vanilla    0.705912    0.240121   0.072399   0.471142\n",
      "2   taylor_nograd    hmc_vanilla   -1.341625    0.910141   0.654656   0.256345, 64:             alg_A          alg_B  z(ESS_A>B)  p(ESS_A>B)  z(TV_A<B)  p(TV_A<B)\n",
      "0  lanczos_nograd  taylor_nograd   -0.015459    0.506167  -0.020927   0.508348\n",
      "1  lanczos_nograd    hmc_vanilla   -0.904235    0.817065   0.188628   0.425192\n",
      "2   taylor_nograd    hmc_vanilla   -0.860894    0.805352   0.197944   0.421544, 128:             alg_A          alg_B  z(ESS_A>B)  p(ESS_A>B)  z(TV_A<B)  p(TV_A<B)\n",
      "0  lanczos_nograd  taylor_nograd    0.874405    0.190949   0.378608   0.352490\n",
      "1  lanczos_nograd    hmc_vanilla    0.974228    0.164972   0.025581   0.489796\n",
      "2   taylor_nograd    hmc_vanilla    0.159503    0.436636  -0.391128   0.652149, 256:             alg_A          alg_B  z(ESS_A>B)  p(ESS_A>B)  z(TV_A<B)  p(TV_A<B)\n",
      "0  lanczos_nograd  taylor_nograd    0.407008    0.342001   0.777415   0.218457\n",
      "1  lanczos_nograd    hmc_vanilla    0.656519    0.255745   0.888215   0.187212\n",
      "2   taylor_nograd    hmc_vanilla    0.331550    0.370114   0.317079   0.375592}\n"
     ]
    },
    {
     "data": {
      "application/vnd.jupyter.widget-view+json": {
       "model_id": "d2b797fe2f9f4a45b51c0462f06ec2b8",
       "version_major": 2,
       "version_minor": 0
      },
      "text/plain": [
       "  0%|          | 0/6 [00:00<?, ?it/s]"
      ]
     },
     "metadata": {},
     "output_type": "display_data"
    },
    {
     "name": "stdout",
     "output_type": "stream",
     "text": [
      "Processing dimension 8\n",
      "--------------------------------------------------------------------------------\n",
      "Running HMCVanilla\n",
      "number of blocks: 3\n",
      "processing block: 1\n"
     ]
    },
    {
     "data": {
      "application/vnd.jupyter.widget-view+json": {
       "model_id": "cf972cb42e7344699836b2c9c7878fd1",
       "version_major": 2,
       "version_minor": 0
      },
      "text/plain": [
       "  0%|          | 0/2500 [00:00<?, ?it/s]"
      ]
     },
     "metadata": {},
     "output_type": "display_data"
    },
    {
     "name": "stdout",
     "output_type": "stream",
     "text": [
      "step_size=0.5\n",
      "max_step_size=0.5\n",
      "broken_traj=0\n",
      "processing block: 2\n"
     ]
    },
    {
     "data": {
      "application/vnd.jupyter.widget-view+json": {
       "model_id": "1687f59c81314bfab998616244ac59d5",
       "version_major": 2,
       "version_minor": 0
      },
      "text/plain": [
       "  0%|          | 0/5000 [00:00<?, ?it/s]"
      ]
     },
     "metadata": {},
     "output_type": "display_data"
    },
    {
     "name": "stdout",
     "output_type": "stream",
     "text": [
      "step_size=0.5\n",
      "max_step_size=0.5\n",
      "broken_traj=0\n",
      "processing block: 3\n"
     ]
    },
    {
     "data": {
      "application/vnd.jupyter.widget-view+json": {
       "model_id": "a60a651e50eb4cafa09cc232741126f9",
       "version_major": 2,
       "version_minor": 0
      },
      "text/plain": [
       "  0%|          | 0/5000 [00:00<?, ?it/s]"
      ]
     },
     "metadata": {},
     "output_type": "display_data"
    },
    {
     "name": "stdout",
     "output_type": "stream",
     "text": [
      "step_size=0.5\n",
      "max_step_size=0.5\n",
      "broken_traj=0\n",
      "Runtime: 248.87s\n",
      "--------------------------------------------------------------------------------\n",
      "Running HMCAdaptiveHutchTaylorNoGrad\n",
      "number of blocks: 3\n",
      "processing block: 1\n"
     ]
    },
    {
     "data": {
      "application/vnd.jupyter.widget-view+json": {
       "model_id": "dc956a3bde764d5f85d3de415dc2caf4",
       "version_major": 2,
       "version_minor": 0
      },
      "text/plain": [
       "  0%|          | 0/2500 [00:00<?, ?it/s]"
      ]
     },
     "metadata": {},
     "output_type": "display_data"
    },
    {
     "name": "stdout",
     "output_type": "stream",
     "text": [
      "step_size=0.5\n",
      "max_step_size=0.5\n",
      "broken_traj=0\n",
      "processing block: 2\n"
     ]
    },
    {
     "data": {
      "application/vnd.jupyter.widget-view+json": {
       "model_id": "8b640ca1e97c491aafb9ee8f26cae670",
       "version_major": 2,
       "version_minor": 0
      },
      "text/plain": [
       "  0%|          | 0/5000 [00:00<?, ?it/s]"
      ]
     },
     "metadata": {},
     "output_type": "display_data"
    },
    {
     "name": "stdout",
     "output_type": "stream",
     "text": [
      "step_size=0.5\n",
      "max_step_size=0.5\n",
      "broken_traj=0\n",
      "processing block: 3\n"
     ]
    },
    {
     "data": {
      "application/vnd.jupyter.widget-view+json": {
       "model_id": "08c6c7b088774e0d924f252544c90d54",
       "version_major": 2,
       "version_minor": 0
      },
      "text/plain": [
       "  0%|          | 0/5000 [00:00<?, ?it/s]"
      ]
     },
     "metadata": {},
     "output_type": "display_data"
    },
    {
     "name": "stdout",
     "output_type": "stream",
     "text": [
      "step_size=0.5\n",
      "max_step_size=0.5\n",
      "broken_traj=0\n",
      "Runtime: 389.52s\n",
      "--------------------------------------------------------------------------------\n",
      "Running HMCAdaptiveHutchLanczosNoGrad\n",
      "number of blocks: 3\n",
      "processing block: 1\n"
     ]
    },
    {
     "data": {
      "application/vnd.jupyter.widget-view+json": {
       "model_id": "780cabf85c67465ebbcd807ec5a5ca9a",
       "version_major": 2,
       "version_minor": 0
      },
      "text/plain": [
       "  0%|          | 0/2500 [00:00<?, ?it/s]"
      ]
     },
     "metadata": {},
     "output_type": "display_data"
    },
    {
     "name": "stdout",
     "output_type": "stream",
     "text": [
      "step_size=0.5\n",
      "max_step_size=0.5\n",
      "broken_traj=0\n",
      "processing block: 2\n"
     ]
    },
    {
     "data": {
      "application/vnd.jupyter.widget-view+json": {
       "model_id": "07128baf0b764e439833c18e25c2ad32",
       "version_major": 2,
       "version_minor": 0
      },
      "text/plain": [
       "  0%|          | 0/5000 [00:00<?, ?it/s]"
      ]
     },
     "metadata": {},
     "output_type": "display_data"
    },
    {
     "name": "stdout",
     "output_type": "stream",
     "text": [
      "step_size=0.5\n",
      "max_step_size=0.5\n",
      "broken_traj=0\n",
      "processing block: 3\n"
     ]
    },
    {
     "data": {
      "application/vnd.jupyter.widget-view+json": {
       "model_id": "d09f181241df48fb917749881cdaf19f",
       "version_major": 2,
       "version_minor": 0
      },
      "text/plain": [
       "  0%|          | 0/5000 [00:00<?, ?it/s]"
      ]
     },
     "metadata": {},
     "output_type": "display_data"
    },
    {
     "name": "stdout",
     "output_type": "stream",
     "text": [
      "step_size=0.5\n",
      "max_step_size=0.5\n",
      "broken_traj=0\n",
      "Runtime: 423.29s\n",
      "\n",
      "Processing dimension 16\n",
      "--------------------------------------------------------------------------------\n",
      "Running HMCVanilla\n",
      "number of blocks: 3\n",
      "processing block: 1\n"
     ]
    },
    {
     "data": {
      "application/vnd.jupyter.widget-view+json": {
       "model_id": "81376e61d1e64a129af4cc54cf02f836",
       "version_major": 2,
       "version_minor": 0
      },
      "text/plain": [
       "  0%|          | 0/2500 [00:00<?, ?it/s]"
      ]
     },
     "metadata": {},
     "output_type": "display_data"
    },
    {
     "name": "stdout",
     "output_type": "stream",
     "text": [
      "step_size=0.49992257356643677\n",
      "max_step_size=0.5\n",
      "broken_traj=0\n",
      "processing block: 2\n"
     ]
    },
    {
     "data": {
      "application/vnd.jupyter.widget-view+json": {
       "model_id": "1ad6d7ca3d46482097177ab2cd291f14",
       "version_major": 2,
       "version_minor": 0
      },
      "text/plain": [
       "  0%|          | 0/5000 [00:00<?, ?it/s]"
      ]
     },
     "metadata": {},
     "output_type": "display_data"
    },
    {
     "name": "stdout",
     "output_type": "stream",
     "text": [
      "step_size=0.49992257356643677\n",
      "max_step_size=0.5\n",
      "broken_traj=0\n",
      "processing block: 3\n"
     ]
    },
    {
     "data": {
      "application/vnd.jupyter.widget-view+json": {
       "model_id": "17843b65e21d4d8d893e2bd3d42da5f9",
       "version_major": 2,
       "version_minor": 0
      },
      "text/plain": [
       "  0%|          | 0/5000 [00:00<?, ?it/s]"
      ]
     },
     "metadata": {},
     "output_type": "display_data"
    },
    {
     "name": "stdout",
     "output_type": "stream",
     "text": [
      "step_size=0.5\n",
      "max_step_size=0.5\n",
      "broken_traj=0\n",
      "Runtime: 263.92s\n",
      "--------------------------------------------------------------------------------\n",
      "Running HMCAdaptiveHutchTaylorNoGrad\n",
      "number of blocks: 3\n",
      "processing block: 1\n"
     ]
    },
    {
     "data": {
      "application/vnd.jupyter.widget-view+json": {
       "model_id": "6a6f2d631f4948af960641904098a2a8",
       "version_major": 2,
       "version_minor": 0
      },
      "text/plain": [
       "  0%|          | 0/2500 [00:00<?, ?it/s]"
      ]
     },
     "metadata": {},
     "output_type": "display_data"
    },
    {
     "name": "stdout",
     "output_type": "stream",
     "text": [
      "step_size=0.49977174401283264\n",
      "max_step_size=0.5\n",
      "broken_traj=0\n",
      "processing block: 2\n"
     ]
    },
    {
     "data": {
      "application/vnd.jupyter.widget-view+json": {
       "model_id": "9808e04535bc4ec8b657b71e28c0a069",
       "version_major": 2,
       "version_minor": 0
      },
      "text/plain": [
       "  0%|          | 0/5000 [00:00<?, ?it/s]"
      ]
     },
     "metadata": {},
     "output_type": "display_data"
    },
    {
     "name": "stdout",
     "output_type": "stream",
     "text": [
      "step_size=0.49977174401283264\n",
      "max_step_size=0.5\n",
      "broken_traj=0\n",
      "processing block: 3\n"
     ]
    },
    {
     "data": {
      "application/vnd.jupyter.widget-view+json": {
       "model_id": "f5457dd084b545c19114b7eb2f49cd7d",
       "version_major": 2,
       "version_minor": 0
      },
      "text/plain": [
       "  0%|          | 0/5000 [00:00<?, ?it/s]"
      ]
     },
     "metadata": {},
     "output_type": "display_data"
    },
    {
     "name": "stdout",
     "output_type": "stream",
     "text": [
      "step_size=0.5\n",
      "max_step_size=0.5\n",
      "broken_traj=0\n",
      "Runtime: 414.90s\n",
      "--------------------------------------------------------------------------------\n",
      "Running HMCAdaptiveHutchLanczosNoGrad\n",
      "number of blocks: 3\n",
      "processing block: 1\n"
     ]
    },
    {
     "data": {
      "application/vnd.jupyter.widget-view+json": {
       "model_id": "480d70d443704d1db892d6a607b73e57",
       "version_major": 2,
       "version_minor": 0
      },
      "text/plain": [
       "  0%|          | 0/2500 [00:00<?, ?it/s]"
      ]
     },
     "metadata": {},
     "output_type": "display_data"
    },
    {
     "name": "stdout",
     "output_type": "stream",
     "text": [
      "step_size=0.4999486804008484\n",
      "max_step_size=0.5\n",
      "broken_traj=0\n",
      "processing block: 2\n"
     ]
    },
    {
     "data": {
      "application/vnd.jupyter.widget-view+json": {
       "model_id": "6a90e624b46a4ea5980a766d9ca6e7b0",
       "version_major": 2,
       "version_minor": 0
      },
      "text/plain": [
       "  0%|          | 0/5000 [00:00<?, ?it/s]"
      ]
     },
     "metadata": {},
     "output_type": "display_data"
    },
    {
     "name": "stdout",
     "output_type": "stream",
     "text": [
      "step_size=0.4999486804008484\n",
      "max_step_size=0.5\n",
      "broken_traj=0\n",
      "processing block: 3\n"
     ]
    },
    {
     "data": {
      "application/vnd.jupyter.widget-view+json": {
       "model_id": "180b34717b764acd9417f0a865c5e7a5",
       "version_major": 2,
       "version_minor": 0
      },
      "text/plain": [
       "  0%|          | 0/5000 [00:00<?, ?it/s]"
      ]
     },
     "metadata": {},
     "output_type": "display_data"
    },
    {
     "name": "stdout",
     "output_type": "stream",
     "text": [
      "step_size=0.4999573528766632\n",
      "max_step_size=0.5\n",
      "broken_traj=0\n",
      "Runtime: 453.11s\n",
      "\n",
      "Processing dimension 32\n",
      "--------------------------------------------------------------------------------\n",
      "Running HMCVanilla\n",
      "number of blocks: 3\n",
      "processing block: 1\n"
     ]
    },
    {
     "data": {
      "application/vnd.jupyter.widget-view+json": {
       "model_id": "7b0c6a60d2214c3385751941593df56f",
       "version_major": 2,
       "version_minor": 0
      },
      "text/plain": [
       "  0%|          | 0/2500 [00:00<?, ?it/s]"
      ]
     },
     "metadata": {},
     "output_type": "display_data"
    },
    {
     "name": "stdout",
     "output_type": "stream",
     "text": [
      "step_size=0.4997763931751251\n",
      "max_step_size=0.5\n",
      "broken_traj=0\n",
      "processing block: 2\n"
     ]
    },
    {
     "data": {
      "application/vnd.jupyter.widget-view+json": {
       "model_id": "d889ed2ceac549cab2641d0a65ca6a84",
       "version_major": 2,
       "version_minor": 0
      },
      "text/plain": [
       "  0%|          | 0/5000 [00:00<?, ?it/s]"
      ]
     },
     "metadata": {},
     "output_type": "display_data"
    },
    {
     "name": "stdout",
     "output_type": "stream",
     "text": [
      "step_size=0.4997763931751251\n",
      "max_step_size=0.5\n",
      "broken_traj=0\n",
      "processing block: 3\n"
     ]
    },
    {
     "data": {
      "application/vnd.jupyter.widget-view+json": {
       "model_id": "634fa0a7523e4e41a377fe3ed83db6bd",
       "version_major": 2,
       "version_minor": 0
      },
      "text/plain": [
       "  0%|          | 0/5000 [00:00<?, ?it/s]"
      ]
     },
     "metadata": {},
     "output_type": "display_data"
    },
    {
     "name": "stdout",
     "output_type": "stream",
     "text": [
      "step_size=0.4993538558483124\n",
      "max_step_size=0.5\n",
      "broken_traj=0\n",
      "Runtime: 311.53s\n",
      "--------------------------------------------------------------------------------\n",
      "Running HMCAdaptiveHutchTaylorNoGrad\n",
      "number of blocks: 3\n",
      "processing block: 1\n"
     ]
    },
    {
     "data": {
      "application/vnd.jupyter.widget-view+json": {
       "model_id": "fd2d92bbcc574372a98b6d33d337d928",
       "version_major": 2,
       "version_minor": 0
      },
      "text/plain": [
       "  0%|          | 0/2500 [00:00<?, ?it/s]"
      ]
     },
     "metadata": {},
     "output_type": "display_data"
    },
    {
     "name": "stdout",
     "output_type": "stream",
     "text": [
      "step_size=0.49975648522377014\n",
      "max_step_size=0.5\n",
      "broken_traj=0\n",
      "processing block: 2\n"
     ]
    },
    {
     "data": {
      "application/vnd.jupyter.widget-view+json": {
       "model_id": "9aad1bcf58c64c3e86b3f5dfbb54d4f3",
       "version_major": 2,
       "version_minor": 0
      },
      "text/plain": [
       "  0%|          | 0/5000 [00:00<?, ?it/s]"
      ]
     },
     "metadata": {},
     "output_type": "display_data"
    },
    {
     "name": "stdout",
     "output_type": "stream",
     "text": [
      "step_size=0.49975648522377014\n",
      "max_step_size=0.5\n",
      "broken_traj=0\n",
      "processing block: 3\n"
     ]
    },
    {
     "data": {
      "application/vnd.jupyter.widget-view+json": {
       "model_id": "c3e336f3cec7442fb800f8d6199ae1eb",
       "version_major": 2,
       "version_minor": 0
      },
      "text/plain": [
       "  0%|          | 0/5000 [00:00<?, ?it/s]"
      ]
     },
     "metadata": {},
     "output_type": "display_data"
    },
    {
     "name": "stdout",
     "output_type": "stream",
     "text": [
      "step_size=0.5\n",
      "max_step_size=0.5\n",
      "broken_traj=0\n",
      "Runtime: 492.24s\n",
      "--------------------------------------------------------------------------------\n",
      "Running HMCAdaptiveHutchLanczosNoGrad\n",
      "number of blocks: 3\n",
      "processing block: 1\n"
     ]
    },
    {
     "data": {
      "application/vnd.jupyter.widget-view+json": {
       "model_id": "63fc4fd0e2e2451dab0224d762630bf2",
       "version_major": 2,
       "version_minor": 0
      },
      "text/plain": [
       "  0%|          | 0/2500 [00:00<?, ?it/s]"
      ]
     },
     "metadata": {},
     "output_type": "display_data"
    },
    {
     "name": "stdout",
     "output_type": "stream",
     "text": [
      "step_size=0.4997880756855011\n",
      "max_step_size=0.5\n",
      "broken_traj=0\n",
      "processing block: 2\n"
     ]
    },
    {
     "data": {
      "application/vnd.jupyter.widget-view+json": {
       "model_id": "5d14c8ce924e4ae1a6db358c99ddaf58",
       "version_major": 2,
       "version_minor": 0
      },
      "text/plain": [
       "  0%|          | 0/5000 [00:00<?, ?it/s]"
      ]
     },
     "metadata": {},
     "output_type": "display_data"
    },
    {
     "name": "stdout",
     "output_type": "stream",
     "text": [
      "step_size=0.4997880756855011\n",
      "max_step_size=0.5\n",
      "broken_traj=0\n",
      "processing block: 3\n"
     ]
    },
    {
     "data": {
      "application/vnd.jupyter.widget-view+json": {
       "model_id": "7e8a7f58fc8943389f07d309e9c8529d",
       "version_major": 2,
       "version_minor": 0
      },
      "text/plain": [
       "  0%|          | 0/5000 [00:00<?, ?it/s]"
      ]
     },
     "metadata": {},
     "output_type": "display_data"
    },
    {
     "name": "stdout",
     "output_type": "stream",
     "text": [
      "step_size=0.49975332617759705\n",
      "max_step_size=0.5\n",
      "broken_traj=0\n",
      "Runtime: 537.13s\n",
      "\n",
      "Processing dimension 64\n",
      "--------------------------------------------------------------------------------\n",
      "Running HMCVanilla\n",
      "number of blocks: 3\n",
      "processing block: 1\n"
     ]
    },
    {
     "data": {
      "application/vnd.jupyter.widget-view+json": {
       "model_id": "0df1e53e06b240ca88fc664e158d6ea0",
       "version_major": 2,
       "version_minor": 0
      },
      "text/plain": [
       "  0%|          | 0/2500 [00:00<?, ?it/s]"
      ]
     },
     "metadata": {},
     "output_type": "display_data"
    },
    {
     "name": "stdout",
     "output_type": "stream",
     "text": [
      "step_size=0.499117910861969\n",
      "max_step_size=0.5\n",
      "broken_traj=0\n",
      "processing block: 2\n"
     ]
    },
    {
     "data": {
      "application/vnd.jupyter.widget-view+json": {
       "model_id": "adb820380f14462390990bab97ea6d1d",
       "version_major": 2,
       "version_minor": 0
      },
      "text/plain": [
       "  0%|          | 0/5000 [00:00<?, ?it/s]"
      ]
     },
     "metadata": {},
     "output_type": "display_data"
    },
    {
     "name": "stdout",
     "output_type": "stream",
     "text": [
      "step_size=0.499117910861969\n",
      "max_step_size=0.5\n",
      "broken_traj=0\n",
      "processing block: 3\n"
     ]
    },
    {
     "data": {
      "application/vnd.jupyter.widget-view+json": {
       "model_id": "245e469c412f45bab27b1a936566edc4",
       "version_major": 2,
       "version_minor": 0
      },
      "text/plain": [
       "  0%|          | 0/5000 [00:00<?, ?it/s]"
      ]
     },
     "metadata": {},
     "output_type": "display_data"
    },
    {
     "name": "stdout",
     "output_type": "stream",
     "text": [
      "step_size=0.4984787702560425\n",
      "max_step_size=0.5\n",
      "broken_traj=0\n",
      "Runtime: 437.26s\n",
      "--------------------------------------------------------------------------------\n",
      "Running HMCAdaptiveHutchTaylorNoGrad\n",
      "number of blocks: 3\n",
      "processing block: 1\n"
     ]
    },
    {
     "data": {
      "application/vnd.jupyter.widget-view+json": {
       "model_id": "f1c9ad285c3646eabc7316aa9c128e13",
       "version_major": 2,
       "version_minor": 0
      },
      "text/plain": [
       "  0%|          | 0/2500 [00:00<?, ?it/s]"
      ]
     },
     "metadata": {},
     "output_type": "display_data"
    },
    {
     "name": "stdout",
     "output_type": "stream",
     "text": [
      "step_size=0.4994211792945862\n",
      "max_step_size=0.5\n",
      "broken_traj=0\n",
      "processing block: 2\n"
     ]
    },
    {
     "data": {
      "application/vnd.jupyter.widget-view+json": {
       "model_id": "b7e649426c174d05b316a134e0124742",
       "version_major": 2,
       "version_minor": 0
      },
      "text/plain": [
       "  0%|          | 0/5000 [00:00<?, ?it/s]"
      ]
     },
     "metadata": {},
     "output_type": "display_data"
    },
    {
     "name": "stdout",
     "output_type": "stream",
     "text": [
      "step_size=0.4994211792945862\n",
      "max_step_size=0.5\n",
      "broken_traj=0\n",
      "processing block: 3\n"
     ]
    },
    {
     "data": {
      "application/vnd.jupyter.widget-view+json": {
       "model_id": "70af3e1dc52c449c9507b07b4fb75553",
       "version_major": 2,
       "version_minor": 0
      },
      "text/plain": [
       "  0%|          | 0/5000 [00:00<?, ?it/s]"
      ]
     },
     "metadata": {},
     "output_type": "display_data"
    },
    {
     "name": "stdout",
     "output_type": "stream",
     "text": [
      "step_size=0.49999427795410156\n",
      "max_step_size=0.5\n",
      "broken_traj=0\n",
      "Runtime: 678.46s\n",
      "--------------------------------------------------------------------------------\n",
      "Running HMCAdaptiveHutchLanczosNoGrad\n",
      "number of blocks: 3\n",
      "processing block: 1\n"
     ]
    },
    {
     "data": {
      "application/vnd.jupyter.widget-view+json": {
       "model_id": "2026d20c853d4780aa0e8511a8d4602a",
       "version_major": 2,
       "version_minor": 0
      },
      "text/plain": [
       "  0%|          | 0/2500 [00:00<?, ?it/s]"
      ]
     },
     "metadata": {},
     "output_type": "display_data"
    },
    {
     "name": "stdout",
     "output_type": "stream",
     "text": [
      "step_size=0.4989316165447235\n",
      "max_step_size=0.5\n",
      "broken_traj=0\n",
      "processing block: 2\n"
     ]
    },
    {
     "data": {
      "application/vnd.jupyter.widget-view+json": {
       "model_id": "14be4e8a4fdb4071a91fc6605854aeb5",
       "version_major": 2,
       "version_minor": 0
      },
      "text/plain": [
       "  0%|          | 0/5000 [00:00<?, ?it/s]"
      ]
     },
     "metadata": {},
     "output_type": "display_data"
    },
    {
     "name": "stdout",
     "output_type": "stream",
     "text": [
      "step_size=0.4989316165447235\n",
      "max_step_size=0.5\n",
      "broken_traj=0\n",
      "processing block: 3\n"
     ]
    },
    {
     "data": {
      "application/vnd.jupyter.widget-view+json": {
       "model_id": "76437b584d3f41cfa25471c3a518f35b",
       "version_major": 2,
       "version_minor": 0
      },
      "text/plain": [
       "  0%|          | 0/5000 [00:00<?, ?it/s]"
      ]
     },
     "metadata": {},
     "output_type": "display_data"
    },
    {
     "name": "stdout",
     "output_type": "stream",
     "text": [
      "step_size=0.49946579337120056\n",
      "max_step_size=0.5\n",
      "broken_traj=0\n",
      "Runtime: 739.39s\n",
      "\n",
      "Processing dimension 128\n",
      "--------------------------------------------------------------------------------\n",
      "Running HMCVanilla\n",
      "number of blocks: 3\n",
      "processing block: 1\n"
     ]
    },
    {
     "data": {
      "application/vnd.jupyter.widget-view+json": {
       "model_id": "07175bc4d95f4993b68e926f027c0ea2",
       "version_major": 2,
       "version_minor": 0
      },
      "text/plain": [
       "  0%|          | 0/2500 [00:00<?, ?it/s]"
      ]
     },
     "metadata": {},
     "output_type": "display_data"
    },
    {
     "name": "stdout",
     "output_type": "stream",
     "text": [
      "step_size=0.497719407081604\n",
      "max_step_size=0.5\n",
      "broken_traj=0\n",
      "processing block: 2\n"
     ]
    },
    {
     "data": {
      "application/vnd.jupyter.widget-view+json": {
       "model_id": "3a699a731d6d4826a817644d355956f6",
       "version_major": 2,
       "version_minor": 0
      },
      "text/plain": [
       "  0%|          | 0/5000 [00:00<?, ?it/s]"
      ]
     },
     "metadata": {},
     "output_type": "display_data"
    },
    {
     "name": "stdout",
     "output_type": "stream",
     "text": [
      "step_size=0.497719407081604\n",
      "max_step_size=0.5\n",
      "broken_traj=0\n",
      "processing block: 3\n"
     ]
    },
    {
     "data": {
      "application/vnd.jupyter.widget-view+json": {
       "model_id": "44c11a03b6294b0586e60f60f8314aac",
       "version_major": 2,
       "version_minor": 0
      },
      "text/plain": [
       "  0%|          | 0/5000 [00:00<?, ?it/s]"
      ]
     },
     "metadata": {},
     "output_type": "display_data"
    },
    {
     "name": "stdout",
     "output_type": "stream",
     "text": [
      "step_size=0.4975868761539459\n",
      "max_step_size=0.5\n",
      "broken_traj=0\n",
      "Runtime: 674.14s\n",
      "--------------------------------------------------------------------------------\n",
      "Running HMCAdaptiveHutchTaylorNoGrad\n",
      "number of blocks: 3\n",
      "processing block: 1\n"
     ]
    },
    {
     "data": {
      "application/vnd.jupyter.widget-view+json": {
       "model_id": "08f1144bbb9140e2a1aebe64b64d5e0f",
       "version_major": 2,
       "version_minor": 0
      },
      "text/plain": [
       "  0%|          | 0/2500 [00:00<?, ?it/s]"
      ]
     },
     "metadata": {},
     "output_type": "display_data"
    },
    {
     "name": "stdout",
     "output_type": "stream",
     "text": [
      "step_size=0.49784407019615173\n",
      "max_step_size=0.5\n",
      "broken_traj=0\n",
      "processing block: 2\n"
     ]
    },
    {
     "data": {
      "application/vnd.jupyter.widget-view+json": {
       "model_id": "be51d68d48264b7396657234af02ac07",
       "version_major": 2,
       "version_minor": 0
      },
      "text/plain": [
       "  0%|          | 0/5000 [00:00<?, ?it/s]"
      ]
     },
     "metadata": {},
     "output_type": "display_data"
    },
    {
     "name": "stdout",
     "output_type": "stream",
     "text": [
      "step_size=0.49784407019615173\n",
      "max_step_size=0.5\n",
      "broken_traj=0\n",
      "processing block: 3\n"
     ]
    },
    {
     "data": {
      "application/vnd.jupyter.widget-view+json": {
       "model_id": "0faeba2a3bf6401bb879b1ed89136794",
       "version_major": 2,
       "version_minor": 0
      },
      "text/plain": [
       "  0%|          | 0/5000 [00:00<?, ?it/s]"
      ]
     },
     "metadata": {},
     "output_type": "display_data"
    },
    {
     "name": "stdout",
     "output_type": "stream",
     "text": [
      "step_size=0.4998995065689087\n",
      "max_step_size=0.5\n",
      "broken_traj=0\n",
      "Runtime: 1049.30s\n",
      "--------------------------------------------------------------------------------\n",
      "Running HMCAdaptiveHutchLanczosNoGrad\n",
      "number of blocks: 3\n",
      "processing block: 1\n"
     ]
    },
    {
     "data": {
      "application/vnd.jupyter.widget-view+json": {
       "model_id": "fa5f4ad255ae44d48f5d7ebcc0fb1559",
       "version_major": 2,
       "version_minor": 0
      },
      "text/plain": [
       "  0%|          | 0/2500 [00:00<?, ?it/s]"
      ]
     },
     "metadata": {},
     "output_type": "display_data"
    },
    {
     "name": "stdout",
     "output_type": "stream",
     "text": [
      "step_size=0.49877306818962097\n",
      "max_step_size=0.5\n",
      "broken_traj=0\n",
      "processing block: 2\n"
     ]
    },
    {
     "data": {
      "application/vnd.jupyter.widget-view+json": {
       "model_id": "cf4ae33fe63f4bb3b332304f2f8c9dca",
       "version_major": 2,
       "version_minor": 0
      },
      "text/plain": [
       "  0%|          | 0/5000 [00:00<?, ?it/s]"
      ]
     },
     "metadata": {},
     "output_type": "display_data"
    },
    {
     "name": "stdout",
     "output_type": "stream",
     "text": [
      "step_size=0.49877306818962097\n",
      "max_step_size=0.5\n",
      "broken_traj=0\n",
      "processing block: 3\n"
     ]
    },
    {
     "data": {
      "application/vnd.jupyter.widget-view+json": {
       "model_id": "c74af3577d334321a325e7574d449c80",
       "version_major": 2,
       "version_minor": 0
      },
      "text/plain": [
       "  0%|          | 0/5000 [00:00<?, ?it/s]"
      ]
     },
     "metadata": {},
     "output_type": "display_data"
    },
    {
     "name": "stdout",
     "output_type": "stream",
     "text": [
      "step_size=0.49910852313041687\n",
      "max_step_size=0.5\n",
      "broken_traj=0\n",
      "Runtime: 1136.43s\n",
      "\n",
      "Processing dimension 256\n",
      "--------------------------------------------------------------------------------\n",
      "Running HMCVanilla\n",
      "number of blocks: 3\n",
      "processing block: 1\n"
     ]
    },
    {
     "data": {
      "application/vnd.jupyter.widget-view+json": {
       "model_id": "7465f3c13bcd4d1f9d5b5a3662cceb25",
       "version_major": 2,
       "version_minor": 0
      },
      "text/plain": [
       "  0%|          | 0/2500 [00:00<?, ?it/s]"
      ]
     },
     "metadata": {},
     "output_type": "display_data"
    },
    {
     "name": "stdout",
     "output_type": "stream",
     "text": [
      "step_size=0.4933825731277466\n",
      "max_step_size=0.5\n",
      "broken_traj=0\n",
      "processing block: 2\n"
     ]
    },
    {
     "data": {
      "application/vnd.jupyter.widget-view+json": {
       "model_id": "eac682b0261e4b49af4bc1e5f4227888",
       "version_major": 2,
       "version_minor": 0
      },
      "text/plain": [
       "  0%|          | 0/5000 [00:00<?, ?it/s]"
      ]
     },
     "metadata": {},
     "output_type": "display_data"
    },
    {
     "name": "stdout",
     "output_type": "stream",
     "text": [
      "step_size=0.4933825731277466\n",
      "max_step_size=0.5\n",
      "broken_traj=0\n",
      "processing block: 3\n"
     ]
    },
    {
     "data": {
      "application/vnd.jupyter.widget-view+json": {
       "model_id": "8dc1e9c7a55242619abd1067448595c8",
       "version_major": 2,
       "version_minor": 0
      },
      "text/plain": [
       "  0%|          | 0/5000 [00:00<?, ?it/s]"
      ]
     },
     "metadata": {},
     "output_type": "display_data"
    },
    {
     "name": "stdout",
     "output_type": "stream",
     "text": [
      "step_size=0.49111732840538025\n",
      "max_step_size=0.5\n",
      "broken_traj=0\n",
      "Runtime: 1497.98s\n",
      "--------------------------------------------------------------------------------\n",
      "Running HMCAdaptiveHutchTaylorNoGrad\n",
      "number of blocks: 3\n",
      "processing block: 1\n"
     ]
    },
    {
     "data": {
      "application/vnd.jupyter.widget-view+json": {
       "model_id": "5da47c363def49ef851d2e9168457f98",
       "version_major": 2,
       "version_minor": 0
      },
      "text/plain": [
       "  0%|          | 0/2500 [00:00<?, ?it/s]"
      ]
     },
     "metadata": {},
     "output_type": "display_data"
    },
    {
     "name": "stdout",
     "output_type": "stream",
     "text": [
      "step_size=0.49594148993492126\n",
      "max_step_size=0.5\n",
      "broken_traj=0\n",
      "processing block: 2\n"
     ]
    },
    {
     "data": {
      "application/vnd.jupyter.widget-view+json": {
       "model_id": "d3f11d60e18e4af8915cb6287ef06450",
       "version_major": 2,
       "version_minor": 0
      },
      "text/plain": [
       "  0%|          | 0/5000 [00:00<?, ?it/s]"
      ]
     },
     "metadata": {},
     "output_type": "display_data"
    },
    {
     "name": "stdout",
     "output_type": "stream",
     "text": [
      "step_size=0.49594148993492126\n",
      "max_step_size=0.5\n",
      "broken_traj=0\n",
      "processing block: 3\n"
     ]
    },
    {
     "data": {
      "application/vnd.jupyter.widget-view+json": {
       "model_id": "1fdbe8bd3e8f48ac9da1c1cad81e00ca",
       "version_major": 2,
       "version_minor": 0
      },
      "text/plain": [
       "  0%|          | 0/5000 [00:00<?, ?it/s]"
      ]
     },
     "metadata": {},
     "output_type": "display_data"
    },
    {
     "name": "stdout",
     "output_type": "stream",
     "text": [
      "step_size=0.4993912875652313\n",
      "max_step_size=0.5\n",
      "broken_traj=0\n",
      "Runtime: 2298.59s\n",
      "--------------------------------------------------------------------------------\n",
      "Running HMCAdaptiveHutchLanczosNoGrad\n",
      "number of blocks: 3\n",
      "processing block: 1\n"
     ]
    },
    {
     "data": {
      "application/vnd.jupyter.widget-view+json": {
       "model_id": "56ad800117f449029fd570acbeebd9e0",
       "version_major": 2,
       "version_minor": 0
      },
      "text/plain": [
       "  0%|          | 0/2500 [00:00<?, ?it/s]"
      ]
     },
     "metadata": {},
     "output_type": "display_data"
    },
    {
     "name": "stdout",
     "output_type": "stream",
     "text": [
      "step_size=0.49459108710289\n",
      "max_step_size=0.5\n",
      "broken_traj=0\n",
      "processing block: 2\n"
     ]
    },
    {
     "data": {
      "application/vnd.jupyter.widget-view+json": {
       "model_id": "d372d4877b3741909b774f4f14b5eb02",
       "version_major": 2,
       "version_minor": 0
      },
      "text/plain": [
       "  0%|          | 0/5000 [00:00<?, ?it/s]"
      ]
     },
     "metadata": {},
     "output_type": "display_data"
    },
    {
     "name": "stdout",
     "output_type": "stream",
     "text": [
      "step_size=0.49459108710289\n",
      "max_step_size=0.5\n",
      "broken_traj=0\n",
      "processing block: 3\n"
     ]
    },
    {
     "data": {
      "application/vnd.jupyter.widget-view+json": {
       "model_id": "caf5c0cf1872495da8e77f134b533395",
       "version_major": 2,
       "version_minor": 0
      },
      "text/plain": [
       "  0%|          | 0/5000 [00:00<?, ?it/s]"
      ]
     },
     "metadata": {},
     "output_type": "display_data"
    },
    {
     "name": "stdout",
     "output_type": "stream",
     "text": [
      "step_size=0.498052179813385\n",
      "max_step_size=0.5\n",
      "broken_traj=0\n",
      "Runtime: 2484.13s\n",
      "\n"
     ]
    },
    {
     "data": {
      "application/vnd.jupyter.widget-view+json": {
       "model_id": "09aeeef416904b1c9d4d871c9de6c5a8",
       "version_major": 2,
       "version_minor": 0
      },
      "text/plain": [
       "dimension:   0%|          | 0/6 [00:00<?, ?it/s]"
      ]
     },
     "metadata": {},
     "output_type": "display_data"
    },
    {
     "data": {
      "application/vnd.jupyter.widget-view+json": {
       "model_id": "69d98035c5304f82bcc4751bceb0aacf",
       "version_major": 2,
       "version_minor": 0
      },
      "text/plain": [
       "alg:   0%|          | 0/3 [00:00<?, ?it/s]"
      ]
     },
     "metadata": {},
     "output_type": "display_data"
    },
    {
     "name": "stdout",
     "output_type": "stream",
     "text": [
      "\n",
      "dim=8, dist=random_gm\n",
      "                 hmc_vanilla  taylor_nograd  lanczos_nograd\n",
      "ess_mean           0.562775       0.295242        0.528651\n",
      "ess_conf_sigma     0.001804       0.002269        0.003916\n",
      "tv_mean            0.010925       0.011575        0.009608\n",
      "tv_conf_sigma      0.000884       0.001007        0.000790\n",
      "runtime          247.931967     388.114305      421.429769\n",
      "chains_kept       30.000000      30.000000       30.000000\n",
      "{8:             alg_A          alg_B  z(ESS_A>B)  p(ESS_A>B)  z(TV_A<B)  p(TV_A<B)\n",
      "0  lanczos_nograd  taylor_nograd   51.569948         0.0   1.536759   0.062176\n",
      "1  lanczos_nograd    hmc_vanilla   -7.913580         1.0   1.110716   0.133345\n",
      "2   taylor_nograd    hmc_vanilla  -92.295436         1.0  -0.485263   0.686255}\n"
     ]
    },
    {
     "data": {
      "application/vnd.jupyter.widget-view+json": {
       "model_id": "c1defc64b58f40dcab2fa7c716a9b5d1",
       "version_major": 2,
       "version_minor": 0
      },
      "text/plain": [
       "alg:   0%|          | 0/3 [00:00<?, ?it/s]"
      ]
     },
     "metadata": {},
     "output_type": "display_data"
    },
    {
     "name": "stdout",
     "output_type": "stream",
     "text": [
      "\n",
      "dim=16, dist=random_gm\n",
      "                 hmc_vanilla  taylor_nograd  lanczos_nograd\n",
      "ess_mean           0.812024       0.508399        0.817327\n",
      "ess_conf_sigma     0.001691       0.001302        0.002280\n",
      "tv_mean            0.008902       0.010097        0.009315\n",
      "tv_conf_sigma      0.000662       0.000859        0.000766\n",
      "runtime          262.829723     413.457613      451.210301\n",
      "chains_kept       30.000000      30.000000       30.000000\n",
      "{8:             alg_A          alg_B  z(ESS_A>B)  p(ESS_A>B)  z(TV_A<B)  p(TV_A<B)\n",
      "0  lanczos_nograd  taylor_nograd   51.569948         0.0   1.536759   0.062176\n",
      "1  lanczos_nograd    hmc_vanilla   -7.913580         1.0   1.110716   0.133345\n",
      "2   taylor_nograd    hmc_vanilla  -92.295436         1.0  -0.485263   0.686255, 16:             alg_A          alg_B  z(ESS_A>B)  p(ESS_A>B)  z(TV_A<B)  p(TV_A<B)\n",
      "0  lanczos_nograd  taylor_nograd  117.678980    0.000000   0.679790   0.248319\n",
      "1  lanczos_nograd    hmc_vanilla    1.868433    0.030851  -0.407698   0.658252\n",
      "2   taylor_nograd    hmc_vanilla -142.250857    1.000000  -1.101650   0.864693}\n"
     ]
    },
    {
     "data": {
      "application/vnd.jupyter.widget-view+json": {
       "model_id": "1849b213862c49d99c555b2a3634cca2",
       "version_major": 2,
       "version_minor": 0
      },
      "text/plain": [
       "alg:   0%|          | 0/3 [00:00<?, ?it/s]"
      ]
     },
     "metadata": {},
     "output_type": "display_data"
    },
    {
     "name": "stdout",
     "output_type": "stream",
     "text": [
      "\n",
      "dim=32, dist=random_gm\n",
      "                 hmc_vanilla  taylor_nograd  lanczos_nograd\n",
      "ess_mean           0.788041       0.721297        0.771152\n",
      "ess_conf_sigma     0.001413       0.001754        0.001267\n",
      "tv_mean            0.008528       0.008060        0.008185\n",
      "tv_conf_sigma      0.000690       0.000616        0.000645\n",
      "runtime          310.418944     490.320657      535.053814\n",
      "chains_kept       30.000000      30.000000       30.000000\n",
      "{8:             alg_A          alg_B  z(ESS_A>B)  p(ESS_A>B)  z(TV_A<B)  p(TV_A<B)\n",
      "0  lanczos_nograd  taylor_nograd   51.569948         0.0   1.536759   0.062176\n",
      "1  lanczos_nograd    hmc_vanilla   -7.913580         1.0   1.110716   0.133345\n",
      "2   taylor_nograd    hmc_vanilla  -92.295436         1.0  -0.485263   0.686255, 16:             alg_A          alg_B  z(ESS_A>B)  p(ESS_A>B)  z(TV_A<B)  p(TV_A<B)\n",
      "0  lanczos_nograd  taylor_nograd  117.678980    0.000000   0.679790   0.248319\n",
      "1  lanczos_nograd    hmc_vanilla    1.868433    0.030851  -0.407698   0.658252\n",
      "2   taylor_nograd    hmc_vanilla -142.250857    1.000000  -1.101650   0.864693, 32:             alg_A          alg_B  z(ESS_A>B)     p(ESS_A>B)  z(TV_A<B)  \\\n",
      "0  lanczos_nograd  taylor_nograd   23.036901  9.951526e-118  -0.140037   \n",
      "1  lanczos_nograd    hmc_vanilla   -8.897711   1.000000e+00   0.363329   \n",
      "2   taylor_nograd    hmc_vanilla  -29.624953   1.000000e+00   0.506039   \n",
      "\n",
      "   p(TV_A<B)  \n",
      "0   0.555685  \n",
      "1   0.358179  \n",
      "2   0.306415  }\n"
     ]
    },
    {
     "data": {
      "application/vnd.jupyter.widget-view+json": {
       "model_id": "f980f1749a1f40f2be73bed785ae82c6",
       "version_major": 2,
       "version_minor": 0
      },
      "text/plain": [
       "alg:   0%|          | 0/3 [00:00<?, ?it/s]"
      ]
     },
     "metadata": {},
     "output_type": "display_data"
    },
    {
     "name": "stdout",
     "output_type": "stream",
     "text": [
      "\n",
      "dim=64, dist=random_gm\n",
      "                 hmc_vanilla  taylor_nograd  lanczos_nograd\n",
      "ess_mean           0.532887       0.347447        0.665728\n",
      "ess_conf_sigma     0.001744       0.001286        0.003029\n",
      "tv_mean            0.009678       0.011099        0.010033\n",
      "tv_conf_sigma      0.000773       0.001017        0.000859\n",
      "runtime          435.427167     676.204516      736.954701\n",
      "chains_kept       30.000000      30.000000       30.000000\n",
      "{8:             alg_A          alg_B  z(ESS_A>B)  p(ESS_A>B)  z(TV_A<B)  p(TV_A<B)\n",
      "0  lanczos_nograd  taylor_nograd   51.569948         0.0   1.536759   0.062176\n",
      "1  lanczos_nograd    hmc_vanilla   -7.913580         1.0   1.110716   0.133345\n",
      "2   taylor_nograd    hmc_vanilla  -92.295436         1.0  -0.485263   0.686255, 16:             alg_A          alg_B  z(ESS_A>B)  p(ESS_A>B)  z(TV_A<B)  p(TV_A<B)\n",
      "0  lanczos_nograd  taylor_nograd  117.678980    0.000000   0.679790   0.248319\n",
      "1  lanczos_nograd    hmc_vanilla    1.868433    0.030851  -0.407698   0.658252\n",
      "2   taylor_nograd    hmc_vanilla -142.250857    1.000000  -1.101650   0.864693, 32:             alg_A          alg_B  z(ESS_A>B)     p(ESS_A>B)  z(TV_A<B)  \\\n",
      "0  lanczos_nograd  taylor_nograd   23.036901  9.951526e-118  -0.140037   \n",
      "1  lanczos_nograd    hmc_vanilla   -8.897711   1.000000e+00   0.363329   \n",
      "2   taylor_nograd    hmc_vanilla  -29.624953   1.000000e+00   0.506039   \n",
      "\n",
      "   p(TV_A<B)  \n",
      "0   0.555685  \n",
      "1   0.358179  \n",
      "2   0.306415  , 64:             alg_A          alg_B  z(ESS_A>B)  p(ESS_A>B)  z(TV_A<B)  p(TV_A<B)\n",
      "0  lanczos_nograd  taylor_nograd   96.727642         0.0   0.800585   0.211686\n",
      "1  lanczos_nograd    hmc_vanilla   38.007688         0.0  -0.307448   0.620749\n",
      "2   taylor_nograd    hmc_vanilla  -85.554904         1.0  -1.112678   0.867077}\n"
     ]
    },
    {
     "data": {
      "application/vnd.jupyter.widget-view+json": {
       "model_id": "8062f0c1c51c4357a2f066a7d15adbfb",
       "version_major": 2,
       "version_minor": 0
      },
      "text/plain": [
       "alg:   0%|          | 0/3 [00:00<?, ?it/s]"
      ]
     },
     "metadata": {},
     "output_type": "display_data"
    },
    {
     "name": "stdout",
     "output_type": "stream",
     "text": [
      "\n",
      "dim=128, dist=random_gm\n",
      "                 hmc_vanilla  taylor_nograd  lanczos_nograd\n",
      "ess_mean           0.047254       0.032252        0.051957\n",
      "ess_conf_sigma     0.000993       0.000544        0.001201\n",
      "tv_mean            0.036950       0.043255        0.035949\n",
      "tv_conf_sigma      0.004542       0.005131        0.004496\n",
      "runtime          671.350251    1045.142060     1132.104383\n",
      "chains_kept       30.000000      30.000000       30.000000\n",
      "{8:             alg_A          alg_B  z(ESS_A>B)  p(ESS_A>B)  z(TV_A<B)  p(TV_A<B)\n",
      "0  lanczos_nograd  taylor_nograd   51.569948         0.0   1.536759   0.062176\n",
      "1  lanczos_nograd    hmc_vanilla   -7.913580         1.0   1.110716   0.133345\n",
      "2   taylor_nograd    hmc_vanilla  -92.295436         1.0  -0.485263   0.686255, 16:             alg_A          alg_B  z(ESS_A>B)  p(ESS_A>B)  z(TV_A<B)  p(TV_A<B)\n",
      "0  lanczos_nograd  taylor_nograd  117.678980    0.000000   0.679790   0.248319\n",
      "1  lanczos_nograd    hmc_vanilla    1.868433    0.030851  -0.407698   0.658252\n",
      "2   taylor_nograd    hmc_vanilla -142.250857    1.000000  -1.101650   0.864693, 32:             alg_A          alg_B  z(ESS_A>B)     p(ESS_A>B)  z(TV_A<B)  \\\n",
      "0  lanczos_nograd  taylor_nograd   23.036901  9.951526e-118  -0.140037   \n",
      "1  lanczos_nograd    hmc_vanilla   -8.897711   1.000000e+00   0.363329   \n",
      "2   taylor_nograd    hmc_vanilla  -29.624953   1.000000e+00   0.506039   \n",
      "\n",
      "   p(TV_A<B)  \n",
      "0   0.555685  \n",
      "1   0.358179  \n",
      "2   0.306415  , 64:             alg_A          alg_B  z(ESS_A>B)  p(ESS_A>B)  z(TV_A<B)  p(TV_A<B)\n",
      "0  lanczos_nograd  taylor_nograd   96.727642         0.0   0.800585   0.211686\n",
      "1  lanczos_nograd    hmc_vanilla   38.007688         0.0  -0.307448   0.620749\n",
      "2   taylor_nograd    hmc_vanilla  -85.554904         1.0  -1.112678   0.867077, 128:             alg_A          alg_B  z(ESS_A>B)    p(ESS_A>B)  z(TV_A<B)  \\\n",
      "0  lanczos_nograd  taylor_nograd   14.944523  8.454830e-51   1.070916   \n",
      "1  lanczos_nograd    hmc_vanilla    3.017642  1.273747e-03   0.156674   \n",
      "2   taylor_nograd    hmc_vanilla  -13.248554  1.000000e+00  -0.920022   \n",
      "\n",
      "   p(TV_A<B)  \n",
      "0   0.142104  \n",
      "1   0.437751  \n",
      "2   0.821219  }\n"
     ]
    },
    {
     "data": {
      "application/vnd.jupyter.widget-view+json": {
       "model_id": "fc5f1f1af03c4260986bf2282e105fed",
       "version_major": 2,
       "version_minor": 0
      },
      "text/plain": [
       "alg:   0%|          | 0/3 [00:00<?, ?it/s]"
      ]
     },
     "metadata": {},
     "output_type": "display_data"
    },
    {
     "name": "stdout",
     "output_type": "stream",
     "text": [
      "\n",
      "dim=256, dist=random_gm\n",
      "                 hmc_vanilla  taylor_nograd  lanczos_nograd\n",
      "ess_mean           0.272143       0.091238        0.443208\n",
      "ess_conf_sigma     0.007646       0.004056        0.012626\n",
      "tv_mean            0.108980       0.114160        0.123726\n",
      "tv_conf_sigma      0.013148       0.014889        0.014408\n",
      "runtime         1492.207823    2292.576513     2478.316182\n",
      "chains_kept       30.000000      30.000000       30.000000\n",
      "{8:             alg_A          alg_B  z(ESS_A>B)  p(ESS_A>B)  z(TV_A<B)  p(TV_A<B)\n",
      "0  lanczos_nograd  taylor_nograd   51.569948         0.0   1.536759   0.062176\n",
      "1  lanczos_nograd    hmc_vanilla   -7.913580         1.0   1.110716   0.133345\n",
      "2   taylor_nograd    hmc_vanilla  -92.295436         1.0  -0.485263   0.686255, 16:             alg_A          alg_B  z(ESS_A>B)  p(ESS_A>B)  z(TV_A<B)  p(TV_A<B)\n",
      "0  lanczos_nograd  taylor_nograd  117.678980    0.000000   0.679790   0.248319\n",
      "1  lanczos_nograd    hmc_vanilla    1.868433    0.030851  -0.407698   0.658252\n",
      "2   taylor_nograd    hmc_vanilla -142.250857    1.000000  -1.101650   0.864693, 32:             alg_A          alg_B  z(ESS_A>B)     p(ESS_A>B)  z(TV_A<B)  \\\n",
      "0  lanczos_nograd  taylor_nograd   23.036901  9.951526e-118  -0.140037   \n",
      "1  lanczos_nograd    hmc_vanilla   -8.897711   1.000000e+00   0.363329   \n",
      "2   taylor_nograd    hmc_vanilla  -29.624953   1.000000e+00   0.506039   \n",
      "\n",
      "   p(TV_A<B)  \n",
      "0   0.555685  \n",
      "1   0.358179  \n",
      "2   0.306415  , 64:             alg_A          alg_B  z(ESS_A>B)  p(ESS_A>B)  z(TV_A<B)  p(TV_A<B)\n",
      "0  lanczos_nograd  taylor_nograd   96.727642         0.0   0.800585   0.211686\n",
      "1  lanczos_nograd    hmc_vanilla   38.007688         0.0  -0.307448   0.620749\n",
      "2   taylor_nograd    hmc_vanilla  -85.554904         1.0  -1.112678   0.867077, 128:             alg_A          alg_B  z(ESS_A>B)    p(ESS_A>B)  z(TV_A<B)  \\\n",
      "0  lanczos_nograd  taylor_nograd   14.944523  8.454830e-51   1.070916   \n",
      "1  lanczos_nograd    hmc_vanilla    3.017642  1.273747e-03   0.156674   \n",
      "2   taylor_nograd    hmc_vanilla  -13.248554  1.000000e+00  -0.920022   \n",
      "\n",
      "   p(TV_A<B)  \n",
      "0   0.142104  \n",
      "1   0.437751  \n",
      "2   0.821219  , 256:             alg_A          alg_B  z(ESS_A>B)     p(ESS_A>B)  z(TV_A<B)  \\\n",
      "0  lanczos_nograd  taylor_nograd   26.540417  1.656669e-155  -0.461667   \n",
      "1  lanczos_nograd    hmc_vanilla   11.589069   2.340960e-31  -0.755989   \n",
      "2   taylor_nograd    hmc_vanilla  -20.900778   1.000000e+00  -0.260813   \n",
      "\n",
      "   p(TV_A<B)  \n",
      "0   0.677840  \n",
      "1   0.775172  \n",
      "2   0.602882  }\n"
     ]
    },
    {
     "data": {
      "application/vnd.jupyter.widget-view+json": {
       "model_id": "6a69c584dd3f48b19a07fcfa539b91ad",
       "version_major": 2,
       "version_minor": 0
      },
      "text/plain": [
       "  0%|          | 0/6 [00:00<?, ?it/s]"
      ]
     },
     "metadata": {},
     "output_type": "display_data"
    },
    {
     "name": "stdout",
     "output_type": "stream",
     "text": [
      "Processing dimension 8\n",
      "--------------------------------------------------------------------------------\n",
      "Running HMCVanilla\n",
      "number of blocks: 3\n",
      "processing block: 1\n"
     ]
    },
    {
     "data": {
      "application/vnd.jupyter.widget-view+json": {
       "model_id": "c108410262b54a2285fd613ae94fbd67",
       "version_major": 2,
       "version_minor": 0
      },
      "text/plain": [
       "  0%|          | 0/2500 [00:00<?, ?it/s]"
      ]
     },
     "metadata": {},
     "output_type": "display_data"
    },
    {
     "name": "stdout",
     "output_type": "stream",
     "text": [
      "step_size=0.057266250252723694\n",
      "max_step_size=0.492499977350235\n",
      "broken_traj=10\n",
      "processing block: 2\n"
     ]
    },
    {
     "data": {
      "application/vnd.jupyter.widget-view+json": {
       "model_id": "c2214e7046404a5b972b35119033c1ce",
       "version_major": 2,
       "version_minor": 0
      },
      "text/plain": [
       "  0%|          | 0/5000 [00:00<?, ?it/s]"
      ]
     },
     "metadata": {},
     "output_type": "display_data"
    },
    {
     "name": "stdout",
     "output_type": "stream",
     "text": [
      "step_size=0.057266250252723694\n",
      "max_step_size=0.492499977350235\n",
      "broken_traj=10\n",
      "processing block: 3\n"
     ]
    },
    {
     "data": {
      "application/vnd.jupyter.widget-view+json": {
       "model_id": "b318786eba2641878cbc2911eea6b648",
       "version_major": 2,
       "version_minor": 0
      },
      "text/plain": [
       "  0%|          | 0/5000 [00:00<?, ?it/s]"
      ]
     },
     "metadata": {},
     "output_type": "display_data"
    },
    {
     "name": "stdout",
     "output_type": "stream",
     "text": [
      "step_size=0.05734305456280708\n",
      "max_step_size=0.492499977350235\n",
      "broken_traj=10\n",
      "Runtime: 161.45s\n",
      "--------------------------------------------------------------------------------\n",
      "Running HMCAdaptiveHutchTaylorNoGrad\n",
      "number of blocks: 3\n",
      "processing block: 1\n"
     ]
    },
    {
     "data": {
      "application/vnd.jupyter.widget-view+json": {
       "model_id": "9a6f2795951c474c9778cec26dd42a1a",
       "version_major": 2,
       "version_minor": 0
      },
      "text/plain": [
       "  0%|          | 0/2500 [00:00<?, ?it/s]"
      ]
     },
     "metadata": {},
     "output_type": "display_data"
    },
    {
     "name": "stdout",
     "output_type": "stream",
     "text": [
      "step_size=0.05735250934958458\n",
      "max_step_size=0.4925000071525574\n",
      "broken_traj=10\n",
      "processing block: 2\n"
     ]
    },
    {
     "data": {
      "application/vnd.jupyter.widget-view+json": {
       "model_id": "b53dcf2b565d4720a3fdba9f191c1da9",
       "version_major": 2,
       "version_minor": 0
      },
      "text/plain": [
       "  0%|          | 0/5000 [00:00<?, ?it/s]"
      ]
     },
     "metadata": {},
     "output_type": "display_data"
    },
    {
     "name": "stdout",
     "output_type": "stream",
     "text": [
      "step_size=0.05735250934958458\n",
      "max_step_size=0.4925000071525574\n",
      "broken_traj=10\n",
      "processing block: 3\n"
     ]
    },
    {
     "data": {
      "application/vnd.jupyter.widget-view+json": {
       "model_id": "ff6cea9358784bf3b966c2aed0684d4f",
       "version_major": 2,
       "version_minor": 0
      },
      "text/plain": [
       "  0%|          | 0/5000 [00:00<?, ?it/s]"
      ]
     },
     "metadata": {},
     "output_type": "display_data"
    },
    {
     "name": "stdout",
     "output_type": "stream",
     "text": [
      "step_size=0.21495583653450012\n",
      "max_step_size=0.4925000071525574\n",
      "broken_traj=10\n",
      "Runtime: 250.08s\n",
      "--------------------------------------------------------------------------------\n",
      "Running HMCAdaptiveHutchLanczosNoGrad\n",
      "number of blocks: 3\n",
      "processing block: 1\n"
     ]
    },
    {
     "data": {
      "application/vnd.jupyter.widget-view+json": {
       "model_id": "8d9f81ed975e422ea73bc4d4a506fe51",
       "version_major": 2,
       "version_minor": 0
      },
      "text/plain": [
       "  0%|          | 0/2500 [00:00<?, ?it/s]"
      ]
     },
     "metadata": {},
     "output_type": "display_data"
    },
    {
     "name": "stdout",
     "output_type": "stream",
     "text": [
      "step_size=0.05775309354066849\n",
      "max_step_size=0.4933333396911621\n",
      "broken_traj=9\n",
      "processing block: 2\n"
     ]
    },
    {
     "data": {
      "application/vnd.jupyter.widget-view+json": {
       "model_id": "7fd348d65f1b4bd6b8a5fd79eeb324d9",
       "version_major": 2,
       "version_minor": 0
      },
      "text/plain": [
       "  0%|          | 0/5000 [00:00<?, ?it/s]"
      ]
     },
     "metadata": {},
     "output_type": "display_data"
    },
    {
     "name": "stdout",
     "output_type": "stream",
     "text": [
      "step_size=0.05775309354066849\n",
      "max_step_size=0.4933333396911621\n",
      "broken_traj=9\n",
      "processing block: 3\n"
     ]
    },
    {
     "data": {
      "application/vnd.jupyter.widget-view+json": {
       "model_id": "9e92f8cb798446c1a7e1034547eac691",
       "version_major": 2,
       "version_minor": 0
      },
      "text/plain": [
       "  0%|          | 0/5000 [00:00<?, ?it/s]"
      ]
     },
     "metadata": {},
     "output_type": "display_data"
    },
    {
     "name": "stdout",
     "output_type": "stream",
     "text": [
      "step_size=0.10697462409734726\n",
      "max_step_size=0.4933333396911621\n",
      "broken_traj=9\n",
      "Runtime: 267.99s\n",
      "\n",
      "Processing dimension 16\n",
      "--------------------------------------------------------------------------------\n",
      "Running HMCVanilla\n",
      "number of blocks: 3\n",
      "processing block: 1\n"
     ]
    },
    {
     "data": {
      "application/vnd.jupyter.widget-view+json": {
       "model_id": "f44bf7fabd234d8f8dff16e91b37d4d7",
       "version_major": 2,
       "version_minor": 0
      },
      "text/plain": [
       "  0%|          | 0/2500 [00:00<?, ?it/s]"
      ]
     },
     "metadata": {},
     "output_type": "display_data"
    },
    {
     "name": "stdout",
     "output_type": "stream",
     "text": [
      "step_size=0.05546322092413902\n",
      "max_step_size=0.48500001430511475\n",
      "broken_traj=10\n",
      "processing block: 2\n"
     ]
    },
    {
     "data": {
      "application/vnd.jupyter.widget-view+json": {
       "model_id": "d8889f223bc94ef9b77b18ccd1932b05",
       "version_major": 2,
       "version_minor": 0
      },
      "text/plain": [
       "  0%|          | 0/5000 [00:00<?, ?it/s]"
      ]
     },
     "metadata": {},
     "output_type": "display_data"
    },
    {
     "name": "stdout",
     "output_type": "stream",
     "text": [
      "step_size=0.05546322092413902\n",
      "max_step_size=0.48500001430511475\n",
      "broken_traj=10\n",
      "processing block: 3\n"
     ]
    },
    {
     "data": {
      "application/vnd.jupyter.widget-view+json": {
       "model_id": "7153921cdbec45b7a365435ca26e86ff",
       "version_major": 2,
       "version_minor": 0
      },
      "text/plain": [
       "  0%|          | 0/5000 [00:00<?, ?it/s]"
      ]
     },
     "metadata": {},
     "output_type": "display_data"
    },
    {
     "name": "stdout",
     "output_type": "stream",
     "text": [
      "step_size=0.05597379431128502\n",
      "max_step_size=0.48500001430511475\n",
      "broken_traj=10\n",
      "Runtime: 163.97s\n",
      "--------------------------------------------------------------------------------\n",
      "Running HMCAdaptiveHutchTaylorNoGrad\n",
      "number of blocks: 3\n",
      "processing block: 1\n"
     ]
    },
    {
     "data": {
      "application/vnd.jupyter.widget-view+json": {
       "model_id": "8482045b9ede4f5b9bee57f6ba6ebf96",
       "version_major": 2,
       "version_minor": 0
      },
      "text/plain": [
       "  0%|          | 0/2500 [00:00<?, ?it/s]"
      ]
     },
     "metadata": {},
     "output_type": "display_data"
    },
    {
     "name": "stdout",
     "output_type": "stream",
     "text": [
      "step_size=0.05698592588305473\n",
      "max_step_size=0.4883333444595337\n",
      "broken_traj=10\n",
      "processing block: 2\n"
     ]
    },
    {
     "data": {
      "application/vnd.jupyter.widget-view+json": {
       "model_id": "8247ed1127ed460db4f8ecb0d5150144",
       "version_major": 2,
       "version_minor": 0
      },
      "text/plain": [
       "  0%|          | 0/5000 [00:00<?, ?it/s]"
      ]
     },
     "metadata": {},
     "output_type": "display_data"
    },
    {
     "name": "stdout",
     "output_type": "stream",
     "text": [
      "step_size=0.05698592588305473\n",
      "max_step_size=0.4883333444595337\n",
      "broken_traj=10\n",
      "processing block: 3\n"
     ]
    },
    {
     "data": {
      "application/vnd.jupyter.widget-view+json": {
       "model_id": "270e7636501745179b99f2bda53468cb",
       "version_major": 2,
       "version_minor": 0
      },
      "text/plain": [
       "  0%|          | 0/5000 [00:00<?, ?it/s]"
      ]
     },
     "metadata": {},
     "output_type": "display_data"
    },
    {
     "name": "stdout",
     "output_type": "stream",
     "text": [
      "step_size=0.181971475481987\n",
      "max_step_size=0.4883333444595337\n",
      "broken_traj=10\n",
      "Runtime: 258.36s\n",
      "--------------------------------------------------------------------------------\n",
      "Running HMCAdaptiveHutchLanczosNoGrad\n",
      "number of blocks: 3\n",
      "processing block: 1\n"
     ]
    },
    {
     "data": {
      "application/vnd.jupyter.widget-view+json": {
       "model_id": "9cccbd8ede104aa6a34b8c7a0a56322d",
       "version_major": 2,
       "version_minor": 0
      },
      "text/plain": [
       "  0%|          | 0/2500 [00:00<?, ?it/s]"
      ]
     },
     "metadata": {},
     "output_type": "display_data"
    },
    {
     "name": "stdout",
     "output_type": "stream",
     "text": [
      "step_size=0.05646733567118645\n",
      "max_step_size=0.48504170775413513\n",
      "broken_traj=10\n",
      "processing block: 2\n"
     ]
    },
    {
     "data": {
      "application/vnd.jupyter.widget-view+json": {
       "model_id": "6f8532dcf13d4293bd1a6a247c817f88",
       "version_major": 2,
       "version_minor": 0
      },
      "text/plain": [
       "  0%|          | 0/5000 [00:00<?, ?it/s]"
      ]
     },
     "metadata": {},
     "output_type": "display_data"
    },
    {
     "name": "stdout",
     "output_type": "stream",
     "text": [
      "step_size=0.05646733567118645\n",
      "max_step_size=0.48504170775413513\n",
      "broken_traj=10\n",
      "processing block: 3\n"
     ]
    },
    {
     "data": {
      "application/vnd.jupyter.widget-view+json": {
       "model_id": "941ce806309a49cb9e1211bd5f03dd54",
       "version_major": 2,
       "version_minor": 0
      },
      "text/plain": [
       "  0%|          | 0/5000 [00:00<?, ?it/s]"
      ]
     },
     "metadata": {},
     "output_type": "display_data"
    },
    {
     "name": "stdout",
     "output_type": "stream",
     "text": [
      "step_size=0.09404142200946808\n",
      "max_step_size=0.48504170775413513\n",
      "broken_traj=10\n",
      "Runtime: 276.20s\n",
      "\n",
      "Processing dimension 32\n",
      "--------------------------------------------------------------------------------\n",
      "Running HMCVanilla\n",
      "number of blocks: 3\n",
      "processing block: 1\n"
     ]
    },
    {
     "data": {
      "application/vnd.jupyter.widget-view+json": {
       "model_id": "af2fa31348d14c5bb9ad8241b6d094a6",
       "version_major": 2,
       "version_minor": 0
      },
      "text/plain": [
       "  0%|          | 0/2500 [00:00<?, ?it/s]"
      ]
     },
     "metadata": {},
     "output_type": "display_data"
    },
    {
     "name": "stdout",
     "output_type": "stream",
     "text": [
      "step_size=0.05388477072119713\n",
      "max_step_size=0.4858333170413971\n",
      "broken_traj=10\n",
      "processing block: 2\n"
     ]
    },
    {
     "data": {
      "application/vnd.jupyter.widget-view+json": {
       "model_id": "ffdb128b970d42129fdac201df7aa8a8",
       "version_major": 2,
       "version_minor": 0
      },
      "text/plain": [
       "  0%|          | 0/5000 [00:00<?, ?it/s]"
      ]
     },
     "metadata": {},
     "output_type": "display_data"
    },
    {
     "name": "stdout",
     "output_type": "stream",
     "text": [
      "step_size=0.05388477072119713\n",
      "max_step_size=0.4858333170413971\n",
      "broken_traj=10\n",
      "processing block: 3\n"
     ]
    },
    {
     "data": {
      "application/vnd.jupyter.widget-view+json": {
       "model_id": "adf94b27dc144dd3baf26b149645094c",
       "version_major": 2,
       "version_minor": 0
      },
      "text/plain": [
       "  0%|          | 0/5000 [00:00<?, ?it/s]"
      ]
     },
     "metadata": {},
     "output_type": "display_data"
    },
    {
     "name": "stdout",
     "output_type": "stream",
     "text": [
      "step_size=0.05425724759697914\n",
      "max_step_size=0.4858333170413971\n",
      "broken_traj=10\n",
      "Runtime: 167.94s\n",
      "--------------------------------------------------------------------------------\n",
      "Running HMCAdaptiveHutchTaylorNoGrad\n",
      "number of blocks: 3\n",
      "processing block: 1\n"
     ]
    },
    {
     "data": {
      "application/vnd.jupyter.widget-view+json": {
       "model_id": "e9e9e1b3cb2942ddb8aa40652a17c17a",
       "version_major": 2,
       "version_minor": 0
      },
      "text/plain": [
       "  0%|          | 0/2500 [00:00<?, ?it/s]"
      ]
     },
     "metadata": {},
     "output_type": "display_data"
    },
    {
     "name": "stdout",
     "output_type": "stream",
     "text": [
      "step_size=0.054002318531274796\n",
      "max_step_size=0.4858333170413971\n",
      "broken_traj=9\n",
      "processing block: 2\n"
     ]
    },
    {
     "data": {
      "application/vnd.jupyter.widget-view+json": {
       "model_id": "4e8fad61f9d349abac11ddb0cedd4d16",
       "version_major": 2,
       "version_minor": 0
      },
      "text/plain": [
       "  0%|          | 0/5000 [00:00<?, ?it/s]"
      ]
     },
     "metadata": {},
     "output_type": "display_data"
    },
    {
     "name": "stdout",
     "output_type": "stream",
     "text": [
      "step_size=0.054002318531274796\n",
      "max_step_size=0.4858333170413971\n",
      "broken_traj=9\n",
      "processing block: 3\n"
     ]
    },
    {
     "data": {
      "application/vnd.jupyter.widget-view+json": {
       "model_id": "e1088002383d4c50b429aa3b54e797eb",
       "version_major": 2,
       "version_minor": 0
      },
      "text/plain": [
       "  0%|          | 0/5000 [00:00<?, ?it/s]"
      ]
     },
     "metadata": {},
     "output_type": "display_data"
    },
    {
     "name": "stdout",
     "output_type": "stream",
     "text": [
      "step_size=0.14196337759494781\n",
      "max_step_size=0.4858333170413971\n",
      "broken_traj=9\n",
      "Runtime: 264.90s\n",
      "--------------------------------------------------------------------------------\n",
      "Running HMCAdaptiveHutchLanczosNoGrad\n",
      "number of blocks: 3\n",
      "processing block: 1\n"
     ]
    },
    {
     "data": {
      "application/vnd.jupyter.widget-view+json": {
       "model_id": "826fc53eb557474aaa497ab04c63bfe3",
       "version_major": 2,
       "version_minor": 0
      },
      "text/plain": [
       "  0%|          | 0/2500 [00:00<?, ?it/s]"
      ]
     },
     "metadata": {},
     "output_type": "display_data"
    },
    {
     "name": "stdout",
     "output_type": "stream",
     "text": [
      "step_size=0.05457432195544243\n",
      "max_step_size=0.4891666769981384\n",
      "broken_traj=9\n",
      "processing block: 2\n"
     ]
    },
    {
     "data": {
      "application/vnd.jupyter.widget-view+json": {
       "model_id": "c3ee3fb2cfbe406f9429325d99cea055",
       "version_major": 2,
       "version_minor": 0
      },
      "text/plain": [
       "  0%|          | 0/5000 [00:00<?, ?it/s]"
      ]
     },
     "metadata": {},
     "output_type": "display_data"
    },
    {
     "name": "stdout",
     "output_type": "stream",
     "text": [
      "step_size=0.05457432195544243\n",
      "max_step_size=0.4891666769981384\n",
      "broken_traj=9\n",
      "processing block: 3\n"
     ]
    },
    {
     "data": {
      "application/vnd.jupyter.widget-view+json": {
       "model_id": "6ff1346b533044148e1434bebd1d1c0e",
       "version_major": 2,
       "version_minor": 0
      },
      "text/plain": [
       "  0%|          | 0/5000 [00:00<?, ?it/s]"
      ]
     },
     "metadata": {},
     "output_type": "display_data"
    },
    {
     "name": "stdout",
     "output_type": "stream",
     "text": [
      "step_size=0.07819295674562454\n",
      "max_step_size=0.4891666769981384\n",
      "broken_traj=9\n",
      "Runtime: 283.97s\n",
      "\n",
      "Processing dimension 64\n",
      "--------------------------------------------------------------------------------\n",
      "Running HMCVanilla\n",
      "number of blocks: 3\n",
      "processing block: 1\n"
     ]
    },
    {
     "data": {
      "application/vnd.jupyter.widget-view+json": {
       "model_id": "c5026250f7564bceb6c03aef90fc05b6",
       "version_major": 2,
       "version_minor": 0
      },
      "text/plain": [
       "  0%|          | 0/2500 [00:00<?, ?it/s]"
      ]
     },
     "metadata": {},
     "output_type": "display_data"
    },
    {
     "name": "stdout",
     "output_type": "stream",
     "text": [
      "step_size=0.04918297007679939\n",
      "max_step_size=0.48083335161209106\n",
      "broken_traj=10\n",
      "processing block: 2\n"
     ]
    },
    {
     "data": {
      "application/vnd.jupyter.widget-view+json": {
       "model_id": "bbfc222379d44ca7a0d0989627f45946",
       "version_major": 2,
       "version_minor": 0
      },
      "text/plain": [
       "  0%|          | 0/5000 [00:00<?, ?it/s]"
      ]
     },
     "metadata": {},
     "output_type": "display_data"
    },
    {
     "name": "stdout",
     "output_type": "stream",
     "text": [
      "step_size=0.04918297007679939\n",
      "max_step_size=0.48083335161209106\n",
      "broken_traj=10\n",
      "processing block: 3\n"
     ]
    },
    {
     "data": {
      "application/vnd.jupyter.widget-view+json": {
       "model_id": "7d6f70837b0c485fa9312817be4f7fef",
       "version_major": 2,
       "version_minor": 0
      },
      "text/plain": [
       "  0%|          | 0/5000 [00:00<?, ?it/s]"
      ]
     },
     "metadata": {},
     "output_type": "display_data"
    },
    {
     "name": "stdout",
     "output_type": "stream",
     "text": [
      "step_size=0.04888351261615753\n",
      "max_step_size=0.48083335161209106\n",
      "broken_traj=10\n",
      "Runtime: 181.50s\n",
      "--------------------------------------------------------------------------------\n",
      "Running HMCAdaptiveHutchTaylorNoGrad\n",
      "number of blocks: 3\n",
      "processing block: 1\n"
     ]
    },
    {
     "data": {
      "application/vnd.jupyter.widget-view+json": {
       "model_id": "cee4c44f80974f62a30c60cb1bbcd473",
       "version_major": 2,
       "version_minor": 0
      },
      "text/plain": [
       "  0%|          | 0/2500 [00:00<?, ?it/s]"
      ]
     },
     "metadata": {},
     "output_type": "display_data"
    },
    {
     "name": "stdout",
     "output_type": "stream",
     "text": [
      "step_size=0.04933994263410568\n",
      "max_step_size=0.4833333194255829\n",
      "broken_traj=10\n",
      "processing block: 2\n"
     ]
    },
    {
     "data": {
      "application/vnd.jupyter.widget-view+json": {
       "model_id": "8d0e3d6eafa1433499cbbc801dbc493a",
       "version_major": 2,
       "version_minor": 0
      },
      "text/plain": [
       "  0%|          | 0/5000 [00:00<?, ?it/s]"
      ]
     },
     "metadata": {},
     "output_type": "display_data"
    },
    {
     "name": "stdout",
     "output_type": "stream",
     "text": [
      "step_size=0.04933994263410568\n",
      "max_step_size=0.4833333194255829\n",
      "broken_traj=10\n",
      "processing block: 3\n"
     ]
    },
    {
     "data": {
      "application/vnd.jupyter.widget-view+json": {
       "model_id": "4c2a2d83dd8d4134b27e16e8442d72dc",
       "version_major": 2,
       "version_minor": 0
      },
      "text/plain": [
       "  0%|          | 0/5000 [00:00<?, ?it/s]"
      ]
     },
     "metadata": {},
     "output_type": "display_data"
    },
    {
     "name": "stdout",
     "output_type": "stream",
     "text": [
      "step_size=0.10333024710416794\n",
      "max_step_size=0.4833333194255829\n",
      "broken_traj=10\n",
      "Runtime: 283.24s\n",
      "--------------------------------------------------------------------------------\n",
      "Running HMCAdaptiveHutchLanczosNoGrad\n",
      "number of blocks: 3\n",
      "processing block: 1\n"
     ]
    },
    {
     "data": {
      "application/vnd.jupyter.widget-view+json": {
       "model_id": "81d3c7e0e4874dcb93d7edeff7fd4006",
       "version_major": 2,
       "version_minor": 0
      },
      "text/plain": [
       "  0%|          | 0/2500 [00:00<?, ?it/s]"
      ]
     },
     "metadata": {},
     "output_type": "display_data"
    },
    {
     "name": "stdout",
     "output_type": "stream",
     "text": [
      "step_size=0.049554936587810516\n",
      "max_step_size=0.48333337903022766\n",
      "broken_traj=9\n",
      "processing block: 2\n"
     ]
    },
    {
     "data": {
      "application/vnd.jupyter.widget-view+json": {
       "model_id": "0a16e7ddf0dc43118727b4a0c744fb37",
       "version_major": 2,
       "version_minor": 0
      },
      "text/plain": [
       "  0%|          | 0/5000 [00:00<?, ?it/s]"
      ]
     },
     "metadata": {},
     "output_type": "display_data"
    },
    {
     "name": "stdout",
     "output_type": "stream",
     "text": [
      "step_size=0.049554936587810516\n",
      "max_step_size=0.48333337903022766\n",
      "broken_traj=9\n",
      "processing block: 3\n"
     ]
    },
    {
     "data": {
      "application/vnd.jupyter.widget-view+json": {
       "model_id": "621381ca0e554ec2b01a3ce55550eb9f",
       "version_major": 2,
       "version_minor": 0
      },
      "text/plain": [
       "  0%|          | 0/5000 [00:00<?, ?it/s]"
      ]
     },
     "metadata": {},
     "output_type": "display_data"
    },
    {
     "name": "stdout",
     "output_type": "stream",
     "text": [
      "step_size=0.06142415106296539\n",
      "max_step_size=0.48333337903022766\n",
      "broken_traj=9\n",
      "Runtime: 306.71s\n",
      "\n",
      "Processing dimension 128\n",
      "--------------------------------------------------------------------------------\n",
      "Running HMCVanilla\n",
      "number of blocks: 3\n",
      "processing block: 1\n"
     ]
    },
    {
     "data": {
      "application/vnd.jupyter.widget-view+json": {
       "model_id": "a350e821bcdb4e238161e6d832d57de3",
       "version_major": 2,
       "version_minor": 0
      },
      "text/plain": [
       "  0%|          | 0/2500 [00:00<?, ?it/s]"
      ]
     },
     "metadata": {},
     "output_type": "display_data"
    },
    {
     "name": "stdout",
     "output_type": "stream",
     "text": [
      "step_size=0.04360537603497505\n",
      "max_step_size=0.4866666793823242\n",
      "broken_traj=7\n",
      "processing block: 2\n"
     ]
    },
    {
     "data": {
      "application/vnd.jupyter.widget-view+json": {
       "model_id": "20f6f057496d45a69bec99ab2cfaafd5",
       "version_major": 2,
       "version_minor": 0
      },
      "text/plain": [
       "  0%|          | 0/5000 [00:00<?, ?it/s]"
      ]
     },
     "metadata": {},
     "output_type": "display_data"
    },
    {
     "name": "stdout",
     "output_type": "stream",
     "text": [
      "step_size=0.04360537603497505\n",
      "max_step_size=0.4866666793823242\n",
      "broken_traj=7\n",
      "processing block: 3\n"
     ]
    },
    {
     "data": {
      "application/vnd.jupyter.widget-view+json": {
       "model_id": "b3ae60b72d704c27a0df25447ec5c34b",
       "version_major": 2,
       "version_minor": 0
      },
      "text/plain": [
       "  0%|          | 0/5000 [00:00<?, ?it/s]"
      ]
     },
     "metadata": {},
     "output_type": "display_data"
    },
    {
     "name": "stdout",
     "output_type": "stream",
     "text": [
      "step_size=0.04311927407979965\n",
      "max_step_size=0.4866666793823242\n",
      "broken_traj=7\n",
      "Runtime: 196.66s\n",
      "--------------------------------------------------------------------------------\n",
      "Running HMCAdaptiveHutchTaylorNoGrad\n",
      "number of blocks: 3\n",
      "processing block: 1\n"
     ]
    },
    {
     "data": {
      "application/vnd.jupyter.widget-view+json": {
       "model_id": "ac3e39a0939a464ca96baaa915b49fa8",
       "version_major": 2,
       "version_minor": 0
      },
      "text/plain": [
       "  0%|          | 0/2500 [00:00<?, ?it/s]"
      ]
     },
     "metadata": {},
     "output_type": "display_data"
    },
    {
     "name": "stdout",
     "output_type": "stream",
     "text": [
      "step_size=0.043417297303676605\n",
      "max_step_size=0.48500004410743713\n",
      "broken_traj=9\n",
      "processing block: 2\n"
     ]
    },
    {
     "data": {
      "application/vnd.jupyter.widget-view+json": {
       "model_id": "ad4e8df5a9a64f5fa4f95bb2235bbabc",
       "version_major": 2,
       "version_minor": 0
      },
      "text/plain": [
       "  0%|          | 0/5000 [00:00<?, ?it/s]"
      ]
     },
     "metadata": {},
     "output_type": "display_data"
    },
    {
     "name": "stdout",
     "output_type": "stream",
     "text": [
      "step_size=0.043417297303676605\n",
      "max_step_size=0.48500004410743713\n",
      "broken_traj=9\n",
      "processing block: 3\n"
     ]
    },
    {
     "data": {
      "application/vnd.jupyter.widget-view+json": {
       "model_id": "8419097f77a84cdc8e2356af7d2cbb19",
       "version_major": 2,
       "version_minor": 0
      },
      "text/plain": [
       "  0%|          | 0/5000 [00:00<?, ?it/s]"
      ]
     },
     "metadata": {},
     "output_type": "display_data"
    },
    {
     "name": "stdout",
     "output_type": "stream",
     "text": [
      "step_size=0.07341483235359192\n",
      "max_step_size=0.48500004410743713\n",
      "broken_traj=9\n",
      "Runtime: 310.12s\n",
      "--------------------------------------------------------------------------------\n",
      "Running HMCAdaptiveHutchLanczosNoGrad\n",
      "number of blocks: 3\n",
      "processing block: 1\n"
     ]
    },
    {
     "data": {
      "application/vnd.jupyter.widget-view+json": {
       "model_id": "2af6d58274a3435bb6841f3bafd71a69",
       "version_major": 2,
       "version_minor": 0
      },
      "text/plain": [
       "  0%|          | 0/2500 [00:00<?, ?it/s]"
      ]
     },
     "metadata": {},
     "output_type": "display_data"
    },
    {
     "name": "stdout",
     "output_type": "stream",
     "text": [
      "step_size=0.04334897920489311\n",
      "max_step_size=0.47999998927116394\n",
      "broken_traj=9\n",
      "processing block: 2\n"
     ]
    },
    {
     "data": {
      "application/vnd.jupyter.widget-view+json": {
       "model_id": "d7fff4f858f742e6972c482851c41fe2",
       "version_major": 2,
       "version_minor": 0
      },
      "text/plain": [
       "  0%|          | 0/5000 [00:00<?, ?it/s]"
      ]
     },
     "metadata": {},
     "output_type": "display_data"
    },
    {
     "name": "stdout",
     "output_type": "stream",
     "text": [
      "step_size=0.04334897920489311\n",
      "max_step_size=0.47999998927116394\n",
      "broken_traj=9\n",
      "processing block: 3\n"
     ]
    },
    {
     "data": {
      "application/vnd.jupyter.widget-view+json": {
       "model_id": "5cb62aae0f5e49e881cbb1c4c30d675e",
       "version_major": 2,
       "version_minor": 0
      },
      "text/plain": [
       "  0%|          | 0/5000 [00:00<?, ?it/s]"
      ]
     },
     "metadata": {},
     "output_type": "display_data"
    },
    {
     "name": "stdout",
     "output_type": "stream",
     "text": [
      "step_size=0.0483410507440567\n",
      "max_step_size=0.47999998927116394\n",
      "broken_traj=9\n",
      "Runtime: 336.21s\n",
      "\n",
      "Processing dimension 256\n",
      "--------------------------------------------------------------------------------\n",
      "Running HMCVanilla\n",
      "number of blocks: 3\n",
      "processing block: 1\n"
     ]
    },
    {
     "data": {
      "application/vnd.jupyter.widget-view+json": {
       "model_id": "8ba8b97946cb480689e70cdad2ea4a30",
       "version_major": 2,
       "version_minor": 0
      },
      "text/plain": [
       "  0%|          | 0/2500 [00:00<?, ?it/s]"
      ]
     },
     "metadata": {},
     "output_type": "display_data"
    },
    {
     "name": "stdout",
     "output_type": "stream",
     "text": [
      "step_size=0.037886228412389755\n",
      "max_step_size=0.492499977350235\n",
      "broken_traj=7\n",
      "processing block: 2\n"
     ]
    },
    {
     "data": {
      "application/vnd.jupyter.widget-view+json": {
       "model_id": "e830a25205774f91a5b19ccd284bf271",
       "version_major": 2,
       "version_minor": 0
      },
      "text/plain": [
       "  0%|          | 0/5000 [00:00<?, ?it/s]"
      ]
     },
     "metadata": {},
     "output_type": "display_data"
    },
    {
     "name": "stdout",
     "output_type": "stream",
     "text": [
      "step_size=0.037886228412389755\n",
      "max_step_size=0.492499977350235\n",
      "broken_traj=7\n",
      "processing block: 3\n"
     ]
    },
    {
     "data": {
      "application/vnd.jupyter.widget-view+json": {
       "model_id": "8023790641a34212a1190d22b92b706b",
       "version_major": 2,
       "version_minor": 0
      },
      "text/plain": [
       "  0%|          | 0/5000 [00:00<?, ?it/s]"
      ]
     },
     "metadata": {},
     "output_type": "display_data"
    },
    {
     "name": "stdout",
     "output_type": "stream",
     "text": [
      "step_size=0.03764389827847481\n",
      "max_step_size=0.492499977350235\n",
      "broken_traj=7\n",
      "Runtime: 246.60s\n",
      "--------------------------------------------------------------------------------\n",
      "Running HMCAdaptiveHutchTaylorNoGrad\n",
      "number of blocks: 3\n",
      "processing block: 1\n"
     ]
    },
    {
     "data": {
      "application/vnd.jupyter.widget-view+json": {
       "model_id": "d3f707c5e00d473ba8a297b1dd08d6ae",
       "version_major": 2,
       "version_minor": 0
      },
      "text/plain": [
       "  0%|          | 0/2500 [00:00<?, ?it/s]"
      ]
     },
     "metadata": {},
     "output_type": "display_data"
    },
    {
     "name": "stdout",
     "output_type": "stream",
     "text": [
      "step_size=0.03755972161889076\n",
      "max_step_size=0.49416667222976685\n",
      "broken_traj=7\n",
      "processing block: 2\n"
     ]
    },
    {
     "data": {
      "application/vnd.jupyter.widget-view+json": {
       "model_id": "e8b6e802f1ee43f399795d3d69141457",
       "version_major": 2,
       "version_minor": 0
      },
      "text/plain": [
       "  0%|          | 0/5000 [00:00<?, ?it/s]"
      ]
     },
     "metadata": {},
     "output_type": "display_data"
    },
    {
     "name": "stdout",
     "output_type": "stream",
     "text": [
      "step_size=0.03755972161889076\n",
      "max_step_size=0.49416667222976685\n",
      "broken_traj=7\n",
      "processing block: 3\n"
     ]
    },
    {
     "data": {
      "application/vnd.jupyter.widget-view+json": {
       "model_id": "ca936fdd046e468cb648be455c45498a",
       "version_major": 2,
       "version_minor": 0
      },
      "text/plain": [
       "  0%|          | 0/5000 [00:00<?, ?it/s]"
      ]
     },
     "metadata": {},
     "output_type": "display_data"
    },
    {
     "name": "stdout",
     "output_type": "stream",
     "text": [
      "step_size=0.053422216325998306\n",
      "max_step_size=0.49416667222976685\n",
      "broken_traj=7\n",
      "Runtime: 387.35s\n",
      "--------------------------------------------------------------------------------\n",
      "Running HMCAdaptiveHutchLanczosNoGrad\n",
      "number of blocks: 3\n",
      "processing block: 1\n"
     ]
    },
    {
     "data": {
      "application/vnd.jupyter.widget-view+json": {
       "model_id": "e219fd54213e45e9bccc7922ad7b190f",
       "version_major": 2,
       "version_minor": 0
      },
      "text/plain": [
       "  0%|          | 0/2500 [00:00<?, ?it/s]"
      ]
     },
     "metadata": {},
     "output_type": "display_data"
    },
    {
     "name": "stdout",
     "output_type": "stream",
     "text": [
      "step_size=0.03819001838564873\n",
      "max_step_size=0.4833333194255829\n",
      "broken_traj=8\n",
      "processing block: 2\n"
     ]
    },
    {
     "data": {
      "application/vnd.jupyter.widget-view+json": {
       "model_id": "cae60b52415349468bdf7595f50be57f",
       "version_major": 2,
       "version_minor": 0
      },
      "text/plain": [
       "  0%|          | 0/5000 [00:00<?, ?it/s]"
      ]
     },
     "metadata": {},
     "output_type": "display_data"
    },
    {
     "name": "stdout",
     "output_type": "stream",
     "text": [
      "step_size=0.03819001838564873\n",
      "max_step_size=0.4833333194255829\n",
      "broken_traj=8\n",
      "processing block: 3\n"
     ]
    },
    {
     "data": {
      "application/vnd.jupyter.widget-view+json": {
       "model_id": "7ab39cab2d3e4db1bc6ed7115b389676",
       "version_major": 2,
       "version_minor": 0
      },
      "text/plain": [
       "  0%|          | 0/5000 [00:00<?, ?it/s]"
      ]
     },
     "metadata": {},
     "output_type": "display_data"
    },
    {
     "name": "stdout",
     "output_type": "stream",
     "text": [
      "step_size=0.03934093564748764\n",
      "max_step_size=0.4833333194255829\n",
      "broken_traj=8\n",
      "Runtime: 417.47s\n",
      "\n"
     ]
    },
    {
     "data": {
      "application/vnd.jupyter.widget-view+json": {
       "model_id": "56c66e9c842a4f3ca39ac5fb9419d0c3",
       "version_major": 2,
       "version_minor": 0
      },
      "text/plain": [
       "dimension:   0%|          | 0/6 [00:00<?, ?it/s]"
      ]
     },
     "metadata": {},
     "output_type": "display_data"
    },
    {
     "data": {
      "application/vnd.jupyter.widget-view+json": {
       "model_id": "0d0b82679b684fc7b994ea6132f31f61",
       "version_major": 2,
       "version_minor": 0
      },
      "text/plain": [
       "alg:   0%|          | 0/3 [00:00<?, ?it/s]"
      ]
     },
     "metadata": {},
     "output_type": "display_data"
    },
    {
     "name": "stdout",
     "output_type": "stream",
     "text": [
      "\n",
      "dim=8, dist=illcond_gaussian\n",
      "                 hmc_vanilla  taylor_nograd  lanczos_nograd\n",
      "ess_mean           0.350135       0.514388        0.521415\n",
      "ess_conf_sigma     0.001926       0.004570        0.004062\n",
      "tv_mean            0.145343       0.038965        0.056203\n",
      "tv_conf_sigma      0.014912       0.002181        0.004612\n",
      "runtime          160.795203     249.143797      267.029423\n",
      "chains_kept       30.000000      30.000000       30.000000\n",
      "{8:             alg_A          alg_B  z(ESS_A>B)     p(ESS_A>B)  z(TV_A<B)  \\\n",
      "0  lanczos_nograd  taylor_nograd    1.149193   1.252383e-01  -3.378921   \n",
      "1  lanczos_nograd    hmc_vanilla   38.102304   0.000000e+00   5.710681   \n",
      "2   taylor_nograd    hmc_vanilla   33.117504  8.319279e-241   7.058496   \n",
      "\n",
      "      p(TV_A<B)  \n",
      "0  9.996361e-01  \n",
      "1  5.626258e-09  \n",
      "2  8.415703e-13  }\n"
     ]
    },
    {
     "data": {
      "application/vnd.jupyter.widget-view+json": {
       "model_id": "2056e307b40c4cbba63bfbcec086cf1b",
       "version_major": 2,
       "version_minor": 0
      },
      "text/plain": [
       "alg:   0%|          | 0/3 [00:00<?, ?it/s]"
      ]
     },
     "metadata": {},
     "output_type": "display_data"
    },
    {
     "name": "stdout",
     "output_type": "stream",
     "text": [
      "\n",
      "dim=16, dist=illcond_gaussian\n",
      "                 hmc_vanilla  taylor_nograd  lanczos_nograd\n",
      "ess_mean           0.417615       0.524907        0.480911\n",
      "ess_conf_sigma     0.001331       0.003380        0.005561\n",
      "tv_mean            0.151762       0.038680        0.063363\n",
      "tv_conf_sigma      0.012636       0.002399        0.005083\n",
      "runtime          163.313777     257.407374      275.173808\n",
      "chains_kept       30.000000      30.000000       30.000000\n",
      "{8:             alg_A          alg_B  z(ESS_A>B)     p(ESS_A>B)  z(TV_A<B)  \\\n",
      "0  lanczos_nograd  taylor_nograd    1.149193   1.252383e-01  -3.378921   \n",
      "1  lanczos_nograd    hmc_vanilla   38.102304   0.000000e+00   5.710681   \n",
      "2   taylor_nograd    hmc_vanilla   33.117504  8.319279e-241   7.058496   \n",
      "\n",
      "      p(TV_A<B)  \n",
      "0  9.996361e-01  \n",
      "1  5.626258e-09  \n",
      "2  8.415703e-13  , 16:             alg_A          alg_B  z(ESS_A>B)     p(ESS_A>B)  z(TV_A<B)  \\\n",
      "0  lanczos_nograd  taylor_nograd   -6.761085   1.000000e+00  -4.391727   \n",
      "1  lanczos_nograd    hmc_vanilla   11.070375   8.733402e-29   6.490602   \n",
      "2   taylor_nograd    hmc_vanilla   29.538362  4.632748e-192   8.792426   \n",
      "\n",
      "      p(TV_A<B)  \n",
      "0  9.999944e-01  \n",
      "1  4.274698e-11  \n",
      "2  7.318213e-19  }\n"
     ]
    },
    {
     "data": {
      "application/vnd.jupyter.widget-view+json": {
       "model_id": "fea70b80e392426d827b9c6e3b223a90",
       "version_major": 2,
       "version_minor": 0
      },
      "text/plain": [
       "alg:   0%|          | 0/3 [00:00<?, ?it/s]"
      ]
     },
     "metadata": {},
     "output_type": "display_data"
    },
    {
     "name": "stdout",
     "output_type": "stream",
     "text": [
      "\n",
      "dim=32, dist=illcond_gaussian\n",
      "                 hmc_vanilla  taylor_nograd  lanczos_nograd\n",
      "ess_mean           0.379557       0.449792        0.423854\n",
      "ess_conf_sigma     0.000941       0.002791        0.003958\n",
      "tv_mean            0.141176       0.044347        0.058078\n",
      "tv_conf_sigma      0.011824       0.002903        0.004213\n",
      "runtime          167.283952     263.941044      282.815173\n",
      "chains_kept       30.000000      30.000000       30.000000\n",
      "{8:             alg_A          alg_B  z(ESS_A>B)     p(ESS_A>B)  z(TV_A<B)  \\\n",
      "0  lanczos_nograd  taylor_nograd    1.149193   1.252383e-01  -3.378921   \n",
      "1  lanczos_nograd    hmc_vanilla   38.102304   0.000000e+00   5.710681   \n",
      "2   taylor_nograd    hmc_vanilla   33.117504  8.319279e-241   7.058496   \n",
      "\n",
      "      p(TV_A<B)  \n",
      "0  9.996361e-01  \n",
      "1  5.626258e-09  \n",
      "2  8.415703e-13  , 16:             alg_A          alg_B  z(ESS_A>B)     p(ESS_A>B)  z(TV_A<B)  \\\n",
      "0  lanczos_nograd  taylor_nograd   -6.761085   1.000000e+00  -4.391727   \n",
      "1  lanczos_nograd    hmc_vanilla   11.070375   8.733402e-29   6.490602   \n",
      "2   taylor_nograd    hmc_vanilla   29.538362  4.632748e-192   8.792426   \n",
      "\n",
      "      p(TV_A<B)  \n",
      "0  9.999944e-01  \n",
      "1  4.274698e-11  \n",
      "2  7.318213e-19  , 32:             alg_A          alg_B  z(ESS_A>B)     p(ESS_A>B)  z(TV_A<B)  \\\n",
      "0  lanczos_nograd  taylor_nograd   -5.355440   1.000000e+00  -2.684208   \n",
      "1  lanczos_nograd    hmc_vanilla   10.887862   6.584807e-28   6.620221   \n",
      "2   taylor_nograd    hmc_vanilla   23.843938  5.852200e-126   7.953028   \n",
      "\n",
      "      p(TV_A<B)  \n",
      "0  9.963649e-01  \n",
      "1  1.793310e-11  \n",
      "2  9.100369e-16  }\n"
     ]
    },
    {
     "data": {
      "application/vnd.jupyter.widget-view+json": {
       "model_id": "1d7ae56fbb5e4cdfb4b3d11300a0916d",
       "version_major": 2,
       "version_minor": 0
      },
      "text/plain": [
       "alg:   0%|          | 0/3 [00:00<?, ?it/s]"
      ]
     },
     "metadata": {},
     "output_type": "display_data"
    },
    {
     "name": "stdout",
     "output_type": "stream",
     "text": [
      "\n",
      "dim=64, dist=illcond_gaussian\n",
      "                 hmc_vanilla  taylor_nograd  lanczos_nograd\n",
      "ess_mean           0.351355       0.408808        0.393097\n",
      "ess_conf_sigma     0.000857       0.002264        0.002062\n",
      "tv_mean            0.152558       0.053373        0.076068\n",
      "tv_conf_sigma      0.011836       0.003461        0.005804\n",
      "runtime          180.783695     282.252271      305.517098\n",
      "chains_kept       30.000000      30.000000       30.000000\n",
      "{8:             alg_A          alg_B  z(ESS_A>B)     p(ESS_A>B)  z(TV_A<B)  \\\n",
      "0  lanczos_nograd  taylor_nograd    1.149193   1.252383e-01  -3.378921   \n",
      "1  lanczos_nograd    hmc_vanilla   38.102304   0.000000e+00   5.710681   \n",
      "2   taylor_nograd    hmc_vanilla   33.117504  8.319279e-241   7.058496   \n",
      "\n",
      "      p(TV_A<B)  \n",
      "0  9.996361e-01  \n",
      "1  5.626258e-09  \n",
      "2  8.415703e-13  , 16:             alg_A          alg_B  z(ESS_A>B)     p(ESS_A>B)  z(TV_A<B)  \\\n",
      "0  lanczos_nograd  taylor_nograd   -6.761085   1.000000e+00  -4.391727   \n",
      "1  lanczos_nograd    hmc_vanilla   11.070375   8.733402e-29   6.490602   \n",
      "2   taylor_nograd    hmc_vanilla   29.538362  4.632748e-192   8.792426   \n",
      "\n",
      "      p(TV_A<B)  \n",
      "0  9.999944e-01  \n",
      "1  4.274698e-11  \n",
      "2  7.318213e-19  , 32:             alg_A          alg_B  z(ESS_A>B)     p(ESS_A>B)  z(TV_A<B)  \\\n",
      "0  lanczos_nograd  taylor_nograd   -5.355440   1.000000e+00  -2.684208   \n",
      "1  lanczos_nograd    hmc_vanilla   10.887862   6.584807e-28   6.620221   \n",
      "2   taylor_nograd    hmc_vanilla   23.843938  5.852200e-126   7.953028   \n",
      "\n",
      "      p(TV_A<B)  \n",
      "0  9.963649e-01  \n",
      "1  1.793310e-11  \n",
      "2  9.100369e-16  , 64:             alg_A          alg_B  z(ESS_A>B)     p(ESS_A>B)  z(TV_A<B)  \\\n",
      "0  lanczos_nograd  taylor_nograd   -5.129835   9.999999e-01  -3.358624   \n",
      "1  lanczos_nograd    hmc_vanilla   18.690761   2.943368e-78   5.802255   \n",
      "2   taylor_nograd    hmc_vanilla   23.728438  9.174009e-125   8.042913   \n",
      "\n",
      "      p(TV_A<B)  \n",
      "0  9.996083e-01  \n",
      "1  3.271453e-09  \n",
      "2  4.386379e-16  }\n"
     ]
    },
    {
     "data": {
      "application/vnd.jupyter.widget-view+json": {
       "model_id": "1b638d653a464c27a55c7f7977b23b2c",
       "version_major": 2,
       "version_minor": 0
      },
      "text/plain": [
       "alg:   0%|          | 0/3 [00:00<?, ?it/s]"
      ]
     },
     "metadata": {},
     "output_type": "display_data"
    },
    {
     "name": "stdout",
     "output_type": "stream",
     "text": [
      "\n",
      "dim=128, dist=illcond_gaussian\n",
      "                 hmc_vanilla  taylor_nograd  lanczos_nograd\n",
      "ess_mean           0.338524       0.376872        0.367205\n",
      "ess_conf_sigma     0.000770       0.001595        0.001550\n",
      "tv_mean            0.168832       0.065565        0.091500\n",
      "tv_conf_sigma      0.013884       0.004793        0.007281\n",
      "runtime          195.880845     308.904916      334.946985\n",
      "chains_kept       30.000000      30.000000       30.000000\n",
      "{8:             alg_A          alg_B  z(ESS_A>B)     p(ESS_A>B)  z(TV_A<B)  \\\n",
      "0  lanczos_nograd  taylor_nograd    1.149193   1.252383e-01  -3.378921   \n",
      "1  lanczos_nograd    hmc_vanilla   38.102304   0.000000e+00   5.710681   \n",
      "2   taylor_nograd    hmc_vanilla   33.117504  8.319279e-241   7.058496   \n",
      "\n",
      "      p(TV_A<B)  \n",
      "0  9.996361e-01  \n",
      "1  5.626258e-09  \n",
      "2  8.415703e-13  , 16:             alg_A          alg_B  z(ESS_A>B)     p(ESS_A>B)  z(TV_A<B)  \\\n",
      "0  lanczos_nograd  taylor_nograd   -6.761085   1.000000e+00  -4.391727   \n",
      "1  lanczos_nograd    hmc_vanilla   11.070375   8.733402e-29   6.490602   \n",
      "2   taylor_nograd    hmc_vanilla   29.538362  4.632748e-192   8.792426   \n",
      "\n",
      "      p(TV_A<B)  \n",
      "0  9.999944e-01  \n",
      "1  4.274698e-11  \n",
      "2  7.318213e-19  , 32:             alg_A          alg_B  z(ESS_A>B)     p(ESS_A>B)  z(TV_A<B)  \\\n",
      "0  lanczos_nograd  taylor_nograd   -5.355440   1.000000e+00  -2.684208   \n",
      "1  lanczos_nograd    hmc_vanilla   10.887862   6.584807e-28   6.620221   \n",
      "2   taylor_nograd    hmc_vanilla   23.843938  5.852200e-126   7.953028   \n",
      "\n",
      "      p(TV_A<B)  \n",
      "0  9.963649e-01  \n",
      "1  1.793310e-11  \n",
      "2  9.100369e-16  , 64:             alg_A          alg_B  z(ESS_A>B)     p(ESS_A>B)  z(TV_A<B)  \\\n",
      "0  lanczos_nograd  taylor_nograd   -5.129835   9.999999e-01  -3.358624   \n",
      "1  lanczos_nograd    hmc_vanilla   18.690761   2.943368e-78   5.802255   \n",
      "2   taylor_nograd    hmc_vanilla   23.728438  9.174009e-125   8.042913   \n",
      "\n",
      "      p(TV_A<B)  \n",
      "0  9.996083e-01  \n",
      "1  3.271453e-09  \n",
      "2  4.386379e-16  , 128:             alg_A          alg_B  z(ESS_A>B)     p(ESS_A>B)  z(TV_A<B)  \\\n",
      "0  lanczos_nograd  taylor_nograd   -4.346147   9.999931e-01  -2.975205   \n",
      "1  lanczos_nograd    hmc_vanilla   16.570006   5.740729e-62   4.932600   \n",
      "2   taylor_nograd    hmc_vanilla   21.656340  2.648402e-104   7.030474   \n",
      "\n",
      "      p(TV_A<B)  \n",
      "0  9.985360e-01  \n",
      "1  4.057117e-07  \n",
      "2  1.029164e-12  }\n"
     ]
    },
    {
     "data": {
      "application/vnd.jupyter.widget-view+json": {
       "model_id": "6e50e5c2b1c2498696f4a7411c9f0de6",
       "version_major": 2,
       "version_minor": 0
      },
      "text/plain": [
       "alg:   0%|          | 0/3 [00:00<?, ?it/s]"
      ]
     },
     "metadata": {},
     "output_type": "display_data"
    },
    {
     "name": "stdout",
     "output_type": "stream",
     "text": [
      "\n",
      "dim=256, dist=illcond_gaussian\n",
      "                 hmc_vanilla  taylor_nograd  lanczos_nograd\n",
      "ess_mean           0.319329       0.355593        0.351982\n",
      "ess_conf_sigma     0.000938       0.001194        0.001472\n",
      "tv_mean            0.187157       0.082949        0.122807\n",
      "tv_conf_sigma      0.014135       0.006914        0.009799\n",
      "runtime          245.681274     385.999400      416.034238\n",
      "chains_kept       30.000000      30.000000       30.000000\n",
      "{8:             alg_A          alg_B  z(ESS_A>B)     p(ESS_A>B)  z(TV_A<B)  \\\n",
      "0  lanczos_nograd  taylor_nograd    1.149193   1.252383e-01  -3.378921   \n",
      "1  lanczos_nograd    hmc_vanilla   38.102304   0.000000e+00   5.710681   \n",
      "2   taylor_nograd    hmc_vanilla   33.117504  8.319279e-241   7.058496   \n",
      "\n",
      "      p(TV_A<B)  \n",
      "0  9.996361e-01  \n",
      "1  5.626258e-09  \n",
      "2  8.415703e-13  , 16:             alg_A          alg_B  z(ESS_A>B)     p(ESS_A>B)  z(TV_A<B)  \\\n",
      "0  lanczos_nograd  taylor_nograd   -6.761085   1.000000e+00  -4.391727   \n",
      "1  lanczos_nograd    hmc_vanilla   11.070375   8.733402e-29   6.490602   \n",
      "2   taylor_nograd    hmc_vanilla   29.538362  4.632748e-192   8.792426   \n",
      "\n",
      "      p(TV_A<B)  \n",
      "0  9.999944e-01  \n",
      "1  4.274698e-11  \n",
      "2  7.318213e-19  , 32:             alg_A          alg_B  z(ESS_A>B)     p(ESS_A>B)  z(TV_A<B)  \\\n",
      "0  lanczos_nograd  taylor_nograd   -5.355440   1.000000e+00  -2.684208   \n",
      "1  lanczos_nograd    hmc_vanilla   10.887862   6.584807e-28   6.620221   \n",
      "2   taylor_nograd    hmc_vanilla   23.843938  5.852200e-126   7.953028   \n",
      "\n",
      "      p(TV_A<B)  \n",
      "0  9.963649e-01  \n",
      "1  1.793310e-11  \n",
      "2  9.100369e-16  , 64:             alg_A          alg_B  z(ESS_A>B)     p(ESS_A>B)  z(TV_A<B)  \\\n",
      "0  lanczos_nograd  taylor_nograd   -5.129835   9.999999e-01  -3.358624   \n",
      "1  lanczos_nograd    hmc_vanilla   18.690761   2.943368e-78   5.802255   \n",
      "2   taylor_nograd    hmc_vanilla   23.728438  9.174009e-125   8.042913   \n",
      "\n",
      "      p(TV_A<B)  \n",
      "0  9.996083e-01  \n",
      "1  3.271453e-09  \n",
      "2  4.386379e-16  , 128:             alg_A          alg_B  z(ESS_A>B)     p(ESS_A>B)  z(TV_A<B)  \\\n",
      "0  lanczos_nograd  taylor_nograd   -4.346147   9.999931e-01  -2.975205   \n",
      "1  lanczos_nograd    hmc_vanilla   16.570006   5.740729e-62   4.932600   \n",
      "2   taylor_nograd    hmc_vanilla   21.656340  2.648402e-104   7.030474   \n",
      "\n",
      "      p(TV_A<B)  \n",
      "0  9.985360e-01  \n",
      "1  4.057117e-07  \n",
      "2  1.029164e-12  , 256:             alg_A          alg_B  z(ESS_A>B)     p(ESS_A>B)  z(TV_A<B)  \\\n",
      "0  lanczos_nograd  taylor_nograd   -1.905331   9.716315e-01  -3.323424   \n",
      "1  lanczos_nograd    hmc_vanilla   18.708851   2.096577e-78   3.741357   \n",
      "2   taylor_nograd    hmc_vanilla   23.887708  2.055210e-126   6.622479   \n",
      "\n",
      "      p(TV_A<B)  \n",
      "0  9.995554e-01  \n",
      "1  9.151477e-05  \n",
      "2  1.766122e-11  }\n"
     ]
    }
   ],
   "source": [
    "chain_count = 30\n",
    "sample_count = 5000\n",
    "sample_iter_limit = 5000\n",
    "burn_in_iter_count = 5000\n",
    "step_size_burn_in_iter_count = 2500\n",
    "probe_period = 250000\n",
    "\n",
    "tv_threshold = 0.05\n",
    "tail_count_cap = 1000\n",
    "# stopping_rule = TVStop(threshold=tv_threshold, density_probe_count=1000,\n",
    "#                        projection_count=25, tail_count_cap=tail_count_cap)\n",
    "\n",
    "stopping_rule = NoStop(\n",
    "    density_probe_count=500,\n",
    "    projection_count=25,\n",
    "    tail_count_cap=tail_count_cap,\n",
    ")\n",
    "\n",
    "\n",
    "dist_names = [\n",
    "    # \"toeplitz_gm\",\n",
    "    # \"toeplitz_gaussian\",\n",
    "    \"funnel\",\n",
    "    \"random_gm\",\n",
    "    \"illcond_gaussian\",\n",
    "    #\"banana\",\n",
    "]\n",
    "\n",
    "dimensions = [8, 16, 32, 64, 128, 256]\n",
    "log = []\n",
    "\n",
    "for dist_name in dist_names:\n",
    "    algs = {\n",
    "        # \"mala\": mala.MALAVanilla(\n",
    "        #     pipeline=None,\n",
    "        #     name=\"MALA\",\n",
    "        #     sigma_burn_in_params=hparams[\"mala\"][\"common\"].copy(),\n",
    "        #     sigma_burn_in_iter_count=burn_in_iter_count + step_size_burn_in_iter_count,\n",
    "        #     sample_iter_count=sample_iter_limit,\n",
    "        #     stopping_rule=stopping_rule,\n",
    "        #     probe_period=probe_period,\n",
    "        # ),\n",
    "        # \"fisher_mala\": fishermala.FisherMALAVanilla(\n",
    "        #     pipeline=None,\n",
    "        #     name=\"FisherMALA\",\n",
    "        #     sigma_burn_in_iter_count=step_size_burn_in_iter_count,\n",
    "        #     #common_params=hparams[\"fisher_mala\"][\"common\"].copy(),\n",
    "        #     #fixed_params=hparams[\"fisher_mala\"][\"fixed\"],\n",
    "        #     prec_burn_in_iter_count=burn_in_iter_count,\n",
    "        #     sample_iter_count=sample_iter_limit,\n",
    "        #     stopping_rule=stopping_rule,\n",
    "        #     probe_period=probe_period,\n",
    "        # ),\n",
    "        \"hmc_vanilla\": hmc.HMCVanilla(\n",
    "            pipeline=None,\n",
    "            name=\"HMCVanilla\",\n",
    "            common_params=hparams[\"hmc_vanilla\"][\"common\"].copy(),\n",
    "            fixed_params=hparams[\"hmc_vanilla\"][\"fixed\"],\n",
    "            step_size_burn_in_iter_count=step_size_burn_in_iter_count,\n",
    "            sample_iter_count=sample_iter_limit,\n",
    "            burn_in_iter_count=burn_in_iter_count,\n",
    "            stopping_rule=stopping_rule,\n",
    "            probe_period=probe_period,\n",
    "            mask_adapt_step_size_required=[True, False, True],\n",
    "        ),\n",
    "        \"taylor_nograd\": hmcadaptive.HMCAdaptive(\n",
    "            pipeline=None,\n",
    "            name=\"HMCAdaptiveHutchTaylorNoGrad\",\n",
    "            common_params=hparams[\"taylor_nograd\"][\"common\"].copy(),\n",
    "            fixed_params=hparams[\"taylor_nograd\"][\"fixed\"],\n",
    "            step_size_burn_in_iter_count=step_size_burn_in_iter_count,\n",
    "            sample_iter_count=sample_iter_limit,\n",
    "            burn_in_iter_count=burn_in_iter_count,\n",
    "            stopping_rule=stopping_rule,\n",
    "            probe_period=probe_period,\n",
    "            mask_adapt_step_size_required=[True, False, True],\n",
    "        ),\n",
    "        \"lanczos_nograd\": hmcadaptive.HMCAdaptive(\n",
    "            pipeline=None,\n",
    "            name=\"HMCAdaptiveHutchLanczosNoGrad\",\n",
    "            common_params=hparams[\"lanczos_nograd\"][\"common\"].copy(),\n",
    "            fixed_params=hparams[\"lanczos_nograd\"][\"fixed\"],\n",
    "            step_size_burn_in_iter_count=step_size_burn_in_iter_count,\n",
    "            sample_iter_count=sample_iter_limit,\n",
    "            burn_in_iter_count=burn_in_iter_count,\n",
    "            stopping_rule=stopping_rule,\n",
    "            probe_period=probe_period,\n",
    "            mask_adapt_step_size_required=[True, False, True],\n",
    "        ),\n",
    "        # \"hmcadaptive_hutch_taylor\": hmcadaptive.HMCAdaptive(\n",
    "        #     pipeline=None,\n",
    "        #     name=\"HMCAdaptiveHutchTaylor\",\n",
    "        #     common_params=hparams[\"hmcadaptive_hutch_taylor\"][\"common\"].copy(),\n",
    "        #     fixed_params=hparams[\"hmcadaptive_hutch_taylor\"][\"fixed\"],\n",
    "        #     step_size_burn_in_iter_count=step_size_burn_in_iter_count,\n",
    "        #     sample_iter_count=sample_iter_limit,\n",
    "        #     burn_in_iter_count=burn_in_iter_count,\n",
    "        #     stopping_rule=stopping_rule,\n",
    "        #     probe_period=probe_period,\n",
    "        # ),\n",
    "        # \"hmcadaptive_fullent\": hmcadaptive.HMCAdaptive(\n",
    "        #     pipeline=None,\n",
    "        #     name=\"HMCAdaptiveFullEnt\",\n",
    "        #     params=hparams[\"hmcadaptive_fullent\"].copy(),\n",
    "        #     step_size_burn_in_iter_count=step_size_burn_in_iter_count,\n",
    "        #     sample_iter_count=sample_iter_limit,\n",
    "        #     burn_in_iter_count=burn_in_iter_count,\n",
    "        #     stopping_rule=stopping_rule,\n",
    "        #     probe_period=probe_period,\n",
    "        # ),\n",
    "        # \"hmcadaptive_noent\": hmcadaptive.HMCAdaptive(\n",
    "        #     pipeline=None,\n",
    "        #     name=\"HMCAdaptiveNoEnt\",\n",
    "        #     params=hparams[\"hmcadaptive_noent\"].copy(),\n",
    "        #     step_size_burn_in_iter_count=step_size_burn_in_iter_count,\n",
    "        #     sample_iter_count=sample_iter_limit,\n",
    "        #     burn_in_iter_count=burn_in_iter_count,\n",
    "        #     stopping_rule=stopping_rule,\n",
    "        #     probe_period=probe_period,\n",
    "        # ),\n",
    "    }\n",
    "    run_experiment(dist_name, log=log)"
   ]
  },
  {
   "cell_type": "code",
   "execution_count": 13,
   "id": "fc3df7c4-32ba-4573-a4c7-973049bbd666",
   "metadata": {},
   "outputs": [],
   "source": [
    "import cloudpickle"
   ]
  },
  {
   "cell_type": "code",
   "execution_count": 14,
   "id": "7158dea3-1cd9-4fb7-a222-2fc525358089",
   "metadata": {},
   "outputs": [],
   "source": [
    "# with open(\"exp_3.pkl\", \"wb\") as f:\n",
    "#     cloudpickle.dump(log, f)"
   ]
  },
  {
   "cell_type": "code",
   "execution_count": 15,
   "id": "b9d34943-f01a-47a7-a569-467f1275fb9a",
   "metadata": {},
   "outputs": [
    {
     "data": {
      "text/plain": [
       "Text(0.5, 1.0, 'taylor_nograd')"
      ]
     },
     "execution_count": 15,
     "metadata": {},
     "output_type": "execute_result"
    },
    {
     "data": {
      "image/png": "[encoded data removed]",
      "text/plain": [
       "<Figure size 640x480 with 1 Axes>"
      ]
     },
     "metadata": {},
     "output_type": "display_data"
    }
   ],
   "source": [
    "plt.plot(\n",
    "    moving_average(\n",
    "        algs[\"taylor_nograd\"].pipeline.sample_blocks[-1].iteration.cache.grad_norm\n",
    "    ),\n",
    ")\n",
    "plt.title(\"taylor_nograd\")"
   ]
  },
  {
   "cell_type": "code",
   "execution_count": 16,
   "id": "e2a11194-e43d-45f7-8f66-5018da3e14d8",
   "metadata": {},
   "outputs": [
    {
     "data": {
      "text/plain": [
       "Text(0.5, 1.0, 'lanczos_nograd')"
      ]
     },
     "execution_count": 16,
     "metadata": {},
     "output_type": "execute_result"
    },
    {
     "data": {
      "image/png": "[encoded data removed]",
      "text/plain": [
       "<Figure size 640x480 with 1 Axes>"
      ]
     },
     "metadata": {},
     "output_type": "display_data"
    }
   ],
   "source": [
    "plt.plot(\n",
    "    moving_average(\n",
    "        algs[\"lanczos_nograd\"].pipeline.sample_blocks[-1].iteration.cache.grad_norm\n",
    "    ),\n",
    ")\n",
    "plt.title(\"lanczos_nograd\")"
   ]
  },
  {
   "cell_type": "code",
   "execution_count": 19,
   "id": "353af9d1-705c-49fb-8f4e-9d8b2821cb38",
   "metadata": {},
   "outputs": [
    {
     "name": "stdout",
     "output_type": "stream",
     "text": [
      "\n",
      "dim=8, dist=funnel\n",
      "                 hmc_vanilla  taylor_nograd  lanczos_nograd\n",
      "ess_mean           0.342284       0.320596        0.416649\n",
      "ess_conf_sigma     0.029175       0.028133        0.039440\n",
      "tv_mean            0.085239       0.069880        0.074748\n",
      "tv_conf_sigma      0.004777       0.004413        0.006019\n",
      "runtime          148.651990     226.331241      245.359711\n",
      "chains_kept       30.000000      30.000000       30.000000\n",
      "\n",
      "dim=16, dist=funnel\n",
      "                 hmc_vanilla  taylor_nograd  lanczos_nograd\n",
      "ess_mean           0.455800       0.349065        0.374049\n",
      "ess_conf_sigma     0.032762       0.030311        0.041354\n",
      "tv_mean            0.068217       0.074943        0.073221\n",
      "tv_conf_sigma      0.003269       0.005410        0.004272\n",
      "runtime          142.333083     224.879872      247.175021\n",
      "chains_kept       30.000000      30.000000       30.000000\n",
      "\n",
      "dim=32, dist=funnel\n",
      "                 hmc_vanilla  taylor_nograd  lanczos_nograd\n",
      "ess_mean           0.398348       0.326946        0.433709\n",
      "ess_conf_sigma     0.040611       0.034397        0.029327\n",
      "tv_mean            0.080407       0.075956        0.079885\n",
      "tv_conf_sigma      0.004427       0.005160        0.005695\n",
      "runtime          157.944978     239.938679      264.512402\n",
      "chains_kept       30.000000      30.000000       30.000000\n",
      "\n",
      "dim=64, dist=funnel\n",
      "                 hmc_vanilla  taylor_nograd  lanczos_nograd\n",
      "ess_mean           0.378383       0.335944        0.335208\n",
      "ess_conf_sigma     0.034956       0.034759        0.032524\n",
      "tv_mean            0.091222       0.089048        0.089302\n",
      "tv_conf_sigma      0.006199       0.009070        0.008076\n",
      "runtime          168.283647     256.097755      281.131919\n",
      "chains_kept       30.000000      30.000000       30.000000\n",
      "\n",
      "dim=128, dist=funnel\n",
      "                 hmc_vanilla  taylor_nograd  lanczos_nograd\n",
      "ess_mean           0.323472       0.330443        0.366803\n",
      "ess_conf_sigma     0.032855       0.028817        0.029979\n",
      "tv_mean            0.119390       0.125392        0.118922\n",
      "tv_conf_sigma      0.011790       0.009824        0.013984\n",
      "runtime          183.911039     277.930945      307.366570\n",
      "chains_kept       30.000000      30.000000       30.000000\n",
      "\n",
      "dim=256, dist=funnel\n",
      "                 hmc_vanilla  taylor_nograd  lanczos_nograd\n",
      "ess_mean           0.367077       0.383353        0.399913\n",
      "ess_conf_sigma     0.040350       0.027963        0.029555\n",
      "tv_mean            0.191970       0.183459        0.166396\n",
      "tv_conf_sigma      0.023106       0.013660        0.017180\n",
      "runtime          211.455676     312.311889      346.656656\n",
      "chains_kept       30.000000      30.000000       30.000000\n",
      "\n",
      "dim=8, dist=random_gm\n",
      "                 hmc_vanilla  taylor_nograd  lanczos_nograd\n",
      "ess_mean           0.562775       0.295242        0.528651\n",
      "ess_conf_sigma     0.001804       0.002269        0.003916\n",
      "tv_mean            0.010925       0.011575        0.009608\n",
      "tv_conf_sigma      0.000884       0.001007        0.000790\n",
      "runtime          247.931967     388.114305      421.429769\n",
      "chains_kept       30.000000      30.000000       30.000000\n",
      "\n",
      "dim=16, dist=random_gm\n",
      "                 hmc_vanilla  taylor_nograd  lanczos_nograd\n",
      "ess_mean           0.812024       0.508399        0.817327\n",
      "ess_conf_sigma     0.001691       0.001302        0.002280\n",
      "tv_mean            0.008902       0.010097        0.009315\n",
      "tv_conf_sigma      0.000662       0.000859        0.000766\n",
      "runtime          262.829723     413.457613      451.210301\n",
      "chains_kept       30.000000      30.000000       30.000000\n",
      "\n",
      "dim=32, dist=random_gm\n",
      "                 hmc_vanilla  taylor_nograd  lanczos_nograd\n",
      "ess_mean           0.788041       0.721297        0.771152\n",
      "ess_conf_sigma     0.001413       0.001754        0.001267\n",
      "tv_mean            0.008528       0.008060        0.008185\n",
      "tv_conf_sigma      0.000690       0.000616        0.000645\n",
      "runtime          310.418944     490.320657      535.053814\n",
      "chains_kept       30.000000      30.000000       30.000000\n",
      "\n",
      "dim=64, dist=random_gm\n",
      "                 hmc_vanilla  taylor_nograd  lanczos_nograd\n",
      "ess_mean           0.532887       0.347447        0.665728\n",
      "ess_conf_sigma     0.001744       0.001286        0.003029\n",
      "tv_mean            0.009678       0.011099        0.010033\n",
      "tv_conf_sigma      0.000773       0.001017        0.000859\n",
      "runtime          435.427167     676.204516      736.954701\n",
      "chains_kept       30.000000      30.000000       30.000000\n",
      "\n",
      "dim=128, dist=random_gm\n",
      "                 hmc_vanilla  taylor_nograd  lanczos_nograd\n",
      "ess_mean           0.047254       0.032252        0.051957\n",
      "ess_conf_sigma     0.000993       0.000544        0.001201\n",
      "tv_mean            0.036950       0.043255        0.035949\n",
      "tv_conf_sigma      0.004542       0.005131        0.004496\n",
      "runtime          671.350251    1045.142060     1132.104383\n",
      "chains_kept       30.000000      30.000000       30.000000\n",
      "\n",
      "dim=256, dist=random_gm\n",
      "                 hmc_vanilla  taylor_nograd  lanczos_nograd\n",
      "ess_mean           0.272143       0.091238        0.443208\n",
      "ess_conf_sigma     0.007646       0.004056        0.012626\n",
      "tv_mean            0.108980       0.114160        0.123726\n",
      "tv_conf_sigma      0.013148       0.014889        0.014408\n",
      "runtime         1492.207823    2292.576513     2478.316182\n",
      "chains_kept       30.000000      30.000000       30.000000\n",
      "\n",
      "dim=8, dist=illcond_gaussian\n",
      "                 hmc_vanilla  taylor_nograd  lanczos_nograd\n",
      "ess_mean           0.350135       0.514388        0.521415\n",
      "ess_conf_sigma     0.001926       0.004570        0.004062\n",
      "tv_mean            0.145343       0.038965        0.056203\n",
      "tv_conf_sigma      0.014912       0.002181        0.004612\n",
      "runtime          160.795203     249.143797      267.029423\n",
      "chains_kept       30.000000      30.000000       30.000000\n",
      "\n",
      "dim=16, dist=illcond_gaussian\n",
      "                 hmc_vanilla  taylor_nograd  lanczos_nograd\n",
      "ess_mean           0.417615       0.524907        0.480911\n",
      "ess_conf_sigma     0.001331       0.003380        0.005561\n",
      "tv_mean            0.151762       0.038680        0.063363\n",
      "tv_conf_sigma      0.012636       0.002399        0.005083\n",
      "runtime          163.313777     257.407374      275.173808\n",
      "chains_kept       30.000000      30.000000       30.000000\n",
      "\n",
      "dim=32, dist=illcond_gaussian\n",
      "                 hmc_vanilla  taylor_nograd  lanczos_nograd\n",
      "ess_mean           0.379557       0.449792        0.423854\n",
      "ess_conf_sigma     0.000941       0.002791        0.003958\n",
      "tv_mean            0.141176       0.044347        0.058078\n",
      "tv_conf_sigma      0.011824       0.002903        0.004213\n",
      "runtime          167.283952     263.941044      282.815173\n",
      "chains_kept       30.000000      30.000000       30.000000\n",
      "\n",
      "dim=64, dist=illcond_gaussian\n",
      "                 hmc_vanilla  taylor_nograd  lanczos_nograd\n",
      "ess_mean           0.351355       0.408808        0.393097\n",
      "ess_conf_sigma     0.000857       0.002264        0.002062\n",
      "tv_mean            0.152558       0.053373        0.076068\n",
      "tv_conf_sigma      0.011836       0.003461        0.005804\n",
      "runtime          180.783695     282.252271      305.517098\n",
      "chains_kept       30.000000      30.000000       30.000000\n",
      "\n",
      "dim=128, dist=illcond_gaussian\n",
      "                 hmc_vanilla  taylor_nograd  lanczos_nograd\n",
      "ess_mean           0.338524       0.376872        0.367205\n",
      "ess_conf_sigma     0.000770       0.001595        0.001550\n",
      "tv_mean            0.168832       0.065565        0.091500\n",
      "tv_conf_sigma      0.013884       0.004793        0.007281\n",
      "runtime          195.880845     308.904916      334.946985\n",
      "chains_kept       30.000000      30.000000       30.000000\n",
      "\n",
      "dim=256, dist=illcond_gaussian\n",
      "                 hmc_vanilla  taylor_nograd  lanczos_nograd\n",
      "ess_mean           0.319329       0.355593        0.351982\n",
      "ess_conf_sigma     0.000938       0.001194        0.001472\n",
      "tv_mean            0.187157       0.082949        0.122807\n",
      "tv_conf_sigma      0.014135       0.006914        0.009799\n",
      "runtime          245.681274     385.999400      416.034238\n",
      "chains_kept       30.000000      30.000000       30.000000\n"
     ]
    }
   ],
   "source": [
    "print_log(log)"
   ]
  },
  {
   "cell_type": "code",
   "execution_count": 18,
   "id": "fd0840e1-3e3b-4409-861a-82ac043d7ced",
   "metadata": {},
   "outputs": [
    {
     "ename": "NameError",
     "evalue": "name 'dimension' is not defined",
     "output_type": "error",
     "traceback": [
      "\u001b[0;31m---------------------------------------------------------------------------\u001b[0m",
      "\u001b[0;31mNameError\u001b[0m                                 Traceback (most recent call last)",
      "Cell \u001b[0;32mIn[18], line 1\u001b[0m\n\u001b[0;32m----> 1\u001b[0m plt\u001b[38;5;241m.\u001b[39mplot(log[\u001b[38;5;241m0\u001b[39m][\u001b[38;5;124m\"\u001b[39m\u001b[38;5;124mhist_data\u001b[39m\u001b[38;5;124m\"\u001b[39m][\u001b[43mdimension\u001b[49m][alg][\u001b[38;5;124m\"\u001b[39m\u001b[38;5;124mcache\u001b[39m\u001b[38;5;124m\"\u001b[39m]\u001b[38;5;241m.\u001b[39mgrad_norm)\n",
      "\u001b[0;31mNameError\u001b[0m: name 'dimension' is not defined"
     ]
    }
   ],
   "source": [
    "plt.plot(log[0][\"hist_data\"][dimension][alg][\"cache\"].grad_norm)"
   ]
  },
  {
   "cell_type": "code",
   "execution_count": null,
   "id": "08799256-dbc2-42d2-8d94-01366c95c152",
   "metadata": {},
   "outputs": [],
   "source": [
    "\n",
    "plt.figure(figsize=(10, 6))\n",
    "window = 100  # adjust as needed\n",
    "\n",
    "for dimension in dimensions:\n",
    "    for alg in algs:\n",
    "        raw = log[0][\"hist_data\"][dimension][alg][\"cache\"].accept_prob_hist\n",
    "        smoothed = moving_average(np.array(raw), window_size=window)\n",
    "        label = f\"{alg} (dim={dimension})\"\n",
    "        plt.plot(smoothed, label=label, alpha=0.8)\n",
    "\n",
    "plt.xlabel(\"Iteration\")\n",
    "plt.ylabel(\"Smoothed Acceptance Probability\")\n",
    "plt.title(f\"Moving Average (window={window}) of Acceptance Probabilities\")\n",
    "plt.ylim(0, 1)\n",
    "plt.grid(True)\n",
    "plt.legend()\n",
    "plt.tight_layout()\n",
    "plt.show()\n"
   ]
  },
  {
   "cell_type": "code",
   "execution_count": null,
   "id": "b379a960-e1de-453b-b9a1-ab67873e6a94",
   "metadata": {},
   "outputs": [],
   "source": [
    "def moving_average(x, window_size=10):\n",
    "    return np.convolve(x, np.ones(window_size)/window_size, mode='valid')\n",
    "\n",
    "plt.figure(figsize=(10, 6))\n",
    "window = 100  # adjust as needed\n",
    "\n",
    "for dimension in dimensions:\n",
    "    for alg in algs:\n",
    "        raw = log[0][\"hist_data\"][dimension][alg][\"cache\"].accept_prob_hist\n",
    "        smoothed = moving_average(np.array(raw), window_size=window)\n",
    "        label = f\"{alg} (dim={dimension})\"\n",
    "        plt.plot(smoothed, label=label, alpha=0.8)\n",
    "\n",
    "plt.xlabel(\"Iteration\")\n",
    "plt.ylabel(\"Smoothed Acceptance Probability\")\n",
    "plt.title(f\"Moving Average (window={window}) of Acceptance Probabilities\")\n",
    "plt.ylim(0, 1)\n",
    "plt.grid(True)\n",
    "plt.legend()\n",
    "plt.tight_layout()\n",
    "plt.show()\n"
   ]
  },
  {
   "cell_type": "code",
   "execution_count": null,
   "id": "70c8c259-5acd-4800-a9c3-ddaca105a190",
   "metadata": {},
   "outputs": [],
   "source": [
    "algs[\"hmc_vanilla\"].pipeline.sample_blocks[-1].iteration.params.lf_step_size"
   ]
  },
  {
   "cell_type": "code",
   "execution_count": null,
   "id": "be119006-2a1b-4333-b4fa-cdf43b4fb1cd",
   "metadata": {},
   "outputs": [],
   "source": [
    "algs[\"hmc_vanilla\"].pipeline.sample_blocks[-1]"
   ]
  },
  {
   "cell_type": "code",
   "execution_count": null,
   "id": "b1d2a2b3-392b-4160-9ce1-f4e19f08fbd5",
   "metadata": {},
   "outputs": [],
   "source": [
    "BenchmarkUtils.create_plot(\n",
    "    algs[\"mala\"].pipeline.sample_blocks[-1].iteration.cache.samples[:, [0], :],\n",
    "    algs[\"mala\"].pipeline.sample_blocks[-1].iteration.cache.true_samples\n",
    ")"
   ]
  },
  {
   "cell_type": "code",
   "execution_count": null,
   "id": "23f62dbf-ad9b-453a-bef7-b1681eb00ca3",
   "metadata": {},
   "outputs": [],
   "source": [
    "BenchmarkUtils.create_plot(\n",
    "    algs[\"fisher_mala\"].pipeline.sample_blocks[-1].iteration.cache.samples[:, [0], :],\n",
    "    algs[\"fisher_mala\"].pipeline.sample_blocks[-1].iteration.cache.true_samples\n",
    ")"
   ]
  },
  {
   "cell_type": "code",
   "execution_count": null,
   "id": "c8651ec8-1a6e-4473-9a22-1ca81eb0bebb",
   "metadata": {},
   "outputs": [],
   "source": [
    "BenchmarkUtils.create_plot(\n",
    "    log[0][\"hist_data\"][4][\"fisher_mala\"][\"cache\"].samples[:, :, :],\n",
    "    log[0][\"hist_data\"][4][\"fisher_mala\"][\"cache\"].true_samples,\n",
    ")"
   ]
  },
  {
   "cell_type": "code",
   "execution_count": null,
   "id": "fca6b74a-b593-4834-a607-f2524453fabc",
   "metadata": {},
   "outputs": [],
   "source": [
    "BenchmarkUtils.create_plot(\n",
    "    log[0][\"hist_data\"][256][\"mala\"][\"cache\"].samples[:, [2], :],\n",
    "    log[0][\"hist_data\"][256][\"mala\"][\"cache\"].true_samples,\n",
    ")"
   ]
  },
  {
   "cell_type": "code",
   "execution_count": null,
   "id": "4610b9ff-031f-460a-bd6f-31a2c3386680",
   "metadata": {},
   "outputs": [],
   "source": [
    "print(f\"{' ' * 30}HMC\")\n",
    "BenchmarkUtils.create_plot(\n",
    "    log[0][\"hist_data\"][256][\"hmc_vanilla\"][\"cache\"].samples[:, :, :],\n",
    "    log[0][\"hist_data\"][256][\"hmc_vanilla\"][\"cache\"].true_samples,\n",
    ")"
   ]
  },
  {
   "cell_type": "code",
   "execution_count": null,
   "id": "f2faa5c9-f3e8-4b8c-9996-ee4cc68cf2f8",
   "metadata": {},
   "outputs": [],
   "source": [
    "print(f\"{' ' * 30}HMC Taylor\")\n",
    "BenchmarkUtils.create_plot(\n",
    "    log[0][\"hist_data\"][256][\"taylor_nograd\"][\"cache\"].samples[:, :, :],\n",
    "    log[0][\"hist_data\"][256][\"taylor_nograd\"][\"cache\"].true_samples,\n",
    ")"
   ]
  },
  {
   "cell_type": "code",
   "execution_count": null,
   "id": "bbd6a731-27d5-4cff-acab-df9daad8a66a",
   "metadata": {},
   "outputs": [],
   "source": [
    "print(f\"{' ' * 30}HMC Lanczos\")\n",
    "BenchmarkUtils.create_plot(\n",
    "    log[0][\"hist_data\"][256][\"lanczos_nograd\"][\"cache\"].samples[:, :, :],\n",
    "    log[0][\"hist_data\"][256][\"lanczos_nograd\"][\"cache\"].true_samples,\n",
    ")"
   ]
  },
  {
   "cell_type": "code",
   "execution_count": null,
   "id": "2dc56102-6c10-40a6-be19-5dfa810e9762",
   "metadata": {},
   "outputs": [],
   "source": [
    "BenchmarkUtils.create_plot(\n",
    "    algs[\"hmc_vanilla\"].pipeline.sample_blocks[-1].iteration.cache.samples[:, [2], :],\n",
    "    algs[\"hmc_vanilla\"].pipeline.sample_blocks[-1].iteration.cache.true_samples\n",
    ")"
   ]
  },
  {
   "cell_type": "code",
   "execution_count": null,
   "id": "4f6e6229-2657-4ffa-b15f-c568464f3564",
   "metadata": {},
   "outputs": [],
   "source": []
  },
  {
   "cell_type": "code",
   "execution_count": null,
   "id": "fc3ce7c8-6afb-46d5-99ee-84298bee004c",
   "metadata": {},
   "outputs": [],
   "source": [
    "BenchmarkUtils.create_plot(\n",
    "    algs[\"hmc_vanilla\"].pipeline.sample_blocks[-1].iteration.cache.samples[:, [2], :],\n",
    "    algs[\"hmc_vanilla\"].pipeline.sample_blocks[-1].iteration.cache.true_samples\n",
    ")"
   ]
  },
  {
   "cell_type": "code",
   "execution_count": null,
   "id": "f139b701-ff5a-4d9c-99f2-693514a48d36",
   "metadata": {},
   "outputs": [],
   "source": []
  },
  {
   "cell_type": "code",
   "execution_count": null,
   "id": "492ce214-b3f8-4e01-b757-f220d46bad58",
   "metadata": {},
   "outputs": [],
   "source": []
  },
  {
   "cell_type": "code",
   "execution_count": null,
   "id": "197851c1-ef94-471b-8f88-1dfa5f7aa27e",
   "metadata": {},
   "outputs": [],
   "source": [
    "BenchmarkUtils.create_plot(\n",
    "    algs[\"hmcadaptive_hutch_taylor\"].pipeline.sample_blocks[0].iteration.cache.samples[:, [2], :],\n",
    "    algs[\"hmcadaptive_hutch_taylor\"].pipeline.sample_blocks[-1].iteration.cache.true_samples\n",
    ")"
   ]
  },
  {
   "cell_type": "code",
   "execution_count": null,
   "id": "dd3a08aa-531b-4e92-967d-15941c853823",
   "metadata": {},
   "outputs": [],
   "source": [
    "BenchmarkUtils.create_plot(\n",
    "    algs[\"hmcadaptive_hutch_lanczos\"].pipeline.sample_blocks[-1].iteration.cache.samples[:, [0], :],\n",
    "    algs[\"hmcadaptive_hutch_lanczos\"].pipeline.sample_blocks[-1].iteration.cache.true_samples\n",
    ")"
   ]
  },
  {
   "cell_type": "code",
   "execution_count": null,
   "id": "c41a4f4b-a23c-44f3-a36e-86c9db69379d",
   "metadata": {},
   "outputs": [],
   "source": [
    "BenchmarkUtils.create_plot(\n",
    "    algs[\"hmcadaptive_fullent\"].pipeline.sample_blocks[-1].iteration.cache.samples[:, [1], :],\n",
    "    algs[\"hmcadaptive_fullent\"].pipeline.sample_blocks[-1].iteration.cache.true_samples\n",
    ")"
   ]
  },
  {
   "cell_type": "code",
   "execution_count": null,
   "id": "90e00839-8cf9-4eb4-a3d8-50f483508288",
   "metadata": {},
   "outputs": [],
   "source": []
  },
  {
   "cell_type": "code",
   "execution_count": null,
   "id": "cb166a5b-973b-4681-8a27-a8ab80279ede",
   "metadata": {},
   "outputs": [],
   "source": [
    "tv_threshold = 0.05"
   ]
  },
  {
   "cell_type": "code",
   "execution_count": null,
   "id": "35f27e81-e102-4496-9304-c72eb6dd1613",
   "metadata": {},
   "outputs": [],
   "source": [
    "pure_runtime"
   ]
  },
  {
   "cell_type": "code",
   "execution_count": null,
   "id": "55a62015-e364-4cca-a061-20e569039223",
   "metadata": {},
   "outputs": [],
   "source": [
    "runtime"
   ]
  },
  {
   "cell_type": "code",
   "execution_count": null,
   "id": "10129bb9-fa3b-450b-8a18-120fe2b82ee0",
   "metadata": {},
   "outputs": [],
   "source": [
    "fig, axes = plt.subplots(\n",
    "    nrows=len(dimensions),\n",
    "    ncols=2,\n",
    "    figsize=(13, 4 * len(dimensions),)\n",
    ")\n",
    "fig.suptitle(\n",
    "    f\"at most {tail_count_cap} last samples, burn-in={burn_in_iter_count}, \"\n",
    "    f\"chain_count={chain_count}, \"\n",
    "    f\"TV threshold={tv_threshold}\\n\" +\n",
    "    f\"mixture of {gaussian_count} gaussians with \"\n",
    "    \"random means and covariance matrices\"\n",
    ")\n",
    "\n",
    "for dim_ind in range(len(dimensions)):\n",
    "    for alg_ind, alg in enumerate(algs.keys()):\n",
    "\n",
    "        ticks_count = len(hist_data[dimensions[dim_ind]][alg][1])\n",
    "        xticks = probe_period * jnp.arange(1, ticks_count + 1)\n",
    "\n",
    "        axes[dim_ind, alg_ind].plot(\n",
    "            xticks,\n",
    "            [\n",
    "                entry[\"tv_mean\"]\n",
    "                for entry in hist_data[dimensions[dim_ind]][alg][1]\n",
    "            ],\n",
    "            label=\"TV mean\"\n",
    "        )\n",
    "        axes[dim_ind, alg_ind].fill_between(\n",
    "            xticks,\n",
    "            [\n",
    "                entry[\"tv_mean\"] - 2 * entry[\"tv_std\"]\n",
    "                for entry in hist_data[dimensions[dim_ind]][alg][1]\n",
    "            ],\n",
    "            [\n",
    "                entry[\"tv_mean\"] + 2 * entry[\"tv_std\"]\n",
    "                for entry in hist_data[dimensions[dim_ind]][alg][1]\n",
    "            ],\n",
    "            alpha=0.1,\n",
    "            label=\"95% CI\"\n",
    "        )\n",
    "        axes[dim_ind, alg_ind].axhline(tv_threshold, color=\"r\", linestyle=\"dashed\")\n",
    "        axes[dim_ind, alg_ind].set_title(f\"{alg}, dim={dimensions[dim_ind]}\")\n",
    "        if dim_ind + 1 == len(dimensions):\n",
    "            axes[dim_ind, alg_ind].set_xlabel(\"iteration\")\n",
    "        axes[dim_ind, alg_ind].set_ylabel(\"TV\")\n",
    "        axes[dim_ind, alg_ind].legend()"
   ]
  },
  {
   "cell_type": "code",
   "execution_count": null,
   "id": "8a6ff13a-0a74-4f14-b417-c53ca628ea95",
   "metadata": {},
   "outputs": [],
   "source": [
    "BenchmarkUtils.compute_metrics(\n",
    "    algs[\"mala\"].pipeline.sample_blocks[-1].iteration.cache.samples,\n",
    "    algs[\"mala\"].pipeline.sample_blocks[-1].iteration.cache.true_samples\n",
    ")"
   ]
  },
  {
   "cell_type": "code",
   "execution_count": null,
   "id": "f6cdc433-bb7d-458f-af21-1b3fef3cad21",
   "metadata": {},
   "outputs": [],
   "source": [
    "BenchmarkUtils.compute_metrics(\n",
    "    algs[\"fisher_mala\"].pipeline.sample_blocks[-1].iteration.cache.samples,\n",
    "    algs[\"fisher_mala\"].pipeline.sample_blocks[-1].iteration.cache.true_samples\n",
    ")"
   ]
  },
  {
   "cell_type": "code",
   "execution_count": null,
   "id": "67144eea-084e-426d-8bf5-c690cc8bf1a5",
   "metadata": {},
   "outputs": [],
   "source": [
    "BenchmarkUtils.compute_metrics(\n",
    "    algs[\"hmc_vanilla\"].pipeline.sample_blocks[-1].iteration.cache.samples,\n",
    "    algs[\"hmc_vanilla\"].pipeline.sample_blocks[-1].iteration.cache.true_samples\n",
    ")"
   ]
  },
  {
   "cell_type": "code",
   "execution_count": null,
   "id": "cb6b7cba-6c88-4f16-afcc-417223994b22",
   "metadata": {},
   "outputs": [],
   "source": [
    "BenchmarkUtils.compute_metrics(\n",
    "    algs[\"hmcadaptive_hutch\"].pipeline.sample_blocks[-1].iteration.cache.samples,\n",
    "    algs[\"hmcadaptive_hutch\"].pipeline.sample_blocks[-1].iteration.cache.true_samples\n",
    ")"
   ]
  },
  {
   "cell_type": "code",
   "execution_count": null,
   "id": "54d63ebd-e4e6-4c18-8485-1d0de06ce627",
   "metadata": {},
   "outputs": [],
   "source": [
    "algs[\"fisher_mala\"].pipeline.sample_blocks[-1].iteration.params.sigma_prec"
   ]
  },
  {
   "cell_type": "code",
   "execution_count": null,
   "id": "5a07a753-7276-41fe-bf1f-0dab34742f2b",
   "metadata": {},
   "outputs": [],
   "source": [
    "algs[\"lanczos_nograd\"].pipeline.sample_blocks[-1].iteration.common_params.entropy_weight.squeeze()"
   ]
  },
  {
   "cell_type": "code",
   "execution_count": null,
   "id": "979fb9fc-1b64-4f08-a550-a8eff9105245",
   "metadata": {},
   "outputs": [],
   "source": [
    "algs[\"hmcadaptive_hutch_taylor\"].pipeline.sample_blocks[-1].iteration.common_params.entropy_weight.squeeze()"
   ]
  },
  {
   "cell_type": "code",
   "execution_count": null,
   "id": "20d3fa6c-fcd9-4b93-a88e-467d4c0ebffe",
   "metadata": {},
   "outputs": [],
   "source": [
    "algs[\"taylor_nograd\"].pipeline.sample_blocks[-1].iteration.common_params.entropy_weight.squeeze()"
   ]
  },
  {
   "cell_type": "code",
   "execution_count": null,
   "id": "f5e4c85b-a287-4021-afc8-a13de41195bc",
   "metadata": {},
   "outputs": [],
   "source": [
    "algs[\"hmcadaptive_fullent\"].pipeline.sample_blocks[-1].iteration.params.entropy_weight.squeeze()"
   ]
  },
  {
   "cell_type": "code",
   "execution_count": null,
   "id": "78e93069-acf2-4466-a81a-c2eba9953ac7",
   "metadata": {},
   "outputs": [],
   "source": [
    "algs[\"hmcadaptive_hutch_taylor\"].pipeline.sample_blocks[-1].iteration.params.penalty_weight.squeeze()"
   ]
  },
  {
   "cell_type": "code",
   "execution_count": null,
   "id": "d15d77d0-799d-483c-99fb-71c92c349548",
   "metadata": {},
   "outputs": [],
   "source": [
    "prec = algs[\"fisher_mala\"].pipeline.sample_blocks[-1].iteration.params.prec[1].detach().numpy()\n",
    "minv = prec @ prec.T"
   ]
  },
  {
   "cell_type": "code",
   "execution_count": null,
   "id": "04277212-a134-44a0-8ae3-584376bcc2bd",
   "metadata": {},
   "outputs": [],
   "source": [
    "prec = algs[\"hmcadaptive_hutch_taylor\"].pipeline.sample_blocks[-1].iteration.cache.prec_params.make_prec()[1].detach().numpy()\n",
    "minv = prec @ prec.T"
   ]
  },
  {
   "cell_type": "code",
   "execution_count": null,
   "id": "ab3b0136-de75-44ff-90e1-b09b073f0063",
   "metadata": {},
   "outputs": [],
   "source": [
    "algs[\"hmcadaptive_hutch_lanczos\"].pipeline.sample_blocks[1].iteration.params.lf_step_size"
   ]
  },
  {
   "cell_type": "code",
   "execution_count": null,
   "id": "6406bbfe-722f-4ba2-9d71-e39a40138cb0",
   "metadata": {},
   "outputs": [],
   "source": [
    "algs[\"hmcadaptive_hutch_taylor\"].pipeline.sample_blocks[0].iteration.params.lf_step_size"
   ]
  },
  {
   "cell_type": "code",
   "execution_count": null,
   "id": "ee884514-7a7b-44bc-87b5-aec3ba5a6a59",
   "metadata": {},
   "outputs": [],
   "source": [
    "minv"
   ]
  },
  {
   "cell_type": "code",
   "execution_count": null,
   "id": "08631321-e51b-4fc5-b43d-15359b0bbd71",
   "metadata": {},
   "outputs": [],
   "source": [
    "prec = algs[\"taylor_nograd\"].pipeline.sample_blocks[-1].iteration.cache.prec_params.make_prec()[1].detach().numpy()\n",
    "minv = prec @ prec.T\n",
    "plt.imshow(minv)"
   ]
  },
  {
   "cell_type": "code",
   "execution_count": null,
   "id": "c284bea5-92fe-4d6a-8422-775428e9c499",
   "metadata": {},
   "outputs": [],
   "source": [
    "diff = minv - minv_l"
   ]
  },
  {
   "cell_type": "code",
   "execution_count": null,
   "id": "5bbb054f-ffc7-4d1e-b779-e020f55f31c2",
   "metadata": {},
   "outputs": [],
   "source": [
    "plt.hist(diff[range(len(diff)), range(len(diff))])"
   ]
  },
  {
   "cell_type": "code",
   "execution_count": null,
   "id": "82e60aaf-b26a-405f-8033-1cc4ab54f6f0",
   "metadata": {},
   "outputs": [],
   "source": [
    "prec = algs[\"hmcadaptive_hutch_taylor\"].pipeline.sample_blocks[-1].iteration.cache.prec_params.make_prec()[1].detach().numpy()\n",
    "minv = prec @ prec.T\n",
    "plt.imshow(minv)"
   ]
  },
  {
   "cell_type": "code",
   "execution_count": null,
   "id": "0a38cc5a-f94b-47bd-bf41-0410825617d3",
   "metadata": {},
   "outputs": [],
   "source": [
    "prec = algs[\"fisher_mala\"].pipeline.sample_blocks[-1].iteration.cache.prec[1].detach().numpy()\n",
    "minv_l = prec @ prec.T\n",
    "plt.imshow(minv_l)"
   ]
  },
  {
   "cell_type": "code",
   "execution_count": null,
   "id": "992cab78-60ec-4383-b78e-f0cd633958ab",
   "metadata": {},
   "outputs": [],
   "source": [
    "minv_l"
   ]
  },
  {
   "cell_type": "code",
   "execution_count": null,
   "id": "2ab51f09-9d9b-4ada-8560-3ab223d7d10b",
   "metadata": {},
   "outputs": [],
   "source": [
    "prec = algs[\"lanczos_nograd\"].pipeline.sample_blocks[-1].iteration.cache.prec_params.make_prec()[1].detach().numpy()\n",
    "minv_l = prec @ prec.T\n",
    "plt.imshow(minv_l)"
   ]
  },
  {
   "cell_type": "code",
   "execution_count": null,
   "id": "e5568224-c767-420e-8add-c733fd8d8fd8",
   "metadata": {},
   "outputs": [],
   "source": [
    "minv_l"
   ]
  },
  {
   "cell_type": "code",
   "execution_count": null,
   "id": "985b80a9-5232-4eed-a8c2-07218f2421c0",
   "metadata": {},
   "outputs": [],
   "source": [
    "prec = algs[\"hmcadaptive_fullent\"].pipeline.sample_blocks[-1].iteration.cache.prec[19].detach().numpy()\n",
    "minv = prec @ prec.T\n",
    "plt.imshow(minv)"
   ]
  },
  {
   "cell_type": "code",
   "execution_count": null,
   "id": "667ec0f3-d584-4f96-a6b0-30f5aadd815d",
   "metadata": {},
   "outputs": [],
   "source": [
    "minv"
   ]
  },
  {
   "cell_type": "code",
   "execution_count": null,
   "id": "8523c44e-17ac-47ad-aea1-105e2c258c95",
   "metadata": {},
   "outputs": [],
   "source": [
    "prec = algs[\"hmcadaptive_noent\"].pipeline.sample_blocks[-1].iteration.cache.prec[1].detach().numpy()\n",
    "minv = prec @ prec.T\n",
    "plt.imshow(minv)"
   ]
  },
  {
   "cell_type": "code",
   "execution_count": null,
   "id": "7587af9e-dda7-4cb9-a9fb-270ffadf3b3d",
   "metadata": {},
   "outputs": [],
   "source": [
    "BenchmarkUtils.compute_metrics(\n",
    "    algs[\"hmcadaptive_hutch\"].pipeline.sample_blocks[-1].iteration.cache.samples,\n",
    "    algs[\"hmcadaptive_hutch\"].pipeline.sample_blocks[-1].iteration.cache.true_samples,\n",
    ")"
   ]
  },
  {
   "cell_type": "code",
   "execution_count": null,
   "id": "05d39474-2286-4277-bdb0-7b0ec14b4e4f",
   "metadata": {},
   "outputs": [],
   "source": [
    "BenchmarkUtils.compute_metrics(\n",
    "    algs[\"hmcadaptive_hutch\"].pipeline.sample_blocks[-1].iteration.cache.samples,\n",
    "    algs[\"hmcadaptive_hutch\"].pipeline.sample_blocks[-1].iteration.cache.true_samples,\n",
    ")"
   ]
  },
  {
   "cell_type": "markdown",
   "id": "567fa5c1-48cc-4472-bde8-0538aae1cc17",
   "metadata": {},
   "source": [
    "### Reference"
   ]
  },
  {
   "cell_type": "code",
   "execution_count": null,
   "id": "f414f8fd-3fe3-4eef-aa49-4dfd95883327",
   "metadata": {},
   "outputs": [],
   "source": [
    "BenchmarkUtils.compute_metrics(\n",
    "    algs[\"fisher_mala\"].pipeline.sample_blocks[-1].iteration.cache.samples,\n",
    "    algs[\"fisher_mala\"].pipeline.sample_blocks[-1].iteration.cache.true_samples\n",
    ")"
   ]
  },
  {
   "cell_type": "code",
   "execution_count": null,
   "id": "44757f5e-3a5f-4c3f-b7b6-36c68f06dd9d",
   "metadata": {},
   "outputs": [],
   "source": [
    "BenchmarkUtils.compute_metrics(\n",
    "    algs[\"mala\"].pipeline.sample_blocks[-1].iteration.cache.samples,\n",
    "    algs[\"mala\"].pipeline.sample_blocks[-1].iteration.cache.true_samples\n",
    ")"
   ]
  },
  {
   "cell_type": "code",
   "execution_count": null,
   "id": "ea243954-183b-48d6-ac64-5d98320a1919",
   "metadata": {},
   "outputs": [],
   "source": []
  }
 ],
 "metadata": {
  "kernelspec": {
   "display_name": "Python 3 (ipykernel)",
   "language": "python",
   "name": "python3"
  },
  "language_info": {
   "codemirror_mode": {
    "name": "ipython",
    "version": 3
   },
   "file_extension": ".py",
   "mimetype": "text/x-python",
   "name": "python",
   "nbconvert_exporter": "python",
   "pygments_lexer": "ipython3",
   "version": "3.12.0"
  }
 },
 "nbformat": 4,
 "nbformat_minor": 5
}
