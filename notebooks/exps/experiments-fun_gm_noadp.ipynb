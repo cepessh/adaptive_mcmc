{
 "cells": [
  {
   "cell_type": "code",
   "execution_count": 1,
   "id": "ca26255f-94fa-4cca-aafa-7244110bb174",
   "metadata": {},
   "outputs": [
    {
     "name": "stderr",
     "output_type": "stream",
     "text": [
      "2025-05-24 01:27:19.662624: E external/local_xla/xla/stream_executor/cuda/cuda_fft.cc:477] Unable to register cuFFT factory: Attempting to register factory for plugin cuFFT when one has already been registered\n",
      "WARNING: All log messages before absl::InitializeLog() is called are written to STDERR\n",
      "E0000 00:00:1748039239.672943   28353 cuda_dnn.cc:8310] Unable to register cuDNN factory: Attempting to register factory for plugin cuDNN when one has already been registered\n",
      "E0000 00:00:1748039239.676085   28353 cuda_blas.cc:1418] Unable to register cuBLAS factory: Attempting to register factory for plugin cuBLAS when one has already been registered\n"
     ]
    }
   ],
   "source": [
    "from copy import deepcopy\n",
    "import tqdm.notebook\n",
    "\n",
    "import jax.numpy as jnp\n",
    "import matplotlib.pyplot as plt\n",
    "\n",
    "import numpy as np\n",
    "import pandas as pd\n",
    "import torch\n",
    "\n",
    "from adaptive_mcmc.distributions.distribution import (\n",
    "    GaussianMixture,\n",
    "    FunnelDistribution,\n",
    "    Gaussian,\n",
    "    BananaDistribution,\n",
    ")\n",
    "from adaptive_mcmc.samplers import (\n",
    "    base_sampler,\n",
    "    mala,\n",
    "    fishermala,\n",
    "    hmc,\n",
    "    hmcadaptive,\n",
    ")\n",
    "from adaptive_mcmc.samplers.stopping_rule import NoStop\n",
    "from adaptive_mcmc.tools.benchmark import BenchmarkUtils\n",
    "from adaptive_mcmc.tools.metrics import compute_ess, compute_emd\n",
    "\n",
    "from typing import Tuple, Optional"
   ]
  },
  {
   "cell_type": "code",
   "execution_count": 2,
   "id": "1f316835-2bc2-4e0c-97fd-5143e78232e2",
   "metadata": {},
   "outputs": [],
   "source": [
    "seed = 123\n",
    "torch.manual_seed(seed)\n",
    "\n",
    "device = \"cpu\"\n",
    "\n",
    "hparams = {\n",
    "    \"mala\": {\n",
    "        \"common\": mala.MALACommonParams(\n",
    "            sigma=1e0,\n",
    "            sigma_lr=1e-2,    \n",
    "        ),\n",
    "    },\n",
    "    # \"fisher_mala\": {\n",
    "    #     \"common\": fishermala.FisherMALACommonParams(\n",
    "    #         dampening=100,\n",
    "    #         sigma=1e0,\n",
    "    #         sigma_lr=1e-2,\n",
    "    #     ),\n",
    "    # },\n",
    "    \"hmc_vanilla\": {\n",
    "        \"common\": hmc.HMCCommonParams(\n",
    "            lf_step_count=50,\n",
    "            lf_step_size=1e-1,\n",
    "            lf_step_size_max=5e-1,\n",
    "        ),\n",
    "        \"fixed\": hmc.HMCFixedParams(no_grad=True, stop_grad=False),\n",
    "    },\n",
    "    \"taylor_nograd\": {\n",
    "        \"common\": hmcadaptive.HMCAdaptiveCommonParams(\n",
    "            lf_step_count=50,\n",
    "            lf_step_size=1e-1,\n",
    "            lf_step_size_max=5e-1,\n",
    "            learning_rate=3e-4,\n",
    "            truncation_level_prob=0.5,\n",
    "            min_truncation_level=2,\n",
    "            entropy_weight=1e-1,\n",
    "            entropy_weight_min=1e-3,\n",
    "            entropy_weight_max=1e2,\n",
    "            penalty_weight_max=1e1,\n",
    "            penalty_weight=1e-3,\n",
    "            penalty_weight_adaptive_rate=1e-3,\n",
    "            clip_grad_value=1e1,\n",
    "        ),\n",
    "        \"fixed\": hmcadaptive.HMCAdaptiveFixedParams(\n",
    "            prec_init_scale=1e-9,\n",
    "            no_grad=True,\n",
    "            stop_grad=False,\n",
    "            backprop_method=\"approx\",\n",
    "            prec_type=\"tridiag\",\n",
    "            # iter_count=10000,\n",
    "            # scheduler_cls=hmcadaptive.WarmupCosineAnnealingScheduler\n",
    "        ),\n",
    "    },\n",
    "    \"lanczos_nograd\": {\n",
    "        \"common\": hmcadaptive.HMCAdaptiveCommonParams(\n",
    "            lf_step_count=50,\n",
    "            lf_step_size=1e-1,\n",
    "            lf_step_size_max=5e-1,\n",
    "            learning_rate=3e-4,\n",
    "            entropy_weight=1e-1,\n",
    "            entropy_weight_min=1e-3,\n",
    "            entropy_weight_max=1e2,\n",
    "            clip_grad_value=1e1,\n",
    "            lanczos_steps=8,\n",
    "            krylov_probe_vectors=1,\n",
    "            # iter_count=10000,\n",
    "            # scheduler_cls=hmcadaptive.WarmupCosineAnnealingScheduler\n",
    "        ),\n",
    "        \"fixed\": hmcadaptive.HMCAdaptiveFixedParams(\n",
    "            prec_init_scale=1e-9,\n",
    "            no_grad=True,\n",
    "            stop_grad=False,\n",
    "            backprop_method=\"approx\",\n",
    "            prec_type=\"tridiag\",\n",
    "            trace_method=hmcadaptive.TraceMethod.HUTCH_LANCZOS,\n",
    "            # iter_count=10000,\n",
    "            # scheduler_cls=hmcadaptive.WarmupCosineAnnealingScheduler\n",
    "        ),\n",
    "    },\n",
    "    # \"hmcadaptive_hutch_taylor\": {\n",
    "    #     \"common\": hmcadaptive.HMCAdaptiveCommonParams(\n",
    "    #         lf_step_count=25,\n",
    "    #         lf_step_size=0.1,\n",
    "    #         learning_rate=1e-3,\n",
    "    #         truncation_level_prob=0.5,\n",
    "    #         min_truncation_level=2,\n",
    "    #         entropy_weight=1e-1,\n",
    "    #         entropy_weight_min=1e-3,\n",
    "    #         entropy_weight_max=1e2,\n",
    "    #         penalty_weight_max=1e1,\n",
    "    #         penalty_weight=1e-3,\n",
    "    #         penalty_weight_adaptive_rate=1e-3,\n",
    "    #         clip_grad_value=1e1,\n",
    "    #     ),\n",
    "    #     \"fixed\": hmcadaptive.HMCAdaptiveFixedParams(\n",
    "    #         prec_init_scale=1e-1,\n",
    "    #         no_grad=False,\n",
    "    #         stop_grad=False,\n",
    "    #         prec_type=\"tridiag\",\n",
    "    #         # iter_count=10000,\n",
    "    #         # scheduler_cls=hmcadaptive.WarmupCosineAnnealingScheduler\n",
    "    #     ),\n",
    "    # },\n",
    "    # \"hmcadaptive_hutch_lanczos\": hmcadaptive.HMCAdaptiveParams(\n",
    "    #     lf_step_count=5,\n",
    "    #     lf_step_size=0.1,\n",
    "    #     learning_rate=1e-2,\n",
    "    #     entropy_weight=1e-1,\n",
    "    #     entropy_weight_min=1e-3,\n",
    "    #     entropy_weight_max=1e2,\n",
    "    #     clip_grad_value=1e6,\n",
    "    #     prec_init_scale=1e0,\n",
    "    #     trace_method=hmcadaptive.TraceMethod.HUTCH_LANCZOS,\n",
    "    #     lanczos_steps=4,\n",
    "    #     krylov_probe_vectors=1,\n",
    "    #     # iter_count=10000,\n",
    "    #     # scheduler_cls=hmcadaptive.WarmupCosineAnnealingScheduler\n",
    "    # ),\n",
    "    # \"hmcadaptive_noent\": hmcadaptive.HMCAdaptiveParams(\n",
    "    #     lf_step_count=5,\n",
    "    #     lf_step_size=0.1,\n",
    "    #     learning_rate=1e-4,\n",
    "    #     clip_grad_value=1e6,\n",
    "    #     prec_init_scale=1e0,\n",
    "    #     entropy_method=\"none\",\n",
    "    #     # iter_count=10000,\n",
    "    #     # scheduler_cls=hmcadaptive.WarmupCosineAnnealingScheduler\n",
    "    # ),\n",
    "    # \"hmcadaptive_fullent\": hmcadaptive.HMCAdaptiveParams(\n",
    "    #     lf_step_count=5,\n",
    "    #     lf_step_size=0.1,\n",
    "    #     learning_rate=1e-2,\n",
    "    #     entropy_weight=1e-1,\n",
    "    #     entropy_weight_min=1e-3,\n",
    "    #     entropy_weight_max=1e2,\n",
    "    #     clip_grad_value=1e6,\n",
    "    #     prec_init_scale=1e0,\n",
    "    #     trace_method=hmcadaptive.TraceMethod.HUTCH_LANCZOS,\n",
    "    #     lanczos_steps=4,\n",
    "    #     krylov_probe_vectors=1,\n",
    "    #     entropy_method=\"full\",\n",
    "    #     # iter_count=10000,\n",
    "    #     # scheduler_cls=hmcadaptive.WarmupCosineAnnealingScheduler\n",
    "    # ),\n",
    "}"
   ]
  },
  {
   "cell_type": "code",
   "execution_count": 3,
   "id": "283bd108-9f67-4c89-abe8-bcd94b294b49",
   "metadata": {},
   "outputs": [],
   "source": [
    "def get_random_GM(\n",
    "    gaussian_count: int,\n",
    "    dimension: int,\n",
    "    cube: float,\n",
    "    eps: float=5e-1,\n",
    "    scale: float=5.,\n",
    "):\n",
    "    true_means = torch.rand((gaussian_count, dimension)) * cube - cube / 2\n",
    "    scales = torch.rand((gaussian_count, dimension)) * scale\n",
    "\n",
    "    while True:\n",
    "        try:\n",
    "            true_covs = torch.rand((gaussian_count, dimension, dimension))\n",
    "            true_covs, _ = torch.linalg.qr(true_covs)\n",
    "        \n",
    "            true_covs = (\n",
    "                true_covs @ torch.diag_embed(scales) @ true_covs.permute(0, 2, 1) \n",
    "                + eps * torch.eye(dimension).unsqueeze(0)\n",
    "            )\n",
    "            \n",
    "            # true_covs = (\n",
    "            #     true_covs @ true_covs.permute(0, 2, 1) +\n",
    "            #     torch.eye(dimension).repeat(gaussian_count, 1, 1)\n",
    "            # )\n",
    "        \n",
    "            gm = GaussianMixture(\n",
    "                true_means,\n",
    "                true_covs,\n",
    "                torch.full((gaussian_count,), 1/gaussian_count, dtype=torch.float64)\n",
    "            )\n",
    "            break\n",
    "        except ValueError:\n",
    "            pass\n",
    "            \n",
    "    return gm, true_means"
   ]
  },
  {
   "cell_type": "code",
   "execution_count": 4,
   "id": "99e91164-74f4-4fee-9f0d-d34ae73e24b1",
   "metadata": {},
   "outputs": [],
   "source": [
    "def get_random_GM(\n",
    "    gaussian_count: int,\n",
    "    dimension: int,\n",
    "    cube: float,\n",
    "    eps: float = 5e-1,\n",
    "    scale: float = 1.0,\n",
    "    *,\n",
    "    seed: Optional[int] = None,\n",
    "    device: torch.device | str = \"cpu\",\n",
    "    dtype: torch.dtype = torch.float32,\n",
    ") -> Tuple[GaussianMixture, torch.Tensor]:\n",
    "    \"\"\"\n",
    "    Create a reproducible random Gaussian Mixture.\n",
    "\n",
    "    Parameters\n",
    "    ----------\n",
    "    gaussian_count : int      # number of components\n",
    "    dimension      : int      # dimensionality\n",
    "    cube           : float    # component means ∈ (-cube/2, cube/2)\n",
    "    eps            : float    # ε·I added to each covariance\n",
    "    scale          : float    # upper–bound on random eigen-scales\n",
    "    seed           : int|None # RNG seed for reproducibility\n",
    "    device         : str|torch.device\n",
    "    dtype          : torch.dtype\n",
    "\n",
    "    Returns\n",
    "    -------\n",
    "    gm          : GaussianMixture\n",
    "    true_means  : Tensor (gaussian_count, dimension)\n",
    "    \"\"\"\n",
    "    g = torch.Generator(device=device)\n",
    "    if seed is not None:\n",
    "        g.manual_seed(seed)\n",
    "\n",
    "    true_means = (\n",
    "        torch.rand((gaussian_count, dimension), generator=g, device=device, dtype=dtype)\n",
    "        * cube - cube/2\n",
    "    )\n",
    "\n",
    "    scales = torch.rand((gaussian_count, dimension), generator=g, device=device, dtype=dtype) * scale\n",
    "\n",
    "    while True:\n",
    "        try:\n",
    "            # Q = torch.rand((gaussian_count, dimension, dimension), generator=g, device=device, dtype=dtype)\n",
    "            # Q, _ = torch.linalg.qr(Q)\n",
    "            Q_list = []\n",
    "            for _ in range(gaussian_count):\n",
    "                q = torch.randn((dimension, dimension), generator=g, device=device, dtype=dtype)\n",
    "                q, _ = torch.linalg.qr(q)\n",
    "                Q_list.append(q)\n",
    "            \n",
    "            Q = torch.stack(Q_list, dim=0)  # shape: (gaussian_count, dimension, dimension)\n",
    "\n",
    "\n",
    "            true_covs = (\n",
    "                Q @ torch.diag_embed(scales) @ Q.transpose(-1, -2)\n",
    "                + eps * torch.eye(dimension, device=device, dtype=dtype).unsqueeze(0)\n",
    "            )\n",
    "\n",
    "            gm = GaussianMixture(\n",
    "                true_means,\n",
    "                true_covs,\n",
    "                torch.full((gaussian_count,), 1.0 / gaussian_count, device=device, dtype=dtype),\n",
    "            )\n",
    "            break\n",
    "        except ValueError:\n",
    "            continue\n",
    "\n",
    "    return gm, true_means"
   ]
  },
  {
   "cell_type": "code",
   "execution_count": 5,
   "id": "a7c4c7e8-ed6b-4c13-84ac-150fd70e171e",
   "metadata": {},
   "outputs": [],
   "source": [
    "def generate_simplex(d: int) -> torch.Tensor:\n",
    "    I = torch.eye(d)\n",
    "    \n",
    "    ones = torch.ones((d, d)) / (d+1)\n",
    "    v1d = I - ones\n",
    "    vdp1 = -torch.ones((1, d)) / (d+1)\n",
    "    return torch.cat([v1d, vdp1], dim=0)\n",
    "\n",
    "\n",
    "def get_toeplitz_GM(dimension: int, cube: float, rho: float=0.99, sigma: float=1.):\n",
    "    true_means = generate_simplex(dimension) * cube\n",
    "\n",
    "    inds = torch.arange(dimension)\n",
    "    power = torch.abs(inds.unsqueeze(0) - inds.unsqueeze(1))\n",
    "\n",
    "    true_covs = sigma ** 2 * rho ** power\n",
    "    true_covs = true_covs.repeat(dimension + 1, 1, 1)\n",
    "\n",
    "    gm = GaussianMixture(\n",
    "        true_means,\n",
    "        true_covs,\n",
    "        torch.ones(dimension + 1) / (dimension + 1)\n",
    "    )\n",
    "\n",
    "    return gm, true_means\n",
    "\n",
    "\n",
    "def get_toeplitz_gaussian(dimension: int,\n",
    "                          mean: float = None,\n",
    "                          rho: float = 0.99,\n",
    "                          sigma: float = 1.0) -> tuple:\n",
    "    if mean is None:\n",
    "        mean = torch.zeros(dimension)\n",
    "        \n",
    "    inds = torch.arange(dimension)\n",
    "    power = torch.abs(inds.unsqueeze(0) - inds.unsqueeze(1))\n",
    "    cov = (sigma ** 2) * (rho ** power)\n",
    "    \n",
    "    return Gaussian(mean=mean, cov=cov), mean.unsqueeze(0)\n",
    "\n",
    "\n",
    "def get_illcond_gaussian(dimension: int,\n",
    "                         mean: float = None,\n",
    "                         min_v: float = 1e-2,\n",
    "                         max_v: float = 1e2) -> tuple:\n",
    "    if mean is None:\n",
    "        mean = torch.zeros(dimension)\n",
    "    elif isinstance(mean, (float, int)):\n",
    "        mean = torch.full((dimension,), float(mean))\n",
    "    else:\n",
    "        mean = torch.tensor(mean, dtype=torch.float32)\n",
    "\n",
    "    # Create log-spaced eigenvalues (ill-conditioned spectrum)\n",
    "    eigvals = torch.logspace(torch.log10(torch.tensor(min_v)), \n",
    "                             torch.log10(torch.tensor(max_v)), \n",
    "                             steps=dimension)\n",
    "\n",
    "    # Construct diagonal covariance matrix\n",
    "    cov = torch.diag(eigvals)\n",
    "\n",
    "    return Gaussian(mean=mean, cov=cov), mean.unsqueeze(0)\n",
    "    \n",
    "\n",
    "def sample_se_covariance_torch(dimension, scale=4., noise=0.01, seed=None, device='cpu'):\n",
    "    if seed is not None:\n",
    "        torch.manual_seed(seed)\n",
    "\n",
    "    x = torch.linspace(0, scale, dimension)\n",
    "\n",
    "    x1 = x.unsqueeze(1)\n",
    "    x2 = x.unsqueeze(0)\n",
    "    dist_squared = (x1 - x2) ** 2\n",
    "\n",
    "    K = torch.exp(-0.5 * dist_squared / (0.1 * scale**2))\n",
    "\n",
    "    K += noise * torch.eye(dimension, device=device)\n",
    "\n",
    "    return x, K\n",
    "    \n",
    "def get_deterministic_gaussian_se(dimension: int,\n",
    "                                  mean: float = None,) -> tuple:\n",
    "    if mean is None:\n",
    "        mean = torch.zeros(dimension)\n",
    "        \n",
    "    _, cov = sample_se_covariance_torch(dimension)\n",
    "    \n",
    "    return Gaussian(mean=mean, cov=cov), mean.unsqueeze(0)\n",
    "\n",
    "def get_banana(dimension: int, b: float = 2.):\n",
    "    mean = torch.zeros(dimension)\n",
    "    return BananaDistribution(dimension, b), mean.unsqueeze(0)"
   ]
  },
  {
   "cell_type": "code",
   "execution_count": 6,
   "id": "fd8eb98c-ed23-44b4-94ec-147551f14352",
   "metadata": {},
   "outputs": [],
   "source": [
    "# dist = FunnelDistribution(32, scale=3)\n",
    "\n",
    "#dist, _ = get_toeplitz_gaussian(256, rho=0.95)\n",
    "# dist, _ = get_deterministic_gaussian_se(32)\n",
    "#dist, _ = get_illcond_gaussian(128)\n",
    "dist, _ = get_banana(32, b=10.)\n",
    "\n",
    "# dist, _ = get_random_GM(gaussian_count=25, dimension=32, cube=2., scale=2.,)\n",
    "# dist, _ = get_toeplitz_GM(dimension=32, cube=2., rho=0.9)\n",
    "\n",
    "\n",
    "samples = dist.sample(5000).detach().numpy()"
   ]
  },
  {
   "cell_type": "code",
   "execution_count": 7,
   "id": "d8c61397-4824-4940-8e47-a3eb5cb30787",
   "metadata": {
    "scrolled": true
   },
   "outputs": [
    {
     "data": {
      "text/plain": [
       "<matplotlib.collections.PathCollection at 0x737e42d2a2d0>"
      ]
     },
     "execution_count": 7,
     "metadata": {},
     "output_type": "execute_result"
    },
    {
     "data": {
      "image/png": "[encoded data removed]",
      "text/plain": [
       "<Figure size 640x480 with 1 Axes>"
      ]
     },
     "metadata": {},
     "output_type": "display_data"
    }
   ],
   "source": [
    "plt.scatter(samples[:, 0], samples[:, 1], alpha=0.1)"
   ]
  },
  {
   "cell_type": "code",
   "execution_count": 8,
   "id": "b6be8400-2209-4ad1-b746-5c0d104d0970",
   "metadata": {},
   "outputs": [],
   "source": [
    "def dist_factory(name, dimension, cube=2., scale=2., funnel_scale=3, gaussian_count=25, rho=0.95, sigma=1.,\n",
    "                 min_v=1e-3, max_v=1e3, bending=10.\n",
    "                ):\n",
    "    if name == \"random_gm\":\n",
    "        return get_random_GM(gaussian_count=gaussian_count, dimension=dimension, cube=cube, scale=scale)\n",
    "    elif name == \"toeplitz_gm\":\n",
    "        return get_toeplitz_GM(dimension, cube=cube, rho=rho, sigma=sigma)\n",
    "    elif name == \"toeplitz_gaussian\":\n",
    "        return get_toeplitz_gaussian(dimension, rho=rho, sigma=sigma)\n",
    "    elif name == \"deterministic_gaussian_se\":\n",
    "        return get_deterministic_gaussian_se(dimension)\n",
    "    elif name == \"funnel\":\n",
    "        return FunnelDistribution(dimension, scale=funnel_scale), torch.zeros(1, dimension)\n",
    "    elif name == \"illcond_gaussian\":\n",
    "        return get_illcond_gaussian(dimension, min_v=min_v, max_v=max_v)\n",
    "    elif name == \"banana\":\n",
    "        return get_banana(dimension, b=bending)"
   ]
  },
  {
   "cell_type": "code",
   "execution_count": 9,
   "id": "642b06c2-fb8d-43b6-8d11-391bec35a38e",
   "metadata": {},
   "outputs": [],
   "source": [
    "import pandas as pd\n",
    "from scipy.stats import norm\n",
    "from itertools import combinations\n",
    "\n",
    "\n",
    "def drop_static_chains(samples: torch.Tensor, eps: float = 0.0):\n",
    "    var_per_chain = samples.var(dim=0, unbiased=False)\n",
    "\n",
    "    static = (var_per_chain <= eps).all(dim=-1)\n",
    "    keep_mask = ~static\n",
    "\n",
    "    return samples[:, keep_mask, :], keep_mask.sum().item()\n",
    "\n",
    "\n",
    "def z_test(dim_stat):\n",
    "    all_results = {}\n",
    "    for dim, df in dim_stat.items():\n",
    "        recs = []\n",
    "        algs = df.columns\n",
    "        for A, B in combinations(reversed(algs), 2):\n",
    "    \n",
    "            mA, sA = df.loc['ess_mean', A], df.loc['ess_conf_sigma', A]\n",
    "            mB, sB = df.loc['ess_mean', B], df.loc['ess_conf_sigma', B]\n",
    "            z_ess = (mA - mB) / (sA**2 + sB**2)**0.5\n",
    "            p_ess = norm.sf(z_ess)\n",
    "    \n",
    "            tA, seA = df.loc['tv_mean', A], df.loc['tv_conf_sigma', A]\n",
    "            tB, seB = df.loc['tv_mean', B], df.loc['tv_conf_sigma', B]\n",
    "            z_tv = (tB - tA) / (seA**2 + seB**2)**0.5\n",
    "            p_tv = norm.sf(z_tv)\n",
    "            recs.append({\n",
    "                'alg_A': A, 'alg_B': B,\n",
    "                'z(ESS_A>B)': z_ess, 'p(ESS_A>B)': p_ess,\n",
    "                'z(TV_A<B)': z_tv,  'p(TV_A<B)': p_tv,\n",
    "            })\n",
    "        all_results[dim] = pd.DataFrame.from_records(recs)\n",
    "    return all_results\n",
    "\n",
    "\n",
    "def compute_results(hist_data, algs, dist_name=None):\n",
    "    dim_stat = {}\n",
    "\n",
    "    for dimension in tqdm.notebook.tqdm(dimensions, desc=\"dimension\"):\n",
    "        rows = []\n",
    "        for alg in tqdm.notebook.tqdm(algs, desc=\"alg\", leave=False):\n",
    "            obj = hist_data[dimension][alg]\n",
    "            cache = obj[\"cache\"]\n",
    "            pure_runtime = obj[\"pure_runtime\"]\n",
    "    \n",
    "            clean_samples, n_kept = drop_static_chains(cache.samples)\n",
    "    \n",
    "            metrics = BenchmarkUtils.compute_metrics(clean_samples,\n",
    "                                                     cache.true_samples)\n",
    "            metrics[\"runtime\"]      = pure_runtime\n",
    "            metrics[\"chains_kept\"]  = n_kept\n",
    "            rows.append(metrics)\n",
    "    \n",
    "        df = pd.DataFrame(rows, index=list(algs.keys())).T\n",
    "        dim_stat[dimension] = df\n",
    "        print(f\"\\ndim={dimension}, dist={dist_name}\\n\", df)\n",
    "        print(z_test(dim_stat))\n",
    "    \n",
    "    return dim_stat"
   ]
  },
  {
   "cell_type": "code",
   "execution_count": 10,
   "id": "b8ddf396-4588-424f-8a60-ce9af4ede051",
   "metadata": {
    "scrolled": true
   },
   "outputs": [],
   "source": [
    "def run_experiment(dist_name, log=[]):\n",
    "    hist_data = {}\n",
    "    runtime = {\n",
    "        dimension: dict()\n",
    "        for dimension in dimensions\n",
    "    }\n",
    "    pure_runtime = deepcopy(runtime)\n",
    "    distance_to_mass_points = 1.\n",
    "    \n",
    "    for dimension in tqdm.notebook.tqdm(dimensions):\n",
    "        print(\"Processing dimension\", dimension)\n",
    "        hist_data[dimension] = {}\n",
    "        target_dist, true_means = dist_factory(dist_name, dimension)\n",
    "        \n",
    "        # target_dist, true_means = get_random_GM(gaussian_count, dimension, cube)\n",
    "        # gm, true_means = get_deterministic_GM(dimension, cube)\n",
    "        # true_samples = gm.sample(sample_count)\n",
    "    \n",
    "        # target_dist = FunnelDistribution(dimension, scale=scale)\n",
    "        \n",
    "        # target_dist, _ = get_deterministic_gaussian(dimension, rho=0.8)\n",
    "        # target_dist, _ = get_deterministic_gaussian_se(dimension)\n",
    "    \n",
    "        # true_means = torch.zeros(1, dimension)\n",
    "        true_samples = target_dist.sample(sample_count)\n",
    "        \n",
    "        starting_points = BenchmarkUtils.generate_starting_points(\n",
    "            chain_count, dimension,\n",
    "            true_means,\n",
    "            distance_to_mass_points,\n",
    "        )\n",
    "    \n",
    "        common_params = base_sampler.CommonParams(\n",
    "            target_dist=target_dist,\n",
    "            starting_point=starting_points.clone(),\n",
    "            proposal_dist=torch.distributions.MultivariateNormal(\n",
    "                torch.zeros(dimension, device=device),\n",
    "                torch.eye(dimension, device=device),\n",
    "            ),\n",
    "        )\n",
    "    \n",
    "        for alg in algs:\n",
    "            print(\"-\" * 80)\n",
    "            base_meta_adj = hparams[alg][\"common\"].copy_update(common_params)\n",
    "            # if hasattr(base_meta_adj, \"sigma\"):\n",
    "            #     base_meta_adj.sigma /= dimension\n",
    "    \n",
    "            algs[alg].load_params(base_meta_adj)\n",
    "            algs[alg].load_true_samples(true_samples)\n",
    "            algs[alg].run()\n",
    "    \n",
    "            hist_data[dimension][alg] = {\n",
    "                \"cache\": algs[alg].pipeline.sample_blocks[-1].iteration.cache,\n",
    "                \"stop_data_hist\": algs[alg].pipeline.sample_blocks[-1].stop_data_hist,\n",
    "                \"runtime\": algs[alg].pipeline.runtime,\n",
    "                \"pure_runtime\": algs[alg].pipeline.pure_runtime,\n",
    "            }\n",
    "        print()\n",
    "\n",
    "    dim_stat = compute_results(hist_data, algs, dist_name)\n",
    "    log.append({\n",
    "        \"hist_data\": hist_data,\n",
    "        \"algs\": algs,\n",
    "        \"dist_name\": dist_name,\n",
    "        \"dim_stat\": dim_stat,\n",
    "    })"
   ]
  },
  {
   "cell_type": "code",
   "execution_count": 11,
   "id": "215295b0-772c-41f6-bb4d-69929bd09dc0",
   "metadata": {},
   "outputs": [],
   "source": [
    "def moving_average(x, window_size=10):\n",
    "    return np.convolve(x, np.ones(window_size)/window_size, mode='valid')\n",
    "\n",
    "def print_log(log):\n",
    "    for entry in log:\n",
    "        for dimension in dimensions:\n",
    "            print(f\"\\ndim={dimension}, dist={entry['dist_name']}\\n\", entry[\"dim_stat\"][dimension])"
   ]
  },
  {
   "cell_type": "code",
   "execution_count": 12,
   "id": "9dd0f50d-c4f0-4892-b48f-32095811d5a5",
   "metadata": {
    "editable": true,
    "slideshow": {
     "slide_type": ""
    },
    "tags": []
   },
   "outputs": [
    {
     "data": {
      "application/vnd.jupyter.widget-view+json": {
       "model_id": "8d9f4c40b8704f5ba0fd6dd05ce8245f",
       "version_major": 2,
       "version_minor": 0
      },
      "text/plain": [
       "  0%|          | 0/6 [00:00<?, ?it/s]"
      ]
     },
     "metadata": {},
     "output_type": "display_data"
    },
    {
     "name": "stdout",
     "output_type": "stream",
     "text": [
      "Processing dimension 8\n",
      "--------------------------------------------------------------------------------\n",
      "Running MALA\n",
      "number of blocks: 2\n",
      "processing block: 1\n"
     ]
    },
    {
     "data": {
      "application/vnd.jupyter.widget-view+json": {
       "model_id": "7cbfe07778094fbe810d2f0cbdf8928a",
       "version_major": 2,
       "version_minor": 0
      },
      "text/plain": [
       "  0%|          | 0/7500 [00:00<?, ?it/s]"
      ]
     },
     "metadata": {},
     "output_type": "display_data"
    },
    {
     "name": "stdout",
     "output_type": "stream",
     "text": [
      "step_size=0.6608244776725769\n",
      "processing block: 2\n"
     ]
    },
    {
     "data": {
      "application/vnd.jupyter.widget-view+json": {
       "model_id": "eb76a894897e4375b34df193029746fa",
       "version_major": 2,
       "version_minor": 0
      },
      "text/plain": [
       "  0%|          | 0/5000 [00:00<?, ?it/s]"
      ]
     },
     "metadata": {},
     "output_type": "display_data"
    },
    {
     "name": "stdout",
     "output_type": "stream",
     "text": [
      "step_size=0.7307561635971069\n",
      "Runtime: 6.54s\n",
      "--------------------------------------------------------------------------------\n",
      "Running HMCVanilla\n",
      "number of blocks: 3\n",
      "processing block: 1\n"
     ]
    },
    {
     "data": {
      "application/vnd.jupyter.widget-view+json": {
       "model_id": "54b9981df0ab4580a8369515b6ee692e",
       "version_major": 2,
       "version_minor": 0
      },
      "text/plain": [
       "  0%|          | 0/2500 [00:00<?, ?it/s]"
      ]
     },
     "metadata": {},
     "output_type": "display_data"
    },
    {
     "name": "stdout",
     "output_type": "stream",
     "text": [
      "step_size=0.0991833284497261\n",
      "max_step_size=0.49916666746139526\n",
      "broken_traj=5\n",
      "processing block: 2\n"
     ]
    },
    {
     "data": {
      "application/vnd.jupyter.widget-view+json": {
       "model_id": "d8efe5acbdc345e1b264e81901d78008",
       "version_major": 2,
       "version_minor": 0
      },
      "text/plain": [
       "  0%|          | 0/5000 [00:00<?, ?it/s]"
      ]
     },
     "metadata": {},
     "output_type": "display_data"
    },
    {
     "name": "stdout",
     "output_type": "stream",
     "text": [
      "step_size=0.09732761234045029\n",
      "max_step_size=0.4975000023841858\n",
      "broken_traj=17\n",
      "processing block: 3\n"
     ]
    },
    {
     "data": {
      "application/vnd.jupyter.widget-view+json": {
       "model_id": "9c50512dbbe64f6bb47c8a9a2ccbc41a",
       "version_major": 2,
       "version_minor": 0
      },
      "text/plain": [
       "  0%|          | 0/5000 [00:00<?, ?it/s]"
      ]
     },
     "metadata": {},
     "output_type": "display_data"
    },
    {
     "name": "stdout",
     "output_type": "stream",
     "text": [
      "step_size=0.09410799294710159\n",
      "max_step_size=0.4933750033378601\n",
      "broken_traj=41\n",
      "Runtime: 136.53s\n",
      "--------------------------------------------------------------------------------\n",
      "Running HMCAdaptiveHutchTaylorNoGrad\n",
      "number of blocks: 3\n",
      "processing block: 1\n"
     ]
    },
    {
     "data": {
      "application/vnd.jupyter.widget-view+json": {
       "model_id": "a4d9ff21fc9a446f8f528d0575ed65c4",
       "version_major": 2,
       "version_minor": 0
      },
      "text/plain": [
       "  0%|          | 0/2500 [00:00<?, ?it/s]"
      ]
     },
     "metadata": {},
     "output_type": "display_data"
    },
    {
     "name": "stdout",
     "output_type": "stream",
     "text": [
      "step_size=0.09950833022594452\n",
      "max_step_size=0.5\n",
      "broken_traj=3\n",
      "processing block: 2\n"
     ]
    },
    {
     "data": {
      "application/vnd.jupyter.widget-view+json": {
       "model_id": "d83f027fdfde4f5eaae04f35ebbfcf33",
       "version_major": 2,
       "version_minor": 0
      },
      "text/plain": [
       "  0%|          | 0/5000 [00:00<?, ?it/s]"
      ]
     },
     "metadata": {},
     "output_type": "display_data"
    },
    {
     "name": "stdout",
     "output_type": "stream",
     "text": [
      "step_size=0.09875427186489105\n",
      "max_step_size=0.49916666746139526\n",
      "broken_traj=8\n",
      "processing block: 3\n"
     ]
    },
    {
     "data": {
      "application/vnd.jupyter.widget-view+json": {
       "model_id": "c0d4ade89f214f1db58fb7cad3aa05ed",
       "version_major": 2,
       "version_minor": 0
      },
      "text/plain": [
       "  0%|          | 0/5000 [00:00<?, ?it/s]"
      ]
     },
     "metadata": {},
     "output_type": "display_data"
    },
    {
     "name": "stdout",
     "output_type": "stream",
     "text": [
      "step_size=0.09811218827962875\n",
      "max_step_size=0.4983333647251129\n",
      "broken_traj=12\n",
      "Runtime: 219.02s\n",
      "--------------------------------------------------------------------------------\n",
      "Running HMCAdaptiveHutchLanczosNoGrad\n",
      "number of blocks: 3\n",
      "processing block: 1\n"
     ]
    },
    {
     "data": {
      "application/vnd.jupyter.widget-view+json": {
       "model_id": "f80b3670472d411b905a75d347f1c41a",
       "version_major": 2,
       "version_minor": 0
      },
      "text/plain": [
       "  0%|          | 0/2500 [00:00<?, ?it/s]"
      ]
     },
     "metadata": {},
     "output_type": "display_data"
    },
    {
     "name": "stdout",
     "output_type": "stream",
     "text": [
      "step_size=0.09952457994222641\n",
      "max_step_size=0.5\n",
      "broken_traj=3\n",
      "processing block: 2\n"
     ]
    },
    {
     "data": {
      "application/vnd.jupyter.widget-view+json": {
       "model_id": "18e7a3353d0a4b4ebf083762f6dc89f5",
       "version_major": 2,
       "version_minor": 0
      },
      "text/plain": [
       "  0%|          | 0/5000 [00:00<?, ?it/s]"
      ]
     },
     "metadata": {},
     "output_type": "display_data"
    },
    {
     "name": "stdout",
     "output_type": "stream",
     "text": [
      "step_size=0.09389018267393112\n",
      "max_step_size=0.49345624446868896\n",
      "broken_traj=42\n",
      "processing block: 3\n"
     ]
    },
    {
     "data": {
      "application/vnd.jupyter.widget-view+json": {
       "model_id": "c701e0e9f3c649bc993dafe7a8a22ab8",
       "version_major": 2,
       "version_minor": 0
      },
      "text/plain": [
       "  0%|          | 0/5000 [00:00<?, ?it/s]"
      ]
     },
     "metadata": {},
     "output_type": "display_data"
    },
    {
     "name": "stdout",
     "output_type": "stream",
     "text": [
      "step_size=0.0841003805398941\n",
      "max_step_size=0.48215633630752563\n",
      "broken_traj=110\n",
      "Runtime: 238.56s\n",
      "\n",
      "Processing dimension 16\n",
      "--------------------------------------------------------------------------------\n",
      "Running MALA\n",
      "number of blocks: 2\n",
      "processing block: 1\n"
     ]
    },
    {
     "data": {
      "application/vnd.jupyter.widget-view+json": {
       "model_id": "083e4b15772a4d5da38e45ceb0ebe1fb",
       "version_major": 2,
       "version_minor": 0
      },
      "text/plain": [
       "  0%|          | 0/7500 [00:00<?, ?it/s]"
      ]
     },
     "metadata": {},
     "output_type": "display_data"
    },
    {
     "name": "stdout",
     "output_type": "stream",
     "text": [
      "step_size=0.5601071715354919\n",
      "processing block: 2\n"
     ]
    },
    {
     "data": {
      "application/vnd.jupyter.widget-view+json": {
       "model_id": "f3f3db98a0504c58985022ce9d832e10",
       "version_major": 2,
       "version_minor": 0
      },
      "text/plain": [
       "  0%|          | 0/5000 [00:00<?, ?it/s]"
      ]
     },
     "metadata": {},
     "output_type": "display_data"
    },
    {
     "name": "stdout",
     "output_type": "stream",
     "text": [
      "step_size=0.5688053965568542\n",
      "Runtime: 6.29s\n",
      "--------------------------------------------------------------------------------\n",
      "Running HMCVanilla\n",
      "number of blocks: 3\n",
      "processing block: 1\n"
     ]
    },
    {
     "data": {
      "application/vnd.jupyter.widget-view+json": {
       "model_id": "a6dbdab7dbbc4b68883211e303322d75",
       "version_major": 2,
       "version_minor": 0
      },
      "text/plain": [
       "  0%|          | 0/2500 [00:00<?, ?it/s]"
      ]
     },
     "metadata": {},
     "output_type": "display_data"
    },
    {
     "name": "stdout",
     "output_type": "stream",
     "text": [
      "step_size=0.09999999403953552\n",
      "max_step_size=0.5\n",
      "broken_traj=0\n",
      "processing block: 2\n"
     ]
    },
    {
     "data": {
      "application/vnd.jupyter.widget-view+json": {
       "model_id": "dd21f20db21b4dc6bc53a3e7249237f4",
       "version_major": 2,
       "version_minor": 0
      },
      "text/plain": [
       "  0%|          | 0/5000 [00:00<?, ?it/s]"
      ]
     },
     "metadata": {},
     "output_type": "display_data"
    },
    {
     "name": "stdout",
     "output_type": "stream",
     "text": [
      "step_size=0.09966666251420975\n",
      "max_step_size=0.5\n",
      "broken_traj=2\n",
      "processing block: 3\n"
     ]
    },
    {
     "data": {
      "application/vnd.jupyter.widget-view+json": {
       "model_id": "a6674afdd1494845a8a084caf16ae953",
       "version_major": 2,
       "version_minor": 0
      },
      "text/plain": [
       "  0%|          | 0/5000 [00:00<?, ?it/s]"
      ]
     },
     "metadata": {},
     "output_type": "display_data"
    },
    {
     "name": "stdout",
     "output_type": "stream",
     "text": [
      "step_size=0.09916666150093079\n",
      "max_step_size=0.49916666746139526\n",
      "broken_traj=5\n",
      "Runtime: 138.28s\n",
      "--------------------------------------------------------------------------------\n",
      "Running HMCAdaptiveHutchTaylorNoGrad\n",
      "number of blocks: 3\n",
      "processing block: 1\n"
     ]
    },
    {
     "data": {
      "application/vnd.jupyter.widget-view+json": {
       "model_id": "6e886c09309e4434881386656a7c8afa",
       "version_major": 2,
       "version_minor": 0
      },
      "text/plain": [
       "  0%|          | 0/2500 [00:00<?, ?it/s]"
      ]
     },
     "metadata": {},
     "output_type": "display_data"
    },
    {
     "name": "stdout",
     "output_type": "stream",
     "text": [
      "step_size=0.09952457994222641\n",
      "max_step_size=0.5\n",
      "broken_traj=3\n",
      "processing block: 2\n"
     ]
    },
    {
     "data": {
      "application/vnd.jupyter.widget-view+json": {
       "model_id": "3ae2af0094ac41b89c71a2246aea5725",
       "version_major": 2,
       "version_minor": 0
      },
      "text/plain": [
       "  0%|          | 0/5000 [00:00<?, ?it/s]"
      ]
     },
     "metadata": {},
     "output_type": "display_data"
    },
    {
     "name": "stdout",
     "output_type": "stream",
     "text": [
      "step_size=0.09952457994222641\n",
      "max_step_size=0.5\n",
      "broken_traj=3\n",
      "processing block: 3\n"
     ]
    },
    {
     "data": {
      "application/vnd.jupyter.widget-view+json": {
       "model_id": "c2144baeb9a545848d517ca6d6d45e18",
       "version_major": 2,
       "version_minor": 0
      },
      "text/plain": [
       "  0%|          | 0/5000 [00:00<?, ?it/s]"
      ]
     },
     "metadata": {},
     "output_type": "display_data"
    },
    {
     "name": "stdout",
     "output_type": "stream",
     "text": [
      "step_size=0.09952457994222641\n",
      "max_step_size=0.5\n",
      "broken_traj=3\n",
      "Runtime: 229.31s\n",
      "--------------------------------------------------------------------------------\n",
      "Running HMCAdaptiveHutchLanczosNoGrad\n",
      "number of blocks: 3\n",
      "processing block: 1\n"
     ]
    },
    {
     "data": {
      "application/vnd.jupyter.widget-view+json": {
       "model_id": "7b723f1f901f42ab98ebf1306c614b61",
       "version_major": 2,
       "version_minor": 0
      },
      "text/plain": [
       "  0%|          | 0/2500 [00:00<?, ?it/s]"
      ]
     },
     "metadata": {},
     "output_type": "display_data"
    },
    {
     "name": "stdout",
     "output_type": "stream",
     "text": [
      "step_size=0.09966666996479034\n",
      "max_step_size=0.5\n",
      "broken_traj=2\n",
      "processing block: 2\n"
     ]
    },
    {
     "data": {
      "application/vnd.jupyter.widget-view+json": {
       "model_id": "1144245200c540c1b38966bfb3e059de",
       "version_major": 2,
       "version_minor": 0
      },
      "text/plain": [
       "  0%|          | 0/5000 [00:00<?, ?it/s]"
      ]
     },
     "metadata": {},
     "output_type": "display_data"
    },
    {
     "name": "stdout",
     "output_type": "stream",
     "text": [
      "step_size=0.09933333098888397\n",
      "max_step_size=0.5\n",
      "broken_traj=4\n",
      "processing block: 3\n"
     ]
    },
    {
     "data": {
      "application/vnd.jupyter.widget-view+json": {
       "model_id": "9b755a149f4842c9bba4910f624caccd",
       "version_major": 2,
       "version_minor": 0
      },
      "text/plain": [
       "  0%|          | 0/5000 [00:00<?, ?it/s]"
      ]
     },
     "metadata": {},
     "output_type": "display_data"
    },
    {
     "name": "stdout",
     "output_type": "stream",
     "text": [
      "step_size=0.09754125028848648\n",
      "max_step_size=0.4975000023841858\n",
      "broken_traj=15\n",
      "Runtime: 251.66s\n",
      "\n",
      "Processing dimension 32\n",
      "--------------------------------------------------------------------------------\n",
      "Running MALA\n",
      "number of blocks: 2\n",
      "processing block: 1\n"
     ]
    },
    {
     "data": {
      "application/vnd.jupyter.widget-view+json": {
       "model_id": "baeb6d794f6c4d8491b5cf3433e7f02a",
       "version_major": 2,
       "version_minor": 0
      },
      "text/plain": [
       "  0%|          | 0/7500 [00:00<?, ?it/s]"
      ]
     },
     "metadata": {},
     "output_type": "display_data"
    },
    {
     "name": "stdout",
     "output_type": "stream",
     "text": [
      "step_size=0.39678966999053955\n",
      "processing block: 2\n"
     ]
    },
    {
     "data": {
      "application/vnd.jupyter.widget-view+json": {
       "model_id": "95d2b1c459fd453f85fda542e67c0a55",
       "version_major": 2,
       "version_minor": 0
      },
      "text/plain": [
       "  0%|          | 0/5000 [00:00<?, ?it/s]"
      ]
     },
     "metadata": {},
     "output_type": "display_data"
    },
    {
     "name": "stdout",
     "output_type": "stream",
     "text": [
      "step_size=0.4017318785190582\n",
      "Runtime: 6.16s\n",
      "--------------------------------------------------------------------------------\n",
      "Running HMCVanilla\n",
      "number of blocks: 3\n",
      "processing block: 1\n"
     ]
    },
    {
     "data": {
      "application/vnd.jupyter.widget-view+json": {
       "model_id": "d0bb049bf3404ee29e6b1c217aea8b3a",
       "version_major": 2,
       "version_minor": 0
      },
      "text/plain": [
       "  0%|          | 0/2500 [00:00<?, ?it/s]"
      ]
     },
     "metadata": {},
     "output_type": "display_data"
    },
    {
     "name": "stdout",
     "output_type": "stream",
     "text": [
      "step_size=0.09723147749900818\n",
      "max_step_size=0.4975000023841858\n",
      "broken_traj=17\n",
      "processing block: 2\n"
     ]
    },
    {
     "data": {
      "application/vnd.jupyter.widget-view+json": {
       "model_id": "e396168d6ee0479c8b5be80334fcd8af",
       "version_major": 2,
       "version_minor": 0
      },
      "text/plain": [
       "  0%|          | 0/5000 [00:00<?, ?it/s]"
      ]
     },
     "metadata": {},
     "output_type": "display_data"
    },
    {
     "name": "stdout",
     "output_type": "stream",
     "text": [
      "step_size=0.09723147749900818\n",
      "max_step_size=0.4975000023841858\n",
      "broken_traj=17\n",
      "processing block: 3\n"
     ]
    },
    {
     "data": {
      "application/vnd.jupyter.widget-view+json": {
       "model_id": "2d594b63802b4261bf7db65a175e32da",
       "version_major": 2,
       "version_minor": 0
      },
      "text/plain": [
       "  0%|          | 0/5000 [00:00<?, ?it/s]"
      ]
     },
     "metadata": {},
     "output_type": "display_data"
    },
    {
     "name": "stdout",
     "output_type": "stream",
     "text": [
      "step_size=0.09723147749900818\n",
      "max_step_size=0.4975000023841858\n",
      "broken_traj=17\n",
      "Runtime: 141.41s\n",
      "--------------------------------------------------------------------------------\n",
      "Running HMCAdaptiveHutchTaylorNoGrad\n",
      "number of blocks: 3\n",
      "processing block: 1\n"
     ]
    },
    {
     "data": {
      "application/vnd.jupyter.widget-view+json": {
       "model_id": "9176673a257845f7a4359d7886f5ff54",
       "version_major": 2,
       "version_minor": 0
      },
      "text/plain": [
       "  0%|          | 0/2500 [00:00<?, ?it/s]"
      ]
     },
     "metadata": {},
     "output_type": "display_data"
    },
    {
     "name": "stdout",
     "output_type": "stream",
     "text": [
      "step_size=0.09611397236585617\n",
      "max_step_size=0.49666669964790344\n",
      "broken_traj=21\n",
      "processing block: 2\n"
     ]
    },
    {
     "data": {
      "application/vnd.jupyter.widget-view+json": {
       "model_id": "a04e5a5684d54af2b7d9e0d7f6ef6d40",
       "version_major": 2,
       "version_minor": 0
      },
      "text/plain": [
       "  0%|          | 0/5000 [00:00<?, ?it/s]"
      ]
     },
     "metadata": {},
     "output_type": "display_data"
    },
    {
     "name": "stdout",
     "output_type": "stream",
     "text": [
      "step_size=0.09611397236585617\n",
      "max_step_size=0.49666669964790344\n",
      "broken_traj=21\n",
      "processing block: 3\n"
     ]
    },
    {
     "data": {
      "application/vnd.jupyter.widget-view+json": {
       "model_id": "3be7bc7cc0d845ffafe414f40cf95b32",
       "version_major": 2,
       "version_minor": 0
      },
      "text/plain": [
       "  0%|          | 0/5000 [00:00<?, ?it/s]"
      ]
     },
     "metadata": {},
     "output_type": "display_data"
    },
    {
     "name": "stdout",
     "output_type": "stream",
     "text": [
      "step_size=0.09611397236585617\n",
      "max_step_size=0.49666669964790344\n",
      "broken_traj=21\n",
      "Runtime: 229.89s\n",
      "--------------------------------------------------------------------------------\n",
      "Running HMCAdaptiveHutchLanczosNoGrad\n",
      "number of blocks: 3\n",
      "processing block: 1\n"
     ]
    },
    {
     "data": {
      "application/vnd.jupyter.widget-view+json": {
       "model_id": "d4747c7467694d63800bb90c0fa8ec2f",
       "version_major": 2,
       "version_minor": 0
      },
      "text/plain": [
       "  0%|          | 0/2500 [00:00<?, ?it/s]"
      ]
     },
     "metadata": {},
     "output_type": "display_data"
    },
    {
     "name": "stdout",
     "output_type": "stream",
     "text": [
      "step_size=0.0973363071680069\n",
      "max_step_size=0.4975000023841858\n",
      "broken_traj=16\n",
      "processing block: 2\n"
     ]
    },
    {
     "data": {
      "application/vnd.jupyter.widget-view+json": {
       "model_id": "5b3a25abb5d042289f0caaccd0394e13",
       "version_major": 2,
       "version_minor": 0
      },
      "text/plain": [
       "  0%|          | 0/5000 [00:00<?, ?it/s]"
      ]
     },
     "metadata": {},
     "output_type": "display_data"
    },
    {
     "name": "stdout",
     "output_type": "stream",
     "text": [
      "step_size=0.0973363071680069\n",
      "max_step_size=0.4975000023841858\n",
      "broken_traj=16\n",
      "processing block: 3\n"
     ]
    },
    {
     "data": {
      "application/vnd.jupyter.widget-view+json": {
       "model_id": "a26b7a8b9627427abb1f72361d2253be",
       "version_major": 2,
       "version_minor": 0
      },
      "text/plain": [
       "  0%|          | 0/5000 [00:00<?, ?it/s]"
      ]
     },
     "metadata": {},
     "output_type": "display_data"
    },
    {
     "name": "stdout",
     "output_type": "stream",
     "text": [
      "step_size=0.09702674299478531\n",
      "max_step_size=0.4975000023841858\n",
      "broken_traj=18\n",
      "Runtime: 249.47s\n",
      "\n",
      "Processing dimension 64\n",
      "--------------------------------------------------------------------------------\n",
      "Running MALA\n",
      "number of blocks: 2\n",
      "processing block: 1\n"
     ]
    },
    {
     "data": {
      "application/vnd.jupyter.widget-view+json": {
       "model_id": "e7d02ac5d19247109a5a349569249bca",
       "version_major": 2,
       "version_minor": 0
      },
      "text/plain": [
       "  0%|          | 0/7500 [00:00<?, ?it/s]"
      ]
     },
     "metadata": {},
     "output_type": "display_data"
    },
    {
     "name": "stdout",
     "output_type": "stream",
     "text": [
      "step_size=0.28926822543144226\n",
      "processing block: 2\n"
     ]
    },
    {
     "data": {
      "application/vnd.jupyter.widget-view+json": {
       "model_id": "39ec3dc3baae454c877d82da6871400b",
       "version_major": 2,
       "version_minor": 0
      },
      "text/plain": [
       "  0%|          | 0/5000 [00:00<?, ?it/s]"
      ]
     },
     "metadata": {},
     "output_type": "display_data"
    },
    {
     "name": "stdout",
     "output_type": "stream",
     "text": [
      "step_size=0.29581689834594727\n",
      "Runtime: 6.77s\n",
      "--------------------------------------------------------------------------------\n",
      "Running HMCVanilla\n",
      "number of blocks: 3\n",
      "processing block: 1\n"
     ]
    },
    {
     "data": {
      "application/vnd.jupyter.widget-view+json": {
       "model_id": "7bd2a6034c224563b79103ef4ea6b132",
       "version_major": 2,
       "version_minor": 0
      },
      "text/plain": [
       "  0%|          | 0/2500 [00:00<?, ?it/s]"
      ]
     },
     "metadata": {},
     "output_type": "display_data"
    },
    {
     "name": "stdout",
     "output_type": "stream",
     "text": [
      "step_size=0.0907907485961914\n",
      "max_step_size=0.48853960633277893\n",
      "broken_traj=56\n",
      "processing block: 2\n"
     ]
    },
    {
     "data": {
      "application/vnd.jupyter.widget-view+json": {
       "model_id": "0acf5ae7e9254c21810adafbe6c35d7c",
       "version_major": 2,
       "version_minor": 0
      },
      "text/plain": [
       "  0%|          | 0/5000 [00:00<?, ?it/s]"
      ]
     },
     "metadata": {},
     "output_type": "display_data"
    },
    {
     "name": "stdout",
     "output_type": "stream",
     "text": [
      "step_size=0.09062409400939941\n",
      "max_step_size=0.48853960633277893\n",
      "broken_traj=57\n",
      "processing block: 3\n"
     ]
    },
    {
     "data": {
      "application/vnd.jupyter.widget-view+json": {
       "model_id": "364f031e822743e3a363e1a411fabd78",
       "version_major": 2,
       "version_minor": 0
      },
      "text/plain": [
       "  0%|          | 0/5000 [00:00<?, ?it/s]"
      ]
     },
     "metadata": {},
     "output_type": "display_data"
    },
    {
     "name": "stdout",
     "output_type": "stream",
     "text": [
      "step_size=0.09045742452144623\n",
      "max_step_size=0.48853960633277893\n",
      "broken_traj=58\n",
      "Runtime: 151.25s\n",
      "--------------------------------------------------------------------------------\n",
      "Running HMCAdaptiveHutchTaylorNoGrad\n",
      "number of blocks: 3\n",
      "processing block: 1\n"
     ]
    },
    {
     "data": {
      "application/vnd.jupyter.widget-view+json": {
       "model_id": "9dc49db4b3784752b08213be40eeb435",
       "version_major": 2,
       "version_minor": 0
      },
      "text/plain": [
       "  0%|          | 0/2500 [00:00<?, ?it/s]"
      ]
     },
     "metadata": {},
     "output_type": "display_data"
    },
    {
     "name": "stdout",
     "output_type": "stream",
     "text": [
      "step_size=0.09363973140716553\n",
      "max_step_size=0.49425002932548523\n",
      "broken_traj=38\n",
      "processing block: 2\n"
     ]
    },
    {
     "data": {
      "application/vnd.jupyter.widget-view+json": {
       "model_id": "b992d252060241c5b6cc82450d687d0c",
       "version_major": 2,
       "version_minor": 0
      },
      "text/plain": [
       "  0%|          | 0/5000 [00:00<?, ?it/s]"
      ]
     },
     "metadata": {},
     "output_type": "display_data"
    },
    {
     "name": "stdout",
     "output_type": "stream",
     "text": [
      "step_size=0.09363973140716553\n",
      "max_step_size=0.49425002932548523\n",
      "broken_traj=38\n",
      "processing block: 3\n"
     ]
    },
    {
     "data": {
      "application/vnd.jupyter.widget-view+json": {
       "model_id": "10717f7d48e647c2a66f56b1850c36b1",
       "version_major": 2,
       "version_minor": 0
      },
      "text/plain": [
       "  0%|          | 0/5000 [00:00<?, ?it/s]"
      ]
     },
     "metadata": {},
     "output_type": "display_data"
    },
    {
     "name": "stdout",
     "output_type": "stream",
     "text": [
      "step_size=0.09363973140716553\n",
      "max_step_size=0.49425002932548523\n",
      "broken_traj=38\n",
      "Runtime: 245.99s\n",
      "--------------------------------------------------------------------------------\n",
      "Running HMCAdaptiveHutchLanczosNoGrad\n",
      "number of blocks: 3\n",
      "processing block: 1\n"
     ]
    },
    {
     "data": {
      "application/vnd.jupyter.widget-view+json": {
       "model_id": "8d95797f24a54645b3b2bdcab6636527",
       "version_major": 2,
       "version_minor": 0
      },
      "text/plain": [
       "  0%|          | 0/2500 [00:00<?, ?it/s]"
      ]
     },
     "metadata": {},
     "output_type": "display_data"
    },
    {
     "name": "stdout",
     "output_type": "stream",
     "text": [
      "step_size=0.08884792029857635\n",
      "max_step_size=0.4862041473388672\n",
      "broken_traj=69\n",
      "processing block: 2\n"
     ]
    },
    {
     "data": {
      "application/vnd.jupyter.widget-view+json": {
       "model_id": "48a1d5ed3f17474badb7464b9a209cd2",
       "version_major": 2,
       "version_minor": 0
      },
      "text/plain": [
       "  0%|          | 0/5000 [00:00<?, ?it/s]"
      ]
     },
     "metadata": {},
     "output_type": "display_data"
    },
    {
     "name": "stdout",
     "output_type": "stream",
     "text": [
      "step_size=0.08884792029857635\n",
      "max_step_size=0.4862041473388672\n",
      "broken_traj=69\n",
      "processing block: 3\n"
     ]
    },
    {
     "data": {
      "application/vnd.jupyter.widget-view+json": {
       "model_id": "b03ce87a496c4baf9294f43266ba6bad",
       "version_major": 2,
       "version_minor": 0
      },
      "text/plain": [
       "  0%|          | 0/5000 [00:00<?, ?it/s]"
      ]
     },
     "metadata": {},
     "output_type": "display_data"
    },
    {
     "name": "stdout",
     "output_type": "stream",
     "text": [
      "step_size=0.08884792029857635\n",
      "max_step_size=0.4862041473388672\n",
      "broken_traj=69\n",
      "Runtime: 284.23s\n",
      "\n",
      "Processing dimension 128\n",
      "--------------------------------------------------------------------------------\n",
      "Running MALA\n",
      "number of blocks: 2\n",
      "processing block: 1\n"
     ]
    },
    {
     "data": {
      "application/vnd.jupyter.widget-view+json": {
       "model_id": "cc67362b5dd94bb19a25d724710b286c",
       "version_major": 2,
       "version_minor": 0
      },
      "text/plain": [
       "  0%|          | 0/7500 [00:00<?, ?it/s]"
      ]
     },
     "metadata": {},
     "output_type": "display_data"
    },
    {
     "name": "stdout",
     "output_type": "stream",
     "text": [
      "step_size=0.21321259438991547\n",
      "processing block: 2\n"
     ]
    },
    {
     "data": {
      "application/vnd.jupyter.widget-view+json": {
       "model_id": "fc6e8cbba02a45b5b7de6d554a32b0be",
       "version_major": 2,
       "version_minor": 0
      },
      "text/plain": [
       "  0%|          | 0/5000 [00:00<?, ?it/s]"
      ]
     },
     "metadata": {},
     "output_type": "display_data"
    },
    {
     "name": "stdout",
     "output_type": "stream",
     "text": [
      "step_size=0.2054613083600998\n",
      "Runtime: 8.65s\n",
      "--------------------------------------------------------------------------------\n",
      "Running HMCVanilla\n",
      "number of blocks: 3\n",
      "processing block: 1\n"
     ]
    },
    {
     "data": {
      "application/vnd.jupyter.widget-view+json": {
       "model_id": "fb5635ad5c93404781549848e70a5c4c",
       "version_major": 2,
       "version_minor": 0
      },
      "text/plain": [
       "  0%|          | 0/2500 [00:00<?, ?it/s]"
      ]
     },
     "metadata": {},
     "output_type": "display_data"
    },
    {
     "name": "stdout",
     "output_type": "stream",
     "text": [
      "step_size=0.08326458930969238\n",
      "max_step_size=0.4794958233833313\n",
      "broken_traj=106\n",
      "processing block: 2\n"
     ]
    },
    {
     "data": {
      "application/vnd.jupyter.widget-view+json": {
       "model_id": "ba362ee4d54a477c8eaa1ad165a45843",
       "version_major": 2,
       "version_minor": 0
      },
      "text/plain": [
       "  0%|          | 0/5000 [00:00<?, ?it/s]"
      ]
     },
     "metadata": {},
     "output_type": "display_data"
    },
    {
     "name": "stdout",
     "output_type": "stream",
     "text": [
      "step_size=0.08312169462442398\n",
      "max_step_size=0.4794958233833313\n",
      "broken_traj=107\n",
      "processing block: 3\n"
     ]
    },
    {
     "data": {
      "application/vnd.jupyter.widget-view+json": {
       "model_id": "d2aaa415b89f4818a21461271d0576b4",
       "version_major": 2,
       "version_minor": 0
      },
      "text/plain": [
       "  0%|          | 0/5000 [00:00<?, ?it/s]"
      ]
     },
     "metadata": {},
     "output_type": "display_data"
    },
    {
     "name": "stdout",
     "output_type": "stream",
     "text": [
      "step_size=0.08312169462442398\n",
      "max_step_size=0.4794958233833313\n",
      "broken_traj=107\n",
      "Runtime: 165.01s\n",
      "--------------------------------------------------------------------------------\n",
      "Running HMCAdaptiveHutchTaylorNoGrad\n",
      "number of blocks: 3\n",
      "processing block: 1\n"
     ]
    },
    {
     "data": {
      "application/vnd.jupyter.widget-view+json": {
       "model_id": "1cc040e795c6437da909f82052faa7d6",
       "version_major": 2,
       "version_minor": 0
      },
      "text/plain": [
       "  0%|          | 0/2500 [00:00<?, ?it/s]"
      ]
     },
     "metadata": {},
     "output_type": "display_data"
    },
    {
     "name": "stdout",
     "output_type": "stream",
     "text": [
      "step_size=0.0832657665014267\n",
      "max_step_size=0.48350003361701965\n",
      "broken_traj=102\n",
      "processing block: 2\n"
     ]
    },
    {
     "data": {
      "application/vnd.jupyter.widget-view+json": {
       "model_id": "3178dd2b260e49cfa58c45aa1110dbdc",
       "version_major": 2,
       "version_minor": 0
      },
      "text/plain": [
       "  0%|          | 0/5000 [00:00<?, ?it/s]"
      ]
     },
     "metadata": {},
     "output_type": "display_data"
    },
    {
     "name": "stdout",
     "output_type": "stream",
     "text": [
      "step_size=0.0832657665014267\n",
      "max_step_size=0.48350003361701965\n",
      "broken_traj=102\n",
      "processing block: 3\n"
     ]
    },
    {
     "data": {
      "application/vnd.jupyter.widget-view+json": {
       "model_id": "ac6c9103462f4425bcd88457fcb12c95",
       "version_major": 2,
       "version_minor": 0
      },
      "text/plain": [
       "  0%|          | 0/5000 [00:00<?, ?it/s]"
      ]
     },
     "metadata": {},
     "output_type": "display_data"
    },
    {
     "name": "stdout",
     "output_type": "stream",
     "text": [
      "step_size=0.0832657665014267\n",
      "max_step_size=0.48350003361701965\n",
      "broken_traj=102\n",
      "Runtime: 270.24s\n",
      "--------------------------------------------------------------------------------\n",
      "Running HMCAdaptiveHutchLanczosNoGrad\n",
      "number of blocks: 3\n",
      "processing block: 1\n"
     ]
    },
    {
     "data": {
      "application/vnd.jupyter.widget-view+json": {
       "model_id": "8869d4865fb84741a55e04ec1dec752b",
       "version_major": 2,
       "version_minor": 0
      },
      "text/plain": [
       "  0%|          | 0/2500 [00:00<?, ?it/s]"
      ]
     },
     "metadata": {},
     "output_type": "display_data"
    },
    {
     "name": "stdout",
     "output_type": "stream",
     "text": [
      "step_size=0.07955603301525116\n",
      "max_step_size=0.477281391620636\n",
      "broken_traj=133\n",
      "processing block: 2\n"
     ]
    },
    {
     "data": {
      "application/vnd.jupyter.widget-view+json": {
       "model_id": "2d5596d566c740b99bcdd3218fcd993f",
       "version_major": 2,
       "version_minor": 0
      },
      "text/plain": [
       "  0%|          | 0/5000 [00:00<?, ?it/s]"
      ]
     },
     "metadata": {},
     "output_type": "display_data"
    },
    {
     "name": "stdout",
     "output_type": "stream",
     "text": [
      "step_size=0.07955603301525116\n",
      "max_step_size=0.477281391620636\n",
      "broken_traj=133\n",
      "processing block: 3\n"
     ]
    },
    {
     "data": {
      "application/vnd.jupyter.widget-view+json": {
       "model_id": "52b7cc29fb54402fa673b8d08e0c4234",
       "version_major": 2,
       "version_minor": 0
      },
      "text/plain": [
       "  0%|          | 0/5000 [00:00<?, ?it/s]"
      ]
     },
     "metadata": {},
     "output_type": "display_data"
    },
    {
     "name": "stdout",
     "output_type": "stream",
     "text": [
      "step_size=0.07955603301525116\n",
      "max_step_size=0.477281391620636\n",
      "broken_traj=133\n",
      "Runtime: 292.21s\n",
      "\n",
      "Processing dimension 256\n",
      "--------------------------------------------------------------------------------\n",
      "Running MALA\n",
      "number of blocks: 2\n",
      "processing block: 1\n"
     ]
    },
    {
     "data": {
      "application/vnd.jupyter.widget-view+json": {
       "model_id": "71eb32c1fdd64d9497c956150f57df09",
       "version_major": 2,
       "version_minor": 0
      },
      "text/plain": [
       "  0%|          | 0/7500 [00:00<?, ?it/s]"
      ]
     },
     "metadata": {},
     "output_type": "display_data"
    },
    {
     "name": "stdout",
     "output_type": "stream",
     "text": [
      "step_size=0.14701983332633972\n",
      "processing block: 2\n"
     ]
    },
    {
     "data": {
      "application/vnd.jupyter.widget-view+json": {
       "model_id": "329d3cae879a43ed9bbd38566ec5d09c",
       "version_major": 2,
       "version_minor": 0
      },
      "text/plain": [
       "  0%|          | 0/5000 [00:00<?, ?it/s]"
      ]
     },
     "metadata": {},
     "output_type": "display_data"
    },
    {
     "name": "stdout",
     "output_type": "stream",
     "text": [
      "step_size=0.14771494269371033\n",
      "Runtime: 12.91s\n",
      "--------------------------------------------------------------------------------\n",
      "Running HMCVanilla\n",
      "number of blocks: 3\n",
      "processing block: 1\n"
     ]
    },
    {
     "data": {
      "application/vnd.jupyter.widget-view+json": {
       "model_id": "8d6a13e64d264577a8f7a99ff39f191d",
       "version_major": 2,
       "version_minor": 0
      },
      "text/plain": [
       "  0%|          | 0/2500 [00:00<?, ?it/s]"
      ]
     },
     "metadata": {},
     "output_type": "display_data"
    },
    {
     "name": "stdout",
     "output_type": "stream",
     "text": [
      "step_size=0.06374817341566086\n",
      "max_step_size=0.4579792320728302\n",
      "broken_traj=190\n",
      "processing block: 2\n"
     ]
    },
    {
     "data": {
      "application/vnd.jupyter.widget-view+json": {
       "model_id": "6918ea62baf04c56a40988e913f7b9dd",
       "version_major": 2,
       "version_minor": 0
      },
      "text/plain": [
       "  0%|          | 0/5000 [00:00<?, ?it/s]"
      ]
     },
     "metadata": {},
     "output_type": "display_data"
    },
    {
     "name": "stdout",
     "output_type": "stream",
     "text": [
      "step_size=0.06374817341566086\n",
      "max_step_size=0.4579792320728302\n",
      "broken_traj=190\n",
      "processing block: 3\n"
     ]
    },
    {
     "data": {
      "application/vnd.jupyter.widget-view+json": {
       "model_id": "d675371c41ff42edbb7998ca6456c7e4",
       "version_major": 2,
       "version_minor": 0
      },
      "text/plain": [
       "  0%|          | 0/5000 [00:00<?, ?it/s]"
      ]
     },
     "metadata": {},
     "output_type": "display_data"
    },
    {
     "name": "stdout",
     "output_type": "stream",
     "text": [
      "step_size=0.06374817341566086\n",
      "max_step_size=0.4579792320728302\n",
      "broken_traj=190\n",
      "Runtime: 184.94s\n",
      "--------------------------------------------------------------------------------\n",
      "Running HMCAdaptiveHutchTaylorNoGrad\n",
      "number of blocks: 3\n",
      "processing block: 1\n"
     ]
    },
    {
     "data": {
      "application/vnd.jupyter.widget-view+json": {
       "model_id": "b46272cc7a3e42b7a412ba4aad21c220",
       "version_major": 2,
       "version_minor": 0
      },
      "text/plain": [
       "  0%|          | 0/2500 [00:00<?, ?it/s]"
      ]
     },
     "metadata": {},
     "output_type": "display_data"
    },
    {
     "name": "stdout",
     "output_type": "stream",
     "text": [
      "step_size=0.060108888894319534\n",
      "max_step_size=0.4582982063293457\n",
      "broken_traj=233\n",
      "processing block: 2\n"
     ]
    },
    {
     "data": {
      "application/vnd.jupyter.widget-view+json": {
       "model_id": "f5f5cd15d608484bb3c1fd719f71f1cd",
       "version_major": 2,
       "version_minor": 0
      },
      "text/plain": [
       "  0%|          | 0/5000 [00:00<?, ?it/s]"
      ]
     },
     "metadata": {},
     "output_type": "display_data"
    },
    {
     "name": "stdout",
     "output_type": "stream",
     "text": [
      "step_size=0.060108888894319534\n",
      "max_step_size=0.4582982063293457\n",
      "broken_traj=233\n",
      "processing block: 3\n"
     ]
    },
    {
     "data": {
      "application/vnd.jupyter.widget-view+json": {
       "model_id": "a11f61c63ac4419bbec661f26d85aee4",
       "version_major": 2,
       "version_minor": 0
      },
      "text/plain": [
       "  0%|          | 0/5000 [00:00<?, ?it/s]"
      ]
     },
     "metadata": {},
     "output_type": "display_data"
    },
    {
     "name": "stdout",
     "output_type": "stream",
     "text": [
      "step_size=0.060108888894319534\n",
      "max_step_size=0.4582982063293457\n",
      "broken_traj=233\n",
      "Runtime: 295.88s\n",
      "--------------------------------------------------------------------------------\n",
      "Running HMCAdaptiveHutchLanczosNoGrad\n",
      "number of blocks: 3\n",
      "processing block: 1\n"
     ]
    },
    {
     "data": {
      "application/vnd.jupyter.widget-view+json": {
       "model_id": "d9bb3d5008054a9ab0d4817c9905c2af",
       "version_major": 2,
       "version_minor": 0
      },
      "text/plain": [
       "  0%|          | 0/2500 [00:00<?, ?it/s]"
      ]
     },
     "metadata": {},
     "output_type": "display_data"
    },
    {
     "name": "stdout",
     "output_type": "stream",
     "text": [
      "step_size=0.06120256707072258\n",
      "max_step_size=0.45373237133026123\n",
      "broken_traj=215\n",
      "processing block: 2\n"
     ]
    },
    {
     "data": {
      "application/vnd.jupyter.widget-view+json": {
       "model_id": "d3426dfb78ad4e6b9af8e11c51e1e824",
       "version_major": 2,
       "version_minor": 0
      },
      "text/plain": [
       "  0%|          | 0/5000 [00:00<?, ?it/s]"
      ]
     },
     "metadata": {},
     "output_type": "display_data"
    },
    {
     "name": "stdout",
     "output_type": "stream",
     "text": [
      "step_size=0.06120256707072258\n",
      "max_step_size=0.45373237133026123\n",
      "broken_traj=215\n",
      "processing block: 3\n"
     ]
    },
    {
     "data": {
      "application/vnd.jupyter.widget-view+json": {
       "model_id": "3eb4b534d7f74b27b6e4f463109a6e03",
       "version_major": 2,
       "version_minor": 0
      },
      "text/plain": [
       "  0%|          | 0/5000 [00:00<?, ?it/s]"
      ]
     },
     "metadata": {},
     "output_type": "display_data"
    },
    {
     "name": "stdout",
     "output_type": "stream",
     "text": [
      "step_size=0.06120256707072258\n",
      "max_step_size=0.45373237133026123\n",
      "broken_traj=215\n",
      "Runtime: 348.48s\n",
      "\n"
     ]
    },
    {
     "data": {
      "application/vnd.jupyter.widget-view+json": {
       "model_id": "74efc9a63efc4e46a37026927f015bcf",
       "version_major": 2,
       "version_minor": 0
      },
      "text/plain": [
       "dimension:   0%|          | 0/6 [00:00<?, ?it/s]"
      ]
     },
     "metadata": {},
     "output_type": "display_data"
    },
    {
     "data": {
      "application/vnd.jupyter.widget-view+json": {
       "model_id": "377c2526864a484193f5aecb8fbe9f18",
       "version_major": 2,
       "version_minor": 0
      },
      "text/plain": [
       "alg:   0%|          | 0/4 [00:00<?, ?it/s]"
      ]
     },
     "metadata": {},
     "output_type": "display_data"
    },
    {
     "name": "stdout",
     "output_type": "stream",
     "text": [
      "\n",
      "dim=8, dist=funnel\n",
      "                      mala  hmc_vanilla  taylor_nograd  lanczos_nograd\n",
      "ess_mean         0.016144     0.154834       0.113226        0.238396\n",
      "ess_conf_sigma   0.001521     0.016950       0.016696        0.024898\n",
      "tv_mean          0.144417     0.074305       0.067218        0.071483\n",
      "tv_conf_sigma    0.007797     0.003992       0.003533        0.003997\n",
      "runtime          6.473643   135.924146     217.585270      237.563017\n",
      "chains_kept     30.000000    30.000000      30.000000       30.000000\n",
      "{8:             alg_A          alg_B  z(ESS_A>B)    p(ESS_A>B)  z(TV_A<B)  \\\n",
      "0  lanczos_nograd  taylor_nograd    4.175423  1.487164e-05  -0.799640   \n",
      "1  lanczos_nograd    hmc_vanilla    2.774306  2.765980e-03   0.499506   \n",
      "2  lanczos_nograd           mala    8.909877  2.554471e-19   8.323978   \n",
      "3   taylor_nograd    hmc_vanilla   -1.748862  9.598426e-01   1.329591   \n",
      "4   taylor_nograd           mala    5.790733  3.503990e-09   9.018564   \n",
      "5     hmc_vanilla           mala    8.149768  1.823110e-16   8.004186   \n",
      "\n",
      "      p(TV_A<B)  \n",
      "0  7.880403e-01  \n",
      "1  3.087114e-01  \n",
      "2  4.252969e-17  \n",
      "3  9.182657e-02  \n",
      "4  9.528534e-20  \n",
      "5  6.012976e-16  }\n"
     ]
    },
    {
     "data": {
      "application/vnd.jupyter.widget-view+json": {
       "model_id": "245c54950ae8425981351a6400a3f5a2",
       "version_major": 2,
       "version_minor": 0
      },
      "text/plain": [
       "alg:   0%|          | 0/4 [00:00<?, ?it/s]"
      ]
     },
     "metadata": {},
     "output_type": "display_data"
    },
    {
     "name": "stdout",
     "output_type": "stream",
     "text": [
      "\n",
      "dim=16, dist=funnel\n",
      "                      mala  hmc_vanilla  taylor_nograd  lanczos_nograd\n",
      "ess_mean         0.017653     0.176690       0.137098        0.304266\n",
      "ess_conf_sigma   0.002109     0.017700       0.017542        0.030621\n",
      "tv_mean          0.185082     0.061486       0.052387        0.063650\n",
      "tv_conf_sigma    0.019843     0.003836       0.003650        0.003514\n",
      "runtime          6.235474   137.630720     228.272370      250.552103\n",
      "chains_kept     30.000000    30.000000      30.000000       30.000000\n",
      "{8:             alg_A          alg_B  z(ESS_A>B)    p(ESS_A>B)  z(TV_A<B)  \\\n",
      "0  lanczos_nograd  taylor_nograd    4.175423  1.487164e-05  -0.799640   \n",
      "1  lanczos_nograd    hmc_vanilla    2.774306  2.765980e-03   0.499506   \n",
      "2  lanczos_nograd           mala    8.909877  2.554471e-19   8.323978   \n",
      "3   taylor_nograd    hmc_vanilla   -1.748862  9.598426e-01   1.329591   \n",
      "4   taylor_nograd           mala    5.790733  3.503990e-09   9.018564   \n",
      "5     hmc_vanilla           mala    8.149768  1.823110e-16   8.004186   \n",
      "\n",
      "      p(TV_A<B)  \n",
      "0  7.880403e-01  \n",
      "1  3.087114e-01  \n",
      "2  4.252969e-17  \n",
      "3  9.182657e-02  \n",
      "4  9.528534e-20  \n",
      "5  6.012976e-16  , 16:             alg_A          alg_B  z(ESS_A>B)    p(ESS_A>B)  z(TV_A<B)  \\\n",
      "0  lanczos_nograd  taylor_nograd    4.736982  1.084621e-06  -2.222938   \n",
      "1  lanczos_nograd    hmc_vanilla    3.607016  1.548694e-04  -0.415976   \n",
      "2  lanczos_nograd           mala    9.337781  4.918686e-21   6.025870   \n",
      "3   taylor_nograd    hmc_vanilla   -1.588759  9.439426e-01   1.718235   \n",
      "4   taylor_nograd           mala    6.760572  6.872383e-12   6.576872   \n",
      "5     hmc_vanilla           mala    8.922057  2.288541e-19   6.115436   \n",
      "\n",
      "      p(TV_A<B)  \n",
      "0  9.868900e-01  \n",
      "1  6.612863e-01  \n",
      "2  8.410099e-10  \n",
      "3  4.287689e-02  \n",
      "4  2.402247e-11  \n",
      "5  4.814678e-10  }\n"
     ]
    },
    {
     "data": {
      "application/vnd.jupyter.widget-view+json": {
       "model_id": "f6b36b15fe1d498fbe25206baafdd512",
       "version_major": 2,
       "version_minor": 0
      },
      "text/plain": [
       "alg:   0%|          | 0/4 [00:00<?, ?it/s]"
      ]
     },
     "metadata": {},
     "output_type": "display_data"
    },
    {
     "name": "stdout",
     "output_type": "stream",
     "text": [
      "\n",
      "dim=32, dist=funnel\n",
      "                      mala  hmc_vanilla  taylor_nograd  lanczos_nograd\n",
      "ess_mean         0.013254     0.174677       0.234542        0.360054\n",
      "ess_conf_sigma   0.001619     0.023238       0.028278        0.036119\n",
      "tv_mean          0.194734     0.072849       0.070465        0.081359\n",
      "tv_conf_sigma    0.017367     0.005263       0.004090        0.005505\n",
      "runtime          6.113301   140.837578     228.929905      248.491642\n",
      "chains_kept     30.000000    30.000000      30.000000       30.000000\n",
      "{8:             alg_A          alg_B  z(ESS_A>B)    p(ESS_A>B)  z(TV_A<B)  \\\n",
      "0  lanczos_nograd  taylor_nograd    4.175423  1.487164e-05  -0.799640   \n",
      "1  lanczos_nograd    hmc_vanilla    2.774306  2.765980e-03   0.499506   \n",
      "2  lanczos_nograd           mala    8.909877  2.554471e-19   8.323978   \n",
      "3   taylor_nograd    hmc_vanilla   -1.748862  9.598426e-01   1.329591   \n",
      "4   taylor_nograd           mala    5.790733  3.503990e-09   9.018564   \n",
      "5     hmc_vanilla           mala    8.149768  1.823110e-16   8.004186   \n",
      "\n",
      "      p(TV_A<B)  \n",
      "0  7.880403e-01  \n",
      "1  3.087114e-01  \n",
      "2  4.252969e-17  \n",
      "3  9.182657e-02  \n",
      "4  9.528534e-20  \n",
      "5  6.012976e-16  , 16:             alg_A          alg_B  z(ESS_A>B)    p(ESS_A>B)  z(TV_A<B)  \\\n",
      "0  lanczos_nograd  taylor_nograd    4.736982  1.084621e-06  -2.222938   \n",
      "1  lanczos_nograd    hmc_vanilla    3.607016  1.548694e-04  -0.415976   \n",
      "2  lanczos_nograd           mala    9.337781  4.918686e-21   6.025870   \n",
      "3   taylor_nograd    hmc_vanilla   -1.588759  9.439426e-01   1.718235   \n",
      "4   taylor_nograd           mala    6.760572  6.872383e-12   6.576872   \n",
      "5     hmc_vanilla           mala    8.922057  2.288541e-19   6.115436   \n",
      "\n",
      "      p(TV_A<B)  \n",
      "0  9.868900e-01  \n",
      "1  6.612863e-01  \n",
      "2  8.410099e-10  \n",
      "3  4.287689e-02  \n",
      "4  2.402247e-11  \n",
      "5  4.814678e-10  , 32:             alg_A          alg_B  z(ESS_A>B)    p(ESS_A>B)  z(TV_A<B)  \\\n",
      "0  lanczos_nograd  taylor_nograd    2.736174  3.107908e-03  -1.588528   \n",
      "1  lanczos_nograd    hmc_vanilla    4.316262  7.934696e-06  -1.117427   \n",
      "2  lanczos_nograd           mala    9.591986  4.320260e-22   6.223176   \n",
      "3   taylor_nograd    hmc_vanilla    1.635596  5.096213e-02   0.357639   \n",
      "4   taylor_nograd           mala    7.812712  2.798515e-15   6.965142   \n",
      "5     hmc_vanilla           mala    6.929758  2.107808e-12   6.716758   \n",
      "\n",
      "      p(TV_A<B)  \n",
      "0  9.439165e-01  \n",
      "1  8.680941e-01  \n",
      "2  2.435948e-10  \n",
      "3  3.603066e-01  \n",
      "4  1.640359e-12  \n",
      "5  9.290606e-12  }\n"
     ]
    },
    {
     "data": {
      "application/vnd.jupyter.widget-view+json": {
       "model_id": "117de85f14ff478bb33e650f7e514ec8",
       "version_major": 2,
       "version_minor": 0
      },
      "text/plain": [
       "alg:   0%|          | 0/4 [00:00<?, ?it/s]"
      ]
     },
     "metadata": {},
     "output_type": "display_data"
    },
    {
     "name": "stdout",
     "output_type": "stream",
     "text": [
      "\n",
      "dim=64, dist=funnel\n",
      "                      mala  hmc_vanilla  taylor_nograd  lanczos_nograd\n",
      "ess_mean         0.017124     0.219315       0.307959        0.330154\n",
      "ess_conf_sigma   0.002687     0.032962       0.028904        0.028279\n",
      "tv_mean          0.211038     0.084329       0.099365        0.091437\n",
      "tv_conf_sigma    0.014064     0.006213       0.009884        0.009770\n",
      "runtime          6.707348   150.601618     244.904181      282.878586\n",
      "chains_kept     30.000000    30.000000      30.000000       30.000000\n",
      "{8:             alg_A          alg_B  z(ESS_A>B)    p(ESS_A>B)  z(TV_A<B)  \\\n",
      "0  lanczos_nograd  taylor_nograd    4.175423  1.487164e-05  -0.799640   \n",
      "1  lanczos_nograd    hmc_vanilla    2.774306  2.765980e-03   0.499506   \n",
      "2  lanczos_nograd           mala    8.909877  2.554471e-19   8.323978   \n",
      "3   taylor_nograd    hmc_vanilla   -1.748862  9.598426e-01   1.329591   \n",
      "4   taylor_nograd           mala    5.790733  3.503990e-09   9.018564   \n",
      "5     hmc_vanilla           mala    8.149768  1.823110e-16   8.004186   \n",
      "\n",
      "      p(TV_A<B)  \n",
      "0  7.880403e-01  \n",
      "1  3.087114e-01  \n",
      "2  4.252969e-17  \n",
      "3  9.182657e-02  \n",
      "4  9.528534e-20  \n",
      "5  6.012976e-16  , 16:             alg_A          alg_B  z(ESS_A>B)    p(ESS_A>B)  z(TV_A<B)  \\\n",
      "0  lanczos_nograd  taylor_nograd    4.736982  1.084621e-06  -2.222938   \n",
      "1  lanczos_nograd    hmc_vanilla    3.607016  1.548694e-04  -0.415976   \n",
      "2  lanczos_nograd           mala    9.337781  4.918686e-21   6.025870   \n",
      "3   taylor_nograd    hmc_vanilla   -1.588759  9.439426e-01   1.718235   \n",
      "4   taylor_nograd           mala    6.760572  6.872383e-12   6.576872   \n",
      "5     hmc_vanilla           mala    8.922057  2.288541e-19   6.115436   \n",
      "\n",
      "      p(TV_A<B)  \n",
      "0  9.868900e-01  \n",
      "1  6.612863e-01  \n",
      "2  8.410099e-10  \n",
      "3  4.287689e-02  \n",
      "4  2.402247e-11  \n",
      "5  4.814678e-10  , 32:             alg_A          alg_B  z(ESS_A>B)    p(ESS_A>B)  z(TV_A<B)  \\\n",
      "0  lanczos_nograd  taylor_nograd    2.736174  3.107908e-03  -1.588528   \n",
      "1  lanczos_nograd    hmc_vanilla    4.316262  7.934696e-06  -1.117427   \n",
      "2  lanczos_nograd           mala    9.591986  4.320260e-22   6.223176   \n",
      "3   taylor_nograd    hmc_vanilla    1.635596  5.096213e-02   0.357639   \n",
      "4   taylor_nograd           mala    7.812712  2.798515e-15   6.965142   \n",
      "5     hmc_vanilla           mala    6.929758  2.107808e-12   6.716758   \n",
      "\n",
      "      p(TV_A<B)  \n",
      "0  9.439165e-01  \n",
      "1  8.680941e-01  \n",
      "2  2.435948e-10  \n",
      "3  3.603066e-01  \n",
      "4  1.640359e-12  \n",
      "5  9.290606e-12  , 64:             alg_A          alg_B  z(ESS_A>B)    p(ESS_A>B)  z(TV_A<B)  \\\n",
      "0  lanczos_nograd  taylor_nograd    0.548871  2.915469e-01   0.570415   \n",
      "1  lanczos_nograd    hmc_vanilla    2.552087  5.353984e-03  -0.613945   \n",
      "2  lanczos_nograd           mala   11.019575  1.537534e-28   6.984092   \n",
      "3   taylor_nograd    hmc_vanilla    2.022008  2.158776e-02  -1.287936   \n",
      "4   taylor_nograd           mala   10.019044  6.285637e-24   6.496436   \n",
      "5     hmc_vanilla           mala    6.113740  4.866137e-10   8.241055   \n",
      "\n",
      "      p(TV_A<B)  \n",
      "0  2.841982e-01  \n",
      "1  7.303743e-01  \n",
      "2  1.433516e-12  \n",
      "3  9.011159e-01  \n",
      "4  4.112242e-11  \n",
      "5  8.534911e-17  }\n"
     ]
    },
    {
     "data": {
      "application/vnd.jupyter.widget-view+json": {
       "model_id": "e77c5557c6cc4f44a592d8d4715fa261",
       "version_major": 2,
       "version_minor": 0
      },
      "text/plain": [
       "alg:   0%|          | 0/4 [00:00<?, ?it/s]"
      ]
     },
     "metadata": {},
     "output_type": "display_data"
    },
    {
     "name": "stdout",
     "output_type": "stream",
     "text": [
      "\n",
      "dim=128, dist=funnel\n",
      "                      mala  hmc_vanilla  taylor_nograd  lanczos_nograd\n",
      "ess_mean         0.020852     0.253696       0.269340        0.322494\n",
      "ess_conf_sigma   0.002879     0.032570       0.032129        0.032867\n",
      "tv_mean          0.217517     0.129502       0.143459        0.127441\n",
      "tv_conf_sigma    0.007983     0.010013       0.012075        0.012657\n",
      "runtime          8.574012   164.245358     269.081178      290.884801\n",
      "chains_kept     30.000000    30.000000      30.000000       30.000000\n",
      "{8:             alg_A          alg_B  z(ESS_A>B)    p(ESS_A>B)  z(TV_A<B)  \\\n",
      "0  lanczos_nograd  taylor_nograd    4.175423  1.487164e-05  -0.799640   \n",
      "1  lanczos_nograd    hmc_vanilla    2.774306  2.765980e-03   0.499506   \n",
      "2  lanczos_nograd           mala    8.909877  2.554471e-19   8.323978   \n",
      "3   taylor_nograd    hmc_vanilla   -1.748862  9.598426e-01   1.329591   \n",
      "4   taylor_nograd           mala    5.790733  3.503990e-09   9.018564   \n",
      "5     hmc_vanilla           mala    8.149768  1.823110e-16   8.004186   \n",
      "\n",
      "      p(TV_A<B)  \n",
      "0  7.880403e-01  \n",
      "1  3.087114e-01  \n",
      "2  4.252969e-17  \n",
      "3  9.182657e-02  \n",
      "4  9.528534e-20  \n",
      "5  6.012976e-16  , 16:             alg_A          alg_B  z(ESS_A>B)    p(ESS_A>B)  z(TV_A<B)  \\\n",
      "0  lanczos_nograd  taylor_nograd    4.736982  1.084621e-06  -2.222938   \n",
      "1  lanczos_nograd    hmc_vanilla    3.607016  1.548694e-04  -0.415976   \n",
      "2  lanczos_nograd           mala    9.337781  4.918686e-21   6.025870   \n",
      "3   taylor_nograd    hmc_vanilla   -1.588759  9.439426e-01   1.718235   \n",
      "4   taylor_nograd           mala    6.760572  6.872383e-12   6.576872   \n",
      "5     hmc_vanilla           mala    8.922057  2.288541e-19   6.115436   \n",
      "\n",
      "      p(TV_A<B)  \n",
      "0  9.868900e-01  \n",
      "1  6.612863e-01  \n",
      "2  8.410099e-10  \n",
      "3  4.287689e-02  \n",
      "4  2.402247e-11  \n",
      "5  4.814678e-10  , 32:             alg_A          alg_B  z(ESS_A>B)    p(ESS_A>B)  z(TV_A<B)  \\\n",
      "0  lanczos_nograd  taylor_nograd    2.736174  3.107908e-03  -1.588528   \n",
      "1  lanczos_nograd    hmc_vanilla    4.316262  7.934696e-06  -1.117427   \n",
      "2  lanczos_nograd           mala    9.591986  4.320260e-22   6.223176   \n",
      "3   taylor_nograd    hmc_vanilla    1.635596  5.096213e-02   0.357639   \n",
      "4   taylor_nograd           mala    7.812712  2.798515e-15   6.965142   \n",
      "5     hmc_vanilla           mala    6.929758  2.107808e-12   6.716758   \n",
      "\n",
      "      p(TV_A<B)  \n",
      "0  9.439165e-01  \n",
      "1  8.680941e-01  \n",
      "2  2.435948e-10  \n",
      "3  3.603066e-01  \n",
      "4  1.640359e-12  \n",
      "5  9.290606e-12  , 64:             alg_A          alg_B  z(ESS_A>B)    p(ESS_A>B)  z(TV_A<B)  \\\n",
      "0  lanczos_nograd  taylor_nograd    0.548871  2.915469e-01   0.570415   \n",
      "1  lanczos_nograd    hmc_vanilla    2.552087  5.353984e-03  -0.613945   \n",
      "2  lanczos_nograd           mala   11.019575  1.537534e-28   6.984092   \n",
      "3   taylor_nograd    hmc_vanilla    2.022008  2.158776e-02  -1.287936   \n",
      "4   taylor_nograd           mala   10.019044  6.285637e-24   6.496436   \n",
      "5     hmc_vanilla           mala    6.113740  4.866137e-10   8.241055   \n",
      "\n",
      "      p(TV_A<B)  \n",
      "0  2.841982e-01  \n",
      "1  7.303743e-01  \n",
      "2  1.433516e-12  \n",
      "3  9.011159e-01  \n",
      "4  4.112242e-11  \n",
      "5  8.534911e-17  , 128:             alg_A          alg_B  z(ESS_A>B)    p(ESS_A>B)  z(TV_A<B)  \\\n",
      "0  lanczos_nograd  taylor_nograd    1.156506  1.237370e-01   0.915686   \n",
      "1  lanczos_nograd    hmc_vanilla    1.486843  6.852810e-02   0.127692   \n",
      "2  lanczos_nograd           mala    9.142779  3.043381e-20   6.019289   \n",
      "3   taylor_nograd    hmc_vanilla    0.341929  3.662021e-01  -0.889768   \n",
      "4   taylor_nograd           mala    7.703238  6.633037e-15   5.116018   \n",
      "5     hmc_vanilla           mala    7.121192  5.349894e-13   6.872915   \n",
      "\n",
      "      p(TV_A<B)  \n",
      "0  1.799157e-01  \n",
      "1  4.491965e-01  \n",
      "2  8.759254e-10  \n",
      "3  8.132047e-01  \n",
      "4  1.560270e-07  \n",
      "5  3.145157e-12  }\n"
     ]
    },
    {
     "data": {
      "application/vnd.jupyter.widget-view+json": {
       "model_id": "a56e0ae63b1b46a8a9aea7ea5c7520ec",
       "version_major": 2,
       "version_minor": 0
      },
      "text/plain": [
       "alg:   0%|          | 0/4 [00:00<?, ?it/s]"
      ]
     },
     "metadata": {},
     "output_type": "display_data"
    },
    {
     "name": "stdout",
     "output_type": "stream",
     "text": [
      "\n",
      "dim=256, dist=funnel\n",
      "                      mala  hmc_vanilla  taylor_nograd  lanczos_nograd\n",
      "ess_mean         0.021322     0.255949       0.289637        0.287621\n",
      "ess_conf_sigma   0.002218     0.033917       0.026868        0.032756\n",
      "tv_mean          0.233524     0.143611       0.152254        0.166796\n",
      "tv_conf_sigma    0.005367     0.012048       0.012220        0.022125\n",
      "runtime         12.819117   184.134651     294.704417      346.972637\n",
      "chains_kept     30.000000    30.000000      29.000000       28.000000\n",
      "{8:             alg_A          alg_B  z(ESS_A>B)    p(ESS_A>B)  z(TV_A<B)  \\\n",
      "0  lanczos_nograd  taylor_nograd    4.175423  1.487164e-05  -0.799640   \n",
      "1  lanczos_nograd    hmc_vanilla    2.774306  2.765980e-03   0.499506   \n",
      "2  lanczos_nograd           mala    8.909877  2.554471e-19   8.323978   \n",
      "3   taylor_nograd    hmc_vanilla   -1.748862  9.598426e-01   1.329591   \n",
      "4   taylor_nograd           mala    5.790733  3.503990e-09   9.018564   \n",
      "5     hmc_vanilla           mala    8.149768  1.823110e-16   8.004186   \n",
      "\n",
      "      p(TV_A<B)  \n",
      "0  7.880403e-01  \n",
      "1  3.087114e-01  \n",
      "2  4.252969e-17  \n",
      "3  9.182657e-02  \n",
      "4  9.528534e-20  \n",
      "5  6.012976e-16  , 16:             alg_A          alg_B  z(ESS_A>B)    p(ESS_A>B)  z(TV_A<B)  \\\n",
      "0  lanczos_nograd  taylor_nograd    4.736982  1.084621e-06  -2.222938   \n",
      "1  lanczos_nograd    hmc_vanilla    3.607016  1.548694e-04  -0.415976   \n",
      "2  lanczos_nograd           mala    9.337781  4.918686e-21   6.025870   \n",
      "3   taylor_nograd    hmc_vanilla   -1.588759  9.439426e-01   1.718235   \n",
      "4   taylor_nograd           mala    6.760572  6.872383e-12   6.576872   \n",
      "5     hmc_vanilla           mala    8.922057  2.288541e-19   6.115436   \n",
      "\n",
      "      p(TV_A<B)  \n",
      "0  9.868900e-01  \n",
      "1  6.612863e-01  \n",
      "2  8.410099e-10  \n",
      "3  4.287689e-02  \n",
      "4  2.402247e-11  \n",
      "5  4.814678e-10  , 32:             alg_A          alg_B  z(ESS_A>B)    p(ESS_A>B)  z(TV_A<B)  \\\n",
      "0  lanczos_nograd  taylor_nograd    2.736174  3.107908e-03  -1.588528   \n",
      "1  lanczos_nograd    hmc_vanilla    4.316262  7.934696e-06  -1.117427   \n",
      "2  lanczos_nograd           mala    9.591986  4.320260e-22   6.223176   \n",
      "3   taylor_nograd    hmc_vanilla    1.635596  5.096213e-02   0.357639   \n",
      "4   taylor_nograd           mala    7.812712  2.798515e-15   6.965142   \n",
      "5     hmc_vanilla           mala    6.929758  2.107808e-12   6.716758   \n",
      "\n",
      "      p(TV_A<B)  \n",
      "0  9.439165e-01  \n",
      "1  8.680941e-01  \n",
      "2  2.435948e-10  \n",
      "3  3.603066e-01  \n",
      "4  1.640359e-12  \n",
      "5  9.290606e-12  , 64:             alg_A          alg_B  z(ESS_A>B)    p(ESS_A>B)  z(TV_A<B)  \\\n",
      "0  lanczos_nograd  taylor_nograd    0.548871  2.915469e-01   0.570415   \n",
      "1  lanczos_nograd    hmc_vanilla    2.552087  5.353984e-03  -0.613945   \n",
      "2  lanczos_nograd           mala   11.019575  1.537534e-28   6.984092   \n",
      "3   taylor_nograd    hmc_vanilla    2.022008  2.158776e-02  -1.287936   \n",
      "4   taylor_nograd           mala   10.019044  6.285637e-24   6.496436   \n",
      "5     hmc_vanilla           mala    6.113740  4.866137e-10   8.241055   \n",
      "\n",
      "      p(TV_A<B)  \n",
      "0  2.841982e-01  \n",
      "1  7.303743e-01  \n",
      "2  1.433516e-12  \n",
      "3  9.011159e-01  \n",
      "4  4.112242e-11  \n",
      "5  8.534911e-17  , 128:             alg_A          alg_B  z(ESS_A>B)    p(ESS_A>B)  z(TV_A<B)  \\\n",
      "0  lanczos_nograd  taylor_nograd    1.156506  1.237370e-01   0.915686   \n",
      "1  lanczos_nograd    hmc_vanilla    1.486843  6.852810e-02   0.127692   \n",
      "2  lanczos_nograd           mala    9.142779  3.043381e-20   6.019289   \n",
      "3   taylor_nograd    hmc_vanilla    0.341929  3.662021e-01  -0.889768   \n",
      "4   taylor_nograd           mala    7.703238  6.633037e-15   5.116018   \n",
      "5     hmc_vanilla           mala    7.121192  5.349894e-13   6.872915   \n",
      "\n",
      "      p(TV_A<B)  \n",
      "0  1.799157e-01  \n",
      "1  4.491965e-01  \n",
      "2  8.759254e-10  \n",
      "3  8.132047e-01  \n",
      "4  1.560270e-07  \n",
      "5  3.145157e-12  , 256:             alg_A          alg_B  z(ESS_A>B)    p(ESS_A>B)  z(TV_A<B)  \\\n",
      "0  lanczos_nograd  taylor_nograd   -0.047587  5.189772e-01  -0.575343   \n",
      "1  lanczos_nograd    hmc_vanilla    0.671705  2.508858e-01  -0.920302   \n",
      "2  lanczos_nograd           mala    8.111198  2.506152e-16   2.930880   \n",
      "3   taylor_nograd    hmc_vanilla    0.778571  2.181164e-01  -0.503644   \n",
      "4   taylor_nograd           mala    9.952609  1.228290e-23   6.089042   \n",
      "5     hmc_vanilla           mala    6.902895  2.547656e-12   6.817162   \n",
      "\n",
      "      p(TV_A<B)  \n",
      "0  7.174704e-01  \n",
      "1  8.212925e-01  \n",
      "2  1.690015e-03  \n",
      "3  6.927443e-01  \n",
      "4  5.679429e-10  \n",
      "5  4.642830e-12  }\n"
     ]
    },
    {
     "data": {
      "application/vnd.jupyter.widget-view+json": {
       "model_id": "c4047d0a06104ff781367bca47470983",
       "version_major": 2,
       "version_minor": 0
      },
      "text/plain": [
       "  0%|          | 0/6 [00:00<?, ?it/s]"
      ]
     },
     "metadata": {},
     "output_type": "display_data"
    },
    {
     "name": "stdout",
     "output_type": "stream",
     "text": [
      "Processing dimension 8\n",
      "--------------------------------------------------------------------------------\n",
      "Running MALA\n",
      "number of blocks: 2\n",
      "processing block: 1\n"
     ]
    },
    {
     "data": {
      "application/vnd.jupyter.widget-view+json": {
       "model_id": "9f542fa8c2bb49b386bfe932c12a1821",
       "version_major": 2,
       "version_minor": 0
      },
      "text/plain": [
       "  0%|          | 0/7500 [00:00<?, ?it/s]"
      ]
     },
     "metadata": {},
     "output_type": "display_data"
    },
    {
     "name": "stdout",
     "output_type": "stream",
     "text": [
      "step_size=1.472845435142517\n",
      "processing block: 2\n"
     ]
    },
    {
     "data": {
      "application/vnd.jupyter.widget-view+json": {
       "model_id": "0f2f23dcf4cd48faa18e9cb6090feed7",
       "version_major": 2,
       "version_minor": 0
      },
      "text/plain": [
       "  0%|          | 0/5000 [00:00<?, ?it/s]"
      ]
     },
     "metadata": {},
     "output_type": "display_data"
    },
    {
     "name": "stdout",
     "output_type": "stream",
     "text": [
      "step_size=1.4589762687683105\n",
      "Runtime: 8.23s\n",
      "--------------------------------------------------------------------------------\n",
      "Running HMCVanilla\n",
      "number of blocks: 3\n",
      "processing block: 1\n"
     ]
    },
    {
     "data": {
      "application/vnd.jupyter.widget-view+json": {
       "model_id": "0b2cc9e5aeff469883bbfab389b6f730",
       "version_major": 2,
       "version_minor": 0
      },
      "text/plain": [
       "  0%|          | 0/2500 [00:00<?, ?it/s]"
      ]
     },
     "metadata": {},
     "output_type": "display_data"
    },
    {
     "name": "stdout",
     "output_type": "stream",
     "text": [
      "step_size=0.09999999403953552\n",
      "max_step_size=0.5\n",
      "broken_traj=0\n",
      "processing block: 2\n"
     ]
    },
    {
     "data": {
      "application/vnd.jupyter.widget-view+json": {
       "model_id": "653b5874c9d44b30b0f056b089c023e5",
       "version_major": 2,
       "version_minor": 0
      },
      "text/plain": [
       "  0%|          | 0/5000 [00:00<?, ?it/s]"
      ]
     },
     "metadata": {},
     "output_type": "display_data"
    },
    {
     "name": "stdout",
     "output_type": "stream",
     "text": [
      "step_size=0.09999999403953552\n",
      "max_step_size=0.5\n",
      "broken_traj=0\n",
      "processing block: 3\n"
     ]
    },
    {
     "data": {
      "application/vnd.jupyter.widget-view+json": {
       "model_id": "81114be36b4d403eb931beb99f5d9f23",
       "version_major": 2,
       "version_minor": 0
      },
      "text/plain": [
       "  0%|          | 0/5000 [00:00<?, ?it/s]"
      ]
     },
     "metadata": {},
     "output_type": "display_data"
    },
    {
     "name": "stdout",
     "output_type": "stream",
     "text": [
      "step_size=0.09999999403953552\n",
      "max_step_size=0.5\n",
      "broken_traj=0\n",
      "Runtime: 251.95s\n",
      "--------------------------------------------------------------------------------\n",
      "Running HMCAdaptiveHutchTaylorNoGrad\n",
      "number of blocks: 3\n",
      "processing block: 1\n"
     ]
    },
    {
     "data": {
      "application/vnd.jupyter.widget-view+json": {
       "model_id": "9b3c414b1df24dffae4e1137da8aebf0",
       "version_major": 2,
       "version_minor": 0
      },
      "text/plain": [
       "  0%|          | 0/2500 [00:00<?, ?it/s]"
      ]
     },
     "metadata": {},
     "output_type": "display_data"
    },
    {
     "name": "stdout",
     "output_type": "stream",
     "text": [
      "step_size=0.09999999403953552\n",
      "max_step_size=0.5\n",
      "broken_traj=0\n",
      "processing block: 2\n"
     ]
    },
    {
     "data": {
      "application/vnd.jupyter.widget-view+json": {
       "model_id": "92251f8dff8f4e79986d04cbc18399a5",
       "version_major": 2,
       "version_minor": 0
      },
      "text/plain": [
       "  0%|          | 0/5000 [00:00<?, ?it/s]"
      ]
     },
     "metadata": {},
     "output_type": "display_data"
    },
    {
     "name": "stdout",
     "output_type": "stream",
     "text": [
      "step_size=0.09999999403953552\n",
      "max_step_size=0.5\n",
      "broken_traj=0\n",
      "processing block: 3\n"
     ]
    },
    {
     "data": {
      "application/vnd.jupyter.widget-view+json": {
       "model_id": "6b5160deb4674c9e8b1c6da0fb3c6796",
       "version_major": 2,
       "version_minor": 0
      },
      "text/plain": [
       "  0%|          | 0/5000 [00:00<?, ?it/s]"
      ]
     },
     "metadata": {},
     "output_type": "display_data"
    },
    {
     "name": "stdout",
     "output_type": "stream",
     "text": [
      "step_size=0.09999999403953552\n",
      "max_step_size=0.5\n",
      "broken_traj=0\n",
      "Runtime: 395.84s\n",
      "--------------------------------------------------------------------------------\n",
      "Running HMCAdaptiveHutchLanczosNoGrad\n",
      "number of blocks: 3\n",
      "processing block: 1\n"
     ]
    },
    {
     "data": {
      "application/vnd.jupyter.widget-view+json": {
       "model_id": "63b8b4344d224badb05ed1fd93d8c46a",
       "version_major": 2,
       "version_minor": 0
      },
      "text/plain": [
       "  0%|          | 0/2500 [00:00<?, ?it/s]"
      ]
     },
     "metadata": {},
     "output_type": "display_data"
    },
    {
     "name": "stdout",
     "output_type": "stream",
     "text": [
      "step_size=0.09999999403953552\n",
      "max_step_size=0.5\n",
      "broken_traj=0\n",
      "processing block: 2\n"
     ]
    },
    {
     "data": {
      "application/vnd.jupyter.widget-view+json": {
       "model_id": "1896d9c3978a4478b6550126b49515fa",
       "version_major": 2,
       "version_minor": 0
      },
      "text/plain": [
       "  0%|          | 0/5000 [00:00<?, ?it/s]"
      ]
     },
     "metadata": {},
     "output_type": "display_data"
    },
    {
     "name": "stdout",
     "output_type": "stream",
     "text": [
      "step_size=0.09999999403953552\n",
      "max_step_size=0.5\n",
      "broken_traj=0\n",
      "processing block: 3\n"
     ]
    },
    {
     "data": {
      "application/vnd.jupyter.widget-view+json": {
       "model_id": "936024fe65bc4f25a6c045e8d9eb4c7a",
       "version_major": 2,
       "version_minor": 0
      },
      "text/plain": [
       "  0%|          | 0/5000 [00:00<?, ?it/s]"
      ]
     },
     "metadata": {},
     "output_type": "display_data"
    },
    {
     "name": "stdout",
     "output_type": "stream",
     "text": [
      "step_size=0.09999999403953552\n",
      "max_step_size=0.5\n",
      "broken_traj=0\n",
      "Runtime: 428.24s\n",
      "\n",
      "Processing dimension 16\n",
      "--------------------------------------------------------------------------------\n",
      "Running MALA\n",
      "number of blocks: 2\n",
      "processing block: 1\n"
     ]
    },
    {
     "data": {
      "application/vnd.jupyter.widget-view+json": {
       "model_id": "26eb8f7b52b94b78bff32ec615bf118b",
       "version_major": 2,
       "version_minor": 0
      },
      "text/plain": [
       "  0%|          | 0/7500 [00:00<?, ?it/s]"
      ]
     },
     "metadata": {},
     "output_type": "display_data"
    },
    {
     "name": "stdout",
     "output_type": "stream",
     "text": [
      "step_size=1.147138237953186\n",
      "processing block: 2\n"
     ]
    },
    {
     "data": {
      "application/vnd.jupyter.widget-view+json": {
       "model_id": "13a16cdea4f4423f9361a8a631a6022d",
       "version_major": 2,
       "version_minor": 0
      },
      "text/plain": [
       "  0%|          | 0/5000 [00:00<?, ?it/s]"
      ]
     },
     "metadata": {},
     "output_type": "display_data"
    },
    {
     "name": "stdout",
     "output_type": "stream",
     "text": [
      "step_size=1.1553412675857544\n",
      "Runtime: 8.34s\n",
      "--------------------------------------------------------------------------------\n",
      "Running HMCVanilla\n",
      "number of blocks: 3\n",
      "processing block: 1\n"
     ]
    },
    {
     "data": {
      "application/vnd.jupyter.widget-view+json": {
       "model_id": "f51bd78dea564a06a3a10036672d0a61",
       "version_major": 2,
       "version_minor": 0
      },
      "text/plain": [
       "  0%|          | 0/2500 [00:00<?, ?it/s]"
      ]
     },
     "metadata": {},
     "output_type": "display_data"
    },
    {
     "name": "stdout",
     "output_type": "stream",
     "text": [
      "step_size=0.09999999403953552\n",
      "max_step_size=0.5\n",
      "broken_traj=0\n",
      "processing block: 2\n"
     ]
    },
    {
     "data": {
      "application/vnd.jupyter.widget-view+json": {
       "model_id": "178ba7eae9e94a5bad2d688d31265b0e",
       "version_major": 2,
       "version_minor": 0
      },
      "text/plain": [
       "  0%|          | 0/5000 [00:00<?, ?it/s]"
      ]
     },
     "metadata": {},
     "output_type": "display_data"
    },
    {
     "name": "stdout",
     "output_type": "stream",
     "text": [
      "step_size=0.09999999403953552\n",
      "max_step_size=0.5\n",
      "broken_traj=0\n",
      "processing block: 3\n"
     ]
    },
    {
     "data": {
      "application/vnd.jupyter.widget-view+json": {
       "model_id": "00ab3d6ea30246b7b2ff8ae6158b9398",
       "version_major": 2,
       "version_minor": 0
      },
      "text/plain": [
       "  0%|          | 0/5000 [00:00<?, ?it/s]"
      ]
     },
     "metadata": {},
     "output_type": "display_data"
    },
    {
     "name": "stdout",
     "output_type": "stream",
     "text": [
      "step_size=0.09999999403953552\n",
      "max_step_size=0.5\n",
      "broken_traj=0\n",
      "Runtime: 260.22s\n",
      "--------------------------------------------------------------------------------\n",
      "Running HMCAdaptiveHutchTaylorNoGrad\n",
      "number of blocks: 3\n",
      "processing block: 1\n"
     ]
    },
    {
     "data": {
      "application/vnd.jupyter.widget-view+json": {
       "model_id": "dc871d3ffacd496bb5348fc83fb60295",
       "version_major": 2,
       "version_minor": 0
      },
      "text/plain": [
       "  0%|          | 0/2500 [00:00<?, ?it/s]"
      ]
     },
     "metadata": {},
     "output_type": "display_data"
    },
    {
     "name": "stdout",
     "output_type": "stream",
     "text": [
      "step_size=0.09999999403953552\n",
      "max_step_size=0.5\n",
      "broken_traj=0\n",
      "processing block: 2\n"
     ]
    },
    {
     "data": {
      "application/vnd.jupyter.widget-view+json": {
       "model_id": "5326d0a0d9a14b4f92edcef6cef01a8c",
       "version_major": 2,
       "version_minor": 0
      },
      "text/plain": [
       "  0%|          | 0/5000 [00:00<?, ?it/s]"
      ]
     },
     "metadata": {},
     "output_type": "display_data"
    },
    {
     "name": "stdout",
     "output_type": "stream",
     "text": [
      "step_size=0.09999999403953552\n",
      "max_step_size=0.5\n",
      "broken_traj=0\n",
      "processing block: 3\n"
     ]
    },
    {
     "data": {
      "application/vnd.jupyter.widget-view+json": {
       "model_id": "d7b30507a97e41a099f6cf57bb7e14e4",
       "version_major": 2,
       "version_minor": 0
      },
      "text/plain": [
       "  0%|          | 0/5000 [00:00<?, ?it/s]"
      ]
     },
     "metadata": {},
     "output_type": "display_data"
    },
    {
     "name": "stdout",
     "output_type": "stream",
     "text": [
      "step_size=0.09999999403953552\n",
      "max_step_size=0.5\n",
      "broken_traj=0\n",
      "Runtime: 411.16s\n",
      "--------------------------------------------------------------------------------\n",
      "Running HMCAdaptiveHutchLanczosNoGrad\n",
      "number of blocks: 3\n",
      "processing block: 1\n"
     ]
    },
    {
     "data": {
      "application/vnd.jupyter.widget-view+json": {
       "model_id": "8b7bdaf90c9340d597ae8183e5fbd9b7",
       "version_major": 2,
       "version_minor": 0
      },
      "text/plain": [
       "  0%|          | 0/2500 [00:00<?, ?it/s]"
      ]
     },
     "metadata": {},
     "output_type": "display_data"
    },
    {
     "name": "stdout",
     "output_type": "stream",
     "text": [
      "step_size=0.09999999403953552\n",
      "max_step_size=0.5\n",
      "broken_traj=0\n",
      "processing block: 2\n"
     ]
    },
    {
     "data": {
      "application/vnd.jupyter.widget-view+json": {
       "model_id": "6f381526904643d3952653a245281374",
       "version_major": 2,
       "version_minor": 0
      },
      "text/plain": [
       "  0%|          | 0/5000 [00:00<?, ?it/s]"
      ]
     },
     "metadata": {},
     "output_type": "display_data"
    },
    {
     "name": "stdout",
     "output_type": "stream",
     "text": [
      "step_size=0.09999999403953552\n",
      "max_step_size=0.5\n",
      "broken_traj=0\n",
      "processing block: 3\n"
     ]
    },
    {
     "data": {
      "application/vnd.jupyter.widget-view+json": {
       "model_id": "cd56690cc1b3403ea733c0983f489bb5",
       "version_major": 2,
       "version_minor": 0
      },
      "text/plain": [
       "  0%|          | 0/5000 [00:00<?, ?it/s]"
      ]
     },
     "metadata": {},
     "output_type": "display_data"
    },
    {
     "name": "stdout",
     "output_type": "stream",
     "text": [
      "step_size=0.09999999403953552\n",
      "max_step_size=0.5\n",
      "broken_traj=0\n",
      "Runtime: 449.44s\n",
      "\n",
      "Processing dimension 32\n",
      "--------------------------------------------------------------------------------\n",
      "Running MALA\n",
      "number of blocks: 2\n",
      "processing block: 1\n"
     ]
    },
    {
     "data": {
      "application/vnd.jupyter.widget-view+json": {
       "model_id": "82b6e7bc73e94571975b72598d6e0f3d",
       "version_major": 2,
       "version_minor": 0
      },
      "text/plain": [
       "  0%|          | 0/7500 [00:00<?, ?it/s]"
      ]
     },
     "metadata": {},
     "output_type": "display_data"
    },
    {
     "name": "stdout",
     "output_type": "stream",
     "text": [
      "step_size=0.9370156526565552\n",
      "processing block: 2\n"
     ]
    },
    {
     "data": {
      "application/vnd.jupyter.widget-view+json": {
       "model_id": "32473e5ae09046b5bb5e74e25a81ebd5",
       "version_major": 2,
       "version_minor": 0
      },
      "text/plain": [
       "  0%|          | 0/5000 [00:00<?, ?it/s]"
      ]
     },
     "metadata": {},
     "output_type": "display_data"
    },
    {
     "name": "stdout",
     "output_type": "stream",
     "text": [
      "step_size=0.9412366151809692\n",
      "Runtime: 9.56s\n",
      "--------------------------------------------------------------------------------\n",
      "Running HMCVanilla\n",
      "number of blocks: 3\n",
      "processing block: 1\n"
     ]
    },
    {
     "data": {
      "application/vnd.jupyter.widget-view+json": {
       "model_id": "e8e6f21a5c524735b228af2cdfffdb35",
       "version_major": 2,
       "version_minor": 0
      },
      "text/plain": [
       "  0%|          | 0/2500 [00:00<?, ?it/s]"
      ]
     },
     "metadata": {},
     "output_type": "display_data"
    },
    {
     "name": "stdout",
     "output_type": "stream",
     "text": [
      "step_size=0.09999999403953552\n",
      "max_step_size=0.5\n",
      "broken_traj=0\n",
      "processing block: 2\n"
     ]
    },
    {
     "data": {
      "application/vnd.jupyter.widget-view+json": {
       "model_id": "1aae2184007b49869328191c79ca1caf",
       "version_major": 2,
       "version_minor": 0
      },
      "text/plain": [
       "  0%|          | 0/5000 [00:00<?, ?it/s]"
      ]
     },
     "metadata": {},
     "output_type": "display_data"
    },
    {
     "name": "stdout",
     "output_type": "stream",
     "text": [
      "step_size=0.09999999403953552\n",
      "max_step_size=0.5\n",
      "broken_traj=0\n",
      "processing block: 3\n"
     ]
    },
    {
     "data": {
      "application/vnd.jupyter.widget-view+json": {
       "model_id": "f03c9fef60974bee88e0200aee9bedf5",
       "version_major": 2,
       "version_minor": 0
      },
      "text/plain": [
       "  0%|          | 0/5000 [00:00<?, ?it/s]"
      ]
     },
     "metadata": {},
     "output_type": "display_data"
    },
    {
     "name": "stdout",
     "output_type": "stream",
     "text": [
      "step_size=0.09999999403953552\n",
      "max_step_size=0.5\n",
      "broken_traj=0\n",
      "Runtime: 311.34s\n",
      "--------------------------------------------------------------------------------\n",
      "Running HMCAdaptiveHutchTaylorNoGrad\n",
      "number of blocks: 3\n",
      "processing block: 1\n"
     ]
    },
    {
     "data": {
      "application/vnd.jupyter.widget-view+json": {
       "model_id": "94f811c49dd44faea83ee738e475e23a",
       "version_major": 2,
       "version_minor": 0
      },
      "text/plain": [
       "  0%|          | 0/2500 [00:00<?, ?it/s]"
      ]
     },
     "metadata": {},
     "output_type": "display_data"
    },
    {
     "name": "stdout",
     "output_type": "stream",
     "text": [
      "step_size=0.09999999403953552\n",
      "max_step_size=0.5\n",
      "broken_traj=0\n",
      "processing block: 2\n"
     ]
    },
    {
     "data": {
      "application/vnd.jupyter.widget-view+json": {
       "model_id": "381b35b93a9b4690aa08dc80b0d310e4",
       "version_major": 2,
       "version_minor": 0
      },
      "text/plain": [
       "  0%|          | 0/5000 [00:00<?, ?it/s]"
      ]
     },
     "metadata": {},
     "output_type": "display_data"
    },
    {
     "name": "stdout",
     "output_type": "stream",
     "text": [
      "step_size=0.09999999403953552\n",
      "max_step_size=0.5\n",
      "broken_traj=0\n",
      "processing block: 3\n"
     ]
    },
    {
     "data": {
      "application/vnd.jupyter.widget-view+json": {
       "model_id": "4f97a832af2b40cfacb5e8f775079a18",
       "version_major": 2,
       "version_minor": 0
      },
      "text/plain": [
       "  0%|          | 0/5000 [00:00<?, ?it/s]"
      ]
     },
     "metadata": {},
     "output_type": "display_data"
    },
    {
     "name": "stdout",
     "output_type": "stream",
     "text": [
      "step_size=0.09999999403953552\n",
      "max_step_size=0.5\n",
      "broken_traj=0\n",
      "Runtime: 488.25s\n",
      "--------------------------------------------------------------------------------\n",
      "Running HMCAdaptiveHutchLanczosNoGrad\n",
      "number of blocks: 3\n",
      "processing block: 1\n"
     ]
    },
    {
     "data": {
      "application/vnd.jupyter.widget-view+json": {
       "model_id": "066b6c31937b4ba78d7c89a50c96035d",
       "version_major": 2,
       "version_minor": 0
      },
      "text/plain": [
       "  0%|          | 0/2500 [00:00<?, ?it/s]"
      ]
     },
     "metadata": {},
     "output_type": "display_data"
    },
    {
     "name": "stdout",
     "output_type": "stream",
     "text": [
      "step_size=0.09999999403953552\n",
      "max_step_size=0.5\n",
      "broken_traj=0\n",
      "processing block: 2\n"
     ]
    },
    {
     "data": {
      "application/vnd.jupyter.widget-view+json": {
       "model_id": "4f5781c450c342b6946482ef3e643cbb",
       "version_major": 2,
       "version_minor": 0
      },
      "text/plain": [
       "  0%|          | 0/5000 [00:00<?, ?it/s]"
      ]
     },
     "metadata": {},
     "output_type": "display_data"
    },
    {
     "name": "stdout",
     "output_type": "stream",
     "text": [
      "step_size=0.09999999403953552\n",
      "max_step_size=0.5\n",
      "broken_traj=0\n",
      "processing block: 3\n"
     ]
    },
    {
     "data": {
      "application/vnd.jupyter.widget-view+json": {
       "model_id": "da08c88412194237958d2a56838ce935",
       "version_major": 2,
       "version_minor": 0
      },
      "text/plain": [
       "  0%|          | 0/5000 [00:00<?, ?it/s]"
      ]
     },
     "metadata": {},
     "output_type": "display_data"
    },
    {
     "name": "stdout",
     "output_type": "stream",
     "text": [
      "step_size=0.09999999403953552\n",
      "max_step_size=0.5\n",
      "broken_traj=0\n",
      "Runtime: 533.55s\n",
      "\n",
      "Processing dimension 64\n",
      "--------------------------------------------------------------------------------\n",
      "Running MALA\n",
      "number of blocks: 2\n",
      "processing block: 1\n"
     ]
    },
    {
     "data": {
      "application/vnd.jupyter.widget-view+json": {
       "model_id": "a6094f08b19a4097b2dbec72832374b1",
       "version_major": 2,
       "version_minor": 0
      },
      "text/plain": [
       "  0%|          | 0/7500 [00:00<?, ?it/s]"
      ]
     },
     "metadata": {},
     "output_type": "display_data"
    },
    {
     "name": "stdout",
     "output_type": "stream",
     "text": [
      "step_size=0.8279296159744263\n",
      "processing block: 2\n"
     ]
    },
    {
     "data": {
      "application/vnd.jupyter.widget-view+json": {
       "model_id": "965939f5e0f34a3eb2aada0638edc1d1",
       "version_major": 2,
       "version_minor": 0
      },
      "text/plain": [
       "  0%|          | 0/5000 [00:00<?, ?it/s]"
      ]
     },
     "metadata": {},
     "output_type": "display_data"
    },
    {
     "name": "stdout",
     "output_type": "stream",
     "text": [
      "step_size=0.8379371166229248\n",
      "Runtime: 12.35s\n",
      "--------------------------------------------------------------------------------\n",
      "Running HMCVanilla\n",
      "number of blocks: 3\n",
      "processing block: 1\n"
     ]
    },
    {
     "data": {
      "application/vnd.jupyter.widget-view+json": {
       "model_id": "2551b39c4f2147f3be37907fc22b5dd0",
       "version_major": 2,
       "version_minor": 0
      },
      "text/plain": [
       "  0%|          | 0/2500 [00:00<?, ?it/s]"
      ]
     },
     "metadata": {},
     "output_type": "display_data"
    },
    {
     "name": "stdout",
     "output_type": "stream",
     "text": [
      "step_size=0.09999999403953552\n",
      "max_step_size=0.5\n",
      "broken_traj=0\n",
      "processing block: 2\n"
     ]
    },
    {
     "data": {
      "application/vnd.jupyter.widget-view+json": {
       "model_id": "0ef20ed4fa1c4c9da309a8000dc8b702",
       "version_major": 2,
       "version_minor": 0
      },
      "text/plain": [
       "  0%|          | 0/5000 [00:00<?, ?it/s]"
      ]
     },
     "metadata": {},
     "output_type": "display_data"
    },
    {
     "name": "stdout",
     "output_type": "stream",
     "text": [
      "step_size=0.09999999403953552\n",
      "max_step_size=0.5\n",
      "broken_traj=0\n",
      "processing block: 3\n"
     ]
    },
    {
     "data": {
      "application/vnd.jupyter.widget-view+json": {
       "model_id": "87a0091ebce84ecf9d58cd3adab1bcf3",
       "version_major": 2,
       "version_minor": 0
      },
      "text/plain": [
       "  0%|          | 0/5000 [00:00<?, ?it/s]"
      ]
     },
     "metadata": {},
     "output_type": "display_data"
    },
    {
     "name": "stdout",
     "output_type": "stream",
     "text": [
      "step_size=0.09999999403953552\n",
      "max_step_size=0.5\n",
      "broken_traj=0\n",
      "Runtime: 434.27s\n",
      "--------------------------------------------------------------------------------\n",
      "Running HMCAdaptiveHutchTaylorNoGrad\n",
      "number of blocks: 3\n",
      "processing block: 1\n"
     ]
    },
    {
     "data": {
      "application/vnd.jupyter.widget-view+json": {
       "model_id": "7f567b3e7eba421095587fe43faf4b3f",
       "version_major": 2,
       "version_minor": 0
      },
      "text/plain": [
       "  0%|          | 0/2500 [00:00<?, ?it/s]"
      ]
     },
     "metadata": {},
     "output_type": "display_data"
    },
    {
     "name": "stdout",
     "output_type": "stream",
     "text": [
      "step_size=0.09999999403953552\n",
      "max_step_size=0.5\n",
      "broken_traj=0\n",
      "processing block: 2\n"
     ]
    },
    {
     "data": {
      "application/vnd.jupyter.widget-view+json": {
       "model_id": "9c4a84bec9e14df29f13d871e87c73e3",
       "version_major": 2,
       "version_minor": 0
      },
      "text/plain": [
       "  0%|          | 0/5000 [00:00<?, ?it/s]"
      ]
     },
     "metadata": {},
     "output_type": "display_data"
    },
    {
     "name": "stdout",
     "output_type": "stream",
     "text": [
      "step_size=0.09999999403953552\n",
      "max_step_size=0.5\n",
      "broken_traj=0\n",
      "processing block: 3\n"
     ]
    },
    {
     "data": {
      "application/vnd.jupyter.widget-view+json": {
       "model_id": "6aafde56baf5419f839218ddf86b2e0f",
       "version_major": 2,
       "version_minor": 0
      },
      "text/plain": [
       "  0%|          | 0/5000 [00:00<?, ?it/s]"
      ]
     },
     "metadata": {},
     "output_type": "display_data"
    },
    {
     "name": "stdout",
     "output_type": "stream",
     "text": [
      "step_size=0.09999999403953552\n",
      "max_step_size=0.5\n",
      "broken_traj=0\n",
      "Runtime: 678.20s\n",
      "--------------------------------------------------------------------------------\n",
      "Running HMCAdaptiveHutchLanczosNoGrad\n",
      "number of blocks: 3\n",
      "processing block: 1\n"
     ]
    },
    {
     "data": {
      "application/vnd.jupyter.widget-view+json": {
       "model_id": "8909f16200dd4a0ca25c496500a10189",
       "version_major": 2,
       "version_minor": 0
      },
      "text/plain": [
       "  0%|          | 0/2500 [00:00<?, ?it/s]"
      ]
     },
     "metadata": {},
     "output_type": "display_data"
    },
    {
     "name": "stdout",
     "output_type": "stream",
     "text": [
      "step_size=0.09999999403953552\n",
      "max_step_size=0.5\n",
      "broken_traj=0\n",
      "processing block: 2\n"
     ]
    },
    {
     "data": {
      "application/vnd.jupyter.widget-view+json": {
       "model_id": "22880cc6aa9941769fb3fdbfe9d44b45",
       "version_major": 2,
       "version_minor": 0
      },
      "text/plain": [
       "  0%|          | 0/5000 [00:00<?, ?it/s]"
      ]
     },
     "metadata": {},
     "output_type": "display_data"
    },
    {
     "name": "stdout",
     "output_type": "stream",
     "text": [
      "step_size=0.09999999403953552\n",
      "max_step_size=0.5\n",
      "broken_traj=0\n",
      "processing block: 3\n"
     ]
    },
    {
     "data": {
      "application/vnd.jupyter.widget-view+json": {
       "model_id": "b1bde9f5b5114bc290ed4904ca4bd499",
       "version_major": 2,
       "version_minor": 0
      },
      "text/plain": [
       "  0%|          | 0/5000 [00:00<?, ?it/s]"
      ]
     },
     "metadata": {},
     "output_type": "display_data"
    },
    {
     "name": "stdout",
     "output_type": "stream",
     "text": [
      "step_size=0.09999999403953552\n",
      "max_step_size=0.5\n",
      "broken_traj=0\n",
      "Runtime: 739.66s\n",
      "\n",
      "Processing dimension 128\n",
      "--------------------------------------------------------------------------------\n",
      "Running MALA\n",
      "number of blocks: 2\n",
      "processing block: 1\n"
     ]
    },
    {
     "data": {
      "application/vnd.jupyter.widget-view+json": {
       "model_id": "44044053788b4389869909fcf28cd7e4",
       "version_major": 2,
       "version_minor": 0
      },
      "text/plain": [
       "  0%|          | 0/7500 [00:00<?, ?it/s]"
      ]
     },
     "metadata": {},
     "output_type": "display_data"
    },
    {
     "name": "stdout",
     "output_type": "stream",
     "text": [
      "step_size=0.753207802772522\n",
      "processing block: 2\n"
     ]
    },
    {
     "data": {
      "application/vnd.jupyter.widget-view+json": {
       "model_id": "ec86148cfa2d4470819f0dd20c0f76dc",
       "version_major": 2,
       "version_minor": 0
      },
      "text/plain": [
       "  0%|          | 0/5000 [00:00<?, ?it/s]"
      ]
     },
     "metadata": {},
     "output_type": "display_data"
    },
    {
     "name": "stdout",
     "output_type": "stream",
     "text": [
      "step_size=0.7528015375137329\n",
      "Runtime: 18.17s\n",
      "--------------------------------------------------------------------------------\n",
      "Running HMCVanilla\n",
      "number of blocks: 3\n",
      "processing block: 1\n"
     ]
    },
    {
     "data": {
      "application/vnd.jupyter.widget-view+json": {
       "model_id": "ebdf4f62ed604a6584fc7ae6301488b3",
       "version_major": 2,
       "version_minor": 0
      },
      "text/plain": [
       "  0%|          | 0/2500 [00:00<?, ?it/s]"
      ]
     },
     "metadata": {},
     "output_type": "display_data"
    },
    {
     "name": "stdout",
     "output_type": "stream",
     "text": [
      "step_size=0.09999999403953552\n",
      "max_step_size=0.5\n",
      "broken_traj=0\n",
      "processing block: 2\n"
     ]
    },
    {
     "data": {
      "application/vnd.jupyter.widget-view+json": {
       "model_id": "a8a10f3cb2204b71a94f23f843a7d1e8",
       "version_major": 2,
       "version_minor": 0
      },
      "text/plain": [
       "  0%|          | 0/5000 [00:00<?, ?it/s]"
      ]
     },
     "metadata": {},
     "output_type": "display_data"
    },
    {
     "name": "stdout",
     "output_type": "stream",
     "text": [
      "step_size=0.09999999403953552\n",
      "max_step_size=0.5\n",
      "broken_traj=0\n",
      "processing block: 3\n"
     ]
    },
    {
     "data": {
      "application/vnd.jupyter.widget-view+json": {
       "model_id": "4759a7ecba364b759135db1f67938ea0",
       "version_major": 2,
       "version_minor": 0
      },
      "text/plain": [
       "  0%|          | 0/5000 [00:00<?, ?it/s]"
      ]
     },
     "metadata": {},
     "output_type": "display_data"
    },
    {
     "name": "stdout",
     "output_type": "stream",
     "text": [
      "step_size=0.09999999403953552\n",
      "max_step_size=0.5\n",
      "broken_traj=0\n",
      "Runtime: 670.04s\n",
      "--------------------------------------------------------------------------------\n",
      "Running HMCAdaptiveHutchTaylorNoGrad\n",
      "number of blocks: 3\n",
      "processing block: 1\n"
     ]
    },
    {
     "data": {
      "application/vnd.jupyter.widget-view+json": {
       "model_id": "a289d89e75d44a0796eafac89b20f299",
       "version_major": 2,
       "version_minor": 0
      },
      "text/plain": [
       "  0%|          | 0/2500 [00:00<?, ?it/s]"
      ]
     },
     "metadata": {},
     "output_type": "display_data"
    },
    {
     "name": "stdout",
     "output_type": "stream",
     "text": [
      "step_size=0.09999999403953552\n",
      "max_step_size=0.5\n",
      "broken_traj=0\n",
      "processing block: 2\n"
     ]
    },
    {
     "data": {
      "application/vnd.jupyter.widget-view+json": {
       "model_id": "10b4dbab35c94b2189d1f486d289feba",
       "version_major": 2,
       "version_minor": 0
      },
      "text/plain": [
       "  0%|          | 0/5000 [00:00<?, ?it/s]"
      ]
     },
     "metadata": {},
     "output_type": "display_data"
    },
    {
     "name": "stdout",
     "output_type": "stream",
     "text": [
      "step_size=0.09999999403953552\n",
      "max_step_size=0.5\n",
      "broken_traj=0\n",
      "processing block: 3\n"
     ]
    },
    {
     "data": {
      "application/vnd.jupyter.widget-view+json": {
       "model_id": "ea99a358d28648b988e28e7543c7a09b",
       "version_major": 2,
       "version_minor": 0
      },
      "text/plain": [
       "  0%|          | 0/5000 [00:00<?, ?it/s]"
      ]
     },
     "metadata": {},
     "output_type": "display_data"
    },
    {
     "name": "stdout",
     "output_type": "stream",
     "text": [
      "step_size=0.09999999403953552\n",
      "max_step_size=0.5\n",
      "broken_traj=0\n",
      "Runtime: 1045.95s\n",
      "--------------------------------------------------------------------------------\n",
      "Running HMCAdaptiveHutchLanczosNoGrad\n",
      "number of blocks: 3\n",
      "processing block: 1\n"
     ]
    },
    {
     "data": {
      "application/vnd.jupyter.widget-view+json": {
       "model_id": "6fba24af4cc94294b74e8dadb7799d3b",
       "version_major": 2,
       "version_minor": 0
      },
      "text/plain": [
       "  0%|          | 0/2500 [00:00<?, ?it/s]"
      ]
     },
     "metadata": {},
     "output_type": "display_data"
    },
    {
     "name": "stdout",
     "output_type": "stream",
     "text": [
      "step_size=0.09999999403953552\n",
      "max_step_size=0.5\n",
      "broken_traj=0\n",
      "processing block: 2\n"
     ]
    },
    {
     "data": {
      "application/vnd.jupyter.widget-view+json": {
       "model_id": "91baa036483342ccb7d003d4d2d1644e",
       "version_major": 2,
       "version_minor": 0
      },
      "text/plain": [
       "  0%|          | 0/5000 [00:00<?, ?it/s]"
      ]
     },
     "metadata": {},
     "output_type": "display_data"
    },
    {
     "name": "stdout",
     "output_type": "stream",
     "text": [
      "step_size=0.09999999403953552\n",
      "max_step_size=0.5\n",
      "broken_traj=0\n",
      "processing block: 3\n"
     ]
    },
    {
     "data": {
      "application/vnd.jupyter.widget-view+json": {
       "model_id": "629f7a0d782e47afa336feb03e8670a2",
       "version_major": 2,
       "version_minor": 0
      },
      "text/plain": [
       "  0%|          | 0/5000 [00:00<?, ?it/s]"
      ]
     },
     "metadata": {},
     "output_type": "display_data"
    },
    {
     "name": "stdout",
     "output_type": "stream",
     "text": [
      "step_size=0.09999999403953552\n",
      "max_step_size=0.5\n",
      "broken_traj=0\n",
      "Runtime: 1132.23s\n",
      "\n",
      "Processing dimension 256\n",
      "--------------------------------------------------------------------------------\n",
      "Running MALA\n",
      "number of blocks: 2\n",
      "processing block: 1\n"
     ]
    },
    {
     "data": {
      "application/vnd.jupyter.widget-view+json": {
       "model_id": "c660b50f44d042c7a95033a0a6aa585a",
       "version_major": 2,
       "version_minor": 0
      },
      "text/plain": [
       "  0%|          | 0/7500 [00:00<?, ?it/s]"
      ]
     },
     "metadata": {},
     "output_type": "display_data"
    },
    {
     "name": "stdout",
     "output_type": "stream",
     "text": [
      "step_size=0.6578513383865356\n",
      "processing block: 2\n"
     ]
    },
    {
     "data": {
      "application/vnd.jupyter.widget-view+json": {
       "model_id": "bb214a7dcfce46db951629ff73fa9352",
       "version_major": 2,
       "version_minor": 0
      },
      "text/plain": [
       "  0%|          | 0/5000 [00:00<?, ?it/s]"
      ]
     },
     "metadata": {},
     "output_type": "display_data"
    },
    {
     "name": "stdout",
     "output_type": "stream",
     "text": [
      "step_size=0.6535463929176331\n",
      "Runtime: 40.21s\n",
      "--------------------------------------------------------------------------------\n",
      "Running HMCVanilla\n",
      "number of blocks: 3\n",
      "processing block: 1\n"
     ]
    },
    {
     "data": {
      "application/vnd.jupyter.widget-view+json": {
       "model_id": "a15736685ccd4b5cba5fbf7f69ce226e",
       "version_major": 2,
       "version_minor": 0
      },
      "text/plain": [
       "  0%|          | 0/2500 [00:00<?, ?it/s]"
      ]
     },
     "metadata": {},
     "output_type": "display_data"
    },
    {
     "name": "stdout",
     "output_type": "stream",
     "text": [
      "step_size=0.09999999403953552\n",
      "max_step_size=0.5\n",
      "broken_traj=0\n",
      "processing block: 2\n"
     ]
    },
    {
     "data": {
      "application/vnd.jupyter.widget-view+json": {
       "model_id": "8122018f879e4c64a802427f860e2f52",
       "version_major": 2,
       "version_minor": 0
      },
      "text/plain": [
       "  0%|          | 0/5000 [00:00<?, ?it/s]"
      ]
     },
     "metadata": {},
     "output_type": "display_data"
    },
    {
     "name": "stdout",
     "output_type": "stream",
     "text": [
      "step_size=0.09999999403953552\n",
      "max_step_size=0.5\n",
      "broken_traj=0\n",
      "processing block: 3\n"
     ]
    },
    {
     "data": {
      "application/vnd.jupyter.widget-view+json": {
       "model_id": "2fa063dabaec4f34befac81253adbe8f",
       "version_major": 2,
       "version_minor": 0
      },
      "text/plain": [
       "  0%|          | 0/5000 [00:00<?, ?it/s]"
      ]
     },
     "metadata": {},
     "output_type": "display_data"
    },
    {
     "name": "stdout",
     "output_type": "stream",
     "text": [
      "step_size=0.09999999403953552\n",
      "max_step_size=0.5\n",
      "broken_traj=0\n",
      "Runtime: 1497.76s\n",
      "--------------------------------------------------------------------------------\n",
      "Running HMCAdaptiveHutchTaylorNoGrad\n",
      "number of blocks: 3\n",
      "processing block: 1\n"
     ]
    },
    {
     "data": {
      "application/vnd.jupyter.widget-view+json": {
       "model_id": "8799752b574049ec91c7078ec22bd569",
       "version_major": 2,
       "version_minor": 0
      },
      "text/plain": [
       "  0%|          | 0/2500 [00:00<?, ?it/s]"
      ]
     },
     "metadata": {},
     "output_type": "display_data"
    },
    {
     "name": "stdout",
     "output_type": "stream",
     "text": [
      "step_size=0.09999999403953552\n",
      "max_step_size=0.5\n",
      "broken_traj=0\n",
      "processing block: 2\n"
     ]
    },
    {
     "data": {
      "application/vnd.jupyter.widget-view+json": {
       "model_id": "f5ecb833624042c7b452a81d17221d47",
       "version_major": 2,
       "version_minor": 0
      },
      "text/plain": [
       "  0%|          | 0/5000 [00:00<?, ?it/s]"
      ]
     },
     "metadata": {},
     "output_type": "display_data"
    },
    {
     "name": "stdout",
     "output_type": "stream",
     "text": [
      "step_size=0.09999999403953552\n",
      "max_step_size=0.5\n",
      "broken_traj=0\n",
      "processing block: 3\n"
     ]
    },
    {
     "data": {
      "application/vnd.jupyter.widget-view+json": {
       "model_id": "d7af0db71e8a4a349d79cc3048aad787",
       "version_major": 2,
       "version_minor": 0
      },
      "text/plain": [
       "  0%|          | 0/5000 [00:00<?, ?it/s]"
      ]
     },
     "metadata": {},
     "output_type": "display_data"
    },
    {
     "name": "stdout",
     "output_type": "stream",
     "text": [
      "step_size=0.09999999403953552\n",
      "max_step_size=0.5\n",
      "broken_traj=0\n",
      "Runtime: 2284.50s\n",
      "--------------------------------------------------------------------------------\n",
      "Running HMCAdaptiveHutchLanczosNoGrad\n",
      "number of blocks: 3\n",
      "processing block: 1\n"
     ]
    },
    {
     "data": {
      "application/vnd.jupyter.widget-view+json": {
       "model_id": "c69aab2e5d9d4c6c80eb5be650c2df93",
       "version_major": 2,
       "version_minor": 0
      },
      "text/plain": [
       "  0%|          | 0/2500 [00:00<?, ?it/s]"
      ]
     },
     "metadata": {},
     "output_type": "display_data"
    },
    {
     "name": "stdout",
     "output_type": "stream",
     "text": [
      "step_size=0.09999999403953552\n",
      "max_step_size=0.5\n",
      "broken_traj=0\n",
      "processing block: 2\n"
     ]
    },
    {
     "data": {
      "application/vnd.jupyter.widget-view+json": {
       "model_id": "18ddfa7e8f3140759733c2d0f786c38b",
       "version_major": 2,
       "version_minor": 0
      },
      "text/plain": [
       "  0%|          | 0/5000 [00:00<?, ?it/s]"
      ]
     },
     "metadata": {},
     "output_type": "display_data"
    },
    {
     "name": "stdout",
     "output_type": "stream",
     "text": [
      "step_size=0.09999999403953552\n",
      "max_step_size=0.5\n",
      "broken_traj=0\n",
      "processing block: 3\n"
     ]
    },
    {
     "data": {
      "application/vnd.jupyter.widget-view+json": {
       "model_id": "c20c32e38be44438a3952b011eda7aa4",
       "version_major": 2,
       "version_minor": 0
      },
      "text/plain": [
       "  0%|          | 0/5000 [00:00<?, ?it/s]"
      ]
     },
     "metadata": {},
     "output_type": "display_data"
    },
    {
     "name": "stdout",
     "output_type": "stream",
     "text": [
      "step_size=0.09999999403953552\n",
      "max_step_size=0.5\n",
      "broken_traj=0\n",
      "Runtime: 2416.84s\n",
      "\n"
     ]
    },
    {
     "data": {
      "application/vnd.jupyter.widget-view+json": {
       "model_id": "ae1b4abc99324beaa6c6e5cc5b50d3db",
       "version_major": 2,
       "version_minor": 0
      },
      "text/plain": [
       "dimension:   0%|          | 0/6 [00:00<?, ?it/s]"
      ]
     },
     "metadata": {},
     "output_type": "display_data"
    },
    {
     "data": {
      "application/vnd.jupyter.widget-view+json": {
       "model_id": "200be6fe02d2491fb671331a8922cab5",
       "version_major": 2,
       "version_minor": 0
      },
      "text/plain": [
       "alg:   0%|          | 0/4 [00:00<?, ?it/s]"
      ]
     },
     "metadata": {},
     "output_type": "display_data"
    },
    {
     "name": "stdout",
     "output_type": "stream",
     "text": [
      "\n",
      "dim=8, dist=random_gm\n",
      "                      mala  hmc_vanilla  taylor_nograd  lanczos_nograd\n",
      "ess_mean         0.289395     0.203269       0.131912        0.423819\n",
      "ess_conf_sigma   0.001425     0.002167       0.003955        0.007235\n",
      "tv_mean          0.012075     0.009381       0.017267        0.010275\n",
      "tv_conf_sigma    0.001064     0.000831       0.001805        0.000878\n",
      "runtime          8.155313   250.943658     394.403938      426.399585\n",
      "chains_kept     30.000000    30.000000      30.000000       30.000000\n",
      "{8:             alg_A          alg_B  z(ESS_A>B)     p(ESS_A>B)  z(TV_A<B)  \\\n",
      "0  lanczos_nograd  taylor_nograd   35.401904  7.980348e-275   3.483918   \n",
      "1  lanczos_nograd    hmc_vanilla   29.200793  9.473895e-188  -0.740040   \n",
      "2  lanczos_nograd           mala   18.229072   1.517126e-74   1.305103   \n",
      "3   taylor_nograd    hmc_vanilla  -15.822817   1.000000e+00  -3.969339   \n",
      "4   taylor_nograd           mala  -37.463781   1.000000e+00  -2.477699   \n",
      "5     hmc_vanilla           mala  -33.204701   1.000000e+00   1.995962   \n",
      "\n",
      "   p(TV_A<B)  \n",
      "0   0.000247  \n",
      "1   0.770362  \n",
      "2   0.095929  \n",
      "3   0.999964  \n",
      "4   0.993388  \n",
      "5   0.022969  }\n"
     ]
    },
    {
     "data": {
      "application/vnd.jupyter.widget-view+json": {
       "model_id": "23dec9a91a2348d996d72e1e37cc746f",
       "version_major": 2,
       "version_minor": 0
      },
      "text/plain": [
       "alg:   0%|          | 0/4 [00:00<?, ?it/s]"
      ]
     },
     "metadata": {},
     "output_type": "display_data"
    },
    {
     "name": "stdout",
     "output_type": "stream",
     "text": [
      "\n",
      "dim=16, dist=random_gm\n",
      "                      mala  hmc_vanilla  taylor_nograd  lanczos_nograd\n",
      "ess_mean         0.147470     0.374498       0.233581        0.584122\n",
      "ess_conf_sigma   0.000893     0.002065       0.002056        0.004389\n",
      "tv_mean          0.015119     0.008024       0.011830        0.009016\n",
      "tv_conf_sigma    0.001362     0.000606       0.001041        0.000792\n",
      "runtime          8.281229   259.156999     409.772418      447.567715\n",
      "chains_kept     30.000000    30.000000      30.000000       30.000000\n",
      "{8:             alg_A          alg_B  z(ESS_A>B)     p(ESS_A>B)  z(TV_A<B)  \\\n",
      "0  lanczos_nograd  taylor_nograd   35.401904  7.980348e-275   3.483918   \n",
      "1  lanczos_nograd    hmc_vanilla   29.200793  9.473895e-188  -0.740040   \n",
      "2  lanczos_nograd           mala   18.229072   1.517126e-74   1.305103   \n",
      "3   taylor_nograd    hmc_vanilla  -15.822817   1.000000e+00  -3.969339   \n",
      "4   taylor_nograd           mala  -37.463781   1.000000e+00  -2.477699   \n",
      "5     hmc_vanilla           mala  -33.204701   1.000000e+00   1.995962   \n",
      "\n",
      "   p(TV_A<B)  \n",
      "0   0.000247  \n",
      "1   0.770362  \n",
      "2   0.095929  \n",
      "3   0.999964  \n",
      "4   0.993388  \n",
      "5   0.022969  , 16:             alg_A          alg_B  z(ESS_A>B)  p(ESS_A>B)  z(TV_A<B)  \\\n",
      "0  lanczos_nograd  taylor_nograd   72.327123         0.0   2.150921   \n",
      "1  lanczos_nograd    hmc_vanilla   43.216470         0.0  -0.995031   \n",
      "2  lanczos_nograd           mala   97.490416         0.0   3.872752   \n",
      "3   taylor_nograd    hmc_vanilla  -48.361208         1.0  -3.159957   \n",
      "4   taylor_nograd           mala   38.420805         0.0   1.918789   \n",
      "5     hmc_vanilla           mala  100.909703         0.0   4.758836   \n",
      "\n",
      "      p(TV_A<B)  \n",
      "0  1.574123e-02  \n",
      "1  8.401394e-01  \n",
      "2  5.380659e-05  \n",
      "3  9.992110e-01  \n",
      "4  2.750554e-02  \n",
      "5  9.735637e-07  }\n"
     ]
    },
    {
     "data": {
      "application/vnd.jupyter.widget-view+json": {
       "model_id": "5efdd60f991941cfbfdc736445a6a93e",
       "version_major": 2,
       "version_minor": 0
      },
      "text/plain": [
       "alg:   0%|          | 0/4 [00:00<?, ?it/s]"
      ]
     },
     "metadata": {},
     "output_type": "display_data"
    },
    {
     "name": "stdout",
     "output_type": "stream",
     "text": [
      "\n",
      "dim=32, dist=random_gm\n",
      "                      mala  hmc_vanilla  taylor_nograd  lanczos_nograd\n",
      "ess_mean         0.077027     0.550469       0.464474        0.696268\n",
      "ess_conf_sigma   0.000657     0.001167       0.003226        0.001561\n",
      "tv_mean          0.019618     0.007651       0.010008        0.008090\n",
      "tv_conf_sigma    0.001870     0.000578       0.000844        0.000666\n",
      "runtime          9.487749   310.245399     486.353693      531.490949\n",
      "chains_kept     30.000000    30.000000      30.000000       30.000000\n",
      "{8:             alg_A          alg_B  z(ESS_A>B)     p(ESS_A>B)  z(TV_A<B)  \\\n",
      "0  lanczos_nograd  taylor_nograd   35.401904  7.980348e-275   3.483918   \n",
      "1  lanczos_nograd    hmc_vanilla   29.200793  9.473895e-188  -0.740040   \n",
      "2  lanczos_nograd           mala   18.229072   1.517126e-74   1.305103   \n",
      "3   taylor_nograd    hmc_vanilla  -15.822817   1.000000e+00  -3.969339   \n",
      "4   taylor_nograd           mala  -37.463781   1.000000e+00  -2.477699   \n",
      "5     hmc_vanilla           mala  -33.204701   1.000000e+00   1.995962   \n",
      "\n",
      "   p(TV_A<B)  \n",
      "0   0.000247  \n",
      "1   0.770362  \n",
      "2   0.095929  \n",
      "3   0.999964  \n",
      "4   0.993388  \n",
      "5   0.022969  , 16:             alg_A          alg_B  z(ESS_A>B)  p(ESS_A>B)  z(TV_A<B)  \\\n",
      "0  lanczos_nograd  taylor_nograd   72.327123         0.0   2.150921   \n",
      "1  lanczos_nograd    hmc_vanilla   43.216470         0.0  -0.995031   \n",
      "2  lanczos_nograd           mala   97.490416         0.0   3.872752   \n",
      "3   taylor_nograd    hmc_vanilla  -48.361208         1.0  -3.159957   \n",
      "4   taylor_nograd           mala   38.420805         0.0   1.918789   \n",
      "5     hmc_vanilla           mala  100.909703         0.0   4.758836   \n",
      "\n",
      "      p(TV_A<B)  \n",
      "0  1.574123e-02  \n",
      "1  8.401394e-01  \n",
      "2  5.380659e-05  \n",
      "3  9.992110e-01  \n",
      "4  2.750554e-02  \n",
      "5  9.735637e-07  , 32:             alg_A          alg_B  z(ESS_A>B)  p(ESS_A>B)  z(TV_A<B)  \\\n",
      "0  lanczos_nograd  taylor_nograd   64.676114         0.0   1.783357   \n",
      "1  lanczos_nograd    hmc_vanilla   74.805644         0.0  -0.497515   \n",
      "2  lanczos_nograd           mala  365.657878         0.0   5.806817   \n",
      "3   taylor_nograd    hmc_vanilla  -25.065656         1.0  -2.302391   \n",
      "4   taylor_nograd           mala  117.682407         0.0   4.683276   \n",
      "5     hmc_vanilla           mala  353.511692         0.0   6.112785   \n",
      "\n",
      "      p(TV_A<B)  \n",
      "0  3.726410e-02  \n",
      "1  6.905871e-01  \n",
      "2  3.183584e-09  \n",
      "3  9.893434e-01  \n",
      "4  1.411630e-06  \n",
      "5  4.895354e-10  }\n"
     ]
    },
    {
     "data": {
      "application/vnd.jupyter.widget-view+json": {
       "model_id": "9b5d4e5f3a424084b2e49375920ede41",
       "version_major": 2,
       "version_minor": 0
      },
      "text/plain": [
       "alg:   0%|          | 0/4 [00:00<?, ?it/s]"
      ]
     },
     "metadata": {},
     "output_type": "display_data"
    },
    {
     "name": "stdout",
     "output_type": "stream",
     "text": [
      "\n",
      "dim=64, dist=random_gm\n",
      "                      mala  hmc_vanilla  taylor_nograd  lanczos_nograd\n",
      "ess_mean         0.038129     0.203217       0.273613        0.500914\n",
      "ess_conf_sigma   0.000515     0.001646       0.004323        0.002005\n",
      "tv_mean          0.035903     0.012710       0.012079        0.010667\n",
      "tv_conf_sigma    0.004272     0.001123       0.001161        0.000916\n",
      "runtime         12.266178   432.444363     675.943507      737.202659\n",
      "chains_kept     30.000000    30.000000      30.000000       30.000000\n",
      "{8:             alg_A          alg_B  z(ESS_A>B)     p(ESS_A>B)  z(TV_A<B)  \\\n",
      "0  lanczos_nograd  taylor_nograd   35.401904  7.980348e-275   3.483918   \n",
      "1  lanczos_nograd    hmc_vanilla   29.200793  9.473895e-188  -0.740040   \n",
      "2  lanczos_nograd           mala   18.229072   1.517126e-74   1.305103   \n",
      "3   taylor_nograd    hmc_vanilla  -15.822817   1.000000e+00  -3.969339   \n",
      "4   taylor_nograd           mala  -37.463781   1.000000e+00  -2.477699   \n",
      "5     hmc_vanilla           mala  -33.204701   1.000000e+00   1.995962   \n",
      "\n",
      "   p(TV_A<B)  \n",
      "0   0.000247  \n",
      "1   0.770362  \n",
      "2   0.095929  \n",
      "3   0.999964  \n",
      "4   0.993388  \n",
      "5   0.022969  , 16:             alg_A          alg_B  z(ESS_A>B)  p(ESS_A>B)  z(TV_A<B)  \\\n",
      "0  lanczos_nograd  taylor_nograd   72.327123         0.0   2.150921   \n",
      "1  lanczos_nograd    hmc_vanilla   43.216470         0.0  -0.995031   \n",
      "2  lanczos_nograd           mala   97.490416         0.0   3.872752   \n",
      "3   taylor_nograd    hmc_vanilla  -48.361208         1.0  -3.159957   \n",
      "4   taylor_nograd           mala   38.420805         0.0   1.918789   \n",
      "5     hmc_vanilla           mala  100.909703         0.0   4.758836   \n",
      "\n",
      "      p(TV_A<B)  \n",
      "0  1.574123e-02  \n",
      "1  8.401394e-01  \n",
      "2  5.380659e-05  \n",
      "3  9.992110e-01  \n",
      "4  2.750554e-02  \n",
      "5  9.735637e-07  , 32:             alg_A          alg_B  z(ESS_A>B)  p(ESS_A>B)  z(TV_A<B)  \\\n",
      "0  lanczos_nograd  taylor_nograd   64.676114         0.0   1.783357   \n",
      "1  lanczos_nograd    hmc_vanilla   74.805644         0.0  -0.497515   \n",
      "2  lanczos_nograd           mala  365.657878         0.0   5.806817   \n",
      "3   taylor_nograd    hmc_vanilla  -25.065656         1.0  -2.302391   \n",
      "4   taylor_nograd           mala  117.682407         0.0   4.683276   \n",
      "5     hmc_vanilla           mala  353.511692         0.0   6.112785   \n",
      "\n",
      "      p(TV_A<B)  \n",
      "0  3.726410e-02  \n",
      "1  6.905871e-01  \n",
      "2  3.183584e-09  \n",
      "3  9.893434e-01  \n",
      "4  1.411630e-06  \n",
      "5  4.895354e-10  , 64:             alg_A          alg_B  z(ESS_A>B)    p(ESS_A>B)  z(TV_A<B)  \\\n",
      "0  lanczos_nograd  taylor_nograd   47.703398  0.000000e+00   0.954736   \n",
      "1  lanczos_nograd    hmc_vanilla  114.768840  0.000000e+00   1.410385   \n",
      "2  lanczos_nograd           mala  223.603198  0.000000e+00   5.776636   \n",
      "3   taylor_nograd    hmc_vanilla   15.218888  1.324995e-52   0.390745   \n",
      "4   taylor_nograd           mala   54.093588  0.000000e+00   5.381941   \n",
      "5     hmc_vanilla           mala   95.713796  0.000000e+00   5.251281   \n",
      "\n",
      "      p(TV_A<B)  \n",
      "0  1.698556e-01  \n",
      "1  7.921296e-02  \n",
      "2  3.810456e-09  \n",
      "3  3.479929e-01  \n",
      "4  3.684348e-08  \n",
      "5  7.552270e-08  }\n"
     ]
    },
    {
     "data": {
      "application/vnd.jupyter.widget-view+json": {
       "model_id": "7fa2869af60246fcbf5866bb67468e0e",
       "version_major": 2,
       "version_minor": 0
      },
      "text/plain": [
       "alg:   0%|          | 0/4 [00:00<?, ?it/s]"
      ]
     },
     "metadata": {},
     "output_type": "display_data"
    },
    {
     "name": "stdout",
     "output_type": "stream",
     "text": [
      "\n",
      "dim=128, dist=random_gm\n",
      "                      mala  hmc_vanilla  taylor_nograd  lanczos_nograd\n",
      "ess_mean         0.061913     0.045256       0.062395        0.047639\n",
      "ess_conf_sigma   0.001573     0.002285       0.002039        0.001133\n",
      "tv_mean          0.111230     0.062380       0.047361        0.043840\n",
      "tv_conf_sigma    0.014175     0.008131       0.006213        0.005570\n",
      "runtime         18.048669   667.192690    1041.660814     1128.037435\n",
      "chains_kept     30.000000    30.000000      30.000000       30.000000\n",
      "{8:             alg_A          alg_B  z(ESS_A>B)     p(ESS_A>B)  z(TV_A<B)  \\\n",
      "0  lanczos_nograd  taylor_nograd   35.401904  7.980348e-275   3.483918   \n",
      "1  lanczos_nograd    hmc_vanilla   29.200793  9.473895e-188  -0.740040   \n",
      "2  lanczos_nograd           mala   18.229072   1.517126e-74   1.305103   \n",
      "3   taylor_nograd    hmc_vanilla  -15.822817   1.000000e+00  -3.969339   \n",
      "4   taylor_nograd           mala  -37.463781   1.000000e+00  -2.477699   \n",
      "5     hmc_vanilla           mala  -33.204701   1.000000e+00   1.995962   \n",
      "\n",
      "   p(TV_A<B)  \n",
      "0   0.000247  \n",
      "1   0.770362  \n",
      "2   0.095929  \n",
      "3   0.999964  \n",
      "4   0.993388  \n",
      "5   0.022969  , 16:             alg_A          alg_B  z(ESS_A>B)  p(ESS_A>B)  z(TV_A<B)  \\\n",
      "0  lanczos_nograd  taylor_nograd   72.327123         0.0   2.150921   \n",
      "1  lanczos_nograd    hmc_vanilla   43.216470         0.0  -0.995031   \n",
      "2  lanczos_nograd           mala   97.490416         0.0   3.872752   \n",
      "3   taylor_nograd    hmc_vanilla  -48.361208         1.0  -3.159957   \n",
      "4   taylor_nograd           mala   38.420805         0.0   1.918789   \n",
      "5     hmc_vanilla           mala  100.909703         0.0   4.758836   \n",
      "\n",
      "      p(TV_A<B)  \n",
      "0  1.574123e-02  \n",
      "1  8.401394e-01  \n",
      "2  5.380659e-05  \n",
      "3  9.992110e-01  \n",
      "4  2.750554e-02  \n",
      "5  9.735637e-07  , 32:             alg_A          alg_B  z(ESS_A>B)  p(ESS_A>B)  z(TV_A<B)  \\\n",
      "0  lanczos_nograd  taylor_nograd   64.676114         0.0   1.783357   \n",
      "1  lanczos_nograd    hmc_vanilla   74.805644         0.0  -0.497515   \n",
      "2  lanczos_nograd           mala  365.657878         0.0   5.806817   \n",
      "3   taylor_nograd    hmc_vanilla  -25.065656         1.0  -2.302391   \n",
      "4   taylor_nograd           mala  117.682407         0.0   4.683276   \n",
      "5     hmc_vanilla           mala  353.511692         0.0   6.112785   \n",
      "\n",
      "      p(TV_A<B)  \n",
      "0  3.726410e-02  \n",
      "1  6.905871e-01  \n",
      "2  3.183584e-09  \n",
      "3  9.893434e-01  \n",
      "4  1.411630e-06  \n",
      "5  4.895354e-10  , 64:             alg_A          alg_B  z(ESS_A>B)    p(ESS_A>B)  z(TV_A<B)  \\\n",
      "0  lanczos_nograd  taylor_nograd   47.703398  0.000000e+00   0.954736   \n",
      "1  lanczos_nograd    hmc_vanilla  114.768840  0.000000e+00   1.410385   \n",
      "2  lanczos_nograd           mala  223.603198  0.000000e+00   5.776636   \n",
      "3   taylor_nograd    hmc_vanilla   15.218888  1.324995e-52   0.390745   \n",
      "4   taylor_nograd           mala   54.093588  0.000000e+00   5.381941   \n",
      "5     hmc_vanilla           mala   95.713796  0.000000e+00   5.251281   \n",
      "\n",
      "      p(TV_A<B)  \n",
      "0  1.698556e-01  \n",
      "1  7.921296e-02  \n",
      "2  3.810456e-09  \n",
      "3  3.479929e-01  \n",
      "4  3.684348e-08  \n",
      "5  7.552270e-08  , 128:             alg_A          alg_B  z(ESS_A>B)    p(ESS_A>B)  z(TV_A<B)  \\\n",
      "0  lanczos_nograd  taylor_nograd   -6.326241  1.000000e+00   0.421936   \n",
      "1  lanczos_nograd    hmc_vanilla    0.934466  1.750317e-01   1.881159   \n",
      "2  lanczos_nograd           mala   -7.361870  1.000000e+00   4.424876   \n",
      "3   taylor_nograd    hmc_vanilla    5.597057  1.090105e-08   1.467689   \n",
      "4   taylor_nograd           mala    0.187035  4.258165e-01   4.126763   \n",
      "5     hmc_vanilla           mala   -6.004544  1.000000e+00   2.989378   \n",
      "\n",
      "   p(TV_A<B)  \n",
      "0   0.336536  \n",
      "1   0.029975  \n",
      "2   0.000005  \n",
      "3   0.071094  \n",
      "4   0.000018  \n",
      "5   0.001398  }\n"
     ]
    },
    {
     "data": {
      "application/vnd.jupyter.widget-view+json": {
       "model_id": "85c3d3b9375e45938c08bd891411b86d",
       "version_major": 2,
       "version_minor": 0
      },
      "text/plain": [
       "alg:   0%|          | 0/4 [00:00<?, ?it/s]"
      ]
     },
     "metadata": {},
     "output_type": "display_data"
    },
    {
     "name": "stdout",
     "output_type": "stream",
     "text": [
      "\n",
      "dim=256, dist=random_gm\n",
      "                      mala  hmc_vanilla  taylor_nograd  lanczos_nograd\n",
      "ess_mean         0.049918     0.111698       0.428507        0.261578\n",
      "ess_conf_sigma   0.000265     0.003211       0.007439        0.007232\n",
      "tv_mean          0.118087     0.109392       0.117617        0.117264\n",
      "tv_conf_sigma    0.013907     0.012318       0.014548        0.014995\n",
      "runtime         39.972971  1491.866759    2278.192367     2411.015824\n",
      "chains_kept     30.000000    30.000000      30.000000       30.000000\n",
      "{8:             alg_A          alg_B  z(ESS_A>B)     p(ESS_A>B)  z(TV_A<B)  \\\n",
      "0  lanczos_nograd  taylor_nograd   35.401904  7.980348e-275   3.483918   \n",
      "1  lanczos_nograd    hmc_vanilla   29.200793  9.473895e-188  -0.740040   \n",
      "2  lanczos_nograd           mala   18.229072   1.517126e-74   1.305103   \n",
      "3   taylor_nograd    hmc_vanilla  -15.822817   1.000000e+00  -3.969339   \n",
      "4   taylor_nograd           mala  -37.463781   1.000000e+00  -2.477699   \n",
      "5     hmc_vanilla           mala  -33.204701   1.000000e+00   1.995962   \n",
      "\n",
      "   p(TV_A<B)  \n",
      "0   0.000247  \n",
      "1   0.770362  \n",
      "2   0.095929  \n",
      "3   0.999964  \n",
      "4   0.993388  \n",
      "5   0.022969  , 16:             alg_A          alg_B  z(ESS_A>B)  p(ESS_A>B)  z(TV_A<B)  \\\n",
      "0  lanczos_nograd  taylor_nograd   72.327123         0.0   2.150921   \n",
      "1  lanczos_nograd    hmc_vanilla   43.216470         0.0  -0.995031   \n",
      "2  lanczos_nograd           mala   97.490416         0.0   3.872752   \n",
      "3   taylor_nograd    hmc_vanilla  -48.361208         1.0  -3.159957   \n",
      "4   taylor_nograd           mala   38.420805         0.0   1.918789   \n",
      "5     hmc_vanilla           mala  100.909703         0.0   4.758836   \n",
      "\n",
      "      p(TV_A<B)  \n",
      "0  1.574123e-02  \n",
      "1  8.401394e-01  \n",
      "2  5.380659e-05  \n",
      "3  9.992110e-01  \n",
      "4  2.750554e-02  \n",
      "5  9.735637e-07  , 32:             alg_A          alg_B  z(ESS_A>B)  p(ESS_A>B)  z(TV_A<B)  \\\n",
      "0  lanczos_nograd  taylor_nograd   64.676114         0.0   1.783357   \n",
      "1  lanczos_nograd    hmc_vanilla   74.805644         0.0  -0.497515   \n",
      "2  lanczos_nograd           mala  365.657878         0.0   5.806817   \n",
      "3   taylor_nograd    hmc_vanilla  -25.065656         1.0  -2.302391   \n",
      "4   taylor_nograd           mala  117.682407         0.0   4.683276   \n",
      "5     hmc_vanilla           mala  353.511692         0.0   6.112785   \n",
      "\n",
      "      p(TV_A<B)  \n",
      "0  3.726410e-02  \n",
      "1  6.905871e-01  \n",
      "2  3.183584e-09  \n",
      "3  9.893434e-01  \n",
      "4  1.411630e-06  \n",
      "5  4.895354e-10  , 64:             alg_A          alg_B  z(ESS_A>B)    p(ESS_A>B)  z(TV_A<B)  \\\n",
      "0  lanczos_nograd  taylor_nograd   47.703398  0.000000e+00   0.954736   \n",
      "1  lanczos_nograd    hmc_vanilla  114.768840  0.000000e+00   1.410385   \n",
      "2  lanczos_nograd           mala  223.603198  0.000000e+00   5.776636   \n",
      "3   taylor_nograd    hmc_vanilla   15.218888  1.324995e-52   0.390745   \n",
      "4   taylor_nograd           mala   54.093588  0.000000e+00   5.381941   \n",
      "5     hmc_vanilla           mala   95.713796  0.000000e+00   5.251281   \n",
      "\n",
      "      p(TV_A<B)  \n",
      "0  1.698556e-01  \n",
      "1  7.921296e-02  \n",
      "2  3.810456e-09  \n",
      "3  3.479929e-01  \n",
      "4  3.684348e-08  \n",
      "5  7.552270e-08  , 128:             alg_A          alg_B  z(ESS_A>B)    p(ESS_A>B)  z(TV_A<B)  \\\n",
      "0  lanczos_nograd  taylor_nograd   -6.326241  1.000000e+00   0.421936   \n",
      "1  lanczos_nograd    hmc_vanilla    0.934466  1.750317e-01   1.881159   \n",
      "2  lanczos_nograd           mala   -7.361870  1.000000e+00   4.424876   \n",
      "3   taylor_nograd    hmc_vanilla    5.597057  1.090105e-08   1.467689   \n",
      "4   taylor_nograd           mala    0.187035  4.258165e-01   4.126763   \n",
      "5     hmc_vanilla           mala   -6.004544  1.000000e+00   2.989378   \n",
      "\n",
      "   p(TV_A<B)  \n",
      "0   0.336536  \n",
      "1   0.029975  \n",
      "2   0.000005  \n",
      "3   0.071094  \n",
      "4   0.000018  \n",
      "5   0.001398  , 256:             alg_A          alg_B  z(ESS_A>B)     p(ESS_A>B)  z(TV_A<B)  \\\n",
      "0  lanczos_nograd  taylor_nograd  -16.088738   1.000000e+00   0.016887   \n",
      "1  lanczos_nograd    hmc_vanilla   18.941063   2.616496e-80  -0.405685   \n",
      "2  lanczos_nograd           mala   29.246576  2.481910e-188   0.040243   \n",
      "3   taylor_nograd    hmc_vanilla   39.098591   0.000000e+00  -0.431489   \n",
      "4   taylor_nograd           mala   50.856947   0.000000e+00   0.023363   \n",
      "5     hmc_vanilla           mala   19.175207   2.981513e-82   0.468057   \n",
      "\n",
      "   p(TV_A<B)  \n",
      "0   0.493264  \n",
      "1   0.657513  \n",
      "2   0.483950  \n",
      "3   0.666944  \n",
      "4   0.490680  \n",
      "5   0.319872  }\n"
     ]
    },
    {
     "data": {
      "application/vnd.jupyter.widget-view+json": {
       "model_id": "5793c80d081a4140999195fcf30d64ed",
       "version_major": 2,
       "version_minor": 0
      },
      "text/plain": [
       "  0%|          | 0/6 [00:00<?, ?it/s]"
      ]
     },
     "metadata": {},
     "output_type": "display_data"
    },
    {
     "name": "stdout",
     "output_type": "stream",
     "text": [
      "Processing dimension 8\n",
      "--------------------------------------------------------------------------------\n",
      "Running MALA\n",
      "number of blocks: 2\n",
      "processing block: 1\n"
     ]
    },
    {
     "data": {
      "application/vnd.jupyter.widget-view+json": {
       "model_id": "6556f61fe42748afbe503df65fa19866",
       "version_major": 2,
       "version_minor": 0
      },
      "text/plain": [
       "  0%|          | 0/7500 [00:00<?, ?it/s]"
      ]
     },
     "metadata": {},
     "output_type": "display_data"
    },
    {
     "name": "stdout",
     "output_type": "stream",
     "text": [
      "step_size=0.05811714753508568\n",
      "processing block: 2\n"
     ]
    },
    {
     "data": {
      "application/vnd.jupyter.widget-view+json": {
       "model_id": "cd0f073e64d9428aaf2efea49b24abc8",
       "version_major": 2,
       "version_minor": 0
      },
      "text/plain": [
       "  0%|          | 0/5000 [00:00<?, ?it/s]"
      ]
     },
     "metadata": {},
     "output_type": "display_data"
    },
    {
     "name": "stdout",
     "output_type": "stream",
     "text": [
      "step_size=0.05814719945192337\n",
      "Runtime: 6.26s\n",
      "--------------------------------------------------------------------------------\n",
      "Running HMCVanilla\n",
      "number of blocks: 3\n",
      "processing block: 1\n"
     ]
    },
    {
     "data": {
      "application/vnd.jupyter.widget-view+json": {
       "model_id": "1acc731ef1424e8a84b6ac88b189b7c0",
       "version_major": 2,
       "version_minor": 0
      },
      "text/plain": [
       "  0%|          | 0/2500 [00:00<?, ?it/s]"
      ]
     },
     "metadata": {},
     "output_type": "display_data"
    },
    {
     "name": "stdout",
     "output_type": "stream",
     "text": [
      "step_size=0.08573748916387558\n",
      "max_step_size=0.4925000071525574\n",
      "broken_traj=11\n",
      "processing block: 2\n"
     ]
    },
    {
     "data": {
      "application/vnd.jupyter.widget-view+json": {
       "model_id": "238ae4e2720049b7bc7814d17fc9bdcc",
       "version_major": 2,
       "version_minor": 0
      },
      "text/plain": [
       "  0%|          | 0/5000 [00:00<?, ?it/s]"
      ]
     },
     "metadata": {},
     "output_type": "display_data"
    },
    {
     "name": "stdout",
     "output_type": "stream",
     "text": [
      "step_size=0.08573748916387558\n",
      "max_step_size=0.4925000071525574\n",
      "broken_traj=11\n",
      "processing block: 3\n"
     ]
    },
    {
     "data": {
      "application/vnd.jupyter.widget-view+json": {
       "model_id": "a9ee9ab0046a4ea49685b2b6a021f718",
       "version_major": 2,
       "version_minor": 0
      },
      "text/plain": [
       "  0%|          | 0/5000 [00:00<?, ?it/s]"
      ]
     },
     "metadata": {},
     "output_type": "display_data"
    },
    {
     "name": "stdout",
     "output_type": "stream",
     "text": [
      "step_size=0.08573748916387558\n",
      "max_step_size=0.4925000071525574\n",
      "broken_traj=11\n",
      "Runtime: 159.42s\n",
      "--------------------------------------------------------------------------------\n",
      "Running HMCAdaptiveHutchTaylorNoGrad\n",
      "number of blocks: 3\n",
      "processing block: 1\n"
     ]
    },
    {
     "data": {
      "application/vnd.jupyter.widget-view+json": {
       "model_id": "4b2fbe980c244137aa93bd13866c4670",
       "version_major": 2,
       "version_minor": 0
      },
      "text/plain": [
       "  0%|          | 0/2500 [00:00<?, ?it/s]"
      ]
     },
     "metadata": {},
     "output_type": "display_data"
    },
    {
     "name": "stdout",
     "output_type": "stream",
     "text": [
      "step_size=0.08573748916387558\n",
      "max_step_size=0.4925000071525574\n",
      "broken_traj=10\n",
      "processing block: 2\n"
     ]
    },
    {
     "data": {
      "application/vnd.jupyter.widget-view+json": {
       "model_id": "25dd06dafee1484fa968085e364098f2",
       "version_major": 2,
       "version_minor": 0
      },
      "text/plain": [
       "  0%|          | 0/5000 [00:00<?, ?it/s]"
      ]
     },
     "metadata": {},
     "output_type": "display_data"
    },
    {
     "name": "stdout",
     "output_type": "stream",
     "text": [
      "step_size=0.08573748916387558\n",
      "max_step_size=0.4925000071525574\n",
      "broken_traj=10\n",
      "processing block: 3\n"
     ]
    },
    {
     "data": {
      "application/vnd.jupyter.widget-view+json": {
       "model_id": "9f21d1a2acc246b59f627ed56a8e33b3",
       "version_major": 2,
       "version_minor": 0
      },
      "text/plain": [
       "  0%|          | 0/5000 [00:00<?, ?it/s]"
      ]
     },
     "metadata": {},
     "output_type": "display_data"
    },
    {
     "name": "stdout",
     "output_type": "stream",
     "text": [
      "step_size=0.08573748916387558\n",
      "max_step_size=0.4925000071525574\n",
      "broken_traj=10\n",
      "Runtime: 250.04s\n",
      "--------------------------------------------------------------------------------\n",
      "Running HMCAdaptiveHutchLanczosNoGrad\n",
      "number of blocks: 3\n",
      "processing block: 1\n"
     ]
    },
    {
     "data": {
      "application/vnd.jupyter.widget-view+json": {
       "model_id": "5b8128f170ef4524b4d4bf530731a962",
       "version_major": 2,
       "version_minor": 0
      },
      "text/plain": [
       "  0%|          | 0/2500 [00:00<?, ?it/s]"
      ]
     },
     "metadata": {},
     "output_type": "display_data"
    },
    {
     "name": "stdout",
     "output_type": "stream",
     "text": [
      "step_size=0.08573748916387558\n",
      "max_step_size=0.4933333396911621\n",
      "broken_traj=10\n",
      "processing block: 2\n"
     ]
    },
    {
     "data": {
      "application/vnd.jupyter.widget-view+json": {
       "model_id": "9b7cc8381ce747cda612c09b01b4f73b",
       "version_major": 2,
       "version_minor": 0
      },
      "text/plain": [
       "  0%|          | 0/5000 [00:00<?, ?it/s]"
      ]
     },
     "metadata": {},
     "output_type": "display_data"
    },
    {
     "name": "stdout",
     "output_type": "stream",
     "text": [
      "step_size=0.08573748916387558\n",
      "max_step_size=0.4933333396911621\n",
      "broken_traj=10\n",
      "processing block: 3\n"
     ]
    },
    {
     "data": {
      "application/vnd.jupyter.widget-view+json": {
       "model_id": "01c00eff77f5418b981c13343e7ed422",
       "version_major": 2,
       "version_minor": 0
      },
      "text/plain": [
       "  0%|          | 0/5000 [00:00<?, ?it/s]"
      ]
     },
     "metadata": {},
     "output_type": "display_data"
    },
    {
     "name": "stdout",
     "output_type": "stream",
     "text": [
      "step_size=0.08573748916387558\n",
      "max_step_size=0.4933333396911621\n",
      "broken_traj=10\n",
      "Runtime: 267.16s\n",
      "\n",
      "Processing dimension 16\n",
      "--------------------------------------------------------------------------------\n",
      "Running MALA\n",
      "number of blocks: 2\n",
      "processing block: 1\n"
     ]
    },
    {
     "data": {
      "application/vnd.jupyter.widget-view+json": {
       "model_id": "76101ba9c9054c25aee1528ca8155410",
       "version_major": 2,
       "version_minor": 0
      },
      "text/plain": [
       "  0%|          | 0/7500 [00:00<?, ?it/s]"
      ]
     },
     "metadata": {},
     "output_type": "display_data"
    },
    {
     "name": "stdout",
     "output_type": "stream",
     "text": [
      "step_size=0.05682630091905594\n",
      "processing block: 2\n"
     ]
    },
    {
     "data": {
      "application/vnd.jupyter.widget-view+json": {
       "model_id": "c9b54b5a7cc2409abfb9a24b8c6a2065",
       "version_major": 2,
       "version_minor": 0
      },
      "text/plain": [
       "  0%|          | 0/5000 [00:00<?, ?it/s]"
      ]
     },
     "metadata": {},
     "output_type": "display_data"
    },
    {
     "name": "stdout",
     "output_type": "stream",
     "text": [
      "step_size=0.05598463490605354\n",
      "Runtime: 6.35s\n",
      "--------------------------------------------------------------------------------\n",
      "Running HMCVanilla\n",
      "number of blocks: 3\n",
      "processing block: 1\n"
     ]
    },
    {
     "data": {
      "application/vnd.jupyter.widget-view+json": {
       "model_id": "bb3faba4dca84f7484ac00ae0bd4bee8",
       "version_major": 2,
       "version_minor": 0
      },
      "text/plain": [
       "  0%|          | 0/2500 [00:00<?, ?it/s]"
      ]
     },
     "metadata": {},
     "output_type": "display_data"
    },
    {
     "name": "stdout",
     "output_type": "stream",
     "text": [
      "step_size=0.08573748916387558\n",
      "max_step_size=0.49166667461395264\n",
      "broken_traj=10\n",
      "processing block: 2\n"
     ]
    },
    {
     "data": {
      "application/vnd.jupyter.widget-view+json": {
       "model_id": "86c01b82a4b543b3946e65315da74abe",
       "version_major": 2,
       "version_minor": 0
      },
      "text/plain": [
       "  0%|          | 0/5000 [00:00<?, ?it/s]"
      ]
     },
     "metadata": {},
     "output_type": "display_data"
    },
    {
     "name": "stdout",
     "output_type": "stream",
     "text": [
      "step_size=0.08573748916387558\n",
      "max_step_size=0.49166667461395264\n",
      "broken_traj=10\n",
      "processing block: 3\n"
     ]
    },
    {
     "data": {
      "application/vnd.jupyter.widget-view+json": {
       "model_id": "d19858598d414062bd4ca1f69bd3980c",
       "version_major": 2,
       "version_minor": 0
      },
      "text/plain": [
       "  0%|          | 0/5000 [00:00<?, ?it/s]"
      ]
     },
     "metadata": {},
     "output_type": "display_data"
    },
    {
     "name": "stdout",
     "output_type": "stream",
     "text": [
      "step_size=0.08573748916387558\n",
      "max_step_size=0.49166667461395264\n",
      "broken_traj=10\n",
      "Runtime: 161.09s\n",
      "--------------------------------------------------------------------------------\n",
      "Running HMCAdaptiveHutchTaylorNoGrad\n",
      "number of blocks: 3\n",
      "processing block: 1\n"
     ]
    },
    {
     "data": {
      "application/vnd.jupyter.widget-view+json": {
       "model_id": "bc10b463077c42979fee1089a61b7cbe",
       "version_major": 2,
       "version_minor": 0
      },
      "text/plain": [
       "  0%|          | 0/2500 [00:00<?, ?it/s]"
      ]
     },
     "metadata": {},
     "output_type": "display_data"
    },
    {
     "name": "stdout",
     "output_type": "stream",
     "text": [
      "step_size=0.08573748916387558\n",
      "max_step_size=0.49166667461395264\n",
      "broken_traj=9\n",
      "processing block: 2\n"
     ]
    },
    {
     "data": {
      "application/vnd.jupyter.widget-view+json": {
       "model_id": "b50dc73212e640b3bcbb5dce1a8d5835",
       "version_major": 2,
       "version_minor": 0
      },
      "text/plain": [
       "  0%|          | 0/5000 [00:00<?, ?it/s]"
      ]
     },
     "metadata": {},
     "output_type": "display_data"
    },
    {
     "name": "stdout",
     "output_type": "stream",
     "text": [
      "step_size=0.08573748916387558\n",
      "max_step_size=0.49166667461395264\n",
      "broken_traj=9\n",
      "processing block: 3\n"
     ]
    },
    {
     "data": {
      "application/vnd.jupyter.widget-view+json": {
       "model_id": "83c5fc449854453ea624c1fe898757ee",
       "version_major": 2,
       "version_minor": 0
      },
      "text/plain": [
       "  0%|          | 0/5000 [00:00<?, ?it/s]"
      ]
     },
     "metadata": {},
     "output_type": "display_data"
    },
    {
     "name": "stdout",
     "output_type": "stream",
     "text": [
      "step_size=0.08573748916387558\n",
      "max_step_size=0.49166667461395264\n",
      "broken_traj=9\n",
      "Runtime: 253.58s\n",
      "--------------------------------------------------------------------------------\n",
      "Running HMCAdaptiveHutchLanczosNoGrad\n",
      "number of blocks: 3\n",
      "processing block: 1\n"
     ]
    },
    {
     "data": {
      "application/vnd.jupyter.widget-view+json": {
       "model_id": "50e98b50fa464032938823a46e6ed181",
       "version_major": 2,
       "version_minor": 0
      },
      "text/plain": [
       "  0%|          | 0/2500 [00:00<?, ?it/s]"
      ]
     },
     "metadata": {},
     "output_type": "display_data"
    },
    {
     "name": "stdout",
     "output_type": "stream",
     "text": [
      "step_size=0.08573748916387558\n",
      "max_step_size=0.49166667461395264\n",
      "broken_traj=8\n",
      "processing block: 2\n"
     ]
    },
    {
     "data": {
      "application/vnd.jupyter.widget-view+json": {
       "model_id": "2d71b505f18c49a58469d18e4e0f60b2",
       "version_major": 2,
       "version_minor": 0
      },
      "text/plain": [
       "  0%|          | 0/5000 [00:00<?, ?it/s]"
      ]
     },
     "metadata": {},
     "output_type": "display_data"
    },
    {
     "name": "stdout",
     "output_type": "stream",
     "text": [
      "step_size=0.08573748916387558\n",
      "max_step_size=0.49166667461395264\n",
      "broken_traj=8\n",
      "processing block: 3\n"
     ]
    },
    {
     "data": {
      "application/vnd.jupyter.widget-view+json": {
       "model_id": "3de61c00ec0e49da989a8258c61c13ad",
       "version_major": 2,
       "version_minor": 0
      },
      "text/plain": [
       "  0%|          | 0/5000 [00:00<?, ?it/s]"
      ]
     },
     "metadata": {},
     "output_type": "display_data"
    },
    {
     "name": "stdout",
     "output_type": "stream",
     "text": [
      "step_size=0.08573748916387558\n",
      "max_step_size=0.49166667461395264\n",
      "broken_traj=8\n",
      "Runtime: 270.76s\n",
      "\n",
      "Processing dimension 32\n",
      "--------------------------------------------------------------------------------\n",
      "Running MALA\n",
      "number of blocks: 2\n",
      "processing block: 1\n"
     ]
    },
    {
     "data": {
      "application/vnd.jupyter.widget-view+json": {
       "model_id": "fce0b609308d4838be41d23d2084b11c",
       "version_major": 2,
       "version_minor": 0
      },
      "text/plain": [
       "  0%|          | 0/7500 [00:00<?, ?it/s]"
      ]
     },
     "metadata": {},
     "output_type": "display_data"
    },
    {
     "name": "stdout",
     "output_type": "stream",
     "text": [
      "step_size=0.05227656289935112\n",
      "processing block: 2\n"
     ]
    },
    {
     "data": {
      "application/vnd.jupyter.widget-view+json": {
       "model_id": "264a263cf6ec4e0eb3a969141d730bbd",
       "version_major": 2,
       "version_minor": 0
      },
      "text/plain": [
       "  0%|          | 0/5000 [00:00<?, ?it/s]"
      ]
     },
     "metadata": {},
     "output_type": "display_data"
    },
    {
     "name": "stdout",
     "output_type": "stream",
     "text": [
      "step_size=0.05213812366127968\n",
      "Runtime: 6.67s\n",
      "--------------------------------------------------------------------------------\n",
      "Running HMCVanilla\n",
      "number of blocks: 3\n",
      "processing block: 1\n"
     ]
    },
    {
     "data": {
      "application/vnd.jupyter.widget-view+json": {
       "model_id": "bffd76cba35a469588059bd0f8658ce6",
       "version_major": 2,
       "version_minor": 0
      },
      "text/plain": [
       "  0%|          | 0/2500 [00:00<?, ?it/s]"
      ]
     },
     "metadata": {},
     "output_type": "display_data"
    },
    {
     "name": "stdout",
     "output_type": "stream",
     "text": [
      "step_size=0.08573748916387558\n",
      "max_step_size=0.481666624546051\n",
      "broken_traj=10\n",
      "processing block: 2\n"
     ]
    },
    {
     "data": {
      "application/vnd.jupyter.widget-view+json": {
       "model_id": "5d5f0c34a76d46e98aeadbd41210d862",
       "version_major": 2,
       "version_minor": 0
      },
      "text/plain": [
       "  0%|          | 0/5000 [00:00<?, ?it/s]"
      ]
     },
     "metadata": {},
     "output_type": "display_data"
    },
    {
     "name": "stdout",
     "output_type": "stream",
     "text": [
      "step_size=0.08573748916387558\n",
      "max_step_size=0.481666624546051\n",
      "broken_traj=10\n",
      "processing block: 3\n"
     ]
    },
    {
     "data": {
      "application/vnd.jupyter.widget-view+json": {
       "model_id": "ea3e4be7730c41b886c1cf785d765a3b",
       "version_major": 2,
       "version_minor": 0
      },
      "text/plain": [
       "  0%|          | 0/5000 [00:00<?, ?it/s]"
      ]
     },
     "metadata": {},
     "output_type": "display_data"
    },
    {
     "name": "stdout",
     "output_type": "stream",
     "text": [
      "step_size=0.08573748916387558\n",
      "max_step_size=0.481666624546051\n",
      "broken_traj=10\n",
      "Runtime: 165.81s\n",
      "--------------------------------------------------------------------------------\n",
      "Running HMCAdaptiveHutchTaylorNoGrad\n",
      "number of blocks: 3\n",
      "processing block: 1\n"
     ]
    },
    {
     "data": {
      "application/vnd.jupyter.widget-view+json": {
       "model_id": "31f8ea517290488993c2c33481e9603b",
       "version_major": 2,
       "version_minor": 0
      },
      "text/plain": [
       "  0%|          | 0/2500 [00:00<?, ?it/s]"
      ]
     },
     "metadata": {},
     "output_type": "display_data"
    },
    {
     "name": "stdout",
     "output_type": "stream",
     "text": [
      "step_size=0.08573748916387558\n",
      "max_step_size=0.4833333194255829\n",
      "broken_traj=10\n",
      "processing block: 2\n"
     ]
    },
    {
     "data": {
      "application/vnd.jupyter.widget-view+json": {
       "model_id": "012301d0cc3b42f3a14d570856ecf747",
       "version_major": 2,
       "version_minor": 0
      },
      "text/plain": [
       "  0%|          | 0/5000 [00:00<?, ?it/s]"
      ]
     },
     "metadata": {},
     "output_type": "display_data"
    },
    {
     "name": "stdout",
     "output_type": "stream",
     "text": [
      "step_size=0.08573748916387558\n",
      "max_step_size=0.4833333194255829\n",
      "broken_traj=10\n",
      "processing block: 3\n"
     ]
    },
    {
     "data": {
      "application/vnd.jupyter.widget-view+json": {
       "model_id": "4d785c9ea46e4a8ab032b1ccf7aad8c2",
       "version_major": 2,
       "version_minor": 0
      },
      "text/plain": [
       "  0%|          | 0/5000 [00:00<?, ?it/s]"
      ]
     },
     "metadata": {},
     "output_type": "display_data"
    },
    {
     "name": "stdout",
     "output_type": "stream",
     "text": [
      "step_size=0.08573748916387558\n",
      "max_step_size=0.4833333194255829\n",
      "broken_traj=10\n",
      "Runtime: 261.24s\n",
      "--------------------------------------------------------------------------------\n",
      "Running HMCAdaptiveHutchLanczosNoGrad\n",
      "number of blocks: 3\n",
      "processing block: 1\n"
     ]
    },
    {
     "data": {
      "application/vnd.jupyter.widget-view+json": {
       "model_id": "dcaa15620e2343828ead6571c5b0d503",
       "version_major": 2,
       "version_minor": 0
      },
      "text/plain": [
       "  0%|          | 0/2500 [00:00<?, ?it/s]"
      ]
     },
     "metadata": {},
     "output_type": "display_data"
    },
    {
     "name": "stdout",
     "output_type": "stream",
     "text": [
      "step_size=0.08573748916387558\n",
      "max_step_size=0.4841666519641876\n",
      "broken_traj=10\n",
      "processing block: 2\n"
     ]
    },
    {
     "data": {
      "application/vnd.jupyter.widget-view+json": {
       "model_id": "176a43c6cb1349b59ddcdda5e21f3ea5",
       "version_major": 2,
       "version_minor": 0
      },
      "text/plain": [
       "  0%|          | 0/5000 [00:00<?, ?it/s]"
      ]
     },
     "metadata": {},
     "output_type": "display_data"
    },
    {
     "name": "stdout",
     "output_type": "stream",
     "text": [
      "step_size=0.08573748916387558\n",
      "max_step_size=0.4841666519641876\n",
      "broken_traj=10\n",
      "processing block: 3\n"
     ]
    },
    {
     "data": {
      "application/vnd.jupyter.widget-view+json": {
       "model_id": "16f33171f5574c35b220bdb4a942279b",
       "version_major": 2,
       "version_minor": 0
      },
      "text/plain": [
       "  0%|          | 0/5000 [00:00<?, ?it/s]"
      ]
     },
     "metadata": {},
     "output_type": "display_data"
    },
    {
     "name": "stdout",
     "output_type": "stream",
     "text": [
      "step_size=0.08573748916387558\n",
      "max_step_size=0.4841666519641876\n",
      "broken_traj=10\n",
      "Runtime: 279.93s\n",
      "\n",
      "Processing dimension 64\n",
      "--------------------------------------------------------------------------------\n",
      "Running MALA\n",
      "number of blocks: 2\n",
      "processing block: 1\n"
     ]
    },
    {
     "data": {
      "application/vnd.jupyter.widget-view+json": {
       "model_id": "02f5ddabe3a74b6385c635f1a63d64c7",
       "version_major": 2,
       "version_minor": 0
      },
      "text/plain": [
       "  0%|          | 0/7500 [00:00<?, ?it/s]"
      ]
     },
     "metadata": {},
     "output_type": "display_data"
    },
    {
     "name": "stdout",
     "output_type": "stream",
     "text": [
      "step_size=0.04788379371166229\n",
      "processing block: 2\n"
     ]
    },
    {
     "data": {
      "application/vnd.jupyter.widget-view+json": {
       "model_id": "1b6f8adec939433ba0403a90e79d1816",
       "version_major": 2,
       "version_minor": 0
      },
      "text/plain": [
       "  0%|          | 0/5000 [00:00<?, ?it/s]"
      ]
     },
     "metadata": {},
     "output_type": "display_data"
    },
    {
     "name": "stdout",
     "output_type": "stream",
     "text": [
      "step_size=0.04764106497168541\n",
      "Runtime: 7.26s\n",
      "--------------------------------------------------------------------------------\n",
      "Running HMCVanilla\n",
      "number of blocks: 3\n",
      "processing block: 1\n"
     ]
    },
    {
     "data": {
      "application/vnd.jupyter.widget-view+json": {
       "model_id": "1bb799575e56412282365522df440b17",
       "version_major": 2,
       "version_minor": 0
      },
      "text/plain": [
       "  0%|          | 0/2500 [00:00<?, ?it/s]"
      ]
     },
     "metadata": {},
     "output_type": "display_data"
    },
    {
     "name": "stdout",
     "output_type": "stream",
     "text": [
      "step_size=0.08573748916387558\n",
      "max_step_size=0.4833333194255829\n",
      "broken_traj=10\n",
      "processing block: 2\n"
     ]
    },
    {
     "data": {
      "application/vnd.jupyter.widget-view+json": {
       "model_id": "2c6a2b8048d44e11936a1425f6f06ce6",
       "version_major": 2,
       "version_minor": 0
      },
      "text/plain": [
       "  0%|          | 0/5000 [00:00<?, ?it/s]"
      ]
     },
     "metadata": {},
     "output_type": "display_data"
    },
    {
     "name": "stdout",
     "output_type": "stream",
     "text": [
      "step_size=0.08573748916387558\n",
      "max_step_size=0.4833333194255829\n",
      "broken_traj=10\n",
      "processing block: 3\n"
     ]
    },
    {
     "data": {
      "application/vnd.jupyter.widget-view+json": {
       "model_id": "4984bd54d41f4f66ae2bd48cbd9a7a88",
       "version_major": 2,
       "version_minor": 0
      },
      "text/plain": [
       "  0%|          | 0/5000 [00:00<?, ?it/s]"
      ]
     },
     "metadata": {},
     "output_type": "display_data"
    },
    {
     "name": "stdout",
     "output_type": "stream",
     "text": [
      "step_size=0.08573748916387558\n",
      "max_step_size=0.4833333194255829\n",
      "broken_traj=10\n",
      "Runtime: 178.73s\n",
      "--------------------------------------------------------------------------------\n",
      "Running HMCAdaptiveHutchTaylorNoGrad\n",
      "number of blocks: 3\n",
      "processing block: 1\n"
     ]
    },
    {
     "data": {
      "application/vnd.jupyter.widget-view+json": {
       "model_id": "9887dfddc4f24af6af2886e6dcbf80b0",
       "version_major": 2,
       "version_minor": 0
      },
      "text/plain": [
       "  0%|          | 0/2500 [00:00<?, ?it/s]"
      ]
     },
     "metadata": {},
     "output_type": "display_data"
    },
    {
     "name": "stdout",
     "output_type": "stream",
     "text": [
      "step_size=0.08573748916387558\n",
      "max_step_size=0.48250001668930054\n",
      "broken_traj=10\n",
      "processing block: 2\n"
     ]
    },
    {
     "data": {
      "application/vnd.jupyter.widget-view+json": {
       "model_id": "bd6a012c4cac4607bc6877903f9a3c83",
       "version_major": 2,
       "version_minor": 0
      },
      "text/plain": [
       "  0%|          | 0/5000 [00:00<?, ?it/s]"
      ]
     },
     "metadata": {},
     "output_type": "display_data"
    },
    {
     "name": "stdout",
     "output_type": "stream",
     "text": [
      "step_size=0.08573748916387558\n",
      "max_step_size=0.48250001668930054\n",
      "broken_traj=10\n",
      "processing block: 3\n"
     ]
    },
    {
     "data": {
      "application/vnd.jupyter.widget-view+json": {
       "model_id": "086246ae5a9f4f51af17123ed291bf08",
       "version_major": 2,
       "version_minor": 0
      },
      "text/plain": [
       "  0%|          | 0/5000 [00:00<?, ?it/s]"
      ]
     },
     "metadata": {},
     "output_type": "display_data"
    },
    {
     "name": "stdout",
     "output_type": "stream",
     "text": [
      "step_size=0.08573748916387558\n",
      "max_step_size=0.48250001668930054\n",
      "broken_traj=10\n",
      "Runtime: 278.88s\n",
      "--------------------------------------------------------------------------------\n",
      "Running HMCAdaptiveHutchLanczosNoGrad\n",
      "number of blocks: 3\n",
      "processing block: 1\n"
     ]
    },
    {
     "data": {
      "application/vnd.jupyter.widget-view+json": {
       "model_id": "268f1d50299949f4a87bff060b6d5485",
       "version_major": 2,
       "version_minor": 0
      },
      "text/plain": [
       "  0%|          | 0/2500 [00:00<?, ?it/s]"
      ]
     },
     "metadata": {},
     "output_type": "display_data"
    },
    {
     "name": "stdout",
     "output_type": "stream",
     "text": [
      "step_size=0.08573748916387558\n",
      "max_step_size=0.48249998688697815\n",
      "broken_traj=10\n",
      "processing block: 2\n"
     ]
    },
    {
     "data": {
      "application/vnd.jupyter.widget-view+json": {
       "model_id": "e4aee5e658484b7c8c5d7cf8007a0941",
       "version_major": 2,
       "version_minor": 0
      },
      "text/plain": [
       "  0%|          | 0/5000 [00:00<?, ?it/s]"
      ]
     },
     "metadata": {},
     "output_type": "display_data"
    },
    {
     "name": "stdout",
     "output_type": "stream",
     "text": [
      "step_size=0.08573748916387558\n",
      "max_step_size=0.48249998688697815\n",
      "broken_traj=10\n",
      "processing block: 3\n"
     ]
    },
    {
     "data": {
      "application/vnd.jupyter.widget-view+json": {
       "model_id": "7f4222b92cfd4d4387fcdf204a8070cc",
       "version_major": 2,
       "version_minor": 0
      },
      "text/plain": [
       "  0%|          | 0/5000 [00:00<?, ?it/s]"
      ]
     },
     "metadata": {},
     "output_type": "display_data"
    },
    {
     "name": "stdout",
     "output_type": "stream",
     "text": [
      "step_size=0.08573748916387558\n",
      "max_step_size=0.48249998688697815\n",
      "broken_traj=10\n",
      "Runtime: 300.08s\n",
      "\n",
      "Processing dimension 128\n",
      "--------------------------------------------------------------------------------\n",
      "Running MALA\n",
      "number of blocks: 2\n",
      "processing block: 1\n"
     ]
    },
    {
     "data": {
      "application/vnd.jupyter.widget-view+json": {
       "model_id": "f6d3071bda0a4651bc4a734706fee0d8",
       "version_major": 2,
       "version_minor": 0
      },
      "text/plain": [
       "  0%|          | 0/7500 [00:00<?, ?it/s]"
      ]
     },
     "metadata": {},
     "output_type": "display_data"
    },
    {
     "name": "stdout",
     "output_type": "stream",
     "text": [
      "step_size=0.04290488734841347\n",
      "processing block: 2\n"
     ]
    },
    {
     "data": {
      "application/vnd.jupyter.widget-view+json": {
       "model_id": "db423a99d1274a95acbf5b4dfe942cd6",
       "version_major": 2,
       "version_minor": 0
      },
      "text/plain": [
       "  0%|          | 0/5000 [00:00<?, ?it/s]"
      ]
     },
     "metadata": {},
     "output_type": "display_data"
    },
    {
     "name": "stdout",
     "output_type": "stream",
     "text": [
      "step_size=0.04279152303934097\n",
      "Runtime: 8.64s\n",
      "--------------------------------------------------------------------------------\n",
      "Running HMCVanilla\n",
      "number of blocks: 3\n",
      "processing block: 1\n"
     ]
    },
    {
     "data": {
      "application/vnd.jupyter.widget-view+json": {
       "model_id": "790fa2aeef9b47719a2db41792470afe",
       "version_major": 2,
       "version_minor": 0
      },
      "text/plain": [
       "  0%|          | 0/2500 [00:00<?, ?it/s]"
      ]
     },
     "metadata": {},
     "output_type": "display_data"
    },
    {
     "name": "stdout",
     "output_type": "stream",
     "text": [
      "step_size=0.08573748916387558\n",
      "max_step_size=0.4950000047683716\n",
      "broken_traj=7\n",
      "processing block: 2\n"
     ]
    },
    {
     "data": {
      "application/vnd.jupyter.widget-view+json": {
       "model_id": "9b651ed5872e424fb7ba26f7d58adbd9",
       "version_major": 2,
       "version_minor": 0
      },
      "text/plain": [
       "  0%|          | 0/5000 [00:00<?, ?it/s]"
      ]
     },
     "metadata": {},
     "output_type": "display_data"
    },
    {
     "name": "stdout",
     "output_type": "stream",
     "text": [
      "step_size=0.08573748916387558\n",
      "max_step_size=0.4950000047683716\n",
      "broken_traj=7\n",
      "processing block: 3\n"
     ]
    },
    {
     "data": {
      "application/vnd.jupyter.widget-view+json": {
       "model_id": "9f0c81e5039740a49958cf6632dc0d99",
       "version_major": 2,
       "version_minor": 0
      },
      "text/plain": [
       "  0%|          | 0/5000 [00:00<?, ?it/s]"
      ]
     },
     "metadata": {},
     "output_type": "display_data"
    },
    {
     "name": "stdout",
     "output_type": "stream",
     "text": [
      "step_size=0.08573748916387558\n",
      "max_step_size=0.4950000047683716\n",
      "broken_traj=7\n",
      "Runtime: 193.24s\n",
      "--------------------------------------------------------------------------------\n",
      "Running HMCAdaptiveHutchTaylorNoGrad\n",
      "number of blocks: 3\n",
      "processing block: 1\n"
     ]
    },
    {
     "data": {
      "application/vnd.jupyter.widget-view+json": {
       "model_id": "50aa75bb529a4ff09bb7d405258c09f6",
       "version_major": 2,
       "version_minor": 0
      },
      "text/plain": [
       "  0%|          | 0/2500 [00:00<?, ?it/s]"
      ]
     },
     "metadata": {},
     "output_type": "display_data"
    },
    {
     "name": "stdout",
     "output_type": "stream",
     "text": [
      "step_size=0.08573748916387558\n",
      "max_step_size=0.48083335161209106\n",
      "broken_traj=9\n",
      "processing block: 2\n"
     ]
    },
    {
     "data": {
      "application/vnd.jupyter.widget-view+json": {
       "model_id": "b6523fa30c1d41a8b53bc95d0540bd6e",
       "version_major": 2,
       "version_minor": 0
      },
      "text/plain": [
       "  0%|          | 0/5000 [00:00<?, ?it/s]"
      ]
     },
     "metadata": {},
     "output_type": "display_data"
    },
    {
     "name": "stdout",
     "output_type": "stream",
     "text": [
      "step_size=0.08573748916387558\n",
      "max_step_size=0.48083335161209106\n",
      "broken_traj=9\n",
      "processing block: 3\n"
     ]
    },
    {
     "data": {
      "application/vnd.jupyter.widget-view+json": {
       "model_id": "24452209b32e49fd938174a677d027b8",
       "version_major": 2,
       "version_minor": 0
      },
      "text/plain": [
       "  0%|          | 0/5000 [00:00<?, ?it/s]"
      ]
     },
     "metadata": {},
     "output_type": "display_data"
    },
    {
     "name": "stdout",
     "output_type": "stream",
     "text": [
      "step_size=0.08573748916387558\n",
      "max_step_size=0.48083335161209106\n",
      "broken_traj=9\n",
      "Runtime: 305.37s\n",
      "--------------------------------------------------------------------------------\n",
      "Running HMCAdaptiveHutchLanczosNoGrad\n",
      "number of blocks: 3\n",
      "processing block: 1\n"
     ]
    },
    {
     "data": {
      "application/vnd.jupyter.widget-view+json": {
       "model_id": "bc20fe177a9f44b8b39b3a0ec0bb764d",
       "version_major": 2,
       "version_minor": 0
      },
      "text/plain": [
       "  0%|          | 0/2500 [00:00<?, ?it/s]"
      ]
     },
     "metadata": {},
     "output_type": "display_data"
    },
    {
     "name": "stdout",
     "output_type": "stream",
     "text": [
      "step_size=0.08573748916387558\n",
      "max_step_size=0.49666669964790344\n",
      "broken_traj=10\n",
      "processing block: 2\n"
     ]
    },
    {
     "data": {
      "application/vnd.jupyter.widget-view+json": {
       "model_id": "d9c3d1abeeaf4063aa30b52ff44640df",
       "version_major": 2,
       "version_minor": 0
      },
      "text/plain": [
       "  0%|          | 0/5000 [00:00<?, ?it/s]"
      ]
     },
     "metadata": {},
     "output_type": "display_data"
    },
    {
     "name": "stdout",
     "output_type": "stream",
     "text": [
      "step_size=0.08573748916387558\n",
      "max_step_size=0.49666669964790344\n",
      "broken_traj=10\n",
      "processing block: 3\n"
     ]
    },
    {
     "data": {
      "application/vnd.jupyter.widget-view+json": {
       "model_id": "8d0a87c3d5564e42b18bcce1d5d4bac1",
       "version_major": 2,
       "version_minor": 0
      },
      "text/plain": [
       "  0%|          | 0/5000 [00:00<?, ?it/s]"
      ]
     },
     "metadata": {},
     "output_type": "display_data"
    },
    {
     "name": "stdout",
     "output_type": "stream",
     "text": [
      "step_size=0.08573748916387558\n",
      "max_step_size=0.49666669964790344\n",
      "broken_traj=10\n",
      "Runtime: 329.36s\n",
      "\n",
      "Processing dimension 256\n",
      "--------------------------------------------------------------------------------\n",
      "Running MALA\n",
      "number of blocks: 2\n",
      "processing block: 1\n"
     ]
    },
    {
     "data": {
      "application/vnd.jupyter.widget-view+json": {
       "model_id": "47e894f3af75483da59154bb5251c204",
       "version_major": 2,
       "version_minor": 0
      },
      "text/plain": [
       "  0%|          | 0/7500 [00:00<?, ?it/s]"
      ]
     },
     "metadata": {},
     "output_type": "display_data"
    },
    {
     "name": "stdout",
     "output_type": "stream",
     "text": [
      "step_size=0.03846301883459091\n",
      "processing block: 2\n"
     ]
    },
    {
     "data": {
      "application/vnd.jupyter.widget-view+json": {
       "model_id": "e2a287756b9648e694d1629475db82ea",
       "version_major": 2,
       "version_minor": 0
      },
      "text/plain": [
       "  0%|          | 0/5000 [00:00<?, ?it/s]"
      ]
     },
     "metadata": {},
     "output_type": "display_data"
    },
    {
     "name": "stdout",
     "output_type": "stream",
     "text": [
      "step_size=0.038464028388261795\n",
      "Runtime: 14.20s\n",
      "--------------------------------------------------------------------------------\n",
      "Running HMCVanilla\n",
      "number of blocks: 3\n",
      "processing block: 1\n"
     ]
    },
    {
     "data": {
      "application/vnd.jupyter.widget-view+json": {
       "model_id": "9d21e041d7704ce0bacb6e9bad13da33",
       "version_major": 2,
       "version_minor": 0
      },
      "text/plain": [
       "  0%|          | 0/2500 [00:00<?, ?it/s]"
      ]
     },
     "metadata": {},
     "output_type": "display_data"
    },
    {
     "name": "stdout",
     "output_type": "stream",
     "text": [
      "step_size=0.08573748916387558\n",
      "max_step_size=0.4941667318344116\n",
      "broken_traj=10\n",
      "processing block: 2\n"
     ]
    },
    {
     "data": {
      "application/vnd.jupyter.widget-view+json": {
       "model_id": "b06f7cc31191443ca398b517001208e6",
       "version_major": 2,
       "version_minor": 0
      },
      "text/plain": [
       "  0%|          | 0/5000 [00:00<?, ?it/s]"
      ]
     },
     "metadata": {},
     "output_type": "display_data"
    },
    {
     "name": "stdout",
     "output_type": "stream",
     "text": [
      "step_size=0.08573748916387558\n",
      "max_step_size=0.4941667318344116\n",
      "broken_traj=10\n",
      "processing block: 3\n"
     ]
    },
    {
     "data": {
      "application/vnd.jupyter.widget-view+json": {
       "model_id": "cb54c183bc274a0f87e3411e06d08958",
       "version_major": 2,
       "version_minor": 0
      },
      "text/plain": [
       "  0%|          | 0/5000 [00:00<?, ?it/s]"
      ]
     },
     "metadata": {},
     "output_type": "display_data"
    },
    {
     "name": "stdout",
     "output_type": "stream",
     "text": [
      "step_size=0.08573748916387558\n",
      "max_step_size=0.4941667318344116\n",
      "broken_traj=10\n",
      "Runtime: 243.11s\n",
      "--------------------------------------------------------------------------------\n",
      "Running HMCAdaptiveHutchTaylorNoGrad\n",
      "number of blocks: 3\n",
      "processing block: 1\n"
     ]
    },
    {
     "data": {
      "application/vnd.jupyter.widget-view+json": {
       "model_id": "16d92dd8ee1a4d6caad99cbfb616098f",
       "version_major": 2,
       "version_minor": 0
      },
      "text/plain": [
       "  0%|          | 0/2500 [00:00<?, ?it/s]"
      ]
     },
     "metadata": {},
     "output_type": "display_data"
    },
    {
     "name": "stdout",
     "output_type": "stream",
     "text": [
      "step_size=0.08573748916387558\n",
      "max_step_size=0.47749999165534973\n",
      "broken_traj=11\n",
      "processing block: 2\n"
     ]
    },
    {
     "data": {
      "application/vnd.jupyter.widget-view+json": {
       "model_id": "941c16a8042f4886923284f40b797ee0",
       "version_major": 2,
       "version_minor": 0
      },
      "text/plain": [
       "  0%|          | 0/5000 [00:00<?, ?it/s]"
      ]
     },
     "metadata": {},
     "output_type": "display_data"
    },
    {
     "name": "stdout",
     "output_type": "stream",
     "text": [
      "step_size=0.08573748916387558\n",
      "max_step_size=0.47749999165534973\n",
      "broken_traj=11\n",
      "processing block: 3\n"
     ]
    },
    {
     "data": {
      "application/vnd.jupyter.widget-view+json": {
       "model_id": "14352c49151a4c2ca59c677058a282f2",
       "version_major": 2,
       "version_minor": 0
      },
      "text/plain": [
       "  0%|          | 0/5000 [00:00<?, ?it/s]"
      ]
     },
     "metadata": {},
     "output_type": "display_data"
    },
    {
     "name": "stdout",
     "output_type": "stream",
     "text": [
      "step_size=0.08573748916387558\n",
      "max_step_size=0.47749999165534973\n",
      "broken_traj=11\n",
      "Runtime: 382.03s\n",
      "--------------------------------------------------------------------------------\n",
      "Running HMCAdaptiveHutchLanczosNoGrad\n",
      "number of blocks: 3\n",
      "processing block: 1\n"
     ]
    },
    {
     "data": {
      "application/vnd.jupyter.widget-view+json": {
       "model_id": "43125418071344cd8998e0e93f71ab54",
       "version_major": 2,
       "version_minor": 0
      },
      "text/plain": [
       "  0%|          | 0/2500 [00:00<?, ?it/s]"
      ]
     },
     "metadata": {},
     "output_type": "display_data"
    },
    {
     "name": "stdout",
     "output_type": "stream",
     "text": [
      "step_size=0.08573748916387558\n",
      "max_step_size=0.49666669964790344\n",
      "broken_traj=9\n",
      "processing block: 2\n"
     ]
    },
    {
     "data": {
      "application/vnd.jupyter.widget-view+json": {
       "model_id": "561ed41cd5b54712b141bf5e28808501",
       "version_major": 2,
       "version_minor": 0
      },
      "text/plain": [
       "  0%|          | 0/5000 [00:00<?, ?it/s]"
      ]
     },
     "metadata": {},
     "output_type": "display_data"
    },
    {
     "name": "stdout",
     "output_type": "stream",
     "text": [
      "step_size=0.08573748916387558\n",
      "max_step_size=0.49666669964790344\n",
      "broken_traj=9\n",
      "processing block: 3\n"
     ]
    },
    {
     "data": {
      "application/vnd.jupyter.widget-view+json": {
       "model_id": "b8253bc68ffb416697c526d050190efe",
       "version_major": 2,
       "version_minor": 0
      },
      "text/plain": [
       "  0%|          | 0/5000 [00:00<?, ?it/s]"
      ]
     },
     "metadata": {},
     "output_type": "display_data"
    },
    {
     "name": "stdout",
     "output_type": "stream",
     "text": [
      "step_size=0.08573748916387558\n",
      "max_step_size=0.49666669964790344\n",
      "broken_traj=9\n",
      "Runtime: 411.54s\n",
      "\n"
     ]
    },
    {
     "data": {
      "application/vnd.jupyter.widget-view+json": {
       "model_id": "db2a38478eeb40ea9d837ad51049ebdb",
       "version_major": 2,
       "version_minor": 0
      },
      "text/plain": [
       "dimension:   0%|          | 0/6 [00:00<?, ?it/s]"
      ]
     },
     "metadata": {},
     "output_type": "display_data"
    },
    {
     "data": {
      "application/vnd.jupyter.widget-view+json": {
       "model_id": "036c28b8227940489c0752a4161056b3",
       "version_major": 2,
       "version_minor": 0
      },
      "text/plain": [
       "alg:   0%|          | 0/4 [00:00<?, ?it/s]"
      ]
     },
     "metadata": {},
     "output_type": "display_data"
    },
    {
     "name": "stderr",
     "output_type": "stream",
     "text": [
      "/home/liv/Projects/MML/ThesisCode/adaptive_mcmc/tools/metrics.py:43: UserWarning: std(): degrees of freedom is <= 0. Correction should be strictly less than the reduction factor (input numel divided by output numel). (Triggered internally at ../aten/src/ATen/native/ReduceOps.cpp:1823.)\n",
      "  return ess.mean().item(), ess.std().item()\n"
     ]
    },
    {
     "ename": "ZeroDivisionError",
     "evalue": "float division by zero",
     "output_type": "error",
     "traceback": [
      "\u001b[0;31m---------------------------------------------------------------------------\u001b[0m",
      "\u001b[0;31mZeroDivisionError\u001b[0m                         Traceback (most recent call last)",
      "Cell \u001b[0;32mIn[12], line 122\u001b[0m\n\u001b[1;32m     32\u001b[0m \u001b[38;5;28;01mfor\u001b[39;00m dist_name \u001b[38;5;129;01min\u001b[39;00m dist_names:\n\u001b[1;32m     33\u001b[0m     algs \u001b[38;5;241m=\u001b[39m {\n\u001b[1;32m     34\u001b[0m         \u001b[38;5;124m\"\u001b[39m\u001b[38;5;124mmala\u001b[39m\u001b[38;5;124m\"\u001b[39m: mala\u001b[38;5;241m.\u001b[39mMALAVanilla(\n\u001b[1;32m     35\u001b[0m             pipeline\u001b[38;5;241m=\u001b[39m\u001b[38;5;28;01mNone\u001b[39;00m,\n\u001b[0;32m   (...)\u001b[0m\n\u001b[1;32m    120\u001b[0m         \u001b[38;5;66;03m# ),\u001b[39;00m\n\u001b[1;32m    121\u001b[0m     }\n\u001b[0;32m--> 122\u001b[0m     \u001b[43mrun_experiment\u001b[49m\u001b[43m(\u001b[49m\u001b[43mdist_name\u001b[49m\u001b[43m,\u001b[49m\u001b[43m \u001b[49m\u001b[43mlog\u001b[49m\u001b[38;5;241;43m=\u001b[39;49m\u001b[43mlog\u001b[49m\u001b[43m)\u001b[49m\n",
      "Cell \u001b[0;32mIn[10], line 60\u001b[0m, in \u001b[0;36mrun_experiment\u001b[0;34m(dist_name, log)\u001b[0m\n\u001b[1;32m     52\u001b[0m         hist_data[dimension][alg] \u001b[38;5;241m=\u001b[39m {\n\u001b[1;32m     53\u001b[0m             \u001b[38;5;124m\"\u001b[39m\u001b[38;5;124mcache\u001b[39m\u001b[38;5;124m\"\u001b[39m: algs[alg]\u001b[38;5;241m.\u001b[39mpipeline\u001b[38;5;241m.\u001b[39msample_blocks[\u001b[38;5;241m-\u001b[39m\u001b[38;5;241m1\u001b[39m]\u001b[38;5;241m.\u001b[39miteration\u001b[38;5;241m.\u001b[39mcache,\n\u001b[1;32m     54\u001b[0m             \u001b[38;5;124m\"\u001b[39m\u001b[38;5;124mstop_data_hist\u001b[39m\u001b[38;5;124m\"\u001b[39m: algs[alg]\u001b[38;5;241m.\u001b[39mpipeline\u001b[38;5;241m.\u001b[39msample_blocks[\u001b[38;5;241m-\u001b[39m\u001b[38;5;241m1\u001b[39m]\u001b[38;5;241m.\u001b[39mstop_data_hist,\n\u001b[1;32m     55\u001b[0m             \u001b[38;5;124m\"\u001b[39m\u001b[38;5;124mruntime\u001b[39m\u001b[38;5;124m\"\u001b[39m: algs[alg]\u001b[38;5;241m.\u001b[39mpipeline\u001b[38;5;241m.\u001b[39mruntime,\n\u001b[1;32m     56\u001b[0m             \u001b[38;5;124m\"\u001b[39m\u001b[38;5;124mpure_runtime\u001b[39m\u001b[38;5;124m\"\u001b[39m: algs[alg]\u001b[38;5;241m.\u001b[39mpipeline\u001b[38;5;241m.\u001b[39mpure_runtime,\n\u001b[1;32m     57\u001b[0m         }\n\u001b[1;32m     58\u001b[0m     \u001b[38;5;28mprint\u001b[39m()\n\u001b[0;32m---> 60\u001b[0m dim_stat \u001b[38;5;241m=\u001b[39m \u001b[43mcompute_results\u001b[49m\u001b[43m(\u001b[49m\u001b[43mhist_data\u001b[49m\u001b[43m,\u001b[49m\u001b[43m \u001b[49m\u001b[43malgs\u001b[49m\u001b[43m,\u001b[49m\u001b[43m \u001b[49m\u001b[43mdist_name\u001b[49m\u001b[43m)\u001b[49m\n\u001b[1;32m     61\u001b[0m log\u001b[38;5;241m.\u001b[39mappend({\n\u001b[1;32m     62\u001b[0m     \u001b[38;5;124m\"\u001b[39m\u001b[38;5;124mhist_data\u001b[39m\u001b[38;5;124m\"\u001b[39m: hist_data,\n\u001b[1;32m     63\u001b[0m     \u001b[38;5;124m\"\u001b[39m\u001b[38;5;124malgs\u001b[39m\u001b[38;5;124m\"\u001b[39m: algs,\n\u001b[1;32m     64\u001b[0m     \u001b[38;5;124m\"\u001b[39m\u001b[38;5;124mdist_name\u001b[39m\u001b[38;5;124m\"\u001b[39m: dist_name,\n\u001b[1;32m     65\u001b[0m     \u001b[38;5;124m\"\u001b[39m\u001b[38;5;124mdim_stat\u001b[39m\u001b[38;5;124m\"\u001b[39m: dim_stat,\n\u001b[1;32m     66\u001b[0m })\n",
      "Cell \u001b[0;32mIn[9], line 52\u001b[0m, in \u001b[0;36mcompute_results\u001b[0;34m(hist_data, algs, dist_name)\u001b[0m\n\u001b[1;32m     48\u001b[0m pure_runtime \u001b[38;5;241m=\u001b[39m obj[\u001b[38;5;124m\"\u001b[39m\u001b[38;5;124mpure_runtime\u001b[39m\u001b[38;5;124m\"\u001b[39m]\n\u001b[1;32m     50\u001b[0m clean_samples, n_kept \u001b[38;5;241m=\u001b[39m drop_static_chains(cache\u001b[38;5;241m.\u001b[39msamples)\n\u001b[0;32m---> 52\u001b[0m metrics \u001b[38;5;241m=\u001b[39m \u001b[43mBenchmarkUtils\u001b[49m\u001b[38;5;241;43m.\u001b[39;49m\u001b[43mcompute_metrics\u001b[49m\u001b[43m(\u001b[49m\u001b[43mclean_samples\u001b[49m\u001b[43m,\u001b[49m\n\u001b[1;32m     53\u001b[0m \u001b[43m                                         \u001b[49m\u001b[43mcache\u001b[49m\u001b[38;5;241;43m.\u001b[39;49m\u001b[43mtrue_samples\u001b[49m\u001b[43m)\u001b[49m\n\u001b[1;32m     54\u001b[0m metrics[\u001b[38;5;124m\"\u001b[39m\u001b[38;5;124mruntime\u001b[39m\u001b[38;5;124m\"\u001b[39m]      \u001b[38;5;241m=\u001b[39m pure_runtime\n\u001b[1;32m     55\u001b[0m metrics[\u001b[38;5;124m\"\u001b[39m\u001b[38;5;124mchains_kept\u001b[39m\u001b[38;5;124m\"\u001b[39m]  \u001b[38;5;241m=\u001b[39m n_kept\n",
      "File \u001b[0;32m~/Projects/MML/ThesisCode/adaptive_mcmc/tools/benchmark.py:65\u001b[0m, in \u001b[0;36mBenchmarkUtils.compute_metrics\u001b[0;34m(mcmc_samples, true_samples, **kwargs)\u001b[0m\n\u001b[1;32m     62\u001b[0m \u001b[38;5;129m@staticmethod\u001b[39m\n\u001b[1;32m     63\u001b[0m \u001b[38;5;28;01mdef\u001b[39;00m \u001b[38;5;21mcompute_metrics\u001b[39m(mcmc_samples: Tensor, true_samples: Tensor,\n\u001b[1;32m     64\u001b[0m                     \u001b[38;5;241m*\u001b[39m\u001b[38;5;241m*\u001b[39mkwargs) \u001b[38;5;241m-\u001b[39m\u001b[38;5;241m>\u001b[39m \u001b[38;5;28mdict\u001b[39m:\n\u001b[0;32m---> 65\u001b[0m     \u001b[38;5;28;01mreturn\u001b[39;00m \u001b[43mmetrics\u001b[49m\u001b[38;5;241;43m.\u001b[39;49m\u001b[43mcompute_metrics\u001b[49m\u001b[43m(\u001b[49m\n\u001b[1;32m     66\u001b[0m \u001b[43m        \u001b[49m\u001b[43mxs_true\u001b[49m\u001b[38;5;241;43m=\u001b[39;49m\u001b[43mtrue_samples\u001b[49m\u001b[43m,\u001b[49m\n\u001b[1;32m     67\u001b[0m \u001b[43m        \u001b[49m\u001b[43mxs_pred\u001b[49m\u001b[38;5;241;43m=\u001b[39;49m\u001b[43mmcmc_samples\u001b[49m\u001b[43m,\u001b[49m\n\u001b[1;32m     68\u001b[0m \u001b[43m        \u001b[49m\u001b[38;5;241;43m*\u001b[39;49m\u001b[38;5;241;43m*\u001b[39;49m\u001b[43mkwargs\u001b[49m\n\u001b[1;32m     69\u001b[0m \u001b[43m    \u001b[49m\u001b[43m)\u001b[49m\n",
      "File \u001b[0;32m~/Projects/MML/ThesisCode/adaptive_mcmc/tools/metrics.py:195\u001b[0m, in \u001b[0;36mcompute_metrics\u001b[0;34m(xs_true, xs_pred, name, stride, max_lag, threshold, method, density_probe_count, projection_count, max_iter_ot, scale)\u001b[0m\n\u001b[1;32m    187\u001b[0m metrics \u001b[38;5;241m=\u001b[39m \u001b[38;5;28mdict\u001b[39m()\n\u001b[1;32m    189\u001b[0m metrics[\u001b[38;5;124m\"\u001b[39m\u001b[38;5;124mess_mean\u001b[39m\u001b[38;5;124m\"\u001b[39m], metrics[\u001b[38;5;124m\"\u001b[39m\u001b[38;5;124mess_conf_sigma\u001b[39m\u001b[38;5;124m\"\u001b[39m] \u001b[38;5;241m=\u001b[39m compute_ess(\n\u001b[1;32m    190\u001b[0m     samples\u001b[38;5;241m=\u001b[39mxs_pred,\n\u001b[1;32m    191\u001b[0m     stride\u001b[38;5;241m=\u001b[39mstride,\n\u001b[1;32m    192\u001b[0m     max_lag\u001b[38;5;241m=\u001b[39mmax_lag,\n\u001b[1;32m    193\u001b[0m     threshold\u001b[38;5;241m=\u001b[39mthreshold,\n\u001b[1;32m    194\u001b[0m )\n\u001b[0;32m--> 195\u001b[0m \u001b[43mmetrics\u001b[49m\u001b[43m[\u001b[49m\u001b[38;5;124;43m\"\u001b[39;49m\u001b[38;5;124;43mess_conf_sigma\u001b[39;49m\u001b[38;5;124;43m\"\u001b[39;49m\u001b[43m]\u001b[49m\u001b[43m \u001b[49m\u001b[38;5;241;43m/\u001b[39;49m\u001b[38;5;241;43m=\u001b[39;49m\u001b[43m \u001b[49m\u001b[43mxs_pred\u001b[49m\u001b[38;5;241;43m.\u001b[39;49m\u001b[43mshape\u001b[49m\u001b[43m[\u001b[49m\u001b[38;5;241;43m1\u001b[39;49m\u001b[43m]\u001b[49m\u001b[43m \u001b[49m\u001b[38;5;241;43m*\u001b[39;49m\u001b[38;5;241;43m*\u001b[39;49m\u001b[43m \u001b[49m\u001b[38;5;241;43m0.5\u001b[39;49m\n\u001b[1;32m    197\u001b[0m metrics[\u001b[38;5;124m\"\u001b[39m\u001b[38;5;124mtv_mean\u001b[39m\u001b[38;5;124m\"\u001b[39m], metrics[\u001b[38;5;124m\"\u001b[39m\u001b[38;5;124mtv_conf_sigma\u001b[39m\u001b[38;5;124m\"\u001b[39m] \u001b[38;5;241m=\u001b[39m compute_tv(\n\u001b[1;32m    198\u001b[0m     xs_true,\n\u001b[1;32m    199\u001b[0m     xs_pred,\n\u001b[0;32m   (...)\u001b[0m\n\u001b[1;32m    202\u001b[0m     method\u001b[38;5;241m=\u001b[39mmethod,\n\u001b[1;32m    203\u001b[0m )\n\u001b[1;32m    204\u001b[0m metrics[\u001b[38;5;124m\"\u001b[39m\u001b[38;5;124mtv_conf_sigma\u001b[39m\u001b[38;5;124m\"\u001b[39m] \u001b[38;5;241m/\u001b[39m\u001b[38;5;241m=\u001b[39m xs_pred\u001b[38;5;241m.\u001b[39mshape[\u001b[38;5;241m1\u001b[39m] \u001b[38;5;241m*\u001b[39m\u001b[38;5;241m*\u001b[39m \u001b[38;5;241m0.5\u001b[39m\n",
      "\u001b[0;31mZeroDivisionError\u001b[0m: float division by zero"
     ]
    }
   ],
   "source": [
    "chain_count = 30\n",
    "sample_count = 5000\n",
    "sample_iter_limit = 5000\n",
    "burn_in_iter_count = 5000\n",
    "step_size_burn_in_iter_count = 2500\n",
    "probe_period = 250000\n",
    "\n",
    "tv_threshold = 0.05\n",
    "tail_count_cap = 1000\n",
    "# stopping_rule = TVStop(threshold=tv_threshold, density_probe_count=1000,\n",
    "#                        projection_count=25, tail_count_cap=tail_count_cap)\n",
    "\n",
    "stopping_rule = NoStop(\n",
    "    density_probe_count=500,\n",
    "    projection_count=25,\n",
    "    tail_count_cap=tail_count_cap,\n",
    ")\n",
    "\n",
    "\n",
    "dist_names = [\n",
    "    # \"toeplitz_gm\",\n",
    "    # \"toeplitz_gaussian\",\n",
    "    \"funnel\",\n",
    "    \"random_gm\",\n",
    "    \"illcond_gaussian\",\n",
    "    \"banana\",\n",
    "]\n",
    "\n",
    "dimensions = [8, 16, 32, 64, 128, 256]\n",
    "log = []\n",
    "\n",
    "for dist_name in dist_names:\n",
    "    algs = {\n",
    "        \"mala\": mala.MALAVanilla(\n",
    "            pipeline=None,\n",
    "            name=\"MALA\",\n",
    "            sigma_burn_in_params=hparams[\"mala\"][\"common\"].copy(),\n",
    "            sigma_burn_in_iter_count=burn_in_iter_count + step_size_burn_in_iter_count,\n",
    "            sample_iter_count=sample_iter_limit,\n",
    "            stopping_rule=stopping_rule,\n",
    "            probe_period=probe_period,\n",
    "        ),\n",
    "        # \"fisher_mala\": fishermala.FisherMALAVanilla(\n",
    "        #     pipeline=None,\n",
    "        #     name=\"FisherMALA\",\n",
    "        #     sigma_burn_in_iter_count=step_size_burn_in_iter_count,\n",
    "        #     #common_params=hparams[\"fisher_mala\"][\"common\"].copy(),\n",
    "        #     #fixed_params=hparams[\"fisher_mala\"][\"fixed\"],\n",
    "        #     prec_burn_in_iter_count=burn_in_iter_count,\n",
    "        #     sample_iter_count=sample_iter_limit,\n",
    "        #     stopping_rule=stopping_rule,\n",
    "        #     probe_period=probe_period,\n",
    "        # ),\n",
    "        \"hmc_vanilla\": hmc.HMCVanilla(\n",
    "            pipeline=None,\n",
    "            name=\"HMCVanilla\",\n",
    "            common_params=hparams[\"hmc_vanilla\"][\"common\"].copy(),\n",
    "            fixed_params=hparams[\"hmc_vanilla\"][\"fixed\"],\n",
    "            step_size_burn_in_iter_count=step_size_burn_in_iter_count,\n",
    "            sample_iter_count=sample_iter_limit,\n",
    "            burn_in_iter_count=burn_in_iter_count,\n",
    "            stopping_rule=stopping_rule,\n",
    "            probe_period=probe_period,\n",
    "            mask_adapt_step_size_required=[False, False, False],\n",
    "        ),\n",
    "        \"taylor_nograd\": hmcadaptive.HMCAdaptive(\n",
    "            pipeline=None,\n",
    "            name=\"HMCAdaptiveHutchTaylorNoGrad\",\n",
    "            common_params=hparams[\"taylor_nograd\"][\"common\"].copy(),\n",
    "            fixed_params=hparams[\"taylor_nograd\"][\"fixed\"],\n",
    "            step_size_burn_in_iter_count=step_size_burn_in_iter_count,\n",
    "            sample_iter_count=sample_iter_limit,\n",
    "            burn_in_iter_count=burn_in_iter_count,\n",
    "            stopping_rule=stopping_rule,\n",
    "            probe_period=probe_period,\n",
    "            mask_adapt_step_size_required=[False, False, False],\n",
    "        ),\n",
    "        \"lanczos_nograd\": hmcadaptive.HMCAdaptive(\n",
    "            pipeline=None,\n",
    "            name=\"HMCAdaptiveHutchLanczosNoGrad\",\n",
    "            common_params=hparams[\"lanczos_nograd\"][\"common\"].copy(),\n",
    "            fixed_params=hparams[\"lanczos_nograd\"][\"fixed\"],\n",
    "            step_size_burn_in_iter_count=step_size_burn_in_iter_count,\n",
    "            sample_iter_count=sample_iter_limit,\n",
    "            burn_in_iter_count=burn_in_iter_count,\n",
    "            stopping_rule=stopping_rule,\n",
    "            probe_period=probe_period,\n",
    "            mask_adapt_step_size_required=[False, False, False],\n",
    "        ),\n",
    "        # \"hmcadaptive_hutch_taylor\": hmcadaptive.HMCAdaptive(\n",
    "        #     pipeline=None,\n",
    "        #     name=\"HMCAdaptiveHutchTaylor\",\n",
    "        #     common_params=hparams[\"hmcadaptive_hutch_taylor\"][\"common\"].copy(),\n",
    "        #     fixed_params=hparams[\"hmcadaptive_hutch_taylor\"][\"fixed\"],\n",
    "        #     step_size_burn_in_iter_count=step_size_burn_in_iter_count,\n",
    "        #     sample_iter_count=sample_iter_limit,\n",
    "        #     burn_in_iter_count=burn_in_iter_count,\n",
    "        #     stopping_rule=stopping_rule,\n",
    "        #     probe_period=probe_period,\n",
    "        # ),\n",
    "        # \"hmcadaptive_fullent\": hmcadaptive.HMCAdaptive(\n",
    "        #     pipeline=None,\n",
    "        #     name=\"HMCAdaptiveFullEnt\",\n",
    "        #     params=hparams[\"hmcadaptive_fullent\"].copy(),\n",
    "        #     step_size_burn_in_iter_count=step_size_burn_in_iter_count,\n",
    "        #     sample_iter_count=sample_iter_limit,\n",
    "        #     burn_in_iter_count=burn_in_iter_count,\n",
    "        #     stopping_rule=stopping_rule,\n",
    "        #     probe_period=probe_period,\n",
    "        # ),\n",
    "        # \"hmcadaptive_noent\": hmcadaptive.HMCAdaptive(\n",
    "        #     pipeline=None,\n",
    "        #     name=\"HMCAdaptiveNoEnt\",\n",
    "        #     params=hparams[\"hmcadaptive_noent\"].copy(),\n",
    "        #     step_size_burn_in_iter_count=step_size_burn_in_iter_count,\n",
    "        #     sample_iter_count=sample_iter_limit,\n",
    "        #     burn_in_iter_count=burn_in_iter_count,\n",
    "        #     stopping_rule=stopping_rule,\n",
    "        #     probe_period=probe_period,\n",
    "        # ),\n",
    "    }\n",
    "    run_experiment(dist_name, log=log)"
   ]
  },
  {
   "cell_type": "code",
   "execution_count": null,
   "id": "fc3df7c4-32ba-4573-a4c7-973049bbd666",
   "metadata": {},
   "outputs": [],
   "source": [
    "import cloudpickle"
   ]
  },
  {
   "cell_type": "code",
   "execution_count": null,
   "id": "7158dea3-1cd9-4fb7-a222-2fc525358089",
   "metadata": {},
   "outputs": [],
   "source": [
    "# with open(\"exp_3.pkl\", \"wb\") as f:\n",
    "#     cloudpickle.dump(log, f)"
   ]
  },
  {
   "cell_type": "code",
   "execution_count": null,
   "id": "b9d34943-f01a-47a7-a569-467f1275fb9a",
   "metadata": {},
   "outputs": [],
   "source": [
    "plt.plot(\n",
    "    moving_average(\n",
    "        algs[\"taylor_nograd\"].pipeline.sample_blocks[-1].iteration.cache.grad_norm\n",
    "    ),\n",
    ")\n",
    "plt.title(\"taylor_nograd\")"
   ]
  },
  {
   "cell_type": "code",
   "execution_count": null,
   "id": "e2a11194-e43d-45f7-8f66-5018da3e14d8",
   "metadata": {},
   "outputs": [],
   "source": [
    "plt.plot(\n",
    "    moving_average(\n",
    "        algs[\"lanczos_nograd\"].pipeline.sample_blocks[-1].iteration.cache.grad_norm\n",
    "    ),\n",
    ")\n",
    "plt.title(\"lanczos_nograd\")"
   ]
  },
  {
   "cell_type": "code",
   "execution_count": null,
   "id": "534184de-5316-4325-8178-90b1ca297f7a",
   "metadata": {},
   "outputs": [],
   "source": []
  },
  {
   "cell_type": "code",
   "execution_count": 14,
   "id": "353af9d1-705c-49fb-8f4e-9d8b2821cb38",
   "metadata": {},
   "outputs": [
    {
     "name": "stdout",
     "output_type": "stream",
     "text": [
      "\n",
      "dim=8, dist=funnel\n",
      "                      mala  hmc_vanilla  taylor_nograd  lanczos_nograd\n",
      "ess_mean         0.016144     0.154834       0.113226        0.238396\n",
      "ess_conf_sigma   0.001521     0.016950       0.016696        0.024898\n",
      "tv_mean          0.144417     0.074305       0.067218        0.071483\n",
      "tv_conf_sigma    0.007797     0.003992       0.003533        0.003997\n",
      "runtime          6.473643   135.924146     217.585270      237.563017\n",
      "chains_kept     30.000000    30.000000      30.000000       30.000000\n",
      "\n",
      "dim=16, dist=funnel\n",
      "                      mala  hmc_vanilla  taylor_nograd  lanczos_nograd\n",
      "ess_mean         0.017653     0.176690       0.137098        0.304266\n",
      "ess_conf_sigma   0.002109     0.017700       0.017542        0.030621\n",
      "tv_mean          0.185082     0.061486       0.052387        0.063650\n",
      "tv_conf_sigma    0.019843     0.003836       0.003650        0.003514\n",
      "runtime          6.235474   137.630720     228.272370      250.552103\n",
      "chains_kept     30.000000    30.000000      30.000000       30.000000\n",
      "\n",
      "dim=32, dist=funnel\n",
      "                      mala  hmc_vanilla  taylor_nograd  lanczos_nograd\n",
      "ess_mean         0.013254     0.174677       0.234542        0.360054\n",
      "ess_conf_sigma   0.001619     0.023238       0.028278        0.036119\n",
      "tv_mean          0.194734     0.072849       0.070465        0.081359\n",
      "tv_conf_sigma    0.017367     0.005263       0.004090        0.005505\n",
      "runtime          6.113301   140.837578     228.929905      248.491642\n",
      "chains_kept     30.000000    30.000000      30.000000       30.000000\n",
      "\n",
      "dim=64, dist=funnel\n",
      "                      mala  hmc_vanilla  taylor_nograd  lanczos_nograd\n",
      "ess_mean         0.017124     0.219315       0.307959        0.330154\n",
      "ess_conf_sigma   0.002687     0.032962       0.028904        0.028279\n",
      "tv_mean          0.211038     0.084329       0.099365        0.091437\n",
      "tv_conf_sigma    0.014064     0.006213       0.009884        0.009770\n",
      "runtime          6.707348   150.601618     244.904181      282.878586\n",
      "chains_kept     30.000000    30.000000      30.000000       30.000000\n",
      "\n",
      "dim=128, dist=funnel\n",
      "                      mala  hmc_vanilla  taylor_nograd  lanczos_nograd\n",
      "ess_mean         0.020852     0.253696       0.269340        0.322494\n",
      "ess_conf_sigma   0.002879     0.032570       0.032129        0.032867\n",
      "tv_mean          0.217517     0.129502       0.143459        0.127441\n",
      "tv_conf_sigma    0.007983     0.010013       0.012075        0.012657\n",
      "runtime          8.574012   164.245358     269.081178      290.884801\n",
      "chains_kept     30.000000    30.000000      30.000000       30.000000\n",
      "\n",
      "dim=256, dist=funnel\n",
      "                      mala  hmc_vanilla  taylor_nograd  lanczos_nograd\n",
      "ess_mean         0.021322     0.255949       0.289637        0.287621\n",
      "ess_conf_sigma   0.002218     0.033917       0.026868        0.032756\n",
      "tv_mean          0.233524     0.143611       0.152254        0.166796\n",
      "tv_conf_sigma    0.005367     0.012048       0.012220        0.022125\n",
      "runtime         12.819117   184.134651     294.704417      346.972637\n",
      "chains_kept     30.000000    30.000000      29.000000       28.000000\n",
      "\n",
      "dim=8, dist=random_gm\n",
      "                      mala  hmc_vanilla  taylor_nograd  lanczos_nograd\n",
      "ess_mean         0.289395     0.203269       0.131912        0.423819\n",
      "ess_conf_sigma   0.001425     0.002167       0.003955        0.007235\n",
      "tv_mean          0.012075     0.009381       0.017267        0.010275\n",
      "tv_conf_sigma    0.001064     0.000831       0.001805        0.000878\n",
      "runtime          8.155313   250.943658     394.403938      426.399585\n",
      "chains_kept     30.000000    30.000000      30.000000       30.000000\n",
      "\n",
      "dim=16, dist=random_gm\n",
      "                      mala  hmc_vanilla  taylor_nograd  lanczos_nograd\n",
      "ess_mean         0.147470     0.374498       0.233581        0.584122\n",
      "ess_conf_sigma   0.000893     0.002065       0.002056        0.004389\n",
      "tv_mean          0.015119     0.008024       0.011830        0.009016\n",
      "tv_conf_sigma    0.001362     0.000606       0.001041        0.000792\n",
      "runtime          8.281229   259.156999     409.772418      447.567715\n",
      "chains_kept     30.000000    30.000000      30.000000       30.000000\n",
      "\n",
      "dim=32, dist=random_gm\n",
      "                      mala  hmc_vanilla  taylor_nograd  lanczos_nograd\n",
      "ess_mean         0.077027     0.550469       0.464474        0.696268\n",
      "ess_conf_sigma   0.000657     0.001167       0.003226        0.001561\n",
      "tv_mean          0.019618     0.007651       0.010008        0.008090\n",
      "tv_conf_sigma    0.001870     0.000578       0.000844        0.000666\n",
      "runtime          9.487749   310.245399     486.353693      531.490949\n",
      "chains_kept     30.000000    30.000000      30.000000       30.000000\n",
      "\n",
      "dim=64, dist=random_gm\n",
      "                      mala  hmc_vanilla  taylor_nograd  lanczos_nograd\n",
      "ess_mean         0.038129     0.203217       0.273613        0.500914\n",
      "ess_conf_sigma   0.000515     0.001646       0.004323        0.002005\n",
      "tv_mean          0.035903     0.012710       0.012079        0.010667\n",
      "tv_conf_sigma    0.004272     0.001123       0.001161        0.000916\n",
      "runtime         12.266178   432.444363     675.943507      737.202659\n",
      "chains_kept     30.000000    30.000000      30.000000       30.000000\n",
      "\n",
      "dim=128, dist=random_gm\n",
      "                      mala  hmc_vanilla  taylor_nograd  lanczos_nograd\n",
      "ess_mean         0.061913     0.045256       0.062395        0.047639\n",
      "ess_conf_sigma   0.001573     0.002285       0.002039        0.001133\n",
      "tv_mean          0.111230     0.062380       0.047361        0.043840\n",
      "tv_conf_sigma    0.014175     0.008131       0.006213        0.005570\n",
      "runtime         18.048669   667.192690    1041.660814     1128.037435\n",
      "chains_kept     30.000000    30.000000      30.000000       30.000000\n",
      "\n",
      "dim=256, dist=random_gm\n",
      "                      mala  hmc_vanilla  taylor_nograd  lanczos_nograd\n",
      "ess_mean         0.049918     0.111698       0.428507        0.261578\n",
      "ess_conf_sigma   0.000265     0.003211       0.007439        0.007232\n",
      "tv_mean          0.118087     0.109392       0.117617        0.117264\n",
      "tv_conf_sigma    0.013907     0.012318       0.014548        0.014995\n",
      "runtime         39.972971  1491.866759    2278.192367     2411.015824\n",
      "chains_kept     30.000000    30.000000      30.000000       30.000000\n"
     ]
    }
   ],
   "source": [
    "print_log(log)"
   ]
  },
  {
   "cell_type": "code",
   "execution_count": null,
   "id": "d8ce4dd2-da65-4a66-ae2d-c8487fe9f3d3",
   "metadata": {},
   "outputs": [],
   "source": [
    "print_log(log)"
   ]
  },
  {
   "cell_type": "code",
   "execution_count": null,
   "id": "6db9dc51-e60c-4d3d-a0b6-7d9d680acd59",
   "metadata": {},
   "outputs": [],
   "source": [
    "print_log(log)"
   ]
  },
  {
   "cell_type": "code",
   "execution_count": null,
   "id": "fd0840e1-3e3b-4409-861a-82ac043d7ced",
   "metadata": {},
   "outputs": [],
   "source": [
    "plt.plot(log[0][\"hist_data\"][dimension][alg][\"cache\"].grad_norm)"
   ]
  },
  {
   "cell_type": "code",
   "execution_count": null,
   "id": "08799256-dbc2-42d2-8d94-01366c95c152",
   "metadata": {},
   "outputs": [],
   "source": [
    "\n",
    "plt.figure(figsize=(10, 6))\n",
    "window = 100  # adjust as needed\n",
    "\n",
    "for dimension in dimensions:\n",
    "    for alg in algs:\n",
    "        raw = log[0][\"hist_data\"][dimension][alg][\"cache\"].accept_prob_hist\n",
    "        smoothed = moving_average(np.array(raw), window_size=window)\n",
    "        label = f\"{alg} (dim={dimension})\"\n",
    "        plt.plot(smoothed, label=label, alpha=0.8)\n",
    "\n",
    "plt.xlabel(\"Iteration\")\n",
    "plt.ylabel(\"Smoothed Acceptance Probability\")\n",
    "plt.title(f\"Moving Average (window={window}) of Acceptance Probabilities\")\n",
    "plt.ylim(0, 1)\n",
    "plt.grid(True)\n",
    "plt.legend()\n",
    "plt.tight_layout()\n",
    "plt.show()\n"
   ]
  },
  {
   "cell_type": "code",
   "execution_count": null,
   "id": "b379a960-e1de-453b-b9a1-ab67873e6a94",
   "metadata": {},
   "outputs": [],
   "source": [
    "def moving_average(x, window_size=10):\n",
    "    return np.convolve(x, np.ones(window_size)/window_size, mode='valid')\n",
    "\n",
    "plt.figure(figsize=(10, 6))\n",
    "window = 100  # adjust as needed\n",
    "\n",
    "for dimension in dimensions:\n",
    "    for alg in algs:\n",
    "        raw = log[0][\"hist_data\"][dimension][alg][\"cache\"].accept_prob_hist\n",
    "        smoothed = moving_average(np.array(raw), window_size=window)\n",
    "        label = f\"{alg} (dim={dimension})\"\n",
    "        plt.plot(smoothed, label=label, alpha=0.8)\n",
    "\n",
    "plt.xlabel(\"Iteration\")\n",
    "plt.ylabel(\"Smoothed Acceptance Probability\")\n",
    "plt.title(f\"Moving Average (window={window}) of Acceptance Probabilities\")\n",
    "plt.ylim(0, 1)\n",
    "plt.grid(True)\n",
    "plt.legend()\n",
    "plt.tight_layout()\n",
    "plt.show()\n"
   ]
  },
  {
   "cell_type": "code",
   "execution_count": null,
   "id": "dc2fbb9f-32be-419f-93b0-12e01936661e",
   "metadata": {},
   "outputs": [],
   "source": [
    "dim_stat = {}\n",
    "for dimension in tqdm.notebook.tqdm(dimensions):\n",
    "    df = []\n",
    "    for alg in tqdm.notebook.tqdm(algs):\n",
    "        df.append(\n",
    "            BenchmarkUtils.compute_metrics(\n",
    "                hist_data[dimension][alg][0].samples,\n",
    "                hist_data[dimension][alg][0].true_samples,\n",
    "            )\n",
    "        )\n",
    "        df[-1][\"runtime\"] = pure_runtime[dimension][alg]\n",
    "    df = pd.DataFrame(df)\n",
    "    df = df.T\n",
    "    df.columns = list(algs.keys())\n",
    "\n",
    "    dim_stat[dimension] = df\n",
    "    print(f\"dim={dimension}\", df)"
   ]
  },
  {
   "cell_type": "code",
   "execution_count": null,
   "id": "70c8c259-5acd-4800-a9c3-ddaca105a190",
   "metadata": {},
   "outputs": [],
   "source": [
    "algs[\"hmc_vanilla\"].pipeline.sample_blocks[-1].iteration.params.lf_step_size"
   ]
  },
  {
   "cell_type": "code",
   "execution_count": null,
   "id": "be119006-2a1b-4333-b4fa-cdf43b4fb1cd",
   "metadata": {},
   "outputs": [],
   "source": [
    "algs[\"hmc_vanilla\"].pipeline.sample_blocks[-1]"
   ]
  },
  {
   "cell_type": "code",
   "execution_count": null,
   "id": "b1d2a2b3-392b-4160-9ce1-f4e19f08fbd5",
   "metadata": {},
   "outputs": [],
   "source": [
    "BenchmarkUtils.create_plot(\n",
    "    algs[\"mala\"].pipeline.sample_blocks[-1].iteration.cache.samples[:, [0], :],\n",
    "    algs[\"mala\"].pipeline.sample_blocks[-1].iteration.cache.true_samples\n",
    ")"
   ]
  },
  {
   "cell_type": "code",
   "execution_count": null,
   "id": "23f62dbf-ad9b-453a-bef7-b1681eb00ca3",
   "metadata": {},
   "outputs": [],
   "source": [
    "BenchmarkUtils.create_plot(\n",
    "    algs[\"fisher_mala\"].pipeline.sample_blocks[-1].iteration.cache.samples[:, [0], :],\n",
    "    algs[\"fisher_mala\"].pipeline.sample_blocks[-1].iteration.cache.true_samples\n",
    ")"
   ]
  },
  {
   "cell_type": "code",
   "execution_count": null,
   "id": "c8651ec8-1a6e-4473-9a22-1ca81eb0bebb",
   "metadata": {},
   "outputs": [],
   "source": [
    "BenchmarkUtils.create_plot(\n",
    "    log[0][\"hist_data\"][4][\"fisher_mala\"][\"cache\"].samples[:, :, :],\n",
    "    log[0][\"hist_data\"][4][\"fisher_mala\"][\"cache\"].true_samples,\n",
    ")"
   ]
  },
  {
   "cell_type": "code",
   "execution_count": null,
   "id": "fca6b74a-b593-4834-a607-f2524453fabc",
   "metadata": {},
   "outputs": [],
   "source": [
    "BenchmarkUtils.create_plot(\n",
    "    log[0][\"hist_data\"][256][\"mala\"][\"cache\"].samples[:, [2], :],\n",
    "    log[0][\"hist_data\"][256][\"mala\"][\"cache\"].true_samples,\n",
    ")"
   ]
  },
  {
   "cell_type": "code",
   "execution_count": null,
   "id": "4610b9ff-031f-460a-bd6f-31a2c3386680",
   "metadata": {},
   "outputs": [],
   "source": [
    "print(f\"{' ' * 30}HMC\")\n",
    "BenchmarkUtils.create_plot(\n",
    "    log[0][\"hist_data\"][256][\"hmc_vanilla\"][\"cache\"].samples[:, [1], :],\n",
    "    log[0][\"hist_data\"][256][\"hmc_vanilla\"][\"cache\"].true_samples,\n",
    ")"
   ]
  },
  {
   "cell_type": "code",
   "execution_count": null,
   "id": "941af931-68e6-4b26-96ef-5b5578e12f43",
   "metadata": {},
   "outputs": [],
   "source": []
  },
  {
   "cell_type": "code",
   "execution_count": null,
   "id": "f2faa5c9-f3e8-4b8c-9996-ee4cc68cf2f8",
   "metadata": {},
   "outputs": [],
   "source": [
    "print(f\"{' ' * 30}HMC Taylor\")\n",
    "BenchmarkUtils.create_plot(\n",
    "    log[0][\"hist_data\"][256][\"taylor_nograd\"][\"cache\"].samples[:, [1], :],\n",
    "    log[0][\"hist_data\"][256][\"taylor_nograd\"][\"cache\"].true_samples,\n",
    ")"
   ]
  },
  {
   "cell_type": "code",
   "execution_count": null,
   "id": "662e601f-32cf-4e93-a221-c2bec0babef9",
   "metadata": {},
   "outputs": [],
   "source": []
  },
  {
   "cell_type": "code",
   "execution_count": null,
   "id": "bbd6a731-27d5-4cff-acab-df9daad8a66a",
   "metadata": {},
   "outputs": [],
   "source": [
    "print(f\"{' ' * 30}HMC Lanczos\")\n",
    "BenchmarkUtils.create_plot(\n",
    "    log[0][\"hist_data\"][256][\"lanczos_nograd\"][\"cache\"].samples[:, [1], :],\n",
    "    log[0][\"hist_data\"][256][\"lanczos_nograd\"][\"cache\"].true_samples,\n",
    ")"
   ]
  },
  {
   "cell_type": "code",
   "execution_count": null,
   "id": "2dc56102-6c10-40a6-be19-5dfa810e9762",
   "metadata": {},
   "outputs": [],
   "source": [
    "BenchmarkUtils.create_plot(\n",
    "    algs[\"hmc_vanilla\"].pipeline.sample_blocks[-1].iteration.cache.samples[:, [2], :],\n",
    "    algs[\"hmc_vanilla\"].pipeline.sample_blocks[-1].iteration.cache.true_samples\n",
    ")"
   ]
  },
  {
   "cell_type": "code",
   "execution_count": null,
   "id": "4f6e6229-2657-4ffa-b15f-c568464f3564",
   "metadata": {},
   "outputs": [],
   "source": []
  },
  {
   "cell_type": "code",
   "execution_count": null,
   "id": "fc3ce7c8-6afb-46d5-99ee-84298bee004c",
   "metadata": {},
   "outputs": [],
   "source": [
    "BenchmarkUtils.create_plot(\n",
    "    algs[\"hmc_vanilla\"].pipeline.sample_blocks[-1].iteration.cache.samples[:, [2], :],\n",
    "    algs[\"hmc_vanilla\"].pipeline.sample_blocks[-1].iteration.cache.true_samples\n",
    ")"
   ]
  },
  {
   "cell_type": "code",
   "execution_count": null,
   "id": "f139b701-ff5a-4d9c-99f2-693514a48d36",
   "metadata": {},
   "outputs": [],
   "source": []
  },
  {
   "cell_type": "code",
   "execution_count": null,
   "id": "492ce214-b3f8-4e01-b757-f220d46bad58",
   "metadata": {},
   "outputs": [],
   "source": []
  },
  {
   "cell_type": "code",
   "execution_count": null,
   "id": "197851c1-ef94-471b-8f88-1dfa5f7aa27e",
   "metadata": {},
   "outputs": [],
   "source": [
    "BenchmarkUtils.create_plot(\n",
    "    algs[\"hmcadaptive_hutch_taylor\"].pipeline.sample_blocks[0].iteration.cache.samples[:, [2], :],\n",
    "    algs[\"hmcadaptive_hutch_taylor\"].pipeline.sample_blocks[-1].iteration.cache.true_samples\n",
    ")"
   ]
  },
  {
   "cell_type": "code",
   "execution_count": null,
   "id": "dd3a08aa-531b-4e92-967d-15941c853823",
   "metadata": {},
   "outputs": [],
   "source": [
    "BenchmarkUtils.create_plot(\n",
    "    algs[\"hmcadaptive_hutch_lanczos\"].pipeline.sample_blocks[-1].iteration.cache.samples[:, [0], :],\n",
    "    algs[\"hmcadaptive_hutch_lanczos\"].pipeline.sample_blocks[-1].iteration.cache.true_samples\n",
    ")"
   ]
  },
  {
   "cell_type": "code",
   "execution_count": null,
   "id": "c41a4f4b-a23c-44f3-a36e-86c9db69379d",
   "metadata": {},
   "outputs": [],
   "source": [
    "BenchmarkUtils.create_plot(\n",
    "    algs[\"hmcadaptive_fullent\"].pipeline.sample_blocks[-1].iteration.cache.samples[:, [1], :],\n",
    "    algs[\"hmcadaptive_fullent\"].pipeline.sample_blocks[-1].iteration.cache.true_samples\n",
    ")"
   ]
  },
  {
   "cell_type": "code",
   "execution_count": null,
   "id": "90e00839-8cf9-4eb4-a3d8-50f483508288",
   "metadata": {},
   "outputs": [],
   "source": []
  },
  {
   "cell_type": "code",
   "execution_count": null,
   "id": "cb166a5b-973b-4681-8a27-a8ab80279ede",
   "metadata": {},
   "outputs": [],
   "source": [
    "tv_threshold = 0.05"
   ]
  },
  {
   "cell_type": "code",
   "execution_count": null,
   "id": "35f27e81-e102-4496-9304-c72eb6dd1613",
   "metadata": {},
   "outputs": [],
   "source": [
    "pure_runtime"
   ]
  },
  {
   "cell_type": "code",
   "execution_count": null,
   "id": "55a62015-e364-4cca-a061-20e569039223",
   "metadata": {},
   "outputs": [],
   "source": [
    "runtime"
   ]
  },
  {
   "cell_type": "code",
   "execution_count": null,
   "id": "10129bb9-fa3b-450b-8a18-120fe2b82ee0",
   "metadata": {},
   "outputs": [],
   "source": [
    "fig, axes = plt.subplots(\n",
    "    nrows=len(dimensions),\n",
    "    ncols=2,\n",
    "    figsize=(13, 4 * len(dimensions),)\n",
    ")\n",
    "fig.suptitle(\n",
    "    f\"at most {tail_count_cap} last samples, burn-in={burn_in_iter_count}, \"\n",
    "    f\"chain_count={chain_count}, \"\n",
    "    f\"TV threshold={tv_threshold}\\n\" +\n",
    "    f\"mixture of {gaussian_count} gaussians with \"\n",
    "    \"random means and covariance matrices\"\n",
    ")\n",
    "\n",
    "for dim_ind in range(len(dimensions)):\n",
    "    for alg_ind, alg in enumerate(algs.keys()):\n",
    "\n",
    "        ticks_count = len(hist_data[dimensions[dim_ind]][alg][1])\n",
    "        xticks = probe_period * jnp.arange(1, ticks_count + 1)\n",
    "\n",
    "        axes[dim_ind, alg_ind].plot(\n",
    "            xticks,\n",
    "            [\n",
    "                entry[\"tv_mean\"]\n",
    "                for entry in hist_data[dimensions[dim_ind]][alg][1]\n",
    "            ],\n",
    "            label=\"TV mean\"\n",
    "        )\n",
    "        axes[dim_ind, alg_ind].fill_between(\n",
    "            xticks,\n",
    "            [\n",
    "                entry[\"tv_mean\"] - 2 * entry[\"tv_std\"]\n",
    "                for entry in hist_data[dimensions[dim_ind]][alg][1]\n",
    "            ],\n",
    "            [\n",
    "                entry[\"tv_mean\"] + 2 * entry[\"tv_std\"]\n",
    "                for entry in hist_data[dimensions[dim_ind]][alg][1]\n",
    "            ],\n",
    "            alpha=0.1,\n",
    "            label=\"95% CI\"\n",
    "        )\n",
    "        axes[dim_ind, alg_ind].axhline(tv_threshold, color=\"r\", linestyle=\"dashed\")\n",
    "        axes[dim_ind, alg_ind].set_title(f\"{alg}, dim={dimensions[dim_ind]}\")\n",
    "        if dim_ind + 1 == len(dimensions):\n",
    "            axes[dim_ind, alg_ind].set_xlabel(\"iteration\")\n",
    "        axes[dim_ind, alg_ind].set_ylabel(\"TV\")\n",
    "        axes[dim_ind, alg_ind].legend()"
   ]
  },
  {
   "cell_type": "code",
   "execution_count": null,
   "id": "8a6ff13a-0a74-4f14-b417-c53ca628ea95",
   "metadata": {},
   "outputs": [],
   "source": [
    "BenchmarkUtils.compute_metrics(\n",
    "    algs[\"mala\"].pipeline.sample_blocks[-1].iteration.cache.samples,\n",
    "    algs[\"mala\"].pipeline.sample_blocks[-1].iteration.cache.true_samples\n",
    ")"
   ]
  },
  {
   "cell_type": "code",
   "execution_count": null,
   "id": "f6cdc433-bb7d-458f-af21-1b3fef3cad21",
   "metadata": {},
   "outputs": [],
   "source": [
    "BenchmarkUtils.compute_metrics(\n",
    "    algs[\"fisher_mala\"].pipeline.sample_blocks[-1].iteration.cache.samples,\n",
    "    algs[\"fisher_mala\"].pipeline.sample_blocks[-1].iteration.cache.true_samples\n",
    ")"
   ]
  },
  {
   "cell_type": "code",
   "execution_count": null,
   "id": "67144eea-084e-426d-8bf5-c690cc8bf1a5",
   "metadata": {},
   "outputs": [],
   "source": [
    "BenchmarkUtils.compute_metrics(\n",
    "    algs[\"hmc_vanilla\"].pipeline.sample_blocks[-1].iteration.cache.samples,\n",
    "    algs[\"hmc_vanilla\"].pipeline.sample_blocks[-1].iteration.cache.true_samples\n",
    ")"
   ]
  },
  {
   "cell_type": "code",
   "execution_count": null,
   "id": "cb6b7cba-6c88-4f16-afcc-417223994b22",
   "metadata": {},
   "outputs": [],
   "source": [
    "BenchmarkUtils.compute_metrics(\n",
    "    algs[\"hmcadaptive_hutch\"].pipeline.sample_blocks[-1].iteration.cache.samples,\n",
    "    algs[\"hmcadaptive_hutch\"].pipeline.sample_blocks[-1].iteration.cache.true_samples\n",
    ")"
   ]
  },
  {
   "cell_type": "code",
   "execution_count": null,
   "id": "54d63ebd-e4e6-4c18-8485-1d0de06ce627",
   "metadata": {},
   "outputs": [],
   "source": [
    "algs[\"fisher_mala\"].pipeline.sample_blocks[-1].iteration.params.sigma_prec"
   ]
  },
  {
   "cell_type": "code",
   "execution_count": null,
   "id": "5a07a753-7276-41fe-bf1f-0dab34742f2b",
   "metadata": {},
   "outputs": [],
   "source": [
    "algs[\"lanczos_nograd\"].pipeline.sample_blocks[-1].iteration.common_params.entropy_weight.squeeze()"
   ]
  },
  {
   "cell_type": "code",
   "execution_count": null,
   "id": "979fb9fc-1b64-4f08-a550-a8eff9105245",
   "metadata": {},
   "outputs": [],
   "source": [
    "algs[\"hmcadaptive_hutch_taylor\"].pipeline.sample_blocks[-1].iteration.common_params.entropy_weight.squeeze()"
   ]
  },
  {
   "cell_type": "code",
   "execution_count": null,
   "id": "20d3fa6c-fcd9-4b93-a88e-467d4c0ebffe",
   "metadata": {},
   "outputs": [],
   "source": [
    "algs[\"taylor_nograd\"].pipeline.sample_blocks[-1].iteration.common_params.entropy_weight.squeeze()"
   ]
  },
  {
   "cell_type": "code",
   "execution_count": null,
   "id": "f5e4c85b-a287-4021-afc8-a13de41195bc",
   "metadata": {},
   "outputs": [],
   "source": [
    "algs[\"hmcadaptive_fullent\"].pipeline.sample_blocks[-1].iteration.params.entropy_weight.squeeze()"
   ]
  },
  {
   "cell_type": "code",
   "execution_count": null,
   "id": "78e93069-acf2-4466-a81a-c2eba9953ac7",
   "metadata": {},
   "outputs": [],
   "source": [
    "algs[\"hmcadaptive_hutch_taylor\"].pipeline.sample_blocks[-1].iteration.params.penalty_weight.squeeze()"
   ]
  },
  {
   "cell_type": "code",
   "execution_count": null,
   "id": "d15d77d0-799d-483c-99fb-71c92c349548",
   "metadata": {},
   "outputs": [],
   "source": [
    "prec = algs[\"fisher_mala\"].pipeline.sample_blocks[-1].iteration.params.prec[1].detach().numpy()\n",
    "minv = prec @ prec.T"
   ]
  },
  {
   "cell_type": "code",
   "execution_count": null,
   "id": "04277212-a134-44a0-8ae3-584376bcc2bd",
   "metadata": {},
   "outputs": [],
   "source": [
    "prec = algs[\"hmcadaptive_hutch_taylor\"].pipeline.sample_blocks[-1].iteration.cache.prec_params.make_prec()[1].detach().numpy()\n",
    "minv = prec @ prec.T"
   ]
  },
  {
   "cell_type": "code",
   "execution_count": null,
   "id": "ab3b0136-de75-44ff-90e1-b09b073f0063",
   "metadata": {},
   "outputs": [],
   "source": [
    "algs[\"hmcadaptive_hutch_lanczos\"].pipeline.sample_blocks[1].iteration.params.lf_step_size"
   ]
  },
  {
   "cell_type": "code",
   "execution_count": null,
   "id": "6406bbfe-722f-4ba2-9d71-e39a40138cb0",
   "metadata": {},
   "outputs": [],
   "source": [
    "algs[\"hmcadaptive_hutch_taylor\"].pipeline.sample_blocks[0].iteration.params.lf_step_size"
   ]
  },
  {
   "cell_type": "code",
   "execution_count": null,
   "id": "ee884514-7a7b-44bc-87b5-aec3ba5a6a59",
   "metadata": {},
   "outputs": [],
   "source": [
    "minv"
   ]
  },
  {
   "cell_type": "code",
   "execution_count": null,
   "id": "08631321-e51b-4fc5-b43d-15359b0bbd71",
   "metadata": {},
   "outputs": [],
   "source": [
    "prec = algs[\"taylor_nograd\"].pipeline.sample_blocks[-1].iteration.cache.prec_params.make_prec()[1].detach().numpy()\n",
    "minv = prec @ prec.T\n",
    "plt.imshow(minv)"
   ]
  },
  {
   "cell_type": "code",
   "execution_count": null,
   "id": "c284bea5-92fe-4d6a-8422-775428e9c499",
   "metadata": {},
   "outputs": [],
   "source": [
    "diff = minv - minv_l"
   ]
  },
  {
   "cell_type": "code",
   "execution_count": null,
   "id": "5bbb054f-ffc7-4d1e-b779-e020f55f31c2",
   "metadata": {},
   "outputs": [],
   "source": [
    "plt.hist(diff[range(len(diff)), range(len(diff))])"
   ]
  },
  {
   "cell_type": "code",
   "execution_count": null,
   "id": "82e60aaf-b26a-405f-8033-1cc4ab54f6f0",
   "metadata": {},
   "outputs": [],
   "source": [
    "prec = algs[\"hmcadaptive_hutch_taylor\"].pipeline.sample_blocks[-1].iteration.cache.prec_params.make_prec()[1].detach().numpy()\n",
    "minv = prec @ prec.T\n",
    "plt.imshow(minv)"
   ]
  },
  {
   "cell_type": "code",
   "execution_count": null,
   "id": "0a38cc5a-f94b-47bd-bf41-0410825617d3",
   "metadata": {},
   "outputs": [],
   "source": [
    "prec = algs[\"fisher_mala\"].pipeline.sample_blocks[-1].iteration.cache.prec[1].detach().numpy()\n",
    "minv_l = prec @ prec.T\n",
    "plt.imshow(minv_l)"
   ]
  },
  {
   "cell_type": "code",
   "execution_count": null,
   "id": "992cab78-60ec-4383-b78e-f0cd633958ab",
   "metadata": {},
   "outputs": [],
   "source": [
    "minv_l"
   ]
  },
  {
   "cell_type": "code",
   "execution_count": null,
   "id": "2ab51f09-9d9b-4ada-8560-3ab223d7d10b",
   "metadata": {},
   "outputs": [],
   "source": [
    "prec = algs[\"lanczos_nograd\"].pipeline.sample_blocks[-1].iteration.cache.prec_params.make_prec()[1].detach().numpy()\n",
    "minv_l = prec @ prec.T\n",
    "plt.imshow(minv_l)"
   ]
  },
  {
   "cell_type": "code",
   "execution_count": null,
   "id": "e5568224-c767-420e-8add-c733fd8d8fd8",
   "metadata": {},
   "outputs": [],
   "source": [
    "minv_l"
   ]
  },
  {
   "cell_type": "code",
   "execution_count": null,
   "id": "985b80a9-5232-4eed-a8c2-07218f2421c0",
   "metadata": {},
   "outputs": [],
   "source": [
    "prec = algs[\"hmcadaptive_fullent\"].pipeline.sample_blocks[-1].iteration.cache.prec[19].detach().numpy()\n",
    "minv = prec @ prec.T\n",
    "plt.imshow(minv)"
   ]
  },
  {
   "cell_type": "code",
   "execution_count": null,
   "id": "667ec0f3-d584-4f96-a6b0-30f5aadd815d",
   "metadata": {},
   "outputs": [],
   "source": [
    "minv"
   ]
  },
  {
   "cell_type": "code",
   "execution_count": null,
   "id": "8523c44e-17ac-47ad-aea1-105e2c258c95",
   "metadata": {},
   "outputs": [],
   "source": [
    "prec = algs[\"hmcadaptive_noent\"].pipeline.sample_blocks[-1].iteration.cache.prec[1].detach().numpy()\n",
    "minv = prec @ prec.T\n",
    "plt.imshow(minv)"
   ]
  },
  {
   "cell_type": "code",
   "execution_count": null,
   "id": "7587af9e-dda7-4cb9-a9fb-270ffadf3b3d",
   "metadata": {},
   "outputs": [],
   "source": [
    "BenchmarkUtils.compute_metrics(\n",
    "    algs[\"hmcadaptive_hutch\"].pipeline.sample_blocks[-1].iteration.cache.samples,\n",
    "    algs[\"hmcadaptive_hutch\"].pipeline.sample_blocks[-1].iteration.cache.true_samples,\n",
    ")"
   ]
  },
  {
   "cell_type": "code",
   "execution_count": null,
   "id": "05d39474-2286-4277-bdb0-7b0ec14b4e4f",
   "metadata": {},
   "outputs": [],
   "source": [
    "BenchmarkUtils.compute_metrics(\n",
    "    algs[\"hmcadaptive_hutch\"].pipeline.sample_blocks[-1].iteration.cache.samples,\n",
    "    algs[\"hmcadaptive_hutch\"].pipeline.sample_blocks[-1].iteration.cache.true_samples,\n",
    ")"
   ]
  },
  {
   "cell_type": "markdown",
   "id": "567fa5c1-48cc-4472-bde8-0538aae1cc17",
   "metadata": {},
   "source": [
    "### Reference"
   ]
  },
  {
   "cell_type": "code",
   "execution_count": null,
   "id": "f414f8fd-3fe3-4eef-aa49-4dfd95883327",
   "metadata": {},
   "outputs": [],
   "source": [
    "BenchmarkUtils.compute_metrics(\n",
    "    algs[\"fisher_mala\"].pipeline.sample_blocks[-1].iteration.cache.samples,\n",
    "    algs[\"fisher_mala\"].pipeline.sample_blocks[-1].iteration.cache.true_samples\n",
    ")"
   ]
  },
  {
   "cell_type": "code",
   "execution_count": null,
   "id": "44757f5e-3a5f-4c3f-b7b6-36c68f06dd9d",
   "metadata": {},
   "outputs": [],
   "source": [
    "BenchmarkUtils.compute_metrics(\n",
    "    algs[\"mala\"].pipeline.sample_blocks[-1].iteration.cache.samples,\n",
    "    algs[\"mala\"].pipeline.sample_blocks[-1].iteration.cache.true_samples\n",
    ")"
   ]
  },
  {
   "cell_type": "code",
   "execution_count": null,
   "id": "ea243954-183b-48d6-ac64-5d98320a1919",
   "metadata": {},
   "outputs": [],
   "source": []
  }
 ],
 "metadata": {
  "kernelspec": {
   "display_name": "Python 3 (ipykernel)",
   "language": "python",
   "name": "python3"
  },
  "language_info": {
   "codemirror_mode": {
    "name": "ipython",
    "version": 3
   },
   "file_extension": ".py",
   "mimetype": "text/x-python",
   "name": "python",
   "nbconvert_exporter": "python",
   "pygments_lexer": "ipython3",
   "version": "3.12.0"
  }
 },
 "nbformat": 4,
 "nbformat_minor": 5
}
