{
 "cells": [
  {
   "cell_type": "code",
   "execution_count": 1,
   "id": "ca26255f-94fa-4cca-aafa-7244110bb174",
   "metadata": {},
   "outputs": [
    {
     "name": "stderr",
     "output_type": "stream",
     "text": [
      "2025-05-25 13:35:21.442328: E external/local_xla/xla/stream_executor/cuda/cuda_fft.cc:477] Unable to register cuFFT factory: Attempting to register factory for plugin cuFFT when one has already been registered\n",
      "WARNING: All log messages before absl::InitializeLog() is called are written to STDERR\n",
      "E0000 00:00:1748169321.452988   28770 cuda_dnn.cc:8310] Unable to register cuDNN factory: Attempting to register factory for plugin cuDNN when one has already been registered\n",
      "E0000 00:00:1748169321.456037   28770 cuda_blas.cc:1418] Unable to register cuBLAS factory: Attempting to register factory for plugin cuBLAS when one has already been registered\n"
     ]
    }
   ],
   "source": [
    "from copy import deepcopy\n",
    "import tqdm.notebook\n",
    "\n",
    "import jax.numpy as jnp\n",
    "import matplotlib.pyplot as plt\n",
    "\n",
    "import numpy as np\n",
    "import pandas as pd\n",
    "import torch\n",
    "\n",
    "from adaptive_mcmc.distributions.distribution import (\n",
    "    GaussianMixture,\n",
    "    FunnelDistribution,\n",
    "    Gaussian,\n",
    "    BananaDistribution,\n",
    ")\n",
    "from adaptive_mcmc.samplers import (\n",
    "    base_sampler,\n",
    "    mala,\n",
    "    fishermala,\n",
    "    hmc,\n",
    "    hmcadaptive,\n",
    ")\n",
    "from adaptive_mcmc.samplers.stopping_rule import NoStop\n",
    "from adaptive_mcmc.tools.benchmark import BenchmarkUtils\n",
    "from adaptive_mcmc.tools.metrics import compute_ess, compute_emd\n",
    "\n",
    "from typing import Tuple, Optional"
   ]
  },
  {
   "cell_type": "code",
   "execution_count": 13,
   "id": "1f316835-2bc2-4e0c-97fd-5143e78232e2",
   "metadata": {},
   "outputs": [],
   "source": [
    "seed = 123\n",
    "torch.manual_seed(seed)\n",
    "\n",
    "device = \"cpu\"\n",
    "\n",
    "hparams = {\n",
    "    \"mala\": {\n",
    "        \"common\": mala.MALACommonParams(\n",
    "            sigma=1e0,\n",
    "            sigma_lr=1e-2,    \n",
    "        ),\n",
    "    },\n",
    "    # \"fisher_mala\": {\n",
    "    #     \"common\": fishermala.FisherMALACommonParams(\n",
    "    #         dampening=100,\n",
    "    #         sigma=1e0,\n",
    "    #         sigma_lr=1e-2,\n",
    "    #     ),\n",
    "    # },\n",
    "    \"hmc_vanilla\": {\n",
    "        \"common\": hmc.HMCCommonParams(\n",
    "            lf_step_count=50,\n",
    "            lf_step_size=5e-2,\n",
    "            lf_step_size_max=5e-1,\n",
    "            #lf_step_size_adaptive_bad_traj_period=7,\n",
    "        ),\n",
    "        \"fixed\": hmc.HMCFixedParams(no_grad=True, stop_grad=False),\n",
    "    },\n",
    "    \"taylor_nograd\": {\n",
    "        \"common\": hmcadaptive.HMCAdaptiveCommonParams(\n",
    "            lf_step_count=50,\n",
    "            lf_step_size=5e-2,\n",
    "            lf_step_size_max=5e-1,\n",
    "            #lf_step_size_adaptive_bad_traj_period=7,\n",
    "            learning_rate=3e-4,\n",
    "            truncation_level_prob=0.5,\n",
    "            min_truncation_level=2,\n",
    "            entropy_weight=1e-1,\n",
    "            entropy_weight_min=1e-3,\n",
    "            entropy_weight_max=1e2,\n",
    "            penalty_weight_max=1e1,\n",
    "            penalty_weight=1e-3,\n",
    "            penalty_weight_adaptive_rate=1e-3,\n",
    "            clip_grad_value=1e1,\n",
    "        ),\n",
    "        \"fixed\": hmcadaptive.HMCAdaptiveFixedParams(\n",
    "            prec_init_scale=1e-9,\n",
    "            no_grad=True,\n",
    "            stop_grad=False,\n",
    "            backprop_method=\"approx\",\n",
    "            prec_type=\"tridiag\",\n",
    "            # iter_count=10000,\n",
    "            # scheduler_cls=hmcadaptive.WarmupCosineAnnealingScheduler\n",
    "        ),\n",
    "    },\n",
    "    \"lanczos_nograd\": {\n",
    "        \"common\": hmcadaptive.HMCAdaptiveCommonParams(\n",
    "            lf_step_count=50,\n",
    "            lf_step_size=5e-2,\n",
    "            lf_step_size_max=5e-1,\n",
    "            #lf_step_size_adaptive_bad_traj_period=7,\n",
    "            learning_rate=3e-4,\n",
    "            entropy_weight=1e-1,\n",
    "            entropy_weight_min=1e-3,\n",
    "            entropy_weight_max=1e2,\n",
    "            clip_grad_value=1e1,\n",
    "            lanczos_steps=8,\n",
    "            krylov_probe_vectors=1,\n",
    "            # iter_count=10000,\n",
    "            # scheduler_cls=hmcadaptive.WarmupCosineAnnealingScheduler\n",
    "        ),\n",
    "        \"fixed\": hmcadaptive.HMCAdaptiveFixedParams(\n",
    "            prec_init_scale=1e-9,\n",
    "            no_grad=True,\n",
    "            stop_grad=False,\n",
    "            backprop_method=\"approx\",\n",
    "            prec_type=\"tridiag\",\n",
    "            trace_method=hmcadaptive.TraceMethod.HUTCH_LANCZOS,\n",
    "            # iter_count=10000,\n",
    "            # scheduler_cls=hmcadaptive.WarmupCosineAnnealingScheduler\n",
    "        ),\n",
    "    },\n",
    "    # \"hmcadaptive_hutch_taylor\": {\n",
    "    #     \"common\": hmcadaptive.HMCAdaptiveCommonParams(\n",
    "    #         lf_step_count=25,\n",
    "    #         lf_step_size=0.1,\n",
    "    #         learning_rate=1e-3,\n",
    "    #         truncation_level_prob=0.5,\n",
    "    #         min_truncation_level=2,\n",
    "    #         entropy_weight=1e-1,\n",
    "    #         entropy_weight_min=1e-3,\n",
    "    #         entropy_weight_max=1e2,\n",
    "    #         penalty_weight_max=1e1,\n",
    "    #         penalty_weight=1e-3,\n",
    "    #         penalty_weight_adaptive_rate=1e-3,\n",
    "    #         clip_grad_value=1e1,\n",
    "    #     ),\n",
    "    #     \"fixed\": hmcadaptive.HMCAdaptiveFixedParams(\n",
    "    #         prec_init_scale=1e-1,\n",
    "    #         no_grad=False,\n",
    "    #         stop_grad=False,\n",
    "    #         prec_type=\"tridiag\",\n",
    "    #         # iter_count=10000,\n",
    "    #         # scheduler_cls=hmcadaptive.WarmupCosineAnnealingScheduler\n",
    "    #     ),\n",
    "    # },\n",
    "    # \"hmcadaptive_hutch_lanczos\": hmcadaptive.HMCAdaptiveParams(\n",
    "    #     lf_step_count=5,\n",
    "    #     lf_step_size=0.1,\n",
    "    #     learning_rate=1e-2,\n",
    "    #     entropy_weight=1e-1,\n",
    "    #     entropy_weight_min=1e-3,\n",
    "    #     entropy_weight_max=1e2,\n",
    "    #     clip_grad_value=1e6,\n",
    "    #     prec_init_scale=1e0,\n",
    "    #     trace_method=hmcadaptive.TraceMethod.HUTCH_LANCZOS,\n",
    "    #     lanczos_steps=4,\n",
    "    #     krylov_probe_vectors=1,\n",
    "    #     # iter_count=10000,\n",
    "    #     # scheduler_cls=hmcadaptive.WarmupCosineAnnealingScheduler\n",
    "    # ),\n",
    "    # \"hmcadaptive_noent\": hmcadaptive.HMCAdaptiveParams(\n",
    "    #     lf_step_count=5,\n",
    "    #     lf_step_size=0.1,\n",
    "    #     learning_rate=1e-4,\n",
    "    #     clip_grad_value=1e6,\n",
    "    #     prec_init_scale=1e0,\n",
    "    #     entropy_method=\"none\",\n",
    "    #     # iter_count=10000,\n",
    "    #     # scheduler_cls=hmcadaptive.WarmupCosineAnnealingScheduler\n",
    "    # ),\n",
    "    # \"hmcadaptive_fullent\": hmcadaptive.HMCAdaptiveParams(\n",
    "    #     lf_step_count=5,\n",
    "    #     lf_step_size=0.1,\n",
    "    #     learning_rate=1e-2,\n",
    "    #     entropy_weight=1e-1,\n",
    "    #     entropy_weight_min=1e-3,\n",
    "    #     entropy_weight_max=1e2,\n",
    "    #     clip_grad_value=1e6,\n",
    "    #     prec_init_scale=1e0,\n",
    "    #     trace_method=hmcadaptive.TraceMethod.HUTCH_LANCZOS,\n",
    "    #     lanczos_steps=4,\n",
    "    #     krylov_probe_vectors=1,\n",
    "    #     entropy_method=\"full\",\n",
    "    #     # iter_count=10000,\n",
    "    #     # scheduler_cls=hmcadaptive.WarmupCosineAnnealingScheduler\n",
    "    # ),\n",
    "}"
   ]
  },
  {
   "cell_type": "code",
   "execution_count": 14,
   "id": "283bd108-9f67-4c89-abe8-bcd94b294b49",
   "metadata": {},
   "outputs": [],
   "source": [
    "def get_random_GM(\n",
    "    gaussian_count: int,\n",
    "    dimension: int,\n",
    "    cube: float,\n",
    "    eps: float=5e-1,\n",
    "    scale: float=5.,\n",
    "):\n",
    "    true_means = torch.rand((gaussian_count, dimension)) * cube - cube / 2\n",
    "    scales = torch.rand((gaussian_count, dimension)) * scale\n",
    "\n",
    "    while True:\n",
    "        try:\n",
    "            true_covs = torch.rand((gaussian_count, dimension, dimension))\n",
    "            true_covs, _ = torch.linalg.qr(true_covs)\n",
    "        \n",
    "            true_covs = (\n",
    "                true_covs @ torch.diag_embed(scales) @ true_covs.permute(0, 2, 1) \n",
    "                + eps * torch.eye(dimension).unsqueeze(0)\n",
    "            )\n",
    "            \n",
    "            # true_covs = (\n",
    "            #     true_covs @ true_covs.permute(0, 2, 1) +\n",
    "            #     torch.eye(dimension).repeat(gaussian_count, 1, 1)\n",
    "            # )\n",
    "        \n",
    "            gm = GaussianMixture(\n",
    "                true_means,\n",
    "                true_covs,\n",
    "                torch.full((gaussian_count,), 1/gaussian_count, dtype=torch.float64)\n",
    "            )\n",
    "            break\n",
    "        except ValueError:\n",
    "            pass\n",
    "            \n",
    "    return gm, true_means"
   ]
  },
  {
   "cell_type": "code",
   "execution_count": 15,
   "id": "99e91164-74f4-4fee-9f0d-d34ae73e24b1",
   "metadata": {},
   "outputs": [],
   "source": [
    "def get_random_GM(\n",
    "    gaussian_count: int,\n",
    "    dimension: int,\n",
    "    cube: float,\n",
    "    eps: float = 5e-1,\n",
    "    scale: float = 1.0,\n",
    "    *,\n",
    "    seed: Optional[int] = None,\n",
    "    device: torch.device | str = \"cpu\",\n",
    "    dtype: torch.dtype = torch.float32,\n",
    ") -> Tuple[GaussianMixture, torch.Tensor]:\n",
    "    \"\"\"\n",
    "    Create a reproducible random Gaussian Mixture.\n",
    "\n",
    "    Parameters\n",
    "    ----------\n",
    "    gaussian_count : int      # number of components\n",
    "    dimension      : int      # dimensionality\n",
    "    cube           : float    # component means ∈ (-cube/2, cube/2)\n",
    "    eps            : float    # ε·I added to each covariance\n",
    "    scale          : float    # upper–bound on random eigen-scales\n",
    "    seed           : int|None # RNG seed for reproducibility\n",
    "    device         : str|torch.device\n",
    "    dtype          : torch.dtype\n",
    "\n",
    "    Returns\n",
    "    -------\n",
    "    gm          : GaussianMixture\n",
    "    true_means  : Tensor (gaussian_count, dimension)\n",
    "    \"\"\"\n",
    "    g = torch.Generator(device=device)\n",
    "    if seed is not None:\n",
    "        g.manual_seed(seed)\n",
    "\n",
    "    true_means = (\n",
    "        torch.rand((gaussian_count, dimension), generator=g, device=device, dtype=dtype)\n",
    "        * cube - cube/2\n",
    "    )\n",
    "\n",
    "    scales = torch.rand((gaussian_count, dimension), generator=g, device=device, dtype=dtype) * scale\n",
    "\n",
    "    while True:\n",
    "        try:\n",
    "            # Q = torch.rand((gaussian_count, dimension, dimension), generator=g, device=device, dtype=dtype)\n",
    "            # Q, _ = torch.linalg.qr(Q)\n",
    "            Q_list = []\n",
    "            for _ in range(gaussian_count):\n",
    "                q = torch.randn((dimension, dimension), generator=g, device=device, dtype=dtype)\n",
    "                q, _ = torch.linalg.qr(q)\n",
    "                Q_list.append(q)\n",
    "            \n",
    "            Q = torch.stack(Q_list, dim=0)  # shape: (gaussian_count, dimension, dimension)\n",
    "\n",
    "\n",
    "            true_covs = (\n",
    "                Q @ torch.diag_embed(scales) @ Q.transpose(-1, -2)\n",
    "                + eps * torch.eye(dimension, device=device, dtype=dtype).unsqueeze(0)\n",
    "            )\n",
    "\n",
    "            gm = GaussianMixture(\n",
    "                true_means,\n",
    "                true_covs,\n",
    "                torch.full((gaussian_count,), 1.0 / gaussian_count, device=device, dtype=dtype),\n",
    "            )\n",
    "            break\n",
    "        except ValueError:\n",
    "            continue\n",
    "\n",
    "    return gm, true_means"
   ]
  },
  {
   "cell_type": "code",
   "execution_count": 16,
   "id": "a7c4c7e8-ed6b-4c13-84ac-150fd70e171e",
   "metadata": {},
   "outputs": [],
   "source": [
    "def generate_simplex(d: int) -> torch.Tensor:\n",
    "    I = torch.eye(d)\n",
    "    \n",
    "    ones = torch.ones((d, d)) / (d+1)\n",
    "    v1d = I - ones\n",
    "    vdp1 = -torch.ones((1, d)) / (d+1)\n",
    "    return torch.cat([v1d, vdp1], dim=0)\n",
    "\n",
    "\n",
    "def get_toeplitz_GM(dimension: int, cube: float, rho: float=0.99, sigma: float=1.):\n",
    "    true_means = generate_simplex(dimension) * cube\n",
    "\n",
    "    inds = torch.arange(dimension)\n",
    "    power = torch.abs(inds.unsqueeze(0) - inds.unsqueeze(1))\n",
    "\n",
    "    true_covs = sigma ** 2 * rho ** power\n",
    "    true_covs = true_covs.repeat(dimension + 1, 1, 1)\n",
    "\n",
    "    gm = GaussianMixture(\n",
    "        true_means,\n",
    "        true_covs,\n",
    "        torch.ones(dimension + 1) / (dimension + 1)\n",
    "    )\n",
    "\n",
    "    return gm, true_means\n",
    "\n",
    "\n",
    "def get_toeplitz_gaussian(dimension: int,\n",
    "                          mean: float = None,\n",
    "                          rho: float = 0.99,\n",
    "                          sigma: float = 1.0) -> tuple:\n",
    "    if mean is None:\n",
    "        mean = torch.zeros(dimension)\n",
    "        \n",
    "    inds = torch.arange(dimension)\n",
    "    power = torch.abs(inds.unsqueeze(0) - inds.unsqueeze(1))\n",
    "    cov = (sigma ** 2) * (rho ** power)\n",
    "    \n",
    "    return Gaussian(mean=mean, cov=cov), mean.unsqueeze(0)\n",
    "\n",
    "\n",
    "def get_illcond_gaussian(dimension: int,\n",
    "                         mean: float = None,\n",
    "                         min_v: float = 1e-2,\n",
    "                         max_v: float = 1e2) -> tuple:\n",
    "    if mean is None:\n",
    "        mean = torch.zeros(dimension)\n",
    "    elif isinstance(mean, (float, int)):\n",
    "        mean = torch.full((dimension,), float(mean))\n",
    "    else:\n",
    "        mean = torch.tensor(mean, dtype=torch.float32)\n",
    "\n",
    "    # Create log-spaced eigenvalues (ill-conditioned spectrum)\n",
    "    eigvals = torch.logspace(torch.log10(torch.tensor(min_v)), \n",
    "                             torch.log10(torch.tensor(max_v)), \n",
    "                             steps=dimension)\n",
    "\n",
    "    # Construct diagonal covariance matrix\n",
    "    cov = torch.diag(eigvals)\n",
    "\n",
    "    return Gaussian(mean=mean, cov=cov), mean.unsqueeze(0)\n",
    "    \n",
    "\n",
    "def sample_se_covariance_torch(dimension, scale=4., noise=0.01, seed=None, device='cpu'):\n",
    "    if seed is not None:\n",
    "        torch.manual_seed(seed)\n",
    "\n",
    "    x = torch.linspace(0, scale, dimension)\n",
    "\n",
    "    x1 = x.unsqueeze(1)\n",
    "    x2 = x.unsqueeze(0)\n",
    "    dist_squared = (x1 - x2) ** 2\n",
    "\n",
    "    K = torch.exp(-0.5 * dist_squared / (0.1 * scale**2))\n",
    "\n",
    "    K += noise * torch.eye(dimension, device=device)\n",
    "\n",
    "    return x, K\n",
    "    \n",
    "def get_deterministic_gaussian_se(dimension: int,\n",
    "                                  mean: float = None,) -> tuple:\n",
    "    if mean is None:\n",
    "        mean = torch.zeros(dimension)\n",
    "        \n",
    "    _, cov = sample_se_covariance_torch(dimension)\n",
    "    \n",
    "    return Gaussian(mean=mean, cov=cov), mean.unsqueeze(0)\n",
    "\n",
    "def get_banana(dimension: int, b: float = 2.):\n",
    "    mean = torch.zeros(dimension)\n",
    "    return BananaDistribution(dimension, b), mean.unsqueeze(0)"
   ]
  },
  {
   "cell_type": "code",
   "execution_count": 17,
   "id": "fd8eb98c-ed23-44b4-94ec-147551f14352",
   "metadata": {},
   "outputs": [],
   "source": [
    "# dist = FunnelDistribution(32, scale=3)\n",
    "\n",
    "#dist, _ = get_toeplitz_gaussian(256, rho=0.95)\n",
    "# dist, _ = get_deterministic_gaussian_se(32)\n",
    "#dist, _ = get_illcond_gaussian(128)\n",
    "dist, _ = get_banana(32, b=20.)\n",
    "\n",
    "# dist, _ = get_random_GM(gaussian_count=25, dimension=32, cube=2., scale=2.,)\n",
    "# dist, _ = get_toeplitz_GM(dimension=32, cube=2., rho=0.9)\n",
    "\n",
    "\n",
    "samples = dist.sample(5000).detach().numpy()"
   ]
  },
  {
   "cell_type": "code",
   "execution_count": 18,
   "id": "d8c61397-4824-4940-8e47-a3eb5cb30787",
   "metadata": {
    "scrolled": true
   },
   "outputs": [
    {
     "data": {
      "text/plain": [
       "<matplotlib.collections.PathCollection at 0x7fd2380ab0b0>"
      ]
     },
     "execution_count": 18,
     "metadata": {},
     "output_type": "execute_result"
    },
    {
     "data": {
      "image/png": "[encoded data removed]",
      "text/plain": [
       "<Figure size 640x480 with 1 Axes>"
      ]
     },
     "metadata": {},
     "output_type": "display_data"
    }
   ],
   "source": [
    "plt.scatter(samples[:, 0], samples[:, 1], alpha=0.1)"
   ]
  },
  {
   "cell_type": "code",
   "execution_count": 19,
   "id": "b6be8400-2209-4ad1-b746-5c0d104d0970",
   "metadata": {},
   "outputs": [],
   "source": [
    "def dist_factory(name, dimension, cube=2., scale=2., funnel_scale=3, gaussian_count=25, rho=0.95, sigma=1.,\n",
    "                 min_v=1e-3, max_v=1e3, bending=20.\n",
    "                ):\n",
    "    if name == \"random_gm\":\n",
    "        return get_random_GM(gaussian_count=gaussian_count, dimension=dimension, cube=cube, scale=scale)\n",
    "    elif name == \"toeplitz_gm\":\n",
    "        return get_toeplitz_GM(dimension, cube=cube, rho=rho, sigma=sigma)\n",
    "    elif name == \"toeplitz_gaussian\":\n",
    "        return get_toeplitz_gaussian(dimension, rho=rho, sigma=sigma)\n",
    "    elif name == \"deterministic_gaussian_se\":\n",
    "        return get_deterministic_gaussian_se(dimension)\n",
    "    elif name == \"funnel\":\n",
    "        return FunnelDistribution(dimension, scale=funnel_scale), torch.zeros(1, dimension)\n",
    "    elif name == \"illcond_gaussian\":\n",
    "        return get_illcond_gaussian(dimension, min_v=min_v, max_v=max_v)\n",
    "    elif name == \"banana\":\n",
    "        return get_banana(dimension, b=bending)"
   ]
  },
  {
   "cell_type": "code",
   "execution_count": 20,
   "id": "642b06c2-fb8d-43b6-8d11-391bec35a38e",
   "metadata": {},
   "outputs": [],
   "source": [
    "import pandas as pd\n",
    "from scipy.stats import norm\n",
    "from itertools import combinations\n",
    "\n",
    "\n",
    "def drop_static_chains(samples: torch.Tensor, eps: float = 0.0):\n",
    "    var_per_chain = samples.var(dim=0, unbiased=False)\n",
    "\n",
    "    static = (var_per_chain <= eps).all(dim=-1)\n",
    "    keep_mask = ~static\n",
    "\n",
    "    return samples[:, keep_mask, :], keep_mask.sum().item()\n",
    "\n",
    "\n",
    "def z_test(dim_stat):\n",
    "    all_results = {}\n",
    "    for dim, df in dim_stat.items():\n",
    "        recs = []\n",
    "        algs = df.columns\n",
    "        for A, B in combinations(reversed(algs), 2):\n",
    "    \n",
    "            mA, sA = df.loc['ess_mean', A], df.loc['ess_conf_sigma', A]\n",
    "            mB, sB = df.loc['ess_mean', B], df.loc['ess_conf_sigma', B]\n",
    "            z_ess = (mA - mB) / (sA**2 + sB**2)**0.5\n",
    "            p_ess = norm.sf(z_ess)\n",
    "    \n",
    "            tA, seA = df.loc['tv_mean', A], df.loc['tv_conf_sigma', A]\n",
    "            tB, seB = df.loc['tv_mean', B], df.loc['tv_conf_sigma', B]\n",
    "            z_tv = (tB - tA) / (seA**2 + seB**2)**0.5\n",
    "            p_tv = norm.sf(z_tv)\n",
    "            recs.append({\n",
    "                'alg_A': A, 'alg_B': B,\n",
    "                'z(ESS_A>B)': z_ess, 'p(ESS_A>B)': p_ess,\n",
    "                'z(TV_A<B)': z_tv,  'p(TV_A<B)': p_tv,\n",
    "            })\n",
    "        all_results[dim] = pd.DataFrame.from_records(recs)\n",
    "    return all_results\n",
    "\n",
    "\n",
    "def compute_results(hist_data, algs, dist_name=None):\n",
    "    dim_stat = {}\n",
    "\n",
    "    for dimension in tqdm.notebook.tqdm(dimensions, desc=\"dimension\"):\n",
    "        rows = []\n",
    "        for alg in tqdm.notebook.tqdm(algs, desc=\"alg\", leave=False):\n",
    "            obj = hist_data[dimension][alg]\n",
    "            cache = obj[\"cache\"]\n",
    "            pure_runtime = obj[\"pure_runtime\"]\n",
    "    \n",
    "            clean_samples, n_kept = drop_static_chains(cache.samples)\n",
    "    \n",
    "            metrics = BenchmarkUtils.compute_metrics(clean_samples,\n",
    "                                                     cache.true_samples)\n",
    "            metrics[\"runtime\"]      = pure_runtime\n",
    "            metrics[\"chains_kept\"]  = n_kept\n",
    "            rows.append(metrics)\n",
    "    \n",
    "        df = pd.DataFrame(rows, index=list(algs.keys())).T\n",
    "        dim_stat[dimension] = df\n",
    "        print(f\"\\ndim={dimension}, dist={dist_name}\\n\", df)\n",
    "        print(z_test(dim_stat))\n",
    "    \n",
    "    return dim_stat"
   ]
  },
  {
   "cell_type": "code",
   "execution_count": 21,
   "id": "b8ddf396-4588-424f-8a60-ce9af4ede051",
   "metadata": {
    "scrolled": true
   },
   "outputs": [],
   "source": [
    "def run_experiment(dist_name, log=[]):\n",
    "    hist_data = {}\n",
    "    loge = {\n",
    "        \"hist_data\": hist_data,\n",
    "        \"algs\": algs,\n",
    "        \"dist_name\": dist_name,\n",
    "        \"dim_stat\": None,\n",
    "    }\n",
    "    log.append(loge)\n",
    "    runtime = {\n",
    "        dimension: dict()\n",
    "        for dimension in dimensions\n",
    "    }\n",
    "    pure_runtime = deepcopy(runtime)\n",
    "    distance_to_mass_points = 1.\n",
    "    \n",
    "    for dimension in tqdm.notebook.tqdm(dimensions):\n",
    "        print(\"Processing dimension\", dimension)\n",
    "        hist_data[dimension] = {}\n",
    "        target_dist, true_means = dist_factory(dist_name, dimension)\n",
    "        \n",
    "        # target_dist, true_means = get_random_GM(gaussian_count, dimension, cube)\n",
    "        # gm, true_means = get_deterministic_GM(dimension, cube)\n",
    "        # true_samples = gm.sample(sample_count)\n",
    "    \n",
    "        # target_dist = FunnelDistribution(dimension, scale=scale)\n",
    "        \n",
    "        # target_dist, _ = get_deterministic_gaussian(dimension, rho=0.8)\n",
    "        # target_dist, _ = get_deterministic_gaussian_se(dimension)\n",
    "    \n",
    "        # true_means = torch.zeros(1, dimension)\n",
    "        true_samples = target_dist.sample(sample_count)\n",
    "        \n",
    "        starting_points = BenchmarkUtils.generate_starting_points(\n",
    "            chain_count, dimension,\n",
    "            true_means,\n",
    "            distance_to_mass_points,\n",
    "        )\n",
    "    \n",
    "        common_params = base_sampler.CommonParams(\n",
    "            target_dist=target_dist,\n",
    "            starting_point=starting_points.clone(),\n",
    "            proposal_dist=torch.distributions.MultivariateNormal(\n",
    "                torch.zeros(dimension, device=device),\n",
    "                torch.eye(dimension, device=device),\n",
    "            ),\n",
    "        )\n",
    "    \n",
    "        for alg in algs:\n",
    "            print(\"-\" * 80)\n",
    "            base_meta_adj = hparams[alg][\"common\"].copy_update(common_params)\n",
    "            # if hasattr(base_meta_adj, \"sigma\"):\n",
    "            #     base_meta_adj.sigma /= dimension\n",
    "    \n",
    "            algs[alg].load_params(base_meta_adj)\n",
    "            algs[alg].load_true_samples(true_samples)\n",
    "            algs[alg].run()\n",
    "    \n",
    "            loge[\"hist_data\"][dimension][alg] = {\n",
    "                \"cache\": algs[alg].pipeline.sample_blocks[-1].iteration.cache,\n",
    "                \"stop_data_hist\": algs[alg].pipeline.sample_blocks[-1].stop_data_hist,\n",
    "                \"runtime\": algs[alg].pipeline.runtime,\n",
    "                \"pure_runtime\": algs[alg].pipeline.pure_runtime,\n",
    "            }\n",
    "        print()\n",
    "    \n",
    "    dim_stat = compute_results(hist_data, algs, dist_name)\n",
    "    loge[\"dim_stat\"] = dim_stat"
   ]
  },
  {
   "cell_type": "code",
   "execution_count": 22,
   "id": "215295b0-772c-41f6-bb4d-69929bd09dc0",
   "metadata": {},
   "outputs": [],
   "source": [
    "def moving_average(x, window_size=10):\n",
    "    return np.convolve(x, np.ones(window_size)/window_size, mode='valid')\n",
    "\n",
    "def print_log(log):\n",
    "    for entry in log:\n",
    "        for dimension in dimensions:\n",
    "            print(f\"\\ndim={dimension}, dist={entry['dist_name']}\\n\", entry[\"dim_stat\"][dimension])"
   ]
  },
  {
   "cell_type": "code",
   "execution_count": 23,
   "id": "9dd0f50d-c4f0-4892-b48f-32095811d5a5",
   "metadata": {
    "editable": true,
    "slideshow": {
     "slide_type": ""
    },
    "tags": []
   },
   "outputs": [
    {
     "data": {
      "application/vnd.jupyter.widget-view+json": {
       "model_id": "3d922f2a6d9a47148f8562a8940e9824",
       "version_major": 2,
       "version_minor": 0
      },
      "text/plain": [
       "  0%|          | 0/6 [00:00<?, ?it/s]"
      ]
     },
     "metadata": {},
     "output_type": "display_data"
    },
    {
     "name": "stdout",
     "output_type": "stream",
     "text": [
      "Processing dimension 8\n",
      "--------------------------------------------------------------------------------\n",
      "Running MALA\n",
      "number of blocks: 2\n",
      "processing block: 1\n"
     ]
    },
    {
     "data": {
      "application/vnd.jupyter.widget-view+json": {
       "model_id": "0540ac1f89cd4fa4bf187d6bf173e4f5",
       "version_major": 2,
       "version_minor": 0
      },
      "text/plain": [
       "  0%|          | 0/7500 [00:00<?, ?it/s]"
      ]
     },
     "metadata": {},
     "output_type": "display_data"
    },
    {
     "name": "stdout",
     "output_type": "stream",
     "text": [
      "step_size=0.05808277428150177\n",
      "processing block: 2\n"
     ]
    },
    {
     "data": {
      "application/vnd.jupyter.widget-view+json": {
       "model_id": "a7f5cddceed94fd1b801fa58be2c140c",
       "version_major": 2,
       "version_minor": 0
      },
      "text/plain": [
       "  0%|          | 0/5000 [00:00<?, ?it/s]"
      ]
     },
     "metadata": {},
     "output_type": "display_data"
    },
    {
     "name": "stdout",
     "output_type": "stream",
     "text": [
      "step_size=0.05833544582128525\n",
      "Runtime: 7.08s\n",
      "--------------------------------------------------------------------------------\n",
      "Running HMCVanilla\n",
      "number of blocks: 3\n",
      "processing block: 1\n"
     ]
    },
    {
     "data": {
      "application/vnd.jupyter.widget-view+json": {
       "model_id": "7c600c592cb24ceb8ab4a77dea8c38cc",
       "version_major": 2,
       "version_minor": 0
      },
      "text/plain": [
       "  0%|          | 0/2500 [00:00<?, ?it/s]"
      ]
     },
     "metadata": {},
     "output_type": "display_data"
    },
    {
     "name": "stdout",
     "output_type": "stream",
     "text": [
      "step_size=0.04999999701976776\n",
      "max_step_size=0.5\n",
      "broken_traj=0\n",
      "processing block: 2\n"
     ]
    },
    {
     "data": {
      "application/vnd.jupyter.widget-view+json": {
       "model_id": "74daf732315844f580f7dbc2f888f45c",
       "version_major": 2,
       "version_minor": 0
      },
      "text/plain": [
       "  0%|          | 0/5000 [00:00<?, ?it/s]"
      ]
     },
     "metadata": {},
     "output_type": "display_data"
    },
    {
     "name": "stdout",
     "output_type": "stream",
     "text": [
      "step_size=0.04999999701976776\n",
      "max_step_size=0.5\n",
      "broken_traj=0\n",
      "processing block: 3\n"
     ]
    },
    {
     "data": {
      "application/vnd.jupyter.widget-view+json": {
       "model_id": "b7bc68912ae8493389286a4fd83beb07",
       "version_major": 2,
       "version_minor": 0
      },
      "text/plain": [
       "  0%|          | 0/5000 [00:00<?, ?it/s]"
      ]
     },
     "metadata": {},
     "output_type": "display_data"
    },
    {
     "name": "stdout",
     "output_type": "stream",
     "text": [
      "step_size=0.04999999701976776\n",
      "max_step_size=0.5\n",
      "broken_traj=0\n",
      "Runtime: 160.47s\n",
      "--------------------------------------------------------------------------------\n",
      "Running HMCAdaptiveHutchTaylorNoGrad\n",
      "number of blocks: 3\n",
      "processing block: 1\n"
     ]
    },
    {
     "data": {
      "application/vnd.jupyter.widget-view+json": {
       "model_id": "31e33496d2894addb146cb99557e3407",
       "version_major": 2,
       "version_minor": 0
      },
      "text/plain": [
       "  0%|          | 0/2500 [00:00<?, ?it/s]"
      ]
     },
     "metadata": {},
     "output_type": "display_data"
    },
    {
     "name": "stdout",
     "output_type": "stream",
     "text": [
      "step_size=0.04999999701976776\n",
      "max_step_size=0.5\n",
      "broken_traj=0\n",
      "processing block: 2\n"
     ]
    },
    {
     "data": {
      "application/vnd.jupyter.widget-view+json": {
       "model_id": "0c3135d298cd403c82f9b1485c34a90c",
       "version_major": 2,
       "version_minor": 0
      },
      "text/plain": [
       "  0%|          | 0/5000 [00:00<?, ?it/s]"
      ]
     },
     "metadata": {},
     "output_type": "display_data"
    },
    {
     "name": "stdout",
     "output_type": "stream",
     "text": [
      "step_size=0.04999999701976776\n",
      "max_step_size=0.5\n",
      "broken_traj=0\n",
      "processing block: 3\n"
     ]
    },
    {
     "data": {
      "application/vnd.jupyter.widget-view+json": {
       "model_id": "ec5d6f55362f464fb4b1a2c035a45d16",
       "version_major": 2,
       "version_minor": 0
      },
      "text/plain": [
       "  0%|          | 0/5000 [00:00<?, ?it/s]"
      ]
     },
     "metadata": {},
     "output_type": "display_data"
    },
    {
     "name": "stdout",
     "output_type": "stream",
     "text": [
      "step_size=0.04999999701976776\n",
      "max_step_size=0.5\n",
      "broken_traj=0\n",
      "Runtime: 249.26s\n",
      "--------------------------------------------------------------------------------\n",
      "Running HMCAdaptiveHutchLanczosNoGrad\n",
      "number of blocks: 3\n",
      "processing block: 1\n"
     ]
    },
    {
     "data": {
      "application/vnd.jupyter.widget-view+json": {
       "model_id": "f47b7bac0ce64e87a0f82263cc666fff",
       "version_major": 2,
       "version_minor": 0
      },
      "text/plain": [
       "  0%|          | 0/2500 [00:00<?, ?it/s]"
      ]
     },
     "metadata": {},
     "output_type": "display_data"
    },
    {
     "name": "stdout",
     "output_type": "stream",
     "text": [
      "step_size=0.04999999701976776\n",
      "max_step_size=0.5\n",
      "broken_traj=0\n",
      "processing block: 2\n"
     ]
    },
    {
     "data": {
      "application/vnd.jupyter.widget-view+json": {
       "model_id": "672b8e176210456c8eacd2ed681612d8",
       "version_major": 2,
       "version_minor": 0
      },
      "text/plain": [
       "  0%|          | 0/5000 [00:00<?, ?it/s]"
      ]
     },
     "metadata": {},
     "output_type": "display_data"
    },
    {
     "name": "stdout",
     "output_type": "stream",
     "text": [
      "step_size=0.04999999701976776\n",
      "max_step_size=0.5\n",
      "broken_traj=0\n",
      "processing block: 3\n"
     ]
    },
    {
     "data": {
      "application/vnd.jupyter.widget-view+json": {
       "model_id": "045242908d7e4d2baa1e77c3fe8c1921",
       "version_major": 2,
       "version_minor": 0
      },
      "text/plain": [
       "  0%|          | 0/5000 [00:00<?, ?it/s]"
      ]
     },
     "metadata": {},
     "output_type": "display_data"
    },
    {
     "name": "stdout",
     "output_type": "stream",
     "text": [
      "step_size=0.04999999701976776\n",
      "max_step_size=0.5\n",
      "broken_traj=0\n",
      "Runtime: 266.68s\n",
      "\n",
      "Processing dimension 16\n",
      "--------------------------------------------------------------------------------\n",
      "Running MALA\n",
      "number of blocks: 2\n",
      "processing block: 1\n"
     ]
    },
    {
     "data": {
      "application/vnd.jupyter.widget-view+json": {
       "model_id": "aff74d4970364632969ce4a5b29270a0",
       "version_major": 2,
       "version_minor": 0
      },
      "text/plain": [
       "  0%|          | 0/7500 [00:00<?, ?it/s]"
      ]
     },
     "metadata": {},
     "output_type": "display_data"
    },
    {
     "name": "stdout",
     "output_type": "stream",
     "text": [
      "step_size=0.056350331753492355\n",
      "processing block: 2\n"
     ]
    },
    {
     "data": {
      "application/vnd.jupyter.widget-view+json": {
       "model_id": "c1d1e6eea9614418931c43bb41c89fc2",
       "version_major": 2,
       "version_minor": 0
      },
      "text/plain": [
       "  0%|          | 0/5000 [00:00<?, ?it/s]"
      ]
     },
     "metadata": {},
     "output_type": "display_data"
    },
    {
     "name": "stdout",
     "output_type": "stream",
     "text": [
      "step_size=0.05661963298916817\n",
      "Runtime: 6.41s\n",
      "--------------------------------------------------------------------------------\n",
      "Running HMCVanilla\n",
      "number of blocks: 3\n",
      "processing block: 1\n"
     ]
    },
    {
     "data": {
      "application/vnd.jupyter.widget-view+json": {
       "model_id": "b8ffc8d808c14f6bb3ee601df73f407a",
       "version_major": 2,
       "version_minor": 0
      },
      "text/plain": [
       "  0%|          | 0/2500 [00:00<?, ?it/s]"
      ]
     },
     "metadata": {},
     "output_type": "display_data"
    },
    {
     "name": "stdout",
     "output_type": "stream",
     "text": [
      "step_size=0.04999999701976776\n",
      "max_step_size=0.5\n",
      "broken_traj=0\n",
      "processing block: 2\n"
     ]
    },
    {
     "data": {
      "application/vnd.jupyter.widget-view+json": {
       "model_id": "af3488ba8d024fdcab737e5f7f978c50",
       "version_major": 2,
       "version_minor": 0
      },
      "text/plain": [
       "  0%|          | 0/5000 [00:00<?, ?it/s]"
      ]
     },
     "metadata": {},
     "output_type": "display_data"
    },
    {
     "name": "stdout",
     "output_type": "stream",
     "text": [
      "step_size=0.04999999701976776\n",
      "max_step_size=0.5\n",
      "broken_traj=0\n",
      "processing block: 3\n"
     ]
    },
    {
     "data": {
      "application/vnd.jupyter.widget-view+json": {
       "model_id": "b69e8c06bb084ed1b27343d6c84e48ca",
       "version_major": 2,
       "version_minor": 0
      },
      "text/plain": [
       "  0%|          | 0/5000 [00:00<?, ?it/s]"
      ]
     },
     "metadata": {},
     "output_type": "display_data"
    },
    {
     "name": "stdout",
     "output_type": "stream",
     "text": [
      "step_size=0.04999999701976776\n",
      "max_step_size=0.5\n",
      "broken_traj=0\n",
      "Runtime: 161.32s\n",
      "--------------------------------------------------------------------------------\n",
      "Running HMCAdaptiveHutchTaylorNoGrad\n",
      "number of blocks: 3\n",
      "processing block: 1\n"
     ]
    },
    {
     "data": {
      "application/vnd.jupyter.widget-view+json": {
       "model_id": "20ba0da474b74961868b161ab6d6109d",
       "version_major": 2,
       "version_minor": 0
      },
      "text/plain": [
       "  0%|          | 0/2500 [00:00<?, ?it/s]"
      ]
     },
     "metadata": {},
     "output_type": "display_data"
    },
    {
     "name": "stdout",
     "output_type": "stream",
     "text": [
      "step_size=0.04999999701976776\n",
      "max_step_size=0.5\n",
      "broken_traj=0\n",
      "processing block: 2\n"
     ]
    },
    {
     "data": {
      "application/vnd.jupyter.widget-view+json": {
       "model_id": "a538dfd4ab9d418b8d4c265225a1b010",
       "version_major": 2,
       "version_minor": 0
      },
      "text/plain": [
       "  0%|          | 0/5000 [00:00<?, ?it/s]"
      ]
     },
     "metadata": {},
     "output_type": "display_data"
    },
    {
     "name": "stdout",
     "output_type": "stream",
     "text": [
      "step_size=0.04999999701976776\n",
      "max_step_size=0.5\n",
      "broken_traj=0\n",
      "processing block: 3\n"
     ]
    },
    {
     "data": {
      "application/vnd.jupyter.widget-view+json": {
       "model_id": "e8a0dc0e2b0843c8bb7cb68e4caa4fd1",
       "version_major": 2,
       "version_minor": 0
      },
      "text/plain": [
       "  0%|          | 0/5000 [00:00<?, ?it/s]"
      ]
     },
     "metadata": {},
     "output_type": "display_data"
    },
    {
     "name": "stdout",
     "output_type": "stream",
     "text": [
      "step_size=0.04999999701976776\n",
      "max_step_size=0.5\n",
      "broken_traj=0\n",
      "Runtime: 254.01s\n",
      "--------------------------------------------------------------------------------\n",
      "Running HMCAdaptiveHutchLanczosNoGrad\n",
      "number of blocks: 3\n",
      "processing block: 1\n"
     ]
    },
    {
     "data": {
      "application/vnd.jupyter.widget-view+json": {
       "model_id": "72df0329ea534158a195c6a21c4312bc",
       "version_major": 2,
       "version_minor": 0
      },
      "text/plain": [
       "  0%|          | 0/2500 [00:00<?, ?it/s]"
      ]
     },
     "metadata": {},
     "output_type": "display_data"
    },
    {
     "name": "stdout",
     "output_type": "stream",
     "text": [
      "step_size=0.04999999701976776\n",
      "max_step_size=0.5\n",
      "broken_traj=0\n",
      "processing block: 2\n"
     ]
    },
    {
     "data": {
      "application/vnd.jupyter.widget-view+json": {
       "model_id": "409ca5703bb44038afc20c8ecf23cbb4",
       "version_major": 2,
       "version_minor": 0
      },
      "text/plain": [
       "  0%|          | 0/5000 [00:00<?, ?it/s]"
      ]
     },
     "metadata": {},
     "output_type": "display_data"
    },
    {
     "name": "stdout",
     "output_type": "stream",
     "text": [
      "step_size=0.04999999701976776\n",
      "max_step_size=0.5\n",
      "broken_traj=0\n",
      "processing block: 3\n"
     ]
    },
    {
     "data": {
      "application/vnd.jupyter.widget-view+json": {
       "model_id": "27572acf0cf049d2b54347157b57f1b8",
       "version_major": 2,
       "version_minor": 0
      },
      "text/plain": [
       "  0%|          | 0/5000 [00:00<?, ?it/s]"
      ]
     },
     "metadata": {},
     "output_type": "display_data"
    },
    {
     "name": "stdout",
     "output_type": "stream",
     "text": [
      "step_size=0.04999999701976776\n",
      "max_step_size=0.5\n",
      "broken_traj=0\n",
      "Runtime: 272.40s\n",
      "\n",
      "Processing dimension 32\n",
      "--------------------------------------------------------------------------------\n",
      "Running MALA\n",
      "number of blocks: 2\n",
      "processing block: 1\n"
     ]
    },
    {
     "data": {
      "application/vnd.jupyter.widget-view+json": {
       "model_id": "29a39ba387544f5195fc0b679a1d4d25",
       "version_major": 2,
       "version_minor": 0
      },
      "text/plain": [
       "  0%|          | 0/7500 [00:00<?, ?it/s]"
      ]
     },
     "metadata": {},
     "output_type": "display_data"
    },
    {
     "name": "stdout",
     "output_type": "stream",
     "text": [
      "step_size=0.05225300416350365\n",
      "processing block: 2\n"
     ]
    },
    {
     "data": {
      "application/vnd.jupyter.widget-view+json": {
       "model_id": "dd5817c1625340999f419c0b440967a4",
       "version_major": 2,
       "version_minor": 0
      },
      "text/plain": [
       "  0%|          | 0/5000 [00:00<?, ?it/s]"
      ]
     },
     "metadata": {},
     "output_type": "display_data"
    },
    {
     "name": "stdout",
     "output_type": "stream",
     "text": [
      "step_size=0.05232442542910576\n",
      "Runtime: 6.68s\n",
      "--------------------------------------------------------------------------------\n",
      "Running HMCVanilla\n",
      "number of blocks: 3\n",
      "processing block: 1\n"
     ]
    },
    {
     "data": {
      "application/vnd.jupyter.widget-view+json": {
       "model_id": "eb2b07733f72419fa1d201c76c5f4cb3",
       "version_major": 2,
       "version_minor": 0
      },
      "text/plain": [
       "  0%|          | 0/2500 [00:00<?, ?it/s]"
      ]
     },
     "metadata": {},
     "output_type": "display_data"
    },
    {
     "name": "stdout",
     "output_type": "stream",
     "text": [
      "step_size=0.04999999701976776\n",
      "max_step_size=0.5\n",
      "broken_traj=0\n",
      "processing block: 2\n"
     ]
    },
    {
     "data": {
      "application/vnd.jupyter.widget-view+json": {
       "model_id": "3f238ffe4ece4c379c6675584e4ec9d4",
       "version_major": 2,
       "version_minor": 0
      },
      "text/plain": [
       "  0%|          | 0/5000 [00:00<?, ?it/s]"
      ]
     },
     "metadata": {},
     "output_type": "display_data"
    },
    {
     "name": "stdout",
     "output_type": "stream",
     "text": [
      "step_size=0.04999999701976776\n",
      "max_step_size=0.5\n",
      "broken_traj=0\n",
      "processing block: 3\n"
     ]
    },
    {
     "data": {
      "application/vnd.jupyter.widget-view+json": {
       "model_id": "19978e2556f640598f29f81196625ac0",
       "version_major": 2,
       "version_minor": 0
      },
      "text/plain": [
       "  0%|          | 0/5000 [00:00<?, ?it/s]"
      ]
     },
     "metadata": {},
     "output_type": "display_data"
    },
    {
     "name": "stdout",
     "output_type": "stream",
     "text": [
      "step_size=0.04999999701976776\n",
      "max_step_size=0.5\n",
      "broken_traj=0\n",
      "Runtime: 166.53s\n",
      "--------------------------------------------------------------------------------\n",
      "Running HMCAdaptiveHutchTaylorNoGrad\n",
      "number of blocks: 3\n",
      "processing block: 1\n"
     ]
    },
    {
     "data": {
      "application/vnd.jupyter.widget-view+json": {
       "model_id": "3de39de1c39a455a8ac977d669c5b0f6",
       "version_major": 2,
       "version_minor": 0
      },
      "text/plain": [
       "  0%|          | 0/2500 [00:00<?, ?it/s]"
      ]
     },
     "metadata": {},
     "output_type": "display_data"
    },
    {
     "name": "stdout",
     "output_type": "stream",
     "text": [
      "step_size=0.04999999701976776\n",
      "max_step_size=0.5\n",
      "broken_traj=0\n",
      "processing block: 2\n"
     ]
    },
    {
     "data": {
      "application/vnd.jupyter.widget-view+json": {
       "model_id": "6c2c375c13584999a4b36bb10dc33c83",
       "version_major": 2,
       "version_minor": 0
      },
      "text/plain": [
       "  0%|          | 0/5000 [00:00<?, ?it/s]"
      ]
     },
     "metadata": {},
     "output_type": "display_data"
    },
    {
     "name": "stdout",
     "output_type": "stream",
     "text": [
      "step_size=0.04999999701976776\n",
      "max_step_size=0.5\n",
      "broken_traj=0\n",
      "processing block: 3\n"
     ]
    },
    {
     "data": {
      "application/vnd.jupyter.widget-view+json": {
       "model_id": "6ed757a5380a44edb96a567b2e8eb5ef",
       "version_major": 2,
       "version_minor": 0
      },
      "text/plain": [
       "  0%|          | 0/5000 [00:00<?, ?it/s]"
      ]
     },
     "metadata": {},
     "output_type": "display_data"
    },
    {
     "name": "stdout",
     "output_type": "stream",
     "text": [
      "step_size=0.04999999701976776\n",
      "max_step_size=0.5\n",
      "broken_traj=0\n",
      "Runtime: 263.09s\n",
      "--------------------------------------------------------------------------------\n",
      "Running HMCAdaptiveHutchLanczosNoGrad\n",
      "number of blocks: 3\n",
      "processing block: 1\n"
     ]
    },
    {
     "data": {
      "application/vnd.jupyter.widget-view+json": {
       "model_id": "e06c9fb0c2e245c08cf384ac885746e9",
       "version_major": 2,
       "version_minor": 0
      },
      "text/plain": [
       "  0%|          | 0/2500 [00:00<?, ?it/s]"
      ]
     },
     "metadata": {},
     "output_type": "display_data"
    },
    {
     "name": "stdout",
     "output_type": "stream",
     "text": [
      "step_size=0.04999999701976776\n",
      "max_step_size=0.5\n",
      "broken_traj=0\n",
      "processing block: 2\n"
     ]
    },
    {
     "data": {
      "application/vnd.jupyter.widget-view+json": {
       "model_id": "3131160d5b60405fad01961c0a890c7a",
       "version_major": 2,
       "version_minor": 0
      },
      "text/plain": [
       "  0%|          | 0/5000 [00:00<?, ?it/s]"
      ]
     },
     "metadata": {},
     "output_type": "display_data"
    },
    {
     "name": "stdout",
     "output_type": "stream",
     "text": [
      "step_size=0.04999999701976776\n",
      "max_step_size=0.5\n",
      "broken_traj=0\n",
      "processing block: 3\n"
     ]
    },
    {
     "data": {
      "application/vnd.jupyter.widget-view+json": {
       "model_id": "d55ff0e14ab74cb98d234010cf200001",
       "version_major": 2,
       "version_minor": 0
      },
      "text/plain": [
       "  0%|          | 0/5000 [00:00<?, ?it/s]"
      ]
     },
     "metadata": {},
     "output_type": "display_data"
    },
    {
     "name": "stdout",
     "output_type": "stream",
     "text": [
      "step_size=0.04999999701976776\n",
      "max_step_size=0.5\n",
      "broken_traj=0\n",
      "Runtime: 282.15s\n",
      "\n",
      "Processing dimension 64\n",
      "--------------------------------------------------------------------------------\n",
      "Running MALA\n",
      "number of blocks: 2\n",
      "processing block: 1\n"
     ]
    },
    {
     "data": {
      "application/vnd.jupyter.widget-view+json": {
       "model_id": "09c55def29cd489dbb02bf7bbdbe17ec",
       "version_major": 2,
       "version_minor": 0
      },
      "text/plain": [
       "  0%|          | 0/7500 [00:00<?, ?it/s]"
      ]
     },
     "metadata": {},
     "output_type": "display_data"
    },
    {
     "name": "stdout",
     "output_type": "stream",
     "text": [
      "step_size=0.047939471900463104\n",
      "processing block: 2\n"
     ]
    },
    {
     "data": {
      "application/vnd.jupyter.widget-view+json": {
       "model_id": "7a671e0da7fc4cedb102211350509812",
       "version_major": 2,
       "version_minor": 0
      },
      "text/plain": [
       "  0%|          | 0/5000 [00:00<?, ?it/s]"
      ]
     },
     "metadata": {},
     "output_type": "display_data"
    },
    {
     "name": "stdout",
     "output_type": "stream",
     "text": [
      "step_size=0.047756899148225784\n",
      "Runtime: 7.29s\n",
      "--------------------------------------------------------------------------------\n",
      "Running HMCVanilla\n",
      "number of blocks: 3\n",
      "processing block: 1\n"
     ]
    },
    {
     "data": {
      "application/vnd.jupyter.widget-view+json": {
       "model_id": "6985b0b4f2a245ebb2ae3c213c5b5f76",
       "version_major": 2,
       "version_minor": 0
      },
      "text/plain": [
       "  0%|          | 0/2500 [00:00<?, ?it/s]"
      ]
     },
     "metadata": {},
     "output_type": "display_data"
    },
    {
     "name": "stdout",
     "output_type": "stream",
     "text": [
      "step_size=0.04999999701976776\n",
      "max_step_size=0.5\n",
      "broken_traj=0\n",
      "processing block: 2\n"
     ]
    },
    {
     "data": {
      "application/vnd.jupyter.widget-view+json": {
       "model_id": "1d690b13798f44d79aa24193bd6cb685",
       "version_major": 2,
       "version_minor": 0
      },
      "text/plain": [
       "  0%|          | 0/5000 [00:00<?, ?it/s]"
      ]
     },
     "metadata": {},
     "output_type": "display_data"
    },
    {
     "name": "stdout",
     "output_type": "stream",
     "text": [
      "step_size=0.04999999701976776\n",
      "max_step_size=0.5\n",
      "broken_traj=0\n",
      "processing block: 3\n"
     ]
    },
    {
     "data": {
      "application/vnd.jupyter.widget-view+json": {
       "model_id": "c7a9d639702c44a494926d0c6beec243",
       "version_major": 2,
       "version_minor": 0
      },
      "text/plain": [
       "  0%|          | 0/5000 [00:00<?, ?it/s]"
      ]
     },
     "metadata": {},
     "output_type": "display_data"
    },
    {
     "name": "stdout",
     "output_type": "stream",
     "text": [
      "step_size=0.04999999701976776\n",
      "max_step_size=0.5\n",
      "broken_traj=0\n",
      "Runtime: 183.30s\n",
      "--------------------------------------------------------------------------------\n",
      "Running HMCAdaptiveHutchTaylorNoGrad\n",
      "number of blocks: 3\n",
      "processing block: 1\n"
     ]
    },
    {
     "data": {
      "application/vnd.jupyter.widget-view+json": {
       "model_id": "0f93bdd34faf4672b1d0989d1aae5603",
       "version_major": 2,
       "version_minor": 0
      },
      "text/plain": [
       "  0%|          | 0/2500 [00:00<?, ?it/s]"
      ]
     },
     "metadata": {},
     "output_type": "display_data"
    },
    {
     "name": "stdout",
     "output_type": "stream",
     "text": [
      "step_size=0.04999999701976776\n",
      "max_step_size=0.5\n",
      "broken_traj=0\n",
      "processing block: 2\n"
     ]
    },
    {
     "data": {
      "application/vnd.jupyter.widget-view+json": {
       "model_id": "dc8df004b7d948f699680752f11ef244",
       "version_major": 2,
       "version_minor": 0
      },
      "text/plain": [
       "  0%|          | 0/5000 [00:00<?, ?it/s]"
      ]
     },
     "metadata": {},
     "output_type": "display_data"
    },
    {
     "name": "stdout",
     "output_type": "stream",
     "text": [
      "step_size=0.04999999701976776\n",
      "max_step_size=0.5\n",
      "broken_traj=0\n",
      "processing block: 3\n"
     ]
    },
    {
     "data": {
      "application/vnd.jupyter.widget-view+json": {
       "model_id": "7dbccf0d0c354c1dab50f9674bde2265",
       "version_major": 2,
       "version_minor": 0
      },
      "text/plain": [
       "  0%|          | 0/5000 [00:00<?, ?it/s]"
      ]
     },
     "metadata": {},
     "output_type": "display_data"
    },
    {
     "name": "stdout",
     "output_type": "stream",
     "text": [
      "step_size=0.04999999701976776\n",
      "max_step_size=0.5\n",
      "broken_traj=0\n",
      "Runtime: 281.05s\n",
      "--------------------------------------------------------------------------------\n",
      "Running HMCAdaptiveHutchLanczosNoGrad\n",
      "number of blocks: 3\n",
      "processing block: 1\n"
     ]
    },
    {
     "data": {
      "application/vnd.jupyter.widget-view+json": {
       "model_id": "0a68c2b0410d443d8f6e902d70b00b60",
       "version_major": 2,
       "version_minor": 0
      },
      "text/plain": [
       "  0%|          | 0/2500 [00:00<?, ?it/s]"
      ]
     },
     "metadata": {},
     "output_type": "display_data"
    },
    {
     "name": "stdout",
     "output_type": "stream",
     "text": [
      "step_size=0.04999999701976776\n",
      "max_step_size=0.5\n",
      "broken_traj=0\n",
      "processing block: 2\n"
     ]
    },
    {
     "data": {
      "application/vnd.jupyter.widget-view+json": {
       "model_id": "c2dd6bb2b4524da7b3f3b081901837e5",
       "version_major": 2,
       "version_minor": 0
      },
      "text/plain": [
       "  0%|          | 0/5000 [00:00<?, ?it/s]"
      ]
     },
     "metadata": {},
     "output_type": "display_data"
    },
    {
     "name": "stdout",
     "output_type": "stream",
     "text": [
      "step_size=0.04999999701976776\n",
      "max_step_size=0.5\n",
      "broken_traj=0\n",
      "processing block: 3\n"
     ]
    },
    {
     "data": {
      "application/vnd.jupyter.widget-view+json": {
       "model_id": "b4e5a6db688b4ee2ac870120d4c2d05f",
       "version_major": 2,
       "version_minor": 0
      },
      "text/plain": [
       "  0%|          | 0/5000 [00:00<?, ?it/s]"
      ]
     },
     "metadata": {},
     "output_type": "display_data"
    },
    {
     "name": "stdout",
     "output_type": "stream",
     "text": [
      "step_size=0.04999999701976776\n",
      "max_step_size=0.5\n",
      "broken_traj=0\n",
      "Runtime: 305.51s\n",
      "\n",
      "Processing dimension 128\n",
      "--------------------------------------------------------------------------------\n",
      "Running MALA\n",
      "number of blocks: 2\n",
      "processing block: 1\n"
     ]
    },
    {
     "data": {
      "application/vnd.jupyter.widget-view+json": {
       "model_id": "2719eacd0f434125984a4cd719d800b8",
       "version_major": 2,
       "version_minor": 0
      },
      "text/plain": [
       "  0%|          | 0/7500 [00:00<?, ?it/s]"
      ]
     },
     "metadata": {},
     "output_type": "display_data"
    },
    {
     "name": "stdout",
     "output_type": "stream",
     "text": [
      "step_size=0.04284900799393654\n",
      "processing block: 2\n"
     ]
    },
    {
     "data": {
      "application/vnd.jupyter.widget-view+json": {
       "model_id": "b564aa23dc454384b396dcdea38ffd96",
       "version_major": 2,
       "version_minor": 0
      },
      "text/plain": [
       "  0%|          | 0/5000 [00:00<?, ?it/s]"
      ]
     },
     "metadata": {},
     "output_type": "display_data"
    },
    {
     "name": "stdout",
     "output_type": "stream",
     "text": [
      "step_size=0.043026939034461975\n",
      "Runtime: 9.72s\n",
      "--------------------------------------------------------------------------------\n",
      "Running HMCVanilla\n",
      "number of blocks: 3\n",
      "processing block: 1\n"
     ]
    },
    {
     "data": {
      "application/vnd.jupyter.widget-view+json": {
       "model_id": "c1b272ea86444e048d5f9628778d5de8",
       "version_major": 2,
       "version_minor": 0
      },
      "text/plain": [
       "  0%|          | 0/2500 [00:00<?, ?it/s]"
      ]
     },
     "metadata": {},
     "output_type": "display_data"
    },
    {
     "name": "stdout",
     "output_type": "stream",
     "text": [
      "step_size=0.04999999701976776\n",
      "max_step_size=0.5\n",
      "broken_traj=0\n",
      "processing block: 2\n"
     ]
    },
    {
     "data": {
      "application/vnd.jupyter.widget-view+json": {
       "model_id": "42b91480399f4165a71448f8d167cbd7",
       "version_major": 2,
       "version_minor": 0
      },
      "text/plain": [
       "  0%|          | 0/5000 [00:00<?, ?it/s]"
      ]
     },
     "metadata": {},
     "output_type": "display_data"
    },
    {
     "name": "stdout",
     "output_type": "stream",
     "text": [
      "step_size=0.04999999701976776\n",
      "max_step_size=0.5\n",
      "broken_traj=0\n",
      "processing block: 3\n"
     ]
    },
    {
     "data": {
      "application/vnd.jupyter.widget-view+json": {
       "model_id": "32ad405726a847ffa264603e1f2159b6",
       "version_major": 2,
       "version_minor": 0
      },
      "text/plain": [
       "  0%|          | 0/5000 [00:00<?, ?it/s]"
      ]
     },
     "metadata": {},
     "output_type": "display_data"
    },
    {
     "name": "stdout",
     "output_type": "stream",
     "text": [
      "step_size=0.04999999701976776\n",
      "max_step_size=0.5\n",
      "broken_traj=0\n",
      "Runtime: 195.07s\n",
      "--------------------------------------------------------------------------------\n",
      "Running HMCAdaptiveHutchTaylorNoGrad\n",
      "number of blocks: 3\n",
      "processing block: 1\n"
     ]
    },
    {
     "data": {
      "application/vnd.jupyter.widget-view+json": {
       "model_id": "cc9bcb2d0972458eb60f501d9fd43b52",
       "version_major": 2,
       "version_minor": 0
      },
      "text/plain": [
       "  0%|          | 0/2500 [00:00<?, ?it/s]"
      ]
     },
     "metadata": {},
     "output_type": "display_data"
    },
    {
     "name": "stdout",
     "output_type": "stream",
     "text": [
      "step_size=0.04999999701976776\n",
      "max_step_size=0.5\n",
      "broken_traj=0\n",
      "processing block: 2\n"
     ]
    },
    {
     "data": {
      "application/vnd.jupyter.widget-view+json": {
       "model_id": "efd9794293054d91b0767a37ef3b593a",
       "version_major": 2,
       "version_minor": 0
      },
      "text/plain": [
       "  0%|          | 0/5000 [00:00<?, ?it/s]"
      ]
     },
     "metadata": {},
     "output_type": "display_data"
    },
    {
     "name": "stdout",
     "output_type": "stream",
     "text": [
      "step_size=0.04999999701976776\n",
      "max_step_size=0.5\n",
      "broken_traj=0\n",
      "processing block: 3\n"
     ]
    },
    {
     "data": {
      "application/vnd.jupyter.widget-view+json": {
       "model_id": "e12ec050eebc4bbca0ea4f9cda6db4af",
       "version_major": 2,
       "version_minor": 0
      },
      "text/plain": [
       "  0%|          | 0/5000 [00:00<?, ?it/s]"
      ]
     },
     "metadata": {},
     "output_type": "display_data"
    },
    {
     "name": "stdout",
     "output_type": "stream",
     "text": [
      "step_size=0.04999999701976776\n",
      "max_step_size=0.5\n",
      "broken_traj=0\n",
      "Runtime: 308.21s\n",
      "--------------------------------------------------------------------------------\n",
      "Running HMCAdaptiveHutchLanczosNoGrad\n",
      "number of blocks: 3\n",
      "processing block: 1\n"
     ]
    },
    {
     "data": {
      "application/vnd.jupyter.widget-view+json": {
       "model_id": "152cfcac36b3495da10c124320ac936b",
       "version_major": 2,
       "version_minor": 0
      },
      "text/plain": [
       "  0%|          | 0/2500 [00:00<?, ?it/s]"
      ]
     },
     "metadata": {},
     "output_type": "display_data"
    },
    {
     "name": "stdout",
     "output_type": "stream",
     "text": [
      "step_size=0.04999999701976776\n",
      "max_step_size=0.5\n",
      "broken_traj=0\n",
      "processing block: 2\n"
     ]
    },
    {
     "data": {
      "application/vnd.jupyter.widget-view+json": {
       "model_id": "49886b018e1d476da81f825196847a45",
       "version_major": 2,
       "version_minor": 0
      },
      "text/plain": [
       "  0%|          | 0/5000 [00:00<?, ?it/s]"
      ]
     },
     "metadata": {},
     "output_type": "display_data"
    },
    {
     "name": "stdout",
     "output_type": "stream",
     "text": [
      "step_size=0.04999999701976776\n",
      "max_step_size=0.5\n",
      "broken_traj=0\n",
      "processing block: 3\n"
     ]
    },
    {
     "data": {
      "application/vnd.jupyter.widget-view+json": {
       "model_id": "1536116ddec14b3dbda199d0464a7076",
       "version_major": 2,
       "version_minor": 0
      },
      "text/plain": [
       "  0%|          | 0/5000 [00:00<?, ?it/s]"
      ]
     },
     "metadata": {},
     "output_type": "display_data"
    },
    {
     "name": "stdout",
     "output_type": "stream",
     "text": [
      "step_size=0.04999999701976776\n",
      "max_step_size=0.5\n",
      "broken_traj=0\n",
      "Runtime: 330.82s\n",
      "\n",
      "Processing dimension 256\n",
      "--------------------------------------------------------------------------------\n",
      "Running MALA\n",
      "number of blocks: 2\n",
      "processing block: 1\n"
     ]
    },
    {
     "data": {
      "application/vnd.jupyter.widget-view+json": {
       "model_id": "88bcf0c5072946418adea37200f86c90",
       "version_major": 2,
       "version_minor": 0
      },
      "text/plain": [
       "  0%|          | 0/7500 [00:00<?, ?it/s]"
      ]
     },
     "metadata": {},
     "output_type": "display_data"
    },
    {
     "name": "stdout",
     "output_type": "stream",
     "text": [
      "step_size=0.03828849270939827\n",
      "processing block: 2\n"
     ]
    },
    {
     "data": {
      "application/vnd.jupyter.widget-view+json": {
       "model_id": "b4191687a9d14541adbb69267d3dbc87",
       "version_major": 2,
       "version_minor": 0
      },
      "text/plain": [
       "  0%|          | 0/5000 [00:00<?, ?it/s]"
      ]
     },
     "metadata": {},
     "output_type": "display_data"
    },
    {
     "name": "stdout",
     "output_type": "stream",
     "text": [
      "step_size=0.038291677832603455\n",
      "Runtime: 14.20s\n",
      "--------------------------------------------------------------------------------\n",
      "Running HMCVanilla\n",
      "number of blocks: 3\n",
      "processing block: 1\n"
     ]
    },
    {
     "data": {
      "application/vnd.jupyter.widget-view+json": {
       "model_id": "1d9891f0827d4826bc10a4011a54fcc1",
       "version_major": 2,
       "version_minor": 0
      },
      "text/plain": [
       "  0%|          | 0/2500 [00:00<?, ?it/s]"
      ]
     },
     "metadata": {},
     "output_type": "display_data"
    },
    {
     "name": "stdout",
     "output_type": "stream",
     "text": [
      "step_size=0.04999999701976776\n",
      "max_step_size=0.5\n",
      "broken_traj=0\n",
      "processing block: 2\n"
     ]
    },
    {
     "data": {
      "application/vnd.jupyter.widget-view+json": {
       "model_id": "6e37a783790647c2bb2049ccacfe7fd3",
       "version_major": 2,
       "version_minor": 0
      },
      "text/plain": [
       "  0%|          | 0/5000 [00:00<?, ?it/s]"
      ]
     },
     "metadata": {},
     "output_type": "display_data"
    },
    {
     "name": "stdout",
     "output_type": "stream",
     "text": [
      "step_size=0.04999999701976776\n",
      "max_step_size=0.5\n",
      "broken_traj=0\n",
      "processing block: 3\n"
     ]
    },
    {
     "data": {
      "application/vnd.jupyter.widget-view+json": {
       "model_id": "f5883768e28040d39627ee7221c3daf7",
       "version_major": 2,
       "version_minor": 0
      },
      "text/plain": [
       "  0%|          | 0/5000 [00:00<?, ?it/s]"
      ]
     },
     "metadata": {},
     "output_type": "display_data"
    },
    {
     "name": "stdout",
     "output_type": "stream",
     "text": [
      "step_size=0.04999999701976776\n",
      "max_step_size=0.5\n",
      "broken_traj=0\n",
      "Runtime: 244.52s\n",
      "--------------------------------------------------------------------------------\n",
      "Running HMCAdaptiveHutchTaylorNoGrad\n",
      "number of blocks: 3\n",
      "processing block: 1\n"
     ]
    },
    {
     "data": {
      "application/vnd.jupyter.widget-view+json": {
       "model_id": "44b93e8dd0fa4801b180d110326c8e61",
       "version_major": 2,
       "version_minor": 0
      },
      "text/plain": [
       "  0%|          | 0/2500 [00:00<?, ?it/s]"
      ]
     },
     "metadata": {},
     "output_type": "display_data"
    },
    {
     "name": "stdout",
     "output_type": "stream",
     "text": [
      "step_size=0.04999999701976776\n",
      "max_step_size=0.5\n",
      "broken_traj=0\n",
      "processing block: 2\n"
     ]
    },
    {
     "data": {
      "application/vnd.jupyter.widget-view+json": {
       "model_id": "b2e8b0e9181b4e0db618214fc3cd68f1",
       "version_major": 2,
       "version_minor": 0
      },
      "text/plain": [
       "  0%|          | 0/5000 [00:00<?, ?it/s]"
      ]
     },
     "metadata": {},
     "output_type": "display_data"
    },
    {
     "name": "stdout",
     "output_type": "stream",
     "text": [
      "step_size=0.04999999701976776\n",
      "max_step_size=0.5\n",
      "broken_traj=0\n",
      "processing block: 3\n"
     ]
    },
    {
     "data": {
      "application/vnd.jupyter.widget-view+json": {
       "model_id": "6ebec029249c4bf591839808b4d35256",
       "version_major": 2,
       "version_minor": 0
      },
      "text/plain": [
       "  0%|          | 0/5000 [00:00<?, ?it/s]"
      ]
     },
     "metadata": {},
     "output_type": "display_data"
    },
    {
     "name": "stdout",
     "output_type": "stream",
     "text": [
      "step_size=0.04999999701976776\n",
      "max_step_size=0.5\n",
      "broken_traj=0\n",
      "Runtime: 383.55s\n",
      "--------------------------------------------------------------------------------\n",
      "Running HMCAdaptiveHutchLanczosNoGrad\n",
      "number of blocks: 3\n",
      "processing block: 1\n"
     ]
    },
    {
     "data": {
      "application/vnd.jupyter.widget-view+json": {
       "model_id": "8bdfb3bf3cd445ff9c344b44689bbe42",
       "version_major": 2,
       "version_minor": 0
      },
      "text/plain": [
       "  0%|          | 0/2500 [00:00<?, ?it/s]"
      ]
     },
     "metadata": {},
     "output_type": "display_data"
    },
    {
     "name": "stdout",
     "output_type": "stream",
     "text": [
      "step_size=0.04999999701976776\n",
      "max_step_size=0.5\n",
      "broken_traj=0\n",
      "processing block: 2\n"
     ]
    },
    {
     "data": {
      "application/vnd.jupyter.widget-view+json": {
       "model_id": "15f38f855b344bb99a6f4037409af7f1",
       "version_major": 2,
       "version_minor": 0
      },
      "text/plain": [
       "  0%|          | 0/5000 [00:00<?, ?it/s]"
      ]
     },
     "metadata": {},
     "output_type": "display_data"
    },
    {
     "name": "stdout",
     "output_type": "stream",
     "text": [
      "step_size=0.04999999701976776\n",
      "max_step_size=0.5\n",
      "broken_traj=0\n",
      "processing block: 3\n"
     ]
    },
    {
     "data": {
      "application/vnd.jupyter.widget-view+json": {
       "model_id": "2b1df3225b0b4f15be5f518822b906d8",
       "version_major": 2,
       "version_minor": 0
      },
      "text/plain": [
       "  0%|          | 0/5000 [00:00<?, ?it/s]"
      ]
     },
     "metadata": {},
     "output_type": "display_data"
    },
    {
     "name": "stdout",
     "output_type": "stream",
     "text": [
      "step_size=0.04999999701976776\n",
      "max_step_size=0.5\n",
      "broken_traj=0\n",
      "Runtime: 410.05s\n",
      "\n"
     ]
    },
    {
     "data": {
      "application/vnd.jupyter.widget-view+json": {
       "model_id": "59473f12828e431ca3f3774a5b4fc6d1",
       "version_major": 2,
       "version_minor": 0
      },
      "text/plain": [
       "dimension:   0%|          | 0/6 [00:00<?, ?it/s]"
      ]
     },
     "metadata": {},
     "output_type": "display_data"
    },
    {
     "data": {
      "application/vnd.jupyter.widget-view+json": {
       "model_id": "a9011af6a9034c6880c3c916bacac822",
       "version_major": 2,
       "version_minor": 0
      },
      "text/plain": [
       "alg:   0%|          | 0/4 [00:00<?, ?it/s]"
      ]
     },
     "metadata": {},
     "output_type": "display_data"
    },
    {
     "name": "stdout",
     "output_type": "stream",
     "text": [
      "\n",
      "dim=8, dist=illcond_gaussian\n",
      "                      mala  hmc_vanilla  taylor_nograd  lanczos_nograd\n",
      "ess_mean         0.118840     0.472112       0.489760        0.484717\n",
      "ess_conf_sigma   0.000852     0.001297       0.009871        0.008944\n",
      "tv_mean          0.772475     0.134239       0.092562        0.081526\n",
      "tv_conf_sigma    0.012847     0.012593       0.008228        0.008954\n",
      "runtime          7.012681   159.788641     248.307939      265.705632\n",
      "chains_kept     30.000000    30.000000      30.000000       30.000000\n",
      "{8:             alg_A          alg_B  z(ESS_A>B)     p(ESS_A>B)  z(TV_A<B)  \\\n",
      "0  lanczos_nograd  taylor_nograd   -0.378649   6.475257e-01   0.907641   \n",
      "1  lanczos_nograd    hmc_vanilla    1.394653   8.156018e-02   3.411423   \n",
      "2  lanczos_nograd           mala   40.722003   0.000000e+00  44.125105   \n",
      "3   taylor_nograd    hmc_vanilla    1.772711   3.813830e-02   2.770505   \n",
      "4   taylor_nograd           mala   37.438620  4.600316e-307  44.568790   \n",
      "5     hmc_vanilla           mala  227.741796   0.000000e+00  35.477980   \n",
      "\n",
      "       p(TV_A<B)  \n",
      "0   1.820340e-01  \n",
      "1   3.231243e-04  \n",
      "2   0.000000e+00  \n",
      "3   2.798468e-03  \n",
      "4   0.000000e+00  \n",
      "5  5.372642e-276  }\n"
     ]
    },
    {
     "data": {
      "application/vnd.jupyter.widget-view+json": {
       "model_id": "c540725750ab4616b7ff2d55dd3d960e",
       "version_major": 2,
       "version_minor": 0
      },
      "text/plain": [
       "alg:   0%|          | 0/4 [00:00<?, ?it/s]"
      ]
     },
     "metadata": {},
     "output_type": "display_data"
    },
    {
     "name": "stdout",
     "output_type": "stream",
     "text": [
      "\n",
      "dim=16, dist=illcond_gaussian\n",
      "                      mala  hmc_vanilla  taylor_nograd  lanczos_nograd\n",
      "ess_mean         0.085888     0.336746       0.153926        0.433408\n",
      "ess_conf_sigma   0.000451     0.000828       0.003597        0.007486\n",
      "tv_mean          0.722676     0.132924       0.080415        0.079826\n",
      "tv_conf_sigma    0.015331     0.012391       0.007961        0.007109\n",
      "runtime          6.353755   160.649507     253.037065      271.383357\n",
      "chains_kept     30.000000    30.000000      30.000000       30.000000\n",
      "{8:             alg_A          alg_B  z(ESS_A>B)     p(ESS_A>B)  z(TV_A<B)  \\\n",
      "0  lanczos_nograd  taylor_nograd   -0.378649   6.475257e-01   0.907641   \n",
      "1  lanczos_nograd    hmc_vanilla    1.394653   8.156018e-02   3.411423   \n",
      "2  lanczos_nograd           mala   40.722003   0.000000e+00  44.125105   \n",
      "3   taylor_nograd    hmc_vanilla    1.772711   3.813830e-02   2.770505   \n",
      "4   taylor_nograd           mala   37.438620  4.600316e-307  44.568790   \n",
      "5     hmc_vanilla           mala  227.741796   0.000000e+00  35.477980   \n",
      "\n",
      "       p(TV_A<B)  \n",
      "0   1.820340e-01  \n",
      "1   3.231243e-04  \n",
      "2   0.000000e+00  \n",
      "3   2.798468e-03  \n",
      "4   0.000000e+00  \n",
      "5  5.372642e-276  , 16:             alg_A          alg_B  z(ESS_A>B)     p(ESS_A>B)  z(TV_A<B)  \\\n",
      "0  lanczos_nograd  taylor_nograd   33.649834  1.567726e-248   0.055210   \n",
      "1  lanczos_nograd    hmc_vanilla   12.833566   5.317706e-38   3.716978   \n",
      "2  lanczos_nograd           mala   46.336372   0.000000e+00  38.041625   \n",
      "3   taylor_nograd    hmc_vanilla  -49.532563   1.000000e+00   3.565242   \n",
      "4   taylor_nograd           mala   18.768937   6.778573e-79  37.179792   \n",
      "5     hmc_vanilla           mala  266.096142   0.000000e+00  29.918348   \n",
      "\n",
      "       p(TV_A<B)  \n",
      "0   4.779855e-01  \n",
      "1   1.008100e-04  \n",
      "2   0.000000e+00  \n",
      "3   1.817604e-04  \n",
      "4  7.238312e-303  \n",
      "5  5.680068e-197  }\n"
     ]
    },
    {
     "data": {
      "application/vnd.jupyter.widget-view+json": {
       "model_id": "9c0ae49737b348b68fe0e8dccbcad230",
       "version_major": 2,
       "version_minor": 0
      },
      "text/plain": [
       "alg:   0%|          | 0/4 [00:00<?, ?it/s]"
      ]
     },
     "metadata": {},
     "output_type": "display_data"
    },
    {
     "name": "stdout",
     "output_type": "stream",
     "text": [
      "\n",
      "dim=32, dist=illcond_gaussian\n",
      "                      mala  hmc_vanilla  taylor_nograd  lanczos_nograd\n",
      "ess_mean         0.066045     0.393801       0.496935        0.460592\n",
      "ess_conf_sigma   0.000310     0.000861       0.006379        0.005195\n",
      "tv_mean          0.735675     0.127825       0.075207        0.074487\n",
      "tv_conf_sigma    0.013388     0.010183       0.006579        0.006924\n",
      "runtime          6.618736   165.850256     262.126618      280.979653\n",
      "chains_kept     30.000000    30.000000      30.000000       30.000000\n",
      "{8:             alg_A          alg_B  z(ESS_A>B)     p(ESS_A>B)  z(TV_A<B)  \\\n",
      "0  lanczos_nograd  taylor_nograd   -0.378649   6.475257e-01   0.907641   \n",
      "1  lanczos_nograd    hmc_vanilla    1.394653   8.156018e-02   3.411423   \n",
      "2  lanczos_nograd           mala   40.722003   0.000000e+00  44.125105   \n",
      "3   taylor_nograd    hmc_vanilla    1.772711   3.813830e-02   2.770505   \n",
      "4   taylor_nograd           mala   37.438620  4.600316e-307  44.568790   \n",
      "5     hmc_vanilla           mala  227.741796   0.000000e+00  35.477980   \n",
      "\n",
      "       p(TV_A<B)  \n",
      "0   1.820340e-01  \n",
      "1   3.231243e-04  \n",
      "2   0.000000e+00  \n",
      "3   2.798468e-03  \n",
      "4   0.000000e+00  \n",
      "5  5.372642e-276  , 16:             alg_A          alg_B  z(ESS_A>B)     p(ESS_A>B)  z(TV_A<B)  \\\n",
      "0  lanczos_nograd  taylor_nograd   33.649834  1.567726e-248   0.055210   \n",
      "1  lanczos_nograd    hmc_vanilla   12.833566   5.317706e-38   3.716978   \n",
      "2  lanczos_nograd           mala   46.336372   0.000000e+00  38.041625   \n",
      "3   taylor_nograd    hmc_vanilla  -49.532563   1.000000e+00   3.565242   \n",
      "4   taylor_nograd           mala   18.768937   6.778573e-79  37.179792   \n",
      "5     hmc_vanilla           mala  266.096142   0.000000e+00  29.918348   \n",
      "\n",
      "       p(TV_A<B)  \n",
      "0   4.779855e-01  \n",
      "1   1.008100e-04  \n",
      "2   0.000000e+00  \n",
      "3   1.817604e-04  \n",
      "4  7.238312e-303  \n",
      "5  5.680068e-197  , 32:             alg_A          alg_B  z(ESS_A>B)    p(ESS_A>B)  z(TV_A<B)  \\\n",
      "0  lanczos_nograd  taylor_nograd   -4.417652  9.999950e-01   0.075321   \n",
      "1  lanczos_nograd    hmc_vanilla   12.683167  3.665458e-37   4.331427   \n",
      "2  lanczos_nograd           mala   75.808923  0.000000e+00  43.868607   \n",
      "3   taylor_nograd    hmc_vanilla   16.023065  4.409690e-58   4.340146   \n",
      "4   taylor_nograd           mala   67.471287  0.000000e+00  44.276899   \n",
      "5     hmc_vanilla           mala  358.172675  0.000000e+00  36.137779   \n",
      "\n",
      "       p(TV_A<B)  \n",
      "0   4.699796e-01  \n",
      "1   7.407295e-06  \n",
      "2   0.000000e+00  \n",
      "3   7.119397e-06  \n",
      "4   0.000000e+00  \n",
      "5  2.894299e-286  }\n"
     ]
    },
    {
     "data": {
      "application/vnd.jupyter.widget-view+json": {
       "model_id": "b49c3ae31e9145ffb145428585adf358",
       "version_major": 2,
       "version_minor": 0
      },
      "text/plain": [
       "alg:   0%|          | 0/4 [00:00<?, ?it/s]"
      ]
     },
     "metadata": {},
     "output_type": "display_data"
    },
    {
     "name": "stdout",
     "output_type": "stream",
     "text": [
      "\n",
      "dim=64, dist=illcond_gaussian\n",
      "                      mala  hmc_vanilla  taylor_nograd  lanczos_nograd\n",
      "ess_mean         0.048735     0.377937       0.425587        0.480590\n",
      "ess_conf_sigma   0.000246     0.000956       0.006009        0.004482\n",
      "tv_mean          0.744813     0.133925       0.078397        0.090178\n",
      "tv_conf_sigma    0.008443     0.011375       0.006059        0.007896\n",
      "runtime          7.232476   182.517665     280.069489      304.262063\n",
      "chains_kept     30.000000    30.000000      30.000000       30.000000\n",
      "{8:             alg_A          alg_B  z(ESS_A>B)     p(ESS_A>B)  z(TV_A<B)  \\\n",
      "0  lanczos_nograd  taylor_nograd   -0.378649   6.475257e-01   0.907641   \n",
      "1  lanczos_nograd    hmc_vanilla    1.394653   8.156018e-02   3.411423   \n",
      "2  lanczos_nograd           mala   40.722003   0.000000e+00  44.125105   \n",
      "3   taylor_nograd    hmc_vanilla    1.772711   3.813830e-02   2.770505   \n",
      "4   taylor_nograd           mala   37.438620  4.600316e-307  44.568790   \n",
      "5     hmc_vanilla           mala  227.741796   0.000000e+00  35.477980   \n",
      "\n",
      "       p(TV_A<B)  \n",
      "0   1.820340e-01  \n",
      "1   3.231243e-04  \n",
      "2   0.000000e+00  \n",
      "3   2.798468e-03  \n",
      "4   0.000000e+00  \n",
      "5  5.372642e-276  , 16:             alg_A          alg_B  z(ESS_A>B)     p(ESS_A>B)  z(TV_A<B)  \\\n",
      "0  lanczos_nograd  taylor_nograd   33.649834  1.567726e-248   0.055210   \n",
      "1  lanczos_nograd    hmc_vanilla   12.833566   5.317706e-38   3.716978   \n",
      "2  lanczos_nograd           mala   46.336372   0.000000e+00  38.041625   \n",
      "3   taylor_nograd    hmc_vanilla  -49.532563   1.000000e+00   3.565242   \n",
      "4   taylor_nograd           mala   18.768937   6.778573e-79  37.179792   \n",
      "5     hmc_vanilla           mala  266.096142   0.000000e+00  29.918348   \n",
      "\n",
      "       p(TV_A<B)  \n",
      "0   4.779855e-01  \n",
      "1   1.008100e-04  \n",
      "2   0.000000e+00  \n",
      "3   1.817604e-04  \n",
      "4  7.238312e-303  \n",
      "5  5.680068e-197  , 32:             alg_A          alg_B  z(ESS_A>B)    p(ESS_A>B)  z(TV_A<B)  \\\n",
      "0  lanczos_nograd  taylor_nograd   -4.417652  9.999950e-01   0.075321   \n",
      "1  lanczos_nograd    hmc_vanilla   12.683167  3.665458e-37   4.331427   \n",
      "2  lanczos_nograd           mala   75.808923  0.000000e+00  43.868607   \n",
      "3   taylor_nograd    hmc_vanilla   16.023065  4.409690e-58   4.340146   \n",
      "4   taylor_nograd           mala   67.471287  0.000000e+00  44.276899   \n",
      "5     hmc_vanilla           mala  358.172675  0.000000e+00  36.137779   \n",
      "\n",
      "       p(TV_A<B)  \n",
      "0   4.699796e-01  \n",
      "1   7.407295e-06  \n",
      "2   0.000000e+00  \n",
      "3   7.119397e-06  \n",
      "4   0.000000e+00  \n",
      "5  2.894299e-286  , 64:             alg_A          alg_B  z(ESS_A>B)     p(ESS_A>B)  z(TV_A<B)  \\\n",
      "0  lanczos_nograd  taylor_nograd    7.337256   1.090087e-13  -1.183657   \n",
      "1  lanczos_nograd    hmc_vanilla   22.398579  2.031654e-111   3.159335   \n",
      "2  lanczos_nograd           mala   96.205957   0.000000e+00  56.630358   \n",
      "3   taylor_nograd    hmc_vanilla    7.831316   2.413940e-15   4.308559   \n",
      "4   taylor_nograd           mala   62.663471   0.000000e+00  64.128829   \n",
      "5     hmc_vanilla           mala  333.378187   0.000000e+00  43.125444   \n",
      "\n",
      "   p(TV_A<B)  \n",
      "0   0.881725  \n",
      "1   0.000791  \n",
      "2   0.000000  \n",
      "3   0.000008  \n",
      "4   0.000000  \n",
      "5   0.000000  }\n"
     ]
    },
    {
     "data": {
      "application/vnd.jupyter.widget-view+json": {
       "model_id": "4f23360e96be407ebcd74f42741994aa",
       "version_major": 2,
       "version_minor": 0
      },
      "text/plain": [
       "alg:   0%|          | 0/4 [00:00<?, ?it/s]"
      ]
     },
     "metadata": {},
     "output_type": "display_data"
    },
    {
     "name": "stdout",
     "output_type": "stream",
     "text": [
      "\n",
      "dim=128, dist=illcond_gaussian\n",
      "                      mala  hmc_vanilla  taylor_nograd  lanczos_nograd\n",
      "ess_mean         0.036469     0.382089       0.315951        0.372039\n",
      "ess_conf_sigma   0.000106     0.000865       0.002550        0.003483\n",
      "tv_mean          0.752353     0.150630       0.099410        0.105025\n",
      "tv_conf_sigma    0.006485     0.011711       0.008420        0.008368\n",
      "runtime          9.629123   194.273349     306.959897      329.523516\n",
      "chains_kept     30.000000    30.000000      30.000000       30.000000\n",
      "{8:             alg_A          alg_B  z(ESS_A>B)     p(ESS_A>B)  z(TV_A<B)  \\\n",
      "0  lanczos_nograd  taylor_nograd   -0.378649   6.475257e-01   0.907641   \n",
      "1  lanczos_nograd    hmc_vanilla    1.394653   8.156018e-02   3.411423   \n",
      "2  lanczos_nograd           mala   40.722003   0.000000e+00  44.125105   \n",
      "3   taylor_nograd    hmc_vanilla    1.772711   3.813830e-02   2.770505   \n",
      "4   taylor_nograd           mala   37.438620  4.600316e-307  44.568790   \n",
      "5     hmc_vanilla           mala  227.741796   0.000000e+00  35.477980   \n",
      "\n",
      "       p(TV_A<B)  \n",
      "0   1.820340e-01  \n",
      "1   3.231243e-04  \n",
      "2   0.000000e+00  \n",
      "3   2.798468e-03  \n",
      "4   0.000000e+00  \n",
      "5  5.372642e-276  , 16:             alg_A          alg_B  z(ESS_A>B)     p(ESS_A>B)  z(TV_A<B)  \\\n",
      "0  lanczos_nograd  taylor_nograd   33.649834  1.567726e-248   0.055210   \n",
      "1  lanczos_nograd    hmc_vanilla   12.833566   5.317706e-38   3.716978   \n",
      "2  lanczos_nograd           mala   46.336372   0.000000e+00  38.041625   \n",
      "3   taylor_nograd    hmc_vanilla  -49.532563   1.000000e+00   3.565242   \n",
      "4   taylor_nograd           mala   18.768937   6.778573e-79  37.179792   \n",
      "5     hmc_vanilla           mala  266.096142   0.000000e+00  29.918348   \n",
      "\n",
      "       p(TV_A<B)  \n",
      "0   4.779855e-01  \n",
      "1   1.008100e-04  \n",
      "2   0.000000e+00  \n",
      "3   1.817604e-04  \n",
      "4  7.238312e-303  \n",
      "5  5.680068e-197  , 32:             alg_A          alg_B  z(ESS_A>B)    p(ESS_A>B)  z(TV_A<B)  \\\n",
      "0  lanczos_nograd  taylor_nograd   -4.417652  9.999950e-01   0.075321   \n",
      "1  lanczos_nograd    hmc_vanilla   12.683167  3.665458e-37   4.331427   \n",
      "2  lanczos_nograd           mala   75.808923  0.000000e+00  43.868607   \n",
      "3   taylor_nograd    hmc_vanilla   16.023065  4.409690e-58   4.340146   \n",
      "4   taylor_nograd           mala   67.471287  0.000000e+00  44.276899   \n",
      "5     hmc_vanilla           mala  358.172675  0.000000e+00  36.137779   \n",
      "\n",
      "       p(TV_A<B)  \n",
      "0   4.699796e-01  \n",
      "1   7.407295e-06  \n",
      "2   0.000000e+00  \n",
      "3   7.119397e-06  \n",
      "4   0.000000e+00  \n",
      "5  2.894299e-286  , 64:             alg_A          alg_B  z(ESS_A>B)     p(ESS_A>B)  z(TV_A<B)  \\\n",
      "0  lanczos_nograd  taylor_nograd    7.337256   1.090087e-13  -1.183657   \n",
      "1  lanczos_nograd    hmc_vanilla   22.398579  2.031654e-111   3.159335   \n",
      "2  lanczos_nograd           mala   96.205957   0.000000e+00  56.630358   \n",
      "3   taylor_nograd    hmc_vanilla    7.831316   2.413940e-15   4.308559   \n",
      "4   taylor_nograd           mala   62.663471   0.000000e+00  64.128829   \n",
      "5     hmc_vanilla           mala  333.378187   0.000000e+00  43.125444   \n",
      "\n",
      "   p(TV_A<B)  \n",
      "0   0.881725  \n",
      "1   0.000791  \n",
      "2   0.000000  \n",
      "3   0.000008  \n",
      "4   0.000000  \n",
      "5   0.000000  , 128:             alg_A          alg_B  z(ESS_A>B)    p(ESS_A>B)  z(TV_A<B)  \\\n",
      "0  lanczos_nograd  taylor_nograd   12.993562  6.654278e-39  -0.472978   \n",
      "1  lanczos_nograd    hmc_vanilla   -2.800073  9.974454e-01   3.168438   \n",
      "2  lanczos_nograd           mala   96.293526  0.000000e+00  61.144972   \n",
      "3   taylor_nograd    hmc_vanilla  -24.564777  1.000000e+00   3.551035   \n",
      "4   taylor_nograd           mala  109.527189  0.000000e+00  61.436013   \n",
      "5     hmc_vanilla           mala  396.417734  0.000000e+00  44.949035   \n",
      "\n",
      "   p(TV_A<B)  \n",
      "0   0.681885  \n",
      "1   0.000766  \n",
      "2   0.000000  \n",
      "3   0.000192  \n",
      "4   0.000000  \n",
      "5   0.000000  }\n"
     ]
    },
    {
     "data": {
      "application/vnd.jupyter.widget-view+json": {
       "model_id": "5bad5e4053ec4e5e9faaa73e235efd7c",
       "version_major": 2,
       "version_minor": 0
      },
      "text/plain": [
       "alg:   0%|          | 0/4 [00:00<?, ?it/s]"
      ]
     },
     "metadata": {},
     "output_type": "display_data"
    },
    {
     "name": "stdout",
     "output_type": "stream",
     "text": [
      "\n",
      "dim=256, dist=illcond_gaussian\n",
      "                      mala  hmc_vanilla  taylor_nograd  lanczos_nograd\n",
      "ess_mean         0.027655     0.302333       0.385772        0.369545\n",
      "ess_conf_sigma   0.000115     0.001669       0.001225        0.001805\n",
      "tv_mean          0.744200     0.159458       0.136490        0.144938\n",
      "tv_conf_sigma    0.005276     0.012006       0.010931        0.011811\n",
      "runtime         14.093755   243.563731     382.145949      408.625550\n",
      "chains_kept     30.000000    30.000000      30.000000       30.000000\n",
      "{8:             alg_A          alg_B  z(ESS_A>B)     p(ESS_A>B)  z(TV_A<B)  \\\n",
      "0  lanczos_nograd  taylor_nograd   -0.378649   6.475257e-01   0.907641   \n",
      "1  lanczos_nograd    hmc_vanilla    1.394653   8.156018e-02   3.411423   \n",
      "2  lanczos_nograd           mala   40.722003   0.000000e+00  44.125105   \n",
      "3   taylor_nograd    hmc_vanilla    1.772711   3.813830e-02   2.770505   \n",
      "4   taylor_nograd           mala   37.438620  4.600316e-307  44.568790   \n",
      "5     hmc_vanilla           mala  227.741796   0.000000e+00  35.477980   \n",
      "\n",
      "       p(TV_A<B)  \n",
      "0   1.820340e-01  \n",
      "1   3.231243e-04  \n",
      "2   0.000000e+00  \n",
      "3   2.798468e-03  \n",
      "4   0.000000e+00  \n",
      "5  5.372642e-276  , 16:             alg_A          alg_B  z(ESS_A>B)     p(ESS_A>B)  z(TV_A<B)  \\\n",
      "0  lanczos_nograd  taylor_nograd   33.649834  1.567726e-248   0.055210   \n",
      "1  lanczos_nograd    hmc_vanilla   12.833566   5.317706e-38   3.716978   \n",
      "2  lanczos_nograd           mala   46.336372   0.000000e+00  38.041625   \n",
      "3   taylor_nograd    hmc_vanilla  -49.532563   1.000000e+00   3.565242   \n",
      "4   taylor_nograd           mala   18.768937   6.778573e-79  37.179792   \n",
      "5     hmc_vanilla           mala  266.096142   0.000000e+00  29.918348   \n",
      "\n",
      "       p(TV_A<B)  \n",
      "0   4.779855e-01  \n",
      "1   1.008100e-04  \n",
      "2   0.000000e+00  \n",
      "3   1.817604e-04  \n",
      "4  7.238312e-303  \n",
      "5  5.680068e-197  , 32:             alg_A          alg_B  z(ESS_A>B)    p(ESS_A>B)  z(TV_A<B)  \\\n",
      "0  lanczos_nograd  taylor_nograd   -4.417652  9.999950e-01   0.075321   \n",
      "1  lanczos_nograd    hmc_vanilla   12.683167  3.665458e-37   4.331427   \n",
      "2  lanczos_nograd           mala   75.808923  0.000000e+00  43.868607   \n",
      "3   taylor_nograd    hmc_vanilla   16.023065  4.409690e-58   4.340146   \n",
      "4   taylor_nograd           mala   67.471287  0.000000e+00  44.276899   \n",
      "5     hmc_vanilla           mala  358.172675  0.000000e+00  36.137779   \n",
      "\n",
      "       p(TV_A<B)  \n",
      "0   4.699796e-01  \n",
      "1   7.407295e-06  \n",
      "2   0.000000e+00  \n",
      "3   7.119397e-06  \n",
      "4   0.000000e+00  \n",
      "5  2.894299e-286  , 64:             alg_A          alg_B  z(ESS_A>B)     p(ESS_A>B)  z(TV_A<B)  \\\n",
      "0  lanczos_nograd  taylor_nograd    7.337256   1.090087e-13  -1.183657   \n",
      "1  lanczos_nograd    hmc_vanilla   22.398579  2.031654e-111   3.159335   \n",
      "2  lanczos_nograd           mala   96.205957   0.000000e+00  56.630358   \n",
      "3   taylor_nograd    hmc_vanilla    7.831316   2.413940e-15   4.308559   \n",
      "4   taylor_nograd           mala   62.663471   0.000000e+00  64.128829   \n",
      "5     hmc_vanilla           mala  333.378187   0.000000e+00  43.125444   \n",
      "\n",
      "   p(TV_A<B)  \n",
      "0   0.881725  \n",
      "1   0.000791  \n",
      "2   0.000000  \n",
      "3   0.000008  \n",
      "4   0.000000  \n",
      "5   0.000000  , 128:             alg_A          alg_B  z(ESS_A>B)    p(ESS_A>B)  z(TV_A<B)  \\\n",
      "0  lanczos_nograd  taylor_nograd   12.993562  6.654278e-39  -0.472978   \n",
      "1  lanczos_nograd    hmc_vanilla   -2.800073  9.974454e-01   3.168438   \n",
      "2  lanczos_nograd           mala   96.293526  0.000000e+00  61.144972   \n",
      "3   taylor_nograd    hmc_vanilla  -24.564777  1.000000e+00   3.551035   \n",
      "4   taylor_nograd           mala  109.527189  0.000000e+00  61.436013   \n",
      "5     hmc_vanilla           mala  396.417734  0.000000e+00  44.949035   \n",
      "\n",
      "   p(TV_A<B)  \n",
      "0   0.681885  \n",
      "1   0.000766  \n",
      "2   0.000000  \n",
      "3   0.000192  \n",
      "4   0.000000  \n",
      "5   0.000000  , 256:             alg_A          alg_B  z(ESS_A>B)     p(ESS_A>B)  z(TV_A<B)  \\\n",
      "0  lanczos_nograd  taylor_nograd   -7.438482   1.000000e+00  -0.524986   \n",
      "1  lanczos_nograd    hmc_vanilla   27.342064  6.710156e-165   0.862137   \n",
      "2  lanczos_nograd           mala  189.052157   0.000000e+00  46.324585   \n",
      "3   taylor_nograd    hmc_vanilla   40.298861   0.000000e+00   1.414643   \n",
      "4   taylor_nograd           mala  290.969840   0.000000e+00  50.068963   \n",
      "5     hmc_vanilla           mala  164.195782   0.000000e+00  44.590000   \n",
      "\n",
      "   p(TV_A<B)  \n",
      "0   0.700203  \n",
      "1   0.194306  \n",
      "2   0.000000  \n",
      "3   0.078587  \n",
      "4   0.000000  \n",
      "5   0.000000  }\n"
     ]
    }
   ],
   "source": [
    "chain_count = 30\n",
    "sample_count = 5000\n",
    "sample_iter_limit = 5000\n",
    "burn_in_iter_count = 5000\n",
    "step_size_burn_in_iter_count = 2500\n",
    "probe_period = 250000\n",
    "\n",
    "tv_threshold = 0.05\n",
    "tail_count_cap = 1000\n",
    "# stopping_rule = TVStop(threshold=tv_threshold, density_probe_count=1000,\n",
    "#                        projection_count=25, tail_count_cap=tail_count_cap)\n",
    "\n",
    "stopping_rule = NoStop(\n",
    "    density_probe_count=500,\n",
    "    projection_count=25,\n",
    "    tail_count_cap=tail_count_cap,\n",
    ")\n",
    "\n",
    "\n",
    "dist_names = [\n",
    "    # \"toeplitz_gm\",\n",
    "    # \"toeplitz_gaussian\",\n",
    "    # \"funnel\",\n",
    "    # \"random_gm\",\n",
    "    \"illcond_gaussian\",\n",
    "    #\"banana\",\n",
    "]\n",
    "\n",
    "dimensions = [8, 16, 32, 64, 128, 256]\n",
    "log = []\n",
    "\n",
    "for dist_name in dist_names:\n",
    "    algs = {\n",
    "        \"mala\": mala.MALAVanilla(\n",
    "            pipeline=None,\n",
    "            name=\"MALA\",\n",
    "            sigma_burn_in_params=hparams[\"mala\"][\"common\"].copy(),\n",
    "            sigma_burn_in_iter_count=burn_in_iter_count + step_size_burn_in_iter_count,\n",
    "            sample_iter_count=sample_iter_limit,\n",
    "            stopping_rule=stopping_rule,\n",
    "            probe_period=probe_period,\n",
    "        ),\n",
    "        # \"fisher_mala\": fishermala.FisherMALAVanilla(\n",
    "        #     pipeline=None,\n",
    "        #     name=\"FisherMALA\",\n",
    "        #     sigma_burn_in_iter_count=step_size_burn_in_iter_count,\n",
    "        #     #common_params=hparams[\"fisher_mala\"][\"common\"].copy(),\n",
    "        #     #fixed_params=hparams[\"fisher_mala\"][\"fixed\"],\n",
    "        #     prec_burn_in_iter_count=burn_in_iter_count,\n",
    "        #     sample_iter_count=sample_iter_limit,\n",
    "        #     stopping_rule=stopping_rule,\n",
    "        #     probe_period=probe_period,\n",
    "        # ),\n",
    "        \"hmc_vanilla\": hmc.HMCVanilla(\n",
    "            pipeline=None,\n",
    "            name=\"HMCVanilla\",\n",
    "            common_params=hparams[\"hmc_vanilla\"][\"common\"].copy(),\n",
    "            fixed_params=hparams[\"hmc_vanilla\"][\"fixed\"],\n",
    "            step_size_burn_in_iter_count=step_size_burn_in_iter_count,\n",
    "            sample_iter_count=sample_iter_limit,\n",
    "            burn_in_iter_count=burn_in_iter_count,\n",
    "            stopping_rule=stopping_rule,\n",
    "            probe_period=probe_period,\n",
    "            mask_adapt_step_size_required=[False, False, False],\n",
    "        ),\n",
    "        \"taylor_nograd\": hmcadaptive.HMCAdaptive(\n",
    "            pipeline=None,\n",
    "            name=\"HMCAdaptiveHutchTaylorNoGrad\",\n",
    "            common_params=hparams[\"taylor_nograd\"][\"common\"].copy(),\n",
    "            fixed_params=hparams[\"taylor_nograd\"][\"fixed\"],\n",
    "            step_size_burn_in_iter_count=step_size_burn_in_iter_count,\n",
    "            sample_iter_count=sample_iter_limit,\n",
    "            burn_in_iter_count=burn_in_iter_count,\n",
    "            stopping_rule=stopping_rule,\n",
    "            probe_period=probe_period,\n",
    "            mask_adapt_step_size_required=[False, False, False],\n",
    "        ),\n",
    "        \"lanczos_nograd\": hmcadaptive.HMCAdaptive(\n",
    "            pipeline=None,\n",
    "            name=\"HMCAdaptiveHutchLanczosNoGrad\",\n",
    "            common_params=hparams[\"lanczos_nograd\"][\"common\"].copy(),\n",
    "            fixed_params=hparams[\"lanczos_nograd\"][\"fixed\"],\n",
    "            step_size_burn_in_iter_count=step_size_burn_in_iter_count,\n",
    "            sample_iter_count=sample_iter_limit,\n",
    "            burn_in_iter_count=burn_in_iter_count,\n",
    "            stopping_rule=stopping_rule,\n",
    "            probe_period=probe_period,\n",
    "            mask_adapt_step_size_required=[False, False, False],\n",
    "        ),\n",
    "        # \"hmcadaptive_hutch_taylor\": hmcadaptive.HMCAdaptive(\n",
    "        #     pipeline=None,\n",
    "        #     name=\"HMCAdaptiveHutchTaylor\",\n",
    "        #     common_params=hparams[\"hmcadaptive_hutch_taylor\"][\"common\"].copy(),\n",
    "        #     fixed_params=hparams[\"hmcadaptive_hutch_taylor\"][\"fixed\"],\n",
    "        #     step_size_burn_in_iter_count=step_size_burn_in_iter_count,\n",
    "        #     sample_iter_count=sample_iter_limit,\n",
    "        #     burn_in_iter_count=burn_in_iter_count,\n",
    "        #     stopping_rule=stopping_rule,\n",
    "        #     probe_period=probe_period,\n",
    "        # ),\n",
    "        # \"hmcadaptive_fullent\": hmcadaptive.HMCAdaptive(\n",
    "        #     pipeline=None,\n",
    "        #     name=\"HMCAdaptiveFullEnt\",\n",
    "        #     params=hparams[\"hmcadaptive_fullent\"].copy(),\n",
    "        #     step_size_burn_in_iter_count=step_size_burn_in_iter_count,\n",
    "        #     sample_iter_count=sample_iter_limit,\n",
    "        #     burn_in_iter_count=burn_in_iter_count,\n",
    "        #     stopping_rule=stopping_rule,\n",
    "        #     probe_period=probe_period,\n",
    "        # ),\n",
    "        # \"hmcadaptive_noent\": hmcadaptive.HMCAdaptive(\n",
    "        #     pipeline=None,\n",
    "        #     name=\"HMCAdaptiveNoEnt\",\n",
    "        #     params=hparams[\"hmcadaptive_noent\"].copy(),\n",
    "        #     step_size_burn_in_iter_count=step_size_burn_in_iter_count,\n",
    "        #     sample_iter_count=sample_iter_limit,\n",
    "        #     burn_in_iter_count=burn_in_iter_count,\n",
    "        #     stopping_rule=stopping_rule,\n",
    "        #     probe_period=probe_period,\n",
    "        # ),\n",
    "    }\n",
    "    run_experiment(dist_name, log=log)"
   ]
  },
  {
   "cell_type": "code",
   "execution_count": null,
   "id": "fc3df7c4-32ba-4573-a4c7-973049bbd666",
   "metadata": {},
   "outputs": [],
   "source": [
    "import cloudpickle"
   ]
  },
  {
   "cell_type": "code",
   "execution_count": null,
   "id": "7158dea3-1cd9-4fb7-a222-2fc525358089",
   "metadata": {},
   "outputs": [],
   "source": [
    "# with open(\"exp_4.pkl\", \"wb\") as f:\n",
    "#     cloudpickle.dump(log, f)"
   ]
  },
  {
   "cell_type": "code",
   "execution_count": null,
   "id": "b9d34943-f01a-47a7-a569-467f1275fb9a",
   "metadata": {},
   "outputs": [],
   "source": [
    "plt.plot(\n",
    "    moving_average(\n",
    "        log[1][\"hist_data\"][256][\"taylor_nograd\"][\"cache\"].grad_norm\n",
    "    ),\n",
    ")\n",
    "plt.title(\"taylor_nograd\")"
   ]
  },
  {
   "cell_type": "code",
   "execution_count": null,
   "id": "e2a11194-e43d-45f7-8f66-5018da3e14d8",
   "metadata": {},
   "outputs": [],
   "source": [
    "plt.plot(\n",
    "    moving_average(\n",
    "        log[1][\"hist_data\"][256][\"lanczos_nograd\"][\"cache\"].grad_norm\n",
    "    ),\n",
    ")\n",
    "plt.title(\"lanczos_nograd\")"
   ]
  },
  {
   "cell_type": "code",
   "execution_count": 24,
   "id": "353af9d1-705c-49fb-8f4e-9d8b2821cb38",
   "metadata": {},
   "outputs": [
    {
     "name": "stdout",
     "output_type": "stream",
     "text": [
      "\n",
      "dim=8, dist=illcond_gaussian\n",
      "                      mala  hmc_vanilla  taylor_nograd  lanczos_nograd\n",
      "ess_mean         0.118840     0.472112       0.489760        0.484717\n",
      "ess_conf_sigma   0.000852     0.001297       0.009871        0.008944\n",
      "tv_mean          0.772475     0.134239       0.092562        0.081526\n",
      "tv_conf_sigma    0.012847     0.012593       0.008228        0.008954\n",
      "runtime          7.012681   159.788641     248.307939      265.705632\n",
      "chains_kept     30.000000    30.000000      30.000000       30.000000\n",
      "\n",
      "dim=16, dist=illcond_gaussian\n",
      "                      mala  hmc_vanilla  taylor_nograd  lanczos_nograd\n",
      "ess_mean         0.085888     0.336746       0.153926        0.433408\n",
      "ess_conf_sigma   0.000451     0.000828       0.003597        0.007486\n",
      "tv_mean          0.722676     0.132924       0.080415        0.079826\n",
      "tv_conf_sigma    0.015331     0.012391       0.007961        0.007109\n",
      "runtime          6.353755   160.649507     253.037065      271.383357\n",
      "chains_kept     30.000000    30.000000      30.000000       30.000000\n",
      "\n",
      "dim=32, dist=illcond_gaussian\n",
      "                      mala  hmc_vanilla  taylor_nograd  lanczos_nograd\n",
      "ess_mean         0.066045     0.393801       0.496935        0.460592\n",
      "ess_conf_sigma   0.000310     0.000861       0.006379        0.005195\n",
      "tv_mean          0.735675     0.127825       0.075207        0.074487\n",
      "tv_conf_sigma    0.013388     0.010183       0.006579        0.006924\n",
      "runtime          6.618736   165.850256     262.126618      280.979653\n",
      "chains_kept     30.000000    30.000000      30.000000       30.000000\n",
      "\n",
      "dim=64, dist=illcond_gaussian\n",
      "                      mala  hmc_vanilla  taylor_nograd  lanczos_nograd\n",
      "ess_mean         0.048735     0.377937       0.425587        0.480590\n",
      "ess_conf_sigma   0.000246     0.000956       0.006009        0.004482\n",
      "tv_mean          0.744813     0.133925       0.078397        0.090178\n",
      "tv_conf_sigma    0.008443     0.011375       0.006059        0.007896\n",
      "runtime          7.232476   182.517665     280.069489      304.262063\n",
      "chains_kept     30.000000    30.000000      30.000000       30.000000\n",
      "\n",
      "dim=128, dist=illcond_gaussian\n",
      "                      mala  hmc_vanilla  taylor_nograd  lanczos_nograd\n",
      "ess_mean         0.036469     0.382089       0.315951        0.372039\n",
      "ess_conf_sigma   0.000106     0.000865       0.002550        0.003483\n",
      "tv_mean          0.752353     0.150630       0.099410        0.105025\n",
      "tv_conf_sigma    0.006485     0.011711       0.008420        0.008368\n",
      "runtime          9.629123   194.273349     306.959897      329.523516\n",
      "chains_kept     30.000000    30.000000      30.000000       30.000000\n",
      "\n",
      "dim=256, dist=illcond_gaussian\n",
      "                      mala  hmc_vanilla  taylor_nograd  lanczos_nograd\n",
      "ess_mean         0.027655     0.302333       0.385772        0.369545\n",
      "ess_conf_sigma   0.000115     0.001669       0.001225        0.001805\n",
      "tv_mean          0.744200     0.159458       0.136490        0.144938\n",
      "tv_conf_sigma    0.005276     0.012006       0.010931        0.011811\n",
      "runtime         14.093755   243.563731     382.145949      408.625550\n",
      "chains_kept     30.000000    30.000000      30.000000       30.000000\n"
     ]
    }
   ],
   "source": [
    "print_log(log)"
   ]
  },
  {
   "cell_type": "code",
   "execution_count": null,
   "id": "fd0840e1-3e3b-4409-861a-82ac043d7ced",
   "metadata": {},
   "outputs": [],
   "source": [
    "plt.plot(log[0][\"hist_data\"][dimension][alg][\"cache\"].grad_norm)"
   ]
  },
  {
   "cell_type": "code",
   "execution_count": null,
   "id": "08799256-dbc2-42d2-8d94-01366c95c152",
   "metadata": {},
   "outputs": [],
   "source": [
    "\n",
    "plt.figure(figsize=(10, 6))\n",
    "window = 100  # adjust as needed\n",
    "\n",
    "for dimension in dimensions:\n",
    "    for alg in algs:\n",
    "        raw = log[0][\"hist_data\"][dimension][alg][\"cache\"].accept_prob_hist\n",
    "        smoothed = moving_average(np.array(raw), window_size=window)\n",
    "        label = f\"{alg} (dim={dimension})\"\n",
    "        plt.plot(smoothed, label=label, alpha=0.8)\n",
    "\n",
    "plt.xlabel(\"Iteration\")\n",
    "plt.ylabel(\"Smoothed Acceptance Probability\")\n",
    "plt.title(f\"Moving Average (window={window}) of Acceptance Probabilities\")\n",
    "plt.ylim(0, 1)\n",
    "plt.grid(True)\n",
    "plt.legend()\n",
    "plt.tight_layout()\n",
    "plt.show()\n"
   ]
  },
  {
   "cell_type": "code",
   "execution_count": null,
   "id": "b379a960-e1de-453b-b9a1-ab67873e6a94",
   "metadata": {},
   "outputs": [],
   "source": [
    "def moving_average(x, window_size=10):\n",
    "    return np.convolve(x, np.ones(window_size)/window_size, mode='valid')\n",
    "\n",
    "plt.figure(figsize=(10, 6))\n",
    "window = 100  # adjust as needed\n",
    "\n",
    "for dimension in dimensions:\n",
    "    for alg in algs:\n",
    "        raw = log[0][\"hist_data\"][dimension][alg][\"cache\"].accept_prob_hist\n",
    "        smoothed = moving_average(np.array(raw), window_size=window)\n",
    "        label = f\"{alg} (dim={dimension})\"\n",
    "        plt.plot(smoothed, label=label, alpha=0.8)\n",
    "\n",
    "plt.xlabel(\"Iteration\")\n",
    "plt.ylabel(\"Smoothed Acceptance Probability\")\n",
    "plt.title(f\"Moving Average (window={window}) of Acceptance Probabilities\")\n",
    "plt.ylim(0, 1)\n",
    "plt.grid(True)\n",
    "plt.legend()\n",
    "plt.tight_layout()\n",
    "plt.show()\n"
   ]
  },
  {
   "cell_type": "code",
   "execution_count": null,
   "id": "70c8c259-5acd-4800-a9c3-ddaca105a190",
   "metadata": {},
   "outputs": [],
   "source": [
    "algs[\"hmc_vanilla\"].pipeline.sample_blocks[-1].iteration.params.lf_step_size"
   ]
  },
  {
   "cell_type": "code",
   "execution_count": null,
   "id": "be119006-2a1b-4333-b4fa-cdf43b4fb1cd",
   "metadata": {},
   "outputs": [],
   "source": [
    "algs[\"hmc_vanilla\"].pipeline.sample_blocks[-1]"
   ]
  },
  {
   "cell_type": "code",
   "execution_count": null,
   "id": "b1d2a2b3-392b-4160-9ce1-f4e19f08fbd5",
   "metadata": {},
   "outputs": [],
   "source": [
    "BenchmarkUtils.create_plot(\n",
    "    algs[\"mala\"].pipeline.sample_blocks[-1].iteration.cache.samples[:, [0], :],\n",
    "    algs[\"mala\"].pipeline.sample_blocks[-1].iteration.cache.true_samples\n",
    ")"
   ]
  },
  {
   "cell_type": "code",
   "execution_count": null,
   "id": "23f62dbf-ad9b-453a-bef7-b1681eb00ca3",
   "metadata": {},
   "outputs": [],
   "source": [
    "BenchmarkUtils.create_plot(\n",
    "    algs[\"fisher_mala\"].pipeline.sample_blocks[-1].iteration.cache.samples[:, [0], :],\n",
    "    algs[\"fisher_mala\"].pipeline.sample_blocks[-1].iteration.cache.true_samples\n",
    ")"
   ]
  },
  {
   "cell_type": "code",
   "execution_count": null,
   "id": "c8651ec8-1a6e-4473-9a22-1ca81eb0bebb",
   "metadata": {},
   "outputs": [],
   "source": [
    "BenchmarkUtils.create_plot(\n",
    "    log[0][\"hist_data\"][4][\"fisher_mala\"][\"cache\"].samples[:, :, :],\n",
    "    log[0][\"hist_data\"][4][\"fisher_mala\"][\"cache\"].true_samples,\n",
    ")"
   ]
  },
  {
   "cell_type": "code",
   "execution_count": null,
   "id": "fca6b74a-b593-4834-a607-f2524453fabc",
   "metadata": {},
   "outputs": [],
   "source": [
    "BenchmarkUtils.create_plot(\n",
    "    log[0][\"hist_data\"][256][\"mala\"][\"cache\"].samples[:, [2], :],\n",
    "    log[0][\"hist_data\"][256][\"mala\"][\"cache\"].true_samples,\n",
    ")"
   ]
  },
  {
   "cell_type": "code",
   "execution_count": null,
   "id": "4610b9ff-031f-460a-bd6f-31a2c3386680",
   "metadata": {},
   "outputs": [],
   "source": [
    "print(f\"{' ' * 30}HMC\")\n",
    "BenchmarkUtils.create_plot(\n",
    "    log[0][\"hist_data\"][256][\"hmc_vanilla\"][\"cache\"].samples[:, :, :],\n",
    "    log[0][\"hist_data\"][256][\"hmc_vanilla\"][\"cache\"].true_samples,\n",
    ")"
   ]
  },
  {
   "cell_type": "code",
   "execution_count": null,
   "id": "f2faa5c9-f3e8-4b8c-9996-ee4cc68cf2f8",
   "metadata": {},
   "outputs": [],
   "source": [
    "print(f\"{' ' * 30}HMC Taylor\")\n",
    "BenchmarkUtils.create_plot(\n",
    "    log[0][\"hist_data\"][256][\"taylor_nograd\"][\"cache\"].samples[:, :, :],\n",
    "    log[0][\"hist_data\"][256][\"taylor_nograd\"][\"cache\"].true_samples,\n",
    ")"
   ]
  },
  {
   "cell_type": "code",
   "execution_count": null,
   "id": "bbd6a731-27d5-4cff-acab-df9daad8a66a",
   "metadata": {},
   "outputs": [],
   "source": [
    "print(f\"{' ' * 30}HMC Lanczos\")\n",
    "BenchmarkUtils.create_plot(\n",
    "    log[0][\"hist_data\"][256][\"lanczos_nograd\"][\"cache\"].samples[:, :, :],\n",
    "    log[0][\"hist_data\"][256][\"lanczos_nograd\"][\"cache\"].true_samples,\n",
    ")"
   ]
  },
  {
   "cell_type": "code",
   "execution_count": null,
   "id": "2dc56102-6c10-40a6-be19-5dfa810e9762",
   "metadata": {},
   "outputs": [],
   "source": [
    "BenchmarkUtils.create_plot(\n",
    "    algs[\"hmc_vanilla\"].pipeline.sample_blocks[-1].iteration.cache.samples[:, [2], :],\n",
    "    algs[\"hmc_vanilla\"].pipeline.sample_blocks[-1].iteration.cache.true_samples\n",
    ")"
   ]
  },
  {
   "cell_type": "code",
   "execution_count": null,
   "id": "4f6e6229-2657-4ffa-b15f-c568464f3564",
   "metadata": {},
   "outputs": [],
   "source": []
  },
  {
   "cell_type": "code",
   "execution_count": null,
   "id": "fc3ce7c8-6afb-46d5-99ee-84298bee004c",
   "metadata": {},
   "outputs": [],
   "source": [
    "BenchmarkUtils.create_plot(\n",
    "    algs[\"hmc_vanilla\"].pipeline.sample_blocks[-1].iteration.cache.samples[:, [2], :],\n",
    "    algs[\"hmc_vanilla\"].pipeline.sample_blocks[-1].iteration.cache.true_samples\n",
    ")"
   ]
  },
  {
   "cell_type": "code",
   "execution_count": null,
   "id": "f139b701-ff5a-4d9c-99f2-693514a48d36",
   "metadata": {},
   "outputs": [],
   "source": []
  },
  {
   "cell_type": "code",
   "execution_count": null,
   "id": "492ce214-b3f8-4e01-b757-f220d46bad58",
   "metadata": {},
   "outputs": [],
   "source": []
  },
  {
   "cell_type": "code",
   "execution_count": null,
   "id": "197851c1-ef94-471b-8f88-1dfa5f7aa27e",
   "metadata": {},
   "outputs": [],
   "source": [
    "BenchmarkUtils.create_plot(\n",
    "    algs[\"hmcadaptive_hutch_taylor\"].pipeline.sample_blocks[0].iteration.cache.samples[:, [2], :],\n",
    "    algs[\"hmcadaptive_hutch_taylor\"].pipeline.sample_blocks[-1].iteration.cache.true_samples\n",
    ")"
   ]
  },
  {
   "cell_type": "code",
   "execution_count": null,
   "id": "dd3a08aa-531b-4e92-967d-15941c853823",
   "metadata": {},
   "outputs": [],
   "source": [
    "BenchmarkUtils.create_plot(\n",
    "    algs[\"hmcadaptive_hutch_lanczos\"].pipeline.sample_blocks[-1].iteration.cache.samples[:, [0], :],\n",
    "    algs[\"hmcadaptive_hutch_lanczos\"].pipeline.sample_blocks[-1].iteration.cache.true_samples\n",
    ")"
   ]
  },
  {
   "cell_type": "code",
   "execution_count": null,
   "id": "c41a4f4b-a23c-44f3-a36e-86c9db69379d",
   "metadata": {},
   "outputs": [],
   "source": [
    "BenchmarkUtils.create_plot(\n",
    "    algs[\"hmcadaptive_fullent\"].pipeline.sample_blocks[-1].iteration.cache.samples[:, [1], :],\n",
    "    algs[\"hmcadaptive_fullent\"].pipeline.sample_blocks[-1].iteration.cache.true_samples\n",
    ")"
   ]
  },
  {
   "cell_type": "code",
   "execution_count": null,
   "id": "90e00839-8cf9-4eb4-a3d8-50f483508288",
   "metadata": {},
   "outputs": [],
   "source": []
  },
  {
   "cell_type": "code",
   "execution_count": null,
   "id": "cb166a5b-973b-4681-8a27-a8ab80279ede",
   "metadata": {},
   "outputs": [],
   "source": [
    "tv_threshold = 0.05"
   ]
  },
  {
   "cell_type": "code",
   "execution_count": null,
   "id": "35f27e81-e102-4496-9304-c72eb6dd1613",
   "metadata": {},
   "outputs": [],
   "source": [
    "pure_runtime"
   ]
  },
  {
   "cell_type": "code",
   "execution_count": null,
   "id": "55a62015-e364-4cca-a061-20e569039223",
   "metadata": {},
   "outputs": [],
   "source": [
    "runtime"
   ]
  },
  {
   "cell_type": "code",
   "execution_count": null,
   "id": "10129bb9-fa3b-450b-8a18-120fe2b82ee0",
   "metadata": {},
   "outputs": [],
   "source": [
    "fig, axes = plt.subplots(\n",
    "    nrows=len(dimensions),\n",
    "    ncols=2,\n",
    "    figsize=(13, 4 * len(dimensions),)\n",
    ")\n",
    "fig.suptitle(\n",
    "    f\"at most {tail_count_cap} last samples, burn-in={burn_in_iter_count}, \"\n",
    "    f\"chain_count={chain_count}, \"\n",
    "    f\"TV threshold={tv_threshold}\\n\" +\n",
    "    f\"mixture of {gaussian_count} gaussians with \"\n",
    "    \"random means and covariance matrices\"\n",
    ")\n",
    "\n",
    "for dim_ind in range(len(dimensions)):\n",
    "    for alg_ind, alg in enumerate(algs.keys()):\n",
    "\n",
    "        ticks_count = len(hist_data[dimensions[dim_ind]][alg][1])\n",
    "        xticks = probe_period * jnp.arange(1, ticks_count + 1)\n",
    "\n",
    "        axes[dim_ind, alg_ind].plot(\n",
    "            xticks,\n",
    "            [\n",
    "                entry[\"tv_mean\"]\n",
    "                for entry in hist_data[dimensions[dim_ind]][alg][1]\n",
    "            ],\n",
    "            label=\"TV mean\"\n",
    "        )\n",
    "        axes[dim_ind, alg_ind].fill_between(\n",
    "            xticks,\n",
    "            [\n",
    "                entry[\"tv_mean\"] - 2 * entry[\"tv_std\"]\n",
    "                for entry in hist_data[dimensions[dim_ind]][alg][1]\n",
    "            ],\n",
    "            [\n",
    "                entry[\"tv_mean\"] + 2 * entry[\"tv_std\"]\n",
    "                for entry in hist_data[dimensions[dim_ind]][alg][1]\n",
    "            ],\n",
    "            alpha=0.1,\n",
    "            label=\"95% CI\"\n",
    "        )\n",
    "        axes[dim_ind, alg_ind].axhline(tv_threshold, color=\"r\", linestyle=\"dashed\")\n",
    "        axes[dim_ind, alg_ind].set_title(f\"{alg}, dim={dimensions[dim_ind]}\")\n",
    "        if dim_ind + 1 == len(dimensions):\n",
    "            axes[dim_ind, alg_ind].set_xlabel(\"iteration\")\n",
    "        axes[dim_ind, alg_ind].set_ylabel(\"TV\")\n",
    "        axes[dim_ind, alg_ind].legend()"
   ]
  },
  {
   "cell_type": "code",
   "execution_count": null,
   "id": "8a6ff13a-0a74-4f14-b417-c53ca628ea95",
   "metadata": {},
   "outputs": [],
   "source": [
    "BenchmarkUtils.compute_metrics(\n",
    "    algs[\"mala\"].pipeline.sample_blocks[-1].iteration.cache.samples,\n",
    "    algs[\"mala\"].pipeline.sample_blocks[-1].iteration.cache.true_samples\n",
    ")"
   ]
  },
  {
   "cell_type": "code",
   "execution_count": null,
   "id": "f6cdc433-bb7d-458f-af21-1b3fef3cad21",
   "metadata": {},
   "outputs": [],
   "source": [
    "BenchmarkUtils.compute_metrics(\n",
    "    algs[\"fisher_mala\"].pipeline.sample_blocks[-1].iteration.cache.samples,\n",
    "    algs[\"fisher_mala\"].pipeline.sample_blocks[-1].iteration.cache.true_samples\n",
    ")"
   ]
  },
  {
   "cell_type": "code",
   "execution_count": null,
   "id": "67144eea-084e-426d-8bf5-c690cc8bf1a5",
   "metadata": {},
   "outputs": [],
   "source": [
    "BenchmarkUtils.compute_metrics(\n",
    "    algs[\"hmc_vanilla\"].pipeline.sample_blocks[-1].iteration.cache.samples,\n",
    "    algs[\"hmc_vanilla\"].pipeline.sample_blocks[-1].iteration.cache.true_samples\n",
    ")"
   ]
  },
  {
   "cell_type": "code",
   "execution_count": null,
   "id": "cb6b7cba-6c88-4f16-afcc-417223994b22",
   "metadata": {},
   "outputs": [],
   "source": [
    "BenchmarkUtils.compute_metrics(\n",
    "    algs[\"hmcadaptive_hutch\"].pipeline.sample_blocks[-1].iteration.cache.samples,\n",
    "    algs[\"hmcadaptive_hutch\"].pipeline.sample_blocks[-1].iteration.cache.true_samples\n",
    ")"
   ]
  },
  {
   "cell_type": "code",
   "execution_count": null,
   "id": "54d63ebd-e4e6-4c18-8485-1d0de06ce627",
   "metadata": {},
   "outputs": [],
   "source": [
    "algs[\"fisher_mala\"].pipeline.sample_blocks[-1].iteration.params.sigma_prec"
   ]
  },
  {
   "cell_type": "code",
   "execution_count": null,
   "id": "5a07a753-7276-41fe-bf1f-0dab34742f2b",
   "metadata": {},
   "outputs": [],
   "source": [
    "algs[\"lanczos_nograd\"].pipeline.sample_blocks[-1].iteration.common_params.entropy_weight.squeeze()"
   ]
  },
  {
   "cell_type": "code",
   "execution_count": null,
   "id": "979fb9fc-1b64-4f08-a550-a8eff9105245",
   "metadata": {},
   "outputs": [],
   "source": [
    "algs[\"hmcadaptive_hutch_taylor\"].pipeline.sample_blocks[-1].iteration.common_params.entropy_weight.squeeze()"
   ]
  },
  {
   "cell_type": "code",
   "execution_count": null,
   "id": "20d3fa6c-fcd9-4b93-a88e-467d4c0ebffe",
   "metadata": {},
   "outputs": [],
   "source": [
    "algs[\"taylor_nograd\"].pipeline.sample_blocks[-1].iteration.common_params.entropy_weight.squeeze()"
   ]
  },
  {
   "cell_type": "code",
   "execution_count": null,
   "id": "f5e4c85b-a287-4021-afc8-a13de41195bc",
   "metadata": {},
   "outputs": [],
   "source": [
    "algs[\"hmcadaptive_fullent\"].pipeline.sample_blocks[-1].iteration.params.entropy_weight.squeeze()"
   ]
  },
  {
   "cell_type": "code",
   "execution_count": null,
   "id": "78e93069-acf2-4466-a81a-c2eba9953ac7",
   "metadata": {},
   "outputs": [],
   "source": [
    "algs[\"hmcadaptive_hutch_taylor\"].pipeline.sample_blocks[-1].iteration.params.penalty_weight.squeeze()"
   ]
  },
  {
   "cell_type": "code",
   "execution_count": null,
   "id": "d15d77d0-799d-483c-99fb-71c92c349548",
   "metadata": {},
   "outputs": [],
   "source": [
    "prec = algs[\"fisher_mala\"].pipeline.sample_blocks[-1].iteration.params.prec[1].detach().numpy()\n",
    "minv = prec @ prec.T"
   ]
  },
  {
   "cell_type": "code",
   "execution_count": null,
   "id": "04277212-a134-44a0-8ae3-584376bcc2bd",
   "metadata": {},
   "outputs": [],
   "source": [
    "prec = algs[\"hmcadaptive_hutch_taylor\"].pipeline.sample_blocks[-1].iteration.cache.prec_params.make_prec()[1].detach().numpy()\n",
    "minv = prec @ prec.T"
   ]
  },
  {
   "cell_type": "code",
   "execution_count": null,
   "id": "ab3b0136-de75-44ff-90e1-b09b073f0063",
   "metadata": {},
   "outputs": [],
   "source": [
    "algs[\"hmcadaptive_hutch_lanczos\"].pipeline.sample_blocks[1].iteration.params.lf_step_size"
   ]
  },
  {
   "cell_type": "code",
   "execution_count": null,
   "id": "6406bbfe-722f-4ba2-9d71-e39a40138cb0",
   "metadata": {},
   "outputs": [],
   "source": [
    "algs[\"hmcadaptive_hutch_taylor\"].pipeline.sample_blocks[0].iteration.params.lf_step_size"
   ]
  },
  {
   "cell_type": "code",
   "execution_count": null,
   "id": "ee884514-7a7b-44bc-87b5-aec3ba5a6a59",
   "metadata": {},
   "outputs": [],
   "source": [
    "minv"
   ]
  },
  {
   "cell_type": "code",
   "execution_count": null,
   "id": "08631321-e51b-4fc5-b43d-15359b0bbd71",
   "metadata": {},
   "outputs": [],
   "source": [
    "prec = algs[\"taylor_nograd\"].pipeline.sample_blocks[-1].iteration.cache.prec_params.make_prec()[1].detach().numpy()\n",
    "minv = prec @ prec.T\n",
    "plt.imshow(minv)"
   ]
  },
  {
   "cell_type": "code",
   "execution_count": null,
   "id": "c284bea5-92fe-4d6a-8422-775428e9c499",
   "metadata": {},
   "outputs": [],
   "source": [
    "diff = minv - minv_l"
   ]
  },
  {
   "cell_type": "code",
   "execution_count": null,
   "id": "5bbb054f-ffc7-4d1e-b779-e020f55f31c2",
   "metadata": {},
   "outputs": [],
   "source": [
    "plt.hist(diff[range(len(diff)), range(len(diff))])"
   ]
  },
  {
   "cell_type": "code",
   "execution_count": null,
   "id": "82e60aaf-b26a-405f-8033-1cc4ab54f6f0",
   "metadata": {},
   "outputs": [],
   "source": [
    "prec = algs[\"hmcadaptive_hutch_taylor\"].pipeline.sample_blocks[-1].iteration.cache.prec_params.make_prec()[1].detach().numpy()\n",
    "minv = prec @ prec.T\n",
    "plt.imshow(minv)"
   ]
  },
  {
   "cell_type": "code",
   "execution_count": null,
   "id": "0a38cc5a-f94b-47bd-bf41-0410825617d3",
   "metadata": {},
   "outputs": [],
   "source": [
    "prec = algs[\"fisher_mala\"].pipeline.sample_blocks[-1].iteration.cache.prec[1].detach().numpy()\n",
    "minv_l = prec @ prec.T\n",
    "plt.imshow(minv_l)"
   ]
  },
  {
   "cell_type": "code",
   "execution_count": null,
   "id": "992cab78-60ec-4383-b78e-f0cd633958ab",
   "metadata": {},
   "outputs": [],
   "source": [
    "minv_l"
   ]
  },
  {
   "cell_type": "code",
   "execution_count": null,
   "id": "2ab51f09-9d9b-4ada-8560-3ab223d7d10b",
   "metadata": {},
   "outputs": [],
   "source": [
    "prec = algs[\"lanczos_nograd\"].pipeline.sample_blocks[-1].iteration.cache.prec_params.make_prec()[1].detach().numpy()\n",
    "minv_l = prec @ prec.T\n",
    "plt.imshow(minv_l)"
   ]
  },
  {
   "cell_type": "code",
   "execution_count": null,
   "id": "e5568224-c767-420e-8add-c733fd8d8fd8",
   "metadata": {},
   "outputs": [],
   "source": [
    "minv_l"
   ]
  },
  {
   "cell_type": "code",
   "execution_count": null,
   "id": "985b80a9-5232-4eed-a8c2-07218f2421c0",
   "metadata": {},
   "outputs": [],
   "source": [
    "prec = algs[\"hmcadaptive_fullent\"].pipeline.sample_blocks[-1].iteration.cache.prec[19].detach().numpy()\n",
    "minv = prec @ prec.T\n",
    "plt.imshow(minv)"
   ]
  },
  {
   "cell_type": "code",
   "execution_count": null,
   "id": "667ec0f3-d584-4f96-a6b0-30f5aadd815d",
   "metadata": {},
   "outputs": [],
   "source": [
    "minv"
   ]
  },
  {
   "cell_type": "code",
   "execution_count": null,
   "id": "8523c44e-17ac-47ad-aea1-105e2c258c95",
   "metadata": {},
   "outputs": [],
   "source": [
    "prec = algs[\"hmcadaptive_noent\"].pipeline.sample_blocks[-1].iteration.cache.prec[1].detach().numpy()\n",
    "minv = prec @ prec.T\n",
    "plt.imshow(minv)"
   ]
  },
  {
   "cell_type": "code",
   "execution_count": null,
   "id": "7587af9e-dda7-4cb9-a9fb-270ffadf3b3d",
   "metadata": {},
   "outputs": [],
   "source": [
    "BenchmarkUtils.compute_metrics(\n",
    "    algs[\"hmcadaptive_hutch\"].pipeline.sample_blocks[-1].iteration.cache.samples,\n",
    "    algs[\"hmcadaptive_hutch\"].pipeline.sample_blocks[-1].iteration.cache.true_samples,\n",
    ")"
   ]
  },
  {
   "cell_type": "code",
   "execution_count": null,
   "id": "05d39474-2286-4277-bdb0-7b0ec14b4e4f",
   "metadata": {},
   "outputs": [],
   "source": [
    "BenchmarkUtils.compute_metrics(\n",
    "    algs[\"hmcadaptive_hutch\"].pipeline.sample_blocks[-1].iteration.cache.samples,\n",
    "    algs[\"hmcadaptive_hutch\"].pipeline.sample_blocks[-1].iteration.cache.true_samples,\n",
    ")"
   ]
  },
  {
   "cell_type": "markdown",
   "id": "567fa5c1-48cc-4472-bde8-0538aae1cc17",
   "metadata": {},
   "source": [
    "### Reference"
   ]
  },
  {
   "cell_type": "code",
   "execution_count": null,
   "id": "f414f8fd-3fe3-4eef-aa49-4dfd95883327",
   "metadata": {},
   "outputs": [],
   "source": [
    "BenchmarkUtils.compute_metrics(\n",
    "    algs[\"fisher_mala\"].pipeline.sample_blocks[-1].iteration.cache.samples,\n",
    "    algs[\"fisher_mala\"].pipeline.sample_blocks[-1].iteration.cache.true_samples\n",
    ")"
   ]
  },
  {
   "cell_type": "code",
   "execution_count": null,
   "id": "44757f5e-3a5f-4c3f-b7b6-36c68f06dd9d",
   "metadata": {},
   "outputs": [],
   "source": [
    "BenchmarkUtils.compute_metrics(\n",
    "    algs[\"mala\"].pipeline.sample_blocks[-1].iteration.cache.samples,\n",
    "    algs[\"mala\"].pipeline.sample_blocks[-1].iteration.cache.true_samples\n",
    ")"
   ]
  },
  {
   "cell_type": "code",
   "execution_count": null,
   "id": "ea243954-183b-48d6-ac64-5d98320a1919",
   "metadata": {},
   "outputs": [],
   "source": []
  }
 ],
 "metadata": {
  "kernelspec": {
   "display_name": "Python 3 (ipykernel)",
   "language": "python",
   "name": "python3"
  },
  "language_info": {
   "codemirror_mode": {
    "name": "ipython",
    "version": 3
   },
   "file_extension": ".py",
   "mimetype": "text/x-python",
   "name": "python",
   "nbconvert_exporter": "python",
   "pygments_lexer": "ipython3",
   "version": "3.12.0"
  }
 },
 "nbformat": 4,
 "nbformat_minor": 5
}
