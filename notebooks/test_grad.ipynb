{
 "cells": [
  {
   "cell_type": "code",
   "execution_count": 114,
   "id": "f2519418-68fd-499e-9eb4-3b6d44581e24",
   "metadata": {},
   "outputs": [],
   "source": [
    "import torch\n",
    "\n",
    "def pot(x):\n",
    "    return (x ** 3).sum(dim=-1)\n",
    "\n",
    "def gradpot(x):\n",
    "    return torch.autograd.grad(\n",
    "        pot(x).sum(),\n",
    "        x,\n",
    "        retain_graph=True,\n",
    "        create_graph=True,\n",
    "    )[0]\n",
    "\n",
    "def DL2(x, v):\n",
    "    return torch.autograd.functional.vjp(\n",
    "        gradpot,\n",
    "        x,\n",
    "        v,\n",
    "        create_graph=True,\n",
    "    )[1]\n",
    "\n",
    "\n",
    "def DL(x, v):\n",
    "    z = torch.autograd.functional.hvp(\n",
    "        lambda y: pot(y).sum(),\n",
    "        x,\n",
    "        v,\n",
    "        create_graph=True,\n",
    "    )[1]\n",
    "    return z\n",
    "\n",
    "\n",
    "def test():\n",
    "    b, d = 1000, 1000\n",
    "    w = (1.*torch.arange(b*d).reshape(b, d)).requires_grad_()\n",
    "    x = (toch.log(torch.exp(torch.sin(w) * 13) + 12.) * .01).pow(-1)\n",
    "    v = torch.linspace(0,1, b*d).reshape(b,d)*1.\n",
    "    \n",
    "    loss = DL(x, v).sum() \n",
    "    loss.backward()\n",
    "\n",
    "def test1():\n",
    "    b, d = 1000, 1000\n",
    "    w = (1.*torch.arange(b*d).reshape(b, d)).requires_grad_()\n",
    "    x = (toch.log(torch.exp(torch.sin(w) * 13) + 12.) * .01).pow(-1)\n",
    "    v = torch.linspace(0,1, b*d).reshape(b,d)*1.\n",
    "    \n",
    "    loss = DL1(x, v).sum() \n",
    "    loss.backward()\n"
   ]
  },
  {
   "cell_type": "code",
   "execution_count": 115,
   "id": "0f78cd89-a387-4b8c-8186-9009e08b7687",
   "metadata": {},
   "outputs": [
    {
     "name": "stdout",
     "output_type": "stream",
     "text": [
      "6.87 ns ± 0.0695 ns per loop (mean ± std. dev. of 7 runs, 100,000,000 loops each)\n"
     ]
    }
   ],
   "source": [
    "%timeit test"
   ]
  },
  {
   "cell_type": "code",
   "execution_count": 116,
   "id": "c8631f63-ba42-43d1-9e7f-f08c4467d948",
   "metadata": {},
   "outputs": [
    {
     "name": "stdout",
     "output_type": "stream",
     "text": [
      "6.82 ns ± 0.027 ns per loop (mean ± std. dev. of 7 runs, 100,000,000 loops each)\n"
     ]
    }
   ],
   "source": [
    "%timeit test1"
   ]
  },
  {
   "cell_type": "code",
   "execution_count": 105,
   "id": "d17e5dde-a20b-4324-9f73-dfb7827f7617",
   "metadata": {},
   "outputs": [
    {
     "data": {
      "text/plain": [
       "tensor(165360., grad_fn=<SumBackward0>)"
      ]
     },
     "execution_count": 105,
     "metadata": {},
     "output_type": "execute_result"
    }
   ],
   "source": [
    "DL(x, v).sum()"
   ]
  },
  {
   "cell_type": "code",
   "execution_count": 103,
   "id": "d7098cd5-2faf-44bc-972f-8a8723d4b969",
   "metadata": {},
   "outputs": [
    {
     "data": {
      "text/plain": [
       "tensor([[ 0.0000,  0.9873,  1.9747,  2.9620,  3.9494,  4.9367,  5.9241,  6.9114],\n",
       "        [ 7.8987,  8.8861,  9.8734, 10.8608, 11.8481, 12.8354, 13.8228, 14.8101],\n",
       "        [15.7975, 16.7848, 17.7722, 18.7595, 19.7468, 20.7342, 21.7215, 22.7089],\n",
       "        [23.6962, 24.6835, 25.6709, 26.6582, 27.6456, 28.6329, 29.6203, 30.6076],\n",
       "        [31.5949, 32.5823, 33.5696, 34.5570, 35.5443, 36.5316, 37.5190, 38.5063],\n",
       "        [39.4937, 40.4810, 41.4684, 42.4557, 43.4430, 44.4304, 45.4177, 46.4051],\n",
       "        [47.3924, 48.3797, 49.3671, 50.3544, 51.3418, 52.3291, 53.3165, 54.3038],\n",
       "        [55.2911, 56.2785, 57.2658, 58.2532, 59.2405, 60.2278, 61.2152, 62.2025],\n",
       "        [63.1899, 64.1772, 65.1646, 66.1519, 67.1392, 68.1266, 69.1139, 70.1013],\n",
       "        [71.0886, 72.0760, 73.0633, 74.0506, 75.0380, 76.0253, 77.0127, 78.0000]])"
      ]
     },
     "execution_count": 103,
     "metadata": {},
     "output_type": "execute_result"
    }
   ],
   "source": [
    "w.grad"
   ]
  },
  {
   "cell_type": "code",
   "execution_count": 101,
   "id": "f301a828-2d6c-4813-b281-351e21579091",
   "metadata": {},
   "outputs": [
    {
     "data": {
      "text/plain": [
       "tensor([[ 0.0000,  0.9873,  1.9747,  2.9620,  3.9494,  4.9367,  5.9241,  6.9114],\n",
       "        [ 7.8987,  8.8861,  9.8734, 10.8608, 11.8481, 12.8354, 13.8228, 14.8101],\n",
       "        [15.7975, 16.7848, 17.7722, 18.7595, 19.7468, 20.7342, 21.7215, 22.7089],\n",
       "        [23.6962, 24.6835, 25.6709, 26.6582, 27.6456, 28.6329, 29.6203, 30.6076],\n",
       "        [31.5949, 32.5823, 33.5696, 34.5570, 35.5443, 36.5316, 37.5190, 38.5063],\n",
       "        [39.4937, 40.4810, 41.4684, 42.4557, 43.4430, 44.4304, 45.4177, 46.4051],\n",
       "        [47.3924, 48.3797, 49.3671, 50.3544, 51.3418, 52.3291, 53.3165, 54.3038],\n",
       "        [55.2911, 56.2785, 57.2658, 58.2532, 59.2405, 60.2278, 61.2152, 62.2025],\n",
       "        [63.1899, 64.1772, 65.1646, 66.1519, 67.1392, 68.1266, 69.1139, 70.1013],\n",
       "        [71.0886, 72.0760, 73.0633, 74.0506, 75.0380, 76.0253, 77.0127, 78.0000]])"
      ]
     },
     "execution_count": 101,
     "metadata": {},
     "output_type": "execute_result"
    }
   ],
   "source": [
    "w.grad"
   ]
  },
  {
   "cell_type": "code",
   "execution_count": null,
   "id": "900088d6-7ebe-4341-9ecd-f49e1bcfa368",
   "metadata": {},
   "outputs": [],
   "source": []
  }
 ],
 "metadata": {
  "kernelspec": {
   "display_name": "Python 3 (ipykernel)",
   "language": "python",
   "name": "python3"
  },
  "language_info": {
   "codemirror_mode": {
    "name": "ipython",
    "version": 3
   },
   "file_extension": ".py",
   "mimetype": "text/x-python",
   "name": "python",
   "nbconvert_exporter": "python",
   "pygments_lexer": "ipython3",
   "version": "3.12.0"
  }
 },
 "nbformat": 4,
 "nbformat_minor": 5
}
