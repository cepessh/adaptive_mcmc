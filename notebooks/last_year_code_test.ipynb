{
 "cells": [
  {
   "cell_type": "code",
   "execution_count": 1,
   "id": "ca26255f-94fa-4cca-aafa-7244110bb174",
   "metadata": {},
   "outputs": [
    {
     "name": "stderr",
     "output_type": "stream",
     "text": [
      "2025-01-18 22:34:19.830068: E external/local_xla/xla/stream_executor/cuda/cuda_fft.cc:477] Unable to register cuFFT factory: Attempting to register factory for plugin cuFFT when one has already been registered\n",
      "WARNING: All log messages before absl::InitializeLog() is called are written to STDERR\n",
      "E0000 00:00:1737228859.841234   10413 cuda_dnn.cc:8310] Unable to register cuDNN factory: Attempting to register factory for plugin cuDNN when one has already been registered\n",
      "E0000 00:00:1737228859.844289   10413 cuda_blas.cc:1418] Unable to register cuBLAS factory: Attempting to register factory for plugin cuBLAS when one has already been registered\n"
     ]
    }
   ],
   "source": [
    "from copy import deepcopy\n",
    "import tqdm\n",
    "\n",
    "import jax.numpy as jnp\n",
    "import matplotlib.pyplot as plt\n",
    "import pandas as pd\n",
    "import torch\n",
    "\n",
    "from adaptive_mcmc.distributions.distribution import GaussianMixture\n",
    "from adaptive_mcmc.samplers import base_sampler, mala, fishermala, hmc, hmcadaptive\n",
    "from adaptive_mcmc.samplers.stopping_rule import TVStop, NoStop\n",
    "from adaptive_mcmc.tools.benchmark import BenchmarkUtils, Benchmark"
   ]
  },
  {
   "cell_type": "code",
   "execution_count": 2,
   "id": "1f316835-2bc2-4e0c-97fd-5143e78232e2",
   "metadata": {},
   "outputs": [],
   "source": [
    "seed = 123\n",
    "torch.manual_seed(seed)\n",
    "\n",
    "device = \"cpu\"\n",
    "\n",
    "hparams = {\n",
    "    \"mala\": mala.MALAParams(\n",
    "        sigma=1.0,\n",
    "        sigma_lr=0.015,\n",
    "        target_acceptance=0.574,\n",
    "        device=device,\n",
    "    ),\n",
    "    \"fisher_mala\": fishermala.FisherMALAParams(dampening=10.),\n",
    "    \"hmc_vanilla\": hmc.HMCParams(lf_step_count=10, lf_step_size=0.5),\n",
    "    \"hmcadaptive_vanilla\": hmcadaptive.HMCAdaptiveParams(\n",
    "        lf_step_count=10,\n",
    "        lf_step_size=0.5,\n",
    "        learning_rate=5e-3,\n",
    "        truncation_level_prob=0.5,\n",
    "        min_truncation_level=2,\n",
    "    ),\n",
    "}"
   ]
  },
  {
   "cell_type": "code",
   "execution_count": 3,
   "id": "e7247927-47ed-45ef-aaee-0d19e21b69db",
   "metadata": {},
   "outputs": [],
   "source": [
    "chain_count = 15\n",
    "dimensions = [100] #, 5, 10, 100, 10]\n",
    "gaussian_count = 10\n",
    "distance_to_mass_points = 1.\n",
    "tv_threshold = 0.05\n",
    "sample_count = 200\n",
    "sample_iter_limit = 200\n",
    "burn_in_iter_count = 1000\n",
    "probe_period = 2500\n",
    "cube = 1.\n",
    "tail_count_cap = 1000\n",
    "\n",
    "# stopping_rule = TVStop(threshold=tv_threshold, density_probe_count=1000,\n",
    "#                        projection_count=25, tail_count_cap=tail_count_cap)\n",
    "\n",
    "stopping_rule = NoStop(density_probe_count=500,\n",
    "                       projection_count=25, tail_count_cap=tail_count_cap)\n",
    "\n",
    "algs = {\n",
    "    # \"fisher_mala\": fishermala.FisherMALAVanilla(\n",
    "    #     pipeline=None,\n",
    "    #     name=\"FisherMALA\",\n",
    "    #     sigma_burn_in_params=hparams[\"fisher_mala\"].copy(),\n",
    "    #     sigma_burn_in_iter_count=500,\n",
    "    #     prec_burn_in_params=hparams[\"fisher_mala\"].copy(),\n",
    "    #     prec_burn_in_iter_count=burn_in_iter_count - 500,\n",
    "    #     sample_iter_count=sample_iter_limit,\n",
    "    #     stopping_rule=stopping_rule,\n",
    "    #     probe_period=probe_period\n",
    "    # ),\n",
    "    # \"mala\": mala.MALAVanilla(\n",
    "    #     pipeline=None,\n",
    "    #     name=\"MALA\",\n",
    "    #     sigma_burn_in_params=hparams[\"mala\"].copy(),\n",
    "    #     sigma_burn_in_iter_count=burn_in_iter_count,\n",
    "    #     sample_iter_count=sample_iter_limit,\n",
    "    #     stopping_rule=stopping_rule,\n",
    "    #     probe_period=probe_period,\n",
    "    # ),\n",
    "    # \"hmc_vanilla\": hmc.HMCVanilla(\n",
    "    #     pipeline=None,\n",
    "    #     name=\"HMCVanilla\",\n",
    "    #     params=hparams[\"hmc_vanilla\"].copy(),\n",
    "    #     sample_iter_count=sample_iter_limit,\n",
    "    #     burn_in_iter_count=burn_in_iter_count,\n",
    "    #     stopping_rule=stopping_rule,\n",
    "    #     probe_period=probe_period,\n",
    "    # ),\n",
    "    \"hmcadaptive_vanilla\": hmcadaptive.HMCAdaptiveVanilla(\n",
    "        pipeline=None,\n",
    "        name=\"HMCAdaptiveVanilla\",\n",
    "        params=hparams[\"hmcadaptive_vanilla\"].copy(),\n",
    "        sample_iter_count=sample_iter_limit,\n",
    "        burn_in_iter_count=burn_in_iter_count,\n",
    "        stopping_rule=stopping_rule,\n",
    "        probe_period=probe_period,\n",
    "    ),\n",
    "}"
   ]
  },
  {
   "cell_type": "code",
   "execution_count": 4,
   "id": "b8ddf396-4588-424f-8a60-ce9af4ede051",
   "metadata": {
    "scrolled": true
   },
   "outputs": [
    {
     "data": {
      "application/vnd.jupyter.widget-view+json": {
       "model_id": "08b0cb9161944919ae7f8bda5a217d13",
       "version_major": 2,
       "version_minor": 0
      },
      "text/plain": [
       "  0%|          | 0/1 [00:00<?, ?it/s]"
      ]
     },
     "metadata": {},
     "output_type": "display_data"
    },
    {
     "name": "stdout",
     "output_type": "stream",
     "text": [
      "Processing dimension 100\n",
      "--------------------------------------------------------------------------------\n",
      "Running HMCAdaptiveVanilla\n",
      "number of blocks: 2\n",
      "processing block: 1\n"
     ]
    },
    {
     "data": {
      "application/vnd.jupyter.widget-view+json": {
       "model_id": "f7b1dfa01f424bb3892776128e2844cc",
       "version_major": 2,
       "version_minor": 0
      },
      "text/plain": [
       "  0%|          | 0/1000 [00:00<?, ?it/s]"
      ]
     },
     "metadata": {},
     "output_type": "display_data"
    },
    {
     "name": "stdout",
     "output_type": "stream",
     "text": [
      "processing block: 2\n"
     ]
    },
    {
     "data": {
      "application/vnd.jupyter.widget-view+json": {
       "model_id": "ad0cb8d324e14c0195138c2975be2e62",
       "version_major": 2,
       "version_minor": 0
      },
      "text/plain": [
       "  0%|          | 0/200 [00:00<?, ?it/s]"
      ]
     },
     "metadata": {},
     "output_type": "display_data"
    },
    {
     "name": "stdout",
     "output_type": "stream",
     "text": [
      "Runtime: 54.30s\n",
      "\n"
     ]
    }
   ],
   "source": [
    "hist_data = {}\n",
    "runtime = {\n",
    "    dimension: dict()\n",
    "    for dimension in dimensions\n",
    "}\n",
    "pure_runtime = deepcopy(runtime)\n",
    "\n",
    "for dimension in tqdm.notebook.tqdm(dimensions):\n",
    "    print(\"Processing dimension\", dimension)\n",
    "    hist_data[dimension] = {}\n",
    "\n",
    "    true_means = torch.rand((gaussian_count, dimension)) * cube - cube / 2\n",
    "    true_covs = torch.rand((gaussian_count, dimension, dimension))\n",
    "    true_covs = (\n",
    "        true_covs @ true_covs.permute(0, 2, 1) +\n",
    "        torch.eye(dimension).repeat(gaussian_count, 1, 1)\n",
    "    )\n",
    "\n",
    "    gm = GaussianMixture(\n",
    "        true_means,\n",
    "        true_covs,\n",
    "        torch.full((gaussian_count,), 1/gaussian_count, dtype=torch.float64)\n",
    "    )\n",
    "\n",
    "    starting_points = BenchmarkUtils.generate_starting_points(\n",
    "        chain_count, dimension,\n",
    "        true_means,\n",
    "        distance_to_mass_points,\n",
    "    )\n",
    "    true_samples = gm.sample(sample_count)\n",
    "\n",
    "    params = base_sampler.Params(\n",
    "        target_dist=gm,\n",
    "        starting_point=starting_points,\n",
    "        proposal_dist=torch.distributions.MultivariateNormal(\n",
    "            torch.zeros(dimension, device=device),\n",
    "            torch.eye(dimension, device=device),\n",
    "        ),\n",
    "    )\n",
    "\n",
    "    for alg in algs:\n",
    "        print(\"-\" * 80)\n",
    "        base_meta_adj = hparams[alg].copy_update(params)\n",
    "        if hasattr(base_meta_adj, \"sigma\"):\n",
    "            base_meta_adj.sigma /= dimension\n",
    "\n",
    "        algs[alg].load_params(base_meta_adj)\n",
    "        algs[alg].load_true_samples(true_samples)\n",
    "        algs[alg].run()\n",
    "\n",
    "        hist_data[dimension][alg] = [\n",
    "            algs[alg].pipeline.sample_blocks[-1].iteration.cache,\n",
    "            algs[alg].pipeline.sample_blocks[-1].stop_data_hist\n",
    "        ]\n",
    "        runtime[dimension][alg] = algs[alg].pipeline.runtime\n",
    "        pure_runtime[dimension][alg] = algs[alg].pipeline.pure_runtime\n",
    "    print()"
   ]
  },
  {
   "cell_type": "code",
   "execution_count": null,
   "id": "be863959-92ff-468d-bfec-f53bde7b412b",
   "metadata": {},
   "outputs": [],
   "source": [
    "BenchmarkUtils.create_plot(\n",
    "    algs[\"mala\"].pipeline.sample_blocks[-1].iteration.cache.samples[:, [0], :],\n",
    "    algs[\"mala\"].pipeline.sample_blocks[-1].iteration.cache.true_samples\n",
    ")"
   ]
  },
  {
   "cell_type": "code",
   "execution_count": null,
   "id": "0afc61fe-0b06-4cf7-98fb-40f6020a4d7b",
   "metadata": {},
   "outputs": [],
   "source": [
    "BenchmarkUtils.create_plot(\n",
    "    algs[\"hmcadaptive_vanilla\"].pipeline.sample_blocks[-1].iteration.cache.samples[:, [0], :],\n",
    "    algs[\"hmcadaptive_vanilla\"].pipeline.sample_blocks[-1].iteration.cache.true_samples\n",
    ")"
   ]
  },
  {
   "cell_type": "code",
   "execution_count": null,
   "id": "9ebc982c-46af-43df-8ae2-9044a81f7e87",
   "metadata": {},
   "outputs": [],
   "source": [
    "torch.randint(1, 10, size=(1,)).item()"
   ]
  },
  {
   "cell_type": "code",
   "execution_count": null,
   "id": "cb166a5b-973b-4681-8a27-a8ab80279ede",
   "metadata": {},
   "outputs": [],
   "source": [
    "tv_threshold = 0.05"
   ]
  },
  {
   "cell_type": "code",
   "execution_count": null,
   "id": "35f27e81-e102-4496-9304-c72eb6dd1613",
   "metadata": {},
   "outputs": [],
   "source": [
    "pure_runtime"
   ]
  },
  {
   "cell_type": "code",
   "execution_count": null,
   "id": "55a62015-e364-4cca-a061-20e569039223",
   "metadata": {},
   "outputs": [],
   "source": [
    "runtime"
   ]
  },
  {
   "cell_type": "code",
   "execution_count": null,
   "id": "10129bb9-fa3b-450b-8a18-120fe2b82ee0",
   "metadata": {},
   "outputs": [],
   "source": [
    "fig, axes = plt.subplots(\n",
    "    nrows=len(dimensions),\n",
    "    ncols=2,\n",
    "    figsize=(13, 4 * len(dimensions),)\n",
    ")\n",
    "fig.suptitle(\n",
    "    f\"at most {tail_count_cap} last samples, burn-in={burn_in_iter_count}, \"\n",
    "    f\"chain_count={chain_count}, \"\n",
    "    f\"TV threshold={tv_threshold}\\n\" +\n",
    "    f\"mixture of {gaussian_count} gaussians with \"\n",
    "    \"random means and covariance matrices\"\n",
    ")\n",
    "\n",
    "for dim_ind in range(len(dimensions)):\n",
    "    for alg_ind, alg in enumerate(algs.keys()):\n",
    "\n",
    "        ticks_count = len(hist_data[dimensions[dim_ind]][alg][1])\n",
    "        xticks = probe_period * jnp.arange(1, ticks_count + 1)\n",
    "\n",
    "        axes[dim_ind, alg_ind].plot(\n",
    "            xticks,\n",
    "            [\n",
    "                entry[\"tv_mean\"]\n",
    "                for entry in hist_data[dimensions[dim_ind]][alg][1]\n",
    "            ],\n",
    "            label=\"TV mean\"\n",
    "        )\n",
    "        axes[dim_ind, alg_ind].fill_between(\n",
    "            xticks,\n",
    "            [\n",
    "                entry[\"tv_mean\"] - 2 * entry[\"tv_std\"]\n",
    "                for entry in hist_data[dimensions[dim_ind]][alg][1]\n",
    "            ],\n",
    "            [\n",
    "                entry[\"tv_mean\"] + 2 * entry[\"tv_std\"]\n",
    "                for entry in hist_data[dimensions[dim_ind]][alg][1]\n",
    "            ],\n",
    "            alpha=0.1,\n",
    "            label=\"95% CI\"\n",
    "        )\n",
    "        axes[dim_ind, alg_ind].axhline(tv_threshold, color=\"r\", linestyle=\"dashed\")\n",
    "        axes[dim_ind, alg_ind].set_title(f\"{alg}, dim={dimensions[dim_ind]}\")\n",
    "        if dim_ind + 1 == len(dimensions):\n",
    "            axes[dim_ind, alg_ind].set_xlabel(\"iteration\")\n",
    "        axes[dim_ind, alg_ind].set_ylabel(\"TV\")\n",
    "        axes[dim_ind, alg_ind].legend()"
   ]
  },
  {
   "cell_type": "code",
   "execution_count": null,
   "id": "38f21c2f-86ef-45ca-aa03-e2644403de6d",
   "metadata": {},
   "outputs": [],
   "source": [
    "BenchmarkUtils.compute_metrics(\n",
    "    algs[\"fisher_mala\"].pipeline.sample_blocks[-1].iteration.cache.samples,\n",
    "    algs[\"fisher_mala\"].pipeline.sample_blocks[-1].iteration.cache.true_samples\n",
    ")"
   ]
  },
  {
   "cell_type": "code",
   "execution_count": null,
   "id": "066c017e-5852-4485-8913-e487264f3ebb",
   "metadata": {},
   "outputs": [],
   "source": [
    "BenchmarkUtils.compute_metrics(\n",
    "    algs[\"mala\"].pipeline.sample_blocks[-1].iteration.cache.samples,\n",
    "    algs[\"mala\"].pipeline.sample_blocks[-1].iteration.cache.true_samples\n",
    ")"
   ]
  },
  {
   "cell_type": "code",
   "execution_count": 15,
   "id": "67144eea-084e-426d-8bf5-c690cc8bf1a5",
   "metadata": {},
   "outputs": [
    {
     "data": {
      "text/plain": [
       "{'ess': np.float32(0.04412451),\n",
       " 'tv_mean': Array(0.24290818, dtype=float32),\n",
       " 'tv_conf_sigma': Array(0.14691073, dtype=float32),\n",
       " 'wasserstein': 3978.499736065461}"
      ]
     },
     "execution_count": 15,
     "metadata": {},
     "output_type": "execute_result"
    }
   ],
   "source": [
    "BenchmarkUtils.compute_metrics(\n",
    "    algs[\"hmc_vanilla\"].pipeline.sample_blocks[-1].iteration.cache.samples,\n",
    "    algs[\"hmc_vanilla\"].pipeline.sample_blocks[-1].iteration.cache.true_samples\n",
    ")"
   ]
  },
  {
   "cell_type": "code",
   "execution_count": null,
   "id": "4156d51f-3f57-4f16-8b4a-73e91671ed79",
   "metadata": {},
   "outputs": [],
   "source": [
    "algs[\"hmcadaptive_vanilla\"].pipeline.sample_blocks[-1].iteration.cache.prec[0]"
   ]
  },
  {
   "cell_type": "code",
   "execution_count": null,
   "id": "78e93069-acf2-4466-a81a-c2eba9953ac7",
   "metadata": {},
   "outputs": [],
   "source": [
    "algs[\"hmcadaptive_vanilla\"].pipeline.sample_blocks[-1].iteration.params.entropy_weight"
   ]
  },
  {
   "cell_type": "code",
   "execution_count": 8,
   "id": "550458c3-9aa3-4ab2-aae4-452bc3870c40",
   "metadata": {},
   "outputs": [
    {
     "data": {
      "text/plain": [
       "<matplotlib.image.AxesImage at 0x7566348acdd0>"
      ]
     },
     "execution_count": 8,
     "metadata": {},
     "output_type": "execute_result"
    },
    {
     "data": {
      "image/png": "[encoded data removed]",
      "text/plain": [
       "<Figure size 640x480 with 1 Axes>"
      ]
     },
     "metadata": {},
     "output_type": "display_data"
    }
   ],
   "source": [
    "plt.imshow(algs[\"hmcadaptive_vanilla\"].pipeline.sample_blocks[-1].iteration.cache.prec[0].detach().numpy())"
   ]
  },
  {
   "cell_type": "code",
   "execution_count": 5,
   "id": "6d2a6697-fafd-48b6-aac0-e1bb50333fb7",
   "metadata": {},
   "outputs": [
    {
     "data": {
      "text/plain": [
       "{'ess': np.float32(0.061569385),\n",
       " 'tv_mean': Array(0.38411188, dtype=float32),\n",
       " 'tv_conf_sigma': Array(0.6181053, dtype=float32),\n",
       " 'wasserstein': 1271126147338.9624}"
      ]
     },
     "execution_count": 5,
     "metadata": {},
     "output_type": "execute_result"
    }
   ],
   "source": [
    "BenchmarkUtils.compute_metrics(\n",
    "    algs[\"hmcadaptive_vanilla\"].pipeline.sample_blocks[-1].iteration.cache.samples,\n",
    "    algs[\"hmcadaptive_vanilla\"].pipeline.sample_blocks[-1].iteration.cache.true_samples\n",
    ")"
   ]
  },
  {
   "cell_type": "markdown",
   "id": "567fa5c1-48cc-4472-bde8-0538aae1cc17",
   "metadata": {},
   "source": [
    "### Reference"
   ]
  },
  {
   "cell_type": "code",
   "execution_count": null,
   "id": "f414f8fd-3fe3-4eef-aa49-4dfd95883327",
   "metadata": {},
   "outputs": [],
   "source": [
    "BenchmarkUtils.compute_metrics(\n",
    "    algs[\"fisher_mala\"].pipeline.sample_blocks[-1].iteration.cache.samples,\n",
    "    algs[\"fisher_mala\"].pipeline.sample_blocks[-1].iteration.cache.true_samples\n",
    ")"
   ]
  },
  {
   "cell_type": "code",
   "execution_count": null,
   "id": "44757f5e-3a5f-4c3f-b7b6-36c68f06dd9d",
   "metadata": {},
   "outputs": [],
   "source": [
    "BenchmarkUtils.compute_metrics(\n",
    "    algs[\"mala\"].pipeline.sample_blocks[-1].iteration.cache.samples,\n",
    "    algs[\"mala\"].pipeline.sample_blocks[-1].iteration.cache.true_samples\n",
    ")"
   ]
  },
  {
   "cell_type": "code",
   "execution_count": null,
   "id": "29986617-b060-4792-bb57-e15a25180140",
   "metadata": {},
   "outputs": [],
   "source": []
  }
 ],
 "metadata": {
  "kernelspec": {
   "display_name": "Python 3 (ipykernel)",
   "language": "python",
   "name": "python3"
  },
  "language_info": {
   "codemirror_mode": {
    "name": "ipython",
    "version": 3
   },
   "file_extension": ".py",
   "mimetype": "text/x-python",
   "name": "python",
   "nbconvert_exporter": "python",
   "pygments_lexer": "ipython3",
   "version": "3.12.0"
  }
 },
 "nbformat": 4,
 "nbformat_minor": 5
}
