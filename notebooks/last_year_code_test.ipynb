{
 "cells": [
  {
   "cell_type": "code",
   "execution_count": 1,
   "id": "ca26255f-94fa-4cca-aafa-7244110bb174",
   "metadata": {},
   "outputs": [
    {
     "name": "stderr",
     "output_type": "stream",
     "text": [
      "2025-01-21 00:12:02.914737: E external/local_xla/xla/stream_executor/cuda/cuda_fft.cc:477] Unable to register cuFFT factory: Attempting to register factory for plugin cuFFT when one has already been registered\n",
      "WARNING: All log messages before absl::InitializeLog() is called are written to STDERR\n",
      "E0000 00:00:1737407522.927755   19400 cuda_dnn.cc:8310] Unable to register cuDNN factory: Attempting to register factory for plugin cuDNN when one has already been registered\n",
      "E0000 00:00:1737407522.931043   19400 cuda_blas.cc:1418] Unable to register cuBLAS factory: Attempting to register factory for plugin cuBLAS when one has already been registered\n"
     ]
    }
   ],
   "source": [
    "from copy import deepcopy\n",
    "import tqdm\n",
    "\n",
    "import jax.numpy as jnp\n",
    "import matplotlib.pyplot as plt\n",
    "import pandas as pd\n",
    "import torch\n",
    "\n",
    "from adaptive_mcmc.distributions.distribution import GaussianMixture\n",
    "from adaptive_mcmc.samplers import base_sampler, mala, fishermala, hmc, hmcadaptive\n",
    "from adaptive_mcmc.samplers.stopping_rule import TVStop, NoStop\n",
    "from adaptive_mcmc.tools.benchmark import BenchmarkUtils, Benchmark"
   ]
  },
  {
   "cell_type": "code",
   "execution_count": 2,
   "id": "1f316835-2bc2-4e0c-97fd-5143e78232e2",
   "metadata": {},
   "outputs": [],
   "source": [
    "seed = 123\n",
    "torch.manual_seed(seed)\n",
    "\n",
    "device = \"cpu\"\n",
    "\n",
    "hparams = {\n",
    "    \"mala\": mala.MALAParams(\n",
    "        sigma=1.0,\n",
    "        sigma_lr=0.015,\n",
    "        target_acceptance=0.574,\n",
    "        device=device,\n",
    "    ),\n",
    "    \"fisher_mala\": fishermala.FisherMALAParams(dampening=10.),\n",
    "    \"hmc_vanilla\": hmc.HMCParams(lf_step_count=5, lf_step_size=0.5, no_grad=True),\n",
    "    \"hmcadaptive_vanilla\": hmcadaptive.HMCAdaptiveParams(\n",
    "        lf_step_count=5,\n",
    "        lf_step_size=0.5,\n",
    "        learning_rate=5e-3,\n",
    "        truncation_level_prob=0.5,\n",
    "        min_truncation_level=2,\n",
    "    ),\n",
    "}"
   ]
  },
  {
   "cell_type": "code",
   "execution_count": 3,
   "id": "e7247927-47ed-45ef-aaee-0d19e21b69db",
   "metadata": {},
   "outputs": [],
   "source": [
    "chain_count = 15\n",
    "dimensions = [100] #, 5, 10, 100, 10]\n",
    "gaussian_count = 100\n",
    "tv_threshold = 0.05\n",
    "sample_count = 1000\n",
    "sample_iter_limit = 1000\n",
    "burn_in_iter_count = 1000\n",
    "probe_period = 2500\n",
    "cube = 5.\n",
    "distance_to_mass_points = cube / 4\n",
    "tail_count_cap = 1000\n",
    "\n",
    "# stopping_rule = TVStop(threshold=tv_threshold, density_probe_count=1000,\n",
    "#                        projection_count=25, tail_count_cap=tail_count_cap)\n",
    "\n",
    "stopping_rule = NoStop(density_probe_count=500,\n",
    "                       projection_count=25, tail_count_cap=tail_count_cap)\n",
    "\n",
    "algs = {\n",
    "    \"fisher_mala\": fishermala.FisherMALAVanilla(\n",
    "        pipeline=None,\n",
    "        name=\"FisherMALA\",\n",
    "        sigma_burn_in_params=hparams[\"fisher_mala\"].copy(),\n",
    "        sigma_burn_in_iter_count=500,\n",
    "        prec_burn_in_params=hparams[\"fisher_mala\"].copy(),\n",
    "        prec_burn_in_iter_count=burn_in_iter_count - 500,\n",
    "        sample_iter_count=sample_iter_limit,\n",
    "        stopping_rule=stopping_rule,\n",
    "        probe_period=probe_period\n",
    "    ),\n",
    "    # \"mala\": mala.MALAVanilla(\n",
    "    #     pipeline=None,\n",
    "    #     name=\"MALA\",\n",
    "    #     sigma_burn_in_params=hparams[\"mala\"].copy(),\n",
    "    #     sigma_burn_in_iter_count=burn_in_iter_count,\n",
    "    #     sample_iter_count=sample_iter_limit,\n",
    "    #     stopping_rule=stopping_rule,\n",
    "    #     probe_period=probe_period,\n",
    "    # ),\n",
    "    # \"hmc_vanilla\": hmc.HMCVanilla(\n",
    "    #     pipeline=None,\n",
    "    #     name=\"HMCVanilla\",\n",
    "    #     params=hparams[\"hmc_vanilla\"].copy(),\n",
    "    #     sample_iter_count=sample_iter_limit,\n",
    "    #     burn_in_iter_count=burn_in_iter_count,\n",
    "    #     stopping_rule=stopping_rule,\n",
    "    #     probe_period=probe_period,\n",
    "    # ),\n",
    "    # \"hmcadaptive_vanilla\": hmcadaptive.HMCAdaptiveVanilla(\n",
    "    #     pipeline=None,\n",
    "    #     name=\"HMCAdaptiveVanilla\",\n",
    "    #     params=hparams[\"hmcadaptive_vanilla\"].copy(),\n",
    "    #     sample_iter_count=sample_iter_limit,\n",
    "    #     burn_in_iter_count=burn_in_iter_count,\n",
    "    #     stopping_rule=stopping_rule,\n",
    "    #     probe_period=probe_period,\n",
    "    # ),\n",
    "}"
   ]
  },
  {
   "cell_type": "code",
   "execution_count": 4,
   "id": "b8ddf396-4588-424f-8a60-ce9af4ede051",
   "metadata": {
    "scrolled": true
   },
   "outputs": [
    {
     "data": {
      "application/vnd.jupyter.widget-view+json": {
       "model_id": "4f43e1420b9f4629beaab0cdf3452077",
       "version_major": 2,
       "version_minor": 0
      },
      "text/plain": [
       "  0%|          | 0/1 [00:00<?, ?it/s]"
      ]
     },
     "metadata": {},
     "output_type": "display_data"
    },
    {
     "name": "stdout",
     "output_type": "stream",
     "text": [
      "Processing dimension 100\n",
      "--------------------------------------------------------------------------------\n",
      "Running FisherMALA\n",
      "number of blocks: 3\n",
      "processing block: 1\n"
     ]
    },
    {
     "data": {
      "application/vnd.jupyter.widget-view+json": {
       "model_id": "eb7881feec3643829f7f725380d30f43",
       "version_major": 2,
       "version_minor": 0
      },
      "text/plain": [
       "  0%|          | 0/500 [00:00<?, ?it/s]"
      ]
     },
     "metadata": {},
     "output_type": "display_data"
    },
    {
     "name": "stdout",
     "output_type": "stream",
     "text": [
      "processing block: 2\n"
     ]
    },
    {
     "data": {
      "application/vnd.jupyter.widget-view+json": {
       "model_id": "26488c50251b4a129066168a63fe42d5",
       "version_major": 2,
       "version_minor": 0
      },
      "text/plain": [
       "  0%|          | 0/500 [00:00<?, ?it/s]"
      ]
     },
     "metadata": {},
     "output_type": "display_data"
    },
    {
     "name": "stdout",
     "output_type": "stream",
     "text": [
      "processing block: 3\n"
     ]
    },
    {
     "data": {
      "application/vnd.jupyter.widget-view+json": {
       "model_id": "613f5cc934364e40a58a54f594921b44",
       "version_major": 2,
       "version_minor": 0
      },
      "text/plain": [
       "  0%|          | 0/1000 [00:00<?, ?it/s]"
      ]
     },
     "metadata": {},
     "output_type": "display_data"
    },
    {
     "name": "stdout",
     "output_type": "stream",
     "text": [
      "Runtime: 12.06s\n",
      "\n"
     ]
    }
   ],
   "source": [
    "hist_data = {}\n",
    "runtime = {\n",
    "    dimension: dict()\n",
    "    for dimension in dimensions\n",
    "}\n",
    "pure_runtime = deepcopy(runtime)\n",
    "\n",
    "for dimension in tqdm.notebook.tqdm(dimensions):\n",
    "    print(\"Processing dimension\", dimension)\n",
    "    hist_data[dimension] = {}\n",
    "\n",
    "    true_means = torch.rand((gaussian_count, dimension)) * cube - cube / 2\n",
    "    true_covs = torch.rand((gaussian_count, dimension, dimension))\n",
    "    true_covs = (\n",
    "        true_covs @ true_covs.permute(0, 2, 1) +\n",
    "        torch.eye(dimension).repeat(gaussian_count, 1, 1)\n",
    "    )\n",
    "\n",
    "    gm = GaussianMixture(\n",
    "        true_means,\n",
    "        true_covs,\n",
    "        torch.full((gaussian_count,), 1/gaussian_count, dtype=torch.float64)\n",
    "    )\n",
    "\n",
    "    starting_points = BenchmarkUtils.generate_starting_points(\n",
    "        chain_count, dimension,\n",
    "        true_means,\n",
    "        distance_to_mass_points,\n",
    "    )\n",
    "    true_samples = gm.sample(sample_count)\n",
    "\n",
    "    params = base_sampler.Params(\n",
    "        target_dist=gm,\n",
    "        starting_point=starting_points.clone(),\n",
    "        proposal_dist=torch.distributions.MultivariateNormal(\n",
    "            torch.zeros(dimension, device=device),\n",
    "            torch.eye(dimension, device=device),\n",
    "        ),\n",
    "    )\n",
    "\n",
    "    for alg in algs:\n",
    "        print(\"-\" * 80)\n",
    "        base_meta_adj = hparams[alg].copy_update(params)\n",
    "        if hasattr(base_meta_adj, \"sigma\"):\n",
    "            base_meta_adj.sigma /= dimension\n",
    "\n",
    "        algs[alg].load_params(base_meta_adj)\n",
    "        algs[alg].load_true_samples(true_samples)\n",
    "        algs[alg].run()\n",
    "\n",
    "        hist_data[dimension][alg] = [\n",
    "            algs[alg].pipeline.sample_blocks[-1].iteration.cache,\n",
    "            algs[alg].pipeline.sample_blocks[-1].stop_data_hist\n",
    "        ]\n",
    "        runtime[dimension][alg] = algs[alg].pipeline.runtime\n",
    "        pure_runtime[dimension][alg] = algs[alg].pipeline.pure_runtime\n",
    "    print()"
   ]
  },
  {
   "cell_type": "code",
   "execution_count": 14,
   "id": "0afc61fe-0b06-4cf7-98fb-40f6020a4d7b",
   "metadata": {},
   "outputs": [
    {
     "data": {
      "image/png": "[encoded data removed]",
      "text/plain": [
       "<Figure size 500x1000 with 2 Axes>"
      ]
     },
     "metadata": {},
     "output_type": "display_data"
    }
   ],
   "source": [
    "BenchmarkUtils.create_plot(\n",
    "    algs[\"hmcadaptive_vanilla\"].pipeline.sample_blocks[-1].iteration.cache.samples[:, [0], :],\n",
    "    algs[\"hmcadaptive_vanilla\"].pipeline.sample_blocks[-1].iteration.cache.true_samples\n",
    ")"
   ]
  },
  {
   "cell_type": "code",
   "execution_count": null,
   "id": "19a725c9-a8e9-4b9e-b22b-2fb7798be5cf",
   "metadata": {},
   "outputs": [],
   "source": []
  },
  {
   "cell_type": "code",
   "execution_count": null,
   "id": "5a7a021f-f6ce-4f27-ad7a-4c14a1044295",
   "metadata": {},
   "outputs": [],
   "source": []
  },
  {
   "cell_type": "code",
   "execution_count": null,
   "id": "cb166a5b-973b-4681-8a27-a8ab80279ede",
   "metadata": {},
   "outputs": [],
   "source": [
    "tv_threshold = 0.05"
   ]
  },
  {
   "cell_type": "code",
   "execution_count": null,
   "id": "35f27e81-e102-4496-9304-c72eb6dd1613",
   "metadata": {},
   "outputs": [],
   "source": [
    "pure_runtime"
   ]
  },
  {
   "cell_type": "code",
   "execution_count": null,
   "id": "55a62015-e364-4cca-a061-20e569039223",
   "metadata": {},
   "outputs": [],
   "source": [
    "runtime"
   ]
  },
  {
   "cell_type": "code",
   "execution_count": null,
   "id": "10129bb9-fa3b-450b-8a18-120fe2b82ee0",
   "metadata": {},
   "outputs": [],
   "source": [
    "fig, axes = plt.subplots(\n",
    "    nrows=len(dimensions),\n",
    "    ncols=2,\n",
    "    figsize=(13, 4 * len(dimensions),)\n",
    ")\n",
    "fig.suptitle(\n",
    "    f\"at most {tail_count_cap} last samples, burn-in={burn_in_iter_count}, \"\n",
    "    f\"chain_count={chain_count}, \"\n",
    "    f\"TV threshold={tv_threshold}\\n\" +\n",
    "    f\"mixture of {gaussian_count} gaussians with \"\n",
    "    \"random means and covariance matrices\"\n",
    ")\n",
    "\n",
    "for dim_ind in range(len(dimensions)):\n",
    "    for alg_ind, alg in enumerate(algs.keys()):\n",
    "\n",
    "        ticks_count = len(hist_data[dimensions[dim_ind]][alg][1])\n",
    "        xticks = probe_period * jnp.arange(1, ticks_count + 1)\n",
    "\n",
    "        axes[dim_ind, alg_ind].plot(\n",
    "            xticks,\n",
    "            [\n",
    "                entry[\"tv_mean\"]\n",
    "                for entry in hist_data[dimensions[dim_ind]][alg][1]\n",
    "            ],\n",
    "            label=\"TV mean\"\n",
    "        )\n",
    "        axes[dim_ind, alg_ind].fill_between(\n",
    "            xticks,\n",
    "            [\n",
    "                entry[\"tv_mean\"] - 2 * entry[\"tv_std\"]\n",
    "                for entry in hist_data[dimensions[dim_ind]][alg][1]\n",
    "            ],\n",
    "            [\n",
    "                entry[\"tv_mean\"] + 2 * entry[\"tv_std\"]\n",
    "                for entry in hist_data[dimensions[dim_ind]][alg][1]\n",
    "            ],\n",
    "            alpha=0.1,\n",
    "            label=\"95% CI\"\n",
    "        )\n",
    "        axes[dim_ind, alg_ind].axhline(tv_threshold, color=\"r\", linestyle=\"dashed\")\n",
    "        axes[dim_ind, alg_ind].set_title(f\"{alg}, dim={dimensions[dim_ind]}\")\n",
    "        if dim_ind + 1 == len(dimensions):\n",
    "            axes[dim_ind, alg_ind].set_xlabel(\"iteration\")\n",
    "        axes[dim_ind, alg_ind].set_ylabel(\"TV\")\n",
    "        axes[dim_ind, alg_ind].legend()"
   ]
  },
  {
   "cell_type": "code",
   "execution_count": 5,
   "id": "8a6ff13a-0a74-4f14-b417-c53ca628ea95",
   "metadata": {},
   "outputs": [
    {
     "data": {
      "text/plain": [
       "{'ess': np.float32(0.014571772),\n",
       " 'tv_mean': Array(0.20540893, dtype=float32),\n",
       " 'tv_conf_sigma': Array(0.09677804, dtype=float32),\n",
       " 'wasserstein': 2861.213236819926}"
      ]
     },
     "execution_count": 5,
     "metadata": {},
     "output_type": "execute_result"
    }
   ],
   "source": [
    "BenchmarkUtils.compute_metrics(\n",
    "    algs[\"fisher_mala\"].pipeline.sample_blocks[-1].iteration.cache.samples,\n",
    "    algs[\"fisher_mala\"].pipeline.sample_blocks[-1].iteration.cache.true_samples\n",
    ")"
   ]
  },
  {
   "cell_type": "code",
   "execution_count": 5,
   "id": "f6cdc433-bb7d-458f-af21-1b3fef3cad21",
   "metadata": {},
   "outputs": [
    {
     "data": {
      "text/plain": [
       "{'ess': np.float32(0.014571771),\n",
       " 'tv_mean': Array(0.20540899, dtype=float32),\n",
       " 'tv_conf_sigma': Array(0.09677801, dtype=float32),\n",
       " 'wasserstein': 2861.213244404562}"
      ]
     },
     "execution_count": 5,
     "metadata": {},
     "output_type": "execute_result"
    }
   ],
   "source": [
    "BenchmarkUtils.compute_metrics(\n",
    "    algs[\"fisher_mala\"].pipeline.sample_blocks[-1].iteration.cache.samples,\n",
    "    algs[\"fisher_mala\"].pipeline.sample_blocks[-1].iteration.cache.true_samples\n",
    ")"
   ]
  },
  {
   "cell_type": "code",
   "execution_count": 11,
   "id": "67144eea-084e-426d-8bf5-c690cc8bf1a5",
   "metadata": {},
   "outputs": [
    {
     "data": {
      "text/plain": [
       "{'ess': np.float32(0.019632276),\n",
       " 'tv_mean': Array(0.221106, dtype=float32),\n",
       " 'tv_conf_sigma': Array(0.11329235, dtype=float32),\n",
       " 'wasserstein': 3026.573968632473}"
      ]
     },
     "execution_count": 11,
     "metadata": {},
     "output_type": "execute_result"
    }
   ],
   "source": [
    "BenchmarkUtils.compute_metrics(\n",
    "    algs[\"hmc_vanilla\"].pipeline.sample_blocks[-1].iteration.cache.samples,\n",
    "    algs[\"hmc_vanilla\"].pipeline.sample_blocks[-1].iteration.cache.true_samples\n",
    ")"
   ]
  },
  {
   "cell_type": "code",
   "execution_count": null,
   "id": "4156d51f-3f57-4f16-8b4a-73e91671ed79",
   "metadata": {},
   "outputs": [],
   "source": [
    "algs[\"hmcadaptive_vanilla\"].pipeline.sample_blocks[-1].iteration.cache.prec[0]"
   ]
  },
  {
   "cell_type": "code",
   "execution_count": 12,
   "id": "979fb9fc-1b64-4f08-a550-a8eff9105245",
   "metadata": {},
   "outputs": [
    {
     "data": {
      "text/plain": [
       "tensor([[100.0000],\n",
       "        [100.0000],\n",
       "        [ 99.9968],\n",
       "        [100.0000],\n",
       "        [100.0000],\n",
       "        [100.0000],\n",
       "        [100.0000],\n",
       "        [100.0000],\n",
       "        [100.0000],\n",
       "        [100.0000],\n",
       "        [100.0000],\n",
       "        [100.0000],\n",
       "        [100.0000],\n",
       "        [100.0000],\n",
       "        [ 99.8460]], dtype=torch.float64)"
      ]
     },
     "execution_count": 12,
     "metadata": {},
     "output_type": "execute_result"
    }
   ],
   "source": [
    "algs[\"hmcadaptive_vanilla\"].pipeline.sample_blocks[-1].iteration.params.entropy_weight"
   ]
  },
  {
   "cell_type": "code",
   "execution_count": 13,
   "id": "78e93069-acf2-4466-a81a-c2eba9953ac7",
   "metadata": {},
   "outputs": [
    {
     "data": {
      "text/plain": [
       "tensor([[2.2982e+02],\n",
       "        [1.7396e+02],\n",
       "        [1.8964e+02],\n",
       "        [1.9289e+02],\n",
       "        [6.8733e+02],\n",
       "        [8.7795e+02],\n",
       "        [9.1871e+04],\n",
       "        [1.3760e+04],\n",
       "        [4.5328e+03],\n",
       "        [2.2545e+01],\n",
       "        [3.8433e+02],\n",
       "        [1.0000e+05],\n",
       "        [1.3512e+02],\n",
       "        [9.0342e+02],\n",
       "        [4.7807e+01]])"
      ]
     },
     "execution_count": 13,
     "metadata": {},
     "output_type": "execute_result"
    }
   ],
   "source": [
    "algs[\"hmcadaptive_vanilla\"].pipeline.sample_blocks[-1].iteration.params.penalty_weight"
   ]
  },
  {
   "cell_type": "code",
   "execution_count": 14,
   "id": "550458c3-9aa3-4ab2-aae4-452bc3870c40",
   "metadata": {},
   "outputs": [
    {
     "data": {
      "text/plain": [
       "<matplotlib.image.AxesImage at 0x76c9d41a7d70>"
      ]
     },
     "execution_count": 14,
     "metadata": {},
     "output_type": "execute_result"
    },
    {
     "data": {
      "image/png": "[encoded data removed]",
      "text/plain": [
       "<Figure size 640x480 with 1 Axes>"
      ]
     },
     "metadata": {},
     "output_type": "display_data"
    }
   ],
   "source": [
    "plt.imshow(algs[\"hmcadaptive_vanilla\"].pipeline.sample_blocks[-1].iteration.cache.prec[7].detach().numpy())"
   ]
  },
  {
   "cell_type": "code",
   "execution_count": 15,
   "id": "7587af9e-dda7-4cb9-a9fb-270ffadf3b3d",
   "metadata": {},
   "outputs": [
    {
     "data": {
      "text/plain": [
       "{'ess': np.float32(0.016271612),\n",
       " 'tv_mean': Array(0.22116105, dtype=float32),\n",
       " 'tv_conf_sigma': Array(0.1307145, dtype=float32),\n",
       " 'wasserstein': 3237.179206585717}"
      ]
     },
     "execution_count": 15,
     "metadata": {},
     "output_type": "execute_result"
    }
   ],
   "source": [
    "BenchmarkUtils.compute_metrics(\n",
    "    algs[\"hmcadaptive_vanilla\"].pipeline.sample_blocks[-1].iteration.cache.samples,\n",
    "    algs[\"hmcadaptive_vanilla\"].pipeline.sample_blocks[-1].iteration.cache.true_samples,\n",
    ")"
   ]
  },
  {
   "cell_type": "code",
   "execution_count": 5,
   "id": "05d39474-2286-4277-bdb0-7b0ec14b4e4f",
   "metadata": {},
   "outputs": [
    {
     "data": {
      "text/plain": [
       "{'ess': np.float32(0.018171519),\n",
       " 'tv_mean': Array(0.16240993, dtype=float32),\n",
       " 'tv_conf_sigma': Array(0.10823723, dtype=float32),\n",
       " 'wasserstein': 2464.637656582231}"
      ]
     },
     "execution_count": 5,
     "metadata": {},
     "output_type": "execute_result"
    }
   ],
   "source": [
    "BenchmarkUtils.compute_metrics(\n",
    "    algs[\"hmcadaptive_vanilla\"].pipeline.sample_blocks[-1].iteration.cache.samples,\n",
    "    algs[\"hmcadaptive_vanilla\"].pipeline.sample_blocks[-1].iteration.cache.true_samples,\n",
    ")"
   ]
  },
  {
   "cell_type": "markdown",
   "id": "567fa5c1-48cc-4472-bde8-0538aae1cc17",
   "metadata": {},
   "source": [
    "### Reference"
   ]
  },
  {
   "cell_type": "code",
   "execution_count": null,
   "id": "f414f8fd-3fe3-4eef-aa49-4dfd95883327",
   "metadata": {},
   "outputs": [],
   "source": [
    "BenchmarkUtils.compute_metrics(\n",
    "    algs[\"fisher_mala\"].pipeline.sample_blocks[-1].iteration.cache.samples,\n",
    "    algs[\"fisher_mala\"].pipeline.sample_blocks[-1].iteration.cache.true_samples\n",
    ")"
   ]
  },
  {
   "cell_type": "code",
   "execution_count": null,
   "id": "44757f5e-3a5f-4c3f-b7b6-36c68f06dd9d",
   "metadata": {},
   "outputs": [],
   "source": [
    "BenchmarkUtils.compute_metrics(\n",
    "    algs[\"mala\"].pipeline.sample_blocks[-1].iteration.cache.samples,\n",
    "    algs[\"mala\"].pipeline.sample_blocks[-1].iteration.cache.true_samples\n",
    ")"
   ]
  },
  {
   "cell_type": "code",
   "execution_count": 5,
   "id": "29986617-b060-4792-bb57-e15a25180140",
   "metadata": {},
   "outputs": [],
   "source": [
    "A = torch.randn(5, 10, 10)"
   ]
  },
  {
   "cell_type": "code",
   "execution_count": 8,
   "id": "672cea99-e507-4f51-92ef-deec67fadca1",
   "metadata": {},
   "outputs": [
    {
     "data": {
      "text/plain": [
       "tensor([-0.8660,  5.1667, -5.9270,  9.8518,  4.1769,  8.3889,  6.9534,  5.3181,\n",
       "        -8.4028, -1.2018])"
      ]
     },
     "execution_count": 8,
     "metadata": {},
     "output_type": "execute_result"
    }
   ],
   "source": [
    "A.sum(dim=[0,1])"
   ]
  },
  {
   "cell_type": "code",
   "execution_count": 7,
   "id": "945764b0-904b-493b-b41b-03efe435f4b7",
   "metadata": {},
   "outputs": [
    {
     "data": {
      "text/plain": [
       "tensor([[[ 99.8616]],\n",
       "\n",
       "        [[103.3391]],\n",
       "\n",
       "        [[121.7624]],\n",
       "\n",
       "        [[113.4422]],\n",
       "\n",
       "        [[ 97.6431]]])"
      ]
     },
     "execution_count": 7,
     "metadata": {},
     "output_type": "execute_result"
    }
   ],
   "source": [
    "trace_prec = (A[..., None, :] @ A[..., None]).sum(dim=1)\n",
    "trace_prec"
   ]
  },
  {
   "cell_type": "code",
   "execution_count": 8,
   "id": "e1d314bf-3f4e-4569-aab7-05a169424d84",
   "metadata": {},
   "outputs": [
    {
     "data": {
      "text/plain": [
       "torch.Size([5, 10, 10, 1])"
      ]
     },
     "execution_count": 8,
     "metadata": {},
     "output_type": "execute_result"
    }
   ],
   "source": [
    "A[..., None].shape"
   ]
  },
  {
   "cell_type": "code",
   "execution_count": 9,
   "id": "5c27b64f-adf4-41fd-a544-45fb73ec62ec",
   "metadata": {},
   "outputs": [
    {
     "data": {
      "text/plain": [
       "torch.Size([5, 10, 1, 10])"
      ]
     },
     "execution_count": 9,
     "metadata": {},
     "output_type": "execute_result"
    }
   ],
   "source": [
    "A[..., None, :].shape"
   ]
  },
  {
   "cell_type": "code",
   "execution_count": 10,
   "id": "28177a22-37d1-4ae5-9c86-d67e073e72a3",
   "metadata": {},
   "outputs": [
    {
     "data": {
      "text/plain": [
       "tensor([[10.8266, 11.0844, 19.2692,  1.7767,  8.7668,  6.8647,  8.3898, 17.5917,\n",
       "          4.9949, 10.2967],\n",
       "        [ 7.2808, 13.1025, 16.0558,  2.8901,  6.4666, 12.3374, 11.5678,  7.1342,\n",
       "         10.1036, 16.4003],\n",
       "        [20.0383,  4.9744, 13.4483, 11.8283, 13.1094, 14.5962, 16.2507, 10.9609,\n",
       "          9.4372,  7.1187],\n",
       "        [12.3617, 13.4005,  6.4126, 12.8242, 17.7334, 14.0835,  8.6756,  9.2994,\n",
       "          9.1427,  9.5087],\n",
       "        [11.3196,  8.8221, 20.2851,  6.0830,  8.8054,  8.1989,  7.9841, 11.1879,\n",
       "          9.1439,  5.8132]])"
      ]
     },
     "execution_count": 10,
     "metadata": {},
     "output_type": "execute_result"
    }
   ],
   "source": [
    "(A[..., None, :] @ A[..., None]).squeeze()"
   ]
  },
  {
   "cell_type": "code",
   "execution_count": 11,
   "id": "444e4b05-41de-4758-b572-cd09ac256e71",
   "metadata": {},
   "outputs": [
    {
     "data": {
      "text/plain": [
       "True"
      ]
     },
     "execution_count": 11,
     "metadata": {},
     "output_type": "execute_result"
    }
   ],
   "source": [
    "torch.allclose(\n",
    "    torch.einsum(\"...ij,...ij->...\", A, A),\n",
    "    (A[..., None, :] @ A[..., None]).squeeze().sum(dim=1)\n",
    ")"
   ]
  },
  {
   "cell_type": "code",
   "execution_count": null,
   "id": "5e364a67-16ef-4fae-a91d-ca518177191e",
   "metadata": {},
   "outputs": [],
   "source": []
  }
 ],
 "metadata": {
  "kernelspec": {
   "display_name": "Python 3 (ipykernel)",
   "language": "python",
   "name": "python3"
  },
  "language_info": {
   "codemirror_mode": {
    "name": "ipython",
    "version": 3
   },
   "file_extension": ".py",
   "mimetype": "text/x-python",
   "name": "python",
   "nbconvert_exporter": "python",
   "pygments_lexer": "ipython3",
   "version": "3.12.0"
  }
 },
 "nbformat": 4,
 "nbformat_minor": 5
}
