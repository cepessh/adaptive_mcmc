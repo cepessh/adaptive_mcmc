{
 "cells": [
  {
   "cell_type": "code",
   "execution_count": 14,
   "id": "ca26255f-94fa-4cca-aafa-7244110bb174",
   "metadata": {},
   "outputs": [],
   "source": [
    "from copy import deepcopy\n",
    "import tqdm\n",
    "\n",
    "import jax.numpy as jnp\n",
    "import matplotlib.pyplot as plt\n",
    "import pandas as pd\n",
    "import torch\n",
    "\n",
    "from adaptive_mcmc.distributions.distribution import GaussianMixture\n",
    "from adaptive_mcmc.samplers import base_sampler, mala, fishermala\n",
    "from adaptive_mcmc.samplers.stopping_rule import TVStop, NoStop\n",
    "from adaptive_mcmc.tools.benchmark import BenchmarkUtils, Benchmark"
   ]
  },
  {
   "cell_type": "code",
   "execution_count": 15,
   "id": "1f316835-2bc2-4e0c-97fd-5143e78232e2",
   "metadata": {},
   "outputs": [],
   "source": [
    "seed = 123\n",
    "torch.manual_seed(seed)\n",
    "\n",
    "device = \"cpu\"\n",
    "\n",
    "hparams = {\n",
    "    \"mala\": mala.MALAParams(\n",
    "        sigma=1.0,\n",
    "        sigma_lr=0.015,\n",
    "        target_acceptance=0.574,\n",
    "        device=device,\n",
    "    ),\n",
    "    \"fisher_mala\": fishermala.FisherMALAParams(dampening=10.)\n",
    "}"
   ]
  },
  {
   "cell_type": "code",
   "execution_count": 16,
   "id": "b8ddf396-4588-424f-8a60-ce9af4ede051",
   "metadata": {},
   "outputs": [
    {
     "data": {
      "application/vnd.jupyter.widget-view+json": {
       "model_id": "d9814c828b274ad486b9a7b2eebc9e69",
       "version_major": 2,
       "version_minor": 0
      },
      "text/plain": [
       "  0%|          | 0/1 [00:00<?, ?it/s]"
      ]
     },
     "metadata": {},
     "output_type": "display_data"
    },
    {
     "name": "stdout",
     "output_type": "stream",
     "text": [
      "Processing dimension 25\n",
      "--------------------------------------------------------------------------------\n",
      "Running FisherMALA\n",
      "number of blocks: 3\n",
      "processing block: 1\n"
     ]
    },
    {
     "data": {
      "application/vnd.jupyter.widget-view+json": {
       "model_id": "3cbb5009244c40ad8b06e66add7a2293",
       "version_major": 2,
       "version_minor": 0
      },
      "text/plain": [
       "  0%|          | 0/500 [00:00<?, ?it/s]"
      ]
     },
     "metadata": {},
     "output_type": "display_data"
    },
    {
     "name": "stdout",
     "output_type": "stream",
     "text": [
      "processing block: 2\n"
     ]
    },
    {
     "data": {
      "application/vnd.jupyter.widget-view+json": {
       "model_id": "0cd933bdde3d40f081e5d95f82a2d958",
       "version_major": 2,
       "version_minor": 0
      },
      "text/plain": [
       "  0%|          | 0/500 [00:00<?, ?it/s]"
      ]
     },
     "metadata": {},
     "output_type": "display_data"
    },
    {
     "name": "stdout",
     "output_type": "stream",
     "text": [
      "processing block: 3\n"
     ]
    },
    {
     "data": {
      "application/vnd.jupyter.widget-view+json": {
       "model_id": "aad9dc1cdb444bb9881cd2703a2834c8",
       "version_major": 2,
       "version_minor": 0
      },
      "text/plain": [
       "  0%|          | 0/2000 [00:00<?, ?it/s]"
      ]
     },
     "metadata": {},
     "output_type": "display_data"
    },
    {
     "name": "stdout",
     "output_type": "stream",
     "text": [
      "Runtime: 71.92s\n",
      "--------------------------------------------------------------------------------\n",
      "Running MALA\n",
      "number of blocks: 2\n",
      "processing block: 1\n"
     ]
    },
    {
     "data": {
      "application/vnd.jupyter.widget-view+json": {
       "model_id": "75456c839a0e46dcad7a2525b15fb69d",
       "version_major": 2,
       "version_minor": 0
      },
      "text/plain": [
       "  0%|          | 0/1000 [00:00<?, ?it/s]"
      ]
     },
     "metadata": {},
     "output_type": "display_data"
    },
    {
     "name": "stdout",
     "output_type": "stream",
     "text": [
      "processing block: 2\n"
     ]
    },
    {
     "data": {
      "application/vnd.jupyter.widget-view+json": {
       "model_id": "086336a6677946d79a9b0979fe87e583",
       "version_major": 2,
       "version_minor": 0
      },
      "text/plain": [
       "  0%|          | 0/2000 [00:00<?, ?it/s]"
      ]
     },
     "metadata": {},
     "output_type": "display_data"
    },
    {
     "name": "stdout",
     "output_type": "stream",
     "text": [
      "Runtime: 66.09s\n",
      "\n"
     ]
    }
   ],
   "source": [
    "chain_count = 25\n",
    "dimensions = [25] #, 5, 10, 100, 10]\n",
    "gaussian_count = 25\n",
    "distance_to_mass_points = 1.\n",
    "tv_threshold = 0.05\n",
    "sample_count = 1000\n",
    "sample_iter_limit = 2000\n",
    "burn_in_iter_count = 1000\n",
    "probe_period = 250\n",
    "cube = 1.\n",
    "tail_count_cap = 1000\n",
    "\n",
    "# stopping_rule = TVStop(threshold=tv_threshold, density_probe_count=1000,\n",
    "#                        projection_count=25, tail_count_cap=tail_count_cap)\n",
    "\n",
    "stopping_rule = NoStop(density_probe_count=500,\n",
    "                       projection_count=25, tail_count_cap=tail_count_cap)\n",
    "\n",
    "algs = {\n",
    "    \"fisher_mala\": fishermala.FisherMALAVanilla(\n",
    "        pipeline=None,\n",
    "        name=\"FisherMALA\",\n",
    "        sigma_burn_in_params=hparams[\"fisher_mala\"].copy(),\n",
    "        sigma_burn_in_iter_count=500,\n",
    "        prec_burn_in_params=hparams[\"fisher_mala\"].copy(),\n",
    "        prec_burn_in_iter_count=burn_in_iter_count - 500,\n",
    "        sample_iter_count=sample_iter_limit,\n",
    "        stopping_rule=stopping_rule,\n",
    "        probe_period=probe_period\n",
    "    ),\n",
    "    \"mala\": mala.MALAVanilla(\n",
    "        pipeline=None,\n",
    "        name=\"MALA\",\n",
    "        sigma_burn_in_params=hparams[\"mala\"].copy(),\n",
    "        sigma_burn_in_iter_count=burn_in_iter_count,\n",
    "        sample_iter_count=sample_iter_limit,\n",
    "        stopping_rule=stopping_rule,\n",
    "        probe_period=probe_period\n",
    "    ),\n",
    "}\n",
    "\n",
    "hist_data = {}\n",
    "runtime = {\n",
    "    dimension: dict()\n",
    "    for dimension in dimensions\n",
    "}\n",
    "pure_runtime = deepcopy(runtime)\n",
    "\n",
    "for dimension in tqdm.notebook.tqdm(dimensions):\n",
    "    print(\"Processing dimension\", dimension)\n",
    "    hist_data[dimension] = {}\n",
    "\n",
    "    true_means = torch.rand((gaussian_count, dimension)) * cube - cube / 2\n",
    "    true_covs = torch.rand((gaussian_count, dimension, dimension))\n",
    "    true_covs = (\n",
    "        true_covs @ true_covs.permute(0, 2, 1) +\n",
    "        torch.eye(dimension).repeat(gaussian_count, 1, 1)\n",
    "    )\n",
    "\n",
    "    gm = GaussianMixture(\n",
    "        true_means,\n",
    "        true_covs,\n",
    "        torch.full((gaussian_count,), 1/gaussian_count, dtype=torch.float64)\n",
    "    )\n",
    "\n",
    "    starting_points = BenchmarkUtils.generate_starting_points(\n",
    "        chain_count, dimension,\n",
    "        true_means,\n",
    "        distance_to_mass_points,\n",
    "    )\n",
    "    true_samples = gm.sample(sample_count)\n",
    "\n",
    "    params = base_sampler.Params(\n",
    "        target_dist=gm,\n",
    "        starting_point=starting_points,\n",
    "        proposal_dist=torch.distributions.MultivariateNormal(\n",
    "            torch.zeros(dimension, device=device),\n",
    "            torch.eye(dimension, device=device),\n",
    "        ),\n",
    "    )\n",
    "\n",
    "    for alg in algs:\n",
    "        print(\"-\" * 80)\n",
    "        base_meta_adj = hparams[alg].copy_update(params)\n",
    "        base_meta_adj.sigma /= dimension\n",
    "\n",
    "        algs[alg].load_params(base_meta_adj)\n",
    "        algs[alg].load_true_samples(true_samples)\n",
    "        algs[alg].run()\n",
    "\n",
    "        hist_data[dimension][alg] = [\n",
    "            algs[alg].pipeline.sample_blocks[-1].iteration.cache,\n",
    "            algs[alg].pipeline.sample_blocks[-1].stop_data_hist\n",
    "        ]\n",
    "        runtime[dimension][alg] = algs[alg].pipeline.runtime\n",
    "        pure_runtime[dimension][alg] = algs[alg].pipeline.pure_runtime\n",
    "    print()"
   ]
  },
  {
   "cell_type": "code",
   "execution_count": 4,
   "id": "cb166a5b-973b-4681-8a27-a8ab80279ede",
   "metadata": {},
   "outputs": [],
   "source": [
    "tv_threshold = 0.05"
   ]
  },
  {
   "cell_type": "code",
   "execution_count": 17,
   "id": "35f27e81-e102-4496-9304-c72eb6dd1613",
   "metadata": {},
   "outputs": [
    {
     "data": {
      "text/plain": [
       "{25: {'fisher_mala': 6.906174449075479, 'mala': 2.928243918970111}}"
      ]
     },
     "execution_count": 17,
     "metadata": {},
     "output_type": "execute_result"
    }
   ],
   "source": [
    "pure_runtime"
   ]
  },
  {
   "cell_type": "code",
   "execution_count": 18,
   "id": "55a62015-e364-4cca-a061-20e569039223",
   "metadata": {},
   "outputs": [
    {
     "data": {
      "text/plain": [
       "{25: {'fisher_mala': 71.9247194930067, 'mala': 66.08847068899195}}"
      ]
     },
     "execution_count": 18,
     "metadata": {},
     "output_type": "execute_result"
    }
   ],
   "source": [
    "runtime"
   ]
  },
  {
   "cell_type": "code",
   "execution_count": null,
   "id": "10129bb9-fa3b-450b-8a18-120fe2b82ee0",
   "metadata": {},
   "outputs": [],
   "source": [
    "fig, axes = plt.subplots(\n",
    "    nrows=len(dimensions),\n",
    "    ncols=2,\n",
    "    figsize=(13, 4 * len(dimensions),)\n",
    ")\n",
    "fig.suptitle(\n",
    "    f\"at most {tail_count_cap} last samples, burn-in={burn_in_iter_count}, \"\n",
    "    f\"chain_count={chain_count}, \"\n",
    "    f\"TV threshold={tv_threshold}\\n\" +\n",
    "    f\"mixture of {gaussian_count} gaussians with \"\n",
    "    \"random means and covariance matrices\"\n",
    ")\n",
    "\n",
    "for dim_ind in range(len(dimensions)):\n",
    "    for alg_ind, alg in enumerate(algs.keys()):\n",
    "\n",
    "        ticks_count = len(hist_data[dimensions[dim_ind]][alg][1])\n",
    "        xticks = probe_period * jnp.arange(1, ticks_count + 1)\n",
    "\n",
    "        axes[dim_ind, alg_ind].plot(\n",
    "            xticks,\n",
    "            [\n",
    "                entry[\"tv_mean\"]\n",
    "                for entry in hist_data[dimensions[dim_ind]][alg][1]\n",
    "            ],\n",
    "            label=\"TV mean\"\n",
    "        )\n",
    "        axes[dim_ind, alg_ind].fill_between(\n",
    "            xticks,\n",
    "            [\n",
    "                entry[\"tv_mean\"] - 2 * entry[\"tv_std\"]\n",
    "                for entry in hist_data[dimensions[dim_ind]][alg][1]\n",
    "            ],\n",
    "            [\n",
    "                entry[\"tv_mean\"] + 2 * entry[\"tv_std\"]\n",
    "                for entry in hist_data[dimensions[dim_ind]][alg][1]\n",
    "            ],\n",
    "            alpha=0.1,\n",
    "            label=\"95% CI\"\n",
    "        )\n",
    "        axes[dim_ind, alg_ind].axhline(tv_threshold, color=\"r\", linestyle=\"dashed\")\n",
    "        axes[dim_ind, alg_ind].set_title(f\"{alg}, dim={dimensions[dim_ind]}\")\n",
    "        if dim_ind + 1 == len(dimensions):\n",
    "            axes[dim_ind, alg_ind].set_xlabel(\"iteration\")\n",
    "        axes[dim_ind, alg_ind].set_ylabel(\"TV\")\n",
    "        axes[dim_ind, alg_ind].legend()"
   ]
  },
  {
   "cell_type": "code",
   "execution_count": 6,
   "id": "38f21c2f-86ef-45ca-aa03-e2644403de6d",
   "metadata": {},
   "outputs": [
    {
     "data": {
      "text/plain": [
       "{'ess': np.float32(0.02423551),\n",
       " 'tv_mean': Array(0.0663571, dtype=float32),\n",
       " 'tv_conf_sigma': Array(0.02291152, dtype=float32),\n",
       " 'wasserstein': 92.98846060403919}"
      ]
     },
     "execution_count": 6,
     "metadata": {},
     "output_type": "execute_result"
    }
   ],
   "source": [
    "BenchmarkUtils.compute_metrics(\n",
    "    algs[\"fisher_mala\"].pipeline.sample_blocks[-1].iteration.cache.samples,\n",
    "    algs[\"fisher_mala\"].pipeline.sample_blocks[-1].iteration.cache.true_samples\n",
    ")"
   ]
  },
  {
   "cell_type": "code",
   "execution_count": 7,
   "id": "066c017e-5852-4485-8913-e487264f3ebb",
   "metadata": {},
   "outputs": [
    {
     "data": {
      "text/plain": [
       "{'ess': np.float32(0.009141211),\n",
       " 'tv_mean': Array(0.13868047, dtype=float32),\n",
       " 'tv_conf_sigma': Array(0.08825408, dtype=float32),\n",
       " 'wasserstein': 137.271832968655}"
      ]
     },
     "execution_count": 7,
     "metadata": {},
     "output_type": "execute_result"
    }
   ],
   "source": [
    "BenchmarkUtils.compute_metrics(\n",
    "    algs[\"mala\"].pipeline.sample_blocks[-1].iteration.cache.samples,\n",
    "    algs[\"mala\"].pipeline.sample_blocks[-1].iteration.cache.true_samples\n",
    ")"
   ]
  },
  {
   "cell_type": "markdown",
   "id": "567fa5c1-48cc-4472-bde8-0538aae1cc17",
   "metadata": {},
   "source": [
    "### Reference"
   ]
  },
  {
   "cell_type": "code",
   "execution_count": 8,
   "id": "f414f8fd-3fe3-4eef-aa49-4dfd95883327",
   "metadata": {},
   "outputs": [
    {
     "data": {
      "text/plain": [
       "{'ess': np.float32(0.06777337),\n",
       " 'tv_mean': Array(0.08048456, dtype=float32),\n",
       " 'tv_conf_sigma': Array(0.02950848, dtype=float32),\n",
       " 'wasserstein': 14.736303207718791}"
      ]
     },
     "execution_count": 8,
     "metadata": {},
     "output_type": "execute_result"
    }
   ],
   "source": [
    "BenchmarkUtils.compute_metrics(\n",
    "    algs[\"fisher_mala\"].pipeline.sample_blocks[-1].iteration.cache.samples,\n",
    "    algs[\"fisher_mala\"].pipeline.sample_blocks[-1].iteration.cache.true_samples\n",
    ")"
   ]
  },
  {
   "cell_type": "code",
   "execution_count": 9,
   "id": "44757f5e-3a5f-4c3f-b7b6-36c68f06dd9d",
   "metadata": {},
   "outputs": [
    {
     "data": {
      "text/plain": [
       "{'ess': np.float32(0.03398408),\n",
       " 'tv_mean': Array(0.1385354, dtype=float32),\n",
       " 'tv_conf_sigma': Array(0.06926993, dtype=float32),\n",
       " 'wasserstein': 21.141160609177447}"
      ]
     },
     "execution_count": 9,
     "metadata": {},
     "output_type": "execute_result"
    }
   ],
   "source": [
    "BenchmarkUtils.compute_metrics(\n",
    "    algs[\"mala\"].pipeline.sample_blocks[-1].iteration.cache.samples,\n",
    "    algs[\"mala\"].pipeline.sample_blocks[-1].iteration.cache.true_samples\n",
    ")"
   ]
  },
  {
   "cell_type": "code",
   "execution_count": null,
   "id": "29986617-b060-4792-bb57-e15a25180140",
   "metadata": {},
   "outputs": [],
   "source": []
  }
 ],
 "metadata": {
  "kernelspec": {
   "display_name": "Python 3 (ipykernel)",
   "language": "python",
   "name": "python3"
  },
  "language_info": {
   "codemirror_mode": {
    "name": "ipython",
    "version": 3
   },
   "file_extension": ".py",
   "mimetype": "text/x-python",
   "name": "python",
   "nbconvert_exporter": "python",
   "pygments_lexer": "ipython3",
   "version": "3.12.0"
  }
 },
 "nbformat": 4,
 "nbformat_minor": 5
}
